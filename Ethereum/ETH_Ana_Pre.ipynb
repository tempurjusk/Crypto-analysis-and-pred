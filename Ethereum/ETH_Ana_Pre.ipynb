{
 "cells": [
  {
   "cell_type": "code",
   "execution_count": 1,
   "id": "1c8da167",
   "metadata": {
    "execution": {
     "iopub.execute_input": "2021-08-25T15:25:27.782935Z",
     "iopub.status.busy": "2021-08-25T15:25:27.782308Z",
     "iopub.status.idle": "2021-08-25T15:25:35.581250Z",
     "shell.execute_reply": "2021-08-25T15:25:35.581774Z",
     "shell.execute_reply.started": "2021-08-25T14:39:09.654385Z"
    },
    "papermill": {
     "duration": 7.892655,
     "end_time": "2021-08-25T15:25:35.582092",
     "exception": false,
     "start_time": "2021-08-25T15:25:27.689437",
     "status": "completed"
    },
    "tags": []
   },
   "outputs": [],
   "source": [
    "# First we will import the necessary Library \n",
    "\n",
    "import os\n",
    "import pandas as pd\n",
    "import numpy as np\n",
    "import math\n",
    "from datetime import datetime\n",
    "from dateutil.relativedelta import relativedelta\n",
    "import yfinance as yf\n",
    "\n",
    "# For Evalution we will use these library\n",
    "\n",
    "from sklearn.metrics import mean_squared_error, mean_absolute_error, explained_variance_score, r2_score \n",
    "from sklearn.metrics import mean_poisson_deviance, mean_gamma_deviance, accuracy_score\n",
    "from sklearn.preprocessing import MinMaxScaler\n",
    "\n",
    "# For model building we will use these library\n",
    "\n",
    "import tensorflow as tf\n",
    "from tensorflow.keras.models import Sequential\n",
    "from tensorflow.keras.layers import Dense, Dropout\n",
    "from tensorflow.keras.layers import LSTM\n",
    "\n",
    "\n",
    "# For PLotting we will use these library\n",
    "\n",
    "import matplotlib.pyplot as plt\n",
    "from itertools import cycle\n",
    "import plotly.graph_objects as go\n",
    "import plotly.express as px\n",
    "from plotly.subplots import make_subplots\n",
    "\n"
   ]
  },
  {
   "cell_type": "code",
   "execution_count": 2,
   "id": "ebf61949",
   "metadata": {
    "execution": {
     "iopub.execute_input": "2021-08-25T15:25:35.899702Z",
     "iopub.status.busy": "2021-08-25T15:25:35.899097Z",
     "iopub.status.idle": "2021-08-25T15:25:35.933510Z",
     "shell.execute_reply": "2021-08-25T15:25:35.934033Z",
     "shell.execute_reply.started": "2021-08-25T14:39:17.453368Z"
    },
    "papermill": {
     "duration": 0.117711,
     "end_time": "2021-08-25T15:25:35.934307",
     "exception": false,
     "start_time": "2021-08-25T15:25:35.816596",
     "status": "completed"
    },
    "tags": []
   },
   "outputs": [
    {
     "data": {
      "text/plain": [
       "'2022-12-29'"
      ]
     },
     "execution_count": 2,
     "metadata": {},
     "output_type": "execute_result"
    }
   ],
   "source": [
    "today = datetime.today().strftime('%Y-%m-%d')\n",
    "today\n"
   ]
  },
  {
   "cell_type": "code",
   "execution_count": 3,
   "id": "7c5ae1b3",
   "metadata": {},
   "outputs": [
    {
     "data": {
      "text/plain": [
       "'2015-01-01'"
      ]
     },
     "execution_count": 3,
     "metadata": {},
     "output_type": "execute_result"
    }
   ],
   "source": [
    "stockStartDate = ('2015-01-01')\n",
    "stockStartDate"
   ]
  },
  {
   "cell_type": "code",
   "execution_count": 4,
   "id": "4158eb0c",
   "metadata": {},
   "outputs": [
    {
     "name": "stdout",
     "output_type": "stream",
     "text": [
      "[*********************100%***********************]  1 of 1 completed\n"
     ]
    }
   ],
   "source": [
    "maindf = yf.download('ETH-USD', start= stockStartDate, end= today)\n",
    "maindf.to_csv('ethereum.csv')"
   ]
  },
  {
   "cell_type": "code",
   "execution_count": 5,
   "id": "03ce9ea2",
   "metadata": {},
   "outputs": [],
   "source": [
    "maindf = pd.read_csv('ethereum.csv')"
   ]
  },
  {
   "cell_type": "code",
   "execution_count": 6,
   "id": "77ad4b2c",
   "metadata": {
    "execution": {
     "iopub.execute_input": "2021-08-25T15:25:36.097449Z",
     "iopub.status.busy": "2021-08-25T15:25:36.096726Z",
     "iopub.status.idle": "2021-08-25T15:25:36.100297Z",
     "shell.execute_reply": "2021-08-25T15:25:36.100783Z",
     "shell.execute_reply.started": "2021-08-25T14:39:17.488721Z"
    },
    "papermill": {
     "duration": 0.087042,
     "end_time": "2021-08-25T15:25:36.100939",
     "exception": false,
     "start_time": "2021-08-25T15:25:36.013897",
     "status": "completed"
    },
    "tags": []
   },
   "outputs": [
    {
     "name": "stdout",
     "output_type": "stream",
     "text": [
      "Total number of days present in the dataset:  1876\n",
      "Total number of fields present in the dataset:  7\n"
     ]
    },
    {
     "data": {
      "text/plain": [
       "(1876, 7)"
      ]
     },
     "execution_count": 6,
     "metadata": {},
     "output_type": "execute_result"
    }
   ],
   "source": [
    "print('Total number of days present in the dataset: ',maindf.shape[0])\n",
    "print('Total number of fields present in the dataset: ',maindf.shape[1])\n",
    "maindf.shape"
   ]
  },
  {
   "cell_type": "code",
   "execution_count": 7,
   "id": "fe302090",
   "metadata": {
    "execution": {
     "iopub.execute_input": "2021-08-25T15:25:38.790271Z",
     "iopub.status.busy": "2021-08-25T15:25:38.789297Z",
     "iopub.status.idle": "2021-08-25T15:25:38.794586Z",
     "shell.execute_reply": "2021-08-25T15:25:38.793832Z",
     "shell.execute_reply.started": "2021-08-25T14:39:17.710441Z"
    },
    "papermill": {
     "duration": 0.093686,
     "end_time": "2021-08-25T15:25:38.794779",
     "exception": false,
     "start_time": "2021-08-25T15:25:38.701093",
     "status": "completed"
    },
    "tags": []
   },
   "outputs": [
    {
     "name": "stdout",
     "output_type": "stream",
     "text": [
      "Starting Date 2017-11-09\n",
      "Ending Date 2022-12-28\n"
     ]
    }
   ],
   "source": [
    "# Printing the start date and End date of the dataset\n",
    "\n",
    "sd=maindf.iloc[0][0]\n",
    "ed=maindf.iloc[-1][0]\n",
    "\n",
    "\n",
    "print('Starting Date',sd)\n",
    "print('Ending Date',ed)\n"
   ]
  },
  {
   "cell_type": "markdown",
   "id": "ceefa334",
   "metadata": {
    "papermill": {
     "duration": 0.103009,
     "end_time": "2021-08-25T15:25:48.967310",
     "exception": false,
     "start_time": "2021-08-25T15:25:48.864301",
     "status": "completed"
    },
    "tags": []
   },
   "source": [
    "# Analysis of Year 2021"
   ]
  },
  {
   "cell_type": "code",
   "execution_count": 8,
   "id": "e1495422",
   "metadata": {
    "execution": {
     "iopub.execute_input": "2021-08-25T15:25:49.205876Z",
     "iopub.status.busy": "2021-08-25T15:25:49.204998Z",
     "iopub.status.idle": "2021-08-25T15:25:49.209506Z",
     "shell.execute_reply": "2021-08-25T15:25:49.208945Z",
     "shell.execute_reply.started": "2021-08-25T14:39:20.558198Z"
    },
    "papermill": {
     "duration": 0.134257,
     "end_time": "2021-08-25T15:25:49.209643",
     "exception": false,
     "start_time": "2021-08-25T15:25:49.075386",
     "status": "completed"
    },
    "tags": []
   },
   "outputs": [
    {
     "data": {
      "text/html": [
       "<div>\n",
       "<style scoped>\n",
       "    .dataframe tbody tr th:only-of-type {\n",
       "        vertical-align: middle;\n",
       "    }\n",
       "\n",
       "    .dataframe tbody tr th {\n",
       "        vertical-align: top;\n",
       "    }\n",
       "\n",
       "    .dataframe thead th {\n",
       "        text-align: right;\n",
       "    }\n",
       "</style>\n",
       "<table border=\"1\" class=\"dataframe\">\n",
       "  <thead>\n",
       "    <tr style=\"text-align: right;\">\n",
       "      <th></th>\n",
       "      <th>Date</th>\n",
       "      <th>Open</th>\n",
       "      <th>High</th>\n",
       "      <th>Low</th>\n",
       "      <th>Close</th>\n",
       "    </tr>\n",
       "  </thead>\n",
       "  <tbody>\n",
       "    <tr>\n",
       "      <th>1149</th>\n",
       "      <td>2021-01-01</td>\n",
       "      <td>737.708374</td>\n",
       "      <td>749.201843</td>\n",
       "      <td>719.792236</td>\n",
       "      <td>730.367554</td>\n",
       "    </tr>\n",
       "    <tr>\n",
       "      <th>1150</th>\n",
       "      <td>2021-01-02</td>\n",
       "      <td>730.402649</td>\n",
       "      <td>786.798462</td>\n",
       "      <td>718.109497</td>\n",
       "      <td>774.534973</td>\n",
       "    </tr>\n",
       "    <tr>\n",
       "      <th>1151</th>\n",
       "      <td>2021-01-03</td>\n",
       "      <td>774.511841</td>\n",
       "      <td>1006.565002</td>\n",
       "      <td>771.561646</td>\n",
       "      <td>975.507690</td>\n",
       "    </tr>\n",
       "    <tr>\n",
       "      <th>1152</th>\n",
       "      <td>2021-01-04</td>\n",
       "      <td>977.058838</td>\n",
       "      <td>1153.189209</td>\n",
       "      <td>912.305359</td>\n",
       "      <td>1040.233032</td>\n",
       "    </tr>\n",
       "    <tr>\n",
       "      <th>1153</th>\n",
       "      <td>2021-01-05</td>\n",
       "      <td>1041.498779</td>\n",
       "      <td>1129.371460</td>\n",
       "      <td>986.811279</td>\n",
       "      <td>1100.006104</td>\n",
       "    </tr>\n",
       "    <tr>\n",
       "      <th>...</th>\n",
       "      <td>...</td>\n",
       "      <td>...</td>\n",
       "      <td>...</td>\n",
       "      <td>...</td>\n",
       "      <td>...</td>\n",
       "    </tr>\n",
       "    <tr>\n",
       "      <th>1508</th>\n",
       "      <td>2021-12-26</td>\n",
       "      <td>4094.151611</td>\n",
       "      <td>4105.023926</td>\n",
       "      <td>4013.026367</td>\n",
       "      <td>4067.328125</td>\n",
       "    </tr>\n",
       "    <tr>\n",
       "      <th>1509</th>\n",
       "      <td>2021-12-27</td>\n",
       "      <td>4064.746338</td>\n",
       "      <td>4126.001465</td>\n",
       "      <td>4033.492432</td>\n",
       "      <td>4037.547607</td>\n",
       "    </tr>\n",
       "    <tr>\n",
       "      <th>1510</th>\n",
       "      <td>2021-12-28</td>\n",
       "      <td>4037.538086</td>\n",
       "      <td>4037.538086</td>\n",
       "      <td>3769.280029</td>\n",
       "      <td>3800.893066</td>\n",
       "    </tr>\n",
       "    <tr>\n",
       "      <th>1511</th>\n",
       "      <td>2021-12-29</td>\n",
       "      <td>3797.436279</td>\n",
       "      <td>3827.981934</td>\n",
       "      <td>3612.795898</td>\n",
       "      <td>3628.531738</td>\n",
       "    </tr>\n",
       "    <tr>\n",
       "      <th>1512</th>\n",
       "      <td>2021-12-30</td>\n",
       "      <td>3632.219727</td>\n",
       "      <td>3767.559814</td>\n",
       "      <td>3595.204834</td>\n",
       "      <td>3713.852051</td>\n",
       "    </tr>\n",
       "  </tbody>\n",
       "</table>\n",
       "<p>364 rows × 5 columns</p>\n",
       "</div>"
      ],
      "text/plain": [
       "           Date         Open         High          Low        Close\n",
       "1149 2021-01-01   737.708374   749.201843   719.792236   730.367554\n",
       "1150 2021-01-02   730.402649   786.798462   718.109497   774.534973\n",
       "1151 2021-01-03   774.511841  1006.565002   771.561646   975.507690\n",
       "1152 2021-01-04   977.058838  1153.189209   912.305359  1040.233032\n",
       "1153 2021-01-05  1041.498779  1129.371460   986.811279  1100.006104\n",
       "...         ...          ...          ...          ...          ...\n",
       "1508 2021-12-26  4094.151611  4105.023926  4013.026367  4067.328125\n",
       "1509 2021-12-27  4064.746338  4126.001465  4033.492432  4037.547607\n",
       "1510 2021-12-28  4037.538086  4037.538086  3769.280029  3800.893066\n",
       "1511 2021-12-29  3797.436279  3827.981934  3612.795898  3628.531738\n",
       "1512 2021-12-30  3632.219727  3767.559814  3595.204834  3713.852051\n",
       "\n",
       "[364 rows x 5 columns]"
      ]
     },
     "execution_count": 8,
     "metadata": {},
     "output_type": "execute_result"
    }
   ],
   "source": [
    "maindf['Date'] = pd.to_datetime(maindf['Date'], format='%Y-%m-%d')\n",
    "\n",
    "y_2021 = maindf.loc[(maindf['Date'] >= '2021-01-01')\n",
    "                     & (maindf['Date'] < '2021-12-31')]\n",
    "\n",
    "y_2021.drop(y_2021[['Adj Close','Volume']],axis=1)"
   ]
  },
  {
   "cell_type": "code",
   "execution_count": 9,
   "id": "2af06f1d",
   "metadata": {
    "execution": {
     "iopub.execute_input": "2021-08-25T15:25:49.441805Z",
     "iopub.status.busy": "2021-08-25T15:25:49.440895Z",
     "iopub.status.idle": "2021-08-25T15:25:49.444823Z",
     "shell.execute_reply": "2021-08-25T15:25:49.444356Z",
     "shell.execute_reply.started": "2021-08-25T14:39:20.587096Z"
    },
    "papermill": {
     "duration": 0.128109,
     "end_time": "2021-08-25T15:25:49.444948",
     "exception": false,
     "start_time": "2021-08-25T15:25:49.316839",
     "status": "completed"
    },
    "tags": []
   },
   "outputs": [
    {
     "data": {
      "text/html": [
       "<div>\n",
       "<style scoped>\n",
       "    .dataframe tbody tr th:only-of-type {\n",
       "        vertical-align: middle;\n",
       "    }\n",
       "\n",
       "    .dataframe tbody tr th {\n",
       "        vertical-align: top;\n",
       "    }\n",
       "\n",
       "    .dataframe thead th {\n",
       "        text-align: right;\n",
       "    }\n",
       "</style>\n",
       "<table border=\"1\" class=\"dataframe\">\n",
       "  <thead>\n",
       "    <tr style=\"text-align: right;\">\n",
       "      <th></th>\n",
       "      <th>Open</th>\n",
       "      <th>Close</th>\n",
       "    </tr>\n",
       "    <tr>\n",
       "      <th>Date</th>\n",
       "      <th></th>\n",
       "      <th></th>\n",
       "    </tr>\n",
       "  </thead>\n",
       "  <tbody>\n",
       "    <tr>\n",
       "      <th>January</th>\n",
       "      <td>1184.997553</td>\n",
       "      <td>1202.502802</td>\n",
       "    </tr>\n",
       "    <tr>\n",
       "      <th>February</th>\n",
       "      <td>1696.234375</td>\n",
       "      <td>1699.808921</td>\n",
       "    </tr>\n",
       "    <tr>\n",
       "      <th>March</th>\n",
       "      <td>1720.526655</td>\n",
       "      <td>1736.862222</td>\n",
       "    </tr>\n",
       "    <tr>\n",
       "      <th>April</th>\n",
       "      <td>2269.130294</td>\n",
       "      <td>2297.672754</td>\n",
       "    </tr>\n",
       "    <tr>\n",
       "      <th>May</th>\n",
       "      <td>3142.513688</td>\n",
       "      <td>3140.730760</td>\n",
       "    </tr>\n",
       "    <tr>\n",
       "      <th>June</th>\n",
       "      <td>2349.590800</td>\n",
       "      <td>2335.792391</td>\n",
       "    </tr>\n",
       "    <tr>\n",
       "      <th>July</th>\n",
       "      <td>2122.466194</td>\n",
       "      <td>2131.080362</td>\n",
       "    </tr>\n",
       "    <tr>\n",
       "      <th>August</th>\n",
       "      <td>3069.708630</td>\n",
       "      <td>3098.384939</td>\n",
       "    </tr>\n",
       "    <tr>\n",
       "      <th>September</th>\n",
       "      <td>3349.545020</td>\n",
       "      <td>3337.052686</td>\n",
       "    </tr>\n",
       "    <tr>\n",
       "      <th>October</th>\n",
       "      <td>3776.929798</td>\n",
       "      <td>3818.767996</td>\n",
       "    </tr>\n",
       "    <tr>\n",
       "      <th>November</th>\n",
       "      <td>4432.402661</td>\n",
       "      <td>4434.128711</td>\n",
       "    </tr>\n",
       "    <tr>\n",
       "      <th>December</th>\n",
       "      <td>4091.139168</td>\n",
       "      <td>4056.812801</td>\n",
       "    </tr>\n",
       "  </tbody>\n",
       "</table>\n",
       "</div>"
      ],
      "text/plain": [
       "                  Open        Close\n",
       "Date                               \n",
       "January    1184.997553  1202.502802\n",
       "February   1696.234375  1699.808921\n",
       "March      1720.526655  1736.862222\n",
       "April      2269.130294  2297.672754\n",
       "May        3142.513688  3140.730760\n",
       "June       2349.590800  2335.792391\n",
       "July       2122.466194  2131.080362\n",
       "August     3069.708630  3098.384939\n",
       "September  3349.545020  3337.052686\n",
       "October    3776.929798  3818.767996\n",
       "November   4432.402661  4434.128711\n",
       "December   4091.139168  4056.812801"
      ]
     },
     "execution_count": 9,
     "metadata": {},
     "output_type": "execute_result"
    }
   ],
   "source": [
    "monthvise= y_2021.groupby(y_2021['Date'].dt.strftime('%B'))[['Open','Close']].mean()\n",
    "new_order = ['January', 'February', 'March', 'April', 'May', 'June', 'July', 'August', \n",
    "             'September', 'October', 'November', 'December']\n",
    "monthvise = monthvise.reindex(new_order, axis=0)\n",
    "monthvise"
   ]
  },
  {
   "cell_type": "code",
   "execution_count": 10,
   "id": "5c9d96df",
   "metadata": {
    "execution": {
     "iopub.execute_input": "2021-08-25T15:25:49.892491Z",
     "iopub.status.busy": "2021-08-25T15:25:49.891846Z",
     "iopub.status.idle": "2021-08-25T15:25:49.896862Z",
     "shell.execute_reply": "2021-08-25T15:25:49.896251Z",
     "shell.execute_reply.started": "2021-08-25T14:39:20.617125Z"
    },
    "papermill": {
     "duration": 0.129345,
     "end_time": "2021-08-25T15:25:49.896989",
     "exception": false,
     "start_time": "2021-08-25T15:25:49.767644",
     "status": "completed"
    },
    "tags": []
   },
   "outputs": [
    {
     "data": {
      "application/vnd.plotly.v1+json": {
       "config": {
        "plotlyServerURL": "https://plot.ly"
       },
       "data": [
        {
         "marker": {
          "color": "crimson"
         },
         "name": "Open Price",
         "type": "bar",
         "x": [
          "January",
          "February",
          "March",
          "April",
          "May",
          "June",
          "July",
          "August",
          "September",
          "October",
          "November",
          "December"
         ],
         "y": [
          1184.997552687122,
          1696.234375,
          1720.5266546433973,
          2269.130293782552,
          3142.513687626008,
          2349.5907999674478,
          2122.4661943989418,
          3069.7086299773187,
          3349.54501953125,
          3776.9297977570563,
          4432.402661132813,
          4091.139168294271
         ]
        },
        {
         "marker": {
          "color": "lightsalmon"
         },
         "name": "Close Price",
         "type": "bar",
         "x": [
          "January",
          "February",
          "March",
          "April",
          "May",
          "June",
          "July",
          "August",
          "September",
          "October",
          "November",
          "December"
         ],
         "y": [
          1202.5028017105594,
          1699.8089207240514,
          1736.8622219947076,
          2297.67275390625,
          3140.730760143649,
          2335.7923909505207,
          2131.0803616431454,
          3098.3849388860885,
          3337.052685546875,
          3818.7679955267135,
          4434.1287109375,
          4056.8128011067706
         ]
        }
       ],
       "layout": {
        "barmode": "group",
        "template": {
         "data": {
          "bar": [
           {
            "error_x": {
             "color": "#2a3f5f"
            },
            "error_y": {
             "color": "#2a3f5f"
            },
            "marker": {
             "line": {
              "color": "#E5ECF6",
              "width": 0.5
             },
             "pattern": {
              "fillmode": "overlay",
              "size": 10,
              "solidity": 0.2
             }
            },
            "type": "bar"
           }
          ],
          "barpolar": [
           {
            "marker": {
             "line": {
              "color": "#E5ECF6",
              "width": 0.5
             },
             "pattern": {
              "fillmode": "overlay",
              "size": 10,
              "solidity": 0.2
             }
            },
            "type": "barpolar"
           }
          ],
          "carpet": [
           {
            "aaxis": {
             "endlinecolor": "#2a3f5f",
             "gridcolor": "white",
             "linecolor": "white",
             "minorgridcolor": "white",
             "startlinecolor": "#2a3f5f"
            },
            "baxis": {
             "endlinecolor": "#2a3f5f",
             "gridcolor": "white",
             "linecolor": "white",
             "minorgridcolor": "white",
             "startlinecolor": "#2a3f5f"
            },
            "type": "carpet"
           }
          ],
          "choropleth": [
           {
            "colorbar": {
             "outlinewidth": 0,
             "ticks": ""
            },
            "type": "choropleth"
           }
          ],
          "contour": [
           {
            "colorbar": {
             "outlinewidth": 0,
             "ticks": ""
            },
            "colorscale": [
             [
              0,
              "#0d0887"
             ],
             [
              0.1111111111111111,
              "#46039f"
             ],
             [
              0.2222222222222222,
              "#7201a8"
             ],
             [
              0.3333333333333333,
              "#9c179e"
             ],
             [
              0.4444444444444444,
              "#bd3786"
             ],
             [
              0.5555555555555556,
              "#d8576b"
             ],
             [
              0.6666666666666666,
              "#ed7953"
             ],
             [
              0.7777777777777778,
              "#fb9f3a"
             ],
             [
              0.8888888888888888,
              "#fdca26"
             ],
             [
              1,
              "#f0f921"
             ]
            ],
            "type": "contour"
           }
          ],
          "contourcarpet": [
           {
            "colorbar": {
             "outlinewidth": 0,
             "ticks": ""
            },
            "type": "contourcarpet"
           }
          ],
          "heatmap": [
           {
            "colorbar": {
             "outlinewidth": 0,
             "ticks": ""
            },
            "colorscale": [
             [
              0,
              "#0d0887"
             ],
             [
              0.1111111111111111,
              "#46039f"
             ],
             [
              0.2222222222222222,
              "#7201a8"
             ],
             [
              0.3333333333333333,
              "#9c179e"
             ],
             [
              0.4444444444444444,
              "#bd3786"
             ],
             [
              0.5555555555555556,
              "#d8576b"
             ],
             [
              0.6666666666666666,
              "#ed7953"
             ],
             [
              0.7777777777777778,
              "#fb9f3a"
             ],
             [
              0.8888888888888888,
              "#fdca26"
             ],
             [
              1,
              "#f0f921"
             ]
            ],
            "type": "heatmap"
           }
          ],
          "heatmapgl": [
           {
            "colorbar": {
             "outlinewidth": 0,
             "ticks": ""
            },
            "colorscale": [
             [
              0,
              "#0d0887"
             ],
             [
              0.1111111111111111,
              "#46039f"
             ],
             [
              0.2222222222222222,
              "#7201a8"
             ],
             [
              0.3333333333333333,
              "#9c179e"
             ],
             [
              0.4444444444444444,
              "#bd3786"
             ],
             [
              0.5555555555555556,
              "#d8576b"
             ],
             [
              0.6666666666666666,
              "#ed7953"
             ],
             [
              0.7777777777777778,
              "#fb9f3a"
             ],
             [
              0.8888888888888888,
              "#fdca26"
             ],
             [
              1,
              "#f0f921"
             ]
            ],
            "type": "heatmapgl"
           }
          ],
          "histogram": [
           {
            "marker": {
             "pattern": {
              "fillmode": "overlay",
              "size": 10,
              "solidity": 0.2
             }
            },
            "type": "histogram"
           }
          ],
          "histogram2d": [
           {
            "colorbar": {
             "outlinewidth": 0,
             "ticks": ""
            },
            "colorscale": [
             [
              0,
              "#0d0887"
             ],
             [
              0.1111111111111111,
              "#46039f"
             ],
             [
              0.2222222222222222,
              "#7201a8"
             ],
             [
              0.3333333333333333,
              "#9c179e"
             ],
             [
              0.4444444444444444,
              "#bd3786"
             ],
             [
              0.5555555555555556,
              "#d8576b"
             ],
             [
              0.6666666666666666,
              "#ed7953"
             ],
             [
              0.7777777777777778,
              "#fb9f3a"
             ],
             [
              0.8888888888888888,
              "#fdca26"
             ],
             [
              1,
              "#f0f921"
             ]
            ],
            "type": "histogram2d"
           }
          ],
          "histogram2dcontour": [
           {
            "colorbar": {
             "outlinewidth": 0,
             "ticks": ""
            },
            "colorscale": [
             [
              0,
              "#0d0887"
             ],
             [
              0.1111111111111111,
              "#46039f"
             ],
             [
              0.2222222222222222,
              "#7201a8"
             ],
             [
              0.3333333333333333,
              "#9c179e"
             ],
             [
              0.4444444444444444,
              "#bd3786"
             ],
             [
              0.5555555555555556,
              "#d8576b"
             ],
             [
              0.6666666666666666,
              "#ed7953"
             ],
             [
              0.7777777777777778,
              "#fb9f3a"
             ],
             [
              0.8888888888888888,
              "#fdca26"
             ],
             [
              1,
              "#f0f921"
             ]
            ],
            "type": "histogram2dcontour"
           }
          ],
          "mesh3d": [
           {
            "colorbar": {
             "outlinewidth": 0,
             "ticks": ""
            },
            "type": "mesh3d"
           }
          ],
          "parcoords": [
           {
            "line": {
             "colorbar": {
              "outlinewidth": 0,
              "ticks": ""
             }
            },
            "type": "parcoords"
           }
          ],
          "pie": [
           {
            "automargin": true,
            "type": "pie"
           }
          ],
          "scatter": [
           {
            "fillpattern": {
             "fillmode": "overlay",
             "size": 10,
             "solidity": 0.2
            },
            "type": "scatter"
           }
          ],
          "scatter3d": [
           {
            "line": {
             "colorbar": {
              "outlinewidth": 0,
              "ticks": ""
             }
            },
            "marker": {
             "colorbar": {
              "outlinewidth": 0,
              "ticks": ""
             }
            },
            "type": "scatter3d"
           }
          ],
          "scattercarpet": [
           {
            "marker": {
             "colorbar": {
              "outlinewidth": 0,
              "ticks": ""
             }
            },
            "type": "scattercarpet"
           }
          ],
          "scattergeo": [
           {
            "marker": {
             "colorbar": {
              "outlinewidth": 0,
              "ticks": ""
             }
            },
            "type": "scattergeo"
           }
          ],
          "scattergl": [
           {
            "marker": {
             "colorbar": {
              "outlinewidth": 0,
              "ticks": ""
             }
            },
            "type": "scattergl"
           }
          ],
          "scattermapbox": [
           {
            "marker": {
             "colorbar": {
              "outlinewidth": 0,
              "ticks": ""
             }
            },
            "type": "scattermapbox"
           }
          ],
          "scatterpolar": [
           {
            "marker": {
             "colorbar": {
              "outlinewidth": 0,
              "ticks": ""
             }
            },
            "type": "scatterpolar"
           }
          ],
          "scatterpolargl": [
           {
            "marker": {
             "colorbar": {
              "outlinewidth": 0,
              "ticks": ""
             }
            },
            "type": "scatterpolargl"
           }
          ],
          "scatterternary": [
           {
            "marker": {
             "colorbar": {
              "outlinewidth": 0,
              "ticks": ""
             }
            },
            "type": "scatterternary"
           }
          ],
          "surface": [
           {
            "colorbar": {
             "outlinewidth": 0,
             "ticks": ""
            },
            "colorscale": [
             [
              0,
              "#0d0887"
             ],
             [
              0.1111111111111111,
              "#46039f"
             ],
             [
              0.2222222222222222,
              "#7201a8"
             ],
             [
              0.3333333333333333,
              "#9c179e"
             ],
             [
              0.4444444444444444,
              "#bd3786"
             ],
             [
              0.5555555555555556,
              "#d8576b"
             ],
             [
              0.6666666666666666,
              "#ed7953"
             ],
             [
              0.7777777777777778,
              "#fb9f3a"
             ],
             [
              0.8888888888888888,
              "#fdca26"
             ],
             [
              1,
              "#f0f921"
             ]
            ],
            "type": "surface"
           }
          ],
          "table": [
           {
            "cells": {
             "fill": {
              "color": "#EBF0F8"
             },
             "line": {
              "color": "white"
             }
            },
            "header": {
             "fill": {
              "color": "#C8D4E3"
             },
             "line": {
              "color": "white"
             }
            },
            "type": "table"
           }
          ]
         },
         "layout": {
          "annotationdefaults": {
           "arrowcolor": "#2a3f5f",
           "arrowhead": 0,
           "arrowwidth": 1
          },
          "autotypenumbers": "strict",
          "coloraxis": {
           "colorbar": {
            "outlinewidth": 0,
            "ticks": ""
           }
          },
          "colorscale": {
           "diverging": [
            [
             0,
             "#8e0152"
            ],
            [
             0.1,
             "#c51b7d"
            ],
            [
             0.2,
             "#de77ae"
            ],
            [
             0.3,
             "#f1b6da"
            ],
            [
             0.4,
             "#fde0ef"
            ],
            [
             0.5,
             "#f7f7f7"
            ],
            [
             0.6,
             "#e6f5d0"
            ],
            [
             0.7,
             "#b8e186"
            ],
            [
             0.8,
             "#7fbc41"
            ],
            [
             0.9,
             "#4d9221"
            ],
            [
             1,
             "#276419"
            ]
           ],
           "sequential": [
            [
             0,
             "#0d0887"
            ],
            [
             0.1111111111111111,
             "#46039f"
            ],
            [
             0.2222222222222222,
             "#7201a8"
            ],
            [
             0.3333333333333333,
             "#9c179e"
            ],
            [
             0.4444444444444444,
             "#bd3786"
            ],
            [
             0.5555555555555556,
             "#d8576b"
            ],
            [
             0.6666666666666666,
             "#ed7953"
            ],
            [
             0.7777777777777778,
             "#fb9f3a"
            ],
            [
             0.8888888888888888,
             "#fdca26"
            ],
            [
             1,
             "#f0f921"
            ]
           ],
           "sequentialminus": [
            [
             0,
             "#0d0887"
            ],
            [
             0.1111111111111111,
             "#46039f"
            ],
            [
             0.2222222222222222,
             "#7201a8"
            ],
            [
             0.3333333333333333,
             "#9c179e"
            ],
            [
             0.4444444444444444,
             "#bd3786"
            ],
            [
             0.5555555555555556,
             "#d8576b"
            ],
            [
             0.6666666666666666,
             "#ed7953"
            ],
            [
             0.7777777777777778,
             "#fb9f3a"
            ],
            [
             0.8888888888888888,
             "#fdca26"
            ],
            [
             1,
             "#f0f921"
            ]
           ]
          },
          "colorway": [
           "#636efa",
           "#EF553B",
           "#00cc96",
           "#ab63fa",
           "#FFA15A",
           "#19d3f3",
           "#FF6692",
           "#B6E880",
           "#FF97FF",
           "#FECB52"
          ],
          "font": {
           "color": "#2a3f5f"
          },
          "geo": {
           "bgcolor": "white",
           "lakecolor": "white",
           "landcolor": "#E5ECF6",
           "showlakes": true,
           "showland": true,
           "subunitcolor": "white"
          },
          "hoverlabel": {
           "align": "left"
          },
          "hovermode": "closest",
          "mapbox": {
           "style": "light"
          },
          "paper_bgcolor": "white",
          "plot_bgcolor": "#E5ECF6",
          "polar": {
           "angularaxis": {
            "gridcolor": "white",
            "linecolor": "white",
            "ticks": ""
           },
           "bgcolor": "#E5ECF6",
           "radialaxis": {
            "gridcolor": "white",
            "linecolor": "white",
            "ticks": ""
           }
          },
          "scene": {
           "xaxis": {
            "backgroundcolor": "#E5ECF6",
            "gridcolor": "white",
            "gridwidth": 2,
            "linecolor": "white",
            "showbackground": true,
            "ticks": "",
            "zerolinecolor": "white"
           },
           "yaxis": {
            "backgroundcolor": "#E5ECF6",
            "gridcolor": "white",
            "gridwidth": 2,
            "linecolor": "white",
            "showbackground": true,
            "ticks": "",
            "zerolinecolor": "white"
           },
           "zaxis": {
            "backgroundcolor": "#E5ECF6",
            "gridcolor": "white",
            "gridwidth": 2,
            "linecolor": "white",
            "showbackground": true,
            "ticks": "",
            "zerolinecolor": "white"
           }
          },
          "shapedefaults": {
           "line": {
            "color": "#2a3f5f"
           }
          },
          "ternary": {
           "aaxis": {
            "gridcolor": "white",
            "linecolor": "white",
            "ticks": ""
           },
           "baxis": {
            "gridcolor": "white",
            "linecolor": "white",
            "ticks": ""
           },
           "bgcolor": "#E5ECF6",
           "caxis": {
            "gridcolor": "white",
            "linecolor": "white",
            "ticks": ""
           }
          },
          "title": {
           "x": 0.05
          },
          "xaxis": {
           "automargin": true,
           "gridcolor": "white",
           "linecolor": "white",
           "ticks": "",
           "title": {
            "standoff": 15
           },
           "zerolinecolor": "white",
           "zerolinewidth": 2
          },
          "yaxis": {
           "automargin": true,
           "gridcolor": "white",
           "linecolor": "white",
           "ticks": "",
           "title": {
            "standoff": 15
           },
           "zerolinecolor": "white",
           "zerolinewidth": 2
          }
         }
        },
        "title": {
         "text": "Monthwise comparision between open and close price"
        },
        "xaxis": {
         "tickangle": -45
        }
       }
      }
     },
     "metadata": {},
     "output_type": "display_data"
    }
   ],
   "source": [
    "fig = go.Figure()\n",
    "\n",
    "fig.add_trace(go.Bar(\n",
    "    x=monthvise.index,\n",
    "    y=monthvise['Open'],\n",
    "    name='Open Price',\n",
    "    marker_color='crimson'\n",
    "))\n",
    "fig.add_trace(go.Bar(\n",
    "    x=monthvise.index,\n",
    "    y=monthvise['Close'],\n",
    "    name='Close Price',\n",
    "    marker_color='lightsalmon'\n",
    "))\n",
    "\n",
    "fig.update_layout(barmode='group', xaxis_tickangle=-45, \n",
    "                  title='Monthwise comparision between open and close price')\n",
    "fig.show()"
   ]
  },
  {
   "cell_type": "code",
   "execution_count": 11,
   "id": "593c6f07",
   "metadata": {
    "execution": {
     "iopub.execute_input": "2021-08-25T15:25:50.165015Z",
     "iopub.status.busy": "2021-08-25T15:25:50.164353Z",
     "iopub.status.idle": "2021-08-25T15:25:50.169249Z",
     "shell.execute_reply": "2021-08-25T15:25:50.168715Z",
     "shell.execute_reply.started": "2021-08-25T14:39:20.644213Z"
    },
    "papermill": {
     "duration": 0.163164,
     "end_time": "2021-08-25T15:25:50.169390",
     "exception": false,
     "start_time": "2021-08-25T15:25:50.006226",
     "status": "completed"
    },
    "tags": []
   },
   "outputs": [
    {
     "data": {
      "application/vnd.plotly.v1+json": {
       "config": {
        "plotlyServerURL": "https://plot.ly"
       },
       "data": [
        {
         "marker": {
          "color": "rgb(0, 153, 204)"
         },
         "name": "High Price",
         "type": "bar",
         "x": [
          "January",
          "February",
          "March",
          "April",
          "May",
          "June",
          "July",
          "August",
          "September",
          "October",
          "November",
          "December"
         ],
         "y": [
          1467.784912109375,
          2036.2864990234373,
          1947.8377685546875,
          2797.972412109375,
          4362.3505859375,
          2891.2548828125,
          2551.1611328125,
          3466.9921875,
          4022.46923828125,
          4455.7353515625,
          4891.70458984375,
          4780.732421875
         ]
        },
        {
         "marker": {
          "color": "rgb(255, 128, 0)"
         },
         "name": "Low Price",
         "type": "bar",
         "x": [
          "January",
          "February",
          "March",
          "April",
          "May",
          "June",
          "July",
          "August",
          "September",
          "October",
          "November",
          "December"
         ],
         "y": [
          718.1094970703125,
          1274.3577880859375,
          1416.4161376953125,
          1912.178466796875,
          1737.46875,
          1707.6005859375,
          1722.05078125,
          2449.353515625,
          2676.407470703125,
          2978.654296875,
          3933.506591796875,
          3525.494140625
         ]
        }
       ],
       "layout": {
        "barmode": "group",
        "template": {
         "data": {
          "bar": [
           {
            "error_x": {
             "color": "#2a3f5f"
            },
            "error_y": {
             "color": "#2a3f5f"
            },
            "marker": {
             "line": {
              "color": "#E5ECF6",
              "width": 0.5
             },
             "pattern": {
              "fillmode": "overlay",
              "size": 10,
              "solidity": 0.2
             }
            },
            "type": "bar"
           }
          ],
          "barpolar": [
           {
            "marker": {
             "line": {
              "color": "#E5ECF6",
              "width": 0.5
             },
             "pattern": {
              "fillmode": "overlay",
              "size": 10,
              "solidity": 0.2
             }
            },
            "type": "barpolar"
           }
          ],
          "carpet": [
           {
            "aaxis": {
             "endlinecolor": "#2a3f5f",
             "gridcolor": "white",
             "linecolor": "white",
             "minorgridcolor": "white",
             "startlinecolor": "#2a3f5f"
            },
            "baxis": {
             "endlinecolor": "#2a3f5f",
             "gridcolor": "white",
             "linecolor": "white",
             "minorgridcolor": "white",
             "startlinecolor": "#2a3f5f"
            },
            "type": "carpet"
           }
          ],
          "choropleth": [
           {
            "colorbar": {
             "outlinewidth": 0,
             "ticks": ""
            },
            "type": "choropleth"
           }
          ],
          "contour": [
           {
            "colorbar": {
             "outlinewidth": 0,
             "ticks": ""
            },
            "colorscale": [
             [
              0,
              "#0d0887"
             ],
             [
              0.1111111111111111,
              "#46039f"
             ],
             [
              0.2222222222222222,
              "#7201a8"
             ],
             [
              0.3333333333333333,
              "#9c179e"
             ],
             [
              0.4444444444444444,
              "#bd3786"
             ],
             [
              0.5555555555555556,
              "#d8576b"
             ],
             [
              0.6666666666666666,
              "#ed7953"
             ],
             [
              0.7777777777777778,
              "#fb9f3a"
             ],
             [
              0.8888888888888888,
              "#fdca26"
             ],
             [
              1,
              "#f0f921"
             ]
            ],
            "type": "contour"
           }
          ],
          "contourcarpet": [
           {
            "colorbar": {
             "outlinewidth": 0,
             "ticks": ""
            },
            "type": "contourcarpet"
           }
          ],
          "heatmap": [
           {
            "colorbar": {
             "outlinewidth": 0,
             "ticks": ""
            },
            "colorscale": [
             [
              0,
              "#0d0887"
             ],
             [
              0.1111111111111111,
              "#46039f"
             ],
             [
              0.2222222222222222,
              "#7201a8"
             ],
             [
              0.3333333333333333,
              "#9c179e"
             ],
             [
              0.4444444444444444,
              "#bd3786"
             ],
             [
              0.5555555555555556,
              "#d8576b"
             ],
             [
              0.6666666666666666,
              "#ed7953"
             ],
             [
              0.7777777777777778,
              "#fb9f3a"
             ],
             [
              0.8888888888888888,
              "#fdca26"
             ],
             [
              1,
              "#f0f921"
             ]
            ],
            "type": "heatmap"
           }
          ],
          "heatmapgl": [
           {
            "colorbar": {
             "outlinewidth": 0,
             "ticks": ""
            },
            "colorscale": [
             [
              0,
              "#0d0887"
             ],
             [
              0.1111111111111111,
              "#46039f"
             ],
             [
              0.2222222222222222,
              "#7201a8"
             ],
             [
              0.3333333333333333,
              "#9c179e"
             ],
             [
              0.4444444444444444,
              "#bd3786"
             ],
             [
              0.5555555555555556,
              "#d8576b"
             ],
             [
              0.6666666666666666,
              "#ed7953"
             ],
             [
              0.7777777777777778,
              "#fb9f3a"
             ],
             [
              0.8888888888888888,
              "#fdca26"
             ],
             [
              1,
              "#f0f921"
             ]
            ],
            "type": "heatmapgl"
           }
          ],
          "histogram": [
           {
            "marker": {
             "pattern": {
              "fillmode": "overlay",
              "size": 10,
              "solidity": 0.2
             }
            },
            "type": "histogram"
           }
          ],
          "histogram2d": [
           {
            "colorbar": {
             "outlinewidth": 0,
             "ticks": ""
            },
            "colorscale": [
             [
              0,
              "#0d0887"
             ],
             [
              0.1111111111111111,
              "#46039f"
             ],
             [
              0.2222222222222222,
              "#7201a8"
             ],
             [
              0.3333333333333333,
              "#9c179e"
             ],
             [
              0.4444444444444444,
              "#bd3786"
             ],
             [
              0.5555555555555556,
              "#d8576b"
             ],
             [
              0.6666666666666666,
              "#ed7953"
             ],
             [
              0.7777777777777778,
              "#fb9f3a"
             ],
             [
              0.8888888888888888,
              "#fdca26"
             ],
             [
              1,
              "#f0f921"
             ]
            ],
            "type": "histogram2d"
           }
          ],
          "histogram2dcontour": [
           {
            "colorbar": {
             "outlinewidth": 0,
             "ticks": ""
            },
            "colorscale": [
             [
              0,
              "#0d0887"
             ],
             [
              0.1111111111111111,
              "#46039f"
             ],
             [
              0.2222222222222222,
              "#7201a8"
             ],
             [
              0.3333333333333333,
              "#9c179e"
             ],
             [
              0.4444444444444444,
              "#bd3786"
             ],
             [
              0.5555555555555556,
              "#d8576b"
             ],
             [
              0.6666666666666666,
              "#ed7953"
             ],
             [
              0.7777777777777778,
              "#fb9f3a"
             ],
             [
              0.8888888888888888,
              "#fdca26"
             ],
             [
              1,
              "#f0f921"
             ]
            ],
            "type": "histogram2dcontour"
           }
          ],
          "mesh3d": [
           {
            "colorbar": {
             "outlinewidth": 0,
             "ticks": ""
            },
            "type": "mesh3d"
           }
          ],
          "parcoords": [
           {
            "line": {
             "colorbar": {
              "outlinewidth": 0,
              "ticks": ""
             }
            },
            "type": "parcoords"
           }
          ],
          "pie": [
           {
            "automargin": true,
            "type": "pie"
           }
          ],
          "scatter": [
           {
            "fillpattern": {
             "fillmode": "overlay",
             "size": 10,
             "solidity": 0.2
            },
            "type": "scatter"
           }
          ],
          "scatter3d": [
           {
            "line": {
             "colorbar": {
              "outlinewidth": 0,
              "ticks": ""
             }
            },
            "marker": {
             "colorbar": {
              "outlinewidth": 0,
              "ticks": ""
             }
            },
            "type": "scatter3d"
           }
          ],
          "scattercarpet": [
           {
            "marker": {
             "colorbar": {
              "outlinewidth": 0,
              "ticks": ""
             }
            },
            "type": "scattercarpet"
           }
          ],
          "scattergeo": [
           {
            "marker": {
             "colorbar": {
              "outlinewidth": 0,
              "ticks": ""
             }
            },
            "type": "scattergeo"
           }
          ],
          "scattergl": [
           {
            "marker": {
             "colorbar": {
              "outlinewidth": 0,
              "ticks": ""
             }
            },
            "type": "scattergl"
           }
          ],
          "scattermapbox": [
           {
            "marker": {
             "colorbar": {
              "outlinewidth": 0,
              "ticks": ""
             }
            },
            "type": "scattermapbox"
           }
          ],
          "scatterpolar": [
           {
            "marker": {
             "colorbar": {
              "outlinewidth": 0,
              "ticks": ""
             }
            },
            "type": "scatterpolar"
           }
          ],
          "scatterpolargl": [
           {
            "marker": {
             "colorbar": {
              "outlinewidth": 0,
              "ticks": ""
             }
            },
            "type": "scatterpolargl"
           }
          ],
          "scatterternary": [
           {
            "marker": {
             "colorbar": {
              "outlinewidth": 0,
              "ticks": ""
             }
            },
            "type": "scatterternary"
           }
          ],
          "surface": [
           {
            "colorbar": {
             "outlinewidth": 0,
             "ticks": ""
            },
            "colorscale": [
             [
              0,
              "#0d0887"
             ],
             [
              0.1111111111111111,
              "#46039f"
             ],
             [
              0.2222222222222222,
              "#7201a8"
             ],
             [
              0.3333333333333333,
              "#9c179e"
             ],
             [
              0.4444444444444444,
              "#bd3786"
             ],
             [
              0.5555555555555556,
              "#d8576b"
             ],
             [
              0.6666666666666666,
              "#ed7953"
             ],
             [
              0.7777777777777778,
              "#fb9f3a"
             ],
             [
              0.8888888888888888,
              "#fdca26"
             ],
             [
              1,
              "#f0f921"
             ]
            ],
            "type": "surface"
           }
          ],
          "table": [
           {
            "cells": {
             "fill": {
              "color": "#EBF0F8"
             },
             "line": {
              "color": "white"
             }
            },
            "header": {
             "fill": {
              "color": "#C8D4E3"
             },
             "line": {
              "color": "white"
             }
            },
            "type": "table"
           }
          ]
         },
         "layout": {
          "annotationdefaults": {
           "arrowcolor": "#2a3f5f",
           "arrowhead": 0,
           "arrowwidth": 1
          },
          "autotypenumbers": "strict",
          "coloraxis": {
           "colorbar": {
            "outlinewidth": 0,
            "ticks": ""
           }
          },
          "colorscale": {
           "diverging": [
            [
             0,
             "#8e0152"
            ],
            [
             0.1,
             "#c51b7d"
            ],
            [
             0.2,
             "#de77ae"
            ],
            [
             0.3,
             "#f1b6da"
            ],
            [
             0.4,
             "#fde0ef"
            ],
            [
             0.5,
             "#f7f7f7"
            ],
            [
             0.6,
             "#e6f5d0"
            ],
            [
             0.7,
             "#b8e186"
            ],
            [
             0.8,
             "#7fbc41"
            ],
            [
             0.9,
             "#4d9221"
            ],
            [
             1,
             "#276419"
            ]
           ],
           "sequential": [
            [
             0,
             "#0d0887"
            ],
            [
             0.1111111111111111,
             "#46039f"
            ],
            [
             0.2222222222222222,
             "#7201a8"
            ],
            [
             0.3333333333333333,
             "#9c179e"
            ],
            [
             0.4444444444444444,
             "#bd3786"
            ],
            [
             0.5555555555555556,
             "#d8576b"
            ],
            [
             0.6666666666666666,
             "#ed7953"
            ],
            [
             0.7777777777777778,
             "#fb9f3a"
            ],
            [
             0.8888888888888888,
             "#fdca26"
            ],
            [
             1,
             "#f0f921"
            ]
           ],
           "sequentialminus": [
            [
             0,
             "#0d0887"
            ],
            [
             0.1111111111111111,
             "#46039f"
            ],
            [
             0.2222222222222222,
             "#7201a8"
            ],
            [
             0.3333333333333333,
             "#9c179e"
            ],
            [
             0.4444444444444444,
             "#bd3786"
            ],
            [
             0.5555555555555556,
             "#d8576b"
            ],
            [
             0.6666666666666666,
             "#ed7953"
            ],
            [
             0.7777777777777778,
             "#fb9f3a"
            ],
            [
             0.8888888888888888,
             "#fdca26"
            ],
            [
             1,
             "#f0f921"
            ]
           ]
          },
          "colorway": [
           "#636efa",
           "#EF553B",
           "#00cc96",
           "#ab63fa",
           "#FFA15A",
           "#19d3f3",
           "#FF6692",
           "#B6E880",
           "#FF97FF",
           "#FECB52"
          ],
          "font": {
           "color": "#2a3f5f"
          },
          "geo": {
           "bgcolor": "white",
           "lakecolor": "white",
           "landcolor": "#E5ECF6",
           "showlakes": true,
           "showland": true,
           "subunitcolor": "white"
          },
          "hoverlabel": {
           "align": "left"
          },
          "hovermode": "closest",
          "mapbox": {
           "style": "light"
          },
          "paper_bgcolor": "white",
          "plot_bgcolor": "#E5ECF6",
          "polar": {
           "angularaxis": {
            "gridcolor": "white",
            "linecolor": "white",
            "ticks": ""
           },
           "bgcolor": "#E5ECF6",
           "radialaxis": {
            "gridcolor": "white",
            "linecolor": "white",
            "ticks": ""
           }
          },
          "scene": {
           "xaxis": {
            "backgroundcolor": "#E5ECF6",
            "gridcolor": "white",
            "gridwidth": 2,
            "linecolor": "white",
            "showbackground": true,
            "ticks": "",
            "zerolinecolor": "white"
           },
           "yaxis": {
            "backgroundcolor": "#E5ECF6",
            "gridcolor": "white",
            "gridwidth": 2,
            "linecolor": "white",
            "showbackground": true,
            "ticks": "",
            "zerolinecolor": "white"
           },
           "zaxis": {
            "backgroundcolor": "#E5ECF6",
            "gridcolor": "white",
            "gridwidth": 2,
            "linecolor": "white",
            "showbackground": true,
            "ticks": "",
            "zerolinecolor": "white"
           }
          },
          "shapedefaults": {
           "line": {
            "color": "#2a3f5f"
           }
          },
          "ternary": {
           "aaxis": {
            "gridcolor": "white",
            "linecolor": "white",
            "ticks": ""
           },
           "baxis": {
            "gridcolor": "white",
            "linecolor": "white",
            "ticks": ""
           },
           "bgcolor": "#E5ECF6",
           "caxis": {
            "gridcolor": "white",
            "linecolor": "white",
            "ticks": ""
           }
          },
          "title": {
           "x": 0.05
          },
          "xaxis": {
           "automargin": true,
           "gridcolor": "white",
           "linecolor": "white",
           "ticks": "",
           "title": {
            "standoff": 15
           },
           "zerolinecolor": "white",
           "zerolinewidth": 2
          },
          "yaxis": {
           "automargin": true,
           "gridcolor": "white",
           "linecolor": "white",
           "ticks": "",
           "title": {
            "standoff": 15
           },
           "zerolinecolor": "white",
           "zerolinewidth": 2
          }
         }
        },
        "title": {
         "text": " Monthwise High and Low price"
        }
       }
      }
     },
     "metadata": {},
     "output_type": "display_data"
    }
   ],
   "source": [
    "y_2021.groupby(y_2021['Date'].dt.strftime('%B'))['Low'].min()\n",
    "monthvise_high = y_2021.groupby(maindf['Date'].dt.strftime('%B'))['High'].max()\n",
    "monthvise_high = monthvise_high.reindex(new_order, axis=0)\n",
    "\n",
    "monthvise_low = y_2021.groupby(y_2021['Date'].dt.strftime('%B'))['Low'].min()\n",
    "monthvise_low = monthvise_low.reindex(new_order, axis=0)\n",
    "\n",
    "fig = go.Figure()\n",
    "fig.add_trace(go.Bar(\n",
    "    x=monthvise_high.index,\n",
    "    y=monthvise_high,\n",
    "    name='High Price',\n",
    "    marker_color='rgb(0, 153, 204)'\n",
    "))\n",
    "fig.add_trace(go.Bar(\n",
    "    x=monthvise_low.index,\n",
    "    y=monthvise_low,\n",
    "    name='Low Price',\n",
    "    marker_color='rgb(255, 128, 0)'\n",
    "))\n",
    "\n",
    "fig.update_layout(barmode='group', \n",
    "                  title=' Monthwise High and Low price')\n",
    "fig.show()"
   ]
  },
  {
   "cell_type": "code",
   "execution_count": 12,
   "id": "7fb70ad5",
   "metadata": {
    "execution": {
     "iopub.execute_input": "2021-08-25T15:25:53.457050Z",
     "iopub.status.busy": "2021-08-25T15:25:53.456401Z",
     "iopub.status.idle": "2021-08-25T15:25:53.459258Z",
     "shell.execute_reply": "2021-08-25T15:25:53.459698Z",
     "shell.execute_reply.started": "2021-08-25T14:39:21.437880Z"
    },
    "papermill": {
     "duration": 0.127559,
     "end_time": "2021-08-25T15:25:53.459853",
     "exception": false,
     "start_time": "2021-08-25T15:25:53.332294",
     "status": "completed"
    },
    "tags": []
   },
   "outputs": [
    {
     "name": "stdout",
     "output_type": "stream",
     "text": [
      "Shape of close dataframe: (1876, 2)\n"
     ]
    }
   ],
   "source": [
    "# Lets First Take all the Close Price \n",
    "closedf = maindf[['Date','Close']]\n",
    "print(\"Shape of close dataframe:\", closedf.shape)"
   ]
  },
  {
   "cell_type": "code",
   "execution_count": 13,
   "id": "924cc4f2",
   "metadata": {
    "execution": {
     "iopub.execute_input": "2021-08-25T15:25:53.722927Z",
     "iopub.status.busy": "2021-08-25T15:25:53.721126Z",
     "iopub.status.idle": "2021-08-25T15:25:53.889264Z",
     "shell.execute_reply": "2021-08-25T15:25:53.889758Z",
     "shell.execute_reply.started": "2021-08-25T14:39:21.446640Z"
    },
    "papermill": {
     "duration": 0.310789,
     "end_time": "2021-08-25T15:25:53.889960",
     "exception": false,
     "start_time": "2021-08-25T15:25:53.579171",
     "status": "completed"
    },
    "tags": []
   },
   "outputs": [
    {
     "data": {
      "application/vnd.plotly.v1+json": {
       "config": {
        "plotlyServerURL": "https://plot.ly"
       },
       "data": [
        {
         "hovertemplate": "Date=%{x}<br>Close=%{y}<extra></extra>",
         "legendgroup": "",
         "line": {
          "color": "#636efa",
          "dash": "solid"
         },
         "marker": {
          "line": {
           "color": "orange",
           "width": 2
          },
          "symbol": "circle"
         },
         "mode": "lines",
         "name": "",
         "opacity": 0.8,
         "showlegend": false,
         "type": "scattergl",
         "x": [
          "2017-11-09T00:00:00",
          "2017-11-10T00:00:00",
          "2017-11-11T00:00:00",
          "2017-11-12T00:00:00",
          "2017-11-13T00:00:00",
          "2017-11-14T00:00:00",
          "2017-11-15T00:00:00",
          "2017-11-16T00:00:00",
          "2017-11-17T00:00:00",
          "2017-11-18T00:00:00",
          "2017-11-19T00:00:00",
          "2017-11-20T00:00:00",
          "2017-11-21T00:00:00",
          "2017-11-22T00:00:00",
          "2017-11-23T00:00:00",
          "2017-11-24T00:00:00",
          "2017-11-25T00:00:00",
          "2017-11-26T00:00:00",
          "2017-11-27T00:00:00",
          "2017-11-28T00:00:00",
          "2017-11-29T00:00:00",
          "2017-11-30T00:00:00",
          "2017-12-01T00:00:00",
          "2017-12-02T00:00:00",
          "2017-12-03T00:00:00",
          "2017-12-04T00:00:00",
          "2017-12-05T00:00:00",
          "2017-12-06T00:00:00",
          "2017-12-07T00:00:00",
          "2017-12-08T00:00:00",
          "2017-12-09T00:00:00",
          "2017-12-10T00:00:00",
          "2017-12-11T00:00:00",
          "2017-12-12T00:00:00",
          "2017-12-13T00:00:00",
          "2017-12-14T00:00:00",
          "2017-12-15T00:00:00",
          "2017-12-16T00:00:00",
          "2017-12-17T00:00:00",
          "2017-12-18T00:00:00",
          "2017-12-19T00:00:00",
          "2017-12-20T00:00:00",
          "2017-12-21T00:00:00",
          "2017-12-22T00:00:00",
          "2017-12-23T00:00:00",
          "2017-12-24T00:00:00",
          "2017-12-25T00:00:00",
          "2017-12-26T00:00:00",
          "2017-12-27T00:00:00",
          "2017-12-28T00:00:00",
          "2017-12-29T00:00:00",
          "2017-12-30T00:00:00",
          "2017-12-31T00:00:00",
          "2018-01-01T00:00:00",
          "2018-01-02T00:00:00",
          "2018-01-03T00:00:00",
          "2018-01-04T00:00:00",
          "2018-01-05T00:00:00",
          "2018-01-06T00:00:00",
          "2018-01-07T00:00:00",
          "2018-01-08T00:00:00",
          "2018-01-09T00:00:00",
          "2018-01-10T00:00:00",
          "2018-01-11T00:00:00",
          "2018-01-12T00:00:00",
          "2018-01-13T00:00:00",
          "2018-01-14T00:00:00",
          "2018-01-15T00:00:00",
          "2018-01-16T00:00:00",
          "2018-01-17T00:00:00",
          "2018-01-18T00:00:00",
          "2018-01-19T00:00:00",
          "2018-01-20T00:00:00",
          "2018-01-21T00:00:00",
          "2018-01-22T00:00:00",
          "2018-01-23T00:00:00",
          "2018-01-24T00:00:00",
          "2018-01-25T00:00:00",
          "2018-01-26T00:00:00",
          "2018-01-27T00:00:00",
          "2018-01-28T00:00:00",
          "2018-01-29T00:00:00",
          "2018-01-30T00:00:00",
          "2018-01-31T00:00:00",
          "2018-02-01T00:00:00",
          "2018-02-02T00:00:00",
          "2018-02-03T00:00:00",
          "2018-02-04T00:00:00",
          "2018-02-05T00:00:00",
          "2018-02-06T00:00:00",
          "2018-02-07T00:00:00",
          "2018-02-08T00:00:00",
          "2018-02-09T00:00:00",
          "2018-02-10T00:00:00",
          "2018-02-11T00:00:00",
          "2018-02-12T00:00:00",
          "2018-02-13T00:00:00",
          "2018-02-14T00:00:00",
          "2018-02-15T00:00:00",
          "2018-02-16T00:00:00",
          "2018-02-17T00:00:00",
          "2018-02-18T00:00:00",
          "2018-02-19T00:00:00",
          "2018-02-20T00:00:00",
          "2018-02-21T00:00:00",
          "2018-02-22T00:00:00",
          "2018-02-23T00:00:00",
          "2018-02-24T00:00:00",
          "2018-02-25T00:00:00",
          "2018-02-26T00:00:00",
          "2018-02-27T00:00:00",
          "2018-02-28T00:00:00",
          "2018-03-01T00:00:00",
          "2018-03-02T00:00:00",
          "2018-03-03T00:00:00",
          "2018-03-04T00:00:00",
          "2018-03-05T00:00:00",
          "2018-03-06T00:00:00",
          "2018-03-07T00:00:00",
          "2018-03-08T00:00:00",
          "2018-03-09T00:00:00",
          "2018-03-10T00:00:00",
          "2018-03-11T00:00:00",
          "2018-03-12T00:00:00",
          "2018-03-13T00:00:00",
          "2018-03-14T00:00:00",
          "2018-03-15T00:00:00",
          "2018-03-16T00:00:00",
          "2018-03-17T00:00:00",
          "2018-03-18T00:00:00",
          "2018-03-19T00:00:00",
          "2018-03-20T00:00:00",
          "2018-03-21T00:00:00",
          "2018-03-22T00:00:00",
          "2018-03-23T00:00:00",
          "2018-03-24T00:00:00",
          "2018-03-25T00:00:00",
          "2018-03-26T00:00:00",
          "2018-03-27T00:00:00",
          "2018-03-28T00:00:00",
          "2018-03-29T00:00:00",
          "2018-03-30T00:00:00",
          "2018-03-31T00:00:00",
          "2018-04-01T00:00:00",
          "2018-04-02T00:00:00",
          "2018-04-03T00:00:00",
          "2018-04-04T00:00:00",
          "2018-04-05T00:00:00",
          "2018-04-06T00:00:00",
          "2018-04-07T00:00:00",
          "2018-04-08T00:00:00",
          "2018-04-09T00:00:00",
          "2018-04-10T00:00:00",
          "2018-04-11T00:00:00",
          "2018-04-12T00:00:00",
          "2018-04-13T00:00:00",
          "2018-04-14T00:00:00",
          "2018-04-15T00:00:00",
          "2018-04-16T00:00:00",
          "2018-04-17T00:00:00",
          "2018-04-18T00:00:00",
          "2018-04-19T00:00:00",
          "2018-04-20T00:00:00",
          "2018-04-21T00:00:00",
          "2018-04-22T00:00:00",
          "2018-04-23T00:00:00",
          "2018-04-24T00:00:00",
          "2018-04-25T00:00:00",
          "2018-04-26T00:00:00",
          "2018-04-27T00:00:00",
          "2018-04-28T00:00:00",
          "2018-04-29T00:00:00",
          "2018-04-30T00:00:00",
          "2018-05-01T00:00:00",
          "2018-05-02T00:00:00",
          "2018-05-03T00:00:00",
          "2018-05-04T00:00:00",
          "2018-05-05T00:00:00",
          "2018-05-06T00:00:00",
          "2018-05-07T00:00:00",
          "2018-05-08T00:00:00",
          "2018-05-09T00:00:00",
          "2018-05-10T00:00:00",
          "2018-05-11T00:00:00",
          "2018-05-12T00:00:00",
          "2018-05-13T00:00:00",
          "2018-05-14T00:00:00",
          "2018-05-15T00:00:00",
          "2018-05-16T00:00:00",
          "2018-05-17T00:00:00",
          "2018-05-18T00:00:00",
          "2018-05-19T00:00:00",
          "2018-05-20T00:00:00",
          "2018-05-21T00:00:00",
          "2018-05-22T00:00:00",
          "2018-05-23T00:00:00",
          "2018-05-24T00:00:00",
          "2018-05-25T00:00:00",
          "2018-05-26T00:00:00",
          "2018-05-27T00:00:00",
          "2018-05-28T00:00:00",
          "2018-05-29T00:00:00",
          "2018-05-30T00:00:00",
          "2018-05-31T00:00:00",
          "2018-06-01T00:00:00",
          "2018-06-02T00:00:00",
          "2018-06-03T00:00:00",
          "2018-06-04T00:00:00",
          "2018-06-05T00:00:00",
          "2018-06-06T00:00:00",
          "2018-06-07T00:00:00",
          "2018-06-08T00:00:00",
          "2018-06-09T00:00:00",
          "2018-06-10T00:00:00",
          "2018-06-11T00:00:00",
          "2018-06-12T00:00:00",
          "2018-06-13T00:00:00",
          "2018-06-14T00:00:00",
          "2018-06-15T00:00:00",
          "2018-06-16T00:00:00",
          "2018-06-17T00:00:00",
          "2018-06-18T00:00:00",
          "2018-06-19T00:00:00",
          "2018-06-20T00:00:00",
          "2018-06-21T00:00:00",
          "2018-06-22T00:00:00",
          "2018-06-23T00:00:00",
          "2018-06-24T00:00:00",
          "2018-06-25T00:00:00",
          "2018-06-26T00:00:00",
          "2018-06-27T00:00:00",
          "2018-06-28T00:00:00",
          "2018-06-29T00:00:00",
          "2018-06-30T00:00:00",
          "2018-07-01T00:00:00",
          "2018-07-02T00:00:00",
          "2018-07-03T00:00:00",
          "2018-07-04T00:00:00",
          "2018-07-05T00:00:00",
          "2018-07-06T00:00:00",
          "2018-07-07T00:00:00",
          "2018-07-08T00:00:00",
          "2018-07-09T00:00:00",
          "2018-07-10T00:00:00",
          "2018-07-11T00:00:00",
          "2018-07-12T00:00:00",
          "2018-07-13T00:00:00",
          "2018-07-14T00:00:00",
          "2018-07-15T00:00:00",
          "2018-07-16T00:00:00",
          "2018-07-17T00:00:00",
          "2018-07-18T00:00:00",
          "2018-07-19T00:00:00",
          "2018-07-20T00:00:00",
          "2018-07-21T00:00:00",
          "2018-07-22T00:00:00",
          "2018-07-23T00:00:00",
          "2018-07-24T00:00:00",
          "2018-07-25T00:00:00",
          "2018-07-26T00:00:00",
          "2018-07-27T00:00:00",
          "2018-07-28T00:00:00",
          "2018-07-29T00:00:00",
          "2018-07-30T00:00:00",
          "2018-07-31T00:00:00",
          "2018-08-01T00:00:00",
          "2018-08-02T00:00:00",
          "2018-08-03T00:00:00",
          "2018-08-04T00:00:00",
          "2018-08-05T00:00:00",
          "2018-08-06T00:00:00",
          "2018-08-07T00:00:00",
          "2018-08-08T00:00:00",
          "2018-08-09T00:00:00",
          "2018-08-10T00:00:00",
          "2018-08-11T00:00:00",
          "2018-08-12T00:00:00",
          "2018-08-13T00:00:00",
          "2018-08-14T00:00:00",
          "2018-08-15T00:00:00",
          "2018-08-16T00:00:00",
          "2018-08-17T00:00:00",
          "2018-08-18T00:00:00",
          "2018-08-19T00:00:00",
          "2018-08-20T00:00:00",
          "2018-08-21T00:00:00",
          "2018-08-22T00:00:00",
          "2018-08-23T00:00:00",
          "2018-08-24T00:00:00",
          "2018-08-25T00:00:00",
          "2018-08-26T00:00:00",
          "2018-08-27T00:00:00",
          "2018-08-28T00:00:00",
          "2018-08-29T00:00:00",
          "2018-08-30T00:00:00",
          "2018-08-31T00:00:00",
          "2018-09-01T00:00:00",
          "2018-09-02T00:00:00",
          "2018-09-03T00:00:00",
          "2018-09-04T00:00:00",
          "2018-09-05T00:00:00",
          "2018-09-06T00:00:00",
          "2018-09-07T00:00:00",
          "2018-09-08T00:00:00",
          "2018-09-09T00:00:00",
          "2018-09-10T00:00:00",
          "2018-09-11T00:00:00",
          "2018-09-12T00:00:00",
          "2018-09-13T00:00:00",
          "2018-09-14T00:00:00",
          "2018-09-15T00:00:00",
          "2018-09-16T00:00:00",
          "2018-09-17T00:00:00",
          "2018-09-18T00:00:00",
          "2018-09-19T00:00:00",
          "2018-09-20T00:00:00",
          "2018-09-21T00:00:00",
          "2018-09-22T00:00:00",
          "2018-09-23T00:00:00",
          "2018-09-24T00:00:00",
          "2018-09-25T00:00:00",
          "2018-09-26T00:00:00",
          "2018-09-27T00:00:00",
          "2018-09-28T00:00:00",
          "2018-09-29T00:00:00",
          "2018-09-30T00:00:00",
          "2018-10-01T00:00:00",
          "2018-10-02T00:00:00",
          "2018-10-03T00:00:00",
          "2018-10-04T00:00:00",
          "2018-10-05T00:00:00",
          "2018-10-06T00:00:00",
          "2018-10-07T00:00:00",
          "2018-10-08T00:00:00",
          "2018-10-09T00:00:00",
          "2018-10-10T00:00:00",
          "2018-10-11T00:00:00",
          "2018-10-12T00:00:00",
          "2018-10-13T00:00:00",
          "2018-10-14T00:00:00",
          "2018-10-15T00:00:00",
          "2018-10-16T00:00:00",
          "2018-10-17T00:00:00",
          "2018-10-18T00:00:00",
          "2018-10-19T00:00:00",
          "2018-10-20T00:00:00",
          "2018-10-21T00:00:00",
          "2018-10-22T00:00:00",
          "2018-10-23T00:00:00",
          "2018-10-24T00:00:00",
          "2018-10-25T00:00:00",
          "2018-10-26T00:00:00",
          "2018-10-27T00:00:00",
          "2018-10-28T00:00:00",
          "2018-10-29T00:00:00",
          "2018-10-30T00:00:00",
          "2018-10-31T00:00:00",
          "2018-11-01T00:00:00",
          "2018-11-02T00:00:00",
          "2018-11-03T00:00:00",
          "2018-11-04T00:00:00",
          "2018-11-05T00:00:00",
          "2018-11-06T00:00:00",
          "2018-11-07T00:00:00",
          "2018-11-08T00:00:00",
          "2018-11-09T00:00:00",
          "2018-11-10T00:00:00",
          "2018-11-11T00:00:00",
          "2018-11-12T00:00:00",
          "2018-11-13T00:00:00",
          "2018-11-14T00:00:00",
          "2018-11-15T00:00:00",
          "2018-11-16T00:00:00",
          "2018-11-17T00:00:00",
          "2018-11-18T00:00:00",
          "2018-11-19T00:00:00",
          "2018-11-20T00:00:00",
          "2018-11-21T00:00:00",
          "2018-11-22T00:00:00",
          "2018-11-23T00:00:00",
          "2018-11-24T00:00:00",
          "2018-11-25T00:00:00",
          "2018-11-26T00:00:00",
          "2018-11-27T00:00:00",
          "2018-11-28T00:00:00",
          "2018-11-29T00:00:00",
          "2018-11-30T00:00:00",
          "2018-12-01T00:00:00",
          "2018-12-02T00:00:00",
          "2018-12-03T00:00:00",
          "2018-12-04T00:00:00",
          "2018-12-05T00:00:00",
          "2018-12-06T00:00:00",
          "2018-12-07T00:00:00",
          "2018-12-08T00:00:00",
          "2018-12-09T00:00:00",
          "2018-12-10T00:00:00",
          "2018-12-11T00:00:00",
          "2018-12-12T00:00:00",
          "2018-12-13T00:00:00",
          "2018-12-14T00:00:00",
          "2018-12-15T00:00:00",
          "2018-12-16T00:00:00",
          "2018-12-17T00:00:00",
          "2018-12-18T00:00:00",
          "2018-12-19T00:00:00",
          "2018-12-20T00:00:00",
          "2018-12-21T00:00:00",
          "2018-12-22T00:00:00",
          "2018-12-23T00:00:00",
          "2018-12-24T00:00:00",
          "2018-12-25T00:00:00",
          "2018-12-26T00:00:00",
          "2018-12-27T00:00:00",
          "2018-12-28T00:00:00",
          "2018-12-29T00:00:00",
          "2018-12-30T00:00:00",
          "2018-12-31T00:00:00",
          "2019-01-01T00:00:00",
          "2019-01-02T00:00:00",
          "2019-01-03T00:00:00",
          "2019-01-04T00:00:00",
          "2019-01-05T00:00:00",
          "2019-01-06T00:00:00",
          "2019-01-07T00:00:00",
          "2019-01-08T00:00:00",
          "2019-01-09T00:00:00",
          "2019-01-10T00:00:00",
          "2019-01-11T00:00:00",
          "2019-01-12T00:00:00",
          "2019-01-13T00:00:00",
          "2019-01-14T00:00:00",
          "2019-01-15T00:00:00",
          "2019-01-16T00:00:00",
          "2019-01-17T00:00:00",
          "2019-01-18T00:00:00",
          "2019-01-19T00:00:00",
          "2019-01-20T00:00:00",
          "2019-01-21T00:00:00",
          "2019-01-22T00:00:00",
          "2019-01-23T00:00:00",
          "2019-01-24T00:00:00",
          "2019-01-25T00:00:00",
          "2019-01-26T00:00:00",
          "2019-01-27T00:00:00",
          "2019-01-28T00:00:00",
          "2019-01-29T00:00:00",
          "2019-01-30T00:00:00",
          "2019-01-31T00:00:00",
          "2019-02-01T00:00:00",
          "2019-02-02T00:00:00",
          "2019-02-03T00:00:00",
          "2019-02-04T00:00:00",
          "2019-02-05T00:00:00",
          "2019-02-06T00:00:00",
          "2019-02-07T00:00:00",
          "2019-02-08T00:00:00",
          "2019-02-09T00:00:00",
          "2019-02-10T00:00:00",
          "2019-02-11T00:00:00",
          "2019-02-12T00:00:00",
          "2019-02-13T00:00:00",
          "2019-02-14T00:00:00",
          "2019-02-15T00:00:00",
          "2019-02-16T00:00:00",
          "2019-02-17T00:00:00",
          "2019-02-18T00:00:00",
          "2019-02-19T00:00:00",
          "2019-02-20T00:00:00",
          "2019-02-21T00:00:00",
          "2019-02-22T00:00:00",
          "2019-02-23T00:00:00",
          "2019-02-24T00:00:00",
          "2019-02-25T00:00:00",
          "2019-02-26T00:00:00",
          "2019-02-27T00:00:00",
          "2019-02-28T00:00:00",
          "2019-03-01T00:00:00",
          "2019-03-02T00:00:00",
          "2019-03-03T00:00:00",
          "2019-03-04T00:00:00",
          "2019-03-05T00:00:00",
          "2019-03-06T00:00:00",
          "2019-03-07T00:00:00",
          "2019-03-08T00:00:00",
          "2019-03-09T00:00:00",
          "2019-03-10T00:00:00",
          "2019-03-11T00:00:00",
          "2019-03-12T00:00:00",
          "2019-03-13T00:00:00",
          "2019-03-14T00:00:00",
          "2019-03-15T00:00:00",
          "2019-03-16T00:00:00",
          "2019-03-17T00:00:00",
          "2019-03-18T00:00:00",
          "2019-03-19T00:00:00",
          "2019-03-20T00:00:00",
          "2019-03-21T00:00:00",
          "2019-03-22T00:00:00",
          "2019-03-23T00:00:00",
          "2019-03-24T00:00:00",
          "2019-03-25T00:00:00",
          "2019-03-26T00:00:00",
          "2019-03-27T00:00:00",
          "2019-03-28T00:00:00",
          "2019-03-29T00:00:00",
          "2019-03-30T00:00:00",
          "2019-03-31T00:00:00",
          "2019-04-01T00:00:00",
          "2019-04-02T00:00:00",
          "2019-04-03T00:00:00",
          "2019-04-04T00:00:00",
          "2019-04-05T00:00:00",
          "2019-04-06T00:00:00",
          "2019-04-07T00:00:00",
          "2019-04-08T00:00:00",
          "2019-04-09T00:00:00",
          "2019-04-10T00:00:00",
          "2019-04-11T00:00:00",
          "2019-04-12T00:00:00",
          "2019-04-13T00:00:00",
          "2019-04-14T00:00:00",
          "2019-04-15T00:00:00",
          "2019-04-16T00:00:00",
          "2019-04-17T00:00:00",
          "2019-04-18T00:00:00",
          "2019-04-19T00:00:00",
          "2019-04-20T00:00:00",
          "2019-04-21T00:00:00",
          "2019-04-22T00:00:00",
          "2019-04-23T00:00:00",
          "2019-04-24T00:00:00",
          "2019-04-25T00:00:00",
          "2019-04-26T00:00:00",
          "2019-04-27T00:00:00",
          "2019-04-28T00:00:00",
          "2019-04-29T00:00:00",
          "2019-04-30T00:00:00",
          "2019-05-01T00:00:00",
          "2019-05-02T00:00:00",
          "2019-05-03T00:00:00",
          "2019-05-04T00:00:00",
          "2019-05-05T00:00:00",
          "2019-05-06T00:00:00",
          "2019-05-07T00:00:00",
          "2019-05-08T00:00:00",
          "2019-05-09T00:00:00",
          "2019-05-10T00:00:00",
          "2019-05-11T00:00:00",
          "2019-05-12T00:00:00",
          "2019-05-13T00:00:00",
          "2019-05-14T00:00:00",
          "2019-05-15T00:00:00",
          "2019-05-16T00:00:00",
          "2019-05-17T00:00:00",
          "2019-05-18T00:00:00",
          "2019-05-19T00:00:00",
          "2019-05-20T00:00:00",
          "2019-05-21T00:00:00",
          "2019-05-22T00:00:00",
          "2019-05-23T00:00:00",
          "2019-05-24T00:00:00",
          "2019-05-25T00:00:00",
          "2019-05-26T00:00:00",
          "2019-05-27T00:00:00",
          "2019-05-28T00:00:00",
          "2019-05-29T00:00:00",
          "2019-05-30T00:00:00",
          "2019-05-31T00:00:00",
          "2019-06-01T00:00:00",
          "2019-06-02T00:00:00",
          "2019-06-03T00:00:00",
          "2019-06-04T00:00:00",
          "2019-06-05T00:00:00",
          "2019-06-06T00:00:00",
          "2019-06-07T00:00:00",
          "2019-06-08T00:00:00",
          "2019-06-09T00:00:00",
          "2019-06-10T00:00:00",
          "2019-06-11T00:00:00",
          "2019-06-12T00:00:00",
          "2019-06-13T00:00:00",
          "2019-06-14T00:00:00",
          "2019-06-15T00:00:00",
          "2019-06-16T00:00:00",
          "2019-06-17T00:00:00",
          "2019-06-18T00:00:00",
          "2019-06-19T00:00:00",
          "2019-06-20T00:00:00",
          "2019-06-21T00:00:00",
          "2019-06-22T00:00:00",
          "2019-06-23T00:00:00",
          "2019-06-24T00:00:00",
          "2019-06-25T00:00:00",
          "2019-06-26T00:00:00",
          "2019-06-27T00:00:00",
          "2019-06-28T00:00:00",
          "2019-06-29T00:00:00",
          "2019-06-30T00:00:00",
          "2019-07-01T00:00:00",
          "2019-07-02T00:00:00",
          "2019-07-03T00:00:00",
          "2019-07-04T00:00:00",
          "2019-07-05T00:00:00",
          "2019-07-06T00:00:00",
          "2019-07-07T00:00:00",
          "2019-07-08T00:00:00",
          "2019-07-09T00:00:00",
          "2019-07-10T00:00:00",
          "2019-07-11T00:00:00",
          "2019-07-12T00:00:00",
          "2019-07-13T00:00:00",
          "2019-07-14T00:00:00",
          "2019-07-15T00:00:00",
          "2019-07-16T00:00:00",
          "2019-07-17T00:00:00",
          "2019-07-18T00:00:00",
          "2019-07-19T00:00:00",
          "2019-07-20T00:00:00",
          "2019-07-21T00:00:00",
          "2019-07-22T00:00:00",
          "2019-07-23T00:00:00",
          "2019-07-24T00:00:00",
          "2019-07-25T00:00:00",
          "2019-07-26T00:00:00",
          "2019-07-27T00:00:00",
          "2019-07-28T00:00:00",
          "2019-07-29T00:00:00",
          "2019-07-30T00:00:00",
          "2019-07-31T00:00:00",
          "2019-08-01T00:00:00",
          "2019-08-02T00:00:00",
          "2019-08-03T00:00:00",
          "2019-08-04T00:00:00",
          "2019-08-05T00:00:00",
          "2019-08-06T00:00:00",
          "2019-08-07T00:00:00",
          "2019-08-08T00:00:00",
          "2019-08-09T00:00:00",
          "2019-08-10T00:00:00",
          "2019-08-11T00:00:00",
          "2019-08-12T00:00:00",
          "2019-08-13T00:00:00",
          "2019-08-14T00:00:00",
          "2019-08-15T00:00:00",
          "2019-08-16T00:00:00",
          "2019-08-17T00:00:00",
          "2019-08-18T00:00:00",
          "2019-08-19T00:00:00",
          "2019-08-20T00:00:00",
          "2019-08-21T00:00:00",
          "2019-08-22T00:00:00",
          "2019-08-23T00:00:00",
          "2019-08-24T00:00:00",
          "2019-08-25T00:00:00",
          "2019-08-26T00:00:00",
          "2019-08-27T00:00:00",
          "2019-08-28T00:00:00",
          "2019-08-29T00:00:00",
          "2019-08-30T00:00:00",
          "2019-08-31T00:00:00",
          "2019-09-01T00:00:00",
          "2019-09-02T00:00:00",
          "2019-09-03T00:00:00",
          "2019-09-04T00:00:00",
          "2019-09-05T00:00:00",
          "2019-09-06T00:00:00",
          "2019-09-07T00:00:00",
          "2019-09-08T00:00:00",
          "2019-09-09T00:00:00",
          "2019-09-10T00:00:00",
          "2019-09-11T00:00:00",
          "2019-09-12T00:00:00",
          "2019-09-13T00:00:00",
          "2019-09-14T00:00:00",
          "2019-09-15T00:00:00",
          "2019-09-16T00:00:00",
          "2019-09-17T00:00:00",
          "2019-09-18T00:00:00",
          "2019-09-19T00:00:00",
          "2019-09-20T00:00:00",
          "2019-09-21T00:00:00",
          "2019-09-22T00:00:00",
          "2019-09-23T00:00:00",
          "2019-09-24T00:00:00",
          "2019-09-25T00:00:00",
          "2019-09-26T00:00:00",
          "2019-09-27T00:00:00",
          "2019-09-28T00:00:00",
          "2019-09-29T00:00:00",
          "2019-09-30T00:00:00",
          "2019-10-01T00:00:00",
          "2019-10-02T00:00:00",
          "2019-10-03T00:00:00",
          "2019-10-04T00:00:00",
          "2019-10-05T00:00:00",
          "2019-10-06T00:00:00",
          "2019-10-07T00:00:00",
          "2019-10-08T00:00:00",
          "2019-10-09T00:00:00",
          "2019-10-10T00:00:00",
          "2019-10-11T00:00:00",
          "2019-10-12T00:00:00",
          "2019-10-13T00:00:00",
          "2019-10-14T00:00:00",
          "2019-10-15T00:00:00",
          "2019-10-16T00:00:00",
          "2019-10-17T00:00:00",
          "2019-10-18T00:00:00",
          "2019-10-19T00:00:00",
          "2019-10-20T00:00:00",
          "2019-10-21T00:00:00",
          "2019-10-22T00:00:00",
          "2019-10-23T00:00:00",
          "2019-10-24T00:00:00",
          "2019-10-25T00:00:00",
          "2019-10-26T00:00:00",
          "2019-10-27T00:00:00",
          "2019-10-28T00:00:00",
          "2019-10-29T00:00:00",
          "2019-10-30T00:00:00",
          "2019-10-31T00:00:00",
          "2019-11-01T00:00:00",
          "2019-11-02T00:00:00",
          "2019-11-03T00:00:00",
          "2019-11-04T00:00:00",
          "2019-11-05T00:00:00",
          "2019-11-06T00:00:00",
          "2019-11-07T00:00:00",
          "2019-11-08T00:00:00",
          "2019-11-09T00:00:00",
          "2019-11-10T00:00:00",
          "2019-11-11T00:00:00",
          "2019-11-12T00:00:00",
          "2019-11-13T00:00:00",
          "2019-11-14T00:00:00",
          "2019-11-15T00:00:00",
          "2019-11-16T00:00:00",
          "2019-11-17T00:00:00",
          "2019-11-18T00:00:00",
          "2019-11-19T00:00:00",
          "2019-11-20T00:00:00",
          "2019-11-21T00:00:00",
          "2019-11-22T00:00:00",
          "2019-11-23T00:00:00",
          "2019-11-24T00:00:00",
          "2019-11-25T00:00:00",
          "2019-11-26T00:00:00",
          "2019-11-27T00:00:00",
          "2019-11-28T00:00:00",
          "2019-11-29T00:00:00",
          "2019-11-30T00:00:00",
          "2019-12-01T00:00:00",
          "2019-12-02T00:00:00",
          "2019-12-03T00:00:00",
          "2019-12-04T00:00:00",
          "2019-12-05T00:00:00",
          "2019-12-06T00:00:00",
          "2019-12-07T00:00:00",
          "2019-12-08T00:00:00",
          "2019-12-09T00:00:00",
          "2019-12-10T00:00:00",
          "2019-12-11T00:00:00",
          "2019-12-12T00:00:00",
          "2019-12-13T00:00:00",
          "2019-12-14T00:00:00",
          "2019-12-15T00:00:00",
          "2019-12-16T00:00:00",
          "2019-12-17T00:00:00",
          "2019-12-18T00:00:00",
          "2019-12-19T00:00:00",
          "2019-12-20T00:00:00",
          "2019-12-21T00:00:00",
          "2019-12-22T00:00:00",
          "2019-12-23T00:00:00",
          "2019-12-24T00:00:00",
          "2019-12-25T00:00:00",
          "2019-12-26T00:00:00",
          "2019-12-27T00:00:00",
          "2019-12-28T00:00:00",
          "2019-12-29T00:00:00",
          "2019-12-30T00:00:00",
          "2019-12-31T00:00:00",
          "2020-01-01T00:00:00",
          "2020-01-02T00:00:00",
          "2020-01-03T00:00:00",
          "2020-01-04T00:00:00",
          "2020-01-05T00:00:00",
          "2020-01-06T00:00:00",
          "2020-01-07T00:00:00",
          "2020-01-08T00:00:00",
          "2020-01-09T00:00:00",
          "2020-01-10T00:00:00",
          "2020-01-11T00:00:00",
          "2020-01-12T00:00:00",
          "2020-01-13T00:00:00",
          "2020-01-14T00:00:00",
          "2020-01-15T00:00:00",
          "2020-01-16T00:00:00",
          "2020-01-17T00:00:00",
          "2020-01-18T00:00:00",
          "2020-01-19T00:00:00",
          "2020-01-20T00:00:00",
          "2020-01-21T00:00:00",
          "2020-01-22T00:00:00",
          "2020-01-23T00:00:00",
          "2020-01-24T00:00:00",
          "2020-01-25T00:00:00",
          "2020-01-26T00:00:00",
          "2020-01-27T00:00:00",
          "2020-01-28T00:00:00",
          "2020-01-29T00:00:00",
          "2020-01-30T00:00:00",
          "2020-01-31T00:00:00",
          "2020-02-01T00:00:00",
          "2020-02-02T00:00:00",
          "2020-02-03T00:00:00",
          "2020-02-04T00:00:00",
          "2020-02-05T00:00:00",
          "2020-02-06T00:00:00",
          "2020-02-07T00:00:00",
          "2020-02-08T00:00:00",
          "2020-02-09T00:00:00",
          "2020-02-10T00:00:00",
          "2020-02-11T00:00:00",
          "2020-02-12T00:00:00",
          "2020-02-13T00:00:00",
          "2020-02-14T00:00:00",
          "2020-02-15T00:00:00",
          "2020-02-16T00:00:00",
          "2020-02-17T00:00:00",
          "2020-02-18T00:00:00",
          "2020-02-19T00:00:00",
          "2020-02-20T00:00:00",
          "2020-02-21T00:00:00",
          "2020-02-22T00:00:00",
          "2020-02-23T00:00:00",
          "2020-02-24T00:00:00",
          "2020-02-25T00:00:00",
          "2020-02-26T00:00:00",
          "2020-02-27T00:00:00",
          "2020-02-28T00:00:00",
          "2020-02-29T00:00:00",
          "2020-03-01T00:00:00",
          "2020-03-02T00:00:00",
          "2020-03-03T00:00:00",
          "2020-03-04T00:00:00",
          "2020-03-05T00:00:00",
          "2020-03-06T00:00:00",
          "2020-03-07T00:00:00",
          "2020-03-08T00:00:00",
          "2020-03-09T00:00:00",
          "2020-03-10T00:00:00",
          "2020-03-11T00:00:00",
          "2020-03-12T00:00:00",
          "2020-03-13T00:00:00",
          "2020-03-14T00:00:00",
          "2020-03-15T00:00:00",
          "2020-03-16T00:00:00",
          "2020-03-17T00:00:00",
          "2020-03-18T00:00:00",
          "2020-03-19T00:00:00",
          "2020-03-20T00:00:00",
          "2020-03-21T00:00:00",
          "2020-03-22T00:00:00",
          "2020-03-23T00:00:00",
          "2020-03-24T00:00:00",
          "2020-03-25T00:00:00",
          "2020-03-26T00:00:00",
          "2020-03-27T00:00:00",
          "2020-03-28T00:00:00",
          "2020-03-29T00:00:00",
          "2020-03-30T00:00:00",
          "2020-03-31T00:00:00",
          "2020-04-01T00:00:00",
          "2020-04-02T00:00:00",
          "2020-04-03T00:00:00",
          "2020-04-04T00:00:00",
          "2020-04-05T00:00:00",
          "2020-04-06T00:00:00",
          "2020-04-07T00:00:00",
          "2020-04-08T00:00:00",
          "2020-04-09T00:00:00",
          "2020-04-10T00:00:00",
          "2020-04-11T00:00:00",
          "2020-04-12T00:00:00",
          "2020-04-13T00:00:00",
          "2020-04-14T00:00:00",
          "2020-04-15T00:00:00",
          "2020-04-16T00:00:00",
          "2020-04-17T00:00:00",
          "2020-04-18T00:00:00",
          "2020-04-19T00:00:00",
          "2020-04-20T00:00:00",
          "2020-04-21T00:00:00",
          "2020-04-22T00:00:00",
          "2020-04-23T00:00:00",
          "2020-04-24T00:00:00",
          "2020-04-25T00:00:00",
          "2020-04-26T00:00:00",
          "2020-04-27T00:00:00",
          "2020-04-28T00:00:00",
          "2020-04-29T00:00:00",
          "2020-04-30T00:00:00",
          "2020-05-01T00:00:00",
          "2020-05-02T00:00:00",
          "2020-05-03T00:00:00",
          "2020-05-04T00:00:00",
          "2020-05-05T00:00:00",
          "2020-05-06T00:00:00",
          "2020-05-07T00:00:00",
          "2020-05-08T00:00:00",
          "2020-05-09T00:00:00",
          "2020-05-10T00:00:00",
          "2020-05-11T00:00:00",
          "2020-05-12T00:00:00",
          "2020-05-13T00:00:00",
          "2020-05-14T00:00:00",
          "2020-05-15T00:00:00",
          "2020-05-16T00:00:00",
          "2020-05-17T00:00:00",
          "2020-05-18T00:00:00",
          "2020-05-19T00:00:00",
          "2020-05-20T00:00:00",
          "2020-05-21T00:00:00",
          "2020-05-22T00:00:00",
          "2020-05-23T00:00:00",
          "2020-05-24T00:00:00",
          "2020-05-25T00:00:00",
          "2020-05-26T00:00:00",
          "2020-05-27T00:00:00",
          "2020-05-28T00:00:00",
          "2020-05-29T00:00:00",
          "2020-05-30T00:00:00",
          "2020-05-31T00:00:00",
          "2020-06-01T00:00:00",
          "2020-06-02T00:00:00",
          "2020-06-03T00:00:00",
          "2020-06-04T00:00:00",
          "2020-06-05T00:00:00",
          "2020-06-06T00:00:00",
          "2020-06-07T00:00:00",
          "2020-06-08T00:00:00",
          "2020-06-09T00:00:00",
          "2020-06-10T00:00:00",
          "2020-06-11T00:00:00",
          "2020-06-12T00:00:00",
          "2020-06-13T00:00:00",
          "2020-06-14T00:00:00",
          "2020-06-15T00:00:00",
          "2020-06-16T00:00:00",
          "2020-06-17T00:00:00",
          "2020-06-18T00:00:00",
          "2020-06-19T00:00:00",
          "2020-06-20T00:00:00",
          "2020-06-21T00:00:00",
          "2020-06-22T00:00:00",
          "2020-06-23T00:00:00",
          "2020-06-24T00:00:00",
          "2020-06-25T00:00:00",
          "2020-06-26T00:00:00",
          "2020-06-27T00:00:00",
          "2020-06-28T00:00:00",
          "2020-06-29T00:00:00",
          "2020-06-30T00:00:00",
          "2020-07-01T00:00:00",
          "2020-07-02T00:00:00",
          "2020-07-03T00:00:00",
          "2020-07-04T00:00:00",
          "2020-07-05T00:00:00",
          "2020-07-06T00:00:00",
          "2020-07-07T00:00:00",
          "2020-07-08T00:00:00",
          "2020-07-09T00:00:00",
          "2020-07-10T00:00:00",
          "2020-07-11T00:00:00",
          "2020-07-12T00:00:00",
          "2020-07-13T00:00:00",
          "2020-07-14T00:00:00",
          "2020-07-15T00:00:00",
          "2020-07-16T00:00:00",
          "2020-07-17T00:00:00",
          "2020-07-18T00:00:00",
          "2020-07-19T00:00:00",
          "2020-07-20T00:00:00",
          "2020-07-21T00:00:00",
          "2020-07-22T00:00:00",
          "2020-07-23T00:00:00",
          "2020-07-24T00:00:00",
          "2020-07-25T00:00:00",
          "2020-07-26T00:00:00",
          "2020-07-27T00:00:00",
          "2020-07-28T00:00:00",
          "2020-07-29T00:00:00",
          "2020-07-30T00:00:00",
          "2020-07-31T00:00:00",
          "2020-08-01T00:00:00",
          "2020-08-02T00:00:00",
          "2020-08-03T00:00:00",
          "2020-08-04T00:00:00",
          "2020-08-05T00:00:00",
          "2020-08-06T00:00:00",
          "2020-08-07T00:00:00",
          "2020-08-08T00:00:00",
          "2020-08-09T00:00:00",
          "2020-08-10T00:00:00",
          "2020-08-11T00:00:00",
          "2020-08-12T00:00:00",
          "2020-08-13T00:00:00",
          "2020-08-14T00:00:00",
          "2020-08-15T00:00:00",
          "2020-08-16T00:00:00",
          "2020-08-17T00:00:00",
          "2020-08-18T00:00:00",
          "2020-08-19T00:00:00",
          "2020-08-20T00:00:00",
          "2020-08-21T00:00:00",
          "2020-08-22T00:00:00",
          "2020-08-23T00:00:00",
          "2020-08-24T00:00:00",
          "2020-08-25T00:00:00",
          "2020-08-26T00:00:00",
          "2020-08-27T00:00:00",
          "2020-08-28T00:00:00",
          "2020-08-29T00:00:00",
          "2020-08-30T00:00:00",
          "2020-08-31T00:00:00",
          "2020-09-01T00:00:00",
          "2020-09-02T00:00:00",
          "2020-09-03T00:00:00",
          "2020-09-04T00:00:00",
          "2020-09-05T00:00:00",
          "2020-09-06T00:00:00",
          "2020-09-07T00:00:00",
          "2020-09-08T00:00:00",
          "2020-09-09T00:00:00",
          "2020-09-10T00:00:00",
          "2020-09-11T00:00:00",
          "2020-09-12T00:00:00",
          "2020-09-13T00:00:00",
          "2020-09-14T00:00:00",
          "2020-09-15T00:00:00",
          "2020-09-16T00:00:00",
          "2020-09-17T00:00:00",
          "2020-09-18T00:00:00",
          "2020-09-19T00:00:00",
          "2020-09-20T00:00:00",
          "2020-09-21T00:00:00",
          "2020-09-22T00:00:00",
          "2020-09-23T00:00:00",
          "2020-09-24T00:00:00",
          "2020-09-25T00:00:00",
          "2020-09-26T00:00:00",
          "2020-09-27T00:00:00",
          "2020-09-28T00:00:00",
          "2020-09-29T00:00:00",
          "2020-09-30T00:00:00",
          "2020-10-01T00:00:00",
          "2020-10-02T00:00:00",
          "2020-10-03T00:00:00",
          "2020-10-04T00:00:00",
          "2020-10-05T00:00:00",
          "2020-10-06T00:00:00",
          "2020-10-07T00:00:00",
          "2020-10-08T00:00:00",
          "2020-10-09T00:00:00",
          "2020-10-10T00:00:00",
          "2020-10-11T00:00:00",
          "2020-10-12T00:00:00",
          "2020-10-13T00:00:00",
          "2020-10-14T00:00:00",
          "2020-10-15T00:00:00",
          "2020-10-16T00:00:00",
          "2020-10-17T00:00:00",
          "2020-10-18T00:00:00",
          "2020-10-19T00:00:00",
          "2020-10-20T00:00:00",
          "2020-10-21T00:00:00",
          "2020-10-22T00:00:00",
          "2020-10-23T00:00:00",
          "2020-10-24T00:00:00",
          "2020-10-25T00:00:00",
          "2020-10-26T00:00:00",
          "2020-10-27T00:00:00",
          "2020-10-28T00:00:00",
          "2020-10-29T00:00:00",
          "2020-10-30T00:00:00",
          "2020-10-31T00:00:00",
          "2020-11-01T00:00:00",
          "2020-11-02T00:00:00",
          "2020-11-03T00:00:00",
          "2020-11-04T00:00:00",
          "2020-11-05T00:00:00",
          "2020-11-06T00:00:00",
          "2020-11-07T00:00:00",
          "2020-11-08T00:00:00",
          "2020-11-09T00:00:00",
          "2020-11-10T00:00:00",
          "2020-11-11T00:00:00",
          "2020-11-12T00:00:00",
          "2020-11-13T00:00:00",
          "2020-11-14T00:00:00",
          "2020-11-15T00:00:00",
          "2020-11-16T00:00:00",
          "2020-11-17T00:00:00",
          "2020-11-18T00:00:00",
          "2020-11-19T00:00:00",
          "2020-11-20T00:00:00",
          "2020-11-21T00:00:00",
          "2020-11-22T00:00:00",
          "2020-11-23T00:00:00",
          "2020-11-24T00:00:00",
          "2020-11-25T00:00:00",
          "2020-11-26T00:00:00",
          "2020-11-27T00:00:00",
          "2020-11-28T00:00:00",
          "2020-11-29T00:00:00",
          "2020-11-30T00:00:00",
          "2020-12-01T00:00:00",
          "2020-12-02T00:00:00",
          "2020-12-03T00:00:00",
          "2020-12-04T00:00:00",
          "2020-12-05T00:00:00",
          "2020-12-06T00:00:00",
          "2020-12-07T00:00:00",
          "2020-12-08T00:00:00",
          "2020-12-09T00:00:00",
          "2020-12-10T00:00:00",
          "2020-12-11T00:00:00",
          "2020-12-12T00:00:00",
          "2020-12-13T00:00:00",
          "2020-12-14T00:00:00",
          "2020-12-15T00:00:00",
          "2020-12-16T00:00:00",
          "2020-12-17T00:00:00",
          "2020-12-18T00:00:00",
          "2020-12-19T00:00:00",
          "2020-12-20T00:00:00",
          "2020-12-21T00:00:00",
          "2020-12-22T00:00:00",
          "2020-12-23T00:00:00",
          "2020-12-24T00:00:00",
          "2020-12-25T00:00:00",
          "2020-12-26T00:00:00",
          "2020-12-27T00:00:00",
          "2020-12-28T00:00:00",
          "2020-12-29T00:00:00",
          "2020-12-30T00:00:00",
          "2020-12-31T00:00:00",
          "2021-01-01T00:00:00",
          "2021-01-02T00:00:00",
          "2021-01-03T00:00:00",
          "2021-01-04T00:00:00",
          "2021-01-05T00:00:00",
          "2021-01-06T00:00:00",
          "2021-01-07T00:00:00",
          "2021-01-08T00:00:00",
          "2021-01-09T00:00:00",
          "2021-01-10T00:00:00",
          "2021-01-11T00:00:00",
          "2021-01-12T00:00:00",
          "2021-01-13T00:00:00",
          "2021-01-14T00:00:00",
          "2021-01-15T00:00:00",
          "2021-01-16T00:00:00",
          "2021-01-17T00:00:00",
          "2021-01-18T00:00:00",
          "2021-01-19T00:00:00",
          "2021-01-20T00:00:00",
          "2021-01-21T00:00:00",
          "2021-01-22T00:00:00",
          "2021-01-23T00:00:00",
          "2021-01-24T00:00:00",
          "2021-01-25T00:00:00",
          "2021-01-26T00:00:00",
          "2021-01-27T00:00:00",
          "2021-01-28T00:00:00",
          "2021-01-29T00:00:00",
          "2021-01-30T00:00:00",
          "2021-01-31T00:00:00",
          "2021-02-01T00:00:00",
          "2021-02-02T00:00:00",
          "2021-02-03T00:00:00",
          "2021-02-04T00:00:00",
          "2021-02-05T00:00:00",
          "2021-02-06T00:00:00",
          "2021-02-07T00:00:00",
          "2021-02-08T00:00:00",
          "2021-02-09T00:00:00",
          "2021-02-10T00:00:00",
          "2021-02-11T00:00:00",
          "2021-02-12T00:00:00",
          "2021-02-13T00:00:00",
          "2021-02-14T00:00:00",
          "2021-02-15T00:00:00",
          "2021-02-16T00:00:00",
          "2021-02-17T00:00:00",
          "2021-02-18T00:00:00",
          "2021-02-19T00:00:00",
          "2021-02-20T00:00:00",
          "2021-02-21T00:00:00",
          "2021-02-22T00:00:00",
          "2021-02-23T00:00:00",
          "2021-02-24T00:00:00",
          "2021-02-25T00:00:00",
          "2021-02-26T00:00:00",
          "2021-02-27T00:00:00",
          "2021-02-28T00:00:00",
          "2021-03-01T00:00:00",
          "2021-03-02T00:00:00",
          "2021-03-03T00:00:00",
          "2021-03-04T00:00:00",
          "2021-03-05T00:00:00",
          "2021-03-06T00:00:00",
          "2021-03-07T00:00:00",
          "2021-03-08T00:00:00",
          "2021-03-09T00:00:00",
          "2021-03-10T00:00:00",
          "2021-03-11T00:00:00",
          "2021-03-12T00:00:00",
          "2021-03-13T00:00:00",
          "2021-03-14T00:00:00",
          "2021-03-15T00:00:00",
          "2021-03-16T00:00:00",
          "2021-03-17T00:00:00",
          "2021-03-18T00:00:00",
          "2021-03-19T00:00:00",
          "2021-03-20T00:00:00",
          "2021-03-21T00:00:00",
          "2021-03-22T00:00:00",
          "2021-03-23T00:00:00",
          "2021-03-24T00:00:00",
          "2021-03-25T00:00:00",
          "2021-03-26T00:00:00",
          "2021-03-27T00:00:00",
          "2021-03-28T00:00:00",
          "2021-03-29T00:00:00",
          "2021-03-30T00:00:00",
          "2021-03-31T00:00:00",
          "2021-04-01T00:00:00",
          "2021-04-02T00:00:00",
          "2021-04-03T00:00:00",
          "2021-04-04T00:00:00",
          "2021-04-05T00:00:00",
          "2021-04-06T00:00:00",
          "2021-04-07T00:00:00",
          "2021-04-08T00:00:00",
          "2021-04-09T00:00:00",
          "2021-04-10T00:00:00",
          "2021-04-11T00:00:00",
          "2021-04-12T00:00:00",
          "2021-04-13T00:00:00",
          "2021-04-14T00:00:00",
          "2021-04-15T00:00:00",
          "2021-04-16T00:00:00",
          "2021-04-17T00:00:00",
          "2021-04-18T00:00:00",
          "2021-04-19T00:00:00",
          "2021-04-20T00:00:00",
          "2021-04-21T00:00:00",
          "2021-04-22T00:00:00",
          "2021-04-23T00:00:00",
          "2021-04-24T00:00:00",
          "2021-04-25T00:00:00",
          "2021-04-26T00:00:00",
          "2021-04-27T00:00:00",
          "2021-04-28T00:00:00",
          "2021-04-29T00:00:00",
          "2021-04-30T00:00:00",
          "2021-05-01T00:00:00",
          "2021-05-02T00:00:00",
          "2021-05-03T00:00:00",
          "2021-05-04T00:00:00",
          "2021-05-05T00:00:00",
          "2021-05-06T00:00:00",
          "2021-05-07T00:00:00",
          "2021-05-08T00:00:00",
          "2021-05-09T00:00:00",
          "2021-05-10T00:00:00",
          "2021-05-11T00:00:00",
          "2021-05-12T00:00:00",
          "2021-05-13T00:00:00",
          "2021-05-14T00:00:00",
          "2021-05-15T00:00:00",
          "2021-05-16T00:00:00",
          "2021-05-17T00:00:00",
          "2021-05-18T00:00:00",
          "2021-05-19T00:00:00",
          "2021-05-20T00:00:00",
          "2021-05-21T00:00:00",
          "2021-05-22T00:00:00",
          "2021-05-23T00:00:00",
          "2021-05-24T00:00:00",
          "2021-05-25T00:00:00",
          "2021-05-26T00:00:00",
          "2021-05-27T00:00:00",
          "2021-05-28T00:00:00",
          "2021-05-29T00:00:00",
          "2021-05-30T00:00:00",
          "2021-05-31T00:00:00",
          "2021-06-01T00:00:00",
          "2021-06-02T00:00:00",
          "2021-06-03T00:00:00",
          "2021-06-04T00:00:00",
          "2021-06-05T00:00:00",
          "2021-06-06T00:00:00",
          "2021-06-07T00:00:00",
          "2021-06-08T00:00:00",
          "2021-06-09T00:00:00",
          "2021-06-10T00:00:00",
          "2021-06-11T00:00:00",
          "2021-06-12T00:00:00",
          "2021-06-13T00:00:00",
          "2021-06-14T00:00:00",
          "2021-06-15T00:00:00",
          "2021-06-16T00:00:00",
          "2021-06-17T00:00:00",
          "2021-06-18T00:00:00",
          "2021-06-19T00:00:00",
          "2021-06-20T00:00:00",
          "2021-06-21T00:00:00",
          "2021-06-22T00:00:00",
          "2021-06-23T00:00:00",
          "2021-06-24T00:00:00",
          "2021-06-25T00:00:00",
          "2021-06-26T00:00:00",
          "2021-06-27T00:00:00",
          "2021-06-28T00:00:00",
          "2021-06-29T00:00:00",
          "2021-06-30T00:00:00",
          "2021-07-01T00:00:00",
          "2021-07-02T00:00:00",
          "2021-07-03T00:00:00",
          "2021-07-04T00:00:00",
          "2021-07-05T00:00:00",
          "2021-07-06T00:00:00",
          "2021-07-07T00:00:00",
          "2021-07-08T00:00:00",
          "2021-07-09T00:00:00",
          "2021-07-10T00:00:00",
          "2021-07-11T00:00:00",
          "2021-07-12T00:00:00",
          "2021-07-13T00:00:00",
          "2021-07-14T00:00:00",
          "2021-07-15T00:00:00",
          "2021-07-16T00:00:00",
          "2021-07-17T00:00:00",
          "2021-07-18T00:00:00",
          "2021-07-19T00:00:00",
          "2021-07-20T00:00:00",
          "2021-07-21T00:00:00",
          "2021-07-22T00:00:00",
          "2021-07-23T00:00:00",
          "2021-07-24T00:00:00",
          "2021-07-25T00:00:00",
          "2021-07-26T00:00:00",
          "2021-07-27T00:00:00",
          "2021-07-28T00:00:00",
          "2021-07-29T00:00:00",
          "2021-07-30T00:00:00",
          "2021-07-31T00:00:00",
          "2021-08-01T00:00:00",
          "2021-08-02T00:00:00",
          "2021-08-03T00:00:00",
          "2021-08-04T00:00:00",
          "2021-08-05T00:00:00",
          "2021-08-06T00:00:00",
          "2021-08-07T00:00:00",
          "2021-08-08T00:00:00",
          "2021-08-09T00:00:00",
          "2021-08-10T00:00:00",
          "2021-08-11T00:00:00",
          "2021-08-12T00:00:00",
          "2021-08-13T00:00:00",
          "2021-08-14T00:00:00",
          "2021-08-15T00:00:00",
          "2021-08-16T00:00:00",
          "2021-08-17T00:00:00",
          "2021-08-18T00:00:00",
          "2021-08-19T00:00:00",
          "2021-08-20T00:00:00",
          "2021-08-21T00:00:00",
          "2021-08-22T00:00:00",
          "2021-08-23T00:00:00",
          "2021-08-24T00:00:00",
          "2021-08-25T00:00:00",
          "2021-08-26T00:00:00",
          "2021-08-27T00:00:00",
          "2021-08-28T00:00:00",
          "2021-08-29T00:00:00",
          "2021-08-30T00:00:00",
          "2021-08-31T00:00:00",
          "2021-09-01T00:00:00",
          "2021-09-02T00:00:00",
          "2021-09-03T00:00:00",
          "2021-09-04T00:00:00",
          "2021-09-05T00:00:00",
          "2021-09-06T00:00:00",
          "2021-09-07T00:00:00",
          "2021-09-08T00:00:00",
          "2021-09-09T00:00:00",
          "2021-09-10T00:00:00",
          "2021-09-11T00:00:00",
          "2021-09-12T00:00:00",
          "2021-09-13T00:00:00",
          "2021-09-14T00:00:00",
          "2021-09-15T00:00:00",
          "2021-09-16T00:00:00",
          "2021-09-17T00:00:00",
          "2021-09-18T00:00:00",
          "2021-09-19T00:00:00",
          "2021-09-20T00:00:00",
          "2021-09-21T00:00:00",
          "2021-09-22T00:00:00",
          "2021-09-23T00:00:00",
          "2021-09-24T00:00:00",
          "2021-09-25T00:00:00",
          "2021-09-26T00:00:00",
          "2021-09-27T00:00:00",
          "2021-09-28T00:00:00",
          "2021-09-29T00:00:00",
          "2021-09-30T00:00:00",
          "2021-10-01T00:00:00",
          "2021-10-02T00:00:00",
          "2021-10-03T00:00:00",
          "2021-10-04T00:00:00",
          "2021-10-05T00:00:00",
          "2021-10-06T00:00:00",
          "2021-10-07T00:00:00",
          "2021-10-08T00:00:00",
          "2021-10-09T00:00:00",
          "2021-10-10T00:00:00",
          "2021-10-11T00:00:00",
          "2021-10-12T00:00:00",
          "2021-10-13T00:00:00",
          "2021-10-14T00:00:00",
          "2021-10-15T00:00:00",
          "2021-10-16T00:00:00",
          "2021-10-17T00:00:00",
          "2021-10-18T00:00:00",
          "2021-10-19T00:00:00",
          "2021-10-20T00:00:00",
          "2021-10-21T00:00:00",
          "2021-10-22T00:00:00",
          "2021-10-23T00:00:00",
          "2021-10-24T00:00:00",
          "2021-10-25T00:00:00",
          "2021-10-26T00:00:00",
          "2021-10-27T00:00:00",
          "2021-10-28T00:00:00",
          "2021-10-29T00:00:00",
          "2021-10-30T00:00:00",
          "2021-10-31T00:00:00",
          "2021-11-01T00:00:00",
          "2021-11-02T00:00:00",
          "2021-11-03T00:00:00",
          "2021-11-04T00:00:00",
          "2021-11-05T00:00:00",
          "2021-11-06T00:00:00",
          "2021-11-07T00:00:00",
          "2021-11-08T00:00:00",
          "2021-11-09T00:00:00",
          "2021-11-10T00:00:00",
          "2021-11-11T00:00:00",
          "2021-11-12T00:00:00",
          "2021-11-13T00:00:00",
          "2021-11-14T00:00:00",
          "2021-11-15T00:00:00",
          "2021-11-16T00:00:00",
          "2021-11-17T00:00:00",
          "2021-11-18T00:00:00",
          "2021-11-19T00:00:00",
          "2021-11-20T00:00:00",
          "2021-11-21T00:00:00",
          "2021-11-22T00:00:00",
          "2021-11-23T00:00:00",
          "2021-11-24T00:00:00",
          "2021-11-25T00:00:00",
          "2021-11-26T00:00:00",
          "2021-11-27T00:00:00",
          "2021-11-28T00:00:00",
          "2021-11-29T00:00:00",
          "2021-11-30T00:00:00",
          "2021-12-01T00:00:00",
          "2021-12-02T00:00:00",
          "2021-12-03T00:00:00",
          "2021-12-04T00:00:00",
          "2021-12-05T00:00:00",
          "2021-12-06T00:00:00",
          "2021-12-07T00:00:00",
          "2021-12-08T00:00:00",
          "2021-12-09T00:00:00",
          "2021-12-10T00:00:00",
          "2021-12-11T00:00:00",
          "2021-12-12T00:00:00",
          "2021-12-13T00:00:00",
          "2021-12-14T00:00:00",
          "2021-12-15T00:00:00",
          "2021-12-16T00:00:00",
          "2021-12-17T00:00:00",
          "2021-12-18T00:00:00",
          "2021-12-19T00:00:00",
          "2021-12-20T00:00:00",
          "2021-12-21T00:00:00",
          "2021-12-22T00:00:00",
          "2021-12-23T00:00:00",
          "2021-12-24T00:00:00",
          "2021-12-25T00:00:00",
          "2021-12-26T00:00:00",
          "2021-12-27T00:00:00",
          "2021-12-28T00:00:00",
          "2021-12-29T00:00:00",
          "2021-12-30T00:00:00",
          "2021-12-31T00:00:00",
          "2022-01-01T00:00:00",
          "2022-01-02T00:00:00",
          "2022-01-03T00:00:00",
          "2022-01-04T00:00:00",
          "2022-01-05T00:00:00",
          "2022-01-06T00:00:00",
          "2022-01-07T00:00:00",
          "2022-01-08T00:00:00",
          "2022-01-09T00:00:00",
          "2022-01-10T00:00:00",
          "2022-01-11T00:00:00",
          "2022-01-12T00:00:00",
          "2022-01-13T00:00:00",
          "2022-01-14T00:00:00",
          "2022-01-15T00:00:00",
          "2022-01-16T00:00:00",
          "2022-01-17T00:00:00",
          "2022-01-18T00:00:00",
          "2022-01-19T00:00:00",
          "2022-01-20T00:00:00",
          "2022-01-21T00:00:00",
          "2022-01-22T00:00:00",
          "2022-01-23T00:00:00",
          "2022-01-24T00:00:00",
          "2022-01-25T00:00:00",
          "2022-01-26T00:00:00",
          "2022-01-27T00:00:00",
          "2022-01-28T00:00:00",
          "2022-01-29T00:00:00",
          "2022-01-30T00:00:00",
          "2022-01-31T00:00:00",
          "2022-02-01T00:00:00",
          "2022-02-02T00:00:00",
          "2022-02-03T00:00:00",
          "2022-02-04T00:00:00",
          "2022-02-05T00:00:00",
          "2022-02-06T00:00:00",
          "2022-02-07T00:00:00",
          "2022-02-08T00:00:00",
          "2022-02-09T00:00:00",
          "2022-02-10T00:00:00",
          "2022-02-11T00:00:00",
          "2022-02-12T00:00:00",
          "2022-02-13T00:00:00",
          "2022-02-14T00:00:00",
          "2022-02-15T00:00:00",
          "2022-02-16T00:00:00",
          "2022-02-17T00:00:00",
          "2022-02-18T00:00:00",
          "2022-02-19T00:00:00",
          "2022-02-20T00:00:00",
          "2022-02-21T00:00:00",
          "2022-02-22T00:00:00",
          "2022-02-23T00:00:00",
          "2022-02-24T00:00:00",
          "2022-02-25T00:00:00",
          "2022-02-26T00:00:00",
          "2022-02-27T00:00:00",
          "2022-02-28T00:00:00",
          "2022-03-01T00:00:00",
          "2022-03-02T00:00:00",
          "2022-03-03T00:00:00",
          "2022-03-04T00:00:00",
          "2022-03-05T00:00:00",
          "2022-03-06T00:00:00",
          "2022-03-07T00:00:00",
          "2022-03-08T00:00:00",
          "2022-03-09T00:00:00",
          "2022-03-10T00:00:00",
          "2022-03-11T00:00:00",
          "2022-03-12T00:00:00",
          "2022-03-13T00:00:00",
          "2022-03-14T00:00:00",
          "2022-03-15T00:00:00",
          "2022-03-16T00:00:00",
          "2022-03-17T00:00:00",
          "2022-03-18T00:00:00",
          "2022-03-19T00:00:00",
          "2022-03-20T00:00:00",
          "2022-03-21T00:00:00",
          "2022-03-22T00:00:00",
          "2022-03-23T00:00:00",
          "2022-03-24T00:00:00",
          "2022-03-25T00:00:00",
          "2022-03-26T00:00:00",
          "2022-03-27T00:00:00",
          "2022-03-28T00:00:00",
          "2022-03-29T00:00:00",
          "2022-03-30T00:00:00",
          "2022-03-31T00:00:00",
          "2022-04-01T00:00:00",
          "2022-04-02T00:00:00",
          "2022-04-03T00:00:00",
          "2022-04-04T00:00:00",
          "2022-04-05T00:00:00",
          "2022-04-06T00:00:00",
          "2022-04-07T00:00:00",
          "2022-04-08T00:00:00",
          "2022-04-09T00:00:00",
          "2022-04-10T00:00:00",
          "2022-04-11T00:00:00",
          "2022-04-12T00:00:00",
          "2022-04-13T00:00:00",
          "2022-04-14T00:00:00",
          "2022-04-15T00:00:00",
          "2022-04-16T00:00:00",
          "2022-04-17T00:00:00",
          "2022-04-18T00:00:00",
          "2022-04-19T00:00:00",
          "2022-04-20T00:00:00",
          "2022-04-21T00:00:00",
          "2022-04-22T00:00:00",
          "2022-04-23T00:00:00",
          "2022-04-24T00:00:00",
          "2022-04-25T00:00:00",
          "2022-04-26T00:00:00",
          "2022-04-27T00:00:00",
          "2022-04-28T00:00:00",
          "2022-04-29T00:00:00",
          "2022-04-30T00:00:00",
          "2022-05-01T00:00:00",
          "2022-05-02T00:00:00",
          "2022-05-03T00:00:00",
          "2022-05-04T00:00:00",
          "2022-05-05T00:00:00",
          "2022-05-06T00:00:00",
          "2022-05-07T00:00:00",
          "2022-05-08T00:00:00",
          "2022-05-09T00:00:00",
          "2022-05-10T00:00:00",
          "2022-05-11T00:00:00",
          "2022-05-12T00:00:00",
          "2022-05-13T00:00:00",
          "2022-05-14T00:00:00",
          "2022-05-15T00:00:00",
          "2022-05-16T00:00:00",
          "2022-05-17T00:00:00",
          "2022-05-18T00:00:00",
          "2022-05-19T00:00:00",
          "2022-05-20T00:00:00",
          "2022-05-21T00:00:00",
          "2022-05-22T00:00:00",
          "2022-05-23T00:00:00",
          "2022-05-24T00:00:00",
          "2022-05-25T00:00:00",
          "2022-05-26T00:00:00",
          "2022-05-27T00:00:00",
          "2022-05-28T00:00:00",
          "2022-05-29T00:00:00",
          "2022-05-30T00:00:00",
          "2022-05-31T00:00:00",
          "2022-06-01T00:00:00",
          "2022-06-02T00:00:00",
          "2022-06-03T00:00:00",
          "2022-06-04T00:00:00",
          "2022-06-05T00:00:00",
          "2022-06-06T00:00:00",
          "2022-06-07T00:00:00",
          "2022-06-08T00:00:00",
          "2022-06-09T00:00:00",
          "2022-06-10T00:00:00",
          "2022-06-11T00:00:00",
          "2022-06-12T00:00:00",
          "2022-06-13T00:00:00",
          "2022-06-14T00:00:00",
          "2022-06-15T00:00:00",
          "2022-06-16T00:00:00",
          "2022-06-17T00:00:00",
          "2022-06-18T00:00:00",
          "2022-06-19T00:00:00",
          "2022-06-20T00:00:00",
          "2022-06-21T00:00:00",
          "2022-06-22T00:00:00",
          "2022-06-23T00:00:00",
          "2022-06-24T00:00:00",
          "2022-06-25T00:00:00",
          "2022-06-26T00:00:00",
          "2022-06-27T00:00:00",
          "2022-06-28T00:00:00",
          "2022-06-29T00:00:00",
          "2022-06-30T00:00:00",
          "2022-07-01T00:00:00",
          "2022-07-02T00:00:00",
          "2022-07-03T00:00:00",
          "2022-07-04T00:00:00",
          "2022-07-05T00:00:00",
          "2022-07-06T00:00:00",
          "2022-07-07T00:00:00",
          "2022-07-08T00:00:00",
          "2022-07-09T00:00:00",
          "2022-07-10T00:00:00",
          "2022-07-11T00:00:00",
          "2022-07-12T00:00:00",
          "2022-07-13T00:00:00",
          "2022-07-14T00:00:00",
          "2022-07-15T00:00:00",
          "2022-07-16T00:00:00",
          "2022-07-17T00:00:00",
          "2022-07-18T00:00:00",
          "2022-07-19T00:00:00",
          "2022-07-20T00:00:00",
          "2022-07-21T00:00:00",
          "2022-07-22T00:00:00",
          "2022-07-23T00:00:00",
          "2022-07-24T00:00:00",
          "2022-07-25T00:00:00",
          "2022-07-26T00:00:00",
          "2022-07-27T00:00:00",
          "2022-07-28T00:00:00",
          "2022-07-29T00:00:00",
          "2022-07-30T00:00:00",
          "2022-07-31T00:00:00",
          "2022-08-01T00:00:00",
          "2022-08-02T00:00:00",
          "2022-08-03T00:00:00",
          "2022-08-04T00:00:00",
          "2022-08-05T00:00:00",
          "2022-08-06T00:00:00",
          "2022-08-07T00:00:00",
          "2022-08-08T00:00:00",
          "2022-08-09T00:00:00",
          "2022-08-10T00:00:00",
          "2022-08-11T00:00:00",
          "2022-08-12T00:00:00",
          "2022-08-13T00:00:00",
          "2022-08-14T00:00:00",
          "2022-08-15T00:00:00",
          "2022-08-16T00:00:00",
          "2022-08-17T00:00:00",
          "2022-08-18T00:00:00",
          "2022-08-19T00:00:00",
          "2022-08-20T00:00:00",
          "2022-08-21T00:00:00",
          "2022-08-22T00:00:00",
          "2022-08-23T00:00:00",
          "2022-08-24T00:00:00",
          "2022-08-25T00:00:00",
          "2022-08-26T00:00:00",
          "2022-08-27T00:00:00",
          "2022-08-28T00:00:00",
          "2022-08-29T00:00:00",
          "2022-08-30T00:00:00",
          "2022-08-31T00:00:00",
          "2022-09-01T00:00:00",
          "2022-09-02T00:00:00",
          "2022-09-03T00:00:00",
          "2022-09-04T00:00:00",
          "2022-09-05T00:00:00",
          "2022-09-06T00:00:00",
          "2022-09-07T00:00:00",
          "2022-09-08T00:00:00",
          "2022-09-09T00:00:00",
          "2022-09-10T00:00:00",
          "2022-09-11T00:00:00",
          "2022-09-12T00:00:00",
          "2022-09-13T00:00:00",
          "2022-09-14T00:00:00",
          "2022-09-15T00:00:00",
          "2022-09-16T00:00:00",
          "2022-09-17T00:00:00",
          "2022-09-18T00:00:00",
          "2022-09-19T00:00:00",
          "2022-09-20T00:00:00",
          "2022-09-21T00:00:00",
          "2022-09-22T00:00:00",
          "2022-09-23T00:00:00",
          "2022-09-24T00:00:00",
          "2022-09-25T00:00:00",
          "2022-09-26T00:00:00",
          "2022-09-27T00:00:00",
          "2022-09-28T00:00:00",
          "2022-09-29T00:00:00",
          "2022-09-30T00:00:00",
          "2022-10-01T00:00:00",
          "2022-10-02T00:00:00",
          "2022-10-03T00:00:00",
          "2022-10-04T00:00:00",
          "2022-10-05T00:00:00",
          "2022-10-06T00:00:00",
          "2022-10-07T00:00:00",
          "2022-10-08T00:00:00",
          "2022-10-09T00:00:00",
          "2022-10-10T00:00:00",
          "2022-10-11T00:00:00",
          "2022-10-12T00:00:00",
          "2022-10-13T00:00:00",
          "2022-10-14T00:00:00",
          "2022-10-15T00:00:00",
          "2022-10-16T00:00:00",
          "2022-10-17T00:00:00",
          "2022-10-18T00:00:00",
          "2022-10-19T00:00:00",
          "2022-10-20T00:00:00",
          "2022-10-21T00:00:00",
          "2022-10-22T00:00:00",
          "2022-10-23T00:00:00",
          "2022-10-24T00:00:00",
          "2022-10-25T00:00:00",
          "2022-10-26T00:00:00",
          "2022-10-27T00:00:00",
          "2022-10-28T00:00:00",
          "2022-10-29T00:00:00",
          "2022-10-30T00:00:00",
          "2022-10-31T00:00:00",
          "2022-11-01T00:00:00",
          "2022-11-02T00:00:00",
          "2022-11-03T00:00:00",
          "2022-11-04T00:00:00",
          "2022-11-05T00:00:00",
          "2022-11-06T00:00:00",
          "2022-11-07T00:00:00",
          "2022-11-08T00:00:00",
          "2022-11-09T00:00:00",
          "2022-11-10T00:00:00",
          "2022-11-11T00:00:00",
          "2022-11-12T00:00:00",
          "2022-11-13T00:00:00",
          "2022-11-14T00:00:00",
          "2022-11-15T00:00:00",
          "2022-11-16T00:00:00",
          "2022-11-17T00:00:00",
          "2022-11-18T00:00:00",
          "2022-11-19T00:00:00",
          "2022-11-20T00:00:00",
          "2022-11-21T00:00:00",
          "2022-11-22T00:00:00",
          "2022-11-23T00:00:00",
          "2022-11-24T00:00:00",
          "2022-11-25T00:00:00",
          "2022-11-26T00:00:00",
          "2022-11-27T00:00:00",
          "2022-11-28T00:00:00",
          "2022-11-29T00:00:00",
          "2022-11-30T00:00:00",
          "2022-12-01T00:00:00",
          "2022-12-02T00:00:00",
          "2022-12-03T00:00:00",
          "2022-12-04T00:00:00",
          "2022-12-05T00:00:00",
          "2022-12-06T00:00:00",
          "2022-12-07T00:00:00",
          "2022-12-08T00:00:00",
          "2022-12-09T00:00:00",
          "2022-12-10T00:00:00",
          "2022-12-11T00:00:00",
          "2022-12-12T00:00:00",
          "2022-12-13T00:00:00",
          "2022-12-14T00:00:00",
          "2022-12-15T00:00:00",
          "2022-12-16T00:00:00",
          "2022-12-17T00:00:00",
          "2022-12-18T00:00:00",
          "2022-12-19T00:00:00",
          "2022-12-20T00:00:00",
          "2022-12-21T00:00:00",
          "2022-12-22T00:00:00",
          "2022-12-23T00:00:00",
          "2022-12-24T00:00:00",
          "2022-12-25T00:00:00",
          "2022-12-26T00:00:00",
          "2022-12-27T00:00:00",
          "2022-12-28T00:00:00"
         ],
         "xaxis": "x",
         "y": [
          320.8840026855469,
          299.25299072265625,
          314.6809997558594,
          307.9079895019531,
          316.71600341796875,
          337.6310119628906,
          333.35699462890625,
          330.92401123046875,
          332.3940124511719,
          347.61199951171875,
          354.385986328125,
          366.7300109863281,
          360.4010009765625,
          380.6520080566406,
          410.1659851074219,
          474.9110107421875,
          466.2760009765625,
          471.3299865722656,
          480.3550109863281,
          472.9020080566406,
          427.5230102539063,
          447.114013671875,
          466.5400085449219,
          463.4490051269531,
          465.8529968261719,
          470.2040100097656,
          463.281005859375,
          428.5880126953125,
          434.4079895019531,
          456.031005859375,
          473.50201416015625,
          441.7210083007813,
          515.135986328125,
          651.4310302734375,
          702.7670288085938,
          695.8159790039062,
          684.447998046875,
          696.208984375,
          719.9749755859375,
          794.64501953125,
          826.822998046875,
          819.0859985351562,
          821.06298828125,
          674.8599853515625,
          719.3870239257812,
          694.1480102539062,
          765.833984375,
          773.8359985351562,
          762.8419799804688,
          737.0230102539062,
          753.5919799804688,
          717.2570190429688,
          756.7329711914062,
          772.6409912109375,
          884.4439697265625,
          962.719970703125,
          980.9219970703124,
          997.719970703125,
          1041.6800537109375,
          1153.1700439453125,
          1148.530029296875,
          1299.739990234375,
          1255.8199462890625,
          1154.9300537109375,
          1273.199951171875,
          1396.4200439453125,
          1366.77001953125,
          1291.9200439453125,
          1053.68994140625,
          1014.25,
          1036.280029296875,
          1039.0999755859375,
          1155.1500244140625,
          1049.5799560546875,
          1003.260009765625,
          986.22900390625,
          1058.780029296875,
          1056.030029296875,
          1055.1700439453125,
          1107.0699462890625,
          1246.010009765625,
          1182.3599853515625,
          1071.1300048828125,
          1118.31005859375,
          1036.7900390625,
          915.7849731445312,
          964.0189819335938,
          834.6820068359375,
          697.9509887695312,
          793.1220092773438,
          757.0679931640625,
          817.8070068359375,
          883.864990234375,
          860.4149780273438,
          814.6599731445312,
          868.7069702148438,
          845.2579956054688,
          923.5609741210938,
          936.9760131835938,
          944.2100219726562,
          974.114990234375,
          923.9210205078124,
          943.864990234375,
          895.3709716796875,
          849.9710083007812,
          812.844970703125,
          864.1890258789062,
          840.5150146484375,
          844.8099975585938,
          869.3150024414062,
          878.2650146484375,
          855.198974609375,
          872.2000122070312,
          856.85302734375,
          857.2249755859375,
          866.677978515625,
          853.6840209960938,
          816.9509887695312,
          752.8309936523438,
          704.5960083007812,
          728.916015625,
          686.8900146484375,
          723.3389892578125,
          699.8309936523438,
          690.8270263671875,
          614.291015625,
          611.3040161132812,
          601.666015625,
          552.7789916992188,
          538.6439819335938,
          556.7260131835938,
          557.1749877929688,
          561.7319946289062,
          539.7020263671875,
          539.6190185546875,
          526.4390258789062,
          524.2869873046875,
          489.9509887695313,
          450.1159973144531,
          446.2789916992188,
          385.9679870605469,
          394.6449890136719,
          396.4570007324219,
          379.6069946289063,
          386.4249877929688,
          416.89300537109375,
          380.5429992675781,
          383.2319946289063,
          370.2850036621094,
          385.3139953613281,
          400.5079956054688,
          398.5260009765625,
          414.2430114746094,
          430.5400085449219,
          492.9410095214844,
          492.7349853515625,
          501.4779968261719,
          531.7020263671875,
          511.1470031738281,
          502.8940124511719,
          524.7890014648438,
          567.8889770507812,
          615.718017578125,
          605.39501953125,
          621.8599853515625,
          642.5479736328125,
          708.1580200195312,
          615.416015625,
          662.8090209960938,
          647.031982421875,
          683.677978515625,
          688.8809814453125,
          669.9240112304688,
          673.6129760742188,
          687.1489868164062,
          779.5430297851562,
          785.6240234375,
          816.1199951171875,
          792.3109741210938,
          753.7249755859375,
          752.8569946289062,
          752.2750244140625,
          727.2769775390625,
          679.5859985351562,
          686.0479736328125,
          733.4959716796875,
          730.5490112304688,
          708.8709716796875,
          707.0499877929688,
          672.656982421875,
          694.3670043945312,
          696.530029296875,
          715.3690185546875,
          699.2219848632812,
          647.7410278320312,
          583.5850219726562,
          601.7550048828125,
          586.7340087890625,
          587.280029296875,
          572.6680297851562,
          516.0360107421875,
          565.3880004882812,
          559.5900268554688,
          577.64501953125,
          580.0430297851562,
          591.8079833984375,
          618.3289794921875,
          592.9849853515625,
          609.302978515625,
          607.1240234375,
          605.18701171875,
          601.0770263671875,
          597.56201171875,
          526.47900390625,
          533.2839965820312,
          496.8429870605469,
          477.4939880371094,
          519.7420043945312,
          491.0039978027344,
          499.6419982910156,
          500.447998046875,
          518.8909912109375,
          537.9569702148438,
          536.2680053710938,
          527.3670043945312,
          465.8169860839844,
          474.5199890136719,
          457.6719970703125,
          460.30999755859375,
          432.7720031738281,
          442.364990234375,
          422.364990234375,
          436.0090026855469,
          455.1799926757813,
          453.9179992675781,
          475.3469848632813,
          464.1950073242188,
          467.3179931640625,
          474.4119873046875,
          474.0119934082031,
          491.6600036621094,
          489.1189880371094,
          476.6820068359375,
          434.4240112304688,
          446.51800537109375,
          430.0740051269531,
          434.0270080566406,
          436.08599853515625,
          449.8500061035156,
          480.6579895019531,
          501.00201416015625,
          480.5130004882813,
          469.6189880371094,
          450.697998046875,
          462.4360046386719,
          459.6570129394531,
          450.8529968261719,
          479.37298583984375,
          472.4930114746094,
          464.0369873046875,
          469.6659851074219,
          466.8980102539063,
          466.6650085449219,
          457.08099365234375,
          433.8670043945313,
          420.74700927734375,
          412.6210021972656,
          418.2619934082031,
          407.25201416015625,
          410.5159912109375,
          406.6579895019531,
          380.2149963378906,
          356.6130065917969,
          365.5880126953125,
          334.1759948730469,
          322.11199951171875,
          319.57000732421875,
          286.4949951171875,
          278.9320068359375,
          282.364013671875,
          288.0459899902344,
          315.72900390625,
          295.81201171875,
          300.8340148925781,
          274.31500244140625,
          281.9440002441406,
          271.34100341796875,
          277.10400390625,
          282.9670104980469,
          279.64599609375,
          275.1969909667969,
          285.6029968261719,
          296.4989929199219,
          289.31201171875,
          284.1050109863281,
          283.0039978027344,
          295.34100341796875,
          294.3710021972656,
          289.2590026855469,
          285.7229919433594,
          232.33099365234372,
          230.21499633789065,
          217.2030029296875,
          197.9510040283203,
          196.9239959716797,
          197.07899475097656,
          185.0659942626953,
          183.33099365234372,
          211.35400390625,
          211.74899291992188,
          223.07400512695312,
          220.5890045166016,
          197.875,
          209.9750061035156,
          209.968994140625,
          224.59100341796875,
          246.58399963378903,
          240.47999572753903,
          244.3300018310547,
          228.72999572753903,
          218.5050048828125,
          215.8470001220703,
          228.49400329589844,
          222.4019927978516,
          231.63499450683597,
          232.84800720214844,
          230.76800537109372,
          227.18099975585935,
          220.48899841308597,
          222.21800231933597,
          227.6009979248047,
          225.1199951171875,
          226.11900329589844,
          229.2550048828125,
          227.98199462890625,
          225.7689971923828,
          189.49899291992188,
          196.7270050048828,
          199.84100341796875,
          195.71499633789065,
          209.70399475097656,
          210.1199951171875,
          207.0829925537109,
          203.3520050048828,
          203.7270050048828,
          205.42999267578125,
          205.1419982910156,
          204.04400634765625,
          204.33599853515625,
          203.8520050048828,
          202.718994140625,
          203.32899475097656,
          204.2100067138672,
          205.36599731445312,
          197.2469940185547,
          197.55599975585935,
          197.3809967041016,
          198.8719940185547,
          200.63499450683597,
          200.18600463867188,
          207.48599243164065,
          209.09100341796875,
          218.45199584960935,
          217.18299865722656,
          212.2310028076172,
          210.07400512695312,
          212.5330047607422,
          211.33999633789065,
          210.41799926757807,
          206.8260040283203,
          181.39700317382807,
          180.80599975585935,
          175.177001953125,
          174.00100708007812,
          177.06700134277344,
          149.1750030517578,
          130.33900451660156,
          136.7010040283203,
          126.70600128173828,
          123.2959976196289,
          113.49400329589844,
          116.4499969482422,
          108.33499908447266,
          110.01000213623048,
          122.43800354003906,
          117.54264831542967,
          113.17141723632812,
          118.63555908203124,
          116.38890075683594,
          108.92501831054688,
          110.21418762207033,
          102.47555541992188,
          91.76105499267578,
          93.29456329345705,
          92.15963745117188,
          95.14205932617188,
          91.68565368652344,
          88.94530487060547,
          90.59329986572266,
          86.53931427001953,
          84.30829620361328,
          84.44081115722656,
          85.26210021972656,
          95.13382720947266,
          101.11245727539062,
          101.2685775756836,
          116.21687316894533,
          109.49623107910156,
          116.7594985961914,
          130.7652587890625,
          140.23800659179688,
          129.84434509277344,
          131.86563110351562,
          116.57591247558594,
          137.6470184326172,
          138.01834106445312,
          139.8594512939453,
          133.36825561523438,
          140.8194122314453,
          155.0476837158203,
          149.135009765625,
          154.58193969726562,
          155.6385955810547,
          157.74620056152344,
          151.69921875,
          150.35963439941406,
          150.80311584472656,
          128.62518310546875,
          127.54832458496094,
          125.9665298461914,
          116.8978042602539,
          129.0687255859375,
          122.03271484375,
          123.54706573486328,
          123.7419204711914,
          121.01026153564452,
          124.5190200805664,
          119.4748306274414,
          117.15785217285156,
          118.74755096435548,
          117.45260620117188,
          117.36288452148438,
          116.37834167480467,
          116.48873901367188,
          113.40528869628906,
          106.58997344970705,
          105.59821319580078,
          108.90753936767578,
          107.0610122680664,
          107.60978698730467,
          110.43025970458984,
          107.49266815185548,
          107.82160186767578,
          107.44351959228516,
          104.9192886352539,
          104.5353012084961,
          119.26774597167967,
          119.4308853149414,
          124.80648803710938,
          121.29839324951172,
          122.5722885131836,
          122.55360412597656,
          121.39020538330078,
          122.1003875732422,
          123.26021575927734,
          133.598876953125,
          146.09837341308594,
          145.34619140625,
          149.55433654785156,
          146.13084411621094,
          149.0924530029297,
          158.79542541503906,
          135.8526611328125,
          139.82286071777344,
          138.0896759033203,
          136.12596130371094,
          136.74624633789062,
          136.44361877441406,
          134.2069549560547,
          132.24942016601562,
          127.7741241455078,
          137.8223876953125,
          138.7893524169922,
          138.0345001220703,
          135.1270751953125,
          137.96533203125,
          136.75868225097656,
          133.8340301513672,
          134.44288635253906,
          133.26307678222656,
          133.7115936279297,
          137.69178771972656,
          142.39817810058594,
          140.00054931640625,
          139.37460327148438,
          140.51919555664062,
          140.6863555908203,
          136.6360626220703,
          137.1814422607422,
          138.2398681640625,
          136.98692321777344,
          135.03102111816406,
          135.46035766601562,
          140.9881591796875,
          139.41647338867188,
          142.49742126464844,
          142.09268188476562,
          141.51409912109375,
          141.830322265625,
          163.9617462158203,
          161.45880126953125,
          158.0525360107422,
          165.5148468017578,
          165.94720458984375,
          174.53164672851562,
          180.25881958007807,
          176.1145782470703,
          177.3374786376953,
          165.4970245361328,
          164.736328125,
          164.5133514404297,
          167.83851623535156,
          161.5741729736328,
          167.62344360351562,
          166.9507598876953,
          173.81402587890625,
          173.70843505859375,
          173.7512664794922,
          170.04652404785156,
          171.87466430664062,
          171.4477996826172,
          165.8260955810547,
          154.4593963623047,
          156.3470916748047,
          158.4349365234375,
          157.29507446289062,
          155.20199584960938,
          162.16603088378906,
          160.81834411621094,
          162.12278747558594,
          167.95240783691406,
          164.02658081054688,
          163.45069885253906,
          172.65321350097656,
          169.7986602783203,
          170.9481658935547,
          170.289306640625,
          173.1427459716797,
          194.3043365478516,
          187.3253173828125,
          196.8462829589844,
          217.1485748291016,
          247.15306091308597,
          264.010009765625,
          243.76458740234372,
          234.59523010253903,
          261.2922058105469,
          251.86441040039065,
          255.21588134765625,
          244.69891357421875,
          245.96566772460935,
          249.4849853515625,
          251.75987243652344,
          267.06964111328125,
          272.8626403808594,
          271.7687072753906,
          269.4556884765625,
          255.85894775390625,
          268.1135559082031,
          265.3912658691406,
          270.2255249023437,
          252.60792541503903,
          241.3387908935547,
          247.05101013183597,
          249.47433471679688,
          250.93035888671875,
          245.73809814453125,
          233.08670043945312,
          247.52012634277344,
          245.7818298339844,
          260.9032897949219,
          256.1687927246094,
          264.08746337890625,
          269.0193176269531,
          269.22320556640625,
          274.3511047363281,
          265.0518493652344,
          269.4317932128906,
          271.69500732421875,
          294.9102783203125,
          309.3803100585937,
          307.8277893066406,
          310.4246826171875,
          318.1263122558594,
          336.753173828125,
          294.26763916015625,
          311.2261047363281,
          320.05889892578125,
          290.69598388671875,
          293.64111328125,
          291.596435546875,
          303.0999755859375,
          284.5232238769531,
          287.9975280761719,
          287.547119140625,
          305.7005615234375,
          313.2514038085937,
          308.8810119628906,
          290.0023193359375,
          268.7040405273437,
          276.2767028808594,
          269.45880126953125,
          227.57806396484372,
          229.7760009765625,
          199.1886749267578,
          211.48497009277344,
          226.566162109375,
          221.3334197998047,
          229.1192169189453,
          225.6307678222656,
          217.5600128173828,
          212.728515625,
          217.0463714599609,
          219.6179962158203,
          219.62960815429688,
          207.40830993652344,
          211.18655395507807,
          211.2680511474609,
          210.5225982666016,
          218.65414428710935,
          217.80844116210935,
          217.8715667724609,
          222.49034118652344,
          222.6697235107422,
          234.21502685546875,
          226.0206451416016,
          226.39100646972656,
          220.94186401367188,
          210.4889068603516,
          206.7335357666016,
          216.0928649902344,
          211.2880706787109,
          208.70904541015625,
          186.6077423095703,
          188.50205993652344,
          185.4400787353516,
          185.68768310546875,
          194.4935302734375,
          203.0919342041016,
          196.5654144287109,
          186.89163208007807,
          191.3329162597656,
          194.70620727539065,
          191.28956604003903,
          186.84239196777344,
          188.92938232421875,
          187.51666259765625,
          173.8899688720703,
          169.51673889160156,
          168.83486938476562,
          172.46978759765625,
          171.62942504882812,
          178.34735107421875,
          179.49932861328125,
          175.99288940429688,
          174.21713256835938,
          169.9561767578125,
          178.2626190185547,
          181.35552978515625,
          181.1494598388672,
          179.78717041015625,
          178.72549438476562,
          181.0160980224609,
          181.10972595214844,
          188.1055145263672,
          189.78912353515625,
          197.11317443847656,
          208.60874938964844,
          211.39303588867188,
          221.2808532714844,
          218.050048828125,
          215.5162048339844,
          211.54537963867188,
          201.9213104248047,
          168.11073303222656,
          170.8927001953125,
          166.7271270751953,
          174.71099853515625,
          174.57289123535156,
          170.50347900390625,
          179.87220764160156,
          177.34042358398438,
          180.71051025390625,
          175.1993408203125,
          176.98500061035156,
          176.3515167236328,
          173.05914306640625,
          181.18634033203125,
          182.0215606689453,
          193.2932586669922,
          191.65966796875,
          182.56968688964844,
          180.8266448974609,
          182.0751495361328,
          186.96090698242188,
          181.40606689453125,
          176.0135040283203,
          178.02835083007812,
          173.621337890625,
          172.91302490234375,
          175.5343780517578,
          174.92098999023438,
          172.3008575439453,
          162.4027862548828,
          162.16854858398438,
          181.5232086181641,
          179.83547973632812,
          184.24221801757807,
          182.66281127929688,
          190.3425750732422,
          184.69216918945312,
          183.9669189453125,
          183.9698944091797,
          183.92572021484372,
          182.42501831054688,
          186.35519409179688,
          189.30416870117188,
          191.5938415527344,
          187.9765472412109,
          184.2114715576172,
          185.0287170410156,
          189.47727966308597,
          185.48963928222656,
          186.84341430664065,
          188.2587432861328,
          185.9996337890625,
          180.52117919921875,
          183.34835815429688,
          185.1192321777344,
          180.55960083007807,
          177.45555114746094,
          175.69834899902344,
          161.4627227783203,
          150.26817321777344,
          153.41778564453125,
          142.83470153808594,
          146.47653198242188,
          148.96507263183594,
          153.01055908203125,
          151.7175750732422,
          155.3041534423828,
          152.53968811035156,
          151.18572998046875,
          149.0591583251953,
          147.9564208984375,
          146.74774169921875,
          149.24899291992188,
          149.19444274902344,
          148.76815795898438,
          151.2647247314453,
          148.2251739501953,
          146.2670440673828,
          143.60800170898438,
          145.60400390625,
          144.9447479248047,
          142.86923217773438,
          143.114990234375,
          133.61402893066406,
          122.60388946533205,
          133.09219360351562,
          129.32113647460938,
          129.06605529785156,
          128.13095092773438,
          132.3725128173828,
          128.6140899658203,
          129.0638885498047,
          126.4546356201172,
          126.36122131347656,
          127.21460723876952,
          128.3227081298828,
          134.7579803466797,
          132.63348388671875,
          129.61085510253906,
          130.802001953125,
          127.4101791381836,
          134.1717071533203,
          135.06936645507812,
          136.2767791748047,
          144.3041534423828,
          143.5439910888672,
          141.2581329345703,
          138.9792022705078,
          143.96377563476562,
          142.92710876464844,
          145.87393188476562,
          144.22659301757812,
          165.95535278320312,
          166.23068237304688,
          164.39100646972656,
          170.7799530029297,
          175.3656768798828,
          166.9698486328125,
          167.12051391601562,
          169.69715881347656,
          168.29415893554688,
          162.92855834960938,
          163.05117797851562,
          161.283935546875,
          168.0771026611328,
          170.93089294433594,
          176.3703155517578,
          175.0503387451172,
          184.6904754638672,
          180.16017150878903,
          183.6739501953125,
          188.61753845214844,
          189.8650665283203,
          189.25059509277344,
          204.2302398681641,
          212.33908081054688,
          222.7260589599609,
          223.14651489257807,
          228.5785675048828,
          223.522705078125,
          235.8511962890625,
          265.4061279296875,
          268.0992431640625,
          284.2174987792969,
          264.72857666015625,
          259.89471435546875,
          266.3634338378906,
          281.944580078125,
          259.76397705078125,
          257.949462890625,
          265.6006164550781,
          262.33172607421875,
          273.754150390625,
          265.2164306640625,
          247.81759643554688,
          225.6802673339844,
          226.75338745117188,
          226.760498046875,
          219.8485107421875,
          218.97059631347656,
          230.5697784423828,
          224.4796295166016,
          224.5179748535156,
          229.2681884765625,
          243.5252990722656,
          237.85308837890625,
          200.6890563964844,
          201.986328125,
          200.76724243164065,
          194.8685302734375,
          112.3471221923828,
          133.20181274414062,
          123.30602264404295,
          125.21430206298828,
          110.60587310791016,
          113.9427490234375,
          114.84226989746094,
          136.59385681152344,
          132.73716735839844,
          132.81871032714844,
          123.32115173339844,
          134.91160583496094,
          138.76144409179688,
          136.19589233398438,
          138.36155700683594,
          133.9379425048828,
          130.9864959716797,
          125.58373260498048,
          132.904541015625,
          133.59356689453125,
          135.63455200195312,
          142.02914428710938,
          142.09130859375,
          145.21939086914062,
          143.54664611816406,
          169.13587951660156,
          165.10194396972656,
          172.64173889160156,
          170.80714416503906,
          158.41244506835938,
          158.2160186767578,
          161.14242553710938,
          156.27955627441406,
          157.5963897705078,
          153.28689575195312,
          172.15737915039062,
          171.63858032226562,
          186.91400146484372,
          181.61495971679688,
          172.2971649169922,
          172.73770141601562,
          182.59957885742188,
          185.02867126464844,
          189.2369384765625,
          195.5153045654297,
          197.31753540039065,
          197.22471618652344,
          198.41539001464844,
          216.96823120117188,
          207.60205078125,
          214.21910095214844,
          215.32537841796875,
          210.9331512451172,
          208.17401123046875,
          206.7743988037109,
          204.0557861328125,
          212.28941345214844,
          212.9915771484375,
          211.60012817382807,
          188.5995635986328,
          185.912841796875,
          189.3125,
          199.1932830810547,
          202.9490966796875,
          195.62266540527344,
          200.6771240234375,
          207.15869140625,
          214.52505493164065,
          213.45111083984372,
          210.09674072265625,
          199.88360595703125,
          207.169189453125,
          208.69439697265625,
          202.37034606933597,
          205.3197479248047,
          201.90231323242188,
          208.86343383789065,
          219.8404235839844,
          220.6751251220703,
          242.34559631347656,
          230.9757080078125,
          246.99176025390625,
          237.21905517578125,
          244.1793212890625,
          244.4263916015625,
          241.22198486328125,
          241.9313201904297,
          245.1672515869141,
          246.30990600585935,
          244.9114532470703,
          247.4449462890625,
          231.70266723632807,
          237.4932098388672,
          238.90884399414065,
          234.1147003173828,
          229.9289093017578,
          234.41616821289065,
          233.0282745361328,
          232.1011657714844,
          227.13829040527344,
          229.27426147460935,
          228.9898223876953,
          242.5331878662109,
          244.14215087890625,
          235.7724609375,
          232.94448852539065,
          229.6680450439453,
          222.9597930908203,
          225.34716796875,
          228.1948699951172,
          226.31500244140625,
          231.1134185791016,
          229.39219665527344,
          225.38706970214844,
          229.07411193847656,
          227.6645965576172,
          241.51022338867188,
          239.07553100585935,
          246.6700134277344,
          243.01596069335935,
          240.9849853515625,
          239.4581756591797,
          242.13169860839844,
          239.6045837402344,
          240.21148681640625,
          238.42352294921875,
          233.6408843994141,
          232.7730865478516,
          235.4838104248047,
          238.48751831054688,
          236.15316772460935,
          245.0167236328125,
          262.1906433105469,
          274.6890563964844,
          279.2154235839844,
          304.0567626953125,
          309.64361572265625,
          321.5140991210937,
          316.6572570800781,
          318.1908874511719,
          334.5866394042969,
          345.5546569824219,
          385.19970703125,
          370.6717224121094,
          386.295166015625,
          389.87548828125,
          401.590576171875,
          394.9619445800781,
          379.5128479003906,
          393.98736572265625,
          391.1204528808594,
          395.8875732421875,
          380.3840637207031,
          391.024169921875,
          428.7417907714844,
          437.3978271484375,
          433.35491943359375,
          433.78662109375,
          429.53125,
          423.6693115234375,
          406.4637756347656,
          416.4397888183594,
          389.1263427734375,
          395.8351440429688,
          391.3844909667969,
          408.1441955566406,
          384.00103759765625,
          386.4661254882813,
          382.6326293945313,
          395.8746643066406,
          399.9214782714844,
          428.3957214355469,
          435.0797424316406,
          477.0519104003906,
          440.0404968261719,
          385.67193603515625,
          388.24114990234375,
          335.26007080078125,
          353.3622741699219,
          352.6734924316406,
          337.60211181640625,
          351.1100158691406,
          368.1018981933594,
          374.6955871582031,
          387.18310546875,
          365.5700073242188,
          377.2688598632813,
          364.8392028808594,
          365.8122863769531,
          389.0192260742188,
          384.3645324707031,
          385.54437255859375,
          371.0528259277344,
          341.7860717773437,
          344.503173828125,
          321.1163024902344,
          349.3555908203125,
          352.1832580566406,
          355.48809814453125,
          357.4385070800781,
          355.159423828125,
          359.75738525390625,
          359.9378662109375,
          353.2059020996094,
          346.2389221191406,
          346.5220947265625,
          352.5790100097656,
          353.956787109375,
          340.8158569335937,
          341.80865478515625,
          350.7661437988281,
          365.5904846191406,
          370.9675903320313,
          375.1420593261719,
          387.7312622070313,
          381.1907653808594,
          379.4840393066406,
          377.44183349609375,
          366.22900390625,
          368.8559265136719,
          378.2136840820313,
          379.93560791015625,
          369.1369018554688,
          392.1899719238281,
          413.7729797363281,
          409.7666931152344,
          412.4576110839844,
          406.2177734375,
          393.8883056640625,
          403.9970397949219,
          388.6507568359375,
          386.7301025390625,
          382.8199768066406,
          386.59033203125,
          396.3581848144531,
          383.15673828125,
          387.6021728515625,
          402.1419982910156,
          414.0673522949219,
          454.7192993164063,
          435.713134765625,
          453.5547790527344,
          444.1630554199219,
          449.67962646484375,
          462.9605407714844,
          461.0052795410156,
          474.6264343261719,
          460.14984130859375,
          447.55908203125,
          459.9403076171875,
          480.3600769042969,
          479.4840698242188,
          471.6304321289063,
          509.74456787109375,
          549.4866333007812,
          558.068115234375,
          608.4540405273438,
          603.8977661132812,
          570.6866455078125,
          518.8011474609375,
          517.4937133789062,
          538.2297973632812,
          575.758056640625,
          614.842529296875,
          587.3241577148438,
          598.3523559570312,
          616.708740234375,
          569.3541870117188,
          596.595458984375,
          601.9089965820312,
          591.8433837890625,
          554.8277587890625,
          573.4791259765625,
          559.6785278320312,
          545.79736328125,
          568.5673217773438,
          589.6632080078125,
          586.0111694335938,
          589.3555908203125,
          636.1818237304688,
          642.8689575195312,
          654.8119506835938,
          659.2979125976562,
          638.2908325195312,
          609.81787109375,
          634.8541870117188,
          583.714599609375,
          611.607177734375,
          626.4107055664062,
          635.8358154296875,
          682.642333984375,
          730.3973388671875,
          731.5201416015625,
          751.6189575195312,
          737.8034057617188,
          730.3675537109375,
          774.5349731445312,
          975.5076904296876,
          1040.2330322265625,
          1100.006103515625,
          1207.1121826171875,
          1225.6781005859375,
          1224.1971435546875,
          1281.0772705078125,
          1262.2467041015625,
          1090.1453857421875,
          1043.4345703125,
          1130.7393798828125,
          1218.4530029296875,
          1171.8345947265625,
          1233.53759765625,
          1230.1722412109375,
          1257.279541015625,
          1377.2958984375,
          1382.2740478515625,
          1121.5709228515625,
          1236.51220703125,
          1230.9906005859375,
          1391.609375,
          1324.414794921875,
          1357.05810546875,
          1253.1871337890625,
          1332.4921875,
          1382.5228271484375,
          1376.115478515625,
          1314.9862060546875,
          1369.04052734375,
          1515.1937255859375,
          1660.9095458984375,
          1594.7626953125,
          1718.65087890625,
          1677.8468017578125,
          1614.227783203125,
          1746.6168212890625,
          1768.0350341796875,
          1744.243408203125,
          1783.7979736328125,
          1843.5325927734373,
          1814.10986328125,
          1805.0841064453125,
          1779.791015625,
          1781.0675048828125,
          1848.458251953125,
          1937.44921875,
          1960.164794921875,
          1919.5340576171875,
          1935.60107421875,
          1781.992919921875,
          1570.2039794921875,
          1626.57568359375,
          1475.7037353515625,
          1446.03369140625,
          1459.97314453125,
          1416.0489501953125,
          1564.7076416015625,
          1492.6087646484375,
          1575.8531494140625,
          1541.914306640625,
          1533.2750244140625,
          1654.7415771484375,
          1723.15380859375,
          1834.7279052734373,
          1868.048828125,
          1799.166259765625,
          1826.1949462890625,
          1772.1024169921875,
          1924.6854248046875,
          1854.5643310546875,
          1791.7022705078125,
          1806.9718017578125,
          1823.4493408203125,
          1782.8551025390625,
          1817.6241455078125,
          1812.6346435546875,
          1788.217041015625,
          1691.333984375,
          1678.650146484375,
          1593.4134521484375,
          1595.3592529296875,
          1702.842041015625,
          1716.49462890625,
          1691.35595703125,
          1819.6849365234373,
          1846.03369140625,
          1918.362060546875,
          1977.27685546875,
          2143.2255859375,
          2028.4224853515625,
          2093.122802734375,
          2107.88720703125,
          2118.37890625,
          1971.0772705078125,
          2088.57373046875,
          2072.10888671875,
          2135.942138671875,
          2157.656982421875,
          2139.353271484375,
          2299.187744140625,
          2435.10498046875,
          2519.1162109375,
          2431.946533203125,
          2344.89501953125,
          2237.136962890625,
          2166.188720703125,
          2330.2109375,
          2364.751708984375,
          2403.53515625,
          2363.586181640625,
          2211.625732421875,
          2316.0595703125,
          2534.481689453125,
          2662.865234375,
          2746.380126953125,
          2756.876953125,
          2773.20703125,
          2945.892822265625,
          2952.05615234375,
          3431.086181640625,
          3253.62939453125,
          3522.783203125,
          3490.88037109375,
          3484.72900390625,
          3902.647705078125,
          3928.8447265625,
          3952.2939453125,
          4168.701171875,
          3785.8486328125,
          3715.1484375,
          4079.057373046875,
          3638.1220703125,
          3587.506103515625,
          3282.397705078125,
          3380.070068359375,
          2460.67919921875,
          2784.294189453125,
          2430.621337890625,
          2295.70556640625,
          2109.579833984375,
          2643.591064453125,
          2706.62890625,
          2888.69873046875,
          2736.488525390625,
          2419.90625,
          2279.51416015625,
          2390.305419921875,
          2714.9453125,
          2633.518310546875,
          2706.125,
          2855.12646484375,
          2688.195068359375,
          2630.576904296875,
          2715.0927734375,
          2590.26318359375,
          2517.438720703125,
          2608.26708984375,
          2471.5185546875,
          2353.768798828125,
          2372.484375,
          2508.3916015625,
          2537.89111328125,
          2610.936767578125,
          2367.66357421875,
          2372.001953125,
          2231.733154296875,
          2178.4990234375,
          2246.364501953125,
          1888.447509765625,
          1874.9500732421875,
          1989.736328125,
          1988.456298828125,
          1813.21728515625,
          1829.2392578125,
          1978.8946533203125,
          2079.657470703125,
          2160.768310546875,
          2274.547607421875,
          2113.60546875,
          2150.040283203125,
          2226.1142578125,
          2321.72412109375,
          2198.58251953125,
          2324.679443359375,
          2315.161865234375,
          2120.0263671875,
          2146.6923828125,
          2111.403564453125,
          2139.664794921875,
          2036.7210693359373,
          1940.083984375,
          1994.331298828125,
          1911.1756591796875,
          1880.3829345703125,
          1898.8251953125,
          1895.5521240234373,
          1817.296630859375,
          1787.5107421875,
          1990.9708251953125,
          2025.2027587890625,
          2124.776611328125,
          2189.21875,
          2191.373779296875,
          2233.36669921875,
          2298.33349609375,
          2296.54541015625,
          2380.956787109375,
          2466.96142578125,
          2536.2099609375,
          2561.85205078125,
          2610.1533203125,
          2502.349609375,
          2724.619873046875,
          2827.328857421875,
          2890.941650390625,
          3157.23876953125,
          3013.732666015625,
          3167.856201171875,
          3141.691162109375,
          3164.2451171875,
          3043.414306640625,
          3322.211669921875,
          3265.443359375,
          3310.504150390625,
          3156.509521484375,
          3014.845947265625,
          3020.08984375,
          3182.7021484375,
          3286.935302734375,
          3226.083984375,
          3242.115478515625,
          3319.25732421875,
          3172.456298828125,
          3224.915283203125,
          3100.325439453125,
          3270.600830078125,
          3244.4033203125,
          3227.002685546875,
          3224.374267578125,
          3433.732666015625,
          3834.828125,
          3790.989990234375,
          3940.61474609375,
          3887.828369140625,
          3952.133544921875,
          3928.37939453125,
          3426.394287109375,
          3497.315185546875,
          3427.340087890625,
          3211.505859375,
          3270.278076171875,
          3410.134521484375,
          3285.51171875,
          3429.169677734375,
          3615.28271484375,
          3571.294921875,
          3398.538818359375,
          3432.018310546875,
          3329.447998046875,
          2958.993408203125,
          2764.43115234375,
          3077.867919921875,
          3155.523681640625,
          2931.669189453125,
          2925.565673828125,
          3062.265380859375,
          2934.138916015625,
          2807.296630859375,
          2853.143310546875,
          3001.678955078125,
          3307.51611328125,
          3391.6943359375,
          3418.358642578125,
          3380.089111328125,
          3518.5185546875,
          3580.56201171875,
          3587.974853515625,
          3563.75927734375,
          3575.716796875,
          3425.852783203125,
          3545.35400390625,
          3492.5732421875,
          3606.20166015625,
          3786.01416015625,
          3862.634765625,
          3830.382080078125,
          3847.1044921875,
          3748.76025390625,
          3877.65087890625,
          4155.9921875,
          4054.32275390625,
          3970.181884765625,
          4171.66357421875,
          4087.903076171875,
          4217.876953125,
          4131.10205078125,
          3930.25732421875,
          4287.31884765625,
          4414.74658203125,
          4325.650390625,
          4288.07421875,
          4324.626953125,
          4584.798828125,
          4607.19384765625,
          4537.32421875,
          4486.2431640625,
          4521.5810546875,
          4620.5546875,
          4812.08740234375,
          4735.06884765625,
          4636.17431640625,
          4730.38427734375,
          4667.115234375,
          4651.46044921875,
          4626.35888671875,
          4557.50390625,
          4216.365234375,
          4287.59375,
          4000.65087890625,
          4298.306640625,
          4409.93115234375,
          4269.73291015625,
          4088.457763671875,
          4340.763671875,
          4239.9814453125,
          4274.7431640625,
          4030.908935546875,
          4096.912109375,
          4294.45361328125,
          4445.10498046875,
          4631.47900390625,
          4586.990234375,
          4511.30224609375,
          4220.7060546875,
          4119.58740234375,
          4198.32275390625,
          4358.7373046875,
          4315.0615234375,
          4439.35791015625,
          4119.81591796875,
          3908.49609375,
          4084.452392578125,
          4134.453125,
          3784.226806640625,
          3745.4404296875,
          4018.388671875,
          3962.4697265625,
          3879.486572265625,
          3960.860107421875,
          3922.592529296875,
          3933.844482421875,
          4020.260009765625,
          3982.099609375,
          4108.015625,
          4047.98291015625,
          4093.281005859375,
          4067.328125,
          4037.547607421875,
          3800.89306640625,
          3628.53173828125,
          3713.85205078125,
          3682.6328125,
          3769.697021484375,
          3829.56494140625,
          3761.38037109375,
          3794.056640625,
          3550.386962890625,
          3418.408203125,
          3193.21044921875,
          3091.97265625,
          3157.75146484375,
          3083.097900390625,
          3238.111572265625,
          3372.25830078125,
          3248.28857421875,
          3310.00146484375,
          3330.53076171875,
          3350.921875,
          3212.304931640625,
          3164.025146484375,
          3095.825927734375,
          3001.1201171875,
          2557.931640625,
          2405.18115234375,
          2535.0390625,
          2440.352294921875,
          2455.93505859375,
          2468.0302734375,
          2423.001220703125,
          2547.092041015625,
          2597.084716796875,
          2603.466552734375,
          2688.27880859375,
          2792.1171875,
          2682.85400390625,
          2679.16259765625,
          2983.5869140625,
          3014.648193359375,
          3057.47607421875,
          3142.470703125,
          3122.608642578125,
          3239.45703125,
          3077.482177734375,
          2927.383544921875,
          2917.36279296875,
          2883.46337890625,
          2933.47900390625,
          3179.877197265625,
          3127.830078125,
          2881.48193359375,
          2785.7275390625,
          2763.701171875,
          2628.6484375,
          2573.816162109375,
          2639.29931640625,
          2590.359619140625,
          2598.067138671875,
          2764.53564453125,
          2781.11181640625,
          2621.8017578125,
          2919.201171875,
          2972.485107421875,
          2950.118408203125,
          2834.468994140625,
          2617.156005859375,
          2664.8310546875,
          2555.037353515625,
          2497.771240234375,
          2576.74755859375,
          2729.783447265625,
          2608.048583984375,
          2559.56298828125,
          2574.754150390625,
          2518.944580078125,
          2590.696044921875,
          2620.149658203125,
          2772.0556640625,
          2814.8544921875,
          2945.343017578125,
          2946.257080078125,
          2860.459228515625,
          2897.9765625,
          2973.131103515625,
          3031.067138671875,
          3108.06201171875,
          3106.67138671875,
          3143.178955078125,
          3291.57763671875,
          3336.634521484375,
          3401.98779296875,
          3385.157958984375,
          3281.642822265625,
          3449.55224609375,
          3445.059326171875,
          3522.83349609375,
          3521.2412109375,
          3411.79248046875,
          3171.69189453125,
          3233.274658203125,
          3192.073974609375,
          3261.916259765625,
          3211.866943359375,
          2981.05224609375,
          3030.37646484375,
          3118.34423828125,
          3019.909423828125,
          3040.91650390625,
          3062.310302734375,
          2993.4033203125,
          3057.606689453125,
          3104.1064453125,
          3077.745849609375,
          2987.480712890625,
          2964.835693359375,
          2938.114013671875,
          2922.732666015625,
          3009.3935546875,
          2808.29833984375,
          2888.9296875,
          2936.94091796875,
          2815.601806640625,
          2730.186767578125,
          2827.756103515625,
          2857.410400390625,
          2783.476318359375,
          2940.644775390625,
          2749.213134765625,
          2694.979736328125,
          2636.093017578125,
          2517.4599609375,
          2245.430419921875,
          2343.510986328125,
          2072.108642578125,
          1961.7015380859373,
          2014.418212890625,
          2056.27392578125,
          2145.706787109375,
          2022.7259521484373,
          2090.4091796875,
          1916.6561279296875,
          2018.336181640625,
          1961.315673828125,
          1974.518310546875,
          2043.170166015625,
          1972.181884765625,
          1978.9827880859373,
          1944.827880859375,
          1803.913330078125,
          1724.9228515625,
          1757.9417724609375,
          1812.031005859375,
          1996.4412841796875,
          1942.3280029296875,
          1823.5693359375,
          1834.1505126953125,
          1775.07861328125,
          1801.6094970703125,
          1805.2049560546875,
          1859.2896728515625,
          1814.04833984375,
          1793.572265625,
          1789.8260498046875,
          1665.042236328125,
          1529.6634521484375,
          1445.216552734375,
          1204.582763671875,
          1211.662841796875,
          1233.2064208984375,
          1067.730712890625,
          1086.519287109375,
          993.6367797851562,
          1127.656494140625,
          1127.6424560546875,
          1124.8245849609375,
          1051.421875,
          1143.38671875,
          1226.8447265625,
          1243.4468994140625,
          1199.8316650390625,
          1193.6806640625,
          1144.5792236328125,
          1098.94384765625,
          1067.298828125,
          1059.767333984375,
          1066.5128173828125,
          1073.7669677734375,
          1151.05908203125,
          1134.541015625,
          1186.9739990234375,
          1237.5933837890625,
          1222.5062255859375,
          1216.978271484375,
          1168.401611328125,
          1097.236572265625,
          1038.191650390625,
          1113.587158203125,
          1191.5262451171875,
          1233.129150390625,
          1352.62646484375,
          1338.6357421875,
          1578.7178955078125,
          1542.9752197265625,
          1520.20068359375,
          1576.74951171875,
          1537.4051513671875,
          1549.2974853515625,
          1599.4766845703125,
          1445.3834228515625,
          1441.8067626953125,
          1636.232666015625,
          1725.4681396484375,
          1727.406982421875,
          1695.969482421875,
          1681.517333984375,
          1635.19580078125,
          1632.9454345703125,
          1618.87451171875,
          1608.205810546875,
          1732.254638671875,
          1691.6580810546875,
          1699.350830078125,
          1775.51611328125,
          1703.0250244140625,
          1851.74267578125,
          1881.22412109375,
          1957.2464599609373,
          1981.3365478515625,
          1936.802001953125,
          1904.2281494140625,
          1878.139404296875,
          1832.9996337890625,
          1847.0078125,
          1612.9873046875,
          1577.0037841796875,
          1619.3189697265625,
          1622.505859375,
          1662.7698974609375,
          1657.0592041015625,
          1696.45703125,
          1507.7828369140625,
          1491.39501953125,
          1430.54736328125,
          1553.037353515625,
          1523.8388671875,
          1553.6849365234375,
          1586.1767578125,
          1577.220458984375,
          1556.8726806640625,
          1577.6416015625,
          1617.1832275390625,
          1561.74853515625,
          1629.9063720703125,
          1635.34765625,
          1719.08544921875,
          1776.2037353515625,
          1761.800048828125,
          1713.7652587890625,
          1580.7879638671875,
          1634.7550048828125,
          1471.6934814453125,
          1432.44775390625,
          1469.74169921875,
          1335.3291015625,
          1377.5413818359375,
          1324.38818359375,
          1252.6077880859375,
          1327.68017578125,
          1328.259521484375,
          1317.9932861328125,
          1294.216796875,
          1335.3201904296875,
          1330.127685546875,
          1337.410888671875,
          1335.65234375,
          1327.9786376953125,
          1311.6444091796875,
          1276.093505859375,
          1323.439208984375,
          1362.1265869140625,
          1352.837158203125,
          1351.70947265625,
          1332.5169677734375,
          1315.50048828125,
          1322.604248046875,
          1291.337646484375,
          1279.57568359375,
          1294.9063720703125,
          1288.1239013671875,
          1297.422119140625,
          1274.8717041015625,
          1306.296630859375,
          1331.713623046875,
          1310.447021484375,
          1285.7442626953125,
          1283.200927734375,
          1299.9464111328125,
          1314.2991943359375,
          1363.447021484375,
          1344.99853515625,
          1461.6654052734375,
          1566.566650390625,
          1514.3748779296875,
          1555.4779052734375,
          1619.698486328125,
          1590.7833251953125,
          1572.7144775390625,
          1579.70458984375,
          1519.7117919921875,
          1531.541748046875,
          1645.0933837890625,
          1627.968017578125,
          1572.2347412109375,
          1568.59130859375,
          1332.8355712890625,
          1100.1697998046875,
          1299.464599609375,
          1287.2210693359375,
          1255.268310546875,
          1221.8192138671875,
          1241.604248046875,
          1251.7362060546875,
          1215.6025390625,
          1200.80859375,
          1212.30029296875,
          1218.4267578125,
          1142.4666748046875,
          1108.35302734375,
          1135.1734619140625,
          1183.1995849609375,
          1203.983154296875,
          1198.9259033203125,
          1205.89794921875,
          1195.126953125,
          1170.086181640625,
          1216.9012451171875,
          1295.6885986328125,
          1276.27392578125,
          1294.3033447265625,
          1243.3348388671875,
          1280.256591796875,
          1259.6767578125,
          1271.65380859375,
          1232.4375,
          1281.1163330078125,
          1264.2847900390625,
          1266.3841552734375,
          1263.8685302734375,
          1274.6190185546875,
          1320.5491943359375,
          1309.3287353515625,
          1266.3538818359375,
          1168.2593994140625,
          1188.1495361328125,
          1184.7152099609375,
          1167.60986328125,
          1217.70361328125,
          1213.5999755859375,
          1218.18212890625,
          1220.159423828125,
          1221.1485595703125,
          1218.9620361328125,
          1226.974365234375,
          1212.7916259765625,
          1189.986083984375
         ],
         "yaxis": "y"
        }
       ],
       "layout": {
        "font": {
         "color": "black",
         "size": 15
        },
        "legend": {
         "tracegroupgap": 0
        },
        "margin": {
         "t": 60
        },
        "plot_bgcolor": "white",
        "template": {
         "data": {
          "bar": [
           {
            "error_x": {
             "color": "#2a3f5f"
            },
            "error_y": {
             "color": "#2a3f5f"
            },
            "marker": {
             "line": {
              "color": "#E5ECF6",
              "width": 0.5
             },
             "pattern": {
              "fillmode": "overlay",
              "size": 10,
              "solidity": 0.2
             }
            },
            "type": "bar"
           }
          ],
          "barpolar": [
           {
            "marker": {
             "line": {
              "color": "#E5ECF6",
              "width": 0.5
             },
             "pattern": {
              "fillmode": "overlay",
              "size": 10,
              "solidity": 0.2
             }
            },
            "type": "barpolar"
           }
          ],
          "carpet": [
           {
            "aaxis": {
             "endlinecolor": "#2a3f5f",
             "gridcolor": "white",
             "linecolor": "white",
             "minorgridcolor": "white",
             "startlinecolor": "#2a3f5f"
            },
            "baxis": {
             "endlinecolor": "#2a3f5f",
             "gridcolor": "white",
             "linecolor": "white",
             "minorgridcolor": "white",
             "startlinecolor": "#2a3f5f"
            },
            "type": "carpet"
           }
          ],
          "choropleth": [
           {
            "colorbar": {
             "outlinewidth": 0,
             "ticks": ""
            },
            "type": "choropleth"
           }
          ],
          "contour": [
           {
            "colorbar": {
             "outlinewidth": 0,
             "ticks": ""
            },
            "colorscale": [
             [
              0,
              "#0d0887"
             ],
             [
              0.1111111111111111,
              "#46039f"
             ],
             [
              0.2222222222222222,
              "#7201a8"
             ],
             [
              0.3333333333333333,
              "#9c179e"
             ],
             [
              0.4444444444444444,
              "#bd3786"
             ],
             [
              0.5555555555555556,
              "#d8576b"
             ],
             [
              0.6666666666666666,
              "#ed7953"
             ],
             [
              0.7777777777777778,
              "#fb9f3a"
             ],
             [
              0.8888888888888888,
              "#fdca26"
             ],
             [
              1,
              "#f0f921"
             ]
            ],
            "type": "contour"
           }
          ],
          "contourcarpet": [
           {
            "colorbar": {
             "outlinewidth": 0,
             "ticks": ""
            },
            "type": "contourcarpet"
           }
          ],
          "heatmap": [
           {
            "colorbar": {
             "outlinewidth": 0,
             "ticks": ""
            },
            "colorscale": [
             [
              0,
              "#0d0887"
             ],
             [
              0.1111111111111111,
              "#46039f"
             ],
             [
              0.2222222222222222,
              "#7201a8"
             ],
             [
              0.3333333333333333,
              "#9c179e"
             ],
             [
              0.4444444444444444,
              "#bd3786"
             ],
             [
              0.5555555555555556,
              "#d8576b"
             ],
             [
              0.6666666666666666,
              "#ed7953"
             ],
             [
              0.7777777777777778,
              "#fb9f3a"
             ],
             [
              0.8888888888888888,
              "#fdca26"
             ],
             [
              1,
              "#f0f921"
             ]
            ],
            "type": "heatmap"
           }
          ],
          "heatmapgl": [
           {
            "colorbar": {
             "outlinewidth": 0,
             "ticks": ""
            },
            "colorscale": [
             [
              0,
              "#0d0887"
             ],
             [
              0.1111111111111111,
              "#46039f"
             ],
             [
              0.2222222222222222,
              "#7201a8"
             ],
             [
              0.3333333333333333,
              "#9c179e"
             ],
             [
              0.4444444444444444,
              "#bd3786"
             ],
             [
              0.5555555555555556,
              "#d8576b"
             ],
             [
              0.6666666666666666,
              "#ed7953"
             ],
             [
              0.7777777777777778,
              "#fb9f3a"
             ],
             [
              0.8888888888888888,
              "#fdca26"
             ],
             [
              1,
              "#f0f921"
             ]
            ],
            "type": "heatmapgl"
           }
          ],
          "histogram": [
           {
            "marker": {
             "pattern": {
              "fillmode": "overlay",
              "size": 10,
              "solidity": 0.2
             }
            },
            "type": "histogram"
           }
          ],
          "histogram2d": [
           {
            "colorbar": {
             "outlinewidth": 0,
             "ticks": ""
            },
            "colorscale": [
             [
              0,
              "#0d0887"
             ],
             [
              0.1111111111111111,
              "#46039f"
             ],
             [
              0.2222222222222222,
              "#7201a8"
             ],
             [
              0.3333333333333333,
              "#9c179e"
             ],
             [
              0.4444444444444444,
              "#bd3786"
             ],
             [
              0.5555555555555556,
              "#d8576b"
             ],
             [
              0.6666666666666666,
              "#ed7953"
             ],
             [
              0.7777777777777778,
              "#fb9f3a"
             ],
             [
              0.8888888888888888,
              "#fdca26"
             ],
             [
              1,
              "#f0f921"
             ]
            ],
            "type": "histogram2d"
           }
          ],
          "histogram2dcontour": [
           {
            "colorbar": {
             "outlinewidth": 0,
             "ticks": ""
            },
            "colorscale": [
             [
              0,
              "#0d0887"
             ],
             [
              0.1111111111111111,
              "#46039f"
             ],
             [
              0.2222222222222222,
              "#7201a8"
             ],
             [
              0.3333333333333333,
              "#9c179e"
             ],
             [
              0.4444444444444444,
              "#bd3786"
             ],
             [
              0.5555555555555556,
              "#d8576b"
             ],
             [
              0.6666666666666666,
              "#ed7953"
             ],
             [
              0.7777777777777778,
              "#fb9f3a"
             ],
             [
              0.8888888888888888,
              "#fdca26"
             ],
             [
              1,
              "#f0f921"
             ]
            ],
            "type": "histogram2dcontour"
           }
          ],
          "mesh3d": [
           {
            "colorbar": {
             "outlinewidth": 0,
             "ticks": ""
            },
            "type": "mesh3d"
           }
          ],
          "parcoords": [
           {
            "line": {
             "colorbar": {
              "outlinewidth": 0,
              "ticks": ""
             }
            },
            "type": "parcoords"
           }
          ],
          "pie": [
           {
            "automargin": true,
            "type": "pie"
           }
          ],
          "scatter": [
           {
            "fillpattern": {
             "fillmode": "overlay",
             "size": 10,
             "solidity": 0.2
            },
            "type": "scatter"
           }
          ],
          "scatter3d": [
           {
            "line": {
             "colorbar": {
              "outlinewidth": 0,
              "ticks": ""
             }
            },
            "marker": {
             "colorbar": {
              "outlinewidth": 0,
              "ticks": ""
             }
            },
            "type": "scatter3d"
           }
          ],
          "scattercarpet": [
           {
            "marker": {
             "colorbar": {
              "outlinewidth": 0,
              "ticks": ""
             }
            },
            "type": "scattercarpet"
           }
          ],
          "scattergeo": [
           {
            "marker": {
             "colorbar": {
              "outlinewidth": 0,
              "ticks": ""
             }
            },
            "type": "scattergeo"
           }
          ],
          "scattergl": [
           {
            "marker": {
             "colorbar": {
              "outlinewidth": 0,
              "ticks": ""
             }
            },
            "type": "scattergl"
           }
          ],
          "scattermapbox": [
           {
            "marker": {
             "colorbar": {
              "outlinewidth": 0,
              "ticks": ""
             }
            },
            "type": "scattermapbox"
           }
          ],
          "scatterpolar": [
           {
            "marker": {
             "colorbar": {
              "outlinewidth": 0,
              "ticks": ""
             }
            },
            "type": "scatterpolar"
           }
          ],
          "scatterpolargl": [
           {
            "marker": {
             "colorbar": {
              "outlinewidth": 0,
              "ticks": ""
             }
            },
            "type": "scatterpolargl"
           }
          ],
          "scatterternary": [
           {
            "marker": {
             "colorbar": {
              "outlinewidth": 0,
              "ticks": ""
             }
            },
            "type": "scatterternary"
           }
          ],
          "surface": [
           {
            "colorbar": {
             "outlinewidth": 0,
             "ticks": ""
            },
            "colorscale": [
             [
              0,
              "#0d0887"
             ],
             [
              0.1111111111111111,
              "#46039f"
             ],
             [
              0.2222222222222222,
              "#7201a8"
             ],
             [
              0.3333333333333333,
              "#9c179e"
             ],
             [
              0.4444444444444444,
              "#bd3786"
             ],
             [
              0.5555555555555556,
              "#d8576b"
             ],
             [
              0.6666666666666666,
              "#ed7953"
             ],
             [
              0.7777777777777778,
              "#fb9f3a"
             ],
             [
              0.8888888888888888,
              "#fdca26"
             ],
             [
              1,
              "#f0f921"
             ]
            ],
            "type": "surface"
           }
          ],
          "table": [
           {
            "cells": {
             "fill": {
              "color": "#EBF0F8"
             },
             "line": {
              "color": "white"
             }
            },
            "header": {
             "fill": {
              "color": "#C8D4E3"
             },
             "line": {
              "color": "white"
             }
            },
            "type": "table"
           }
          ]
         },
         "layout": {
          "annotationdefaults": {
           "arrowcolor": "#2a3f5f",
           "arrowhead": 0,
           "arrowwidth": 1
          },
          "autotypenumbers": "strict",
          "coloraxis": {
           "colorbar": {
            "outlinewidth": 0,
            "ticks": ""
           }
          },
          "colorscale": {
           "diverging": [
            [
             0,
             "#8e0152"
            ],
            [
             0.1,
             "#c51b7d"
            ],
            [
             0.2,
             "#de77ae"
            ],
            [
             0.3,
             "#f1b6da"
            ],
            [
             0.4,
             "#fde0ef"
            ],
            [
             0.5,
             "#f7f7f7"
            ],
            [
             0.6,
             "#e6f5d0"
            ],
            [
             0.7,
             "#b8e186"
            ],
            [
             0.8,
             "#7fbc41"
            ],
            [
             0.9,
             "#4d9221"
            ],
            [
             1,
             "#276419"
            ]
           ],
           "sequential": [
            [
             0,
             "#0d0887"
            ],
            [
             0.1111111111111111,
             "#46039f"
            ],
            [
             0.2222222222222222,
             "#7201a8"
            ],
            [
             0.3333333333333333,
             "#9c179e"
            ],
            [
             0.4444444444444444,
             "#bd3786"
            ],
            [
             0.5555555555555556,
             "#d8576b"
            ],
            [
             0.6666666666666666,
             "#ed7953"
            ],
            [
             0.7777777777777778,
             "#fb9f3a"
            ],
            [
             0.8888888888888888,
             "#fdca26"
            ],
            [
             1,
             "#f0f921"
            ]
           ],
           "sequentialminus": [
            [
             0,
             "#0d0887"
            ],
            [
             0.1111111111111111,
             "#46039f"
            ],
            [
             0.2222222222222222,
             "#7201a8"
            ],
            [
             0.3333333333333333,
             "#9c179e"
            ],
            [
             0.4444444444444444,
             "#bd3786"
            ],
            [
             0.5555555555555556,
             "#d8576b"
            ],
            [
             0.6666666666666666,
             "#ed7953"
            ],
            [
             0.7777777777777778,
             "#fb9f3a"
            ],
            [
             0.8888888888888888,
             "#fdca26"
            ],
            [
             1,
             "#f0f921"
            ]
           ]
          },
          "colorway": [
           "#636efa",
           "#EF553B",
           "#00cc96",
           "#ab63fa",
           "#FFA15A",
           "#19d3f3",
           "#FF6692",
           "#B6E880",
           "#FF97FF",
           "#FECB52"
          ],
          "font": {
           "color": "#2a3f5f"
          },
          "geo": {
           "bgcolor": "white",
           "lakecolor": "white",
           "landcolor": "#E5ECF6",
           "showlakes": true,
           "showland": true,
           "subunitcolor": "white"
          },
          "hoverlabel": {
           "align": "left"
          },
          "hovermode": "closest",
          "mapbox": {
           "style": "light"
          },
          "paper_bgcolor": "white",
          "plot_bgcolor": "#E5ECF6",
          "polar": {
           "angularaxis": {
            "gridcolor": "white",
            "linecolor": "white",
            "ticks": ""
           },
           "bgcolor": "#E5ECF6",
           "radialaxis": {
            "gridcolor": "white",
            "linecolor": "white",
            "ticks": ""
           }
          },
          "scene": {
           "xaxis": {
            "backgroundcolor": "#E5ECF6",
            "gridcolor": "white",
            "gridwidth": 2,
            "linecolor": "white",
            "showbackground": true,
            "ticks": "",
            "zerolinecolor": "white"
           },
           "yaxis": {
            "backgroundcolor": "#E5ECF6",
            "gridcolor": "white",
            "gridwidth": 2,
            "linecolor": "white",
            "showbackground": true,
            "ticks": "",
            "zerolinecolor": "white"
           },
           "zaxis": {
            "backgroundcolor": "#E5ECF6",
            "gridcolor": "white",
            "gridwidth": 2,
            "linecolor": "white",
            "showbackground": true,
            "ticks": "",
            "zerolinecolor": "white"
           }
          },
          "shapedefaults": {
           "line": {
            "color": "#2a3f5f"
           }
          },
          "ternary": {
           "aaxis": {
            "gridcolor": "white",
            "linecolor": "white",
            "ticks": ""
           },
           "baxis": {
            "gridcolor": "white",
            "linecolor": "white",
            "ticks": ""
           },
           "bgcolor": "#E5ECF6",
           "caxis": {
            "gridcolor": "white",
            "linecolor": "white",
            "ticks": ""
           }
          },
          "title": {
           "x": 0.05
          },
          "xaxis": {
           "automargin": true,
           "gridcolor": "white",
           "linecolor": "white",
           "ticks": "",
           "title": {
            "standoff": 15
           },
           "zerolinecolor": "white",
           "zerolinewidth": 2
          },
          "yaxis": {
           "automargin": true,
           "gridcolor": "white",
           "linecolor": "white",
           "ticks": "",
           "title": {
            "standoff": 15
           },
           "zerolinecolor": "white",
           "zerolinewidth": 2
          }
         }
        },
        "title": {
         "text": "Whole period of timeframe of crypto close price"
        },
        "xaxis": {
         "anchor": "y",
         "domain": [
          0,
          1
         ],
         "showgrid": false,
         "title": {
          "text": "Date"
         }
        },
        "yaxis": {
         "anchor": "x",
         "domain": [
          0,
          1
         ],
         "showgrid": false,
         "title": {
          "text": "Close"
         }
        }
       }
      }
     },
     "metadata": {},
     "output_type": "display_data"
    }
   ],
   "source": [
    "fig = px.line(closedf, x=closedf.Date, y=closedf.Close,labels={'date':'Date','close':'Close Stock'})\n",
    "fig.update_traces(marker_line_width=2, opacity=0.8, marker_line_color='orange')\n",
    "fig.update_layout(title_text='Whole period of timeframe of crypto close price', plot_bgcolor='white', \n",
    "                  font_size=15, font_color='black')\n",
    "fig.update_xaxes(showgrid=False)\n",
    "fig.update_yaxes(showgrid=False)\n",
    "fig.show()"
   ]
  },
  {
   "cell_type": "markdown",
   "id": "be27f15e",
   "metadata": {
    "papermill": {
     "duration": 0.123474,
     "end_time": "2021-08-25T15:25:54.136965",
     "exception": false,
     "start_time": "2021-08-25T15:25:54.013491",
     "status": "completed"
    },
    "tags": []
   },
   "source": [
    "### Now we will Take data of just 1 Year"
   ]
  },
  {
   "cell_type": "code",
   "execution_count": 14,
   "id": "0c507739",
   "metadata": {
    "execution": {
     "iopub.execute_input": "2021-08-25T15:25:54.391598Z",
     "iopub.status.busy": "2021-08-25T15:25:54.390929Z",
     "iopub.status.idle": "2021-08-25T15:25:54.394786Z",
     "shell.execute_reply": "2021-08-25T15:25:54.395409Z",
     "shell.execute_reply.started": "2021-08-25T14:39:21.650448Z"
    },
    "papermill": {
     "duration": 0.134215,
     "end_time": "2021-08-25T15:25:54.395594",
     "exception": false,
     "start_time": "2021-08-25T15:25:54.261379",
     "status": "completed"
    },
    "tags": []
   },
   "outputs": [
    {
     "name": "stdout",
     "output_type": "stream",
     "text": [
      "Total data for prediction:  364\n"
     ]
    }
   ],
   "source": [
    "closedf = closedf[closedf['Date'] > '2021-12-29']\n",
    "close_stock = closedf.copy()\n",
    "print(\"Total data for prediction: \",closedf.shape[0])"
   ]
  },
  {
   "cell_type": "code",
   "execution_count": 15,
   "id": "eb50e0cf",
   "metadata": {},
   "outputs": [
    {
     "data": {
      "text/html": [
       "<div>\n",
       "<style scoped>\n",
       "    .dataframe tbody tr th:only-of-type {\n",
       "        vertical-align: middle;\n",
       "    }\n",
       "\n",
       "    .dataframe tbody tr th {\n",
       "        vertical-align: top;\n",
       "    }\n",
       "\n",
       "    .dataframe thead th {\n",
       "        text-align: right;\n",
       "    }\n",
       "</style>\n",
       "<table border=\"1\" class=\"dataframe\">\n",
       "  <thead>\n",
       "    <tr style=\"text-align: right;\">\n",
       "      <th></th>\n",
       "      <th>Date</th>\n",
       "      <th>Close</th>\n",
       "    </tr>\n",
       "  </thead>\n",
       "  <tbody>\n",
       "    <tr>\n",
       "      <th>1512</th>\n",
       "      <td>2021-12-30</td>\n",
       "      <td>3713.852051</td>\n",
       "    </tr>\n",
       "    <tr>\n",
       "      <th>1513</th>\n",
       "      <td>2021-12-31</td>\n",
       "      <td>3682.632812</td>\n",
       "    </tr>\n",
       "    <tr>\n",
       "      <th>1514</th>\n",
       "      <td>2022-01-01</td>\n",
       "      <td>3769.697021</td>\n",
       "    </tr>\n",
       "    <tr>\n",
       "      <th>1515</th>\n",
       "      <td>2022-01-02</td>\n",
       "      <td>3829.564941</td>\n",
       "    </tr>\n",
       "    <tr>\n",
       "      <th>1516</th>\n",
       "      <td>2022-01-03</td>\n",
       "      <td>3761.380371</td>\n",
       "    </tr>\n",
       "    <tr>\n",
       "      <th>...</th>\n",
       "      <td>...</td>\n",
       "      <td>...</td>\n",
       "    </tr>\n",
       "    <tr>\n",
       "      <th>1871</th>\n",
       "      <td>2022-12-24</td>\n",
       "      <td>1221.148560</td>\n",
       "    </tr>\n",
       "    <tr>\n",
       "      <th>1872</th>\n",
       "      <td>2022-12-25</td>\n",
       "      <td>1218.962036</td>\n",
       "    </tr>\n",
       "    <tr>\n",
       "      <th>1873</th>\n",
       "      <td>2022-12-26</td>\n",
       "      <td>1226.974365</td>\n",
       "    </tr>\n",
       "    <tr>\n",
       "      <th>1874</th>\n",
       "      <td>2022-12-27</td>\n",
       "      <td>1212.791626</td>\n",
       "    </tr>\n",
       "    <tr>\n",
       "      <th>1875</th>\n",
       "      <td>2022-12-28</td>\n",
       "      <td>1189.986084</td>\n",
       "    </tr>\n",
       "  </tbody>\n",
       "</table>\n",
       "<p>364 rows × 2 columns</p>\n",
       "</div>"
      ],
      "text/plain": [
       "           Date        Close\n",
       "1512 2021-12-30  3713.852051\n",
       "1513 2021-12-31  3682.632812\n",
       "1514 2022-01-01  3769.697021\n",
       "1515 2022-01-02  3829.564941\n",
       "1516 2022-01-03  3761.380371\n",
       "...         ...          ...\n",
       "1871 2022-12-24  1221.148560\n",
       "1872 2022-12-25  1218.962036\n",
       "1873 2022-12-26  1226.974365\n",
       "1874 2022-12-27  1212.791626\n",
       "1875 2022-12-28  1189.986084\n",
       "\n",
       "[364 rows x 2 columns]"
      ]
     },
     "execution_count": 15,
     "metadata": {},
     "output_type": "execute_result"
    }
   ],
   "source": [
    "closedf"
   ]
  },
  {
   "cell_type": "code",
   "execution_count": 16,
   "id": "a01da562",
   "metadata": {
    "execution": {
     "iopub.execute_input": "2021-08-25T15:25:54.674509Z",
     "iopub.status.busy": "2021-08-25T15:25:54.664210Z",
     "iopub.status.idle": "2021-08-25T15:25:54.745780Z",
     "shell.execute_reply": "2021-08-25T15:25:54.745299Z",
     "shell.execute_reply.started": "2021-08-25T14:39:21.659941Z"
    },
    "papermill": {
     "duration": 0.22526,
     "end_time": "2021-08-25T15:25:54.745915",
     "exception": false,
     "start_time": "2021-08-25T15:25:54.520655",
     "status": "completed"
    },
    "tags": []
   },
   "outputs": [
    {
     "data": {
      "application/vnd.plotly.v1+json": {
       "config": {
        "plotlyServerURL": "https://plot.ly"
       },
       "data": [
        {
         "hovertemplate": "Date=%{x}<br>Close=%{y}<extra></extra>",
         "legendgroup": "",
         "line": {
          "color": "#636efa",
          "dash": "solid"
         },
         "marker": {
          "line": {
           "color": "orange",
           "width": 2
          },
          "symbol": "circle"
         },
         "mode": "lines",
         "name": "",
         "opacity": 0.8,
         "orientation": "v",
         "showlegend": false,
         "type": "scatter",
         "x": [
          "2021-12-30T00:00:00",
          "2021-12-31T00:00:00",
          "2022-01-01T00:00:00",
          "2022-01-02T00:00:00",
          "2022-01-03T00:00:00",
          "2022-01-04T00:00:00",
          "2022-01-05T00:00:00",
          "2022-01-06T00:00:00",
          "2022-01-07T00:00:00",
          "2022-01-08T00:00:00",
          "2022-01-09T00:00:00",
          "2022-01-10T00:00:00",
          "2022-01-11T00:00:00",
          "2022-01-12T00:00:00",
          "2022-01-13T00:00:00",
          "2022-01-14T00:00:00",
          "2022-01-15T00:00:00",
          "2022-01-16T00:00:00",
          "2022-01-17T00:00:00",
          "2022-01-18T00:00:00",
          "2022-01-19T00:00:00",
          "2022-01-20T00:00:00",
          "2022-01-21T00:00:00",
          "2022-01-22T00:00:00",
          "2022-01-23T00:00:00",
          "2022-01-24T00:00:00",
          "2022-01-25T00:00:00",
          "2022-01-26T00:00:00",
          "2022-01-27T00:00:00",
          "2022-01-28T00:00:00",
          "2022-01-29T00:00:00",
          "2022-01-30T00:00:00",
          "2022-01-31T00:00:00",
          "2022-02-01T00:00:00",
          "2022-02-02T00:00:00",
          "2022-02-03T00:00:00",
          "2022-02-04T00:00:00",
          "2022-02-05T00:00:00",
          "2022-02-06T00:00:00",
          "2022-02-07T00:00:00",
          "2022-02-08T00:00:00",
          "2022-02-09T00:00:00",
          "2022-02-10T00:00:00",
          "2022-02-11T00:00:00",
          "2022-02-12T00:00:00",
          "2022-02-13T00:00:00",
          "2022-02-14T00:00:00",
          "2022-02-15T00:00:00",
          "2022-02-16T00:00:00",
          "2022-02-17T00:00:00",
          "2022-02-18T00:00:00",
          "2022-02-19T00:00:00",
          "2022-02-20T00:00:00",
          "2022-02-21T00:00:00",
          "2022-02-22T00:00:00",
          "2022-02-23T00:00:00",
          "2022-02-24T00:00:00",
          "2022-02-25T00:00:00",
          "2022-02-26T00:00:00",
          "2022-02-27T00:00:00",
          "2022-02-28T00:00:00",
          "2022-03-01T00:00:00",
          "2022-03-02T00:00:00",
          "2022-03-03T00:00:00",
          "2022-03-04T00:00:00",
          "2022-03-05T00:00:00",
          "2022-03-06T00:00:00",
          "2022-03-07T00:00:00",
          "2022-03-08T00:00:00",
          "2022-03-09T00:00:00",
          "2022-03-10T00:00:00",
          "2022-03-11T00:00:00",
          "2022-03-12T00:00:00",
          "2022-03-13T00:00:00",
          "2022-03-14T00:00:00",
          "2022-03-15T00:00:00",
          "2022-03-16T00:00:00",
          "2022-03-17T00:00:00",
          "2022-03-18T00:00:00",
          "2022-03-19T00:00:00",
          "2022-03-20T00:00:00",
          "2022-03-21T00:00:00",
          "2022-03-22T00:00:00",
          "2022-03-23T00:00:00",
          "2022-03-24T00:00:00",
          "2022-03-25T00:00:00",
          "2022-03-26T00:00:00",
          "2022-03-27T00:00:00",
          "2022-03-28T00:00:00",
          "2022-03-29T00:00:00",
          "2022-03-30T00:00:00",
          "2022-03-31T00:00:00",
          "2022-04-01T00:00:00",
          "2022-04-02T00:00:00",
          "2022-04-03T00:00:00",
          "2022-04-04T00:00:00",
          "2022-04-05T00:00:00",
          "2022-04-06T00:00:00",
          "2022-04-07T00:00:00",
          "2022-04-08T00:00:00",
          "2022-04-09T00:00:00",
          "2022-04-10T00:00:00",
          "2022-04-11T00:00:00",
          "2022-04-12T00:00:00",
          "2022-04-13T00:00:00",
          "2022-04-14T00:00:00",
          "2022-04-15T00:00:00",
          "2022-04-16T00:00:00",
          "2022-04-17T00:00:00",
          "2022-04-18T00:00:00",
          "2022-04-19T00:00:00",
          "2022-04-20T00:00:00",
          "2022-04-21T00:00:00",
          "2022-04-22T00:00:00",
          "2022-04-23T00:00:00",
          "2022-04-24T00:00:00",
          "2022-04-25T00:00:00",
          "2022-04-26T00:00:00",
          "2022-04-27T00:00:00",
          "2022-04-28T00:00:00",
          "2022-04-29T00:00:00",
          "2022-04-30T00:00:00",
          "2022-05-01T00:00:00",
          "2022-05-02T00:00:00",
          "2022-05-03T00:00:00",
          "2022-05-04T00:00:00",
          "2022-05-05T00:00:00",
          "2022-05-06T00:00:00",
          "2022-05-07T00:00:00",
          "2022-05-08T00:00:00",
          "2022-05-09T00:00:00",
          "2022-05-10T00:00:00",
          "2022-05-11T00:00:00",
          "2022-05-12T00:00:00",
          "2022-05-13T00:00:00",
          "2022-05-14T00:00:00",
          "2022-05-15T00:00:00",
          "2022-05-16T00:00:00",
          "2022-05-17T00:00:00",
          "2022-05-18T00:00:00",
          "2022-05-19T00:00:00",
          "2022-05-20T00:00:00",
          "2022-05-21T00:00:00",
          "2022-05-22T00:00:00",
          "2022-05-23T00:00:00",
          "2022-05-24T00:00:00",
          "2022-05-25T00:00:00",
          "2022-05-26T00:00:00",
          "2022-05-27T00:00:00",
          "2022-05-28T00:00:00",
          "2022-05-29T00:00:00",
          "2022-05-30T00:00:00",
          "2022-05-31T00:00:00",
          "2022-06-01T00:00:00",
          "2022-06-02T00:00:00",
          "2022-06-03T00:00:00",
          "2022-06-04T00:00:00",
          "2022-06-05T00:00:00",
          "2022-06-06T00:00:00",
          "2022-06-07T00:00:00",
          "2022-06-08T00:00:00",
          "2022-06-09T00:00:00",
          "2022-06-10T00:00:00",
          "2022-06-11T00:00:00",
          "2022-06-12T00:00:00",
          "2022-06-13T00:00:00",
          "2022-06-14T00:00:00",
          "2022-06-15T00:00:00",
          "2022-06-16T00:00:00",
          "2022-06-17T00:00:00",
          "2022-06-18T00:00:00",
          "2022-06-19T00:00:00",
          "2022-06-20T00:00:00",
          "2022-06-21T00:00:00",
          "2022-06-22T00:00:00",
          "2022-06-23T00:00:00",
          "2022-06-24T00:00:00",
          "2022-06-25T00:00:00",
          "2022-06-26T00:00:00",
          "2022-06-27T00:00:00",
          "2022-06-28T00:00:00",
          "2022-06-29T00:00:00",
          "2022-06-30T00:00:00",
          "2022-07-01T00:00:00",
          "2022-07-02T00:00:00",
          "2022-07-03T00:00:00",
          "2022-07-04T00:00:00",
          "2022-07-05T00:00:00",
          "2022-07-06T00:00:00",
          "2022-07-07T00:00:00",
          "2022-07-08T00:00:00",
          "2022-07-09T00:00:00",
          "2022-07-10T00:00:00",
          "2022-07-11T00:00:00",
          "2022-07-12T00:00:00",
          "2022-07-13T00:00:00",
          "2022-07-14T00:00:00",
          "2022-07-15T00:00:00",
          "2022-07-16T00:00:00",
          "2022-07-17T00:00:00",
          "2022-07-18T00:00:00",
          "2022-07-19T00:00:00",
          "2022-07-20T00:00:00",
          "2022-07-21T00:00:00",
          "2022-07-22T00:00:00",
          "2022-07-23T00:00:00",
          "2022-07-24T00:00:00",
          "2022-07-25T00:00:00",
          "2022-07-26T00:00:00",
          "2022-07-27T00:00:00",
          "2022-07-28T00:00:00",
          "2022-07-29T00:00:00",
          "2022-07-30T00:00:00",
          "2022-07-31T00:00:00",
          "2022-08-01T00:00:00",
          "2022-08-02T00:00:00",
          "2022-08-03T00:00:00",
          "2022-08-04T00:00:00",
          "2022-08-05T00:00:00",
          "2022-08-06T00:00:00",
          "2022-08-07T00:00:00",
          "2022-08-08T00:00:00",
          "2022-08-09T00:00:00",
          "2022-08-10T00:00:00",
          "2022-08-11T00:00:00",
          "2022-08-12T00:00:00",
          "2022-08-13T00:00:00",
          "2022-08-14T00:00:00",
          "2022-08-15T00:00:00",
          "2022-08-16T00:00:00",
          "2022-08-17T00:00:00",
          "2022-08-18T00:00:00",
          "2022-08-19T00:00:00",
          "2022-08-20T00:00:00",
          "2022-08-21T00:00:00",
          "2022-08-22T00:00:00",
          "2022-08-23T00:00:00",
          "2022-08-24T00:00:00",
          "2022-08-25T00:00:00",
          "2022-08-26T00:00:00",
          "2022-08-27T00:00:00",
          "2022-08-28T00:00:00",
          "2022-08-29T00:00:00",
          "2022-08-30T00:00:00",
          "2022-08-31T00:00:00",
          "2022-09-01T00:00:00",
          "2022-09-02T00:00:00",
          "2022-09-03T00:00:00",
          "2022-09-04T00:00:00",
          "2022-09-05T00:00:00",
          "2022-09-06T00:00:00",
          "2022-09-07T00:00:00",
          "2022-09-08T00:00:00",
          "2022-09-09T00:00:00",
          "2022-09-10T00:00:00",
          "2022-09-11T00:00:00",
          "2022-09-12T00:00:00",
          "2022-09-13T00:00:00",
          "2022-09-14T00:00:00",
          "2022-09-15T00:00:00",
          "2022-09-16T00:00:00",
          "2022-09-17T00:00:00",
          "2022-09-18T00:00:00",
          "2022-09-19T00:00:00",
          "2022-09-20T00:00:00",
          "2022-09-21T00:00:00",
          "2022-09-22T00:00:00",
          "2022-09-23T00:00:00",
          "2022-09-24T00:00:00",
          "2022-09-25T00:00:00",
          "2022-09-26T00:00:00",
          "2022-09-27T00:00:00",
          "2022-09-28T00:00:00",
          "2022-09-29T00:00:00",
          "2022-09-30T00:00:00",
          "2022-10-01T00:00:00",
          "2022-10-02T00:00:00",
          "2022-10-03T00:00:00",
          "2022-10-04T00:00:00",
          "2022-10-05T00:00:00",
          "2022-10-06T00:00:00",
          "2022-10-07T00:00:00",
          "2022-10-08T00:00:00",
          "2022-10-09T00:00:00",
          "2022-10-10T00:00:00",
          "2022-10-11T00:00:00",
          "2022-10-12T00:00:00",
          "2022-10-13T00:00:00",
          "2022-10-14T00:00:00",
          "2022-10-15T00:00:00",
          "2022-10-16T00:00:00",
          "2022-10-17T00:00:00",
          "2022-10-18T00:00:00",
          "2022-10-19T00:00:00",
          "2022-10-20T00:00:00",
          "2022-10-21T00:00:00",
          "2022-10-22T00:00:00",
          "2022-10-23T00:00:00",
          "2022-10-24T00:00:00",
          "2022-10-25T00:00:00",
          "2022-10-26T00:00:00",
          "2022-10-27T00:00:00",
          "2022-10-28T00:00:00",
          "2022-10-29T00:00:00",
          "2022-10-30T00:00:00",
          "2022-10-31T00:00:00",
          "2022-11-01T00:00:00",
          "2022-11-02T00:00:00",
          "2022-11-03T00:00:00",
          "2022-11-04T00:00:00",
          "2022-11-05T00:00:00",
          "2022-11-06T00:00:00",
          "2022-11-07T00:00:00",
          "2022-11-08T00:00:00",
          "2022-11-09T00:00:00",
          "2022-11-10T00:00:00",
          "2022-11-11T00:00:00",
          "2022-11-12T00:00:00",
          "2022-11-13T00:00:00",
          "2022-11-14T00:00:00",
          "2022-11-15T00:00:00",
          "2022-11-16T00:00:00",
          "2022-11-17T00:00:00",
          "2022-11-18T00:00:00",
          "2022-11-19T00:00:00",
          "2022-11-20T00:00:00",
          "2022-11-21T00:00:00",
          "2022-11-22T00:00:00",
          "2022-11-23T00:00:00",
          "2022-11-24T00:00:00",
          "2022-11-25T00:00:00",
          "2022-11-26T00:00:00",
          "2022-11-27T00:00:00",
          "2022-11-28T00:00:00",
          "2022-11-29T00:00:00",
          "2022-11-30T00:00:00",
          "2022-12-01T00:00:00",
          "2022-12-02T00:00:00",
          "2022-12-03T00:00:00",
          "2022-12-04T00:00:00",
          "2022-12-05T00:00:00",
          "2022-12-06T00:00:00",
          "2022-12-07T00:00:00",
          "2022-12-08T00:00:00",
          "2022-12-09T00:00:00",
          "2022-12-10T00:00:00",
          "2022-12-11T00:00:00",
          "2022-12-12T00:00:00",
          "2022-12-13T00:00:00",
          "2022-12-14T00:00:00",
          "2022-12-15T00:00:00",
          "2022-12-16T00:00:00",
          "2022-12-17T00:00:00",
          "2022-12-18T00:00:00",
          "2022-12-19T00:00:00",
          "2022-12-20T00:00:00",
          "2022-12-21T00:00:00",
          "2022-12-22T00:00:00",
          "2022-12-23T00:00:00",
          "2022-12-24T00:00:00",
          "2022-12-25T00:00:00",
          "2022-12-26T00:00:00",
          "2022-12-27T00:00:00",
          "2022-12-28T00:00:00"
         ],
         "xaxis": "x",
         "y": [
          3713.85205078125,
          3682.6328125,
          3769.697021484375,
          3829.56494140625,
          3761.38037109375,
          3794.056640625,
          3550.386962890625,
          3418.408203125,
          3193.21044921875,
          3091.97265625,
          3157.75146484375,
          3083.097900390625,
          3238.111572265625,
          3372.25830078125,
          3248.28857421875,
          3310.00146484375,
          3330.53076171875,
          3350.921875,
          3212.304931640625,
          3164.025146484375,
          3095.825927734375,
          3001.1201171875,
          2557.931640625,
          2405.18115234375,
          2535.0390625,
          2440.352294921875,
          2455.93505859375,
          2468.0302734375,
          2423.001220703125,
          2547.092041015625,
          2597.084716796875,
          2603.466552734375,
          2688.27880859375,
          2792.1171875,
          2682.85400390625,
          2679.16259765625,
          2983.5869140625,
          3014.648193359375,
          3057.47607421875,
          3142.470703125,
          3122.608642578125,
          3239.45703125,
          3077.482177734375,
          2927.383544921875,
          2917.36279296875,
          2883.46337890625,
          2933.47900390625,
          3179.877197265625,
          3127.830078125,
          2881.48193359375,
          2785.7275390625,
          2763.701171875,
          2628.6484375,
          2573.816162109375,
          2639.29931640625,
          2590.359619140625,
          2598.067138671875,
          2764.53564453125,
          2781.11181640625,
          2621.8017578125,
          2919.201171875,
          2972.485107421875,
          2950.118408203125,
          2834.468994140625,
          2617.156005859375,
          2664.8310546875,
          2555.037353515625,
          2497.771240234375,
          2576.74755859375,
          2729.783447265625,
          2608.048583984375,
          2559.56298828125,
          2574.754150390625,
          2518.944580078125,
          2590.696044921875,
          2620.149658203125,
          2772.0556640625,
          2814.8544921875,
          2945.343017578125,
          2946.257080078125,
          2860.459228515625,
          2897.9765625,
          2973.131103515625,
          3031.067138671875,
          3108.06201171875,
          3106.67138671875,
          3143.178955078125,
          3291.57763671875,
          3336.634521484375,
          3401.98779296875,
          3385.157958984375,
          3281.642822265625,
          3449.55224609375,
          3445.059326171875,
          3522.83349609375,
          3521.2412109375,
          3411.79248046875,
          3171.69189453125,
          3233.274658203125,
          3192.073974609375,
          3261.916259765625,
          3211.866943359375,
          2981.05224609375,
          3030.37646484375,
          3118.34423828125,
          3019.909423828125,
          3040.91650390625,
          3062.310302734375,
          2993.4033203125,
          3057.606689453125,
          3104.1064453125,
          3077.745849609375,
          2987.480712890625,
          2964.835693359375,
          2938.114013671875,
          2922.732666015625,
          3009.3935546875,
          2808.29833984375,
          2888.9296875,
          2936.94091796875,
          2815.601806640625,
          2730.186767578125,
          2827.756103515625,
          2857.410400390625,
          2783.476318359375,
          2940.644775390625,
          2749.213134765625,
          2694.979736328125,
          2636.093017578125,
          2517.4599609375,
          2245.430419921875,
          2343.510986328125,
          2072.108642578125,
          1961.7015380859373,
          2014.418212890625,
          2056.27392578125,
          2145.706787109375,
          2022.7259521484373,
          2090.4091796875,
          1916.6561279296875,
          2018.336181640625,
          1961.315673828125,
          1974.518310546875,
          2043.170166015625,
          1972.181884765625,
          1978.9827880859373,
          1944.827880859375,
          1803.913330078125,
          1724.9228515625,
          1757.9417724609375,
          1812.031005859375,
          1996.4412841796875,
          1942.3280029296875,
          1823.5693359375,
          1834.1505126953125,
          1775.07861328125,
          1801.6094970703125,
          1805.2049560546875,
          1859.2896728515625,
          1814.04833984375,
          1793.572265625,
          1789.8260498046875,
          1665.042236328125,
          1529.6634521484375,
          1445.216552734375,
          1204.582763671875,
          1211.662841796875,
          1233.2064208984375,
          1067.730712890625,
          1086.519287109375,
          993.6367797851562,
          1127.656494140625,
          1127.6424560546875,
          1124.8245849609375,
          1051.421875,
          1143.38671875,
          1226.8447265625,
          1243.4468994140625,
          1199.8316650390625,
          1193.6806640625,
          1144.5792236328125,
          1098.94384765625,
          1067.298828125,
          1059.767333984375,
          1066.5128173828125,
          1073.7669677734375,
          1151.05908203125,
          1134.541015625,
          1186.9739990234375,
          1237.5933837890625,
          1222.5062255859375,
          1216.978271484375,
          1168.401611328125,
          1097.236572265625,
          1038.191650390625,
          1113.587158203125,
          1191.5262451171875,
          1233.129150390625,
          1352.62646484375,
          1338.6357421875,
          1578.7178955078125,
          1542.9752197265625,
          1520.20068359375,
          1576.74951171875,
          1537.4051513671875,
          1549.2974853515625,
          1599.4766845703125,
          1445.3834228515625,
          1441.8067626953125,
          1636.232666015625,
          1725.4681396484375,
          1727.406982421875,
          1695.969482421875,
          1681.517333984375,
          1635.19580078125,
          1632.9454345703125,
          1618.87451171875,
          1608.205810546875,
          1732.254638671875,
          1691.6580810546875,
          1699.350830078125,
          1775.51611328125,
          1703.0250244140625,
          1851.74267578125,
          1881.22412109375,
          1957.2464599609373,
          1981.3365478515625,
          1936.802001953125,
          1904.2281494140625,
          1878.139404296875,
          1832.9996337890625,
          1847.0078125,
          1612.9873046875,
          1577.0037841796875,
          1619.3189697265625,
          1622.505859375,
          1662.7698974609375,
          1657.0592041015625,
          1696.45703125,
          1507.7828369140625,
          1491.39501953125,
          1430.54736328125,
          1553.037353515625,
          1523.8388671875,
          1553.6849365234375,
          1586.1767578125,
          1577.220458984375,
          1556.8726806640625,
          1577.6416015625,
          1617.1832275390625,
          1561.74853515625,
          1629.9063720703125,
          1635.34765625,
          1719.08544921875,
          1776.2037353515625,
          1761.800048828125,
          1713.7652587890625,
          1580.7879638671875,
          1634.7550048828125,
          1471.6934814453125,
          1432.44775390625,
          1469.74169921875,
          1335.3291015625,
          1377.5413818359375,
          1324.38818359375,
          1252.6077880859375,
          1327.68017578125,
          1328.259521484375,
          1317.9932861328125,
          1294.216796875,
          1335.3201904296875,
          1330.127685546875,
          1337.410888671875,
          1335.65234375,
          1327.9786376953125,
          1311.6444091796875,
          1276.093505859375,
          1323.439208984375,
          1362.1265869140625,
          1352.837158203125,
          1351.70947265625,
          1332.5169677734375,
          1315.50048828125,
          1322.604248046875,
          1291.337646484375,
          1279.57568359375,
          1294.9063720703125,
          1288.1239013671875,
          1297.422119140625,
          1274.8717041015625,
          1306.296630859375,
          1331.713623046875,
          1310.447021484375,
          1285.7442626953125,
          1283.200927734375,
          1299.9464111328125,
          1314.2991943359375,
          1363.447021484375,
          1344.99853515625,
          1461.6654052734375,
          1566.566650390625,
          1514.3748779296875,
          1555.4779052734375,
          1619.698486328125,
          1590.7833251953125,
          1572.7144775390625,
          1579.70458984375,
          1519.7117919921875,
          1531.541748046875,
          1645.0933837890625,
          1627.968017578125,
          1572.2347412109375,
          1568.59130859375,
          1332.8355712890625,
          1100.1697998046875,
          1299.464599609375,
          1287.2210693359375,
          1255.268310546875,
          1221.8192138671875,
          1241.604248046875,
          1251.7362060546875,
          1215.6025390625,
          1200.80859375,
          1212.30029296875,
          1218.4267578125,
          1142.4666748046875,
          1108.35302734375,
          1135.1734619140625,
          1183.1995849609375,
          1203.983154296875,
          1198.9259033203125,
          1205.89794921875,
          1195.126953125,
          1170.086181640625,
          1216.9012451171875,
          1295.6885986328125,
          1276.27392578125,
          1294.3033447265625,
          1243.3348388671875,
          1280.256591796875,
          1259.6767578125,
          1271.65380859375,
          1232.4375,
          1281.1163330078125,
          1264.2847900390625,
          1266.3841552734375,
          1263.8685302734375,
          1274.6190185546875,
          1320.5491943359375,
          1309.3287353515625,
          1266.3538818359375,
          1168.2593994140625,
          1188.1495361328125,
          1184.7152099609375,
          1167.60986328125,
          1217.70361328125,
          1213.5999755859375,
          1218.18212890625,
          1220.159423828125,
          1221.1485595703125,
          1218.9620361328125,
          1226.974365234375,
          1212.7916259765625,
          1189.986083984375
         ],
         "yaxis": "y"
        }
       ],
       "layout": {
        "font": {
         "color": "black",
         "size": 15
        },
        "legend": {
         "tracegroupgap": 0
        },
        "margin": {
         "t": 60
        },
        "plot_bgcolor": "white",
        "template": {
         "data": {
          "bar": [
           {
            "error_x": {
             "color": "#2a3f5f"
            },
            "error_y": {
             "color": "#2a3f5f"
            },
            "marker": {
             "line": {
              "color": "#E5ECF6",
              "width": 0.5
             },
             "pattern": {
              "fillmode": "overlay",
              "size": 10,
              "solidity": 0.2
             }
            },
            "type": "bar"
           }
          ],
          "barpolar": [
           {
            "marker": {
             "line": {
              "color": "#E5ECF6",
              "width": 0.5
             },
             "pattern": {
              "fillmode": "overlay",
              "size": 10,
              "solidity": 0.2
             }
            },
            "type": "barpolar"
           }
          ],
          "carpet": [
           {
            "aaxis": {
             "endlinecolor": "#2a3f5f",
             "gridcolor": "white",
             "linecolor": "white",
             "minorgridcolor": "white",
             "startlinecolor": "#2a3f5f"
            },
            "baxis": {
             "endlinecolor": "#2a3f5f",
             "gridcolor": "white",
             "linecolor": "white",
             "minorgridcolor": "white",
             "startlinecolor": "#2a3f5f"
            },
            "type": "carpet"
           }
          ],
          "choropleth": [
           {
            "colorbar": {
             "outlinewidth": 0,
             "ticks": ""
            },
            "type": "choropleth"
           }
          ],
          "contour": [
           {
            "colorbar": {
             "outlinewidth": 0,
             "ticks": ""
            },
            "colorscale": [
             [
              0,
              "#0d0887"
             ],
             [
              0.1111111111111111,
              "#46039f"
             ],
             [
              0.2222222222222222,
              "#7201a8"
             ],
             [
              0.3333333333333333,
              "#9c179e"
             ],
             [
              0.4444444444444444,
              "#bd3786"
             ],
             [
              0.5555555555555556,
              "#d8576b"
             ],
             [
              0.6666666666666666,
              "#ed7953"
             ],
             [
              0.7777777777777778,
              "#fb9f3a"
             ],
             [
              0.8888888888888888,
              "#fdca26"
             ],
             [
              1,
              "#f0f921"
             ]
            ],
            "type": "contour"
           }
          ],
          "contourcarpet": [
           {
            "colorbar": {
             "outlinewidth": 0,
             "ticks": ""
            },
            "type": "contourcarpet"
           }
          ],
          "heatmap": [
           {
            "colorbar": {
             "outlinewidth": 0,
             "ticks": ""
            },
            "colorscale": [
             [
              0,
              "#0d0887"
             ],
             [
              0.1111111111111111,
              "#46039f"
             ],
             [
              0.2222222222222222,
              "#7201a8"
             ],
             [
              0.3333333333333333,
              "#9c179e"
             ],
             [
              0.4444444444444444,
              "#bd3786"
             ],
             [
              0.5555555555555556,
              "#d8576b"
             ],
             [
              0.6666666666666666,
              "#ed7953"
             ],
             [
              0.7777777777777778,
              "#fb9f3a"
             ],
             [
              0.8888888888888888,
              "#fdca26"
             ],
             [
              1,
              "#f0f921"
             ]
            ],
            "type": "heatmap"
           }
          ],
          "heatmapgl": [
           {
            "colorbar": {
             "outlinewidth": 0,
             "ticks": ""
            },
            "colorscale": [
             [
              0,
              "#0d0887"
             ],
             [
              0.1111111111111111,
              "#46039f"
             ],
             [
              0.2222222222222222,
              "#7201a8"
             ],
             [
              0.3333333333333333,
              "#9c179e"
             ],
             [
              0.4444444444444444,
              "#bd3786"
             ],
             [
              0.5555555555555556,
              "#d8576b"
             ],
             [
              0.6666666666666666,
              "#ed7953"
             ],
             [
              0.7777777777777778,
              "#fb9f3a"
             ],
             [
              0.8888888888888888,
              "#fdca26"
             ],
             [
              1,
              "#f0f921"
             ]
            ],
            "type": "heatmapgl"
           }
          ],
          "histogram": [
           {
            "marker": {
             "pattern": {
              "fillmode": "overlay",
              "size": 10,
              "solidity": 0.2
             }
            },
            "type": "histogram"
           }
          ],
          "histogram2d": [
           {
            "colorbar": {
             "outlinewidth": 0,
             "ticks": ""
            },
            "colorscale": [
             [
              0,
              "#0d0887"
             ],
             [
              0.1111111111111111,
              "#46039f"
             ],
             [
              0.2222222222222222,
              "#7201a8"
             ],
             [
              0.3333333333333333,
              "#9c179e"
             ],
             [
              0.4444444444444444,
              "#bd3786"
             ],
             [
              0.5555555555555556,
              "#d8576b"
             ],
             [
              0.6666666666666666,
              "#ed7953"
             ],
             [
              0.7777777777777778,
              "#fb9f3a"
             ],
             [
              0.8888888888888888,
              "#fdca26"
             ],
             [
              1,
              "#f0f921"
             ]
            ],
            "type": "histogram2d"
           }
          ],
          "histogram2dcontour": [
           {
            "colorbar": {
             "outlinewidth": 0,
             "ticks": ""
            },
            "colorscale": [
             [
              0,
              "#0d0887"
             ],
             [
              0.1111111111111111,
              "#46039f"
             ],
             [
              0.2222222222222222,
              "#7201a8"
             ],
             [
              0.3333333333333333,
              "#9c179e"
             ],
             [
              0.4444444444444444,
              "#bd3786"
             ],
             [
              0.5555555555555556,
              "#d8576b"
             ],
             [
              0.6666666666666666,
              "#ed7953"
             ],
             [
              0.7777777777777778,
              "#fb9f3a"
             ],
             [
              0.8888888888888888,
              "#fdca26"
             ],
             [
              1,
              "#f0f921"
             ]
            ],
            "type": "histogram2dcontour"
           }
          ],
          "mesh3d": [
           {
            "colorbar": {
             "outlinewidth": 0,
             "ticks": ""
            },
            "type": "mesh3d"
           }
          ],
          "parcoords": [
           {
            "line": {
             "colorbar": {
              "outlinewidth": 0,
              "ticks": ""
             }
            },
            "type": "parcoords"
           }
          ],
          "pie": [
           {
            "automargin": true,
            "type": "pie"
           }
          ],
          "scatter": [
           {
            "fillpattern": {
             "fillmode": "overlay",
             "size": 10,
             "solidity": 0.2
            },
            "type": "scatter"
           }
          ],
          "scatter3d": [
           {
            "line": {
             "colorbar": {
              "outlinewidth": 0,
              "ticks": ""
             }
            },
            "marker": {
             "colorbar": {
              "outlinewidth": 0,
              "ticks": ""
             }
            },
            "type": "scatter3d"
           }
          ],
          "scattercarpet": [
           {
            "marker": {
             "colorbar": {
              "outlinewidth": 0,
              "ticks": ""
             }
            },
            "type": "scattercarpet"
           }
          ],
          "scattergeo": [
           {
            "marker": {
             "colorbar": {
              "outlinewidth": 0,
              "ticks": ""
             }
            },
            "type": "scattergeo"
           }
          ],
          "scattergl": [
           {
            "marker": {
             "colorbar": {
              "outlinewidth": 0,
              "ticks": ""
             }
            },
            "type": "scattergl"
           }
          ],
          "scattermapbox": [
           {
            "marker": {
             "colorbar": {
              "outlinewidth": 0,
              "ticks": ""
             }
            },
            "type": "scattermapbox"
           }
          ],
          "scatterpolar": [
           {
            "marker": {
             "colorbar": {
              "outlinewidth": 0,
              "ticks": ""
             }
            },
            "type": "scatterpolar"
           }
          ],
          "scatterpolargl": [
           {
            "marker": {
             "colorbar": {
              "outlinewidth": 0,
              "ticks": ""
             }
            },
            "type": "scatterpolargl"
           }
          ],
          "scatterternary": [
           {
            "marker": {
             "colorbar": {
              "outlinewidth": 0,
              "ticks": ""
             }
            },
            "type": "scatterternary"
           }
          ],
          "surface": [
           {
            "colorbar": {
             "outlinewidth": 0,
             "ticks": ""
            },
            "colorscale": [
             [
              0,
              "#0d0887"
             ],
             [
              0.1111111111111111,
              "#46039f"
             ],
             [
              0.2222222222222222,
              "#7201a8"
             ],
             [
              0.3333333333333333,
              "#9c179e"
             ],
             [
              0.4444444444444444,
              "#bd3786"
             ],
             [
              0.5555555555555556,
              "#d8576b"
             ],
             [
              0.6666666666666666,
              "#ed7953"
             ],
             [
              0.7777777777777778,
              "#fb9f3a"
             ],
             [
              0.8888888888888888,
              "#fdca26"
             ],
             [
              1,
              "#f0f921"
             ]
            ],
            "type": "surface"
           }
          ],
          "table": [
           {
            "cells": {
             "fill": {
              "color": "#EBF0F8"
             },
             "line": {
              "color": "white"
             }
            },
            "header": {
             "fill": {
              "color": "#C8D4E3"
             },
             "line": {
              "color": "white"
             }
            },
            "type": "table"
           }
          ]
         },
         "layout": {
          "annotationdefaults": {
           "arrowcolor": "#2a3f5f",
           "arrowhead": 0,
           "arrowwidth": 1
          },
          "autotypenumbers": "strict",
          "coloraxis": {
           "colorbar": {
            "outlinewidth": 0,
            "ticks": ""
           }
          },
          "colorscale": {
           "diverging": [
            [
             0,
             "#8e0152"
            ],
            [
             0.1,
             "#c51b7d"
            ],
            [
             0.2,
             "#de77ae"
            ],
            [
             0.3,
             "#f1b6da"
            ],
            [
             0.4,
             "#fde0ef"
            ],
            [
             0.5,
             "#f7f7f7"
            ],
            [
             0.6,
             "#e6f5d0"
            ],
            [
             0.7,
             "#b8e186"
            ],
            [
             0.8,
             "#7fbc41"
            ],
            [
             0.9,
             "#4d9221"
            ],
            [
             1,
             "#276419"
            ]
           ],
           "sequential": [
            [
             0,
             "#0d0887"
            ],
            [
             0.1111111111111111,
             "#46039f"
            ],
            [
             0.2222222222222222,
             "#7201a8"
            ],
            [
             0.3333333333333333,
             "#9c179e"
            ],
            [
             0.4444444444444444,
             "#bd3786"
            ],
            [
             0.5555555555555556,
             "#d8576b"
            ],
            [
             0.6666666666666666,
             "#ed7953"
            ],
            [
             0.7777777777777778,
             "#fb9f3a"
            ],
            [
             0.8888888888888888,
             "#fdca26"
            ],
            [
             1,
             "#f0f921"
            ]
           ],
           "sequentialminus": [
            [
             0,
             "#0d0887"
            ],
            [
             0.1111111111111111,
             "#46039f"
            ],
            [
             0.2222222222222222,
             "#7201a8"
            ],
            [
             0.3333333333333333,
             "#9c179e"
            ],
            [
             0.4444444444444444,
             "#bd3786"
            ],
            [
             0.5555555555555556,
             "#d8576b"
            ],
            [
             0.6666666666666666,
             "#ed7953"
            ],
            [
             0.7777777777777778,
             "#fb9f3a"
            ],
            [
             0.8888888888888888,
             "#fdca26"
            ],
            [
             1,
             "#f0f921"
            ]
           ]
          },
          "colorway": [
           "#636efa",
           "#EF553B",
           "#00cc96",
           "#ab63fa",
           "#FFA15A",
           "#19d3f3",
           "#FF6692",
           "#B6E880",
           "#FF97FF",
           "#FECB52"
          ],
          "font": {
           "color": "#2a3f5f"
          },
          "geo": {
           "bgcolor": "white",
           "lakecolor": "white",
           "landcolor": "#E5ECF6",
           "showlakes": true,
           "showland": true,
           "subunitcolor": "white"
          },
          "hoverlabel": {
           "align": "left"
          },
          "hovermode": "closest",
          "mapbox": {
           "style": "light"
          },
          "paper_bgcolor": "white",
          "plot_bgcolor": "#E5ECF6",
          "polar": {
           "angularaxis": {
            "gridcolor": "white",
            "linecolor": "white",
            "ticks": ""
           },
           "bgcolor": "#E5ECF6",
           "radialaxis": {
            "gridcolor": "white",
            "linecolor": "white",
            "ticks": ""
           }
          },
          "scene": {
           "xaxis": {
            "backgroundcolor": "#E5ECF6",
            "gridcolor": "white",
            "gridwidth": 2,
            "linecolor": "white",
            "showbackground": true,
            "ticks": "",
            "zerolinecolor": "white"
           },
           "yaxis": {
            "backgroundcolor": "#E5ECF6",
            "gridcolor": "white",
            "gridwidth": 2,
            "linecolor": "white",
            "showbackground": true,
            "ticks": "",
            "zerolinecolor": "white"
           },
           "zaxis": {
            "backgroundcolor": "#E5ECF6",
            "gridcolor": "white",
            "gridwidth": 2,
            "linecolor": "white",
            "showbackground": true,
            "ticks": "",
            "zerolinecolor": "white"
           }
          },
          "shapedefaults": {
           "line": {
            "color": "#2a3f5f"
           }
          },
          "ternary": {
           "aaxis": {
            "gridcolor": "white",
            "linecolor": "white",
            "ticks": ""
           },
           "baxis": {
            "gridcolor": "white",
            "linecolor": "white",
            "ticks": ""
           },
           "bgcolor": "#E5ECF6",
           "caxis": {
            "gridcolor": "white",
            "linecolor": "white",
            "ticks": ""
           }
          },
          "title": {
           "x": 0.05
          },
          "xaxis": {
           "automargin": true,
           "gridcolor": "white",
           "linecolor": "white",
           "ticks": "",
           "title": {
            "standoff": 15
           },
           "zerolinecolor": "white",
           "zerolinewidth": 2
          },
          "yaxis": {
           "automargin": true,
           "gridcolor": "white",
           "linecolor": "white",
           "ticks": "",
           "title": {
            "standoff": 15
           },
           "zerolinecolor": "white",
           "zerolinewidth": 2
          }
         }
        },
        "title": {
         "text": "Considered period to predict Bitcoin close price"
        },
        "xaxis": {
         "anchor": "y",
         "domain": [
          0,
          1
         ],
         "showgrid": false,
         "title": {
          "text": "Date"
         }
        },
        "yaxis": {
         "anchor": "x",
         "domain": [
          0,
          1
         ],
         "showgrid": false,
         "title": {
          "text": "Close"
         }
        }
       }
      }
     },
     "metadata": {},
     "output_type": "display_data"
    }
   ],
   "source": [
    "fig = px.line(closedf, x=closedf.Date, y=closedf.Close,labels={'date':'Date','close':'Close Stock'})\n",
    "fig.update_traces(marker_line_width=2, opacity=0.8, marker_line_color='orange')\n",
    "fig.update_layout(title_text='Considered period to predict Bitcoin close price', \n",
    "                  plot_bgcolor='white', font_size=15, font_color='black')\n",
    "fig.update_xaxes(showgrid=False)\n",
    "fig.update_yaxes(showgrid=False)\n",
    "fig.show()"
   ]
  },
  {
   "cell_type": "markdown",
   "id": "5042eaa2",
   "metadata": {
    "papermill": {
     "duration": 0.124648,
     "end_time": "2021-08-25T15:25:54.995966",
     "exception": false,
     "start_time": "2021-08-25T15:25:54.871318",
     "status": "completed"
    },
    "tags": []
   },
   "source": [
    "* ### Normalizing Data\n",
    "- Normalization is a technique often applied as part of data preparation for machine learning. The goal of normalization is to change the values of numeric columns in the dataset to use a common scale, without distorting differences in the ranges of values or losing information.\n",
    "- MinMaxScaler. For each value in a feature, MinMaxScaler subtracts the minimum value in the feature and then divides by the range. The range is the difference between the original maximum and original minimum. MinMaxScaler preserves the shape of the original distribution."
   ]
  },
  {
   "cell_type": "code",
   "execution_count": 17,
   "id": "69ff6d09",
   "metadata": {
    "execution": {
     "iopub.execute_input": "2021-08-25T15:25:55.251336Z",
     "iopub.status.busy": "2021-08-25T15:25:55.250719Z",
     "iopub.status.idle": "2021-08-25T15:25:55.254032Z",
     "shell.execute_reply": "2021-08-25T15:25:55.254523Z",
     "shell.execute_reply.started": "2021-08-25T14:39:21.763790Z"
    },
    "papermill": {
     "duration": 0.133222,
     "end_time": "2021-08-25T15:25:55.254687",
     "exception": false,
     "start_time": "2021-08-25T15:25:55.121465",
     "status": "completed"
    },
    "tags": []
   },
   "outputs": [
    {
     "name": "stdout",
     "output_type": "stream",
     "text": [
      "(364, 1)\n"
     ]
    }
   ],
   "source": [
    "# deleting date column and normalizing using MinMax Scaler\n",
    "\n",
    "del closedf['Date']\n",
    "scaler=MinMaxScaler(feature_range=(0,1))\n",
    "closedf=scaler.fit_transform(np.array(closedf).reshape(-1,1))\n",
    "print(closedf.shape)"
   ]
  },
  {
   "cell_type": "markdown",
   "id": "ff56e76b",
   "metadata": {
    "papermill": {
     "duration": 0.123413,
     "end_time": "2021-08-25T15:25:55.501943",
     "exception": false,
     "start_time": "2021-08-25T15:25:55.378530",
     "status": "completed"
    },
    "tags": []
   },
   "source": [
    "* ### Slicing data into Training set and Testing set"
   ]
  },
  {
   "cell_type": "code",
   "execution_count": 18,
   "id": "04e82628",
   "metadata": {
    "execution": {
     "iopub.execute_input": "2021-08-25T15:25:55.761456Z",
     "iopub.status.busy": "2021-08-25T15:25:55.760798Z",
     "iopub.status.idle": "2021-08-25T15:25:55.765880Z",
     "shell.execute_reply": "2021-08-25T15:25:55.765290Z",
     "shell.execute_reply.started": "2021-08-25T14:39:21.773467Z"
    },
    "papermill": {
     "duration": 0.138154,
     "end_time": "2021-08-25T15:25:55.766002",
     "exception": false,
     "start_time": "2021-08-25T15:25:55.627848",
     "status": "completed"
    },
    "tags": []
   },
   "outputs": [
    {
     "name": "stdout",
     "output_type": "stream",
     "text": [
      "train_data:  (291, 1)\n",
      "test_data:  (73, 1)\n"
     ]
    }
   ],
   "source": [
    "training_size=int(len(closedf)*0.80)\n",
    "test_size=len(closedf)-training_size\n",
    "train_data,test_data=closedf[0:training_size,:],closedf[training_size:len(closedf),:1]\n",
    "print(\"train_data: \", train_data.shape)\n",
    "print(\"test_data: \", test_data.shape)"
   ]
  },
  {
   "cell_type": "markdown",
   "id": "8ba2fa04",
   "metadata": {
    "papermill": {
     "duration": 0.126914,
     "end_time": "2021-08-25T15:25:56.017459",
     "exception": false,
     "start_time": "2021-08-25T15:25:55.890545",
     "status": "completed"
    },
    "tags": []
   },
   "source": [
    "* ### Now we Transform the Close price based on Time-series-analysis forecasting requirement , Here we will take 15   "
   ]
  },
  {
   "cell_type": "code",
   "execution_count": 19,
   "id": "95aea656",
   "metadata": {
    "execution": {
     "iopub.execute_input": "2021-08-25T15:25:56.279629Z",
     "iopub.status.busy": "2021-08-25T15:25:56.278921Z",
     "iopub.status.idle": "2021-08-25T15:25:56.282043Z",
     "shell.execute_reply": "2021-08-25T15:25:56.281506Z",
     "shell.execute_reply.started": "2021-08-25T14:39:21.785232Z"
    },
    "papermill": {
     "duration": 0.135448,
     "end_time": "2021-08-25T15:25:56.282192",
     "exception": false,
     "start_time": "2021-08-25T15:25:56.146744",
     "status": "completed"
    },
    "tags": []
   },
   "outputs": [],
   "source": [
    "# convert an array of values into a dataset matrix\n",
    "\n",
    "def create_dataset(dataset, time_step=1):\n",
    "    dataX, dataY = [], []\n",
    "    for i in range(len(dataset)-time_step-1):\n",
    "        a = dataset[i:(i+time_step), 0]   ###i=0, 0,1,2,3-----99   100 \n",
    "        dataX.append(a)\n",
    "        dataY.append(dataset[i + time_step, 0])\n",
    "    return np.array(dataX), np.array(dataY)"
   ]
  },
  {
   "cell_type": "code",
   "execution_count": 20,
   "id": "bfd6e71d",
   "metadata": {
    "execution": {
     "iopub.execute_input": "2021-08-25T15:25:56.540390Z",
     "iopub.status.busy": "2021-08-25T15:25:56.539774Z",
     "iopub.status.idle": "2021-08-25T15:25:56.545223Z",
     "shell.execute_reply": "2021-08-25T15:25:56.544099Z",
     "shell.execute_reply.started": "2021-08-25T14:39:21.797281Z"
    },
    "papermill": {
     "duration": 0.137552,
     "end_time": "2021-08-25T15:25:56.545463",
     "exception": false,
     "start_time": "2021-08-25T15:25:56.407911",
     "status": "completed"
    },
    "tags": []
   },
   "outputs": [
    {
     "name": "stdout",
     "output_type": "stream",
     "text": [
      "X_train:  (275, 15)\n",
      "y_train:  (275,)\n",
      "X_test:  (57, 15)\n",
      "y_test (57,)\n"
     ]
    }
   ],
   "source": [
    "time_step = 15\n",
    "X_train, y_train = create_dataset(train_data, time_step)\n",
    "X_test, y_test = create_dataset(test_data, time_step)\n",
    "\n",
    "print(\"X_train: \", X_train.shape)\n",
    "print(\"y_train: \", y_train.shape)\n",
    "print(\"X_test: \", X_test.shape)\n",
    "print(\"y_test\", y_test.shape)"
   ]
  },
  {
   "cell_type": "code",
   "execution_count": 21,
   "id": "71276d05",
   "metadata": {
    "execution": {
     "iopub.execute_input": "2021-08-25T15:25:56.807075Z",
     "iopub.status.busy": "2021-08-25T15:25:56.806438Z",
     "iopub.status.idle": "2021-08-25T15:25:56.809597Z",
     "shell.execute_reply": "2021-08-25T15:25:56.810132Z",
     "shell.execute_reply.started": "2021-08-25T14:39:21.812047Z"
    },
    "papermill": {
     "duration": 0.136453,
     "end_time": "2021-08-25T15:25:56.810292",
     "exception": false,
     "start_time": "2021-08-25T15:25:56.673839",
     "status": "completed"
    },
    "tags": []
   },
   "outputs": [
    {
     "name": "stdout",
     "output_type": "stream",
     "text": [
      "X_train:  (275, 15, 1)\n",
      "X_test:  (57, 15, 1)\n"
     ]
    }
   ],
   "source": [
    "# reshape input to be [samples, time steps, features] which is required for LSTM\n",
    "X_train =X_train.reshape(X_train.shape[0],X_train.shape[1] , 1)\n",
    "X_test = X_test.reshape(X_test.shape[0],X_test.shape[1] , 1)\n",
    "\n",
    "print(\"X_train: \", X_train.shape)\n",
    "print(\"X_test: \", X_test.shape)"
   ]
  },
  {
   "cell_type": "markdown",
   "id": "65a92293",
   "metadata": {
    "papermill": {
     "duration": 0.126662,
     "end_time": "2021-08-25T15:25:57.063190",
     "exception": false,
     "start_time": "2021-08-25T15:25:56.936528",
     "status": "completed"
    },
    "tags": []
   },
   "source": [
    "* # Actuall Model Building"
   ]
  },
  {
   "cell_type": "code",
   "execution_count": 22,
   "id": "820260b5",
   "metadata": {
    "execution": {
     "iopub.execute_input": "2021-08-25T15:25:57.327518Z",
     "iopub.status.busy": "2021-08-25T15:25:57.326780Z",
     "iopub.status.idle": "2021-08-25T15:25:57.534165Z",
     "shell.execute_reply": "2021-08-25T15:25:57.534803Z",
     "shell.execute_reply.started": "2021-08-25T14:39:21.823807Z"
    },
    "papermill": {
     "duration": 0.341937,
     "end_time": "2021-08-25T15:25:57.534983",
     "exception": false,
     "start_time": "2021-08-25T15:25:57.193046",
     "status": "completed"
    },
    "tags": []
   },
   "outputs": [],
   "source": [
    "model=Sequential()\n",
    "\n",
    "model.add(LSTM(10,input_shape=(None,1),activation=\"relu\"))\n",
    "\n",
    "model.add(Dense(1))\n",
    "\n",
    "model.compile(loss=\"mean_squared_error\",optimizer=\"adam\")"
   ]
  },
  {
   "cell_type": "code",
   "execution_count": 23,
   "id": "022be768",
   "metadata": {
    "execution": {
     "iopub.execute_input": "2021-08-25T15:25:57.792705Z",
     "iopub.status.busy": "2021-08-25T15:25:57.792091Z",
     "iopub.status.idle": "2021-08-25T15:26:21.170821Z",
     "shell.execute_reply": "2021-08-25T15:26:21.171508Z",
     "shell.execute_reply.started": "2021-08-25T14:39:22.049386Z"
    },
    "papermill": {
     "duration": 23.508827,
     "end_time": "2021-08-25T15:26:21.171744",
     "exception": false,
     "start_time": "2021-08-25T15:25:57.662917",
     "status": "completed"
    },
    "tags": []
   },
   "outputs": [
    {
     "name": "stdout",
     "output_type": "stream",
     "text": [
      "Epoch 1/200\n",
      "9/9 [==============================] - 3s 53ms/step - loss: 0.3417 - val_loss: 0.0104\n",
      "Epoch 2/200\n",
      "9/9 [==============================] - 0s 12ms/step - loss: 0.2549 - val_loss: 0.0049\n",
      "Epoch 3/200\n",
      "9/9 [==============================] - 0s 11ms/step - loss: 0.1866 - val_loss: 0.0023\n",
      "Epoch 4/200\n",
      "9/9 [==============================] - 0s 12ms/step - loss: 0.1309 - val_loss: 0.0015\n",
      "Epoch 5/200\n",
      "9/9 [==============================] - 0s 12ms/step - loss: 0.0862 - val_loss: 0.0023\n",
      "Epoch 6/200\n",
      "9/9 [==============================] - 0s 15ms/step - loss: 0.0515 - val_loss: 0.0045\n",
      "Epoch 7/200\n",
      "9/9 [==============================] - 0s 15ms/step - loss: 0.0253 - val_loss: 0.0079\n",
      "Epoch 8/200\n",
      "9/9 [==============================] - 0s 15ms/step - loss: 0.0115 - val_loss: 0.0116\n",
      "Epoch 9/200\n",
      "9/9 [==============================] - 0s 11ms/step - loss: 0.0083 - val_loss: 0.0132\n",
      "Epoch 10/200\n",
      "9/9 [==============================] - 0s 10ms/step - loss: 0.0087 - val_loss: 0.0122\n",
      "Epoch 11/200\n",
      "9/9 [==============================] - 0s 10ms/step - loss: 0.0078 - val_loss: 0.0107\n",
      "Epoch 12/200\n",
      "9/9 [==============================] - 0s 10ms/step - loss: 0.0075 - val_loss: 0.0096\n",
      "Epoch 13/200\n",
      "9/9 [==============================] - 0s 8ms/step - loss: 0.0073 - val_loss: 0.0092\n",
      "Epoch 14/200\n",
      "9/9 [==============================] - 0s 8ms/step - loss: 0.0071 - val_loss: 0.0088\n",
      "Epoch 15/200\n",
      "9/9 [==============================] - 0s 8ms/step - loss: 0.0069 - val_loss: 0.0085\n",
      "Epoch 16/200\n",
      "9/9 [==============================] - 0s 8ms/step - loss: 0.0067 - val_loss: 0.0081\n",
      "Epoch 17/200\n",
      "9/9 [==============================] - 0s 10ms/step - loss: 0.0066 - val_loss: 0.0077\n",
      "Epoch 18/200\n",
      "9/9 [==============================] - 0s 12ms/step - loss: 0.0065 - val_loss: 0.0072\n",
      "Epoch 19/200\n",
      "9/9 [==============================] - 0s 8ms/step - loss: 0.0063 - val_loss: 0.0068\n",
      "Epoch 20/200\n",
      "9/9 [==============================] - 0s 12ms/step - loss: 0.0062 - val_loss: 0.0065\n",
      "Epoch 21/200\n",
      "9/9 [==============================] - 0s 8ms/step - loss: 0.0061 - val_loss: 0.0062\n",
      "Epoch 22/200\n",
      "9/9 [==============================] - 0s 10ms/step - loss: 0.0060 - val_loss: 0.0058\n",
      "Epoch 23/200\n",
      "9/9 [==============================] - 0s 10ms/step - loss: 0.0060 - val_loss: 0.0056\n",
      "Epoch 24/200\n",
      "9/9 [==============================] - 0s 8ms/step - loss: 0.0059 - val_loss: 0.0053\n",
      "Epoch 25/200\n",
      "9/9 [==============================] - 0s 8ms/step - loss: 0.0058 - val_loss: 0.0051\n",
      "Epoch 26/200\n",
      "9/9 [==============================] - 0s 12ms/step - loss: 0.0058 - val_loss: 0.0050\n",
      "Epoch 27/200\n",
      "9/9 [==============================] - 0s 10ms/step - loss: 0.0057 - val_loss: 0.0047\n",
      "Epoch 28/200\n",
      "9/9 [==============================] - 0s 9ms/step - loss: 0.0057 - val_loss: 0.0046\n",
      "Epoch 29/200\n",
      "9/9 [==============================] - 0s 9ms/step - loss: 0.0056 - val_loss: 0.0044\n",
      "Epoch 30/200\n",
      "9/9 [==============================] - 0s 12ms/step - loss: 0.0056 - val_loss: 0.0042\n",
      "Epoch 31/200\n",
      "9/9 [==============================] - 0s 14ms/step - loss: 0.0055 - val_loss: 0.0041\n",
      "Epoch 32/200\n",
      "9/9 [==============================] - 0s 12ms/step - loss: 0.0055 - val_loss: 0.0039\n",
      "Epoch 33/200\n",
      "9/9 [==============================] - 0s 15ms/step - loss: 0.0055 - val_loss: 0.0038\n",
      "Epoch 34/200\n",
      "9/9 [==============================] - 0s 14ms/step - loss: 0.0054 - val_loss: 0.0039\n",
      "Epoch 35/200\n",
      "9/9 [==============================] - 0s 12ms/step - loss: 0.0055 - val_loss: 0.0036\n",
      "Epoch 36/200\n",
      "9/9 [==============================] - 0s 13ms/step - loss: 0.0053 - val_loss: 0.0036\n",
      "Epoch 37/200\n",
      "9/9 [==============================] - 0s 12ms/step - loss: 0.0053 - val_loss: 0.0035\n",
      "Epoch 38/200\n",
      "9/9 [==============================] - 0s 11ms/step - loss: 0.0053 - val_loss: 0.0034\n",
      "Epoch 39/200\n",
      "9/9 [==============================] - 0s 14ms/step - loss: 0.0052 - val_loss: 0.0033\n",
      "Epoch 40/200\n",
      "9/9 [==============================] - 0s 10ms/step - loss: 0.0052 - val_loss: 0.0032\n",
      "Epoch 41/200\n",
      "9/9 [==============================] - 0s 11ms/step - loss: 0.0052 - val_loss: 0.0033\n",
      "Epoch 42/200\n",
      "9/9 [==============================] - 0s 10ms/step - loss: 0.0052 - val_loss: 0.0031\n",
      "Epoch 43/200\n",
      "9/9 [==============================] - 0s 10ms/step - loss: 0.0051 - val_loss: 0.0031\n",
      "Epoch 44/200\n",
      "9/9 [==============================] - 0s 11ms/step - loss: 0.0051 - val_loss: 0.0030\n",
      "Epoch 45/200\n",
      "9/9 [==============================] - 0s 10ms/step - loss: 0.0050 - val_loss: 0.0030\n",
      "Epoch 46/200\n",
      "9/9 [==============================] - 0s 11ms/step - loss: 0.0050 - val_loss: 0.0029\n",
      "Epoch 47/200\n",
      "9/9 [==============================] - 0s 10ms/step - loss: 0.0050 - val_loss: 0.0028\n",
      "Epoch 48/200\n",
      "9/9 [==============================] - 0s 10ms/step - loss: 0.0049 - val_loss: 0.0029\n",
      "Epoch 49/200\n",
      "9/9 [==============================] - 0s 9ms/step - loss: 0.0049 - val_loss: 0.0028\n",
      "Epoch 50/200\n",
      "9/9 [==============================] - 0s 8ms/step - loss: 0.0049 - val_loss: 0.0028\n",
      "Epoch 51/200\n",
      "9/9 [==============================] - 0s 8ms/step - loss: 0.0049 - val_loss: 0.0027\n",
      "Epoch 52/200\n",
      "9/9 [==============================] - 0s 8ms/step - loss: 0.0048 - val_loss: 0.0027\n",
      "Epoch 53/200\n",
      "9/9 [==============================] - 0s 8ms/step - loss: 0.0048 - val_loss: 0.0026\n",
      "Epoch 54/200\n",
      "9/9 [==============================] - 0s 10ms/step - loss: 0.0048 - val_loss: 0.0026\n",
      "Epoch 55/200\n",
      "9/9 [==============================] - 0s 8ms/step - loss: 0.0047 - val_loss: 0.0026\n",
      "Epoch 56/200\n",
      "9/9 [==============================] - 0s 9ms/step - loss: 0.0047 - val_loss: 0.0025\n",
      "Epoch 57/200\n",
      "9/9 [==============================] - 0s 10ms/step - loss: 0.0047 - val_loss: 0.0026\n",
      "Epoch 58/200\n",
      "9/9 [==============================] - 0s 11ms/step - loss: 0.0047 - val_loss: 0.0024\n",
      "Epoch 59/200\n",
      "9/9 [==============================] - 0s 8ms/step - loss: 0.0046 - val_loss: 0.0025\n",
      "Epoch 60/200\n",
      "9/9 [==============================] - 0s 9ms/step - loss: 0.0046 - val_loss: 0.0025\n",
      "Epoch 61/200\n",
      "9/9 [==============================] - 0s 12ms/step - loss: 0.0046 - val_loss: 0.0024\n",
      "Epoch 62/200\n",
      "9/9 [==============================] - 0s 12ms/step - loss: 0.0046 - val_loss: 0.0024\n",
      "Epoch 63/200\n",
      "9/9 [==============================] - 0s 13ms/step - loss: 0.0046 - val_loss: 0.0025\n",
      "Epoch 64/200\n",
      "9/9 [==============================] - 0s 11ms/step - loss: 0.0045 - val_loss: 0.0024\n",
      "Epoch 65/200\n",
      "9/9 [==============================] - 0s 16ms/step - loss: 0.0045 - val_loss: 0.0023\n",
      "Epoch 66/200\n",
      "9/9 [==============================] - 0s 12ms/step - loss: 0.0045 - val_loss: 0.0022\n",
      "Epoch 67/200\n",
      "9/9 [==============================] - 0s 13ms/step - loss: 0.0044 - val_loss: 0.0023\n",
      "Epoch 68/200\n",
      "9/9 [==============================] - 0s 13ms/step - loss: 0.0044 - val_loss: 0.0023\n",
      "Epoch 69/200\n",
      "9/9 [==============================] - 0s 12ms/step - loss: 0.0044 - val_loss: 0.0022\n",
      "Epoch 70/200\n",
      "9/9 [==============================] - 0s 14ms/step - loss: 0.0044 - val_loss: 0.0022\n",
      "Epoch 71/200\n",
      "9/9 [==============================] - 0s 11ms/step - loss: 0.0043 - val_loss: 0.0022\n",
      "Epoch 72/200\n",
      "9/9 [==============================] - 0s 10ms/step - loss: 0.0043 - val_loss: 0.0021\n",
      "Epoch 73/200\n",
      "9/9 [==============================] - 0s 10ms/step - loss: 0.0043 - val_loss: 0.0021\n",
      "Epoch 74/200\n",
      "9/9 [==============================] - 0s 13ms/step - loss: 0.0043 - val_loss: 0.0021\n",
      "Epoch 75/200\n",
      "9/9 [==============================] - 0s 16ms/step - loss: 0.0042 - val_loss: 0.0021\n",
      "Epoch 76/200\n",
      "9/9 [==============================] - 0s 12ms/step - loss: 0.0042 - val_loss: 0.0021\n",
      "Epoch 77/200\n",
      "9/9 [==============================] - 0s 13ms/step - loss: 0.0042 - val_loss: 0.0021\n",
      "Epoch 78/200\n",
      "9/9 [==============================] - 0s 13ms/step - loss: 0.0042 - val_loss: 0.0020\n",
      "Epoch 79/200\n",
      "9/9 [==============================] - 0s 14ms/step - loss: 0.0042 - val_loss: 0.0020\n",
      "Epoch 80/200\n",
      "9/9 [==============================] - 0s 12ms/step - loss: 0.0041 - val_loss: 0.0020\n",
      "Epoch 81/200\n",
      "9/9 [==============================] - 0s 14ms/step - loss: 0.0041 - val_loss: 0.0020\n",
      "Epoch 82/200\n",
      "9/9 [==============================] - 0s 13ms/step - loss: 0.0041 - val_loss: 0.0019\n",
      "Epoch 83/200\n",
      "9/9 [==============================] - 0s 12ms/step - loss: 0.0041 - val_loss: 0.0020\n",
      "Epoch 84/200\n",
      "9/9 [==============================] - 0s 10ms/step - loss: 0.0041 - val_loss: 0.0019\n",
      "Epoch 85/200\n",
      "9/9 [==============================] - 0s 10ms/step - loss: 0.0040 - val_loss: 0.0019\n",
      "Epoch 86/200\n",
      "9/9 [==============================] - 0s 11ms/step - loss: 0.0040 - val_loss: 0.0019\n",
      "Epoch 87/200\n",
      "9/9 [==============================] - 0s 10ms/step - loss: 0.0040 - val_loss: 0.0019\n",
      "Epoch 88/200\n",
      "9/9 [==============================] - 0s 10ms/step - loss: 0.0040 - val_loss: 0.0018\n",
      "Epoch 89/200\n",
      "9/9 [==============================] - 0s 10ms/step - loss: 0.0039 - val_loss: 0.0019\n",
      "Epoch 90/200\n",
      "9/9 [==============================] - 0s 12ms/step - loss: 0.0039 - val_loss: 0.0019\n",
      "Epoch 91/200\n",
      "9/9 [==============================] - 0s 12ms/step - loss: 0.0039 - val_loss: 0.0018\n",
      "Epoch 92/200\n",
      "9/9 [==============================] - 0s 11ms/step - loss: 0.0039 - val_loss: 0.0017\n",
      "Epoch 93/200\n",
      "9/9 [==============================] - 0s 10ms/step - loss: 0.0038 - val_loss: 0.0018\n",
      "Epoch 94/200\n",
      "9/9 [==============================] - 0s 9ms/step - loss: 0.0038 - val_loss: 0.0018\n",
      "Epoch 95/200\n",
      "9/9 [==============================] - 0s 9ms/step - loss: 0.0038 - val_loss: 0.0017\n",
      "Epoch 96/200\n",
      "9/9 [==============================] - 0s 13ms/step - loss: 0.0038 - val_loss: 0.0017\n",
      "Epoch 97/200\n",
      "9/9 [==============================] - 0s 10ms/step - loss: 0.0037 - val_loss: 0.0017\n",
      "Epoch 98/200\n",
      "9/9 [==============================] - 0s 10ms/step - loss: 0.0037 - val_loss: 0.0017\n",
      "Epoch 99/200\n",
      "9/9 [==============================] - 0s 12ms/step - loss: 0.0037 - val_loss: 0.0016\n",
      "Epoch 100/200\n",
      "9/9 [==============================] - 0s 14ms/step - loss: 0.0037 - val_loss: 0.0016\n",
      "Epoch 101/200\n",
      "9/9 [==============================] - 0s 15ms/step - loss: 0.0037 - val_loss: 0.0017\n",
      "Epoch 102/200\n",
      "9/9 [==============================] - 0s 15ms/step - loss: 0.0036 - val_loss: 0.0016\n",
      "Epoch 103/200\n",
      "9/9 [==============================] - 0s 16ms/step - loss: 0.0037 - val_loss: 0.0015\n",
      "Epoch 104/200\n",
      "9/9 [==============================] - 0s 14ms/step - loss: 0.0036 - val_loss: 0.0017\n",
      "Epoch 105/200\n",
      "9/9 [==============================] - 0s 14ms/step - loss: 0.0036 - val_loss: 0.0016\n",
      "Epoch 106/200\n",
      "9/9 [==============================] - 0s 13ms/step - loss: 0.0036 - val_loss: 0.0016\n",
      "Epoch 107/200\n",
      "9/9 [==============================] - 0s 13ms/step - loss: 0.0037 - val_loss: 0.0014\n",
      "Epoch 108/200\n",
      "9/9 [==============================] - 0s 15ms/step - loss: 0.0035 - val_loss: 0.0016\n",
      "Epoch 109/200\n",
      "9/9 [==============================] - 0s 14ms/step - loss: 0.0036 - val_loss: 0.0017\n",
      "Epoch 110/200\n",
      "9/9 [==============================] - 0s 16ms/step - loss: 0.0035 - val_loss: 0.0015\n",
      "Epoch 111/200\n",
      "9/9 [==============================] - 0s 16ms/step - loss: 0.0035 - val_loss: 0.0015\n",
      "Epoch 112/200\n",
      "9/9 [==============================] - 0s 21ms/step - loss: 0.0034 - val_loss: 0.0016\n",
      "Epoch 113/200\n",
      "9/9 [==============================] - 0s 22ms/step - loss: 0.0034 - val_loss: 0.0015\n",
      "Epoch 114/200\n",
      "9/9 [==============================] - 0s 20ms/step - loss: 0.0034 - val_loss: 0.0015\n",
      "Epoch 115/200\n",
      "9/9 [==============================] - 0s 15ms/step - loss: 0.0034 - val_loss: 0.0015\n",
      "Epoch 116/200\n",
      "9/9 [==============================] - 0s 18ms/step - loss: 0.0034 - val_loss: 0.0014\n",
      "Epoch 117/200\n",
      "9/9 [==============================] - 0s 14ms/step - loss: 0.0033 - val_loss: 0.0015\n",
      "Epoch 118/200\n",
      "9/9 [==============================] - 0s 14ms/step - loss: 0.0033 - val_loss: 0.0014\n",
      "Epoch 119/200\n",
      "9/9 [==============================] - 0s 16ms/step - loss: 0.0033 - val_loss: 0.0014\n",
      "Epoch 120/200\n",
      "9/9 [==============================] - 0s 16ms/step - loss: 0.0032 - val_loss: 0.0014\n",
      "Epoch 121/200\n",
      "9/9 [==============================] - 0s 14ms/step - loss: 0.0032 - val_loss: 0.0013\n",
      "Epoch 122/200\n",
      "9/9 [==============================] - 0s 13ms/step - loss: 0.0032 - val_loss: 0.0014\n",
      "Epoch 123/200\n",
      "9/9 [==============================] - 0s 12ms/step - loss: 0.0032 - val_loss: 0.0014\n",
      "Epoch 124/200\n",
      "9/9 [==============================] - 0s 12ms/step - loss: 0.0032 - val_loss: 0.0013\n",
      "Epoch 125/200\n",
      "9/9 [==============================] - 0s 15ms/step - loss: 0.0031 - val_loss: 0.0013\n",
      "Epoch 126/200\n",
      "9/9 [==============================] - 0s 16ms/step - loss: 0.0031 - val_loss: 0.0013\n",
      "Epoch 127/200\n",
      "9/9 [==============================] - 0s 16ms/step - loss: 0.0031 - val_loss: 0.0013\n",
      "Epoch 128/200\n",
      "9/9 [==============================] - 0s 18ms/step - loss: 0.0031 - val_loss: 0.0013\n",
      "Epoch 129/200\n",
      "9/9 [==============================] - 0s 15ms/step - loss: 0.0031 - val_loss: 0.0012\n",
      "Epoch 130/200\n",
      "9/9 [==============================] - 0s 15ms/step - loss: 0.0030 - val_loss: 0.0013\n",
      "Epoch 131/200\n",
      "9/9 [==============================] - 0s 15ms/step - loss: 0.0030 - val_loss: 0.0012\n",
      "Epoch 132/200\n",
      "9/9 [==============================] - 0s 14ms/step - loss: 0.0030 - val_loss: 0.0012\n",
      "Epoch 133/200\n",
      "9/9 [==============================] - 0s 14ms/step - loss: 0.0029 - val_loss: 0.0012\n",
      "Epoch 134/200\n",
      "9/9 [==============================] - 0s 15ms/step - loss: 0.0029 - val_loss: 0.0012\n",
      "Epoch 135/200\n",
      "9/9 [==============================] - 0s 15ms/step - loss: 0.0029 - val_loss: 0.0012\n",
      "Epoch 136/200\n",
      "9/9 [==============================] - 0s 15ms/step - loss: 0.0029 - val_loss: 0.0011\n",
      "Epoch 137/200\n",
      "9/9 [==============================] - 0s 15ms/step - loss: 0.0029 - val_loss: 0.0011\n",
      "Epoch 138/200\n",
      "9/9 [==============================] - 0s 18ms/step - loss: 0.0028 - val_loss: 0.0011\n",
      "Epoch 139/200\n",
      "9/9 [==============================] - 0s 16ms/step - loss: 0.0028 - val_loss: 0.0011\n",
      "Epoch 140/200\n",
      "9/9 [==============================] - 0s 14ms/step - loss: 0.0028 - val_loss: 0.0011\n",
      "Epoch 141/200\n",
      "9/9 [==============================] - 0s 15ms/step - loss: 0.0027 - val_loss: 0.0011\n",
      "Epoch 142/200\n",
      "9/9 [==============================] - 0s 16ms/step - loss: 0.0027 - val_loss: 0.0011\n",
      "Epoch 143/200\n",
      "9/9 [==============================] - 0s 15ms/step - loss: 0.0027 - val_loss: 0.0011\n",
      "Epoch 144/200\n",
      "9/9 [==============================] - 0s 14ms/step - loss: 0.0027 - val_loss: 0.0010\n",
      "Epoch 145/200\n",
      "9/9 [==============================] - 0s 14ms/step - loss: 0.0026 - val_loss: 0.0010\n",
      "Epoch 146/200\n",
      "9/9 [==============================] - 0s 13ms/step - loss: 0.0026 - val_loss: 0.0010\n",
      "Epoch 147/200\n",
      "9/9 [==============================] - 0s 14ms/step - loss: 0.0026 - val_loss: 9.9819e-04\n",
      "Epoch 148/200\n",
      "9/9 [==============================] - 0s 13ms/step - loss: 0.0026 - val_loss: 9.9937e-04\n",
      "Epoch 149/200\n",
      "9/9 [==============================] - 0s 14ms/step - loss: 0.0026 - val_loss: 9.9822e-04\n",
      "Epoch 150/200\n",
      "9/9 [==============================] - 0s 12ms/step - loss: 0.0025 - val_loss: 9.6512e-04\n",
      "Epoch 151/200\n",
      "9/9 [==============================] - 0s 12ms/step - loss: 0.0025 - val_loss: 9.7542e-04\n",
      "Epoch 152/200\n",
      "9/9 [==============================] - 0s 12ms/step - loss: 0.0025 - val_loss: 9.2313e-04\n",
      "Epoch 153/200\n",
      "9/9 [==============================] - 0s 12ms/step - loss: 0.0025 - val_loss: 9.4457e-04\n",
      "Epoch 154/200\n",
      "9/9 [==============================] - 0s 12ms/step - loss: 0.0025 - val_loss: 9.0573e-04\n",
      "Epoch 155/200\n",
      "9/9 [==============================] - 0s 14ms/step - loss: 0.0025 - val_loss: 9.0373e-04\n",
      "Epoch 156/200\n",
      "9/9 [==============================] - 0s 13ms/step - loss: 0.0025 - val_loss: 9.2640e-04\n",
      "Epoch 157/200\n",
      "9/9 [==============================] - 0s 13ms/step - loss: 0.0024 - val_loss: 8.8207e-04\n",
      "Epoch 158/200\n",
      "9/9 [==============================] - 0s 15ms/step - loss: 0.0024 - val_loss: 9.0198e-04\n",
      "Epoch 159/200\n",
      "9/9 [==============================] - 0s 12ms/step - loss: 0.0024 - val_loss: 8.6747e-04\n",
      "Epoch 160/200\n",
      "9/9 [==============================] - 0s 11ms/step - loss: 0.0024 - val_loss: 8.5407e-04\n",
      "Epoch 161/200\n",
      "9/9 [==============================] - 0s 11ms/step - loss: 0.0024 - val_loss: 8.5135e-04\n",
      "Epoch 162/200\n",
      "9/9 [==============================] - 0s 11ms/step - loss: 0.0024 - val_loss: 8.7871e-04\n",
      "Epoch 163/200\n",
      "9/9 [==============================] - 0s 13ms/step - loss: 0.0023 - val_loss: 8.2521e-04\n",
      "Epoch 164/200\n",
      "9/9 [==============================] - 0s 12ms/step - loss: 0.0024 - val_loss: 8.6794e-04\n",
      "Epoch 165/200\n",
      "9/9 [==============================] - 0s 13ms/step - loss: 0.0024 - val_loss: 8.1982e-04\n",
      "Epoch 166/200\n",
      "9/9 [==============================] - 0s 16ms/step - loss: 0.0023 - val_loss: 8.3635e-04\n",
      "Epoch 167/200\n",
      "9/9 [==============================] - 0s 12ms/step - loss: 0.0023 - val_loss: 8.2192e-04\n",
      "Epoch 168/200\n",
      "9/9 [==============================] - 0s 13ms/step - loss: 0.0024 - val_loss: 8.3378e-04\n",
      "Epoch 169/200\n",
      "9/9 [==============================] - 0s 12ms/step - loss: 0.0023 - val_loss: 8.3064e-04\n",
      "Epoch 170/200\n",
      "9/9 [==============================] - 0s 12ms/step - loss: 0.0023 - val_loss: 8.1900e-04\n",
      "Epoch 171/200\n",
      "9/9 [==============================] - 0s 12ms/step - loss: 0.0023 - val_loss: 8.2440e-04\n",
      "Epoch 172/200\n",
      "9/9 [==============================] - 0s 12ms/step - loss: 0.0023 - val_loss: 7.9515e-04\n",
      "Epoch 173/200\n",
      "9/9 [==============================] - 0s 13ms/step - loss: 0.0023 - val_loss: 8.0104e-04\n",
      "Epoch 174/200\n",
      "9/9 [==============================] - 0s 12ms/step - loss: 0.0022 - val_loss: 8.0101e-04\n",
      "Epoch 175/200\n",
      "9/9 [==============================] - 0s 13ms/step - loss: 0.0022 - val_loss: 8.0742e-04\n",
      "Epoch 176/200\n",
      "9/9 [==============================] - 0s 12ms/step - loss: 0.0023 - val_loss: 8.1146e-04\n",
      "Epoch 177/200\n",
      "9/9 [==============================] - 0s 13ms/step - loss: 0.0023 - val_loss: 7.9360e-04\n",
      "Epoch 178/200\n",
      "9/9 [==============================] - 0s 11ms/step - loss: 0.0023 - val_loss: 7.9336e-04\n",
      "Epoch 179/200\n",
      "9/9 [==============================] - 0s 12ms/step - loss: 0.0022 - val_loss: 7.8369e-04\n",
      "Epoch 180/200\n",
      "9/9 [==============================] - 0s 10ms/step - loss: 0.0022 - val_loss: 7.8497e-04\n",
      "Epoch 181/200\n",
      "9/9 [==============================] - 0s 20ms/step - loss: 0.0022 - val_loss: 7.9714e-04\n",
      "Epoch 182/200\n",
      "9/9 [==============================] - 0s 12ms/step - loss: 0.0022 - val_loss: 7.7894e-04\n",
      "Epoch 183/200\n",
      "9/9 [==============================] - 0s 13ms/step - loss: 0.0022 - val_loss: 7.8026e-04\n",
      "Epoch 184/200\n",
      "9/9 [==============================] - 0s 15ms/step - loss: 0.0022 - val_loss: 7.7992e-04\n",
      "Epoch 185/200\n",
      "9/9 [==============================] - 0s 14ms/step - loss: 0.0022 - val_loss: 7.7373e-04\n",
      "Epoch 186/200\n",
      "9/9 [==============================] - 0s 13ms/step - loss: 0.0022 - val_loss: 7.7286e-04\n",
      "Epoch 187/200\n",
      "9/9 [==============================] - 0s 13ms/step - loss: 0.0022 - val_loss: 7.8789e-04\n",
      "Epoch 188/200\n",
      "9/9 [==============================] - 0s 12ms/step - loss: 0.0022 - val_loss: 7.8276e-04\n",
      "Epoch 189/200\n",
      "9/9 [==============================] - 0s 11ms/step - loss: 0.0021 - val_loss: 7.8992e-04\n",
      "Epoch 190/200\n",
      "9/9 [==============================] - 0s 10ms/step - loss: 0.0021 - val_loss: 7.6858e-04\n",
      "Epoch 191/200\n",
      "9/9 [==============================] - 0s 10ms/step - loss: 0.0021 - val_loss: 7.7301e-04\n",
      "Epoch 192/200\n",
      "9/9 [==============================] - 0s 11ms/step - loss: 0.0022 - val_loss: 7.6051e-04\n",
      "Epoch 193/200\n",
      "9/9 [==============================] - 0s 10ms/step - loss: 0.0022 - val_loss: 7.6401e-04\n",
      "Epoch 194/200\n",
      "9/9 [==============================] - 0s 9ms/step - loss: 0.0022 - val_loss: 7.6616e-04\n",
      "Epoch 195/200\n",
      "9/9 [==============================] - 0s 9ms/step - loss: 0.0021 - val_loss: 7.6388e-04\n",
      "Epoch 196/200\n",
      "9/9 [==============================] - 0s 10ms/step - loss: 0.0021 - val_loss: 7.6729e-04\n",
      "Epoch 197/200\n",
      "9/9 [==============================] - 0s 10ms/step - loss: 0.0021 - val_loss: 7.5140e-04\n",
      "Epoch 198/200\n",
      "9/9 [==============================] - 0s 15ms/step - loss: 0.0021 - val_loss: 7.5350e-04\n",
      "Epoch 199/200\n",
      "9/9 [==============================] - 0s 10ms/step - loss: 0.0021 - val_loss: 7.5668e-04\n",
      "Epoch 200/200\n",
      "9/9 [==============================] - 0s 12ms/step - loss: 0.0021 - val_loss: 7.6136e-04\n"
     ]
    }
   ],
   "source": [
    "history = model.fit(X_train,y_train,validation_data=(X_test,y_test),epochs=200,batch_size=32,verbose=1)"
   ]
  },
  {
   "cell_type": "code",
   "execution_count": 24,
   "id": "d55a3113",
   "metadata": {
    "execution": {
     "iopub.execute_input": "2021-08-25T15:26:22.944446Z",
     "iopub.status.busy": "2021-08-25T15:26:22.943770Z",
     "iopub.status.idle": "2021-08-25T15:26:23.204877Z",
     "shell.execute_reply": "2021-08-25T15:26:23.204339Z",
     "shell.execute_reply.started": "2021-08-25T14:39:47.455322Z"
    },
    "papermill": {
     "duration": 0.52587,
     "end_time": "2021-08-25T15:26:23.205024",
     "exception": false,
     "start_time": "2021-08-25T15:26:22.679154",
     "status": "completed"
    },
    "tags": []
   },
   "outputs": [
    {
     "name": "stdout",
     "output_type": "stream",
     "text": [
      "9/9 [==============================] - 0s 4ms/step\n",
      "2/2 [==============================] - 0s 0s/step\n"
     ]
    },
    {
     "data": {
      "text/plain": [
       "((275, 1), (57, 1))"
      ]
     },
     "execution_count": 24,
     "metadata": {},
     "output_type": "execute_result"
    }
   ],
   "source": [
    "### Lets Do the prediction and check performance metrics\n",
    "train_predict=model.predict(X_train)\n",
    "test_predict=model.predict(X_test)\n",
    "train_predict.shape, test_predict.shape"
   ]
  },
  {
   "cell_type": "markdown",
   "id": "4b792151",
   "metadata": {
    "papermill": {
     "duration": 0.260401,
     "end_time": "2021-08-25T15:26:23.726232",
     "exception": false,
     "start_time": "2021-08-25T15:26:23.465831",
     "status": "completed"
    },
    "tags": []
   },
   "source": [
    "- # Model Evaluation"
   ]
  },
  {
   "cell_type": "code",
   "execution_count": 25,
   "id": "07c75758",
   "metadata": {
    "execution": {
     "iopub.execute_input": "2021-08-25T15:26:24.283032Z",
     "iopub.status.busy": "2021-08-25T15:26:24.282389Z",
     "iopub.status.idle": "2021-08-25T15:26:24.284903Z",
     "shell.execute_reply": "2021-08-25T15:26:24.285418Z",
     "shell.execute_reply.started": "2021-08-25T14:39:47.736833Z"
    },
    "papermill": {
     "duration": 0.2992,
     "end_time": "2021-08-25T15:26:24.285570",
     "exception": false,
     "start_time": "2021-08-25T15:26:23.986370",
     "status": "completed"
    },
    "tags": []
   },
   "outputs": [],
   "source": [
    "# Transform back to original form\n",
    "\n",
    "train_predict = scaler.inverse_transform(train_predict)\n",
    "test_predict = scaler.inverse_transform(test_predict)\n",
    "original_ytrain = scaler.inverse_transform(y_train.reshape(-1,1)) \n",
    "original_ytest = scaler.inverse_transform(y_test.reshape(-1,1)) "
   ]
  },
  {
   "cell_type": "markdown",
   "id": "2dba8fa8",
   "metadata": {
    "papermill": {
     "duration": 0.262784,
     "end_time": "2021-08-25T15:26:29.070108",
     "exception": false,
     "start_time": "2021-08-25T15:26:28.807324",
     "status": "completed"
    },
    "tags": []
   },
   "source": [
    "- # Comparision of original Bitcoin close price and predicted close price"
   ]
  },
  {
   "cell_type": "code",
   "execution_count": 26,
   "id": "a3477c71",
   "metadata": {
    "execution": {
     "iopub.execute_input": "2021-08-25T15:26:29.594683Z",
     "iopub.status.busy": "2021-08-25T15:26:29.594111Z",
     "iopub.status.idle": "2021-08-25T15:26:29.736142Z",
     "shell.execute_reply": "2021-08-25T15:26:29.735622Z",
     "shell.execute_reply.started": "2021-08-25T14:39:47.801835Z"
    },
    "papermill": {
     "duration": 0.406341,
     "end_time": "2021-08-25T15:26:29.736282",
     "exception": false,
     "start_time": "2021-08-25T15:26:29.329941",
     "status": "completed"
    },
    "tags": []
   },
   "outputs": [
    {
     "name": "stdout",
     "output_type": "stream",
     "text": [
      "Train predicted data:  (364, 1)\n",
      "Test predicted data:  (364, 1)\n"
     ]
    },
    {
     "data": {
      "application/vnd.plotly.v1+json": {
       "config": {
        "plotlyServerURL": "https://plot.ly"
       },
       "data": [
        {
         "hovertemplate": "variable=original_close<br>Date=%{x}<br>Price=%{y}<extra></extra>",
         "legendgroup": "original_close",
         "line": {
          "color": "#636efa",
          "dash": "solid"
         },
         "marker": {
          "symbol": "circle"
         },
         "mode": "lines",
         "name": "Original close price",
         "showlegend": true,
         "type": "scattergl",
         "x": [
          "2021-12-30T00:00:00",
          "2021-12-31T00:00:00",
          "2022-01-01T00:00:00",
          "2022-01-02T00:00:00",
          "2022-01-03T00:00:00",
          "2022-01-04T00:00:00",
          "2022-01-05T00:00:00",
          "2022-01-06T00:00:00",
          "2022-01-07T00:00:00",
          "2022-01-08T00:00:00",
          "2022-01-09T00:00:00",
          "2022-01-10T00:00:00",
          "2022-01-11T00:00:00",
          "2022-01-12T00:00:00",
          "2022-01-13T00:00:00",
          "2022-01-14T00:00:00",
          "2022-01-15T00:00:00",
          "2022-01-16T00:00:00",
          "2022-01-17T00:00:00",
          "2022-01-18T00:00:00",
          "2022-01-19T00:00:00",
          "2022-01-20T00:00:00",
          "2022-01-21T00:00:00",
          "2022-01-22T00:00:00",
          "2022-01-23T00:00:00",
          "2022-01-24T00:00:00",
          "2022-01-25T00:00:00",
          "2022-01-26T00:00:00",
          "2022-01-27T00:00:00",
          "2022-01-28T00:00:00",
          "2022-01-29T00:00:00",
          "2022-01-30T00:00:00",
          "2022-01-31T00:00:00",
          "2022-02-01T00:00:00",
          "2022-02-02T00:00:00",
          "2022-02-03T00:00:00",
          "2022-02-04T00:00:00",
          "2022-02-05T00:00:00",
          "2022-02-06T00:00:00",
          "2022-02-07T00:00:00",
          "2022-02-08T00:00:00",
          "2022-02-09T00:00:00",
          "2022-02-10T00:00:00",
          "2022-02-11T00:00:00",
          "2022-02-12T00:00:00",
          "2022-02-13T00:00:00",
          "2022-02-14T00:00:00",
          "2022-02-15T00:00:00",
          "2022-02-16T00:00:00",
          "2022-02-17T00:00:00",
          "2022-02-18T00:00:00",
          "2022-02-19T00:00:00",
          "2022-02-20T00:00:00",
          "2022-02-21T00:00:00",
          "2022-02-22T00:00:00",
          "2022-02-23T00:00:00",
          "2022-02-24T00:00:00",
          "2022-02-25T00:00:00",
          "2022-02-26T00:00:00",
          "2022-02-27T00:00:00",
          "2022-02-28T00:00:00",
          "2022-03-01T00:00:00",
          "2022-03-02T00:00:00",
          "2022-03-03T00:00:00",
          "2022-03-04T00:00:00",
          "2022-03-05T00:00:00",
          "2022-03-06T00:00:00",
          "2022-03-07T00:00:00",
          "2022-03-08T00:00:00",
          "2022-03-09T00:00:00",
          "2022-03-10T00:00:00",
          "2022-03-11T00:00:00",
          "2022-03-12T00:00:00",
          "2022-03-13T00:00:00",
          "2022-03-14T00:00:00",
          "2022-03-15T00:00:00",
          "2022-03-16T00:00:00",
          "2022-03-17T00:00:00",
          "2022-03-18T00:00:00",
          "2022-03-19T00:00:00",
          "2022-03-20T00:00:00",
          "2022-03-21T00:00:00",
          "2022-03-22T00:00:00",
          "2022-03-23T00:00:00",
          "2022-03-24T00:00:00",
          "2022-03-25T00:00:00",
          "2022-03-26T00:00:00",
          "2022-03-27T00:00:00",
          "2022-03-28T00:00:00",
          "2022-03-29T00:00:00",
          "2022-03-30T00:00:00",
          "2022-03-31T00:00:00",
          "2022-04-01T00:00:00",
          "2022-04-02T00:00:00",
          "2022-04-03T00:00:00",
          "2022-04-04T00:00:00",
          "2022-04-05T00:00:00",
          "2022-04-06T00:00:00",
          "2022-04-07T00:00:00",
          "2022-04-08T00:00:00",
          "2022-04-09T00:00:00",
          "2022-04-10T00:00:00",
          "2022-04-11T00:00:00",
          "2022-04-12T00:00:00",
          "2022-04-13T00:00:00",
          "2022-04-14T00:00:00",
          "2022-04-15T00:00:00",
          "2022-04-16T00:00:00",
          "2022-04-17T00:00:00",
          "2022-04-18T00:00:00",
          "2022-04-19T00:00:00",
          "2022-04-20T00:00:00",
          "2022-04-21T00:00:00",
          "2022-04-22T00:00:00",
          "2022-04-23T00:00:00",
          "2022-04-24T00:00:00",
          "2022-04-25T00:00:00",
          "2022-04-26T00:00:00",
          "2022-04-27T00:00:00",
          "2022-04-28T00:00:00",
          "2022-04-29T00:00:00",
          "2022-04-30T00:00:00",
          "2022-05-01T00:00:00",
          "2022-05-02T00:00:00",
          "2022-05-03T00:00:00",
          "2022-05-04T00:00:00",
          "2022-05-05T00:00:00",
          "2022-05-06T00:00:00",
          "2022-05-07T00:00:00",
          "2022-05-08T00:00:00",
          "2022-05-09T00:00:00",
          "2022-05-10T00:00:00",
          "2022-05-11T00:00:00",
          "2022-05-12T00:00:00",
          "2022-05-13T00:00:00",
          "2022-05-14T00:00:00",
          "2022-05-15T00:00:00",
          "2022-05-16T00:00:00",
          "2022-05-17T00:00:00",
          "2022-05-18T00:00:00",
          "2022-05-19T00:00:00",
          "2022-05-20T00:00:00",
          "2022-05-21T00:00:00",
          "2022-05-22T00:00:00",
          "2022-05-23T00:00:00",
          "2022-05-24T00:00:00",
          "2022-05-25T00:00:00",
          "2022-05-26T00:00:00",
          "2022-05-27T00:00:00",
          "2022-05-28T00:00:00",
          "2022-05-29T00:00:00",
          "2022-05-30T00:00:00",
          "2022-05-31T00:00:00",
          "2022-06-01T00:00:00",
          "2022-06-02T00:00:00",
          "2022-06-03T00:00:00",
          "2022-06-04T00:00:00",
          "2022-06-05T00:00:00",
          "2022-06-06T00:00:00",
          "2022-06-07T00:00:00",
          "2022-06-08T00:00:00",
          "2022-06-09T00:00:00",
          "2022-06-10T00:00:00",
          "2022-06-11T00:00:00",
          "2022-06-12T00:00:00",
          "2022-06-13T00:00:00",
          "2022-06-14T00:00:00",
          "2022-06-15T00:00:00",
          "2022-06-16T00:00:00",
          "2022-06-17T00:00:00",
          "2022-06-18T00:00:00",
          "2022-06-19T00:00:00",
          "2022-06-20T00:00:00",
          "2022-06-21T00:00:00",
          "2022-06-22T00:00:00",
          "2022-06-23T00:00:00",
          "2022-06-24T00:00:00",
          "2022-06-25T00:00:00",
          "2022-06-26T00:00:00",
          "2022-06-27T00:00:00",
          "2022-06-28T00:00:00",
          "2022-06-29T00:00:00",
          "2022-06-30T00:00:00",
          "2022-07-01T00:00:00",
          "2022-07-02T00:00:00",
          "2022-07-03T00:00:00",
          "2022-07-04T00:00:00",
          "2022-07-05T00:00:00",
          "2022-07-06T00:00:00",
          "2022-07-07T00:00:00",
          "2022-07-08T00:00:00",
          "2022-07-09T00:00:00",
          "2022-07-10T00:00:00",
          "2022-07-11T00:00:00",
          "2022-07-12T00:00:00",
          "2022-07-13T00:00:00",
          "2022-07-14T00:00:00",
          "2022-07-15T00:00:00",
          "2022-07-16T00:00:00",
          "2022-07-17T00:00:00",
          "2022-07-18T00:00:00",
          "2022-07-19T00:00:00",
          "2022-07-20T00:00:00",
          "2022-07-21T00:00:00",
          "2022-07-22T00:00:00",
          "2022-07-23T00:00:00",
          "2022-07-24T00:00:00",
          "2022-07-25T00:00:00",
          "2022-07-26T00:00:00",
          "2022-07-27T00:00:00",
          "2022-07-28T00:00:00",
          "2022-07-29T00:00:00",
          "2022-07-30T00:00:00",
          "2022-07-31T00:00:00",
          "2022-08-01T00:00:00",
          "2022-08-02T00:00:00",
          "2022-08-03T00:00:00",
          "2022-08-04T00:00:00",
          "2022-08-05T00:00:00",
          "2022-08-06T00:00:00",
          "2022-08-07T00:00:00",
          "2022-08-08T00:00:00",
          "2022-08-09T00:00:00",
          "2022-08-10T00:00:00",
          "2022-08-11T00:00:00",
          "2022-08-12T00:00:00",
          "2022-08-13T00:00:00",
          "2022-08-14T00:00:00",
          "2022-08-15T00:00:00",
          "2022-08-16T00:00:00",
          "2022-08-17T00:00:00",
          "2022-08-18T00:00:00",
          "2022-08-19T00:00:00",
          "2022-08-20T00:00:00",
          "2022-08-21T00:00:00",
          "2022-08-22T00:00:00",
          "2022-08-23T00:00:00",
          "2022-08-24T00:00:00",
          "2022-08-25T00:00:00",
          "2022-08-26T00:00:00",
          "2022-08-27T00:00:00",
          "2022-08-28T00:00:00",
          "2022-08-29T00:00:00",
          "2022-08-30T00:00:00",
          "2022-08-31T00:00:00",
          "2022-09-01T00:00:00",
          "2022-09-02T00:00:00",
          "2022-09-03T00:00:00",
          "2022-09-04T00:00:00",
          "2022-09-05T00:00:00",
          "2022-09-06T00:00:00",
          "2022-09-07T00:00:00",
          "2022-09-08T00:00:00",
          "2022-09-09T00:00:00",
          "2022-09-10T00:00:00",
          "2022-09-11T00:00:00",
          "2022-09-12T00:00:00",
          "2022-09-13T00:00:00",
          "2022-09-14T00:00:00",
          "2022-09-15T00:00:00",
          "2022-09-16T00:00:00",
          "2022-09-17T00:00:00",
          "2022-09-18T00:00:00",
          "2022-09-19T00:00:00",
          "2022-09-20T00:00:00",
          "2022-09-21T00:00:00",
          "2022-09-22T00:00:00",
          "2022-09-23T00:00:00",
          "2022-09-24T00:00:00",
          "2022-09-25T00:00:00",
          "2022-09-26T00:00:00",
          "2022-09-27T00:00:00",
          "2022-09-28T00:00:00",
          "2022-09-29T00:00:00",
          "2022-09-30T00:00:00",
          "2022-10-01T00:00:00",
          "2022-10-02T00:00:00",
          "2022-10-03T00:00:00",
          "2022-10-04T00:00:00",
          "2022-10-05T00:00:00",
          "2022-10-06T00:00:00",
          "2022-10-07T00:00:00",
          "2022-10-08T00:00:00",
          "2022-10-09T00:00:00",
          "2022-10-10T00:00:00",
          "2022-10-11T00:00:00",
          "2022-10-12T00:00:00",
          "2022-10-13T00:00:00",
          "2022-10-14T00:00:00",
          "2022-10-15T00:00:00",
          "2022-10-16T00:00:00",
          "2022-10-17T00:00:00",
          "2022-10-18T00:00:00",
          "2022-10-19T00:00:00",
          "2022-10-20T00:00:00",
          "2022-10-21T00:00:00",
          "2022-10-22T00:00:00",
          "2022-10-23T00:00:00",
          "2022-10-24T00:00:00",
          "2022-10-25T00:00:00",
          "2022-10-26T00:00:00",
          "2022-10-27T00:00:00",
          "2022-10-28T00:00:00",
          "2022-10-29T00:00:00",
          "2022-10-30T00:00:00",
          "2022-10-31T00:00:00",
          "2022-11-01T00:00:00",
          "2022-11-02T00:00:00",
          "2022-11-03T00:00:00",
          "2022-11-04T00:00:00",
          "2022-11-05T00:00:00",
          "2022-11-06T00:00:00",
          "2022-11-07T00:00:00",
          "2022-11-08T00:00:00",
          "2022-11-09T00:00:00",
          "2022-11-10T00:00:00",
          "2022-11-11T00:00:00",
          "2022-11-12T00:00:00",
          "2022-11-13T00:00:00",
          "2022-11-14T00:00:00",
          "2022-11-15T00:00:00",
          "2022-11-16T00:00:00",
          "2022-11-17T00:00:00",
          "2022-11-18T00:00:00",
          "2022-11-19T00:00:00",
          "2022-11-20T00:00:00",
          "2022-11-21T00:00:00",
          "2022-11-22T00:00:00",
          "2022-11-23T00:00:00",
          "2022-11-24T00:00:00",
          "2022-11-25T00:00:00",
          "2022-11-26T00:00:00",
          "2022-11-27T00:00:00",
          "2022-11-28T00:00:00",
          "2022-11-29T00:00:00",
          "2022-11-30T00:00:00",
          "2022-12-01T00:00:00",
          "2022-12-02T00:00:00",
          "2022-12-03T00:00:00",
          "2022-12-04T00:00:00",
          "2022-12-05T00:00:00",
          "2022-12-06T00:00:00",
          "2022-12-07T00:00:00",
          "2022-12-08T00:00:00",
          "2022-12-09T00:00:00",
          "2022-12-10T00:00:00",
          "2022-12-11T00:00:00",
          "2022-12-12T00:00:00",
          "2022-12-13T00:00:00",
          "2022-12-14T00:00:00",
          "2022-12-15T00:00:00",
          "2022-12-16T00:00:00",
          "2022-12-17T00:00:00",
          "2022-12-18T00:00:00",
          "2022-12-19T00:00:00",
          "2022-12-20T00:00:00",
          "2022-12-21T00:00:00",
          "2022-12-22T00:00:00",
          "2022-12-23T00:00:00",
          "2022-12-24T00:00:00",
          "2022-12-25T00:00:00",
          "2022-12-26T00:00:00",
          "2022-12-27T00:00:00",
          "2022-12-28T00:00:00"
         ],
         "xaxis": "x",
         "y": [
          3713.85205078125,
          3682.6328125,
          3769.697021484375,
          3829.56494140625,
          3761.38037109375,
          3794.056640625,
          3550.386962890625,
          3418.408203125,
          3193.21044921875,
          3091.97265625,
          3157.75146484375,
          3083.097900390625,
          3238.111572265625,
          3372.25830078125,
          3248.28857421875,
          3310.00146484375,
          3330.53076171875,
          3350.921875,
          3212.304931640625,
          3164.025146484375,
          3095.825927734375,
          3001.1201171875,
          2557.931640625,
          2405.18115234375,
          2535.0390625,
          2440.352294921875,
          2455.93505859375,
          2468.0302734375,
          2423.001220703125,
          2547.092041015625,
          2597.084716796875,
          2603.466552734375,
          2688.27880859375,
          2792.1171875,
          2682.85400390625,
          2679.16259765625,
          2983.5869140625,
          3014.648193359375,
          3057.47607421875,
          3142.470703125,
          3122.608642578125,
          3239.45703125,
          3077.482177734375,
          2927.383544921875,
          2917.36279296875,
          2883.46337890625,
          2933.47900390625,
          3179.877197265625,
          3127.830078125,
          2881.48193359375,
          2785.7275390625,
          2763.701171875,
          2628.6484375,
          2573.816162109375,
          2639.29931640625,
          2590.359619140625,
          2598.067138671875,
          2764.53564453125,
          2781.11181640625,
          2621.8017578125,
          2919.201171875,
          2972.485107421875,
          2950.118408203125,
          2834.468994140625,
          2617.156005859375,
          2664.8310546875,
          2555.037353515625,
          2497.771240234375,
          2576.74755859375,
          2729.783447265625,
          2608.048583984375,
          2559.56298828125,
          2574.754150390625,
          2518.944580078125,
          2590.696044921875,
          2620.149658203125,
          2772.0556640625,
          2814.8544921875,
          2945.343017578125,
          2946.257080078125,
          2860.459228515625,
          2897.9765625,
          2973.131103515625,
          3031.067138671875,
          3108.06201171875,
          3106.67138671875,
          3143.178955078125,
          3291.57763671875,
          3336.634521484375,
          3401.98779296875,
          3385.157958984375,
          3281.642822265625,
          3449.55224609375,
          3445.059326171875,
          3522.83349609375,
          3521.2412109375,
          3411.79248046875,
          3171.69189453125,
          3233.274658203125,
          3192.073974609375,
          3261.916259765625,
          3211.866943359375,
          2981.05224609375,
          3030.37646484375,
          3118.34423828125,
          3019.909423828125,
          3040.91650390625,
          3062.310302734375,
          2993.4033203125,
          3057.606689453125,
          3104.1064453125,
          3077.745849609375,
          2987.480712890625,
          2964.835693359375,
          2938.114013671875,
          2922.732666015625,
          3009.3935546875,
          2808.29833984375,
          2888.9296875,
          2936.94091796875,
          2815.601806640625,
          2730.186767578125,
          2827.756103515625,
          2857.410400390625,
          2783.476318359375,
          2940.644775390625,
          2749.213134765625,
          2694.979736328125,
          2636.093017578125,
          2517.4599609375,
          2245.430419921875,
          2343.510986328125,
          2072.108642578125,
          1961.7015380859373,
          2014.418212890625,
          2056.27392578125,
          2145.706787109375,
          2022.7259521484373,
          2090.4091796875,
          1916.6561279296875,
          2018.336181640625,
          1961.315673828125,
          1974.518310546875,
          2043.170166015625,
          1972.181884765625,
          1978.9827880859373,
          1944.827880859375,
          1803.913330078125,
          1724.9228515625,
          1757.9417724609375,
          1812.031005859375,
          1996.4412841796875,
          1942.3280029296875,
          1823.5693359375,
          1834.1505126953125,
          1775.07861328125,
          1801.6094970703125,
          1805.2049560546875,
          1859.2896728515625,
          1814.04833984375,
          1793.572265625,
          1789.8260498046875,
          1665.042236328125,
          1529.6634521484375,
          1445.216552734375,
          1204.582763671875,
          1211.662841796875,
          1233.2064208984375,
          1067.730712890625,
          1086.519287109375,
          993.6367797851562,
          1127.656494140625,
          1127.6424560546875,
          1124.8245849609375,
          1051.421875,
          1143.38671875,
          1226.8447265625,
          1243.4468994140625,
          1199.8316650390625,
          1193.6806640625,
          1144.5792236328125,
          1098.94384765625,
          1067.298828125,
          1059.767333984375,
          1066.5128173828125,
          1073.7669677734375,
          1151.05908203125,
          1134.541015625,
          1186.9739990234375,
          1237.5933837890625,
          1222.5062255859375,
          1216.978271484375,
          1168.401611328125,
          1097.236572265625,
          1038.191650390625,
          1113.587158203125,
          1191.5262451171875,
          1233.129150390625,
          1352.62646484375,
          1338.6357421875,
          1578.7178955078125,
          1542.9752197265625,
          1520.20068359375,
          1576.74951171875,
          1537.4051513671875,
          1549.2974853515625,
          1599.4766845703125,
          1445.3834228515625,
          1441.8067626953125,
          1636.232666015625,
          1725.4681396484375,
          1727.406982421875,
          1695.969482421875,
          1681.517333984375,
          1635.19580078125,
          1632.9454345703125,
          1618.87451171875,
          1608.205810546875,
          1732.254638671875,
          1691.6580810546875,
          1699.350830078125,
          1775.51611328125,
          1703.0250244140625,
          1851.74267578125,
          1881.22412109375,
          1957.2464599609373,
          1981.3365478515625,
          1936.802001953125,
          1904.2281494140625,
          1878.139404296875,
          1832.9996337890625,
          1847.0078125,
          1612.9873046875,
          1577.0037841796875,
          1619.3189697265625,
          1622.505859375,
          1662.7698974609375,
          1657.0592041015625,
          1696.45703125,
          1507.7828369140625,
          1491.39501953125,
          1430.54736328125,
          1553.037353515625,
          1523.8388671875,
          1553.6849365234375,
          1586.1767578125,
          1577.220458984375,
          1556.8726806640625,
          1577.6416015625,
          1617.1832275390625,
          1561.74853515625,
          1629.9063720703125,
          1635.34765625,
          1719.08544921875,
          1776.2037353515625,
          1761.800048828125,
          1713.7652587890625,
          1580.7879638671875,
          1634.7550048828125,
          1471.6934814453125,
          1432.44775390625,
          1469.74169921875,
          1335.3291015625,
          1377.5413818359375,
          1324.38818359375,
          1252.6077880859375,
          1327.68017578125,
          1328.259521484375,
          1317.9932861328125,
          1294.216796875,
          1335.3201904296875,
          1330.127685546875,
          1337.410888671875,
          1335.65234375,
          1327.9786376953125,
          1311.6444091796875,
          1276.093505859375,
          1323.439208984375,
          1362.1265869140625,
          1352.837158203125,
          1351.70947265625,
          1332.5169677734375,
          1315.50048828125,
          1322.604248046875,
          1291.337646484375,
          1279.57568359375,
          1294.9063720703125,
          1288.1239013671875,
          1297.422119140625,
          1274.8717041015625,
          1306.296630859375,
          1331.713623046875,
          1310.447021484375,
          1285.7442626953125,
          1283.200927734375,
          1299.9464111328125,
          1314.2991943359375,
          1363.447021484375,
          1344.99853515625,
          1461.6654052734375,
          1566.566650390625,
          1514.3748779296875,
          1555.4779052734375,
          1619.698486328125,
          1590.7833251953125,
          1572.7144775390625,
          1579.70458984375,
          1519.7117919921875,
          1531.541748046875,
          1645.0933837890625,
          1627.968017578125,
          1572.2347412109375,
          1568.59130859375,
          1332.8355712890625,
          1100.1697998046875,
          1299.464599609375,
          1287.2210693359375,
          1255.268310546875,
          1221.8192138671875,
          1241.604248046875,
          1251.7362060546875,
          1215.6025390625,
          1200.80859375,
          1212.30029296875,
          1218.4267578125,
          1142.4666748046875,
          1108.35302734375,
          1135.1734619140625,
          1183.1995849609375,
          1203.983154296875,
          1198.9259033203125,
          1205.89794921875,
          1195.126953125,
          1170.086181640625,
          1216.9012451171875,
          1295.6885986328125,
          1276.27392578125,
          1294.3033447265625,
          1243.3348388671875,
          1280.256591796875,
          1259.6767578125,
          1271.65380859375,
          1232.4375,
          1281.1163330078125,
          1264.2847900390625,
          1266.3841552734375,
          1263.8685302734375,
          1274.6190185546875,
          1320.5491943359375,
          1309.3287353515625,
          1266.3538818359375,
          1168.2593994140625,
          1188.1495361328125,
          1184.7152099609375,
          1167.60986328125,
          1217.70361328125,
          1213.5999755859375,
          1218.18212890625,
          1220.159423828125,
          1221.1485595703125,
          1218.9620361328125,
          1226.974365234375,
          1212.7916259765625,
          1189.986083984375
         ],
         "yaxis": "y"
        },
        {
         "hovertemplate": "variable=train_predicted_close<br>Date=%{x}<br>Price=%{y}<extra></extra>",
         "legendgroup": "train_predicted_close",
         "line": {
          "color": "#EF553B",
          "dash": "solid"
         },
         "marker": {
          "symbol": "circle"
         },
         "mode": "lines",
         "name": "Train predicted close price",
         "showlegend": true,
         "type": "scattergl",
         "x": [
          "2021-12-30T00:00:00",
          "2021-12-31T00:00:00",
          "2022-01-01T00:00:00",
          "2022-01-02T00:00:00",
          "2022-01-03T00:00:00",
          "2022-01-04T00:00:00",
          "2022-01-05T00:00:00",
          "2022-01-06T00:00:00",
          "2022-01-07T00:00:00",
          "2022-01-08T00:00:00",
          "2022-01-09T00:00:00",
          "2022-01-10T00:00:00",
          "2022-01-11T00:00:00",
          "2022-01-12T00:00:00",
          "2022-01-13T00:00:00",
          "2022-01-14T00:00:00",
          "2022-01-15T00:00:00",
          "2022-01-16T00:00:00",
          "2022-01-17T00:00:00",
          "2022-01-18T00:00:00",
          "2022-01-19T00:00:00",
          "2022-01-20T00:00:00",
          "2022-01-21T00:00:00",
          "2022-01-22T00:00:00",
          "2022-01-23T00:00:00",
          "2022-01-24T00:00:00",
          "2022-01-25T00:00:00",
          "2022-01-26T00:00:00",
          "2022-01-27T00:00:00",
          "2022-01-28T00:00:00",
          "2022-01-29T00:00:00",
          "2022-01-30T00:00:00",
          "2022-01-31T00:00:00",
          "2022-02-01T00:00:00",
          "2022-02-02T00:00:00",
          "2022-02-03T00:00:00",
          "2022-02-04T00:00:00",
          "2022-02-05T00:00:00",
          "2022-02-06T00:00:00",
          "2022-02-07T00:00:00",
          "2022-02-08T00:00:00",
          "2022-02-09T00:00:00",
          "2022-02-10T00:00:00",
          "2022-02-11T00:00:00",
          "2022-02-12T00:00:00",
          "2022-02-13T00:00:00",
          "2022-02-14T00:00:00",
          "2022-02-15T00:00:00",
          "2022-02-16T00:00:00",
          "2022-02-17T00:00:00",
          "2022-02-18T00:00:00",
          "2022-02-19T00:00:00",
          "2022-02-20T00:00:00",
          "2022-02-21T00:00:00",
          "2022-02-22T00:00:00",
          "2022-02-23T00:00:00",
          "2022-02-24T00:00:00",
          "2022-02-25T00:00:00",
          "2022-02-26T00:00:00",
          "2022-02-27T00:00:00",
          "2022-02-28T00:00:00",
          "2022-03-01T00:00:00",
          "2022-03-02T00:00:00",
          "2022-03-03T00:00:00",
          "2022-03-04T00:00:00",
          "2022-03-05T00:00:00",
          "2022-03-06T00:00:00",
          "2022-03-07T00:00:00",
          "2022-03-08T00:00:00",
          "2022-03-09T00:00:00",
          "2022-03-10T00:00:00",
          "2022-03-11T00:00:00",
          "2022-03-12T00:00:00",
          "2022-03-13T00:00:00",
          "2022-03-14T00:00:00",
          "2022-03-15T00:00:00",
          "2022-03-16T00:00:00",
          "2022-03-17T00:00:00",
          "2022-03-18T00:00:00",
          "2022-03-19T00:00:00",
          "2022-03-20T00:00:00",
          "2022-03-21T00:00:00",
          "2022-03-22T00:00:00",
          "2022-03-23T00:00:00",
          "2022-03-24T00:00:00",
          "2022-03-25T00:00:00",
          "2022-03-26T00:00:00",
          "2022-03-27T00:00:00",
          "2022-03-28T00:00:00",
          "2022-03-29T00:00:00",
          "2022-03-30T00:00:00",
          "2022-03-31T00:00:00",
          "2022-04-01T00:00:00",
          "2022-04-02T00:00:00",
          "2022-04-03T00:00:00",
          "2022-04-04T00:00:00",
          "2022-04-05T00:00:00",
          "2022-04-06T00:00:00",
          "2022-04-07T00:00:00",
          "2022-04-08T00:00:00",
          "2022-04-09T00:00:00",
          "2022-04-10T00:00:00",
          "2022-04-11T00:00:00",
          "2022-04-12T00:00:00",
          "2022-04-13T00:00:00",
          "2022-04-14T00:00:00",
          "2022-04-15T00:00:00",
          "2022-04-16T00:00:00",
          "2022-04-17T00:00:00",
          "2022-04-18T00:00:00",
          "2022-04-19T00:00:00",
          "2022-04-20T00:00:00",
          "2022-04-21T00:00:00",
          "2022-04-22T00:00:00",
          "2022-04-23T00:00:00",
          "2022-04-24T00:00:00",
          "2022-04-25T00:00:00",
          "2022-04-26T00:00:00",
          "2022-04-27T00:00:00",
          "2022-04-28T00:00:00",
          "2022-04-29T00:00:00",
          "2022-04-30T00:00:00",
          "2022-05-01T00:00:00",
          "2022-05-02T00:00:00",
          "2022-05-03T00:00:00",
          "2022-05-04T00:00:00",
          "2022-05-05T00:00:00",
          "2022-05-06T00:00:00",
          "2022-05-07T00:00:00",
          "2022-05-08T00:00:00",
          "2022-05-09T00:00:00",
          "2022-05-10T00:00:00",
          "2022-05-11T00:00:00",
          "2022-05-12T00:00:00",
          "2022-05-13T00:00:00",
          "2022-05-14T00:00:00",
          "2022-05-15T00:00:00",
          "2022-05-16T00:00:00",
          "2022-05-17T00:00:00",
          "2022-05-18T00:00:00",
          "2022-05-19T00:00:00",
          "2022-05-20T00:00:00",
          "2022-05-21T00:00:00",
          "2022-05-22T00:00:00",
          "2022-05-23T00:00:00",
          "2022-05-24T00:00:00",
          "2022-05-25T00:00:00",
          "2022-05-26T00:00:00",
          "2022-05-27T00:00:00",
          "2022-05-28T00:00:00",
          "2022-05-29T00:00:00",
          "2022-05-30T00:00:00",
          "2022-05-31T00:00:00",
          "2022-06-01T00:00:00",
          "2022-06-02T00:00:00",
          "2022-06-03T00:00:00",
          "2022-06-04T00:00:00",
          "2022-06-05T00:00:00",
          "2022-06-06T00:00:00",
          "2022-06-07T00:00:00",
          "2022-06-08T00:00:00",
          "2022-06-09T00:00:00",
          "2022-06-10T00:00:00",
          "2022-06-11T00:00:00",
          "2022-06-12T00:00:00",
          "2022-06-13T00:00:00",
          "2022-06-14T00:00:00",
          "2022-06-15T00:00:00",
          "2022-06-16T00:00:00",
          "2022-06-17T00:00:00",
          "2022-06-18T00:00:00",
          "2022-06-19T00:00:00",
          "2022-06-20T00:00:00",
          "2022-06-21T00:00:00",
          "2022-06-22T00:00:00",
          "2022-06-23T00:00:00",
          "2022-06-24T00:00:00",
          "2022-06-25T00:00:00",
          "2022-06-26T00:00:00",
          "2022-06-27T00:00:00",
          "2022-06-28T00:00:00",
          "2022-06-29T00:00:00",
          "2022-06-30T00:00:00",
          "2022-07-01T00:00:00",
          "2022-07-02T00:00:00",
          "2022-07-03T00:00:00",
          "2022-07-04T00:00:00",
          "2022-07-05T00:00:00",
          "2022-07-06T00:00:00",
          "2022-07-07T00:00:00",
          "2022-07-08T00:00:00",
          "2022-07-09T00:00:00",
          "2022-07-10T00:00:00",
          "2022-07-11T00:00:00",
          "2022-07-12T00:00:00",
          "2022-07-13T00:00:00",
          "2022-07-14T00:00:00",
          "2022-07-15T00:00:00",
          "2022-07-16T00:00:00",
          "2022-07-17T00:00:00",
          "2022-07-18T00:00:00",
          "2022-07-19T00:00:00",
          "2022-07-20T00:00:00",
          "2022-07-21T00:00:00",
          "2022-07-22T00:00:00",
          "2022-07-23T00:00:00",
          "2022-07-24T00:00:00",
          "2022-07-25T00:00:00",
          "2022-07-26T00:00:00",
          "2022-07-27T00:00:00",
          "2022-07-28T00:00:00",
          "2022-07-29T00:00:00",
          "2022-07-30T00:00:00",
          "2022-07-31T00:00:00",
          "2022-08-01T00:00:00",
          "2022-08-02T00:00:00",
          "2022-08-03T00:00:00",
          "2022-08-04T00:00:00",
          "2022-08-05T00:00:00",
          "2022-08-06T00:00:00",
          "2022-08-07T00:00:00",
          "2022-08-08T00:00:00",
          "2022-08-09T00:00:00",
          "2022-08-10T00:00:00",
          "2022-08-11T00:00:00",
          "2022-08-12T00:00:00",
          "2022-08-13T00:00:00",
          "2022-08-14T00:00:00",
          "2022-08-15T00:00:00",
          "2022-08-16T00:00:00",
          "2022-08-17T00:00:00",
          "2022-08-18T00:00:00",
          "2022-08-19T00:00:00",
          "2022-08-20T00:00:00",
          "2022-08-21T00:00:00",
          "2022-08-22T00:00:00",
          "2022-08-23T00:00:00",
          "2022-08-24T00:00:00",
          "2022-08-25T00:00:00",
          "2022-08-26T00:00:00",
          "2022-08-27T00:00:00",
          "2022-08-28T00:00:00",
          "2022-08-29T00:00:00",
          "2022-08-30T00:00:00",
          "2022-08-31T00:00:00",
          "2022-09-01T00:00:00",
          "2022-09-02T00:00:00",
          "2022-09-03T00:00:00",
          "2022-09-04T00:00:00",
          "2022-09-05T00:00:00",
          "2022-09-06T00:00:00",
          "2022-09-07T00:00:00",
          "2022-09-08T00:00:00",
          "2022-09-09T00:00:00",
          "2022-09-10T00:00:00",
          "2022-09-11T00:00:00",
          "2022-09-12T00:00:00",
          "2022-09-13T00:00:00",
          "2022-09-14T00:00:00",
          "2022-09-15T00:00:00",
          "2022-09-16T00:00:00",
          "2022-09-17T00:00:00",
          "2022-09-18T00:00:00",
          "2022-09-19T00:00:00",
          "2022-09-20T00:00:00",
          "2022-09-21T00:00:00",
          "2022-09-22T00:00:00",
          "2022-09-23T00:00:00",
          "2022-09-24T00:00:00",
          "2022-09-25T00:00:00",
          "2022-09-26T00:00:00",
          "2022-09-27T00:00:00",
          "2022-09-28T00:00:00",
          "2022-09-29T00:00:00",
          "2022-09-30T00:00:00",
          "2022-10-01T00:00:00",
          "2022-10-02T00:00:00",
          "2022-10-03T00:00:00",
          "2022-10-04T00:00:00",
          "2022-10-05T00:00:00",
          "2022-10-06T00:00:00",
          "2022-10-07T00:00:00",
          "2022-10-08T00:00:00",
          "2022-10-09T00:00:00",
          "2022-10-10T00:00:00",
          "2022-10-11T00:00:00",
          "2022-10-12T00:00:00",
          "2022-10-13T00:00:00",
          "2022-10-14T00:00:00",
          "2022-10-15T00:00:00",
          "2022-10-16T00:00:00",
          "2022-10-17T00:00:00",
          "2022-10-18T00:00:00",
          "2022-10-19T00:00:00",
          "2022-10-20T00:00:00",
          "2022-10-21T00:00:00",
          "2022-10-22T00:00:00",
          "2022-10-23T00:00:00",
          "2022-10-24T00:00:00",
          "2022-10-25T00:00:00",
          "2022-10-26T00:00:00",
          "2022-10-27T00:00:00",
          "2022-10-28T00:00:00",
          "2022-10-29T00:00:00",
          "2022-10-30T00:00:00",
          "2022-10-31T00:00:00",
          "2022-11-01T00:00:00",
          "2022-11-02T00:00:00",
          "2022-11-03T00:00:00",
          "2022-11-04T00:00:00",
          "2022-11-05T00:00:00",
          "2022-11-06T00:00:00",
          "2022-11-07T00:00:00",
          "2022-11-08T00:00:00",
          "2022-11-09T00:00:00",
          "2022-11-10T00:00:00",
          "2022-11-11T00:00:00",
          "2022-11-12T00:00:00",
          "2022-11-13T00:00:00",
          "2022-11-14T00:00:00",
          "2022-11-15T00:00:00",
          "2022-11-16T00:00:00",
          "2022-11-17T00:00:00",
          "2022-11-18T00:00:00",
          "2022-11-19T00:00:00",
          "2022-11-20T00:00:00",
          "2022-11-21T00:00:00",
          "2022-11-22T00:00:00",
          "2022-11-23T00:00:00",
          "2022-11-24T00:00:00",
          "2022-11-25T00:00:00",
          "2022-11-26T00:00:00",
          "2022-11-27T00:00:00",
          "2022-11-28T00:00:00",
          "2022-11-29T00:00:00",
          "2022-11-30T00:00:00",
          "2022-12-01T00:00:00",
          "2022-12-02T00:00:00",
          "2022-12-03T00:00:00",
          "2022-12-04T00:00:00",
          "2022-12-05T00:00:00",
          "2022-12-06T00:00:00",
          "2022-12-07T00:00:00",
          "2022-12-08T00:00:00",
          "2022-12-09T00:00:00",
          "2022-12-10T00:00:00",
          "2022-12-11T00:00:00",
          "2022-12-12T00:00:00",
          "2022-12-13T00:00:00",
          "2022-12-14T00:00:00",
          "2022-12-15T00:00:00",
          "2022-12-16T00:00:00",
          "2022-12-17T00:00:00",
          "2022-12-18T00:00:00",
          "2022-12-19T00:00:00",
          "2022-12-20T00:00:00",
          "2022-12-21T00:00:00",
          "2022-12-22T00:00:00",
          "2022-12-23T00:00:00",
          "2022-12-24T00:00:00",
          "2022-12-25T00:00:00",
          "2022-12-26T00:00:00",
          "2022-12-27T00:00:00",
          "2022-12-28T00:00:00"
         ],
         "xaxis": "x",
         "y": [
          null,
          null,
          null,
          null,
          null,
          null,
          null,
          null,
          null,
          null,
          null,
          null,
          null,
          null,
          null,
          3094.18505859375,
          3149.326904296875,
          3196.925048828125,
          3241.41650390625,
          3212.153076171875,
          3171.762451171875,
          3115.617919921875,
          3040.203857421875,
          2808.869384765625,
          2613.177490234375,
          2542.906982421875,
          2466.182861328125,
          2433.539794921875,
          2426.171875,
          2414.09326171875,
          2459.601318359375,
          2512.695556640625,
          2555.56494140625,
          2621.441650390625,
          2698.770263671875,
          2706.359375,
          2710.37939453125,
          2825.00732421875,
          2905.94384765625,
          2978.209228515625,
          3056.356201171875,
          3097.572998046875,
          3168.97119140625,
          3143.49853515625,
          3063.189697265625,
          3001.478271484375,
          2943.02001953125,
          2926.3525390625,
          3016.45361328125,
          3051.71630859375,
          2976.326904296875,
          2890.7216796875,
          2830.904296875,
          2736.54541015625,
          2659.778564453125,
          2638.597412109375,
          2606.455322265625,
          2593.76904296875,
          2655.46875,
          2703.661376953125,
          2678.1103515625,
          2780.544189453125,
          2865.234375,
          2914.497314453125,
          2896.5,
          2796.983154296875,
          2749.855712890625,
          2672.393798828125,
          2602.776611328125,
          2585.941650390625,
          2633.7421875,
          2620.58203125,
          2600.1962890625,
          2595.979248046875,
          2574.44921875,
          2587.31787109375,
          2605.58203125,
          2673.83203125,
          2733.1728515625,
          2826.15771484375,
          2888.28125,
          2894.864990234375,
          2910.122802734375,
          2945.820068359375,
          2988.781982421875,
          3045.597900390625,
          3077.916015625,
          3111.614013671875,
          3192.9912109375,
          3259.696044921875,
          3326.1982421875,
          3356.36767578125,
          3324.72509765625,
          3374.17529296875,
          3396.495849609375,
          3440.986083984375,
          3459.501220703125,
          3415.932373046875,
          3277.90478515625,
          3218.66357421875,
          3159.016357421875,
          3153.411376953125,
          3128.96630859375,
          3021.19091796875,
          2983.16455078125,
          3000.5283203125,
          2972.9248046875,
          2969.945068359375,
          2985.5703125,
          2968.673095703125,
          2990.73095703125,
          3027.033203125,
          3040.72705078125,
          3012.040771484375,
          2984.453125,
          2955.453369140625,
          2931.8251953125,
          2953.340087890625,
          2883.117431640625,
          2876.3544921875,
          2890.89794921875,
          2852.615478515625,
          2797.461669921875,
          2804.416748046875,
          2819.343994140625,
          2800.348388671875,
          2854.790283203125,
          2813.856201171875,
          2770.626953125,
          2717.0966796875,
          2638.408935546875,
          2486.177490234375,
          2430.405029296875,
          2291.966796875,
          2174.121337890625,
          2119.558837890625,
          2099.8046875,
          2118.96435546875,
          2092.507568359375,
          2103.08740234375,
          2052.0166015625,
          2048.64892578125,
          2021.10986328125,
          2006.639404296875,
          2014.8231201171875,
          1995.7398681640625,
          1987.7716064453125,
          1969.35986328125,
          1916.2718505859375,
          1858.7764892578125,
          1828.211669921875,
          1819.8187255859375,
          1864.34375,
          1876.723876953125,
          1851.6279296875,
          1840.5203857421875,
          1813.986328125,
          1803.986572265625,
          1796.5968017578125,
          1805.751708984375,
          1798.520263671875,
          1788.475830078125,
          1780.5941162109375,
          1740.16015625,
          1676.8067626953125,
          1611.25244140625,
          1502.6934814453125,
          1431.1533203125,
          1383.9368896484375,
          1313.530517578125,
          1268.334228515625,
          1217.850830078125,
          1204.0252685546875,
          1189.5933837890625,
          1177.2918701171875,
          1155.25732421875,
          1156.16162109375,
          1172.0257568359375,
          1186.3309326171875,
          1188.0330810546875,
          1189.0487060546875,
          1180.913330078125,
          1167.0345458984375,
          1151.9630126953125,
          1140.8662109375,
          1133.414794921875,
          1129.27587890625,
          1139.681884765625,
          1142.7945556640625,
          1156.33935546875,
          1176.794921875,
          1187.73095703125,
          1194.5804443359375,
          1189.4681396484375,
          1172.8775634765625,
          1152.314453125,
          1150.07958984375,
          1163.37890625,
          1181.10791015625,
          1219.4884033203125,
          1243.6632080078125,
          1316.1832275390625,
          1358.9891357421875,
          1387.5452880859375,
          1423.31640625,
          1439.9512939453125,
          1456.927490234375,
          1482.5177001953125,
          1463.556396484375,
          1453.0965576171875,
          1494.5059814453125,
          1544.1407470703125,
          1580.186279296875,
          1599.38818359375,
          1610.3916015625,
          1607.224853515625,
          1604.268310546875,
          1598.9295654296875,
          1592.8040771484375,
          1621.1361083984375,
          1628.815185546875,
          1637.713623046875,
          1664.6876220703125,
          1664.4713134765625,
          1706.8333740234375,
          1742.008056640625,
          1788.8631591796875,
          1829.4866943359375,
          1847.4332275390625,
          1853.4288330078125,
          1852.25341796875,
          1839.704833984375,
          1836.220947265625,
          1766.7310791015625,
          1711.7679443359375,
          1684.3953857421875,
          1663.5406494140625,
          1657.77783203125,
          1650.765869140625,
          1654.9364013671875,
          1605.6337890625,
          1569.118896484375,
          1526.318115234375,
          1527.4913330078125,
          1517.4112548828125,
          1517.98486328125,
          1526.0081787109375,
          1528.5264892578125,
          1526.5751953125,
          1531.0074462890625,
          1543.595458984375,
          1537.7789306640625,
          1551.9698486328125,
          1562.4866943359375,
          1592.0106201171875,
          1628.59765625,
          1651.43017578125,
          1656.7266845703125,
          1625.978759765625,
          1621.347412109375,
          1573.634033203125,
          1532.4886474609375,
          1512.7349853515625,
          1463.2979736328125,
          1440.3260498046875,
          1408.7607421875,
          1369.359375,
          1358.7166748046875,
          1348.6392822265625,
          1337.7412109375,
          1323.5263671875,
          1322.60888671875,
          1319.670654296875,
          1319.6107177734375,
          1318.61474609375,
          1316.82373046875,
          1311.9951171875,
          1300.3895263671875,
          1303.9068603515625,
          1314.1246337890625,
          1319.1566162109375,
          1323.338623046875,
          1321.6768798828125,
          1316.9547119140625,
          1315.48974609375,
          1307.2869873046875,
          1298.9046630859375,
          1296.3695068359375,
          1292.5479736328125,
          1291.88232421875,
          null,
          null,
          null,
          null,
          null,
          null,
          null,
          null,
          null,
          null,
          null,
          null,
          null,
          null,
          null,
          null,
          null,
          null,
          null,
          null,
          null,
          null,
          null,
          null,
          null,
          null,
          null,
          null,
          null,
          null,
          null,
          null,
          null,
          null,
          null,
          null,
          null,
          null,
          null,
          null,
          null,
          null,
          null,
          null,
          null,
          null,
          null,
          null,
          null,
          null,
          null,
          null,
          null,
          null,
          null,
          null,
          null,
          null,
          null,
          null,
          null,
          null,
          null,
          null,
          null,
          null,
          null,
          null,
          null,
          null,
          null,
          null,
          null,
          null
         ],
         "yaxis": "y"
        },
        {
         "hovertemplate": "variable=test_predicted_close<br>Date=%{x}<br>Price=%{y}<extra></extra>",
         "legendgroup": "test_predicted_close",
         "line": {
          "color": "#00cc96",
          "dash": "solid"
         },
         "marker": {
          "symbol": "circle"
         },
         "mode": "lines",
         "name": "Test predicted close price",
         "showlegend": true,
         "type": "scattergl",
         "x": [
          "2021-12-30T00:00:00",
          "2021-12-31T00:00:00",
          "2022-01-01T00:00:00",
          "2022-01-02T00:00:00",
          "2022-01-03T00:00:00",
          "2022-01-04T00:00:00",
          "2022-01-05T00:00:00",
          "2022-01-06T00:00:00",
          "2022-01-07T00:00:00",
          "2022-01-08T00:00:00",
          "2022-01-09T00:00:00",
          "2022-01-10T00:00:00",
          "2022-01-11T00:00:00",
          "2022-01-12T00:00:00",
          "2022-01-13T00:00:00",
          "2022-01-14T00:00:00",
          "2022-01-15T00:00:00",
          "2022-01-16T00:00:00",
          "2022-01-17T00:00:00",
          "2022-01-18T00:00:00",
          "2022-01-19T00:00:00",
          "2022-01-20T00:00:00",
          "2022-01-21T00:00:00",
          "2022-01-22T00:00:00",
          "2022-01-23T00:00:00",
          "2022-01-24T00:00:00",
          "2022-01-25T00:00:00",
          "2022-01-26T00:00:00",
          "2022-01-27T00:00:00",
          "2022-01-28T00:00:00",
          "2022-01-29T00:00:00",
          "2022-01-30T00:00:00",
          "2022-01-31T00:00:00",
          "2022-02-01T00:00:00",
          "2022-02-02T00:00:00",
          "2022-02-03T00:00:00",
          "2022-02-04T00:00:00",
          "2022-02-05T00:00:00",
          "2022-02-06T00:00:00",
          "2022-02-07T00:00:00",
          "2022-02-08T00:00:00",
          "2022-02-09T00:00:00",
          "2022-02-10T00:00:00",
          "2022-02-11T00:00:00",
          "2022-02-12T00:00:00",
          "2022-02-13T00:00:00",
          "2022-02-14T00:00:00",
          "2022-02-15T00:00:00",
          "2022-02-16T00:00:00",
          "2022-02-17T00:00:00",
          "2022-02-18T00:00:00",
          "2022-02-19T00:00:00",
          "2022-02-20T00:00:00",
          "2022-02-21T00:00:00",
          "2022-02-22T00:00:00",
          "2022-02-23T00:00:00",
          "2022-02-24T00:00:00",
          "2022-02-25T00:00:00",
          "2022-02-26T00:00:00",
          "2022-02-27T00:00:00",
          "2022-02-28T00:00:00",
          "2022-03-01T00:00:00",
          "2022-03-02T00:00:00",
          "2022-03-03T00:00:00",
          "2022-03-04T00:00:00",
          "2022-03-05T00:00:00",
          "2022-03-06T00:00:00",
          "2022-03-07T00:00:00",
          "2022-03-08T00:00:00",
          "2022-03-09T00:00:00",
          "2022-03-10T00:00:00",
          "2022-03-11T00:00:00",
          "2022-03-12T00:00:00",
          "2022-03-13T00:00:00",
          "2022-03-14T00:00:00",
          "2022-03-15T00:00:00",
          "2022-03-16T00:00:00",
          "2022-03-17T00:00:00",
          "2022-03-18T00:00:00",
          "2022-03-19T00:00:00",
          "2022-03-20T00:00:00",
          "2022-03-21T00:00:00",
          "2022-03-22T00:00:00",
          "2022-03-23T00:00:00",
          "2022-03-24T00:00:00",
          "2022-03-25T00:00:00",
          "2022-03-26T00:00:00",
          "2022-03-27T00:00:00",
          "2022-03-28T00:00:00",
          "2022-03-29T00:00:00",
          "2022-03-30T00:00:00",
          "2022-03-31T00:00:00",
          "2022-04-01T00:00:00",
          "2022-04-02T00:00:00",
          "2022-04-03T00:00:00",
          "2022-04-04T00:00:00",
          "2022-04-05T00:00:00",
          "2022-04-06T00:00:00",
          "2022-04-07T00:00:00",
          "2022-04-08T00:00:00",
          "2022-04-09T00:00:00",
          "2022-04-10T00:00:00",
          "2022-04-11T00:00:00",
          "2022-04-12T00:00:00",
          "2022-04-13T00:00:00",
          "2022-04-14T00:00:00",
          "2022-04-15T00:00:00",
          "2022-04-16T00:00:00",
          "2022-04-17T00:00:00",
          "2022-04-18T00:00:00",
          "2022-04-19T00:00:00",
          "2022-04-20T00:00:00",
          "2022-04-21T00:00:00",
          "2022-04-22T00:00:00",
          "2022-04-23T00:00:00",
          "2022-04-24T00:00:00",
          "2022-04-25T00:00:00",
          "2022-04-26T00:00:00",
          "2022-04-27T00:00:00",
          "2022-04-28T00:00:00",
          "2022-04-29T00:00:00",
          "2022-04-30T00:00:00",
          "2022-05-01T00:00:00",
          "2022-05-02T00:00:00",
          "2022-05-03T00:00:00",
          "2022-05-04T00:00:00",
          "2022-05-05T00:00:00",
          "2022-05-06T00:00:00",
          "2022-05-07T00:00:00",
          "2022-05-08T00:00:00",
          "2022-05-09T00:00:00",
          "2022-05-10T00:00:00",
          "2022-05-11T00:00:00",
          "2022-05-12T00:00:00",
          "2022-05-13T00:00:00",
          "2022-05-14T00:00:00",
          "2022-05-15T00:00:00",
          "2022-05-16T00:00:00",
          "2022-05-17T00:00:00",
          "2022-05-18T00:00:00",
          "2022-05-19T00:00:00",
          "2022-05-20T00:00:00",
          "2022-05-21T00:00:00",
          "2022-05-22T00:00:00",
          "2022-05-23T00:00:00",
          "2022-05-24T00:00:00",
          "2022-05-25T00:00:00",
          "2022-05-26T00:00:00",
          "2022-05-27T00:00:00",
          "2022-05-28T00:00:00",
          "2022-05-29T00:00:00",
          "2022-05-30T00:00:00",
          "2022-05-31T00:00:00",
          "2022-06-01T00:00:00",
          "2022-06-02T00:00:00",
          "2022-06-03T00:00:00",
          "2022-06-04T00:00:00",
          "2022-06-05T00:00:00",
          "2022-06-06T00:00:00",
          "2022-06-07T00:00:00",
          "2022-06-08T00:00:00",
          "2022-06-09T00:00:00",
          "2022-06-10T00:00:00",
          "2022-06-11T00:00:00",
          "2022-06-12T00:00:00",
          "2022-06-13T00:00:00",
          "2022-06-14T00:00:00",
          "2022-06-15T00:00:00",
          "2022-06-16T00:00:00",
          "2022-06-17T00:00:00",
          "2022-06-18T00:00:00",
          "2022-06-19T00:00:00",
          "2022-06-20T00:00:00",
          "2022-06-21T00:00:00",
          "2022-06-22T00:00:00",
          "2022-06-23T00:00:00",
          "2022-06-24T00:00:00",
          "2022-06-25T00:00:00",
          "2022-06-26T00:00:00",
          "2022-06-27T00:00:00",
          "2022-06-28T00:00:00",
          "2022-06-29T00:00:00",
          "2022-06-30T00:00:00",
          "2022-07-01T00:00:00",
          "2022-07-02T00:00:00",
          "2022-07-03T00:00:00",
          "2022-07-04T00:00:00",
          "2022-07-05T00:00:00",
          "2022-07-06T00:00:00",
          "2022-07-07T00:00:00",
          "2022-07-08T00:00:00",
          "2022-07-09T00:00:00",
          "2022-07-10T00:00:00",
          "2022-07-11T00:00:00",
          "2022-07-12T00:00:00",
          "2022-07-13T00:00:00",
          "2022-07-14T00:00:00",
          "2022-07-15T00:00:00",
          "2022-07-16T00:00:00",
          "2022-07-17T00:00:00",
          "2022-07-18T00:00:00",
          "2022-07-19T00:00:00",
          "2022-07-20T00:00:00",
          "2022-07-21T00:00:00",
          "2022-07-22T00:00:00",
          "2022-07-23T00:00:00",
          "2022-07-24T00:00:00",
          "2022-07-25T00:00:00",
          "2022-07-26T00:00:00",
          "2022-07-27T00:00:00",
          "2022-07-28T00:00:00",
          "2022-07-29T00:00:00",
          "2022-07-30T00:00:00",
          "2022-07-31T00:00:00",
          "2022-08-01T00:00:00",
          "2022-08-02T00:00:00",
          "2022-08-03T00:00:00",
          "2022-08-04T00:00:00",
          "2022-08-05T00:00:00",
          "2022-08-06T00:00:00",
          "2022-08-07T00:00:00",
          "2022-08-08T00:00:00",
          "2022-08-09T00:00:00",
          "2022-08-10T00:00:00",
          "2022-08-11T00:00:00",
          "2022-08-12T00:00:00",
          "2022-08-13T00:00:00",
          "2022-08-14T00:00:00",
          "2022-08-15T00:00:00",
          "2022-08-16T00:00:00",
          "2022-08-17T00:00:00",
          "2022-08-18T00:00:00",
          "2022-08-19T00:00:00",
          "2022-08-20T00:00:00",
          "2022-08-21T00:00:00",
          "2022-08-22T00:00:00",
          "2022-08-23T00:00:00",
          "2022-08-24T00:00:00",
          "2022-08-25T00:00:00",
          "2022-08-26T00:00:00",
          "2022-08-27T00:00:00",
          "2022-08-28T00:00:00",
          "2022-08-29T00:00:00",
          "2022-08-30T00:00:00",
          "2022-08-31T00:00:00",
          "2022-09-01T00:00:00",
          "2022-09-02T00:00:00",
          "2022-09-03T00:00:00",
          "2022-09-04T00:00:00",
          "2022-09-05T00:00:00",
          "2022-09-06T00:00:00",
          "2022-09-07T00:00:00",
          "2022-09-08T00:00:00",
          "2022-09-09T00:00:00",
          "2022-09-10T00:00:00",
          "2022-09-11T00:00:00",
          "2022-09-12T00:00:00",
          "2022-09-13T00:00:00",
          "2022-09-14T00:00:00",
          "2022-09-15T00:00:00",
          "2022-09-16T00:00:00",
          "2022-09-17T00:00:00",
          "2022-09-18T00:00:00",
          "2022-09-19T00:00:00",
          "2022-09-20T00:00:00",
          "2022-09-21T00:00:00",
          "2022-09-22T00:00:00",
          "2022-09-23T00:00:00",
          "2022-09-24T00:00:00",
          "2022-09-25T00:00:00",
          "2022-09-26T00:00:00",
          "2022-09-27T00:00:00",
          "2022-09-28T00:00:00",
          "2022-09-29T00:00:00",
          "2022-09-30T00:00:00",
          "2022-10-01T00:00:00",
          "2022-10-02T00:00:00",
          "2022-10-03T00:00:00",
          "2022-10-04T00:00:00",
          "2022-10-05T00:00:00",
          "2022-10-06T00:00:00",
          "2022-10-07T00:00:00",
          "2022-10-08T00:00:00",
          "2022-10-09T00:00:00",
          "2022-10-10T00:00:00",
          "2022-10-11T00:00:00",
          "2022-10-12T00:00:00",
          "2022-10-13T00:00:00",
          "2022-10-14T00:00:00",
          "2022-10-15T00:00:00",
          "2022-10-16T00:00:00",
          "2022-10-17T00:00:00",
          "2022-10-18T00:00:00",
          "2022-10-19T00:00:00",
          "2022-10-20T00:00:00",
          "2022-10-21T00:00:00",
          "2022-10-22T00:00:00",
          "2022-10-23T00:00:00",
          "2022-10-24T00:00:00",
          "2022-10-25T00:00:00",
          "2022-10-26T00:00:00",
          "2022-10-27T00:00:00",
          "2022-10-28T00:00:00",
          "2022-10-29T00:00:00",
          "2022-10-30T00:00:00",
          "2022-10-31T00:00:00",
          "2022-11-01T00:00:00",
          "2022-11-02T00:00:00",
          "2022-11-03T00:00:00",
          "2022-11-04T00:00:00",
          "2022-11-05T00:00:00",
          "2022-11-06T00:00:00",
          "2022-11-07T00:00:00",
          "2022-11-08T00:00:00",
          "2022-11-09T00:00:00",
          "2022-11-10T00:00:00",
          "2022-11-11T00:00:00",
          "2022-11-12T00:00:00",
          "2022-11-13T00:00:00",
          "2022-11-14T00:00:00",
          "2022-11-15T00:00:00",
          "2022-11-16T00:00:00",
          "2022-11-17T00:00:00",
          "2022-11-18T00:00:00",
          "2022-11-19T00:00:00",
          "2022-11-20T00:00:00",
          "2022-11-21T00:00:00",
          "2022-11-22T00:00:00",
          "2022-11-23T00:00:00",
          "2022-11-24T00:00:00",
          "2022-11-25T00:00:00",
          "2022-11-26T00:00:00",
          "2022-11-27T00:00:00",
          "2022-11-28T00:00:00",
          "2022-11-29T00:00:00",
          "2022-11-30T00:00:00",
          "2022-12-01T00:00:00",
          "2022-12-02T00:00:00",
          "2022-12-03T00:00:00",
          "2022-12-04T00:00:00",
          "2022-12-05T00:00:00",
          "2022-12-06T00:00:00",
          "2022-12-07T00:00:00",
          "2022-12-08T00:00:00",
          "2022-12-09T00:00:00",
          "2022-12-10T00:00:00",
          "2022-12-11T00:00:00",
          "2022-12-12T00:00:00",
          "2022-12-13T00:00:00",
          "2022-12-14T00:00:00",
          "2022-12-15T00:00:00",
          "2022-12-16T00:00:00",
          "2022-12-17T00:00:00",
          "2022-12-18T00:00:00",
          "2022-12-19T00:00:00",
          "2022-12-20T00:00:00",
          "2022-12-21T00:00:00",
          "2022-12-22T00:00:00",
          "2022-12-23T00:00:00",
          "2022-12-24T00:00:00",
          "2022-12-25T00:00:00",
          "2022-12-26T00:00:00",
          "2022-12-27T00:00:00",
          "2022-12-28T00:00:00"
         ],
         "xaxis": "x",
         "y": [
          null,
          null,
          null,
          null,
          null,
          null,
          null,
          null,
          null,
          null,
          null,
          null,
          null,
          null,
          null,
          null,
          null,
          null,
          null,
          null,
          null,
          null,
          null,
          null,
          null,
          null,
          null,
          null,
          null,
          null,
          null,
          null,
          null,
          null,
          null,
          null,
          null,
          null,
          null,
          null,
          null,
          null,
          null,
          null,
          null,
          null,
          null,
          null,
          null,
          null,
          null,
          null,
          null,
          null,
          null,
          null,
          null,
          null,
          null,
          null,
          null,
          null,
          null,
          null,
          null,
          null,
          null,
          null,
          null,
          null,
          null,
          null,
          null,
          null,
          null,
          null,
          null,
          null,
          null,
          null,
          null,
          null,
          null,
          null,
          null,
          null,
          null,
          null,
          null,
          null,
          null,
          null,
          null,
          null,
          null,
          null,
          null,
          null,
          null,
          null,
          null,
          null,
          null,
          null,
          null,
          null,
          null,
          null,
          null,
          null,
          null,
          null,
          null,
          null,
          null,
          null,
          null,
          null,
          null,
          null,
          null,
          null,
          null,
          null,
          null,
          null,
          null,
          null,
          null,
          null,
          null,
          null,
          null,
          null,
          null,
          null,
          null,
          null,
          null,
          null,
          null,
          null,
          null,
          null,
          null,
          null,
          null,
          null,
          null,
          null,
          null,
          null,
          null,
          null,
          null,
          null,
          null,
          null,
          null,
          null,
          null,
          null,
          null,
          null,
          null,
          null,
          null,
          null,
          null,
          null,
          null,
          null,
          null,
          null,
          null,
          null,
          null,
          null,
          null,
          null,
          null,
          null,
          null,
          null,
          null,
          null,
          null,
          null,
          null,
          null,
          null,
          null,
          null,
          null,
          null,
          null,
          null,
          null,
          null,
          null,
          null,
          null,
          null,
          null,
          null,
          null,
          null,
          null,
          null,
          null,
          null,
          null,
          null,
          null,
          null,
          null,
          null,
          null,
          null,
          null,
          null,
          null,
          null,
          null,
          null,
          null,
          null,
          null,
          null,
          null,
          null,
          null,
          null,
          null,
          null,
          null,
          null,
          null,
          null,
          null,
          null,
          null,
          null,
          null,
          null,
          null,
          null,
          null,
          null,
          null,
          null,
          null,
          null,
          null,
          null,
          null,
          null,
          null,
          null,
          null,
          null,
          null,
          null,
          null,
          null,
          null,
          null,
          null,
          null,
          null,
          null,
          null,
          null,
          null,
          null,
          null,
          null,
          null,
          null,
          null,
          null,
          null,
          null,
          null,
          null,
          null,
          null,
          null,
          null,
          null,
          null,
          null,
          null,
          null,
          null,
          null,
          null,
          null,
          null,
          null,
          null,
          null,
          null,
          null,
          null,
          null,
          1500.0174560546875,
          1510.42626953125,
          1503.5877685546875,
          1503.4427490234375,
          1532.2242431640625,
          1547.094482421875,
          1544.591064453125,
          1543.079833984375,
          1482.6376953125,
          1389.9901123046875,
          1371.737060546875,
          1350.2847900390625,
          1326.6556396484375,
          1301.426025390625,
          1287.666748046875,
          1278.9246826171875,
          1263.6983642578125,
          1249.6484375,
          1241.548828125,
          1235.750732421875,
          1214.5445556640625,
          1193.7027587890625,
          1183.531494140625,
          1186.53125,
          1193.648681640625,
          1196.283203125,
          1199.7784423828125,
          1200.086181640625,
          1195.350341796875,
          1202.083740234375,
          1223.116943359375,
          1233.55029296875,
          1245.828125,
          1243.5662841796875,
          1250.9957275390625,
          1251.982666015625,
          1256.1387939453125,
          1250.389404296875,
          1257.3746337890625,
          1257.91943359375,
          1259.1778564453125,
          1259.55419921875,
          1262.4063720703125,
          1274.792724609375,
          1280.5010986328125,
          1274.9334716796875,
          1250.0196533203125,
          1237.68359375,
          1227.6815185546875,
          1216.310302734375,
          1219.010986328125,
          1218.988037109375,
          1220.2000732421875,
          1221.057861328125,
          1221.8883056640625,
          1221.93701171875,
          1223.7183837890625,
          null
         ],
         "yaxis": "y"
        }
       ],
       "layout": {
        "font": {
         "color": "black",
         "size": 15
        },
        "legend": {
         "title": {
          "text": "Close Price"
         },
         "tracegroupgap": 0
        },
        "margin": {
         "t": 60
        },
        "plot_bgcolor": "white",
        "template": {
         "data": {
          "bar": [
           {
            "error_x": {
             "color": "#2a3f5f"
            },
            "error_y": {
             "color": "#2a3f5f"
            },
            "marker": {
             "line": {
              "color": "#E5ECF6",
              "width": 0.5
             },
             "pattern": {
              "fillmode": "overlay",
              "size": 10,
              "solidity": 0.2
             }
            },
            "type": "bar"
           }
          ],
          "barpolar": [
           {
            "marker": {
             "line": {
              "color": "#E5ECF6",
              "width": 0.5
             },
             "pattern": {
              "fillmode": "overlay",
              "size": 10,
              "solidity": 0.2
             }
            },
            "type": "barpolar"
           }
          ],
          "carpet": [
           {
            "aaxis": {
             "endlinecolor": "#2a3f5f",
             "gridcolor": "white",
             "linecolor": "white",
             "minorgridcolor": "white",
             "startlinecolor": "#2a3f5f"
            },
            "baxis": {
             "endlinecolor": "#2a3f5f",
             "gridcolor": "white",
             "linecolor": "white",
             "minorgridcolor": "white",
             "startlinecolor": "#2a3f5f"
            },
            "type": "carpet"
           }
          ],
          "choropleth": [
           {
            "colorbar": {
             "outlinewidth": 0,
             "ticks": ""
            },
            "type": "choropleth"
           }
          ],
          "contour": [
           {
            "colorbar": {
             "outlinewidth": 0,
             "ticks": ""
            },
            "colorscale": [
             [
              0,
              "#0d0887"
             ],
             [
              0.1111111111111111,
              "#46039f"
             ],
             [
              0.2222222222222222,
              "#7201a8"
             ],
             [
              0.3333333333333333,
              "#9c179e"
             ],
             [
              0.4444444444444444,
              "#bd3786"
             ],
             [
              0.5555555555555556,
              "#d8576b"
             ],
             [
              0.6666666666666666,
              "#ed7953"
             ],
             [
              0.7777777777777778,
              "#fb9f3a"
             ],
             [
              0.8888888888888888,
              "#fdca26"
             ],
             [
              1,
              "#f0f921"
             ]
            ],
            "type": "contour"
           }
          ],
          "contourcarpet": [
           {
            "colorbar": {
             "outlinewidth": 0,
             "ticks": ""
            },
            "type": "contourcarpet"
           }
          ],
          "heatmap": [
           {
            "colorbar": {
             "outlinewidth": 0,
             "ticks": ""
            },
            "colorscale": [
             [
              0,
              "#0d0887"
             ],
             [
              0.1111111111111111,
              "#46039f"
             ],
             [
              0.2222222222222222,
              "#7201a8"
             ],
             [
              0.3333333333333333,
              "#9c179e"
             ],
             [
              0.4444444444444444,
              "#bd3786"
             ],
             [
              0.5555555555555556,
              "#d8576b"
             ],
             [
              0.6666666666666666,
              "#ed7953"
             ],
             [
              0.7777777777777778,
              "#fb9f3a"
             ],
             [
              0.8888888888888888,
              "#fdca26"
             ],
             [
              1,
              "#f0f921"
             ]
            ],
            "type": "heatmap"
           }
          ],
          "heatmapgl": [
           {
            "colorbar": {
             "outlinewidth": 0,
             "ticks": ""
            },
            "colorscale": [
             [
              0,
              "#0d0887"
             ],
             [
              0.1111111111111111,
              "#46039f"
             ],
             [
              0.2222222222222222,
              "#7201a8"
             ],
             [
              0.3333333333333333,
              "#9c179e"
             ],
             [
              0.4444444444444444,
              "#bd3786"
             ],
             [
              0.5555555555555556,
              "#d8576b"
             ],
             [
              0.6666666666666666,
              "#ed7953"
             ],
             [
              0.7777777777777778,
              "#fb9f3a"
             ],
             [
              0.8888888888888888,
              "#fdca26"
             ],
             [
              1,
              "#f0f921"
             ]
            ],
            "type": "heatmapgl"
           }
          ],
          "histogram": [
           {
            "marker": {
             "pattern": {
              "fillmode": "overlay",
              "size": 10,
              "solidity": 0.2
             }
            },
            "type": "histogram"
           }
          ],
          "histogram2d": [
           {
            "colorbar": {
             "outlinewidth": 0,
             "ticks": ""
            },
            "colorscale": [
             [
              0,
              "#0d0887"
             ],
             [
              0.1111111111111111,
              "#46039f"
             ],
             [
              0.2222222222222222,
              "#7201a8"
             ],
             [
              0.3333333333333333,
              "#9c179e"
             ],
             [
              0.4444444444444444,
              "#bd3786"
             ],
             [
              0.5555555555555556,
              "#d8576b"
             ],
             [
              0.6666666666666666,
              "#ed7953"
             ],
             [
              0.7777777777777778,
              "#fb9f3a"
             ],
             [
              0.8888888888888888,
              "#fdca26"
             ],
             [
              1,
              "#f0f921"
             ]
            ],
            "type": "histogram2d"
           }
          ],
          "histogram2dcontour": [
           {
            "colorbar": {
             "outlinewidth": 0,
             "ticks": ""
            },
            "colorscale": [
             [
              0,
              "#0d0887"
             ],
             [
              0.1111111111111111,
              "#46039f"
             ],
             [
              0.2222222222222222,
              "#7201a8"
             ],
             [
              0.3333333333333333,
              "#9c179e"
             ],
             [
              0.4444444444444444,
              "#bd3786"
             ],
             [
              0.5555555555555556,
              "#d8576b"
             ],
             [
              0.6666666666666666,
              "#ed7953"
             ],
             [
              0.7777777777777778,
              "#fb9f3a"
             ],
             [
              0.8888888888888888,
              "#fdca26"
             ],
             [
              1,
              "#f0f921"
             ]
            ],
            "type": "histogram2dcontour"
           }
          ],
          "mesh3d": [
           {
            "colorbar": {
             "outlinewidth": 0,
             "ticks": ""
            },
            "type": "mesh3d"
           }
          ],
          "parcoords": [
           {
            "line": {
             "colorbar": {
              "outlinewidth": 0,
              "ticks": ""
             }
            },
            "type": "parcoords"
           }
          ],
          "pie": [
           {
            "automargin": true,
            "type": "pie"
           }
          ],
          "scatter": [
           {
            "fillpattern": {
             "fillmode": "overlay",
             "size": 10,
             "solidity": 0.2
            },
            "type": "scatter"
           }
          ],
          "scatter3d": [
           {
            "line": {
             "colorbar": {
              "outlinewidth": 0,
              "ticks": ""
             }
            },
            "marker": {
             "colorbar": {
              "outlinewidth": 0,
              "ticks": ""
             }
            },
            "type": "scatter3d"
           }
          ],
          "scattercarpet": [
           {
            "marker": {
             "colorbar": {
              "outlinewidth": 0,
              "ticks": ""
             }
            },
            "type": "scattercarpet"
           }
          ],
          "scattergeo": [
           {
            "marker": {
             "colorbar": {
              "outlinewidth": 0,
              "ticks": ""
             }
            },
            "type": "scattergeo"
           }
          ],
          "scattergl": [
           {
            "marker": {
             "colorbar": {
              "outlinewidth": 0,
              "ticks": ""
             }
            },
            "type": "scattergl"
           }
          ],
          "scattermapbox": [
           {
            "marker": {
             "colorbar": {
              "outlinewidth": 0,
              "ticks": ""
             }
            },
            "type": "scattermapbox"
           }
          ],
          "scatterpolar": [
           {
            "marker": {
             "colorbar": {
              "outlinewidth": 0,
              "ticks": ""
             }
            },
            "type": "scatterpolar"
           }
          ],
          "scatterpolargl": [
           {
            "marker": {
             "colorbar": {
              "outlinewidth": 0,
              "ticks": ""
             }
            },
            "type": "scatterpolargl"
           }
          ],
          "scatterternary": [
           {
            "marker": {
             "colorbar": {
              "outlinewidth": 0,
              "ticks": ""
             }
            },
            "type": "scatterternary"
           }
          ],
          "surface": [
           {
            "colorbar": {
             "outlinewidth": 0,
             "ticks": ""
            },
            "colorscale": [
             [
              0,
              "#0d0887"
             ],
             [
              0.1111111111111111,
              "#46039f"
             ],
             [
              0.2222222222222222,
              "#7201a8"
             ],
             [
              0.3333333333333333,
              "#9c179e"
             ],
             [
              0.4444444444444444,
              "#bd3786"
             ],
             [
              0.5555555555555556,
              "#d8576b"
             ],
             [
              0.6666666666666666,
              "#ed7953"
             ],
             [
              0.7777777777777778,
              "#fb9f3a"
             ],
             [
              0.8888888888888888,
              "#fdca26"
             ],
             [
              1,
              "#f0f921"
             ]
            ],
            "type": "surface"
           }
          ],
          "table": [
           {
            "cells": {
             "fill": {
              "color": "#EBF0F8"
             },
             "line": {
              "color": "white"
             }
            },
            "header": {
             "fill": {
              "color": "#C8D4E3"
             },
             "line": {
              "color": "white"
             }
            },
            "type": "table"
           }
          ]
         },
         "layout": {
          "annotationdefaults": {
           "arrowcolor": "#2a3f5f",
           "arrowhead": 0,
           "arrowwidth": 1
          },
          "autotypenumbers": "strict",
          "coloraxis": {
           "colorbar": {
            "outlinewidth": 0,
            "ticks": ""
           }
          },
          "colorscale": {
           "diverging": [
            [
             0,
             "#8e0152"
            ],
            [
             0.1,
             "#c51b7d"
            ],
            [
             0.2,
             "#de77ae"
            ],
            [
             0.3,
             "#f1b6da"
            ],
            [
             0.4,
             "#fde0ef"
            ],
            [
             0.5,
             "#f7f7f7"
            ],
            [
             0.6,
             "#e6f5d0"
            ],
            [
             0.7,
             "#b8e186"
            ],
            [
             0.8,
             "#7fbc41"
            ],
            [
             0.9,
             "#4d9221"
            ],
            [
             1,
             "#276419"
            ]
           ],
           "sequential": [
            [
             0,
             "#0d0887"
            ],
            [
             0.1111111111111111,
             "#46039f"
            ],
            [
             0.2222222222222222,
             "#7201a8"
            ],
            [
             0.3333333333333333,
             "#9c179e"
            ],
            [
             0.4444444444444444,
             "#bd3786"
            ],
            [
             0.5555555555555556,
             "#d8576b"
            ],
            [
             0.6666666666666666,
             "#ed7953"
            ],
            [
             0.7777777777777778,
             "#fb9f3a"
            ],
            [
             0.8888888888888888,
             "#fdca26"
            ],
            [
             1,
             "#f0f921"
            ]
           ],
           "sequentialminus": [
            [
             0,
             "#0d0887"
            ],
            [
             0.1111111111111111,
             "#46039f"
            ],
            [
             0.2222222222222222,
             "#7201a8"
            ],
            [
             0.3333333333333333,
             "#9c179e"
            ],
            [
             0.4444444444444444,
             "#bd3786"
            ],
            [
             0.5555555555555556,
             "#d8576b"
            ],
            [
             0.6666666666666666,
             "#ed7953"
            ],
            [
             0.7777777777777778,
             "#fb9f3a"
            ],
            [
             0.8888888888888888,
             "#fdca26"
            ],
            [
             1,
             "#f0f921"
            ]
           ]
          },
          "colorway": [
           "#636efa",
           "#EF553B",
           "#00cc96",
           "#ab63fa",
           "#FFA15A",
           "#19d3f3",
           "#FF6692",
           "#B6E880",
           "#FF97FF",
           "#FECB52"
          ],
          "font": {
           "color": "#2a3f5f"
          },
          "geo": {
           "bgcolor": "white",
           "lakecolor": "white",
           "landcolor": "#E5ECF6",
           "showlakes": true,
           "showland": true,
           "subunitcolor": "white"
          },
          "hoverlabel": {
           "align": "left"
          },
          "hovermode": "closest",
          "mapbox": {
           "style": "light"
          },
          "paper_bgcolor": "white",
          "plot_bgcolor": "#E5ECF6",
          "polar": {
           "angularaxis": {
            "gridcolor": "white",
            "linecolor": "white",
            "ticks": ""
           },
           "bgcolor": "#E5ECF6",
           "radialaxis": {
            "gridcolor": "white",
            "linecolor": "white",
            "ticks": ""
           }
          },
          "scene": {
           "xaxis": {
            "backgroundcolor": "#E5ECF6",
            "gridcolor": "white",
            "gridwidth": 2,
            "linecolor": "white",
            "showbackground": true,
            "ticks": "",
            "zerolinecolor": "white"
           },
           "yaxis": {
            "backgroundcolor": "#E5ECF6",
            "gridcolor": "white",
            "gridwidth": 2,
            "linecolor": "white",
            "showbackground": true,
            "ticks": "",
            "zerolinecolor": "white"
           },
           "zaxis": {
            "backgroundcolor": "#E5ECF6",
            "gridcolor": "white",
            "gridwidth": 2,
            "linecolor": "white",
            "showbackground": true,
            "ticks": "",
            "zerolinecolor": "white"
           }
          },
          "shapedefaults": {
           "line": {
            "color": "#2a3f5f"
           }
          },
          "ternary": {
           "aaxis": {
            "gridcolor": "white",
            "linecolor": "white",
            "ticks": ""
           },
           "baxis": {
            "gridcolor": "white",
            "linecolor": "white",
            "ticks": ""
           },
           "bgcolor": "#E5ECF6",
           "caxis": {
            "gridcolor": "white",
            "linecolor": "white",
            "ticks": ""
           }
          },
          "title": {
           "x": 0.05
          },
          "xaxis": {
           "automargin": true,
           "gridcolor": "white",
           "linecolor": "white",
           "ticks": "",
           "title": {
            "standoff": 15
           },
           "zerolinecolor": "white",
           "zerolinewidth": 2
          },
          "yaxis": {
           "automargin": true,
           "gridcolor": "white",
           "linecolor": "white",
           "ticks": "",
           "title": {
            "standoff": 15
           },
           "zerolinecolor": "white",
           "zerolinewidth": 2
          }
         }
        },
        "title": {
         "text": "Comparision between original close price vs predicted close price"
        },
        "xaxis": {
         "anchor": "y",
         "domain": [
          0,
          1
         ],
         "showgrid": false,
         "title": {
          "text": "Date"
         }
        },
        "yaxis": {
         "anchor": "x",
         "domain": [
          0,
          1
         ],
         "showgrid": false,
         "title": {
          "text": "Price"
         }
        }
       }
      }
     },
     "metadata": {},
     "output_type": "display_data"
    }
   ],
   "source": [
    "# shift train predictions for plotting\n",
    "\n",
    "look_back=time_step\n",
    "trainPredictPlot = np.empty_like(closedf)\n",
    "trainPredictPlot[:, :] = np.nan\n",
    "trainPredictPlot[look_back:len(train_predict)+look_back, :] = train_predict\n",
    "print(\"Train predicted data: \", trainPredictPlot.shape)\n",
    "\n",
    "# shift test predictions for plotting\n",
    "testPredictPlot = np.empty_like(closedf)\n",
    "testPredictPlot[:, :] = np.nan\n",
    "testPredictPlot[len(train_predict)+(look_back*2)+1:len(closedf)-1, :] = test_predict\n",
    "print(\"Test predicted data: \", testPredictPlot.shape)\n",
    "\n",
    "names = cycle(['Original close price','Train predicted close price','Test predicted close price'])\n",
    "\n",
    "\n",
    "plotdf = pd.DataFrame({'date': close_stock['Date'],\n",
    "                       'original_close': close_stock['Close'],\n",
    "                      'train_predicted_close': trainPredictPlot.reshape(1,-1)[0].tolist(),\n",
    "                      'test_predicted_close': testPredictPlot.reshape(1,-1)[0].tolist()})\n",
    "\n",
    "fig = px.line(plotdf,x=plotdf['date'], y=[plotdf['original_close'],plotdf['train_predicted_close'],\n",
    "                                          plotdf['test_predicted_close']],\n",
    "              labels={'value':'Price','date': 'Date'})\n",
    "fig.update_layout(title_text='Comparision between original close price vs predicted close price',\n",
    "                  plot_bgcolor='white', font_size=15, font_color='black', legend_title_text='Close Price')\n",
    "fig.for_each_trace(lambda t:  t.update(name = next(names)))\n",
    "\n",
    "fig.update_xaxes(showgrid=False)\n",
    "fig.update_yaxes(showgrid=False)\n",
    "fig.show()"
   ]
  },
  {
   "cell_type": "markdown",
   "id": "5a76afb6",
   "metadata": {
    "papermill": {
     "duration": 0.262192,
     "end_time": "2021-08-25T15:26:30.261950",
     "exception": false,
     "start_time": "2021-08-25T15:26:29.999758",
     "status": "completed"
    },
    "tags": []
   },
   "source": [
    "- # Predicting next 30 days"
   ]
  },
  {
   "cell_type": "code",
   "execution_count": 27,
   "id": "beb49f38",
   "metadata": {
    "execution": {
     "iopub.execute_input": "2021-08-25T15:26:30.798401Z",
     "iopub.status.busy": "2021-08-25T15:26:30.797744Z",
     "iopub.status.idle": "2021-08-25T15:26:31.897580Z",
     "shell.execute_reply": "2021-08-25T15:26:31.897011Z",
     "shell.execute_reply.started": "2021-08-25T14:39:47.958774Z"
    },
    "papermill": {
     "duration": 1.372971,
     "end_time": "2021-08-25T15:26:31.897712",
     "exception": false,
     "start_time": "2021-08-25T15:26:30.524741",
     "status": "completed"
    },
    "tags": []
   },
   "outputs": [
    {
     "name": "stdout",
     "output_type": "stream",
     "text": [
      "Output of predicted next days:  30\n"
     ]
    }
   ],
   "source": [
    "x_input=test_data[len(test_data)-time_step:].reshape(1,-1)\n",
    "temp_input=list(x_input)\n",
    "temp_input=temp_input[0].tolist()\n",
    "\n",
    "from numpy import array\n",
    "\n",
    "lst_output=[]\n",
    "n_steps=time_step\n",
    "i=0\n",
    "pred_days = 30\n",
    "while(i<pred_days):\n",
    "    \n",
    "    if(len(temp_input)>time_step):\n",
    "        \n",
    "        x_input=np.array(temp_input[1:])\n",
    "        #print(\"{} day input {}\".format(i,x_input))\n",
    "        x_input = x_input.reshape(1,-1)\n",
    "        x_input = x_input.reshape((1, n_steps, 1))\n",
    "        \n",
    "        yhat = model.predict(x_input, verbose=0)\n",
    "        #print(\"{} day output {}\".format(i,yhat))\n",
    "        temp_input.extend(yhat[0].tolist())\n",
    "        temp_input=temp_input[1:]\n",
    "        #print(temp_input)\n",
    "       \n",
    "        lst_output.extend(yhat.tolist())\n",
    "        i=i+1\n",
    "        \n",
    "    else:\n",
    "        \n",
    "        x_input = x_input.reshape((1, n_steps,1))\n",
    "        yhat = model.predict(x_input, verbose=0)\n",
    "        temp_input.extend(yhat[0].tolist())\n",
    "        \n",
    "        lst_output.extend(yhat.tolist())\n",
    "        i=i+1\n",
    "               \n",
    "print(\"Output of predicted next days: \", len(lst_output))"
   ]
  },
  {
   "cell_type": "markdown",
   "id": "26860945",
   "metadata": {
    "papermill": {
     "duration": 0.270338,
     "end_time": "2021-08-25T15:26:32.433546",
     "exception": false,
     "start_time": "2021-08-25T15:26:32.163208",
     "status": "completed"
    },
    "tags": []
   },
   "source": [
    "- # Plotting last 15 days of dataset and next predicted 30 days"
   ]
  },
  {
   "cell_type": "code",
   "execution_count": 28,
   "id": "64fa43b6",
   "metadata": {
    "execution": {
     "iopub.execute_input": "2021-08-25T15:26:32.971099Z",
     "iopub.status.busy": "2021-08-25T15:26:32.970125Z",
     "iopub.status.idle": "2021-08-25T15:26:32.973799Z",
     "shell.execute_reply": "2021-08-25T15:26:32.974493Z",
     "shell.execute_reply.started": "2021-08-25T14:39:49.134916Z"
    },
    "papermill": {
     "duration": 0.277919,
     "end_time": "2021-08-25T15:26:32.974715",
     "exception": false,
     "start_time": "2021-08-25T15:26:32.696796",
     "status": "completed"
    },
    "tags": []
   },
   "outputs": [
    {
     "name": "stdout",
     "output_type": "stream",
     "text": [
      "[ 1  2  3  4  5  6  7  8  9 10 11 12 13 14 15]\n",
      "[16 17 18 19 20 21 22 23 24 25 26 27 28 29 30 31 32 33 34 35 36 37 38 39\n",
      " 40 41 42 43 44 45]\n"
     ]
    }
   ],
   "source": [
    "last_days=np.arange(1,time_step+1)\n",
    "day_pred=np.arange(time_step+1,time_step+pred_days+1)\n",
    "print(last_days)\n",
    "print(day_pred)"
   ]
  },
  {
   "cell_type": "code",
   "execution_count": 29,
   "id": "e398443a",
   "metadata": {
    "execution": {
     "iopub.execute_input": "2021-08-25T15:26:33.522339Z",
     "iopub.status.busy": "2021-08-25T15:26:33.518904Z",
     "iopub.status.idle": "2021-08-25T15:26:33.599954Z",
     "shell.execute_reply": "2021-08-25T15:26:33.600419Z",
     "shell.execute_reply.started": "2021-08-25T14:39:49.142322Z"
    },
    "papermill": {
     "duration": 0.361255,
     "end_time": "2021-08-25T15:26:33.600604",
     "exception": false,
     "start_time": "2021-08-25T15:26:33.239349",
     "status": "completed"
    },
    "tags": []
   },
   "outputs": [
    {
     "data": {
      "application/vnd.plotly.v1+json": {
       "config": {
        "plotlyServerURL": "https://plot.ly"
       },
       "data": [
        {
         "hovertemplate": "variable=last_original_days_value<br>Timestamp=%{x}<br>Price=%{y}<extra></extra>",
         "legendgroup": "last_original_days_value",
         "line": {
          "color": "#636efa",
          "dash": "solid"
         },
         "marker": {
          "symbol": "circle"
         },
         "mode": "lines",
         "name": "Last 15 days close price",
         "orientation": "v",
         "showlegend": true,
         "type": "scatter",
         "x": [
          0,
          1,
          2,
          3,
          4,
          5,
          6,
          7,
          8,
          9,
          10,
          11,
          12,
          13,
          14,
          15,
          16,
          17,
          18,
          19,
          20,
          21,
          22,
          23,
          24,
          25,
          26,
          27,
          28,
          29,
          30,
          31,
          32,
          33,
          34,
          35,
          36,
          37,
          38,
          39,
          40,
          41,
          42,
          43,
          44,
          45
         ],
         "xaxis": "x",
         "y": [
          1309.3287353515625,
          1266.3538818359375,
          1168.2593994140625,
          1188.1495361328125,
          1184.7152099609375,
          1167.60986328125,
          1217.70361328125,
          1213.5999755859375,
          1218.18212890625,
          1220.159423828125,
          1221.1485595703125,
          1218.9620361328125,
          1226.974365234375,
          1212.7916259765625,
          1189.986083984375,
          null,
          1215.2513504317494,
          1216.2712411605903,
          1216.956887313419,
          1218.1778234396147,
          1219.2685396200513,
          1220.360586947102,
          1221.5245795792493,
          1222.345664617737,
          1223.14737407773,
          1223.8856110864722,
          1224.575926817106,
          1225.236450218757,
          1225.866716446576,
          1226.412465429054,
          1227.0389283808327,
          1227.7968579077392,
          1228.3851613232464,
          1228.945890987461,
          1229.4847306851325,
          1229.9993350627024,
          1230.4912465598982,
          1230.9608877629466,
          1231.4085122235838,
          1231.8367611057265,
          1232.2466697456302,
          1232.639125574371,
          1233.0151216695817,
          1233.3752496519796,
          1233.7204392112635,
          1234.0517890716228
         ],
         "yaxis": "y"
        },
        {
         "hovertemplate": "variable=next_predicted_days_value<br>Timestamp=%{x}<br>Price=%{y}<extra></extra>",
         "legendgroup": "next_predicted_days_value",
         "line": {
          "color": "#EF553B",
          "dash": "solid"
         },
         "marker": {
          "symbol": "circle"
         },
         "mode": "lines",
         "name": "Predicted next 30 days close price",
         "orientation": "v",
         "showlegend": true,
         "type": "scatter",
         "x": [
          0,
          1,
          2,
          3,
          4,
          5,
          6,
          7,
          8,
          9,
          10,
          11,
          12,
          13,
          14,
          15,
          16,
          17,
          18,
          19,
          20,
          21,
          22,
          23,
          24,
          25,
          26,
          27,
          28,
          29,
          30,
          31,
          32,
          33,
          34,
          35,
          36,
          37,
          38,
          39,
          40,
          41,
          42,
          43,
          44,
          45
         ],
         "xaxis": "x",
         "y": [
          1309.3287353515625,
          1266.3538818359375,
          1168.2593994140625,
          1188.1495361328125,
          1184.7152099609375,
          1167.60986328125,
          1217.70361328125,
          1213.5999755859375,
          1218.18212890625,
          1220.159423828125,
          1221.1485595703125,
          1218.9620361328125,
          1226.974365234375,
          1212.7916259765625,
          1189.986083984375,
          null,
          1215.2513504317494,
          1216.2712411605903,
          1216.956887313419,
          1218.1778234396147,
          1219.2685396200513,
          1220.360586947102,
          1221.5245795792493,
          1222.345664617737,
          1223.14737407773,
          1223.8856110864722,
          1224.575926817106,
          1225.236450218757,
          1225.866716446576,
          1226.412465429054,
          1227.0389283808327,
          1227.7968579077392,
          1228.3851613232464,
          1228.945890987461,
          1229.4847306851325,
          1229.9993350627024,
          1230.4912465598982,
          1230.9608877629466,
          1231.4085122235838,
          1231.8367611057265,
          1232.2466697456302,
          1232.639125574371,
          1233.0151216695817,
          1233.3752496519796,
          1233.7204392112635,
          1234.0517890716228
         ],
         "yaxis": "y"
        }
       ],
       "layout": {
        "font": {
         "color": "black",
         "size": 15
        },
        "legend": {
         "title": {
          "text": "Close Price"
         },
         "tracegroupgap": 0
        },
        "margin": {
         "t": 60
        },
        "plot_bgcolor": "white",
        "template": {
         "data": {
          "bar": [
           {
            "error_x": {
             "color": "#2a3f5f"
            },
            "error_y": {
             "color": "#2a3f5f"
            },
            "marker": {
             "line": {
              "color": "#E5ECF6",
              "width": 0.5
             },
             "pattern": {
              "fillmode": "overlay",
              "size": 10,
              "solidity": 0.2
             }
            },
            "type": "bar"
           }
          ],
          "barpolar": [
           {
            "marker": {
             "line": {
              "color": "#E5ECF6",
              "width": 0.5
             },
             "pattern": {
              "fillmode": "overlay",
              "size": 10,
              "solidity": 0.2
             }
            },
            "type": "barpolar"
           }
          ],
          "carpet": [
           {
            "aaxis": {
             "endlinecolor": "#2a3f5f",
             "gridcolor": "white",
             "linecolor": "white",
             "minorgridcolor": "white",
             "startlinecolor": "#2a3f5f"
            },
            "baxis": {
             "endlinecolor": "#2a3f5f",
             "gridcolor": "white",
             "linecolor": "white",
             "minorgridcolor": "white",
             "startlinecolor": "#2a3f5f"
            },
            "type": "carpet"
           }
          ],
          "choropleth": [
           {
            "colorbar": {
             "outlinewidth": 0,
             "ticks": ""
            },
            "type": "choropleth"
           }
          ],
          "contour": [
           {
            "colorbar": {
             "outlinewidth": 0,
             "ticks": ""
            },
            "colorscale": [
             [
              0,
              "#0d0887"
             ],
             [
              0.1111111111111111,
              "#46039f"
             ],
             [
              0.2222222222222222,
              "#7201a8"
             ],
             [
              0.3333333333333333,
              "#9c179e"
             ],
             [
              0.4444444444444444,
              "#bd3786"
             ],
             [
              0.5555555555555556,
              "#d8576b"
             ],
             [
              0.6666666666666666,
              "#ed7953"
             ],
             [
              0.7777777777777778,
              "#fb9f3a"
             ],
             [
              0.8888888888888888,
              "#fdca26"
             ],
             [
              1,
              "#f0f921"
             ]
            ],
            "type": "contour"
           }
          ],
          "contourcarpet": [
           {
            "colorbar": {
             "outlinewidth": 0,
             "ticks": ""
            },
            "type": "contourcarpet"
           }
          ],
          "heatmap": [
           {
            "colorbar": {
             "outlinewidth": 0,
             "ticks": ""
            },
            "colorscale": [
             [
              0,
              "#0d0887"
             ],
             [
              0.1111111111111111,
              "#46039f"
             ],
             [
              0.2222222222222222,
              "#7201a8"
             ],
             [
              0.3333333333333333,
              "#9c179e"
             ],
             [
              0.4444444444444444,
              "#bd3786"
             ],
             [
              0.5555555555555556,
              "#d8576b"
             ],
             [
              0.6666666666666666,
              "#ed7953"
             ],
             [
              0.7777777777777778,
              "#fb9f3a"
             ],
             [
              0.8888888888888888,
              "#fdca26"
             ],
             [
              1,
              "#f0f921"
             ]
            ],
            "type": "heatmap"
           }
          ],
          "heatmapgl": [
           {
            "colorbar": {
             "outlinewidth": 0,
             "ticks": ""
            },
            "colorscale": [
             [
              0,
              "#0d0887"
             ],
             [
              0.1111111111111111,
              "#46039f"
             ],
             [
              0.2222222222222222,
              "#7201a8"
             ],
             [
              0.3333333333333333,
              "#9c179e"
             ],
             [
              0.4444444444444444,
              "#bd3786"
             ],
             [
              0.5555555555555556,
              "#d8576b"
             ],
             [
              0.6666666666666666,
              "#ed7953"
             ],
             [
              0.7777777777777778,
              "#fb9f3a"
             ],
             [
              0.8888888888888888,
              "#fdca26"
             ],
             [
              1,
              "#f0f921"
             ]
            ],
            "type": "heatmapgl"
           }
          ],
          "histogram": [
           {
            "marker": {
             "pattern": {
              "fillmode": "overlay",
              "size": 10,
              "solidity": 0.2
             }
            },
            "type": "histogram"
           }
          ],
          "histogram2d": [
           {
            "colorbar": {
             "outlinewidth": 0,
             "ticks": ""
            },
            "colorscale": [
             [
              0,
              "#0d0887"
             ],
             [
              0.1111111111111111,
              "#46039f"
             ],
             [
              0.2222222222222222,
              "#7201a8"
             ],
             [
              0.3333333333333333,
              "#9c179e"
             ],
             [
              0.4444444444444444,
              "#bd3786"
             ],
             [
              0.5555555555555556,
              "#d8576b"
             ],
             [
              0.6666666666666666,
              "#ed7953"
             ],
             [
              0.7777777777777778,
              "#fb9f3a"
             ],
             [
              0.8888888888888888,
              "#fdca26"
             ],
             [
              1,
              "#f0f921"
             ]
            ],
            "type": "histogram2d"
           }
          ],
          "histogram2dcontour": [
           {
            "colorbar": {
             "outlinewidth": 0,
             "ticks": ""
            },
            "colorscale": [
             [
              0,
              "#0d0887"
             ],
             [
              0.1111111111111111,
              "#46039f"
             ],
             [
              0.2222222222222222,
              "#7201a8"
             ],
             [
              0.3333333333333333,
              "#9c179e"
             ],
             [
              0.4444444444444444,
              "#bd3786"
             ],
             [
              0.5555555555555556,
              "#d8576b"
             ],
             [
              0.6666666666666666,
              "#ed7953"
             ],
             [
              0.7777777777777778,
              "#fb9f3a"
             ],
             [
              0.8888888888888888,
              "#fdca26"
             ],
             [
              1,
              "#f0f921"
             ]
            ],
            "type": "histogram2dcontour"
           }
          ],
          "mesh3d": [
           {
            "colorbar": {
             "outlinewidth": 0,
             "ticks": ""
            },
            "type": "mesh3d"
           }
          ],
          "parcoords": [
           {
            "line": {
             "colorbar": {
              "outlinewidth": 0,
              "ticks": ""
             }
            },
            "type": "parcoords"
           }
          ],
          "pie": [
           {
            "automargin": true,
            "type": "pie"
           }
          ],
          "scatter": [
           {
            "fillpattern": {
             "fillmode": "overlay",
             "size": 10,
             "solidity": 0.2
            },
            "type": "scatter"
           }
          ],
          "scatter3d": [
           {
            "line": {
             "colorbar": {
              "outlinewidth": 0,
              "ticks": ""
             }
            },
            "marker": {
             "colorbar": {
              "outlinewidth": 0,
              "ticks": ""
             }
            },
            "type": "scatter3d"
           }
          ],
          "scattercarpet": [
           {
            "marker": {
             "colorbar": {
              "outlinewidth": 0,
              "ticks": ""
             }
            },
            "type": "scattercarpet"
           }
          ],
          "scattergeo": [
           {
            "marker": {
             "colorbar": {
              "outlinewidth": 0,
              "ticks": ""
             }
            },
            "type": "scattergeo"
           }
          ],
          "scattergl": [
           {
            "marker": {
             "colorbar": {
              "outlinewidth": 0,
              "ticks": ""
             }
            },
            "type": "scattergl"
           }
          ],
          "scattermapbox": [
           {
            "marker": {
             "colorbar": {
              "outlinewidth": 0,
              "ticks": ""
             }
            },
            "type": "scattermapbox"
           }
          ],
          "scatterpolar": [
           {
            "marker": {
             "colorbar": {
              "outlinewidth": 0,
              "ticks": ""
             }
            },
            "type": "scatterpolar"
           }
          ],
          "scatterpolargl": [
           {
            "marker": {
             "colorbar": {
              "outlinewidth": 0,
              "ticks": ""
             }
            },
            "type": "scatterpolargl"
           }
          ],
          "scatterternary": [
           {
            "marker": {
             "colorbar": {
              "outlinewidth": 0,
              "ticks": ""
             }
            },
            "type": "scatterternary"
           }
          ],
          "surface": [
           {
            "colorbar": {
             "outlinewidth": 0,
             "ticks": ""
            },
            "colorscale": [
             [
              0,
              "#0d0887"
             ],
             [
              0.1111111111111111,
              "#46039f"
             ],
             [
              0.2222222222222222,
              "#7201a8"
             ],
             [
              0.3333333333333333,
              "#9c179e"
             ],
             [
              0.4444444444444444,
              "#bd3786"
             ],
             [
              0.5555555555555556,
              "#d8576b"
             ],
             [
              0.6666666666666666,
              "#ed7953"
             ],
             [
              0.7777777777777778,
              "#fb9f3a"
             ],
             [
              0.8888888888888888,
              "#fdca26"
             ],
             [
              1,
              "#f0f921"
             ]
            ],
            "type": "surface"
           }
          ],
          "table": [
           {
            "cells": {
             "fill": {
              "color": "#EBF0F8"
             },
             "line": {
              "color": "white"
             }
            },
            "header": {
             "fill": {
              "color": "#C8D4E3"
             },
             "line": {
              "color": "white"
             }
            },
            "type": "table"
           }
          ]
         },
         "layout": {
          "annotationdefaults": {
           "arrowcolor": "#2a3f5f",
           "arrowhead": 0,
           "arrowwidth": 1
          },
          "autotypenumbers": "strict",
          "coloraxis": {
           "colorbar": {
            "outlinewidth": 0,
            "ticks": ""
           }
          },
          "colorscale": {
           "diverging": [
            [
             0,
             "#8e0152"
            ],
            [
             0.1,
             "#c51b7d"
            ],
            [
             0.2,
             "#de77ae"
            ],
            [
             0.3,
             "#f1b6da"
            ],
            [
             0.4,
             "#fde0ef"
            ],
            [
             0.5,
             "#f7f7f7"
            ],
            [
             0.6,
             "#e6f5d0"
            ],
            [
             0.7,
             "#b8e186"
            ],
            [
             0.8,
             "#7fbc41"
            ],
            [
             0.9,
             "#4d9221"
            ],
            [
             1,
             "#276419"
            ]
           ],
           "sequential": [
            [
             0,
             "#0d0887"
            ],
            [
             0.1111111111111111,
             "#46039f"
            ],
            [
             0.2222222222222222,
             "#7201a8"
            ],
            [
             0.3333333333333333,
             "#9c179e"
            ],
            [
             0.4444444444444444,
             "#bd3786"
            ],
            [
             0.5555555555555556,
             "#d8576b"
            ],
            [
             0.6666666666666666,
             "#ed7953"
            ],
            [
             0.7777777777777778,
             "#fb9f3a"
            ],
            [
             0.8888888888888888,
             "#fdca26"
            ],
            [
             1,
             "#f0f921"
            ]
           ],
           "sequentialminus": [
            [
             0,
             "#0d0887"
            ],
            [
             0.1111111111111111,
             "#46039f"
            ],
            [
             0.2222222222222222,
             "#7201a8"
            ],
            [
             0.3333333333333333,
             "#9c179e"
            ],
            [
             0.4444444444444444,
             "#bd3786"
            ],
            [
             0.5555555555555556,
             "#d8576b"
            ],
            [
             0.6666666666666666,
             "#ed7953"
            ],
            [
             0.7777777777777778,
             "#fb9f3a"
            ],
            [
             0.8888888888888888,
             "#fdca26"
            ],
            [
             1,
             "#f0f921"
            ]
           ]
          },
          "colorway": [
           "#636efa",
           "#EF553B",
           "#00cc96",
           "#ab63fa",
           "#FFA15A",
           "#19d3f3",
           "#FF6692",
           "#B6E880",
           "#FF97FF",
           "#FECB52"
          ],
          "font": {
           "color": "#2a3f5f"
          },
          "geo": {
           "bgcolor": "white",
           "lakecolor": "white",
           "landcolor": "#E5ECF6",
           "showlakes": true,
           "showland": true,
           "subunitcolor": "white"
          },
          "hoverlabel": {
           "align": "left"
          },
          "hovermode": "closest",
          "mapbox": {
           "style": "light"
          },
          "paper_bgcolor": "white",
          "plot_bgcolor": "#E5ECF6",
          "polar": {
           "angularaxis": {
            "gridcolor": "white",
            "linecolor": "white",
            "ticks": ""
           },
           "bgcolor": "#E5ECF6",
           "radialaxis": {
            "gridcolor": "white",
            "linecolor": "white",
            "ticks": ""
           }
          },
          "scene": {
           "xaxis": {
            "backgroundcolor": "#E5ECF6",
            "gridcolor": "white",
            "gridwidth": 2,
            "linecolor": "white",
            "showbackground": true,
            "ticks": "",
            "zerolinecolor": "white"
           },
           "yaxis": {
            "backgroundcolor": "#E5ECF6",
            "gridcolor": "white",
            "gridwidth": 2,
            "linecolor": "white",
            "showbackground": true,
            "ticks": "",
            "zerolinecolor": "white"
           },
           "zaxis": {
            "backgroundcolor": "#E5ECF6",
            "gridcolor": "white",
            "gridwidth": 2,
            "linecolor": "white",
            "showbackground": true,
            "ticks": "",
            "zerolinecolor": "white"
           }
          },
          "shapedefaults": {
           "line": {
            "color": "#2a3f5f"
           }
          },
          "ternary": {
           "aaxis": {
            "gridcolor": "white",
            "linecolor": "white",
            "ticks": ""
           },
           "baxis": {
            "gridcolor": "white",
            "linecolor": "white",
            "ticks": ""
           },
           "bgcolor": "#E5ECF6",
           "caxis": {
            "gridcolor": "white",
            "linecolor": "white",
            "ticks": ""
           }
          },
          "title": {
           "x": 0.05
          },
          "xaxis": {
           "automargin": true,
           "gridcolor": "white",
           "linecolor": "white",
           "ticks": "",
           "title": {
            "standoff": 15
           },
           "zerolinecolor": "white",
           "zerolinewidth": 2
          },
          "yaxis": {
           "automargin": true,
           "gridcolor": "white",
           "linecolor": "white",
           "ticks": "",
           "title": {
            "standoff": 15
           },
           "zerolinecolor": "white",
           "zerolinewidth": 2
          }
         }
        },
        "title": {
         "text": "Compare last 15 days vs next 30 days"
        },
        "xaxis": {
         "anchor": "y",
         "domain": [
          0,
          1
         ],
         "showgrid": false,
         "title": {
          "text": "Timestamp"
         }
        },
        "yaxis": {
         "anchor": "x",
         "domain": [
          0,
          1
         ],
         "showgrid": false,
         "title": {
          "text": "Price"
         }
        }
       }
      }
     },
     "metadata": {},
     "output_type": "display_data"
    }
   ],
   "source": [
    "temp_mat = np.empty((len(last_days)+pred_days+1,1))\n",
    "temp_mat[:] = np.nan\n",
    "temp_mat = temp_mat.reshape(1,-1).tolist()[0]\n",
    "\n",
    "last_original_days_value = temp_mat\n",
    "next_predicted_days_value = temp_mat\n",
    "\n",
    "last_original_days_value[0:time_step+1] = scaler.inverse_transform(closedf[len(closedf)-time_step:]).reshape(1,-1).tolist()[0]\n",
    "next_predicted_days_value[time_step+1:] = scaler.inverse_transform(np.array(lst_output).reshape(-1,1)).reshape(1,-1).tolist()[0]\n",
    "\n",
    "new_pred_plot = pd.DataFrame({\n",
    "    'last_original_days_value':last_original_days_value,\n",
    "    'next_predicted_days_value':next_predicted_days_value\n",
    "})\n",
    "\n",
    "names = cycle(['Last 15 days close price','Predicted next 30 days close price'])\n",
    "\n",
    "fig = px.line(new_pred_plot,x=new_pred_plot.index, y=[new_pred_plot['last_original_days_value'],\n",
    "                                                      new_pred_plot['next_predicted_days_value']],\n",
    "              labels={'value': 'Price','index': 'Timestamp'})\n",
    "fig.update_layout(title_text='Compare last 15 days vs next 30 days',\n",
    "                  plot_bgcolor='white', font_size=15, font_color='black',legend_title_text='Close Price')\n",
    "\n",
    "fig.for_each_trace(lambda t:  t.update(name = next(names)))\n",
    "fig.update_xaxes(showgrid=False)\n",
    "fig.update_yaxes(showgrid=False)\n",
    "fig.show()\n",
    "\n"
   ]
  },
  {
   "cell_type": "markdown",
   "id": "26c00a96",
   "metadata": {
    "papermill": {
     "duration": 0.269051,
     "end_time": "2021-08-25T15:26:34.140809",
     "exception": false,
     "start_time": "2021-08-25T15:26:33.871758",
     "status": "completed"
    },
    "tags": []
   },
   "source": [
    "- # Plotting entire Closing Stock Price with next 30 days period of prediction"
   ]
  },
  {
   "cell_type": "code",
   "execution_count": 30,
   "id": "13895bd3",
   "metadata": {},
   "outputs": [
    {
     "data": {
      "text/plain": [
       "[1309.3287353515625,\n",
       " 1266.3538818359375,\n",
       " 1168.2593994140625,\n",
       " 1188.1495361328125,\n",
       " 1184.7152099609375,\n",
       " 1167.60986328125,\n",
       " 1217.70361328125,\n",
       " 1213.5999755859375,\n",
       " 1218.18212890625,\n",
       " 1220.159423828125,\n",
       " 1221.1485595703125,\n",
       " 1218.9620361328125,\n",
       " 1226.974365234375,\n",
       " 1212.7916259765625,\n",
       " 1189.986083984375,\n",
       " nan,\n",
       " 1215.2513504317494,\n",
       " 1216.2712411605903,\n",
       " 1216.956887313419,\n",
       " 1218.1778234396147,\n",
       " 1219.2685396200513,\n",
       " 1220.360586947102,\n",
       " 1221.5245795792493,\n",
       " 1222.345664617737,\n",
       " 1223.14737407773,\n",
       " 1223.8856110864722,\n",
       " 1224.575926817106,\n",
       " 1225.236450218757,\n",
       " 1225.866716446576,\n",
       " 1226.412465429054,\n",
       " 1227.0389283808327,\n",
       " 1227.7968579077392,\n",
       " 1228.3851613232464,\n",
       " 1228.945890987461,\n",
       " 1229.4847306851325,\n",
       " 1229.9993350627024,\n",
       " 1230.4912465598982,\n",
       " 1230.9608877629466,\n",
       " 1231.4085122235838,\n",
       " 1231.8367611057265,\n",
       " 1232.2466697456302,\n",
       " 1232.639125574371,\n",
       " 1233.0151216695817,\n",
       " 1233.3752496519796,\n",
       " 1233.7204392112635,\n",
       " 1234.0517890716228]"
      ]
     },
     "execution_count": 30,
     "metadata": {},
     "output_type": "execute_result"
    }
   ],
   "source": [
    "next_predicted_days_value"
   ]
  }
 ],
 "metadata": {
  "kernelspec": {
   "display_name": "Python 3.10.6 64-bit",
   "language": "python",
   "name": "python3"
  },
  "language_info": {
   "codemirror_mode": {
    "name": "ipython",
    "version": 3
   },
   "file_extension": ".py",
   "mimetype": "text/x-python",
   "name": "python",
   "nbconvert_exporter": "python",
   "pygments_lexer": "ipython3",
   "version": "3.10.6"
  },
  "papermill": {
   "default_parameters": {},
   "duration": 78.989472,
   "end_time": "2021-08-25T15:26:37.833221",
   "environment_variables": {},
   "exception": null,
   "input_path": "__notebook__.ipynb",
   "output_path": "__notebook__.ipynb",
   "parameters": {},
   "start_time": "2021-08-25T15:25:18.843749",
   "version": "2.3.3"
  },
  "vscode": {
   "interpreter": {
    "hash": "2fb601f98628d10ac934d3ad0c7e38fe440f8fa5bc06c5a0f74051b06bc205b5"
   }
  }
 },
 "nbformat": 4,
 "nbformat_minor": 5
}
