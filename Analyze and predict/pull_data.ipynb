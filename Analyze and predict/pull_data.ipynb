{
 "cells": [
  {
   "cell_type": "code",
   "execution_count": 1,
   "metadata": {},
   "outputs": [],
   "source": [
    "import pandas as pd\n",
    "import numpy as np\n",
    "from sklearn.svm import SVR\n",
    "import matplotlib.pyplot as plt\n",
    "import yfinance as yf\n",
    "from datetime import datetime\n"
   ]
  },
  {
   "cell_type": "code",
   "execution_count": 2,
   "metadata": {},
   "outputs": [
    {
     "data": {
      "text/plain": [
       "'2022-12-29'"
      ]
     },
     "execution_count": 2,
     "metadata": {},
     "output_type": "execute_result"
    }
   ],
   "source": [
    "today = datetime.today().strftime('%Y-%m-%d')\n",
    "today\n"
   ]
  },
  {
   "cell_type": "code",
   "execution_count": 3,
   "metadata": {},
   "outputs": [
    {
     "name": "stdout",
     "output_type": "stream",
     "text": [
      "[*********************100%***********************]  1 of 1 completed\n",
      "[*********************100%***********************]  1 of 1 completed\n",
      "[*********************100%***********************]  1 of 1 completed\n",
      "[*********************100%***********************]  1 of 1 completed\n",
      "[*********************100%***********************]  1 of 1 completed\n",
      "[*********************100%***********************]  1 of 1 completed\n",
      "[*********************100%***********************]  1 of 1 completed\n"
     ]
    }
   ],
   "source": [
    "BTC = yf.download('BTC-USD', start= '2018-01-01', end= today)\n",
    "ETH = yf.download('ETH-USD', start= '2018-01-01', end= today)\n",
    "LTC = yf.download('LTC-USD', start= '2018-01-01', end= today)\n",
    "BCH = yf.download('BCH-USD', start= '2018-01-01', end= today)\n",
    "XRP = yf.download('XRP-USD', start= '2018-01-01', end= today)\n",
    "XMR = yf.download('XMR-USD', start= '2018-01-01', end= today)\n",
    "ZEC = yf.download('ZEC-USD', start= '2018-01-01', end= today)"
   ]
  },
  {
   "cell_type": "code",
   "execution_count": 4,
   "metadata": {},
   "outputs": [],
   "source": [
    "BTC['oc_diff'] = BTC['Close'] - BTC['Open']\n",
    "BTC['symbol'] = ('BTC')\n",
    "BTC['Name'] = ('Bitcoin')"
   ]
  },
  {
   "cell_type": "code",
   "execution_count": 5,
   "metadata": {},
   "outputs": [],
   "source": [
    "ETH['oc_diff'] = ETH['Close'] - ETH['Open']\n",
    "ETH['symbol'] = ('ETH')\n",
    "ETH['Name'] = ('Etherium')"
   ]
  },
  {
   "cell_type": "code",
   "execution_count": 6,
   "metadata": {},
   "outputs": [],
   "source": [
    "LTC['oc_diff'] = LTC['Close'] - LTC['Open']\n",
    "LTC['symbol'] = ('LTC')\n",
    "LTC['Name'] = ('Litecoin')"
   ]
  },
  {
   "cell_type": "code",
   "execution_count": 7,
   "metadata": {},
   "outputs": [],
   "source": [
    "BCH['oc_diff'] = BCH['Close'] - BCH['Open']\n",
    "BCH['symbol'] = ('BCH')\n",
    "BCH['Name'] = ('Bitcoin Cash')"
   ]
  },
  {
   "cell_type": "code",
   "execution_count": 8,
   "metadata": {},
   "outputs": [],
   "source": [
    "XRP['oc_diff'] = XRP['Close'] - XRP['Open']\n",
    "XRP['symbol'] = ('XRP')\n",
    "XRP['Name'] = ('Ripple')"
   ]
  },
  {
   "cell_type": "code",
   "execution_count": 9,
   "metadata": {},
   "outputs": [],
   "source": [
    "XMR['oc_diff'] = XMR['Close'] - XMR['Open']\n",
    "XMR['symbol'] = ('XMR')\n",
    "XMR['Name'] = ('Monero')"
   ]
  },
  {
   "cell_type": "code",
   "execution_count": 10,
   "metadata": {},
   "outputs": [],
   "source": [
    "ZEC['oc_diff'] = ZEC['Close'] - ZEC['Open']\n",
    "ZEC['symbol'] = ('ZEC')\n",
    "ZEC['Name'] = ('Zcash')"
   ]
  },
  {
   "cell_type": "code",
   "execution_count": 11,
   "metadata": {},
   "outputs": [],
   "source": [
    "df = pd.concat([BTC, ETH, LTC, BCH, XRP, XMR, ZEC], axis=0)"
   ]
  },
  {
   "cell_type": "code",
   "execution_count": 12,
   "metadata": {},
   "outputs": [
    {
     "data": {
      "text/html": [
       "<div>\n",
       "<style scoped>\n",
       "    .dataframe tbody tr th:only-of-type {\n",
       "        vertical-align: middle;\n",
       "    }\n",
       "\n",
       "    .dataframe tbody tr th {\n",
       "        vertical-align: top;\n",
       "    }\n",
       "\n",
       "    .dataframe thead th {\n",
       "        text-align: right;\n",
       "    }\n",
       "</style>\n",
       "<table border=\"1\" class=\"dataframe\">\n",
       "  <thead>\n",
       "    <tr style=\"text-align: right;\">\n",
       "      <th></th>\n",
       "      <th>Open</th>\n",
       "      <th>High</th>\n",
       "      <th>Low</th>\n",
       "      <th>Close</th>\n",
       "      <th>Adj Close</th>\n",
       "      <th>Volume</th>\n",
       "      <th>oc_diff</th>\n",
       "      <th>symbol</th>\n",
       "      <th>Name</th>\n",
       "    </tr>\n",
       "    <tr>\n",
       "      <th>Date</th>\n",
       "      <th></th>\n",
       "      <th></th>\n",
       "      <th></th>\n",
       "      <th></th>\n",
       "      <th></th>\n",
       "      <th></th>\n",
       "      <th></th>\n",
       "      <th></th>\n",
       "      <th></th>\n",
       "    </tr>\n",
       "  </thead>\n",
       "  <tbody>\n",
       "    <tr>\n",
       "      <th>2017-12-31</th>\n",
       "      <td>12897.700195</td>\n",
       "      <td>14377.400391</td>\n",
       "      <td>12755.599609</td>\n",
       "      <td>14156.400391</td>\n",
       "      <td>14156.400391</td>\n",
       "      <td>12136299520</td>\n",
       "      <td>1258.700195</td>\n",
       "      <td>BTC</td>\n",
       "      <td>Bitcoin</td>\n",
       "    </tr>\n",
       "    <tr>\n",
       "      <th>2018-01-01</th>\n",
       "      <td>14112.200195</td>\n",
       "      <td>14112.200195</td>\n",
       "      <td>13154.700195</td>\n",
       "      <td>13657.200195</td>\n",
       "      <td>13657.200195</td>\n",
       "      <td>10291200000</td>\n",
       "      <td>-455.000000</td>\n",
       "      <td>BTC</td>\n",
       "      <td>Bitcoin</td>\n",
       "    </tr>\n",
       "    <tr>\n",
       "      <th>2018-01-02</th>\n",
       "      <td>13625.000000</td>\n",
       "      <td>15444.599609</td>\n",
       "      <td>13163.599609</td>\n",
       "      <td>14982.099609</td>\n",
       "      <td>14982.099609</td>\n",
       "      <td>16846600192</td>\n",
       "      <td>1357.099609</td>\n",
       "      <td>BTC</td>\n",
       "      <td>Bitcoin</td>\n",
       "    </tr>\n",
       "    <tr>\n",
       "      <th>2018-01-03</th>\n",
       "      <td>14978.200195</td>\n",
       "      <td>15572.799805</td>\n",
       "      <td>14844.500000</td>\n",
       "      <td>15201.000000</td>\n",
       "      <td>15201.000000</td>\n",
       "      <td>16871900160</td>\n",
       "      <td>222.799805</td>\n",
       "      <td>BTC</td>\n",
       "      <td>Bitcoin</td>\n",
       "    </tr>\n",
       "    <tr>\n",
       "      <th>2018-01-04</th>\n",
       "      <td>15270.700195</td>\n",
       "      <td>15739.700195</td>\n",
       "      <td>14522.200195</td>\n",
       "      <td>15599.200195</td>\n",
       "      <td>15599.200195</td>\n",
       "      <td>21783199744</td>\n",
       "      <td>328.500000</td>\n",
       "      <td>BTC</td>\n",
       "      <td>Bitcoin</td>\n",
       "    </tr>\n",
       "    <tr>\n",
       "      <th>...</th>\n",
       "      <td>...</td>\n",
       "      <td>...</td>\n",
       "      <td>...</td>\n",
       "      <td>...</td>\n",
       "      <td>...</td>\n",
       "      <td>...</td>\n",
       "      <td>...</td>\n",
       "      <td>...</td>\n",
       "      <td>...</td>\n",
       "    </tr>\n",
       "    <tr>\n",
       "      <th>2022-12-24</th>\n",
       "      <td>39.369915</td>\n",
       "      <td>39.972832</td>\n",
       "      <td>39.087437</td>\n",
       "      <td>39.748718</td>\n",
       "      <td>39.748718</td>\n",
       "      <td>33190487</td>\n",
       "      <td>0.378803</td>\n",
       "      <td>ZEC</td>\n",
       "      <td>Zcash</td>\n",
       "    </tr>\n",
       "    <tr>\n",
       "      <th>2022-12-25</th>\n",
       "      <td>39.749672</td>\n",
       "      <td>40.295368</td>\n",
       "      <td>39.494064</td>\n",
       "      <td>39.954639</td>\n",
       "      <td>39.954639</td>\n",
       "      <td>34293133</td>\n",
       "      <td>0.204967</td>\n",
       "      <td>ZEC</td>\n",
       "      <td>Zcash</td>\n",
       "    </tr>\n",
       "    <tr>\n",
       "      <th>2022-12-26</th>\n",
       "      <td>39.952675</td>\n",
       "      <td>40.407681</td>\n",
       "      <td>39.827381</td>\n",
       "      <td>40.343113</td>\n",
       "      <td>40.343113</td>\n",
       "      <td>35794643</td>\n",
       "      <td>0.390438</td>\n",
       "      <td>ZEC</td>\n",
       "      <td>Zcash</td>\n",
       "    </tr>\n",
       "    <tr>\n",
       "      <th>2022-12-27</th>\n",
       "      <td>40.344112</td>\n",
       "      <td>40.439667</td>\n",
       "      <td>38.205612</td>\n",
       "      <td>38.744732</td>\n",
       "      <td>38.744732</td>\n",
       "      <td>35383851</td>\n",
       "      <td>-1.599380</td>\n",
       "      <td>ZEC</td>\n",
       "      <td>Zcash</td>\n",
       "    </tr>\n",
       "    <tr>\n",
       "      <th>2022-12-28</th>\n",
       "      <td>38.738964</td>\n",
       "      <td>38.945629</td>\n",
       "      <td>37.177094</td>\n",
       "      <td>37.450596</td>\n",
       "      <td>37.450596</td>\n",
       "      <td>40210321</td>\n",
       "      <td>-1.288368</td>\n",
       "      <td>ZEC</td>\n",
       "      <td>Zcash</td>\n",
       "    </tr>\n",
       "  </tbody>\n",
       "</table>\n",
       "<p>12768 rows × 9 columns</p>\n",
       "</div>"
      ],
      "text/plain": [
       "                    Open          High           Low         Close  \\\n",
       "Date                                                                 \n",
       "2017-12-31  12897.700195  14377.400391  12755.599609  14156.400391   \n",
       "2018-01-01  14112.200195  14112.200195  13154.700195  13657.200195   \n",
       "2018-01-02  13625.000000  15444.599609  13163.599609  14982.099609   \n",
       "2018-01-03  14978.200195  15572.799805  14844.500000  15201.000000   \n",
       "2018-01-04  15270.700195  15739.700195  14522.200195  15599.200195   \n",
       "...                  ...           ...           ...           ...   \n",
       "2022-12-24     39.369915     39.972832     39.087437     39.748718   \n",
       "2022-12-25     39.749672     40.295368     39.494064     39.954639   \n",
       "2022-12-26     39.952675     40.407681     39.827381     40.343113   \n",
       "2022-12-27     40.344112     40.439667     38.205612     38.744732   \n",
       "2022-12-28     38.738964     38.945629     37.177094     37.450596   \n",
       "\n",
       "               Adj Close       Volume      oc_diff symbol     Name  \n",
       "Date                                                                \n",
       "2017-12-31  14156.400391  12136299520  1258.700195    BTC  Bitcoin  \n",
       "2018-01-01  13657.200195  10291200000  -455.000000    BTC  Bitcoin  \n",
       "2018-01-02  14982.099609  16846600192  1357.099609    BTC  Bitcoin  \n",
       "2018-01-03  15201.000000  16871900160   222.799805    BTC  Bitcoin  \n",
       "2018-01-04  15599.200195  21783199744   328.500000    BTC  Bitcoin  \n",
       "...                  ...          ...          ...    ...      ...  \n",
       "2022-12-24     39.748718     33190487     0.378803    ZEC    Zcash  \n",
       "2022-12-25     39.954639     34293133     0.204967    ZEC    Zcash  \n",
       "2022-12-26     40.343113     35794643     0.390438    ZEC    Zcash  \n",
       "2022-12-27     38.744732     35383851    -1.599380    ZEC    Zcash  \n",
       "2022-12-28     37.450596     40210321    -1.288368    ZEC    Zcash  \n",
       "\n",
       "[12768 rows x 9 columns]"
      ]
     },
     "execution_count": 12,
     "metadata": {},
     "output_type": "execute_result"
    }
   ],
   "source": [
    "df"
   ]
  },
  {
   "cell_type": "code",
   "execution_count": 13,
   "metadata": {},
   "outputs": [],
   "source": [
    "df.to_csv('crypto-markets.csv')"
   ]
  }
 ],
 "metadata": {
  "kernelspec": {
   "display_name": "Python 3",
   "language": "python",
   "name": "python3"
  },
  "language_info": {
   "codemirror_mode": {
    "name": "ipython",
    "version": 3
   },
   "file_extension": ".py",
   "mimetype": "text/x-python",
   "name": "python",
   "nbconvert_exporter": "python",
   "pygments_lexer": "ipython3",
   "version": "3.10.6"
  },
  "orig_nbformat": 4,
  "vscode": {
   "interpreter": {
    "hash": "2fb601f98628d10ac934d3ad0c7e38fe440f8fa5bc06c5a0f74051b06bc205b5"
   }
  }
 },
 "nbformat": 4,
 "nbformat_minor": 2
}
