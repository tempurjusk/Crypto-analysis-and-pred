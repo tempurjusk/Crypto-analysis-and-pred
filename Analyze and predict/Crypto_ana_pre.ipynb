{
 "cells": [
  {
   "cell_type": "code",
   "execution_count": 41,
   "id": "1c8da167",
   "metadata": {
    "execution": {
     "iopub.execute_input": "2021-08-25T15:25:27.782935Z",
     "iopub.status.busy": "2021-08-25T15:25:27.782308Z",
     "iopub.status.idle": "2021-08-25T15:25:35.581250Z",
     "shell.execute_reply": "2021-08-25T15:25:35.581774Z",
     "shell.execute_reply.started": "2021-08-25T14:39:09.654385Z"
    },
    "papermill": {
     "duration": 7.892655,
     "end_time": "2021-08-25T15:25:35.582092",
     "exception": false,
     "start_time": "2021-08-25T15:25:27.689437",
     "status": "completed"
    },
    "tags": []
   },
   "outputs": [],
   "source": [
    "# First we will import the necessary Library \n",
    "\n",
    "import os\n",
    "import pandas as pd\n",
    "import numpy as np\n",
    "import math\n",
    "from datetime import datetime\n",
    "from dateutil.relativedelta import relativedelta\n",
    "import yfinance as yf\n",
    "\n",
    "# For Evalution we will use these library\n",
    "\n",
    "from sklearn.metrics import mean_squared_error, mean_absolute_error, explained_variance_score, r2_score \n",
    "from sklearn.metrics import mean_poisson_deviance, mean_gamma_deviance, accuracy_score\n",
    "from sklearn.preprocessing import MinMaxScaler\n",
    "\n",
    "# For model building we will use these library\n",
    "\n",
    "import tensorflow as tf\n",
    "from tensorflow.keras.models import Sequential\n",
    "from tensorflow.keras.layers import Dense, Dropout\n",
    "from tensorflow.keras.layers import LSTM\n",
    "\n",
    "\n",
    "# For PLotting we will use these library\n",
    "\n",
    "import matplotlib.pyplot as plt\n",
    "from itertools import cycle\n",
    "import plotly.graph_objects as go\n",
    "import plotly.express as px\n",
    "from plotly.subplots import make_subplots\n",
    "\n"
   ]
  },
  {
   "cell_type": "code",
   "execution_count": 42,
   "id": "ebf61949",
   "metadata": {
    "execution": {
     "iopub.execute_input": "2021-08-25T15:25:35.899702Z",
     "iopub.status.busy": "2021-08-25T15:25:35.899097Z",
     "iopub.status.idle": "2021-08-25T15:25:35.933510Z",
     "shell.execute_reply": "2021-08-25T15:25:35.934033Z",
     "shell.execute_reply.started": "2021-08-25T14:39:17.453368Z"
    },
    "papermill": {
     "duration": 0.117711,
     "end_time": "2021-08-25T15:25:35.934307",
     "exception": false,
     "start_time": "2021-08-25T15:25:35.816596",
     "status": "completed"
    },
    "tags": []
   },
   "outputs": [
    {
     "data": {
      "text/plain": [
       "'2022-12-29'"
      ]
     },
     "execution_count": 42,
     "metadata": {},
     "output_type": "execute_result"
    }
   ],
   "source": [
    "today = datetime.today().strftime('%Y-%m-%d')\n",
    "today\n"
   ]
  },
  {
   "cell_type": "code",
   "execution_count": 43,
   "id": "7c5ae1b3",
   "metadata": {},
   "outputs": [
    {
     "data": {
      "text/plain": [
       "'2015-01-01'"
      ]
     },
     "execution_count": 43,
     "metadata": {},
     "output_type": "execute_result"
    }
   ],
   "source": [
    "stockStartDate = ('2015-01-01')\n",
    "stockStartDate"
   ]
  },
  {
   "cell_type": "code",
   "execution_count": 44,
   "id": "4158eb0c",
   "metadata": {},
   "outputs": [
    {
     "name": "stdout",
     "output_type": "stream",
     "text": [
      "[*********************100%***********************]  1 of 1 completed\n"
     ]
    }
   ],
   "source": [
    "maindf = yf.download('BTC-USD', start= stockStartDate, end= today)\n",
    "maindf.to_csv('crypto.csv')"
   ]
  },
  {
   "cell_type": "code",
   "execution_count": 45,
   "id": "03ce9ea2",
   "metadata": {},
   "outputs": [],
   "source": [
    "maindf = pd.read_csv('crypto.csv')"
   ]
  },
  {
   "cell_type": "code",
   "execution_count": 46,
   "id": "77ad4b2c",
   "metadata": {
    "execution": {
     "iopub.execute_input": "2021-08-25T15:25:36.097449Z",
     "iopub.status.busy": "2021-08-25T15:25:36.096726Z",
     "iopub.status.idle": "2021-08-25T15:25:36.100297Z",
     "shell.execute_reply": "2021-08-25T15:25:36.100783Z",
     "shell.execute_reply.started": "2021-08-25T14:39:17.488721Z"
    },
    "papermill": {
     "duration": 0.087042,
     "end_time": "2021-08-25T15:25:36.100939",
     "exception": false,
     "start_time": "2021-08-25T15:25:36.013897",
     "status": "completed"
    },
    "tags": []
   },
   "outputs": [
    {
     "name": "stdout",
     "output_type": "stream",
     "text": [
      "Total number of days present in the dataset:  2920\n",
      "Total number of fields present in the dataset:  7\n"
     ]
    },
    {
     "data": {
      "text/plain": [
       "(2920, 7)"
      ]
     },
     "execution_count": 46,
     "metadata": {},
     "output_type": "execute_result"
    }
   ],
   "source": [
    "print('Total number of days present in the dataset: ',maindf.shape[0])\n",
    "print('Total number of fields present in the dataset: ',maindf.shape[1])\n",
    "maindf.shape"
   ]
  },
  {
   "cell_type": "code",
   "execution_count": 47,
   "id": "fe302090",
   "metadata": {
    "execution": {
     "iopub.execute_input": "2021-08-25T15:25:38.790271Z",
     "iopub.status.busy": "2021-08-25T15:25:38.789297Z",
     "iopub.status.idle": "2021-08-25T15:25:38.794586Z",
     "shell.execute_reply": "2021-08-25T15:25:38.793832Z",
     "shell.execute_reply.started": "2021-08-25T14:39:17.710441Z"
    },
    "papermill": {
     "duration": 0.093686,
     "end_time": "2021-08-25T15:25:38.794779",
     "exception": false,
     "start_time": "2021-08-25T15:25:38.701093",
     "status": "completed"
    },
    "tags": []
   },
   "outputs": [
    {
     "name": "stdout",
     "output_type": "stream",
     "text": [
      "Starting Date 2014-12-31\n",
      "Ending Date 2022-12-28\n"
     ]
    }
   ],
   "source": [
    "# Printing the start date and End date of the dataset\n",
    "\n",
    "sd=maindf.iloc[0][0]\n",
    "ed=maindf.iloc[-1][0]\n",
    "\n",
    "\n",
    "print('Starting Date',sd)\n",
    "print('Ending Date',ed)\n"
   ]
  },
  {
   "cell_type": "markdown",
   "id": "ceefa334",
   "metadata": {
    "papermill": {
     "duration": 0.103009,
     "end_time": "2021-08-25T15:25:48.967310",
     "exception": false,
     "start_time": "2021-08-25T15:25:48.864301",
     "status": "completed"
    },
    "tags": []
   },
   "source": [
    "# Analysis of Year 2021"
   ]
  },
  {
   "cell_type": "code",
   "execution_count": 48,
   "id": "e1495422",
   "metadata": {
    "execution": {
     "iopub.execute_input": "2021-08-25T15:25:49.205876Z",
     "iopub.status.busy": "2021-08-25T15:25:49.204998Z",
     "iopub.status.idle": "2021-08-25T15:25:49.209506Z",
     "shell.execute_reply": "2021-08-25T15:25:49.208945Z",
     "shell.execute_reply.started": "2021-08-25T14:39:20.558198Z"
    },
    "papermill": {
     "duration": 0.134257,
     "end_time": "2021-08-25T15:25:49.209643",
     "exception": false,
     "start_time": "2021-08-25T15:25:49.075386",
     "status": "completed"
    },
    "tags": []
   },
   "outputs": [
    {
     "data": {
      "text/html": [
       "<div>\n",
       "<style scoped>\n",
       "    .dataframe tbody tr th:only-of-type {\n",
       "        vertical-align: middle;\n",
       "    }\n",
       "\n",
       "    .dataframe tbody tr th {\n",
       "        vertical-align: top;\n",
       "    }\n",
       "\n",
       "    .dataframe thead th {\n",
       "        text-align: right;\n",
       "    }\n",
       "</style>\n",
       "<table border=\"1\" class=\"dataframe\">\n",
       "  <thead>\n",
       "    <tr style=\"text-align: right;\">\n",
       "      <th></th>\n",
       "      <th>Date</th>\n",
       "      <th>Open</th>\n",
       "      <th>High</th>\n",
       "      <th>Low</th>\n",
       "      <th>Close</th>\n",
       "    </tr>\n",
       "  </thead>\n",
       "  <tbody>\n",
       "    <tr>\n",
       "      <th>2193</th>\n",
       "      <td>2021-01-01</td>\n",
       "      <td>28994.009766</td>\n",
       "      <td>29600.626953</td>\n",
       "      <td>28803.585938</td>\n",
       "      <td>29374.152344</td>\n",
       "    </tr>\n",
       "    <tr>\n",
       "      <th>2194</th>\n",
       "      <td>2021-01-02</td>\n",
       "      <td>29376.455078</td>\n",
       "      <td>33155.117188</td>\n",
       "      <td>29091.181641</td>\n",
       "      <td>32127.267578</td>\n",
       "    </tr>\n",
       "    <tr>\n",
       "      <th>2195</th>\n",
       "      <td>2021-01-03</td>\n",
       "      <td>32129.408203</td>\n",
       "      <td>34608.558594</td>\n",
       "      <td>32052.316406</td>\n",
       "      <td>32782.023438</td>\n",
       "    </tr>\n",
       "    <tr>\n",
       "      <th>2196</th>\n",
       "      <td>2021-01-04</td>\n",
       "      <td>32810.949219</td>\n",
       "      <td>33440.218750</td>\n",
       "      <td>28722.755859</td>\n",
       "      <td>31971.914062</td>\n",
       "    </tr>\n",
       "    <tr>\n",
       "      <th>2197</th>\n",
       "      <td>2021-01-05</td>\n",
       "      <td>31977.041016</td>\n",
       "      <td>34437.589844</td>\n",
       "      <td>30221.187500</td>\n",
       "      <td>33992.429688</td>\n",
       "    </tr>\n",
       "    <tr>\n",
       "      <th>...</th>\n",
       "      <td>...</td>\n",
       "      <td>...</td>\n",
       "      <td>...</td>\n",
       "      <td>...</td>\n",
       "      <td>...</td>\n",
       "    </tr>\n",
       "    <tr>\n",
       "      <th>2552</th>\n",
       "      <td>2021-12-26</td>\n",
       "      <td>50428.691406</td>\n",
       "      <td>51196.378906</td>\n",
       "      <td>49623.105469</td>\n",
       "      <td>50809.515625</td>\n",
       "    </tr>\n",
       "    <tr>\n",
       "      <th>2553</th>\n",
       "      <td>2021-12-27</td>\n",
       "      <td>50802.609375</td>\n",
       "      <td>51956.328125</td>\n",
       "      <td>50499.468750</td>\n",
       "      <td>50640.417969</td>\n",
       "    </tr>\n",
       "    <tr>\n",
       "      <th>2554</th>\n",
       "      <td>2021-12-28</td>\n",
       "      <td>50679.859375</td>\n",
       "      <td>50679.859375</td>\n",
       "      <td>47414.210938</td>\n",
       "      <td>47588.855469</td>\n",
       "    </tr>\n",
       "    <tr>\n",
       "      <th>2555</th>\n",
       "      <td>2021-12-29</td>\n",
       "      <td>47623.871094</td>\n",
       "      <td>48119.742188</td>\n",
       "      <td>46201.496094</td>\n",
       "      <td>46444.710938</td>\n",
       "    </tr>\n",
       "    <tr>\n",
       "      <th>2556</th>\n",
       "      <td>2021-12-30</td>\n",
       "      <td>46490.605469</td>\n",
       "      <td>47879.964844</td>\n",
       "      <td>46060.312500</td>\n",
       "      <td>47178.125000</td>\n",
       "    </tr>\n",
       "  </tbody>\n",
       "</table>\n",
       "<p>364 rows × 5 columns</p>\n",
       "</div>"
      ],
      "text/plain": [
       "           Date          Open          High           Low         Close\n",
       "2193 2021-01-01  28994.009766  29600.626953  28803.585938  29374.152344\n",
       "2194 2021-01-02  29376.455078  33155.117188  29091.181641  32127.267578\n",
       "2195 2021-01-03  32129.408203  34608.558594  32052.316406  32782.023438\n",
       "2196 2021-01-04  32810.949219  33440.218750  28722.755859  31971.914062\n",
       "2197 2021-01-05  31977.041016  34437.589844  30221.187500  33992.429688\n",
       "...         ...           ...           ...           ...           ...\n",
       "2552 2021-12-26  50428.691406  51196.378906  49623.105469  50809.515625\n",
       "2553 2021-12-27  50802.609375  51956.328125  50499.468750  50640.417969\n",
       "2554 2021-12-28  50679.859375  50679.859375  47414.210938  47588.855469\n",
       "2555 2021-12-29  47623.871094  48119.742188  46201.496094  46444.710938\n",
       "2556 2021-12-30  46490.605469  47879.964844  46060.312500  47178.125000\n",
       "\n",
       "[364 rows x 5 columns]"
      ]
     },
     "execution_count": 48,
     "metadata": {},
     "output_type": "execute_result"
    }
   ],
   "source": [
    "maindf['Date'] = pd.to_datetime(maindf['Date'], format='%Y-%m-%d')\n",
    "\n",
    "y_2021 = maindf.loc[(maindf['Date'] >= '2021-01-01')\n",
    "                     & (maindf['Date'] < '2021-12-31')]\n",
    "\n",
    "y_2021.drop(y_2021[['Adj Close','Volume']],axis=1)"
   ]
  },
  {
   "cell_type": "code",
   "execution_count": 49,
   "id": "2af06f1d",
   "metadata": {
    "execution": {
     "iopub.execute_input": "2021-08-25T15:25:49.441805Z",
     "iopub.status.busy": "2021-08-25T15:25:49.440895Z",
     "iopub.status.idle": "2021-08-25T15:25:49.444823Z",
     "shell.execute_reply": "2021-08-25T15:25:49.444356Z",
     "shell.execute_reply.started": "2021-08-25T14:39:20.587096Z"
    },
    "papermill": {
     "duration": 0.128109,
     "end_time": "2021-08-25T15:25:49.444948",
     "exception": false,
     "start_time": "2021-08-25T15:25:49.316839",
     "status": "completed"
    },
    "tags": []
   },
   "outputs": [
    {
     "data": {
      "text/html": [
       "<div>\n",
       "<style scoped>\n",
       "    .dataframe tbody tr th:only-of-type {\n",
       "        vertical-align: middle;\n",
       "    }\n",
       "\n",
       "    .dataframe tbody tr th {\n",
       "        vertical-align: top;\n",
       "    }\n",
       "\n",
       "    .dataframe thead th {\n",
       "        text-align: right;\n",
       "    }\n",
       "</style>\n",
       "<table border=\"1\" class=\"dataframe\">\n",
       "  <thead>\n",
       "    <tr style=\"text-align: right;\">\n",
       "      <th></th>\n",
       "      <th>Open</th>\n",
       "      <th>Close</th>\n",
       "    </tr>\n",
       "    <tr>\n",
       "      <th>Date</th>\n",
       "      <th></th>\n",
       "      <th></th>\n",
       "    </tr>\n",
       "  </thead>\n",
       "  <tbody>\n",
       "    <tr>\n",
       "      <th>January</th>\n",
       "      <td>34652.961694</td>\n",
       "      <td>34761.649950</td>\n",
       "    </tr>\n",
       "    <tr>\n",
       "      <th>February</th>\n",
       "      <td>45874.967215</td>\n",
       "      <td>46306.798968</td>\n",
       "    </tr>\n",
       "    <tr>\n",
       "      <th>March</th>\n",
       "      <td>54544.678175</td>\n",
       "      <td>54998.008695</td>\n",
       "    </tr>\n",
       "    <tr>\n",
       "      <th>April</th>\n",
       "      <td>57251.256250</td>\n",
       "      <td>57206.720052</td>\n",
       "    </tr>\n",
       "    <tr>\n",
       "      <th>May</th>\n",
       "      <td>47105.828503</td>\n",
       "      <td>46443.286668</td>\n",
       "    </tr>\n",
       "    <tr>\n",
       "      <th>June</th>\n",
       "      <td>35920.546940</td>\n",
       "      <td>35845.154687</td>\n",
       "    </tr>\n",
       "    <tr>\n",
       "      <th>July</th>\n",
       "      <td>34234.212450</td>\n",
       "      <td>34444.973790</td>\n",
       "    </tr>\n",
       "    <tr>\n",
       "      <th>August</th>\n",
       "      <td>45516.119834</td>\n",
       "      <td>45709.022681</td>\n",
       "    </tr>\n",
       "    <tr>\n",
       "      <th>September</th>\n",
       "      <td>46041.859375</td>\n",
       "      <td>45939.771484</td>\n",
       "    </tr>\n",
       "    <tr>\n",
       "      <th>October</th>\n",
       "      <td>57344.743952</td>\n",
       "      <td>57911.970514</td>\n",
       "    </tr>\n",
       "    <tr>\n",
       "      <th>November</th>\n",
       "      <td>60857.520312</td>\n",
       "      <td>60621.488802</td>\n",
       "    </tr>\n",
       "    <tr>\n",
       "      <th>December</th>\n",
       "      <td>49753.779818</td>\n",
       "      <td>49361.767969</td>\n",
       "    </tr>\n",
       "  </tbody>\n",
       "</table>\n",
       "</div>"
      ],
      "text/plain": [
       "                   Open         Close\n",
       "Date                                 \n",
       "January    34652.961694  34761.649950\n",
       "February   45874.967215  46306.798968\n",
       "March      54544.678175  54998.008695\n",
       "April      57251.256250  57206.720052\n",
       "May        47105.828503  46443.286668\n",
       "June       35920.546940  35845.154687\n",
       "July       34234.212450  34444.973790\n",
       "August     45516.119834  45709.022681\n",
       "September  46041.859375  45939.771484\n",
       "October    57344.743952  57911.970514\n",
       "November   60857.520312  60621.488802\n",
       "December   49753.779818  49361.767969"
      ]
     },
     "execution_count": 49,
     "metadata": {},
     "output_type": "execute_result"
    }
   ],
   "source": [
    "monthvise= y_2021.groupby(y_2021['Date'].dt.strftime('%B'))[['Open','Close']].mean()\n",
    "new_order = ['January', 'February', 'March', 'April', 'May', 'June', 'July', 'August', \n",
    "             'September', 'October', 'November', 'December']\n",
    "monthvise = monthvise.reindex(new_order, axis=0)\n",
    "monthvise"
   ]
  },
  {
   "cell_type": "code",
   "execution_count": 50,
   "id": "5c9d96df",
   "metadata": {
    "execution": {
     "iopub.execute_input": "2021-08-25T15:25:49.892491Z",
     "iopub.status.busy": "2021-08-25T15:25:49.891846Z",
     "iopub.status.idle": "2021-08-25T15:25:49.896862Z",
     "shell.execute_reply": "2021-08-25T15:25:49.896251Z",
     "shell.execute_reply.started": "2021-08-25T14:39:20.617125Z"
    },
    "papermill": {
     "duration": 0.129345,
     "end_time": "2021-08-25T15:25:49.896989",
     "exception": false,
     "start_time": "2021-08-25T15:25:49.767644",
     "status": "completed"
    },
    "tags": []
   },
   "outputs": [
    {
     "data": {
      "application/vnd.plotly.v1+json": {
       "config": {
        "plotlyServerURL": "https://plot.ly"
       },
       "data": [
        {
         "marker": {
          "color": "crimson"
         },
         "name": "Open Price",
         "type": "bar",
         "x": [
          "January",
          "February",
          "March",
          "April",
          "May",
          "June",
          "July",
          "August",
          "September",
          "October",
          "November",
          "December"
         ],
         "y": [
          34652.96169354839,
          45874.96721540178,
          54544.67817540323,
          57251.25625,
          47105.8285030242,
          35920.54694010417,
          34234.21244959677,
          45516.119833669356,
          46041.859375,
          57344.7439516129,
          60857.5203125,
          49753.77981770833
         ]
        },
        {
         "marker": {
          "color": "lightsalmon"
         },
         "name": "Close Price",
         "type": "bar",
         "x": [
          "January",
          "February",
          "March",
          "April",
          "May",
          "June",
          "July",
          "August",
          "September",
          "October",
          "November",
          "December"
         ],
         "y": [
          34761.64994959677,
          46306.79896763393,
          54998.008694556454,
          57206.720052083336,
          46443.28666834677,
          35845.1546875,
          34444.97379032258,
          45709.02268145161,
          45939.771484375,
          57911.9705141129,
          60621.48880208333,
          49361.76796875
         ]
        }
       ],
       "layout": {
        "barmode": "group",
        "template": {
         "data": {
          "bar": [
           {
            "error_x": {
             "color": "#2a3f5f"
            },
            "error_y": {
             "color": "#2a3f5f"
            },
            "marker": {
             "line": {
              "color": "#E5ECF6",
              "width": 0.5
             },
             "pattern": {
              "fillmode": "overlay",
              "size": 10,
              "solidity": 0.2
             }
            },
            "type": "bar"
           }
          ],
          "barpolar": [
           {
            "marker": {
             "line": {
              "color": "#E5ECF6",
              "width": 0.5
             },
             "pattern": {
              "fillmode": "overlay",
              "size": 10,
              "solidity": 0.2
             }
            },
            "type": "barpolar"
           }
          ],
          "carpet": [
           {
            "aaxis": {
             "endlinecolor": "#2a3f5f",
             "gridcolor": "white",
             "linecolor": "white",
             "minorgridcolor": "white",
             "startlinecolor": "#2a3f5f"
            },
            "baxis": {
             "endlinecolor": "#2a3f5f",
             "gridcolor": "white",
             "linecolor": "white",
             "minorgridcolor": "white",
             "startlinecolor": "#2a3f5f"
            },
            "type": "carpet"
           }
          ],
          "choropleth": [
           {
            "colorbar": {
             "outlinewidth": 0,
             "ticks": ""
            },
            "type": "choropleth"
           }
          ],
          "contour": [
           {
            "colorbar": {
             "outlinewidth": 0,
             "ticks": ""
            },
            "colorscale": [
             [
              0,
              "#0d0887"
             ],
             [
              0.1111111111111111,
              "#46039f"
             ],
             [
              0.2222222222222222,
              "#7201a8"
             ],
             [
              0.3333333333333333,
              "#9c179e"
             ],
             [
              0.4444444444444444,
              "#bd3786"
             ],
             [
              0.5555555555555556,
              "#d8576b"
             ],
             [
              0.6666666666666666,
              "#ed7953"
             ],
             [
              0.7777777777777778,
              "#fb9f3a"
             ],
             [
              0.8888888888888888,
              "#fdca26"
             ],
             [
              1,
              "#f0f921"
             ]
            ],
            "type": "contour"
           }
          ],
          "contourcarpet": [
           {
            "colorbar": {
             "outlinewidth": 0,
             "ticks": ""
            },
            "type": "contourcarpet"
           }
          ],
          "heatmap": [
           {
            "colorbar": {
             "outlinewidth": 0,
             "ticks": ""
            },
            "colorscale": [
             [
              0,
              "#0d0887"
             ],
             [
              0.1111111111111111,
              "#46039f"
             ],
             [
              0.2222222222222222,
              "#7201a8"
             ],
             [
              0.3333333333333333,
              "#9c179e"
             ],
             [
              0.4444444444444444,
              "#bd3786"
             ],
             [
              0.5555555555555556,
              "#d8576b"
             ],
             [
              0.6666666666666666,
              "#ed7953"
             ],
             [
              0.7777777777777778,
              "#fb9f3a"
             ],
             [
              0.8888888888888888,
              "#fdca26"
             ],
             [
              1,
              "#f0f921"
             ]
            ],
            "type": "heatmap"
           }
          ],
          "heatmapgl": [
           {
            "colorbar": {
             "outlinewidth": 0,
             "ticks": ""
            },
            "colorscale": [
             [
              0,
              "#0d0887"
             ],
             [
              0.1111111111111111,
              "#46039f"
             ],
             [
              0.2222222222222222,
              "#7201a8"
             ],
             [
              0.3333333333333333,
              "#9c179e"
             ],
             [
              0.4444444444444444,
              "#bd3786"
             ],
             [
              0.5555555555555556,
              "#d8576b"
             ],
             [
              0.6666666666666666,
              "#ed7953"
             ],
             [
              0.7777777777777778,
              "#fb9f3a"
             ],
             [
              0.8888888888888888,
              "#fdca26"
             ],
             [
              1,
              "#f0f921"
             ]
            ],
            "type": "heatmapgl"
           }
          ],
          "histogram": [
           {
            "marker": {
             "pattern": {
              "fillmode": "overlay",
              "size": 10,
              "solidity": 0.2
             }
            },
            "type": "histogram"
           }
          ],
          "histogram2d": [
           {
            "colorbar": {
             "outlinewidth": 0,
             "ticks": ""
            },
            "colorscale": [
             [
              0,
              "#0d0887"
             ],
             [
              0.1111111111111111,
              "#46039f"
             ],
             [
              0.2222222222222222,
              "#7201a8"
             ],
             [
              0.3333333333333333,
              "#9c179e"
             ],
             [
              0.4444444444444444,
              "#bd3786"
             ],
             [
              0.5555555555555556,
              "#d8576b"
             ],
             [
              0.6666666666666666,
              "#ed7953"
             ],
             [
              0.7777777777777778,
              "#fb9f3a"
             ],
             [
              0.8888888888888888,
              "#fdca26"
             ],
             [
              1,
              "#f0f921"
             ]
            ],
            "type": "histogram2d"
           }
          ],
          "histogram2dcontour": [
           {
            "colorbar": {
             "outlinewidth": 0,
             "ticks": ""
            },
            "colorscale": [
             [
              0,
              "#0d0887"
             ],
             [
              0.1111111111111111,
              "#46039f"
             ],
             [
              0.2222222222222222,
              "#7201a8"
             ],
             [
              0.3333333333333333,
              "#9c179e"
             ],
             [
              0.4444444444444444,
              "#bd3786"
             ],
             [
              0.5555555555555556,
              "#d8576b"
             ],
             [
              0.6666666666666666,
              "#ed7953"
             ],
             [
              0.7777777777777778,
              "#fb9f3a"
             ],
             [
              0.8888888888888888,
              "#fdca26"
             ],
             [
              1,
              "#f0f921"
             ]
            ],
            "type": "histogram2dcontour"
           }
          ],
          "mesh3d": [
           {
            "colorbar": {
             "outlinewidth": 0,
             "ticks": ""
            },
            "type": "mesh3d"
           }
          ],
          "parcoords": [
           {
            "line": {
             "colorbar": {
              "outlinewidth": 0,
              "ticks": ""
             }
            },
            "type": "parcoords"
           }
          ],
          "pie": [
           {
            "automargin": true,
            "type": "pie"
           }
          ],
          "scatter": [
           {
            "fillpattern": {
             "fillmode": "overlay",
             "size": 10,
             "solidity": 0.2
            },
            "type": "scatter"
           }
          ],
          "scatter3d": [
           {
            "line": {
             "colorbar": {
              "outlinewidth": 0,
              "ticks": ""
             }
            },
            "marker": {
             "colorbar": {
              "outlinewidth": 0,
              "ticks": ""
             }
            },
            "type": "scatter3d"
           }
          ],
          "scattercarpet": [
           {
            "marker": {
             "colorbar": {
              "outlinewidth": 0,
              "ticks": ""
             }
            },
            "type": "scattercarpet"
           }
          ],
          "scattergeo": [
           {
            "marker": {
             "colorbar": {
              "outlinewidth": 0,
              "ticks": ""
             }
            },
            "type": "scattergeo"
           }
          ],
          "scattergl": [
           {
            "marker": {
             "colorbar": {
              "outlinewidth": 0,
              "ticks": ""
             }
            },
            "type": "scattergl"
           }
          ],
          "scattermapbox": [
           {
            "marker": {
             "colorbar": {
              "outlinewidth": 0,
              "ticks": ""
             }
            },
            "type": "scattermapbox"
           }
          ],
          "scatterpolar": [
           {
            "marker": {
             "colorbar": {
              "outlinewidth": 0,
              "ticks": ""
             }
            },
            "type": "scatterpolar"
           }
          ],
          "scatterpolargl": [
           {
            "marker": {
             "colorbar": {
              "outlinewidth": 0,
              "ticks": ""
             }
            },
            "type": "scatterpolargl"
           }
          ],
          "scatterternary": [
           {
            "marker": {
             "colorbar": {
              "outlinewidth": 0,
              "ticks": ""
             }
            },
            "type": "scatterternary"
           }
          ],
          "surface": [
           {
            "colorbar": {
             "outlinewidth": 0,
             "ticks": ""
            },
            "colorscale": [
             [
              0,
              "#0d0887"
             ],
             [
              0.1111111111111111,
              "#46039f"
             ],
             [
              0.2222222222222222,
              "#7201a8"
             ],
             [
              0.3333333333333333,
              "#9c179e"
             ],
             [
              0.4444444444444444,
              "#bd3786"
             ],
             [
              0.5555555555555556,
              "#d8576b"
             ],
             [
              0.6666666666666666,
              "#ed7953"
             ],
             [
              0.7777777777777778,
              "#fb9f3a"
             ],
             [
              0.8888888888888888,
              "#fdca26"
             ],
             [
              1,
              "#f0f921"
             ]
            ],
            "type": "surface"
           }
          ],
          "table": [
           {
            "cells": {
             "fill": {
              "color": "#EBF0F8"
             },
             "line": {
              "color": "white"
             }
            },
            "header": {
             "fill": {
              "color": "#C8D4E3"
             },
             "line": {
              "color": "white"
             }
            },
            "type": "table"
           }
          ]
         },
         "layout": {
          "annotationdefaults": {
           "arrowcolor": "#2a3f5f",
           "arrowhead": 0,
           "arrowwidth": 1
          },
          "autotypenumbers": "strict",
          "coloraxis": {
           "colorbar": {
            "outlinewidth": 0,
            "ticks": ""
           }
          },
          "colorscale": {
           "diverging": [
            [
             0,
             "#8e0152"
            ],
            [
             0.1,
             "#c51b7d"
            ],
            [
             0.2,
             "#de77ae"
            ],
            [
             0.3,
             "#f1b6da"
            ],
            [
             0.4,
             "#fde0ef"
            ],
            [
             0.5,
             "#f7f7f7"
            ],
            [
             0.6,
             "#e6f5d0"
            ],
            [
             0.7,
             "#b8e186"
            ],
            [
             0.8,
             "#7fbc41"
            ],
            [
             0.9,
             "#4d9221"
            ],
            [
             1,
             "#276419"
            ]
           ],
           "sequential": [
            [
             0,
             "#0d0887"
            ],
            [
             0.1111111111111111,
             "#46039f"
            ],
            [
             0.2222222222222222,
             "#7201a8"
            ],
            [
             0.3333333333333333,
             "#9c179e"
            ],
            [
             0.4444444444444444,
             "#bd3786"
            ],
            [
             0.5555555555555556,
             "#d8576b"
            ],
            [
             0.6666666666666666,
             "#ed7953"
            ],
            [
             0.7777777777777778,
             "#fb9f3a"
            ],
            [
             0.8888888888888888,
             "#fdca26"
            ],
            [
             1,
             "#f0f921"
            ]
           ],
           "sequentialminus": [
            [
             0,
             "#0d0887"
            ],
            [
             0.1111111111111111,
             "#46039f"
            ],
            [
             0.2222222222222222,
             "#7201a8"
            ],
            [
             0.3333333333333333,
             "#9c179e"
            ],
            [
             0.4444444444444444,
             "#bd3786"
            ],
            [
             0.5555555555555556,
             "#d8576b"
            ],
            [
             0.6666666666666666,
             "#ed7953"
            ],
            [
             0.7777777777777778,
             "#fb9f3a"
            ],
            [
             0.8888888888888888,
             "#fdca26"
            ],
            [
             1,
             "#f0f921"
            ]
           ]
          },
          "colorway": [
           "#636efa",
           "#EF553B",
           "#00cc96",
           "#ab63fa",
           "#FFA15A",
           "#19d3f3",
           "#FF6692",
           "#B6E880",
           "#FF97FF",
           "#FECB52"
          ],
          "font": {
           "color": "#2a3f5f"
          },
          "geo": {
           "bgcolor": "white",
           "lakecolor": "white",
           "landcolor": "#E5ECF6",
           "showlakes": true,
           "showland": true,
           "subunitcolor": "white"
          },
          "hoverlabel": {
           "align": "left"
          },
          "hovermode": "closest",
          "mapbox": {
           "style": "light"
          },
          "paper_bgcolor": "white",
          "plot_bgcolor": "#E5ECF6",
          "polar": {
           "angularaxis": {
            "gridcolor": "white",
            "linecolor": "white",
            "ticks": ""
           },
           "bgcolor": "#E5ECF6",
           "radialaxis": {
            "gridcolor": "white",
            "linecolor": "white",
            "ticks": ""
           }
          },
          "scene": {
           "xaxis": {
            "backgroundcolor": "#E5ECF6",
            "gridcolor": "white",
            "gridwidth": 2,
            "linecolor": "white",
            "showbackground": true,
            "ticks": "",
            "zerolinecolor": "white"
           },
           "yaxis": {
            "backgroundcolor": "#E5ECF6",
            "gridcolor": "white",
            "gridwidth": 2,
            "linecolor": "white",
            "showbackground": true,
            "ticks": "",
            "zerolinecolor": "white"
           },
           "zaxis": {
            "backgroundcolor": "#E5ECF6",
            "gridcolor": "white",
            "gridwidth": 2,
            "linecolor": "white",
            "showbackground": true,
            "ticks": "",
            "zerolinecolor": "white"
           }
          },
          "shapedefaults": {
           "line": {
            "color": "#2a3f5f"
           }
          },
          "ternary": {
           "aaxis": {
            "gridcolor": "white",
            "linecolor": "white",
            "ticks": ""
           },
           "baxis": {
            "gridcolor": "white",
            "linecolor": "white",
            "ticks": ""
           },
           "bgcolor": "#E5ECF6",
           "caxis": {
            "gridcolor": "white",
            "linecolor": "white",
            "ticks": ""
           }
          },
          "title": {
           "x": 0.05
          },
          "xaxis": {
           "automargin": true,
           "gridcolor": "white",
           "linecolor": "white",
           "ticks": "",
           "title": {
            "standoff": 15
           },
           "zerolinecolor": "white",
           "zerolinewidth": 2
          },
          "yaxis": {
           "automargin": true,
           "gridcolor": "white",
           "linecolor": "white",
           "ticks": "",
           "title": {
            "standoff": 15
           },
           "zerolinecolor": "white",
           "zerolinewidth": 2
          }
         }
        },
        "title": {
         "text": "Monthwise comparision between open and close price"
        },
        "xaxis": {
         "tickangle": -45
        }
       }
      }
     },
     "metadata": {},
     "output_type": "display_data"
    }
   ],
   "source": [
    "fig = go.Figure()\n",
    "\n",
    "fig.add_trace(go.Bar(\n",
    "    x=monthvise.index,\n",
    "    y=monthvise['Open'],\n",
    "    name='Open Price',\n",
    "    marker_color='crimson'\n",
    "))\n",
    "fig.add_trace(go.Bar(\n",
    "    x=monthvise.index,\n",
    "    y=monthvise['Close'],\n",
    "    name='Close Price',\n",
    "    marker_color='lightsalmon'\n",
    "))\n",
    "\n",
    "fig.update_layout(barmode='group', xaxis_tickangle=-45, \n",
    "                  title='Monthwise comparision between open and close price')\n",
    "fig.show()"
   ]
  },
  {
   "cell_type": "code",
   "execution_count": 51,
   "id": "593c6f07",
   "metadata": {
    "execution": {
     "iopub.execute_input": "2021-08-25T15:25:50.165015Z",
     "iopub.status.busy": "2021-08-25T15:25:50.164353Z",
     "iopub.status.idle": "2021-08-25T15:25:50.169249Z",
     "shell.execute_reply": "2021-08-25T15:25:50.168715Z",
     "shell.execute_reply.started": "2021-08-25T14:39:20.644213Z"
    },
    "papermill": {
     "duration": 0.163164,
     "end_time": "2021-08-25T15:25:50.169390",
     "exception": false,
     "start_time": "2021-08-25T15:25:50.006226",
     "status": "completed"
    },
    "tags": []
   },
   "outputs": [
    {
     "data": {
      "application/vnd.plotly.v1+json": {
       "config": {
        "plotlyServerURL": "https://plot.ly"
       },
       "data": [
        {
         "marker": {
          "color": "rgb(0, 153, 204)"
         },
         "name": "High Price",
         "type": "bar",
         "x": [
          "January",
          "February",
          "March",
          "April",
          "May",
          "June",
          "July",
          "August",
          "September",
          "October",
          "November",
          "December"
         ],
         "y": [
          41946.73828125,
          58330.5703125,
          61683.86328125,
          64863.09765625,
          59519.35546875,
          41295.26953125,
          42235.546875,
          50482.078125,
          52853.765625,
          66930.390625,
          68789.625,
          59041.68359375
         ]
        },
        {
         "marker": {
          "color": "rgb(255, 128, 0)"
         },
         "name": "Low Price",
         "type": "bar",
         "x": [
          "January",
          "February",
          "March",
          "April",
          "May",
          "June",
          "July",
          "August",
          "September",
          "October",
          "November",
          "December"
         ],
         "y": [
          28722.755859375,
          32384.228515625,
          45115.09375,
          47159.484375,
          30681.49609375,
          28893.62109375,
          29360.955078125,
          37458.00390625,
          39787.609375,
          43320.0234375,
          53569.765625,
          42874.6171875
         ]
        }
       ],
       "layout": {
        "barmode": "group",
        "template": {
         "data": {
          "bar": [
           {
            "error_x": {
             "color": "#2a3f5f"
            },
            "error_y": {
             "color": "#2a3f5f"
            },
            "marker": {
             "line": {
              "color": "#E5ECF6",
              "width": 0.5
             },
             "pattern": {
              "fillmode": "overlay",
              "size": 10,
              "solidity": 0.2
             }
            },
            "type": "bar"
           }
          ],
          "barpolar": [
           {
            "marker": {
             "line": {
              "color": "#E5ECF6",
              "width": 0.5
             },
             "pattern": {
              "fillmode": "overlay",
              "size": 10,
              "solidity": 0.2
             }
            },
            "type": "barpolar"
           }
          ],
          "carpet": [
           {
            "aaxis": {
             "endlinecolor": "#2a3f5f",
             "gridcolor": "white",
             "linecolor": "white",
             "minorgridcolor": "white",
             "startlinecolor": "#2a3f5f"
            },
            "baxis": {
             "endlinecolor": "#2a3f5f",
             "gridcolor": "white",
             "linecolor": "white",
             "minorgridcolor": "white",
             "startlinecolor": "#2a3f5f"
            },
            "type": "carpet"
           }
          ],
          "choropleth": [
           {
            "colorbar": {
             "outlinewidth": 0,
             "ticks": ""
            },
            "type": "choropleth"
           }
          ],
          "contour": [
           {
            "colorbar": {
             "outlinewidth": 0,
             "ticks": ""
            },
            "colorscale": [
             [
              0,
              "#0d0887"
             ],
             [
              0.1111111111111111,
              "#46039f"
             ],
             [
              0.2222222222222222,
              "#7201a8"
             ],
             [
              0.3333333333333333,
              "#9c179e"
             ],
             [
              0.4444444444444444,
              "#bd3786"
             ],
             [
              0.5555555555555556,
              "#d8576b"
             ],
             [
              0.6666666666666666,
              "#ed7953"
             ],
             [
              0.7777777777777778,
              "#fb9f3a"
             ],
             [
              0.8888888888888888,
              "#fdca26"
             ],
             [
              1,
              "#f0f921"
             ]
            ],
            "type": "contour"
           }
          ],
          "contourcarpet": [
           {
            "colorbar": {
             "outlinewidth": 0,
             "ticks": ""
            },
            "type": "contourcarpet"
           }
          ],
          "heatmap": [
           {
            "colorbar": {
             "outlinewidth": 0,
             "ticks": ""
            },
            "colorscale": [
             [
              0,
              "#0d0887"
             ],
             [
              0.1111111111111111,
              "#46039f"
             ],
             [
              0.2222222222222222,
              "#7201a8"
             ],
             [
              0.3333333333333333,
              "#9c179e"
             ],
             [
              0.4444444444444444,
              "#bd3786"
             ],
             [
              0.5555555555555556,
              "#d8576b"
             ],
             [
              0.6666666666666666,
              "#ed7953"
             ],
             [
              0.7777777777777778,
              "#fb9f3a"
             ],
             [
              0.8888888888888888,
              "#fdca26"
             ],
             [
              1,
              "#f0f921"
             ]
            ],
            "type": "heatmap"
           }
          ],
          "heatmapgl": [
           {
            "colorbar": {
             "outlinewidth": 0,
             "ticks": ""
            },
            "colorscale": [
             [
              0,
              "#0d0887"
             ],
             [
              0.1111111111111111,
              "#46039f"
             ],
             [
              0.2222222222222222,
              "#7201a8"
             ],
             [
              0.3333333333333333,
              "#9c179e"
             ],
             [
              0.4444444444444444,
              "#bd3786"
             ],
             [
              0.5555555555555556,
              "#d8576b"
             ],
             [
              0.6666666666666666,
              "#ed7953"
             ],
             [
              0.7777777777777778,
              "#fb9f3a"
             ],
             [
              0.8888888888888888,
              "#fdca26"
             ],
             [
              1,
              "#f0f921"
             ]
            ],
            "type": "heatmapgl"
           }
          ],
          "histogram": [
           {
            "marker": {
             "pattern": {
              "fillmode": "overlay",
              "size": 10,
              "solidity": 0.2
             }
            },
            "type": "histogram"
           }
          ],
          "histogram2d": [
           {
            "colorbar": {
             "outlinewidth": 0,
             "ticks": ""
            },
            "colorscale": [
             [
              0,
              "#0d0887"
             ],
             [
              0.1111111111111111,
              "#46039f"
             ],
             [
              0.2222222222222222,
              "#7201a8"
             ],
             [
              0.3333333333333333,
              "#9c179e"
             ],
             [
              0.4444444444444444,
              "#bd3786"
             ],
             [
              0.5555555555555556,
              "#d8576b"
             ],
             [
              0.6666666666666666,
              "#ed7953"
             ],
             [
              0.7777777777777778,
              "#fb9f3a"
             ],
             [
              0.8888888888888888,
              "#fdca26"
             ],
             [
              1,
              "#f0f921"
             ]
            ],
            "type": "histogram2d"
           }
          ],
          "histogram2dcontour": [
           {
            "colorbar": {
             "outlinewidth": 0,
             "ticks": ""
            },
            "colorscale": [
             [
              0,
              "#0d0887"
             ],
             [
              0.1111111111111111,
              "#46039f"
             ],
             [
              0.2222222222222222,
              "#7201a8"
             ],
             [
              0.3333333333333333,
              "#9c179e"
             ],
             [
              0.4444444444444444,
              "#bd3786"
             ],
             [
              0.5555555555555556,
              "#d8576b"
             ],
             [
              0.6666666666666666,
              "#ed7953"
             ],
             [
              0.7777777777777778,
              "#fb9f3a"
             ],
             [
              0.8888888888888888,
              "#fdca26"
             ],
             [
              1,
              "#f0f921"
             ]
            ],
            "type": "histogram2dcontour"
           }
          ],
          "mesh3d": [
           {
            "colorbar": {
             "outlinewidth": 0,
             "ticks": ""
            },
            "type": "mesh3d"
           }
          ],
          "parcoords": [
           {
            "line": {
             "colorbar": {
              "outlinewidth": 0,
              "ticks": ""
             }
            },
            "type": "parcoords"
           }
          ],
          "pie": [
           {
            "automargin": true,
            "type": "pie"
           }
          ],
          "scatter": [
           {
            "fillpattern": {
             "fillmode": "overlay",
             "size": 10,
             "solidity": 0.2
            },
            "type": "scatter"
           }
          ],
          "scatter3d": [
           {
            "line": {
             "colorbar": {
              "outlinewidth": 0,
              "ticks": ""
             }
            },
            "marker": {
             "colorbar": {
              "outlinewidth": 0,
              "ticks": ""
             }
            },
            "type": "scatter3d"
           }
          ],
          "scattercarpet": [
           {
            "marker": {
             "colorbar": {
              "outlinewidth": 0,
              "ticks": ""
             }
            },
            "type": "scattercarpet"
           }
          ],
          "scattergeo": [
           {
            "marker": {
             "colorbar": {
              "outlinewidth": 0,
              "ticks": ""
             }
            },
            "type": "scattergeo"
           }
          ],
          "scattergl": [
           {
            "marker": {
             "colorbar": {
              "outlinewidth": 0,
              "ticks": ""
             }
            },
            "type": "scattergl"
           }
          ],
          "scattermapbox": [
           {
            "marker": {
             "colorbar": {
              "outlinewidth": 0,
              "ticks": ""
             }
            },
            "type": "scattermapbox"
           }
          ],
          "scatterpolar": [
           {
            "marker": {
             "colorbar": {
              "outlinewidth": 0,
              "ticks": ""
             }
            },
            "type": "scatterpolar"
           }
          ],
          "scatterpolargl": [
           {
            "marker": {
             "colorbar": {
              "outlinewidth": 0,
              "ticks": ""
             }
            },
            "type": "scatterpolargl"
           }
          ],
          "scatterternary": [
           {
            "marker": {
             "colorbar": {
              "outlinewidth": 0,
              "ticks": ""
             }
            },
            "type": "scatterternary"
           }
          ],
          "surface": [
           {
            "colorbar": {
             "outlinewidth": 0,
             "ticks": ""
            },
            "colorscale": [
             [
              0,
              "#0d0887"
             ],
             [
              0.1111111111111111,
              "#46039f"
             ],
             [
              0.2222222222222222,
              "#7201a8"
             ],
             [
              0.3333333333333333,
              "#9c179e"
             ],
             [
              0.4444444444444444,
              "#bd3786"
             ],
             [
              0.5555555555555556,
              "#d8576b"
             ],
             [
              0.6666666666666666,
              "#ed7953"
             ],
             [
              0.7777777777777778,
              "#fb9f3a"
             ],
             [
              0.8888888888888888,
              "#fdca26"
             ],
             [
              1,
              "#f0f921"
             ]
            ],
            "type": "surface"
           }
          ],
          "table": [
           {
            "cells": {
             "fill": {
              "color": "#EBF0F8"
             },
             "line": {
              "color": "white"
             }
            },
            "header": {
             "fill": {
              "color": "#C8D4E3"
             },
             "line": {
              "color": "white"
             }
            },
            "type": "table"
           }
          ]
         },
         "layout": {
          "annotationdefaults": {
           "arrowcolor": "#2a3f5f",
           "arrowhead": 0,
           "arrowwidth": 1
          },
          "autotypenumbers": "strict",
          "coloraxis": {
           "colorbar": {
            "outlinewidth": 0,
            "ticks": ""
           }
          },
          "colorscale": {
           "diverging": [
            [
             0,
             "#8e0152"
            ],
            [
             0.1,
             "#c51b7d"
            ],
            [
             0.2,
             "#de77ae"
            ],
            [
             0.3,
             "#f1b6da"
            ],
            [
             0.4,
             "#fde0ef"
            ],
            [
             0.5,
             "#f7f7f7"
            ],
            [
             0.6,
             "#e6f5d0"
            ],
            [
             0.7,
             "#b8e186"
            ],
            [
             0.8,
             "#7fbc41"
            ],
            [
             0.9,
             "#4d9221"
            ],
            [
             1,
             "#276419"
            ]
           ],
           "sequential": [
            [
             0,
             "#0d0887"
            ],
            [
             0.1111111111111111,
             "#46039f"
            ],
            [
             0.2222222222222222,
             "#7201a8"
            ],
            [
             0.3333333333333333,
             "#9c179e"
            ],
            [
             0.4444444444444444,
             "#bd3786"
            ],
            [
             0.5555555555555556,
             "#d8576b"
            ],
            [
             0.6666666666666666,
             "#ed7953"
            ],
            [
             0.7777777777777778,
             "#fb9f3a"
            ],
            [
             0.8888888888888888,
             "#fdca26"
            ],
            [
             1,
             "#f0f921"
            ]
           ],
           "sequentialminus": [
            [
             0,
             "#0d0887"
            ],
            [
             0.1111111111111111,
             "#46039f"
            ],
            [
             0.2222222222222222,
             "#7201a8"
            ],
            [
             0.3333333333333333,
             "#9c179e"
            ],
            [
             0.4444444444444444,
             "#bd3786"
            ],
            [
             0.5555555555555556,
             "#d8576b"
            ],
            [
             0.6666666666666666,
             "#ed7953"
            ],
            [
             0.7777777777777778,
             "#fb9f3a"
            ],
            [
             0.8888888888888888,
             "#fdca26"
            ],
            [
             1,
             "#f0f921"
            ]
           ]
          },
          "colorway": [
           "#636efa",
           "#EF553B",
           "#00cc96",
           "#ab63fa",
           "#FFA15A",
           "#19d3f3",
           "#FF6692",
           "#B6E880",
           "#FF97FF",
           "#FECB52"
          ],
          "font": {
           "color": "#2a3f5f"
          },
          "geo": {
           "bgcolor": "white",
           "lakecolor": "white",
           "landcolor": "#E5ECF6",
           "showlakes": true,
           "showland": true,
           "subunitcolor": "white"
          },
          "hoverlabel": {
           "align": "left"
          },
          "hovermode": "closest",
          "mapbox": {
           "style": "light"
          },
          "paper_bgcolor": "white",
          "plot_bgcolor": "#E5ECF6",
          "polar": {
           "angularaxis": {
            "gridcolor": "white",
            "linecolor": "white",
            "ticks": ""
           },
           "bgcolor": "#E5ECF6",
           "radialaxis": {
            "gridcolor": "white",
            "linecolor": "white",
            "ticks": ""
           }
          },
          "scene": {
           "xaxis": {
            "backgroundcolor": "#E5ECF6",
            "gridcolor": "white",
            "gridwidth": 2,
            "linecolor": "white",
            "showbackground": true,
            "ticks": "",
            "zerolinecolor": "white"
           },
           "yaxis": {
            "backgroundcolor": "#E5ECF6",
            "gridcolor": "white",
            "gridwidth": 2,
            "linecolor": "white",
            "showbackground": true,
            "ticks": "",
            "zerolinecolor": "white"
           },
           "zaxis": {
            "backgroundcolor": "#E5ECF6",
            "gridcolor": "white",
            "gridwidth": 2,
            "linecolor": "white",
            "showbackground": true,
            "ticks": "",
            "zerolinecolor": "white"
           }
          },
          "shapedefaults": {
           "line": {
            "color": "#2a3f5f"
           }
          },
          "ternary": {
           "aaxis": {
            "gridcolor": "white",
            "linecolor": "white",
            "ticks": ""
           },
           "baxis": {
            "gridcolor": "white",
            "linecolor": "white",
            "ticks": ""
           },
           "bgcolor": "#E5ECF6",
           "caxis": {
            "gridcolor": "white",
            "linecolor": "white",
            "ticks": ""
           }
          },
          "title": {
           "x": 0.05
          },
          "xaxis": {
           "automargin": true,
           "gridcolor": "white",
           "linecolor": "white",
           "ticks": "",
           "title": {
            "standoff": 15
           },
           "zerolinecolor": "white",
           "zerolinewidth": 2
          },
          "yaxis": {
           "automargin": true,
           "gridcolor": "white",
           "linecolor": "white",
           "ticks": "",
           "title": {
            "standoff": 15
           },
           "zerolinecolor": "white",
           "zerolinewidth": 2
          }
         }
        },
        "title": {
         "text": " Monthwise High and Low price"
        }
       }
      }
     },
     "metadata": {},
     "output_type": "display_data"
    }
   ],
   "source": [
    "y_2021.groupby(y_2021['Date'].dt.strftime('%B'))['Low'].min()\n",
    "monthvise_high = y_2021.groupby(maindf['Date'].dt.strftime('%B'))['High'].max()\n",
    "monthvise_high = monthvise_high.reindex(new_order, axis=0)\n",
    "\n",
    "monthvise_low = y_2021.groupby(y_2021['Date'].dt.strftime('%B'))['Low'].min()\n",
    "monthvise_low = monthvise_low.reindex(new_order, axis=0)\n",
    "\n",
    "fig = go.Figure()\n",
    "fig.add_trace(go.Bar(\n",
    "    x=monthvise_high.index,\n",
    "    y=monthvise_high,\n",
    "    name='High Price',\n",
    "    marker_color='rgb(0, 153, 204)'\n",
    "))\n",
    "fig.add_trace(go.Bar(\n",
    "    x=monthvise_low.index,\n",
    "    y=monthvise_low,\n",
    "    name='Low Price',\n",
    "    marker_color='rgb(255, 128, 0)'\n",
    "))\n",
    "\n",
    "fig.update_layout(barmode='group', \n",
    "                  title=' Monthwise High and Low price')\n",
    "fig.show()"
   ]
  },
  {
   "cell_type": "code",
   "execution_count": 52,
   "id": "7fb70ad5",
   "metadata": {
    "execution": {
     "iopub.execute_input": "2021-08-25T15:25:53.457050Z",
     "iopub.status.busy": "2021-08-25T15:25:53.456401Z",
     "iopub.status.idle": "2021-08-25T15:25:53.459258Z",
     "shell.execute_reply": "2021-08-25T15:25:53.459698Z",
     "shell.execute_reply.started": "2021-08-25T14:39:21.437880Z"
    },
    "papermill": {
     "duration": 0.127559,
     "end_time": "2021-08-25T15:25:53.459853",
     "exception": false,
     "start_time": "2021-08-25T15:25:53.332294",
     "status": "completed"
    },
    "tags": []
   },
   "outputs": [
    {
     "name": "stdout",
     "output_type": "stream",
     "text": [
      "Shape of close dataframe: (2920, 2)\n"
     ]
    }
   ],
   "source": [
    "# Lets First Take all the Close Price \n",
    "closedf = maindf[['Date','Close']]\n",
    "print(\"Shape of close dataframe:\", closedf.shape)"
   ]
  },
  {
   "cell_type": "code",
   "execution_count": 53,
   "id": "924cc4f2",
   "metadata": {
    "execution": {
     "iopub.execute_input": "2021-08-25T15:25:53.722927Z",
     "iopub.status.busy": "2021-08-25T15:25:53.721126Z",
     "iopub.status.idle": "2021-08-25T15:25:53.889264Z",
     "shell.execute_reply": "2021-08-25T15:25:53.889758Z",
     "shell.execute_reply.started": "2021-08-25T14:39:21.446640Z"
    },
    "papermill": {
     "duration": 0.310789,
     "end_time": "2021-08-25T15:25:53.889960",
     "exception": false,
     "start_time": "2021-08-25T15:25:53.579171",
     "status": "completed"
    },
    "tags": []
   },
   "outputs": [
    {
     "data": {
      "application/vnd.plotly.v1+json": {
       "config": {
        "plotlyServerURL": "https://plot.ly"
       },
       "data": [
        {
         "hovertemplate": "Date=%{x}<br>Close=%{y}<extra></extra>",
         "legendgroup": "",
         "line": {
          "color": "#636efa",
          "dash": "solid"
         },
         "marker": {
          "line": {
           "color": "orange",
           "width": 2
          },
          "symbol": "circle"
         },
         "mode": "lines",
         "name": "",
         "opacity": 0.8,
         "showlegend": false,
         "type": "scattergl",
         "x": [
          "2014-12-31T00:00:00",
          "2015-01-01T00:00:00",
          "2015-01-02T00:00:00",
          "2015-01-03T00:00:00",
          "2015-01-04T00:00:00",
          "2015-01-05T00:00:00",
          "2015-01-06T00:00:00",
          "2015-01-07T00:00:00",
          "2015-01-08T00:00:00",
          "2015-01-09T00:00:00",
          "2015-01-10T00:00:00",
          "2015-01-11T00:00:00",
          "2015-01-12T00:00:00",
          "2015-01-13T00:00:00",
          "2015-01-14T00:00:00",
          "2015-01-15T00:00:00",
          "2015-01-16T00:00:00",
          "2015-01-17T00:00:00",
          "2015-01-18T00:00:00",
          "2015-01-19T00:00:00",
          "2015-01-20T00:00:00",
          "2015-01-21T00:00:00",
          "2015-01-22T00:00:00",
          "2015-01-23T00:00:00",
          "2015-01-24T00:00:00",
          "2015-01-25T00:00:00",
          "2015-01-26T00:00:00",
          "2015-01-27T00:00:00",
          "2015-01-28T00:00:00",
          "2015-01-29T00:00:00",
          "2015-01-30T00:00:00",
          "2015-01-31T00:00:00",
          "2015-02-01T00:00:00",
          "2015-02-02T00:00:00",
          "2015-02-03T00:00:00",
          "2015-02-04T00:00:00",
          "2015-02-05T00:00:00",
          "2015-02-06T00:00:00",
          "2015-02-07T00:00:00",
          "2015-02-08T00:00:00",
          "2015-02-09T00:00:00",
          "2015-02-10T00:00:00",
          "2015-02-11T00:00:00",
          "2015-02-12T00:00:00",
          "2015-02-13T00:00:00",
          "2015-02-14T00:00:00",
          "2015-02-15T00:00:00",
          "2015-02-16T00:00:00",
          "2015-02-17T00:00:00",
          "2015-02-18T00:00:00",
          "2015-02-19T00:00:00",
          "2015-02-20T00:00:00",
          "2015-02-21T00:00:00",
          "2015-02-22T00:00:00",
          "2015-02-23T00:00:00",
          "2015-02-24T00:00:00",
          "2015-02-25T00:00:00",
          "2015-02-26T00:00:00",
          "2015-02-27T00:00:00",
          "2015-02-28T00:00:00",
          "2015-03-01T00:00:00",
          "2015-03-02T00:00:00",
          "2015-03-03T00:00:00",
          "2015-03-04T00:00:00",
          "2015-03-05T00:00:00",
          "2015-03-06T00:00:00",
          "2015-03-07T00:00:00",
          "2015-03-08T00:00:00",
          "2015-03-09T00:00:00",
          "2015-03-10T00:00:00",
          "2015-03-11T00:00:00",
          "2015-03-12T00:00:00",
          "2015-03-13T00:00:00",
          "2015-03-14T00:00:00",
          "2015-03-15T00:00:00",
          "2015-03-16T00:00:00",
          "2015-03-17T00:00:00",
          "2015-03-18T00:00:00",
          "2015-03-19T00:00:00",
          "2015-03-20T00:00:00",
          "2015-03-21T00:00:00",
          "2015-03-22T00:00:00",
          "2015-03-23T00:00:00",
          "2015-03-24T00:00:00",
          "2015-03-25T00:00:00",
          "2015-03-26T00:00:00",
          "2015-03-27T00:00:00",
          "2015-03-28T00:00:00",
          "2015-03-29T00:00:00",
          "2015-03-30T00:00:00",
          "2015-03-31T00:00:00",
          "2015-04-01T00:00:00",
          "2015-04-02T00:00:00",
          "2015-04-03T00:00:00",
          "2015-04-04T00:00:00",
          "2015-04-05T00:00:00",
          "2015-04-06T00:00:00",
          "2015-04-07T00:00:00",
          "2015-04-08T00:00:00",
          "2015-04-09T00:00:00",
          "2015-04-10T00:00:00",
          "2015-04-11T00:00:00",
          "2015-04-12T00:00:00",
          "2015-04-13T00:00:00",
          "2015-04-14T00:00:00",
          "2015-04-15T00:00:00",
          "2015-04-16T00:00:00",
          "2015-04-17T00:00:00",
          "2015-04-18T00:00:00",
          "2015-04-19T00:00:00",
          "2015-04-20T00:00:00",
          "2015-04-21T00:00:00",
          "2015-04-22T00:00:00",
          "2015-04-23T00:00:00",
          "2015-04-24T00:00:00",
          "2015-04-25T00:00:00",
          "2015-04-26T00:00:00",
          "2015-04-27T00:00:00",
          "2015-04-28T00:00:00",
          "2015-04-29T00:00:00",
          "2015-04-30T00:00:00",
          "2015-05-01T00:00:00",
          "2015-05-02T00:00:00",
          "2015-05-03T00:00:00",
          "2015-05-04T00:00:00",
          "2015-05-05T00:00:00",
          "2015-05-06T00:00:00",
          "2015-05-07T00:00:00",
          "2015-05-08T00:00:00",
          "2015-05-09T00:00:00",
          "2015-05-10T00:00:00",
          "2015-05-11T00:00:00",
          "2015-05-12T00:00:00",
          "2015-05-13T00:00:00",
          "2015-05-14T00:00:00",
          "2015-05-15T00:00:00",
          "2015-05-16T00:00:00",
          "2015-05-17T00:00:00",
          "2015-05-18T00:00:00",
          "2015-05-19T00:00:00",
          "2015-05-20T00:00:00",
          "2015-05-21T00:00:00",
          "2015-05-22T00:00:00",
          "2015-05-23T00:00:00",
          "2015-05-24T00:00:00",
          "2015-05-25T00:00:00",
          "2015-05-26T00:00:00",
          "2015-05-27T00:00:00",
          "2015-05-28T00:00:00",
          "2015-05-29T00:00:00",
          "2015-05-30T00:00:00",
          "2015-05-31T00:00:00",
          "2015-06-01T00:00:00",
          "2015-06-02T00:00:00",
          "2015-06-03T00:00:00",
          "2015-06-04T00:00:00",
          "2015-06-05T00:00:00",
          "2015-06-06T00:00:00",
          "2015-06-07T00:00:00",
          "2015-06-08T00:00:00",
          "2015-06-09T00:00:00",
          "2015-06-10T00:00:00",
          "2015-06-11T00:00:00",
          "2015-06-12T00:00:00",
          "2015-06-13T00:00:00",
          "2015-06-14T00:00:00",
          "2015-06-15T00:00:00",
          "2015-06-16T00:00:00",
          "2015-06-17T00:00:00",
          "2015-06-18T00:00:00",
          "2015-06-19T00:00:00",
          "2015-06-20T00:00:00",
          "2015-06-21T00:00:00",
          "2015-06-22T00:00:00",
          "2015-06-23T00:00:00",
          "2015-06-24T00:00:00",
          "2015-06-25T00:00:00",
          "2015-06-26T00:00:00",
          "2015-06-27T00:00:00",
          "2015-06-28T00:00:00",
          "2015-06-29T00:00:00",
          "2015-06-30T00:00:00",
          "2015-07-01T00:00:00",
          "2015-07-02T00:00:00",
          "2015-07-03T00:00:00",
          "2015-07-04T00:00:00",
          "2015-07-05T00:00:00",
          "2015-07-06T00:00:00",
          "2015-07-07T00:00:00",
          "2015-07-08T00:00:00",
          "2015-07-09T00:00:00",
          "2015-07-10T00:00:00",
          "2015-07-11T00:00:00",
          "2015-07-12T00:00:00",
          "2015-07-13T00:00:00",
          "2015-07-14T00:00:00",
          "2015-07-15T00:00:00",
          "2015-07-16T00:00:00",
          "2015-07-17T00:00:00",
          "2015-07-18T00:00:00",
          "2015-07-19T00:00:00",
          "2015-07-20T00:00:00",
          "2015-07-21T00:00:00",
          "2015-07-22T00:00:00",
          "2015-07-23T00:00:00",
          "2015-07-24T00:00:00",
          "2015-07-25T00:00:00",
          "2015-07-26T00:00:00",
          "2015-07-27T00:00:00",
          "2015-07-28T00:00:00",
          "2015-07-29T00:00:00",
          "2015-07-30T00:00:00",
          "2015-07-31T00:00:00",
          "2015-08-01T00:00:00",
          "2015-08-02T00:00:00",
          "2015-08-03T00:00:00",
          "2015-08-04T00:00:00",
          "2015-08-05T00:00:00",
          "2015-08-06T00:00:00",
          "2015-08-07T00:00:00",
          "2015-08-08T00:00:00",
          "2015-08-09T00:00:00",
          "2015-08-10T00:00:00",
          "2015-08-11T00:00:00",
          "2015-08-12T00:00:00",
          "2015-08-13T00:00:00",
          "2015-08-14T00:00:00",
          "2015-08-15T00:00:00",
          "2015-08-16T00:00:00",
          "2015-08-17T00:00:00",
          "2015-08-18T00:00:00",
          "2015-08-19T00:00:00",
          "2015-08-20T00:00:00",
          "2015-08-21T00:00:00",
          "2015-08-22T00:00:00",
          "2015-08-23T00:00:00",
          "2015-08-24T00:00:00",
          "2015-08-25T00:00:00",
          "2015-08-26T00:00:00",
          "2015-08-27T00:00:00",
          "2015-08-28T00:00:00",
          "2015-08-29T00:00:00",
          "2015-08-30T00:00:00",
          "2015-08-31T00:00:00",
          "2015-09-01T00:00:00",
          "2015-09-02T00:00:00",
          "2015-09-03T00:00:00",
          "2015-09-04T00:00:00",
          "2015-09-05T00:00:00",
          "2015-09-06T00:00:00",
          "2015-09-07T00:00:00",
          "2015-09-08T00:00:00",
          "2015-09-09T00:00:00",
          "2015-09-10T00:00:00",
          "2015-09-11T00:00:00",
          "2015-09-12T00:00:00",
          "2015-09-13T00:00:00",
          "2015-09-14T00:00:00",
          "2015-09-15T00:00:00",
          "2015-09-16T00:00:00",
          "2015-09-17T00:00:00",
          "2015-09-18T00:00:00",
          "2015-09-19T00:00:00",
          "2015-09-20T00:00:00",
          "2015-09-21T00:00:00",
          "2015-09-22T00:00:00",
          "2015-09-23T00:00:00",
          "2015-09-24T00:00:00",
          "2015-09-25T00:00:00",
          "2015-09-26T00:00:00",
          "2015-09-27T00:00:00",
          "2015-09-28T00:00:00",
          "2015-09-29T00:00:00",
          "2015-09-30T00:00:00",
          "2015-10-01T00:00:00",
          "2015-10-02T00:00:00",
          "2015-10-03T00:00:00",
          "2015-10-04T00:00:00",
          "2015-10-05T00:00:00",
          "2015-10-06T00:00:00",
          "2015-10-07T00:00:00",
          "2015-10-08T00:00:00",
          "2015-10-09T00:00:00",
          "2015-10-10T00:00:00",
          "2015-10-11T00:00:00",
          "2015-10-12T00:00:00",
          "2015-10-13T00:00:00",
          "2015-10-14T00:00:00",
          "2015-10-15T00:00:00",
          "2015-10-16T00:00:00",
          "2015-10-17T00:00:00",
          "2015-10-18T00:00:00",
          "2015-10-19T00:00:00",
          "2015-10-20T00:00:00",
          "2015-10-21T00:00:00",
          "2015-10-22T00:00:00",
          "2015-10-23T00:00:00",
          "2015-10-24T00:00:00",
          "2015-10-25T00:00:00",
          "2015-10-26T00:00:00",
          "2015-10-27T00:00:00",
          "2015-10-28T00:00:00",
          "2015-10-29T00:00:00",
          "2015-10-30T00:00:00",
          "2015-10-31T00:00:00",
          "2015-11-01T00:00:00",
          "2015-11-02T00:00:00",
          "2015-11-03T00:00:00",
          "2015-11-04T00:00:00",
          "2015-11-05T00:00:00",
          "2015-11-06T00:00:00",
          "2015-11-07T00:00:00",
          "2015-11-08T00:00:00",
          "2015-11-09T00:00:00",
          "2015-11-10T00:00:00",
          "2015-11-11T00:00:00",
          "2015-11-12T00:00:00",
          "2015-11-13T00:00:00",
          "2015-11-14T00:00:00",
          "2015-11-15T00:00:00",
          "2015-11-16T00:00:00",
          "2015-11-17T00:00:00",
          "2015-11-18T00:00:00",
          "2015-11-19T00:00:00",
          "2015-11-20T00:00:00",
          "2015-11-21T00:00:00",
          "2015-11-22T00:00:00",
          "2015-11-23T00:00:00",
          "2015-11-24T00:00:00",
          "2015-11-25T00:00:00",
          "2015-11-26T00:00:00",
          "2015-11-27T00:00:00",
          "2015-11-28T00:00:00",
          "2015-11-29T00:00:00",
          "2015-11-30T00:00:00",
          "2015-12-01T00:00:00",
          "2015-12-02T00:00:00",
          "2015-12-03T00:00:00",
          "2015-12-04T00:00:00",
          "2015-12-05T00:00:00",
          "2015-12-06T00:00:00",
          "2015-12-07T00:00:00",
          "2015-12-08T00:00:00",
          "2015-12-09T00:00:00",
          "2015-12-10T00:00:00",
          "2015-12-11T00:00:00",
          "2015-12-12T00:00:00",
          "2015-12-13T00:00:00",
          "2015-12-14T00:00:00",
          "2015-12-15T00:00:00",
          "2015-12-16T00:00:00",
          "2015-12-17T00:00:00",
          "2015-12-18T00:00:00",
          "2015-12-19T00:00:00",
          "2015-12-20T00:00:00",
          "2015-12-21T00:00:00",
          "2015-12-22T00:00:00",
          "2015-12-23T00:00:00",
          "2015-12-24T00:00:00",
          "2015-12-25T00:00:00",
          "2015-12-26T00:00:00",
          "2015-12-27T00:00:00",
          "2015-12-28T00:00:00",
          "2015-12-29T00:00:00",
          "2015-12-30T00:00:00",
          "2015-12-31T00:00:00",
          "2016-01-01T00:00:00",
          "2016-01-02T00:00:00",
          "2016-01-03T00:00:00",
          "2016-01-04T00:00:00",
          "2016-01-05T00:00:00",
          "2016-01-06T00:00:00",
          "2016-01-07T00:00:00",
          "2016-01-08T00:00:00",
          "2016-01-09T00:00:00",
          "2016-01-10T00:00:00",
          "2016-01-11T00:00:00",
          "2016-01-12T00:00:00",
          "2016-01-13T00:00:00",
          "2016-01-14T00:00:00",
          "2016-01-15T00:00:00",
          "2016-01-16T00:00:00",
          "2016-01-17T00:00:00",
          "2016-01-18T00:00:00",
          "2016-01-19T00:00:00",
          "2016-01-20T00:00:00",
          "2016-01-21T00:00:00",
          "2016-01-22T00:00:00",
          "2016-01-23T00:00:00",
          "2016-01-24T00:00:00",
          "2016-01-25T00:00:00",
          "2016-01-26T00:00:00",
          "2016-01-27T00:00:00",
          "2016-01-28T00:00:00",
          "2016-01-29T00:00:00",
          "2016-01-30T00:00:00",
          "2016-01-31T00:00:00",
          "2016-02-01T00:00:00",
          "2016-02-02T00:00:00",
          "2016-02-03T00:00:00",
          "2016-02-04T00:00:00",
          "2016-02-05T00:00:00",
          "2016-02-06T00:00:00",
          "2016-02-07T00:00:00",
          "2016-02-08T00:00:00",
          "2016-02-09T00:00:00",
          "2016-02-10T00:00:00",
          "2016-02-11T00:00:00",
          "2016-02-12T00:00:00",
          "2016-02-13T00:00:00",
          "2016-02-14T00:00:00",
          "2016-02-15T00:00:00",
          "2016-02-16T00:00:00",
          "2016-02-17T00:00:00",
          "2016-02-18T00:00:00",
          "2016-02-19T00:00:00",
          "2016-02-20T00:00:00",
          "2016-02-21T00:00:00",
          "2016-02-22T00:00:00",
          "2016-02-23T00:00:00",
          "2016-02-24T00:00:00",
          "2016-02-25T00:00:00",
          "2016-02-26T00:00:00",
          "2016-02-27T00:00:00",
          "2016-02-28T00:00:00",
          "2016-02-29T00:00:00",
          "2016-03-01T00:00:00",
          "2016-03-02T00:00:00",
          "2016-03-03T00:00:00",
          "2016-03-04T00:00:00",
          "2016-03-05T00:00:00",
          "2016-03-06T00:00:00",
          "2016-03-07T00:00:00",
          "2016-03-08T00:00:00",
          "2016-03-09T00:00:00",
          "2016-03-10T00:00:00",
          "2016-03-11T00:00:00",
          "2016-03-12T00:00:00",
          "2016-03-13T00:00:00",
          "2016-03-14T00:00:00",
          "2016-03-15T00:00:00",
          "2016-03-16T00:00:00",
          "2016-03-17T00:00:00",
          "2016-03-18T00:00:00",
          "2016-03-19T00:00:00",
          "2016-03-20T00:00:00",
          "2016-03-21T00:00:00",
          "2016-03-22T00:00:00",
          "2016-03-23T00:00:00",
          "2016-03-24T00:00:00",
          "2016-03-25T00:00:00",
          "2016-03-26T00:00:00",
          "2016-03-27T00:00:00",
          "2016-03-28T00:00:00",
          "2016-03-29T00:00:00",
          "2016-03-30T00:00:00",
          "2016-03-31T00:00:00",
          "2016-04-01T00:00:00",
          "2016-04-02T00:00:00",
          "2016-04-03T00:00:00",
          "2016-04-04T00:00:00",
          "2016-04-05T00:00:00",
          "2016-04-06T00:00:00",
          "2016-04-07T00:00:00",
          "2016-04-08T00:00:00",
          "2016-04-09T00:00:00",
          "2016-04-10T00:00:00",
          "2016-04-11T00:00:00",
          "2016-04-12T00:00:00",
          "2016-04-13T00:00:00",
          "2016-04-14T00:00:00",
          "2016-04-15T00:00:00",
          "2016-04-16T00:00:00",
          "2016-04-17T00:00:00",
          "2016-04-18T00:00:00",
          "2016-04-19T00:00:00",
          "2016-04-20T00:00:00",
          "2016-04-21T00:00:00",
          "2016-04-22T00:00:00",
          "2016-04-23T00:00:00",
          "2016-04-24T00:00:00",
          "2016-04-25T00:00:00",
          "2016-04-26T00:00:00",
          "2016-04-27T00:00:00",
          "2016-04-28T00:00:00",
          "2016-04-29T00:00:00",
          "2016-04-30T00:00:00",
          "2016-05-01T00:00:00",
          "2016-05-02T00:00:00",
          "2016-05-03T00:00:00",
          "2016-05-04T00:00:00",
          "2016-05-05T00:00:00",
          "2016-05-06T00:00:00",
          "2016-05-07T00:00:00",
          "2016-05-08T00:00:00",
          "2016-05-09T00:00:00",
          "2016-05-10T00:00:00",
          "2016-05-11T00:00:00",
          "2016-05-12T00:00:00",
          "2016-05-13T00:00:00",
          "2016-05-14T00:00:00",
          "2016-05-15T00:00:00",
          "2016-05-16T00:00:00",
          "2016-05-17T00:00:00",
          "2016-05-18T00:00:00",
          "2016-05-19T00:00:00",
          "2016-05-20T00:00:00",
          "2016-05-21T00:00:00",
          "2016-05-22T00:00:00",
          "2016-05-23T00:00:00",
          "2016-05-24T00:00:00",
          "2016-05-25T00:00:00",
          "2016-05-26T00:00:00",
          "2016-05-27T00:00:00",
          "2016-05-28T00:00:00",
          "2016-05-29T00:00:00",
          "2016-05-30T00:00:00",
          "2016-05-31T00:00:00",
          "2016-06-01T00:00:00",
          "2016-06-02T00:00:00",
          "2016-06-03T00:00:00",
          "2016-06-04T00:00:00",
          "2016-06-05T00:00:00",
          "2016-06-06T00:00:00",
          "2016-06-07T00:00:00",
          "2016-06-08T00:00:00",
          "2016-06-09T00:00:00",
          "2016-06-10T00:00:00",
          "2016-06-11T00:00:00",
          "2016-06-12T00:00:00",
          "2016-06-13T00:00:00",
          "2016-06-14T00:00:00",
          "2016-06-15T00:00:00",
          "2016-06-16T00:00:00",
          "2016-06-17T00:00:00",
          "2016-06-18T00:00:00",
          "2016-06-19T00:00:00",
          "2016-06-20T00:00:00",
          "2016-06-21T00:00:00",
          "2016-06-22T00:00:00",
          "2016-06-23T00:00:00",
          "2016-06-24T00:00:00",
          "2016-06-25T00:00:00",
          "2016-06-26T00:00:00",
          "2016-06-27T00:00:00",
          "2016-06-28T00:00:00",
          "2016-06-29T00:00:00",
          "2016-06-30T00:00:00",
          "2016-07-01T00:00:00",
          "2016-07-02T00:00:00",
          "2016-07-03T00:00:00",
          "2016-07-04T00:00:00",
          "2016-07-05T00:00:00",
          "2016-07-06T00:00:00",
          "2016-07-07T00:00:00",
          "2016-07-08T00:00:00",
          "2016-07-09T00:00:00",
          "2016-07-10T00:00:00",
          "2016-07-11T00:00:00",
          "2016-07-12T00:00:00",
          "2016-07-13T00:00:00",
          "2016-07-14T00:00:00",
          "2016-07-15T00:00:00",
          "2016-07-16T00:00:00",
          "2016-07-17T00:00:00",
          "2016-07-18T00:00:00",
          "2016-07-19T00:00:00",
          "2016-07-20T00:00:00",
          "2016-07-21T00:00:00",
          "2016-07-22T00:00:00",
          "2016-07-23T00:00:00",
          "2016-07-24T00:00:00",
          "2016-07-25T00:00:00",
          "2016-07-26T00:00:00",
          "2016-07-27T00:00:00",
          "2016-07-28T00:00:00",
          "2016-07-29T00:00:00",
          "2016-07-30T00:00:00",
          "2016-07-31T00:00:00",
          "2016-08-01T00:00:00",
          "2016-08-02T00:00:00",
          "2016-08-03T00:00:00",
          "2016-08-04T00:00:00",
          "2016-08-05T00:00:00",
          "2016-08-06T00:00:00",
          "2016-08-07T00:00:00",
          "2016-08-08T00:00:00",
          "2016-08-09T00:00:00",
          "2016-08-10T00:00:00",
          "2016-08-11T00:00:00",
          "2016-08-12T00:00:00",
          "2016-08-13T00:00:00",
          "2016-08-14T00:00:00",
          "2016-08-15T00:00:00",
          "2016-08-16T00:00:00",
          "2016-08-17T00:00:00",
          "2016-08-18T00:00:00",
          "2016-08-19T00:00:00",
          "2016-08-20T00:00:00",
          "2016-08-21T00:00:00",
          "2016-08-22T00:00:00",
          "2016-08-23T00:00:00",
          "2016-08-24T00:00:00",
          "2016-08-25T00:00:00",
          "2016-08-26T00:00:00",
          "2016-08-27T00:00:00",
          "2016-08-28T00:00:00",
          "2016-08-29T00:00:00",
          "2016-08-30T00:00:00",
          "2016-08-31T00:00:00",
          "2016-09-01T00:00:00",
          "2016-09-02T00:00:00",
          "2016-09-03T00:00:00",
          "2016-09-04T00:00:00",
          "2016-09-05T00:00:00",
          "2016-09-06T00:00:00",
          "2016-09-07T00:00:00",
          "2016-09-08T00:00:00",
          "2016-09-09T00:00:00",
          "2016-09-10T00:00:00",
          "2016-09-11T00:00:00",
          "2016-09-12T00:00:00",
          "2016-09-13T00:00:00",
          "2016-09-14T00:00:00",
          "2016-09-15T00:00:00",
          "2016-09-16T00:00:00",
          "2016-09-17T00:00:00",
          "2016-09-18T00:00:00",
          "2016-09-19T00:00:00",
          "2016-09-20T00:00:00",
          "2016-09-21T00:00:00",
          "2016-09-22T00:00:00",
          "2016-09-23T00:00:00",
          "2016-09-24T00:00:00",
          "2016-09-25T00:00:00",
          "2016-09-26T00:00:00",
          "2016-09-27T00:00:00",
          "2016-09-28T00:00:00",
          "2016-09-29T00:00:00",
          "2016-09-30T00:00:00",
          "2016-10-01T00:00:00",
          "2016-10-02T00:00:00",
          "2016-10-03T00:00:00",
          "2016-10-04T00:00:00",
          "2016-10-05T00:00:00",
          "2016-10-06T00:00:00",
          "2016-10-07T00:00:00",
          "2016-10-08T00:00:00",
          "2016-10-09T00:00:00",
          "2016-10-10T00:00:00",
          "2016-10-11T00:00:00",
          "2016-10-12T00:00:00",
          "2016-10-13T00:00:00",
          "2016-10-14T00:00:00",
          "2016-10-15T00:00:00",
          "2016-10-16T00:00:00",
          "2016-10-17T00:00:00",
          "2016-10-18T00:00:00",
          "2016-10-19T00:00:00",
          "2016-10-20T00:00:00",
          "2016-10-21T00:00:00",
          "2016-10-22T00:00:00",
          "2016-10-23T00:00:00",
          "2016-10-24T00:00:00",
          "2016-10-25T00:00:00",
          "2016-10-26T00:00:00",
          "2016-10-27T00:00:00",
          "2016-10-28T00:00:00",
          "2016-10-29T00:00:00",
          "2016-10-30T00:00:00",
          "2016-10-31T00:00:00",
          "2016-11-01T00:00:00",
          "2016-11-02T00:00:00",
          "2016-11-03T00:00:00",
          "2016-11-04T00:00:00",
          "2016-11-05T00:00:00",
          "2016-11-06T00:00:00",
          "2016-11-07T00:00:00",
          "2016-11-08T00:00:00",
          "2016-11-09T00:00:00",
          "2016-11-10T00:00:00",
          "2016-11-11T00:00:00",
          "2016-11-12T00:00:00",
          "2016-11-13T00:00:00",
          "2016-11-14T00:00:00",
          "2016-11-15T00:00:00",
          "2016-11-16T00:00:00",
          "2016-11-17T00:00:00",
          "2016-11-18T00:00:00",
          "2016-11-19T00:00:00",
          "2016-11-20T00:00:00",
          "2016-11-21T00:00:00",
          "2016-11-22T00:00:00",
          "2016-11-23T00:00:00",
          "2016-11-24T00:00:00",
          "2016-11-25T00:00:00",
          "2016-11-26T00:00:00",
          "2016-11-27T00:00:00",
          "2016-11-28T00:00:00",
          "2016-11-29T00:00:00",
          "2016-11-30T00:00:00",
          "2016-12-01T00:00:00",
          "2016-12-02T00:00:00",
          "2016-12-03T00:00:00",
          "2016-12-04T00:00:00",
          "2016-12-05T00:00:00",
          "2016-12-06T00:00:00",
          "2016-12-07T00:00:00",
          "2016-12-08T00:00:00",
          "2016-12-09T00:00:00",
          "2016-12-10T00:00:00",
          "2016-12-11T00:00:00",
          "2016-12-12T00:00:00",
          "2016-12-13T00:00:00",
          "2016-12-14T00:00:00",
          "2016-12-15T00:00:00",
          "2016-12-16T00:00:00",
          "2016-12-17T00:00:00",
          "2016-12-18T00:00:00",
          "2016-12-19T00:00:00",
          "2016-12-20T00:00:00",
          "2016-12-21T00:00:00",
          "2016-12-22T00:00:00",
          "2016-12-23T00:00:00",
          "2016-12-24T00:00:00",
          "2016-12-25T00:00:00",
          "2016-12-26T00:00:00",
          "2016-12-27T00:00:00",
          "2016-12-28T00:00:00",
          "2016-12-29T00:00:00",
          "2016-12-30T00:00:00",
          "2016-12-31T00:00:00",
          "2017-01-01T00:00:00",
          "2017-01-02T00:00:00",
          "2017-01-03T00:00:00",
          "2017-01-04T00:00:00",
          "2017-01-05T00:00:00",
          "2017-01-06T00:00:00",
          "2017-01-07T00:00:00",
          "2017-01-08T00:00:00",
          "2017-01-09T00:00:00",
          "2017-01-10T00:00:00",
          "2017-01-11T00:00:00",
          "2017-01-12T00:00:00",
          "2017-01-13T00:00:00",
          "2017-01-14T00:00:00",
          "2017-01-15T00:00:00",
          "2017-01-16T00:00:00",
          "2017-01-17T00:00:00",
          "2017-01-18T00:00:00",
          "2017-01-19T00:00:00",
          "2017-01-20T00:00:00",
          "2017-01-21T00:00:00",
          "2017-01-22T00:00:00",
          "2017-01-23T00:00:00",
          "2017-01-24T00:00:00",
          "2017-01-25T00:00:00",
          "2017-01-26T00:00:00",
          "2017-01-27T00:00:00",
          "2017-01-28T00:00:00",
          "2017-01-29T00:00:00",
          "2017-01-30T00:00:00",
          "2017-01-31T00:00:00",
          "2017-02-01T00:00:00",
          "2017-02-02T00:00:00",
          "2017-02-03T00:00:00",
          "2017-02-04T00:00:00",
          "2017-02-05T00:00:00",
          "2017-02-06T00:00:00",
          "2017-02-07T00:00:00",
          "2017-02-08T00:00:00",
          "2017-02-09T00:00:00",
          "2017-02-10T00:00:00",
          "2017-02-11T00:00:00",
          "2017-02-12T00:00:00",
          "2017-02-13T00:00:00",
          "2017-02-14T00:00:00",
          "2017-02-15T00:00:00",
          "2017-02-16T00:00:00",
          "2017-02-17T00:00:00",
          "2017-02-18T00:00:00",
          "2017-02-19T00:00:00",
          "2017-02-20T00:00:00",
          "2017-02-21T00:00:00",
          "2017-02-22T00:00:00",
          "2017-02-23T00:00:00",
          "2017-02-24T00:00:00",
          "2017-02-25T00:00:00",
          "2017-02-26T00:00:00",
          "2017-02-27T00:00:00",
          "2017-02-28T00:00:00",
          "2017-03-01T00:00:00",
          "2017-03-02T00:00:00",
          "2017-03-03T00:00:00",
          "2017-03-04T00:00:00",
          "2017-03-05T00:00:00",
          "2017-03-06T00:00:00",
          "2017-03-07T00:00:00",
          "2017-03-08T00:00:00",
          "2017-03-09T00:00:00",
          "2017-03-10T00:00:00",
          "2017-03-11T00:00:00",
          "2017-03-12T00:00:00",
          "2017-03-13T00:00:00",
          "2017-03-14T00:00:00",
          "2017-03-15T00:00:00",
          "2017-03-16T00:00:00",
          "2017-03-17T00:00:00",
          "2017-03-18T00:00:00",
          "2017-03-19T00:00:00",
          "2017-03-20T00:00:00",
          "2017-03-21T00:00:00",
          "2017-03-22T00:00:00",
          "2017-03-23T00:00:00",
          "2017-03-24T00:00:00",
          "2017-03-25T00:00:00",
          "2017-03-26T00:00:00",
          "2017-03-27T00:00:00",
          "2017-03-28T00:00:00",
          "2017-03-29T00:00:00",
          "2017-03-30T00:00:00",
          "2017-03-31T00:00:00",
          "2017-04-01T00:00:00",
          "2017-04-02T00:00:00",
          "2017-04-03T00:00:00",
          "2017-04-04T00:00:00",
          "2017-04-05T00:00:00",
          "2017-04-06T00:00:00",
          "2017-04-07T00:00:00",
          "2017-04-08T00:00:00",
          "2017-04-09T00:00:00",
          "2017-04-10T00:00:00",
          "2017-04-11T00:00:00",
          "2017-04-12T00:00:00",
          "2017-04-13T00:00:00",
          "2017-04-14T00:00:00",
          "2017-04-15T00:00:00",
          "2017-04-16T00:00:00",
          "2017-04-17T00:00:00",
          "2017-04-18T00:00:00",
          "2017-04-19T00:00:00",
          "2017-04-20T00:00:00",
          "2017-04-21T00:00:00",
          "2017-04-22T00:00:00",
          "2017-04-23T00:00:00",
          "2017-04-24T00:00:00",
          "2017-04-25T00:00:00",
          "2017-04-26T00:00:00",
          "2017-04-27T00:00:00",
          "2017-04-28T00:00:00",
          "2017-04-29T00:00:00",
          "2017-04-30T00:00:00",
          "2017-05-01T00:00:00",
          "2017-05-02T00:00:00",
          "2017-05-03T00:00:00",
          "2017-05-04T00:00:00",
          "2017-05-05T00:00:00",
          "2017-05-06T00:00:00",
          "2017-05-07T00:00:00",
          "2017-05-08T00:00:00",
          "2017-05-09T00:00:00",
          "2017-05-10T00:00:00",
          "2017-05-11T00:00:00",
          "2017-05-12T00:00:00",
          "2017-05-13T00:00:00",
          "2017-05-14T00:00:00",
          "2017-05-15T00:00:00",
          "2017-05-16T00:00:00",
          "2017-05-17T00:00:00",
          "2017-05-18T00:00:00",
          "2017-05-19T00:00:00",
          "2017-05-20T00:00:00",
          "2017-05-21T00:00:00",
          "2017-05-22T00:00:00",
          "2017-05-23T00:00:00",
          "2017-05-24T00:00:00",
          "2017-05-25T00:00:00",
          "2017-05-26T00:00:00",
          "2017-05-27T00:00:00",
          "2017-05-28T00:00:00",
          "2017-05-29T00:00:00",
          "2017-05-30T00:00:00",
          "2017-05-31T00:00:00",
          "2017-06-01T00:00:00",
          "2017-06-02T00:00:00",
          "2017-06-03T00:00:00",
          "2017-06-04T00:00:00",
          "2017-06-05T00:00:00",
          "2017-06-06T00:00:00",
          "2017-06-07T00:00:00",
          "2017-06-08T00:00:00",
          "2017-06-09T00:00:00",
          "2017-06-10T00:00:00",
          "2017-06-11T00:00:00",
          "2017-06-12T00:00:00",
          "2017-06-13T00:00:00",
          "2017-06-14T00:00:00",
          "2017-06-15T00:00:00",
          "2017-06-16T00:00:00",
          "2017-06-17T00:00:00",
          "2017-06-18T00:00:00",
          "2017-06-19T00:00:00",
          "2017-06-20T00:00:00",
          "2017-06-21T00:00:00",
          "2017-06-22T00:00:00",
          "2017-06-23T00:00:00",
          "2017-06-24T00:00:00",
          "2017-06-25T00:00:00",
          "2017-06-26T00:00:00",
          "2017-06-27T00:00:00",
          "2017-06-28T00:00:00",
          "2017-06-29T00:00:00",
          "2017-06-30T00:00:00",
          "2017-07-01T00:00:00",
          "2017-07-02T00:00:00",
          "2017-07-03T00:00:00",
          "2017-07-04T00:00:00",
          "2017-07-05T00:00:00",
          "2017-07-06T00:00:00",
          "2017-07-07T00:00:00",
          "2017-07-08T00:00:00",
          "2017-07-09T00:00:00",
          "2017-07-10T00:00:00",
          "2017-07-11T00:00:00",
          "2017-07-12T00:00:00",
          "2017-07-13T00:00:00",
          "2017-07-14T00:00:00",
          "2017-07-15T00:00:00",
          "2017-07-16T00:00:00",
          "2017-07-17T00:00:00",
          "2017-07-18T00:00:00",
          "2017-07-19T00:00:00",
          "2017-07-20T00:00:00",
          "2017-07-21T00:00:00",
          "2017-07-22T00:00:00",
          "2017-07-23T00:00:00",
          "2017-07-24T00:00:00",
          "2017-07-25T00:00:00",
          "2017-07-26T00:00:00",
          "2017-07-27T00:00:00",
          "2017-07-28T00:00:00",
          "2017-07-29T00:00:00",
          "2017-07-30T00:00:00",
          "2017-07-31T00:00:00",
          "2017-08-01T00:00:00",
          "2017-08-02T00:00:00",
          "2017-08-03T00:00:00",
          "2017-08-04T00:00:00",
          "2017-08-05T00:00:00",
          "2017-08-06T00:00:00",
          "2017-08-07T00:00:00",
          "2017-08-08T00:00:00",
          "2017-08-09T00:00:00",
          "2017-08-10T00:00:00",
          "2017-08-11T00:00:00",
          "2017-08-12T00:00:00",
          "2017-08-13T00:00:00",
          "2017-08-14T00:00:00",
          "2017-08-15T00:00:00",
          "2017-08-16T00:00:00",
          "2017-08-17T00:00:00",
          "2017-08-18T00:00:00",
          "2017-08-19T00:00:00",
          "2017-08-20T00:00:00",
          "2017-08-21T00:00:00",
          "2017-08-22T00:00:00",
          "2017-08-23T00:00:00",
          "2017-08-24T00:00:00",
          "2017-08-25T00:00:00",
          "2017-08-26T00:00:00",
          "2017-08-27T00:00:00",
          "2017-08-28T00:00:00",
          "2017-08-29T00:00:00",
          "2017-08-30T00:00:00",
          "2017-08-31T00:00:00",
          "2017-09-01T00:00:00",
          "2017-09-02T00:00:00",
          "2017-09-03T00:00:00",
          "2017-09-04T00:00:00",
          "2017-09-05T00:00:00",
          "2017-09-06T00:00:00",
          "2017-09-07T00:00:00",
          "2017-09-08T00:00:00",
          "2017-09-09T00:00:00",
          "2017-09-10T00:00:00",
          "2017-09-11T00:00:00",
          "2017-09-12T00:00:00",
          "2017-09-13T00:00:00",
          "2017-09-14T00:00:00",
          "2017-09-15T00:00:00",
          "2017-09-16T00:00:00",
          "2017-09-17T00:00:00",
          "2017-09-18T00:00:00",
          "2017-09-19T00:00:00",
          "2017-09-20T00:00:00",
          "2017-09-21T00:00:00",
          "2017-09-22T00:00:00",
          "2017-09-23T00:00:00",
          "2017-09-24T00:00:00",
          "2017-09-25T00:00:00",
          "2017-09-26T00:00:00",
          "2017-09-27T00:00:00",
          "2017-09-28T00:00:00",
          "2017-09-29T00:00:00",
          "2017-09-30T00:00:00",
          "2017-10-01T00:00:00",
          "2017-10-02T00:00:00",
          "2017-10-03T00:00:00",
          "2017-10-04T00:00:00",
          "2017-10-05T00:00:00",
          "2017-10-06T00:00:00",
          "2017-10-07T00:00:00",
          "2017-10-08T00:00:00",
          "2017-10-09T00:00:00",
          "2017-10-10T00:00:00",
          "2017-10-11T00:00:00",
          "2017-10-12T00:00:00",
          "2017-10-13T00:00:00",
          "2017-10-14T00:00:00",
          "2017-10-15T00:00:00",
          "2017-10-16T00:00:00",
          "2017-10-17T00:00:00",
          "2017-10-18T00:00:00",
          "2017-10-19T00:00:00",
          "2017-10-20T00:00:00",
          "2017-10-21T00:00:00",
          "2017-10-22T00:00:00",
          "2017-10-23T00:00:00",
          "2017-10-24T00:00:00",
          "2017-10-25T00:00:00",
          "2017-10-26T00:00:00",
          "2017-10-27T00:00:00",
          "2017-10-28T00:00:00",
          "2017-10-29T00:00:00",
          "2017-10-30T00:00:00",
          "2017-10-31T00:00:00",
          "2017-11-01T00:00:00",
          "2017-11-02T00:00:00",
          "2017-11-03T00:00:00",
          "2017-11-04T00:00:00",
          "2017-11-05T00:00:00",
          "2017-11-06T00:00:00",
          "2017-11-07T00:00:00",
          "2017-11-08T00:00:00",
          "2017-11-09T00:00:00",
          "2017-11-10T00:00:00",
          "2017-11-11T00:00:00",
          "2017-11-12T00:00:00",
          "2017-11-13T00:00:00",
          "2017-11-14T00:00:00",
          "2017-11-15T00:00:00",
          "2017-11-16T00:00:00",
          "2017-11-17T00:00:00",
          "2017-11-18T00:00:00",
          "2017-11-19T00:00:00",
          "2017-11-20T00:00:00",
          "2017-11-21T00:00:00",
          "2017-11-22T00:00:00",
          "2017-11-23T00:00:00",
          "2017-11-24T00:00:00",
          "2017-11-25T00:00:00",
          "2017-11-26T00:00:00",
          "2017-11-27T00:00:00",
          "2017-11-28T00:00:00",
          "2017-11-29T00:00:00",
          "2017-11-30T00:00:00",
          "2017-12-01T00:00:00",
          "2017-12-02T00:00:00",
          "2017-12-03T00:00:00",
          "2017-12-04T00:00:00",
          "2017-12-05T00:00:00",
          "2017-12-06T00:00:00",
          "2017-12-07T00:00:00",
          "2017-12-08T00:00:00",
          "2017-12-09T00:00:00",
          "2017-12-10T00:00:00",
          "2017-12-11T00:00:00",
          "2017-12-12T00:00:00",
          "2017-12-13T00:00:00",
          "2017-12-14T00:00:00",
          "2017-12-15T00:00:00",
          "2017-12-16T00:00:00",
          "2017-12-17T00:00:00",
          "2017-12-18T00:00:00",
          "2017-12-19T00:00:00",
          "2017-12-20T00:00:00",
          "2017-12-21T00:00:00",
          "2017-12-22T00:00:00",
          "2017-12-23T00:00:00",
          "2017-12-24T00:00:00",
          "2017-12-25T00:00:00",
          "2017-12-26T00:00:00",
          "2017-12-27T00:00:00",
          "2017-12-28T00:00:00",
          "2017-12-29T00:00:00",
          "2017-12-30T00:00:00",
          "2017-12-31T00:00:00",
          "2018-01-01T00:00:00",
          "2018-01-02T00:00:00",
          "2018-01-03T00:00:00",
          "2018-01-04T00:00:00",
          "2018-01-05T00:00:00",
          "2018-01-06T00:00:00",
          "2018-01-07T00:00:00",
          "2018-01-08T00:00:00",
          "2018-01-09T00:00:00",
          "2018-01-10T00:00:00",
          "2018-01-11T00:00:00",
          "2018-01-12T00:00:00",
          "2018-01-13T00:00:00",
          "2018-01-14T00:00:00",
          "2018-01-15T00:00:00",
          "2018-01-16T00:00:00",
          "2018-01-17T00:00:00",
          "2018-01-18T00:00:00",
          "2018-01-19T00:00:00",
          "2018-01-20T00:00:00",
          "2018-01-21T00:00:00",
          "2018-01-22T00:00:00",
          "2018-01-23T00:00:00",
          "2018-01-24T00:00:00",
          "2018-01-25T00:00:00",
          "2018-01-26T00:00:00",
          "2018-01-27T00:00:00",
          "2018-01-28T00:00:00",
          "2018-01-29T00:00:00",
          "2018-01-30T00:00:00",
          "2018-01-31T00:00:00",
          "2018-02-01T00:00:00",
          "2018-02-02T00:00:00",
          "2018-02-03T00:00:00",
          "2018-02-04T00:00:00",
          "2018-02-05T00:00:00",
          "2018-02-06T00:00:00",
          "2018-02-07T00:00:00",
          "2018-02-08T00:00:00",
          "2018-02-09T00:00:00",
          "2018-02-10T00:00:00",
          "2018-02-11T00:00:00",
          "2018-02-12T00:00:00",
          "2018-02-13T00:00:00",
          "2018-02-14T00:00:00",
          "2018-02-15T00:00:00",
          "2018-02-16T00:00:00",
          "2018-02-17T00:00:00",
          "2018-02-18T00:00:00",
          "2018-02-19T00:00:00",
          "2018-02-20T00:00:00",
          "2018-02-21T00:00:00",
          "2018-02-22T00:00:00",
          "2018-02-23T00:00:00",
          "2018-02-24T00:00:00",
          "2018-02-25T00:00:00",
          "2018-02-26T00:00:00",
          "2018-02-27T00:00:00",
          "2018-02-28T00:00:00",
          "2018-03-01T00:00:00",
          "2018-03-02T00:00:00",
          "2018-03-03T00:00:00",
          "2018-03-04T00:00:00",
          "2018-03-05T00:00:00",
          "2018-03-06T00:00:00",
          "2018-03-07T00:00:00",
          "2018-03-08T00:00:00",
          "2018-03-09T00:00:00",
          "2018-03-10T00:00:00",
          "2018-03-11T00:00:00",
          "2018-03-12T00:00:00",
          "2018-03-13T00:00:00",
          "2018-03-14T00:00:00",
          "2018-03-15T00:00:00",
          "2018-03-16T00:00:00",
          "2018-03-17T00:00:00",
          "2018-03-18T00:00:00",
          "2018-03-19T00:00:00",
          "2018-03-20T00:00:00",
          "2018-03-21T00:00:00",
          "2018-03-22T00:00:00",
          "2018-03-23T00:00:00",
          "2018-03-24T00:00:00",
          "2018-03-25T00:00:00",
          "2018-03-26T00:00:00",
          "2018-03-27T00:00:00",
          "2018-03-28T00:00:00",
          "2018-03-29T00:00:00",
          "2018-03-30T00:00:00",
          "2018-03-31T00:00:00",
          "2018-04-01T00:00:00",
          "2018-04-02T00:00:00",
          "2018-04-03T00:00:00",
          "2018-04-04T00:00:00",
          "2018-04-05T00:00:00",
          "2018-04-06T00:00:00",
          "2018-04-07T00:00:00",
          "2018-04-08T00:00:00",
          "2018-04-09T00:00:00",
          "2018-04-10T00:00:00",
          "2018-04-11T00:00:00",
          "2018-04-12T00:00:00",
          "2018-04-13T00:00:00",
          "2018-04-14T00:00:00",
          "2018-04-15T00:00:00",
          "2018-04-16T00:00:00",
          "2018-04-17T00:00:00",
          "2018-04-18T00:00:00",
          "2018-04-19T00:00:00",
          "2018-04-20T00:00:00",
          "2018-04-21T00:00:00",
          "2018-04-22T00:00:00",
          "2018-04-23T00:00:00",
          "2018-04-24T00:00:00",
          "2018-04-25T00:00:00",
          "2018-04-26T00:00:00",
          "2018-04-27T00:00:00",
          "2018-04-28T00:00:00",
          "2018-04-29T00:00:00",
          "2018-04-30T00:00:00",
          "2018-05-01T00:00:00",
          "2018-05-02T00:00:00",
          "2018-05-03T00:00:00",
          "2018-05-04T00:00:00",
          "2018-05-05T00:00:00",
          "2018-05-06T00:00:00",
          "2018-05-07T00:00:00",
          "2018-05-08T00:00:00",
          "2018-05-09T00:00:00",
          "2018-05-10T00:00:00",
          "2018-05-11T00:00:00",
          "2018-05-12T00:00:00",
          "2018-05-13T00:00:00",
          "2018-05-14T00:00:00",
          "2018-05-15T00:00:00",
          "2018-05-16T00:00:00",
          "2018-05-17T00:00:00",
          "2018-05-18T00:00:00",
          "2018-05-19T00:00:00",
          "2018-05-20T00:00:00",
          "2018-05-21T00:00:00",
          "2018-05-22T00:00:00",
          "2018-05-23T00:00:00",
          "2018-05-24T00:00:00",
          "2018-05-25T00:00:00",
          "2018-05-26T00:00:00",
          "2018-05-27T00:00:00",
          "2018-05-28T00:00:00",
          "2018-05-29T00:00:00",
          "2018-05-30T00:00:00",
          "2018-05-31T00:00:00",
          "2018-06-01T00:00:00",
          "2018-06-02T00:00:00",
          "2018-06-03T00:00:00",
          "2018-06-04T00:00:00",
          "2018-06-05T00:00:00",
          "2018-06-06T00:00:00",
          "2018-06-07T00:00:00",
          "2018-06-08T00:00:00",
          "2018-06-09T00:00:00",
          "2018-06-10T00:00:00",
          "2018-06-11T00:00:00",
          "2018-06-12T00:00:00",
          "2018-06-13T00:00:00",
          "2018-06-14T00:00:00",
          "2018-06-15T00:00:00",
          "2018-06-16T00:00:00",
          "2018-06-17T00:00:00",
          "2018-06-18T00:00:00",
          "2018-06-19T00:00:00",
          "2018-06-20T00:00:00",
          "2018-06-21T00:00:00",
          "2018-06-22T00:00:00",
          "2018-06-23T00:00:00",
          "2018-06-24T00:00:00",
          "2018-06-25T00:00:00",
          "2018-06-26T00:00:00",
          "2018-06-27T00:00:00",
          "2018-06-28T00:00:00",
          "2018-06-29T00:00:00",
          "2018-06-30T00:00:00",
          "2018-07-01T00:00:00",
          "2018-07-02T00:00:00",
          "2018-07-03T00:00:00",
          "2018-07-04T00:00:00",
          "2018-07-05T00:00:00",
          "2018-07-06T00:00:00",
          "2018-07-07T00:00:00",
          "2018-07-08T00:00:00",
          "2018-07-09T00:00:00",
          "2018-07-10T00:00:00",
          "2018-07-11T00:00:00",
          "2018-07-12T00:00:00",
          "2018-07-13T00:00:00",
          "2018-07-14T00:00:00",
          "2018-07-15T00:00:00",
          "2018-07-16T00:00:00",
          "2018-07-17T00:00:00",
          "2018-07-18T00:00:00",
          "2018-07-19T00:00:00",
          "2018-07-20T00:00:00",
          "2018-07-21T00:00:00",
          "2018-07-22T00:00:00",
          "2018-07-23T00:00:00",
          "2018-07-24T00:00:00",
          "2018-07-25T00:00:00",
          "2018-07-26T00:00:00",
          "2018-07-27T00:00:00",
          "2018-07-28T00:00:00",
          "2018-07-29T00:00:00",
          "2018-07-30T00:00:00",
          "2018-07-31T00:00:00",
          "2018-08-01T00:00:00",
          "2018-08-02T00:00:00",
          "2018-08-03T00:00:00",
          "2018-08-04T00:00:00",
          "2018-08-05T00:00:00",
          "2018-08-06T00:00:00",
          "2018-08-07T00:00:00",
          "2018-08-08T00:00:00",
          "2018-08-09T00:00:00",
          "2018-08-10T00:00:00",
          "2018-08-11T00:00:00",
          "2018-08-12T00:00:00",
          "2018-08-13T00:00:00",
          "2018-08-14T00:00:00",
          "2018-08-15T00:00:00",
          "2018-08-16T00:00:00",
          "2018-08-17T00:00:00",
          "2018-08-18T00:00:00",
          "2018-08-19T00:00:00",
          "2018-08-20T00:00:00",
          "2018-08-21T00:00:00",
          "2018-08-22T00:00:00",
          "2018-08-23T00:00:00",
          "2018-08-24T00:00:00",
          "2018-08-25T00:00:00",
          "2018-08-26T00:00:00",
          "2018-08-27T00:00:00",
          "2018-08-28T00:00:00",
          "2018-08-29T00:00:00",
          "2018-08-30T00:00:00",
          "2018-08-31T00:00:00",
          "2018-09-01T00:00:00",
          "2018-09-02T00:00:00",
          "2018-09-03T00:00:00",
          "2018-09-04T00:00:00",
          "2018-09-05T00:00:00",
          "2018-09-06T00:00:00",
          "2018-09-07T00:00:00",
          "2018-09-08T00:00:00",
          "2018-09-09T00:00:00",
          "2018-09-10T00:00:00",
          "2018-09-11T00:00:00",
          "2018-09-12T00:00:00",
          "2018-09-13T00:00:00",
          "2018-09-14T00:00:00",
          "2018-09-15T00:00:00",
          "2018-09-16T00:00:00",
          "2018-09-17T00:00:00",
          "2018-09-18T00:00:00",
          "2018-09-19T00:00:00",
          "2018-09-20T00:00:00",
          "2018-09-21T00:00:00",
          "2018-09-22T00:00:00",
          "2018-09-23T00:00:00",
          "2018-09-24T00:00:00",
          "2018-09-25T00:00:00",
          "2018-09-26T00:00:00",
          "2018-09-27T00:00:00",
          "2018-09-28T00:00:00",
          "2018-09-29T00:00:00",
          "2018-09-30T00:00:00",
          "2018-10-01T00:00:00",
          "2018-10-02T00:00:00",
          "2018-10-03T00:00:00",
          "2018-10-04T00:00:00",
          "2018-10-05T00:00:00",
          "2018-10-06T00:00:00",
          "2018-10-07T00:00:00",
          "2018-10-08T00:00:00",
          "2018-10-09T00:00:00",
          "2018-10-10T00:00:00",
          "2018-10-11T00:00:00",
          "2018-10-12T00:00:00",
          "2018-10-13T00:00:00",
          "2018-10-14T00:00:00",
          "2018-10-15T00:00:00",
          "2018-10-16T00:00:00",
          "2018-10-17T00:00:00",
          "2018-10-18T00:00:00",
          "2018-10-19T00:00:00",
          "2018-10-20T00:00:00",
          "2018-10-21T00:00:00",
          "2018-10-22T00:00:00",
          "2018-10-23T00:00:00",
          "2018-10-24T00:00:00",
          "2018-10-25T00:00:00",
          "2018-10-26T00:00:00",
          "2018-10-27T00:00:00",
          "2018-10-28T00:00:00",
          "2018-10-29T00:00:00",
          "2018-10-30T00:00:00",
          "2018-10-31T00:00:00",
          "2018-11-01T00:00:00",
          "2018-11-02T00:00:00",
          "2018-11-03T00:00:00",
          "2018-11-04T00:00:00",
          "2018-11-05T00:00:00",
          "2018-11-06T00:00:00",
          "2018-11-07T00:00:00",
          "2018-11-08T00:00:00",
          "2018-11-09T00:00:00",
          "2018-11-10T00:00:00",
          "2018-11-11T00:00:00",
          "2018-11-12T00:00:00",
          "2018-11-13T00:00:00",
          "2018-11-14T00:00:00",
          "2018-11-15T00:00:00",
          "2018-11-16T00:00:00",
          "2018-11-17T00:00:00",
          "2018-11-18T00:00:00",
          "2018-11-19T00:00:00",
          "2018-11-20T00:00:00",
          "2018-11-21T00:00:00",
          "2018-11-22T00:00:00",
          "2018-11-23T00:00:00",
          "2018-11-24T00:00:00",
          "2018-11-25T00:00:00",
          "2018-11-26T00:00:00",
          "2018-11-27T00:00:00",
          "2018-11-28T00:00:00",
          "2018-11-29T00:00:00",
          "2018-11-30T00:00:00",
          "2018-12-01T00:00:00",
          "2018-12-02T00:00:00",
          "2018-12-03T00:00:00",
          "2018-12-04T00:00:00",
          "2018-12-05T00:00:00",
          "2018-12-06T00:00:00",
          "2018-12-07T00:00:00",
          "2018-12-08T00:00:00",
          "2018-12-09T00:00:00",
          "2018-12-10T00:00:00",
          "2018-12-11T00:00:00",
          "2018-12-12T00:00:00",
          "2018-12-13T00:00:00",
          "2018-12-14T00:00:00",
          "2018-12-15T00:00:00",
          "2018-12-16T00:00:00",
          "2018-12-17T00:00:00",
          "2018-12-18T00:00:00",
          "2018-12-19T00:00:00",
          "2018-12-20T00:00:00",
          "2018-12-21T00:00:00",
          "2018-12-22T00:00:00",
          "2018-12-23T00:00:00",
          "2018-12-24T00:00:00",
          "2018-12-25T00:00:00",
          "2018-12-26T00:00:00",
          "2018-12-27T00:00:00",
          "2018-12-28T00:00:00",
          "2018-12-29T00:00:00",
          "2018-12-30T00:00:00",
          "2018-12-31T00:00:00",
          "2019-01-01T00:00:00",
          "2019-01-02T00:00:00",
          "2019-01-03T00:00:00",
          "2019-01-04T00:00:00",
          "2019-01-05T00:00:00",
          "2019-01-06T00:00:00",
          "2019-01-07T00:00:00",
          "2019-01-08T00:00:00",
          "2019-01-09T00:00:00",
          "2019-01-10T00:00:00",
          "2019-01-11T00:00:00",
          "2019-01-12T00:00:00",
          "2019-01-13T00:00:00",
          "2019-01-14T00:00:00",
          "2019-01-15T00:00:00",
          "2019-01-16T00:00:00",
          "2019-01-17T00:00:00",
          "2019-01-18T00:00:00",
          "2019-01-19T00:00:00",
          "2019-01-20T00:00:00",
          "2019-01-21T00:00:00",
          "2019-01-22T00:00:00",
          "2019-01-23T00:00:00",
          "2019-01-24T00:00:00",
          "2019-01-25T00:00:00",
          "2019-01-26T00:00:00",
          "2019-01-27T00:00:00",
          "2019-01-28T00:00:00",
          "2019-01-29T00:00:00",
          "2019-01-30T00:00:00",
          "2019-01-31T00:00:00",
          "2019-02-01T00:00:00",
          "2019-02-02T00:00:00",
          "2019-02-03T00:00:00",
          "2019-02-04T00:00:00",
          "2019-02-05T00:00:00",
          "2019-02-06T00:00:00",
          "2019-02-07T00:00:00",
          "2019-02-08T00:00:00",
          "2019-02-09T00:00:00",
          "2019-02-10T00:00:00",
          "2019-02-11T00:00:00",
          "2019-02-12T00:00:00",
          "2019-02-13T00:00:00",
          "2019-02-14T00:00:00",
          "2019-02-15T00:00:00",
          "2019-02-16T00:00:00",
          "2019-02-17T00:00:00",
          "2019-02-18T00:00:00",
          "2019-02-19T00:00:00",
          "2019-02-20T00:00:00",
          "2019-02-21T00:00:00",
          "2019-02-22T00:00:00",
          "2019-02-23T00:00:00",
          "2019-02-24T00:00:00",
          "2019-02-25T00:00:00",
          "2019-02-26T00:00:00",
          "2019-02-27T00:00:00",
          "2019-02-28T00:00:00",
          "2019-03-01T00:00:00",
          "2019-03-02T00:00:00",
          "2019-03-03T00:00:00",
          "2019-03-04T00:00:00",
          "2019-03-05T00:00:00",
          "2019-03-06T00:00:00",
          "2019-03-07T00:00:00",
          "2019-03-08T00:00:00",
          "2019-03-09T00:00:00",
          "2019-03-10T00:00:00",
          "2019-03-11T00:00:00",
          "2019-03-12T00:00:00",
          "2019-03-13T00:00:00",
          "2019-03-14T00:00:00",
          "2019-03-15T00:00:00",
          "2019-03-16T00:00:00",
          "2019-03-17T00:00:00",
          "2019-03-18T00:00:00",
          "2019-03-19T00:00:00",
          "2019-03-20T00:00:00",
          "2019-03-21T00:00:00",
          "2019-03-22T00:00:00",
          "2019-03-23T00:00:00",
          "2019-03-24T00:00:00",
          "2019-03-25T00:00:00",
          "2019-03-26T00:00:00",
          "2019-03-27T00:00:00",
          "2019-03-28T00:00:00",
          "2019-03-29T00:00:00",
          "2019-03-30T00:00:00",
          "2019-03-31T00:00:00",
          "2019-04-01T00:00:00",
          "2019-04-02T00:00:00",
          "2019-04-03T00:00:00",
          "2019-04-04T00:00:00",
          "2019-04-05T00:00:00",
          "2019-04-06T00:00:00",
          "2019-04-07T00:00:00",
          "2019-04-08T00:00:00",
          "2019-04-09T00:00:00",
          "2019-04-10T00:00:00",
          "2019-04-11T00:00:00",
          "2019-04-12T00:00:00",
          "2019-04-13T00:00:00",
          "2019-04-14T00:00:00",
          "2019-04-15T00:00:00",
          "2019-04-16T00:00:00",
          "2019-04-17T00:00:00",
          "2019-04-18T00:00:00",
          "2019-04-19T00:00:00",
          "2019-04-20T00:00:00",
          "2019-04-21T00:00:00",
          "2019-04-22T00:00:00",
          "2019-04-23T00:00:00",
          "2019-04-24T00:00:00",
          "2019-04-25T00:00:00",
          "2019-04-26T00:00:00",
          "2019-04-27T00:00:00",
          "2019-04-28T00:00:00",
          "2019-04-29T00:00:00",
          "2019-04-30T00:00:00",
          "2019-05-01T00:00:00",
          "2019-05-02T00:00:00",
          "2019-05-03T00:00:00",
          "2019-05-04T00:00:00",
          "2019-05-05T00:00:00",
          "2019-05-06T00:00:00",
          "2019-05-07T00:00:00",
          "2019-05-08T00:00:00",
          "2019-05-09T00:00:00",
          "2019-05-10T00:00:00",
          "2019-05-11T00:00:00",
          "2019-05-12T00:00:00",
          "2019-05-13T00:00:00",
          "2019-05-14T00:00:00",
          "2019-05-15T00:00:00",
          "2019-05-16T00:00:00",
          "2019-05-17T00:00:00",
          "2019-05-18T00:00:00",
          "2019-05-19T00:00:00",
          "2019-05-20T00:00:00",
          "2019-05-21T00:00:00",
          "2019-05-22T00:00:00",
          "2019-05-23T00:00:00",
          "2019-05-24T00:00:00",
          "2019-05-25T00:00:00",
          "2019-05-26T00:00:00",
          "2019-05-27T00:00:00",
          "2019-05-28T00:00:00",
          "2019-05-29T00:00:00",
          "2019-05-30T00:00:00",
          "2019-05-31T00:00:00",
          "2019-06-01T00:00:00",
          "2019-06-02T00:00:00",
          "2019-06-03T00:00:00",
          "2019-06-04T00:00:00",
          "2019-06-05T00:00:00",
          "2019-06-06T00:00:00",
          "2019-06-07T00:00:00",
          "2019-06-08T00:00:00",
          "2019-06-09T00:00:00",
          "2019-06-10T00:00:00",
          "2019-06-11T00:00:00",
          "2019-06-12T00:00:00",
          "2019-06-13T00:00:00",
          "2019-06-14T00:00:00",
          "2019-06-15T00:00:00",
          "2019-06-16T00:00:00",
          "2019-06-17T00:00:00",
          "2019-06-18T00:00:00",
          "2019-06-19T00:00:00",
          "2019-06-20T00:00:00",
          "2019-06-21T00:00:00",
          "2019-06-22T00:00:00",
          "2019-06-23T00:00:00",
          "2019-06-24T00:00:00",
          "2019-06-25T00:00:00",
          "2019-06-26T00:00:00",
          "2019-06-27T00:00:00",
          "2019-06-28T00:00:00",
          "2019-06-29T00:00:00",
          "2019-06-30T00:00:00",
          "2019-07-01T00:00:00",
          "2019-07-02T00:00:00",
          "2019-07-03T00:00:00",
          "2019-07-04T00:00:00",
          "2019-07-05T00:00:00",
          "2019-07-06T00:00:00",
          "2019-07-07T00:00:00",
          "2019-07-08T00:00:00",
          "2019-07-09T00:00:00",
          "2019-07-10T00:00:00",
          "2019-07-11T00:00:00",
          "2019-07-12T00:00:00",
          "2019-07-13T00:00:00",
          "2019-07-14T00:00:00",
          "2019-07-15T00:00:00",
          "2019-07-16T00:00:00",
          "2019-07-17T00:00:00",
          "2019-07-18T00:00:00",
          "2019-07-19T00:00:00",
          "2019-07-20T00:00:00",
          "2019-07-21T00:00:00",
          "2019-07-22T00:00:00",
          "2019-07-23T00:00:00",
          "2019-07-24T00:00:00",
          "2019-07-25T00:00:00",
          "2019-07-26T00:00:00",
          "2019-07-27T00:00:00",
          "2019-07-28T00:00:00",
          "2019-07-29T00:00:00",
          "2019-07-30T00:00:00",
          "2019-07-31T00:00:00",
          "2019-08-01T00:00:00",
          "2019-08-02T00:00:00",
          "2019-08-03T00:00:00",
          "2019-08-04T00:00:00",
          "2019-08-05T00:00:00",
          "2019-08-06T00:00:00",
          "2019-08-07T00:00:00",
          "2019-08-08T00:00:00",
          "2019-08-09T00:00:00",
          "2019-08-10T00:00:00",
          "2019-08-11T00:00:00",
          "2019-08-12T00:00:00",
          "2019-08-13T00:00:00",
          "2019-08-14T00:00:00",
          "2019-08-15T00:00:00",
          "2019-08-16T00:00:00",
          "2019-08-17T00:00:00",
          "2019-08-18T00:00:00",
          "2019-08-19T00:00:00",
          "2019-08-20T00:00:00",
          "2019-08-21T00:00:00",
          "2019-08-22T00:00:00",
          "2019-08-23T00:00:00",
          "2019-08-24T00:00:00",
          "2019-08-25T00:00:00",
          "2019-08-26T00:00:00",
          "2019-08-27T00:00:00",
          "2019-08-28T00:00:00",
          "2019-08-29T00:00:00",
          "2019-08-30T00:00:00",
          "2019-08-31T00:00:00",
          "2019-09-01T00:00:00",
          "2019-09-02T00:00:00",
          "2019-09-03T00:00:00",
          "2019-09-04T00:00:00",
          "2019-09-05T00:00:00",
          "2019-09-06T00:00:00",
          "2019-09-07T00:00:00",
          "2019-09-08T00:00:00",
          "2019-09-09T00:00:00",
          "2019-09-10T00:00:00",
          "2019-09-11T00:00:00",
          "2019-09-12T00:00:00",
          "2019-09-13T00:00:00",
          "2019-09-14T00:00:00",
          "2019-09-15T00:00:00",
          "2019-09-16T00:00:00",
          "2019-09-17T00:00:00",
          "2019-09-18T00:00:00",
          "2019-09-19T00:00:00",
          "2019-09-20T00:00:00",
          "2019-09-21T00:00:00",
          "2019-09-22T00:00:00",
          "2019-09-23T00:00:00",
          "2019-09-24T00:00:00",
          "2019-09-25T00:00:00",
          "2019-09-26T00:00:00",
          "2019-09-27T00:00:00",
          "2019-09-28T00:00:00",
          "2019-09-29T00:00:00",
          "2019-09-30T00:00:00",
          "2019-10-01T00:00:00",
          "2019-10-02T00:00:00",
          "2019-10-03T00:00:00",
          "2019-10-04T00:00:00",
          "2019-10-05T00:00:00",
          "2019-10-06T00:00:00",
          "2019-10-07T00:00:00",
          "2019-10-08T00:00:00",
          "2019-10-09T00:00:00",
          "2019-10-10T00:00:00",
          "2019-10-11T00:00:00",
          "2019-10-12T00:00:00",
          "2019-10-13T00:00:00",
          "2019-10-14T00:00:00",
          "2019-10-15T00:00:00",
          "2019-10-16T00:00:00",
          "2019-10-17T00:00:00",
          "2019-10-18T00:00:00",
          "2019-10-19T00:00:00",
          "2019-10-20T00:00:00",
          "2019-10-21T00:00:00",
          "2019-10-22T00:00:00",
          "2019-10-23T00:00:00",
          "2019-10-24T00:00:00",
          "2019-10-25T00:00:00",
          "2019-10-26T00:00:00",
          "2019-10-27T00:00:00",
          "2019-10-28T00:00:00",
          "2019-10-29T00:00:00",
          "2019-10-30T00:00:00",
          "2019-10-31T00:00:00",
          "2019-11-01T00:00:00",
          "2019-11-02T00:00:00",
          "2019-11-03T00:00:00",
          "2019-11-04T00:00:00",
          "2019-11-05T00:00:00",
          "2019-11-06T00:00:00",
          "2019-11-07T00:00:00",
          "2019-11-08T00:00:00",
          "2019-11-09T00:00:00",
          "2019-11-10T00:00:00",
          "2019-11-11T00:00:00",
          "2019-11-12T00:00:00",
          "2019-11-13T00:00:00",
          "2019-11-14T00:00:00",
          "2019-11-15T00:00:00",
          "2019-11-16T00:00:00",
          "2019-11-17T00:00:00",
          "2019-11-18T00:00:00",
          "2019-11-19T00:00:00",
          "2019-11-20T00:00:00",
          "2019-11-21T00:00:00",
          "2019-11-22T00:00:00",
          "2019-11-23T00:00:00",
          "2019-11-24T00:00:00",
          "2019-11-25T00:00:00",
          "2019-11-26T00:00:00",
          "2019-11-27T00:00:00",
          "2019-11-28T00:00:00",
          "2019-11-29T00:00:00",
          "2019-11-30T00:00:00",
          "2019-12-01T00:00:00",
          "2019-12-02T00:00:00",
          "2019-12-03T00:00:00",
          "2019-12-04T00:00:00",
          "2019-12-05T00:00:00",
          "2019-12-06T00:00:00",
          "2019-12-07T00:00:00",
          "2019-12-08T00:00:00",
          "2019-12-09T00:00:00",
          "2019-12-10T00:00:00",
          "2019-12-11T00:00:00",
          "2019-12-12T00:00:00",
          "2019-12-13T00:00:00",
          "2019-12-14T00:00:00",
          "2019-12-15T00:00:00",
          "2019-12-16T00:00:00",
          "2019-12-17T00:00:00",
          "2019-12-18T00:00:00",
          "2019-12-19T00:00:00",
          "2019-12-20T00:00:00",
          "2019-12-21T00:00:00",
          "2019-12-22T00:00:00",
          "2019-12-23T00:00:00",
          "2019-12-24T00:00:00",
          "2019-12-25T00:00:00",
          "2019-12-26T00:00:00",
          "2019-12-27T00:00:00",
          "2019-12-28T00:00:00",
          "2019-12-29T00:00:00",
          "2019-12-30T00:00:00",
          "2019-12-31T00:00:00",
          "2020-01-01T00:00:00",
          "2020-01-02T00:00:00",
          "2020-01-03T00:00:00",
          "2020-01-04T00:00:00",
          "2020-01-05T00:00:00",
          "2020-01-06T00:00:00",
          "2020-01-07T00:00:00",
          "2020-01-08T00:00:00",
          "2020-01-09T00:00:00",
          "2020-01-10T00:00:00",
          "2020-01-11T00:00:00",
          "2020-01-12T00:00:00",
          "2020-01-13T00:00:00",
          "2020-01-14T00:00:00",
          "2020-01-15T00:00:00",
          "2020-01-16T00:00:00",
          "2020-01-17T00:00:00",
          "2020-01-18T00:00:00",
          "2020-01-19T00:00:00",
          "2020-01-20T00:00:00",
          "2020-01-21T00:00:00",
          "2020-01-22T00:00:00",
          "2020-01-23T00:00:00",
          "2020-01-24T00:00:00",
          "2020-01-25T00:00:00",
          "2020-01-26T00:00:00",
          "2020-01-27T00:00:00",
          "2020-01-28T00:00:00",
          "2020-01-29T00:00:00",
          "2020-01-30T00:00:00",
          "2020-01-31T00:00:00",
          "2020-02-01T00:00:00",
          "2020-02-02T00:00:00",
          "2020-02-03T00:00:00",
          "2020-02-04T00:00:00",
          "2020-02-05T00:00:00",
          "2020-02-06T00:00:00",
          "2020-02-07T00:00:00",
          "2020-02-08T00:00:00",
          "2020-02-09T00:00:00",
          "2020-02-10T00:00:00",
          "2020-02-11T00:00:00",
          "2020-02-12T00:00:00",
          "2020-02-13T00:00:00",
          "2020-02-14T00:00:00",
          "2020-02-15T00:00:00",
          "2020-02-16T00:00:00",
          "2020-02-17T00:00:00",
          "2020-02-18T00:00:00",
          "2020-02-19T00:00:00",
          "2020-02-20T00:00:00",
          "2020-02-21T00:00:00",
          "2020-02-22T00:00:00",
          "2020-02-23T00:00:00",
          "2020-02-24T00:00:00",
          "2020-02-25T00:00:00",
          "2020-02-26T00:00:00",
          "2020-02-27T00:00:00",
          "2020-02-28T00:00:00",
          "2020-02-29T00:00:00",
          "2020-03-01T00:00:00",
          "2020-03-02T00:00:00",
          "2020-03-03T00:00:00",
          "2020-03-04T00:00:00",
          "2020-03-05T00:00:00",
          "2020-03-06T00:00:00",
          "2020-03-07T00:00:00",
          "2020-03-08T00:00:00",
          "2020-03-09T00:00:00",
          "2020-03-10T00:00:00",
          "2020-03-11T00:00:00",
          "2020-03-12T00:00:00",
          "2020-03-13T00:00:00",
          "2020-03-14T00:00:00",
          "2020-03-15T00:00:00",
          "2020-03-16T00:00:00",
          "2020-03-17T00:00:00",
          "2020-03-18T00:00:00",
          "2020-03-19T00:00:00",
          "2020-03-20T00:00:00",
          "2020-03-21T00:00:00",
          "2020-03-22T00:00:00",
          "2020-03-23T00:00:00",
          "2020-03-24T00:00:00",
          "2020-03-25T00:00:00",
          "2020-03-26T00:00:00",
          "2020-03-27T00:00:00",
          "2020-03-28T00:00:00",
          "2020-03-29T00:00:00",
          "2020-03-30T00:00:00",
          "2020-03-31T00:00:00",
          "2020-04-01T00:00:00",
          "2020-04-02T00:00:00",
          "2020-04-03T00:00:00",
          "2020-04-04T00:00:00",
          "2020-04-05T00:00:00",
          "2020-04-06T00:00:00",
          "2020-04-07T00:00:00",
          "2020-04-08T00:00:00",
          "2020-04-09T00:00:00",
          "2020-04-10T00:00:00",
          "2020-04-11T00:00:00",
          "2020-04-12T00:00:00",
          "2020-04-13T00:00:00",
          "2020-04-14T00:00:00",
          "2020-04-15T00:00:00",
          "2020-04-16T00:00:00",
          "2020-04-17T00:00:00",
          "2020-04-18T00:00:00",
          "2020-04-19T00:00:00",
          "2020-04-20T00:00:00",
          "2020-04-21T00:00:00",
          "2020-04-22T00:00:00",
          "2020-04-23T00:00:00",
          "2020-04-24T00:00:00",
          "2020-04-25T00:00:00",
          "2020-04-26T00:00:00",
          "2020-04-27T00:00:00",
          "2020-04-28T00:00:00",
          "2020-04-29T00:00:00",
          "2020-04-30T00:00:00",
          "2020-05-01T00:00:00",
          "2020-05-02T00:00:00",
          "2020-05-03T00:00:00",
          "2020-05-04T00:00:00",
          "2020-05-05T00:00:00",
          "2020-05-06T00:00:00",
          "2020-05-07T00:00:00",
          "2020-05-08T00:00:00",
          "2020-05-09T00:00:00",
          "2020-05-10T00:00:00",
          "2020-05-11T00:00:00",
          "2020-05-12T00:00:00",
          "2020-05-13T00:00:00",
          "2020-05-14T00:00:00",
          "2020-05-15T00:00:00",
          "2020-05-16T00:00:00",
          "2020-05-17T00:00:00",
          "2020-05-18T00:00:00",
          "2020-05-19T00:00:00",
          "2020-05-20T00:00:00",
          "2020-05-21T00:00:00",
          "2020-05-22T00:00:00",
          "2020-05-23T00:00:00",
          "2020-05-24T00:00:00",
          "2020-05-25T00:00:00",
          "2020-05-26T00:00:00",
          "2020-05-27T00:00:00",
          "2020-05-28T00:00:00",
          "2020-05-29T00:00:00",
          "2020-05-30T00:00:00",
          "2020-05-31T00:00:00",
          "2020-06-01T00:00:00",
          "2020-06-02T00:00:00",
          "2020-06-03T00:00:00",
          "2020-06-04T00:00:00",
          "2020-06-05T00:00:00",
          "2020-06-06T00:00:00",
          "2020-06-07T00:00:00",
          "2020-06-08T00:00:00",
          "2020-06-09T00:00:00",
          "2020-06-10T00:00:00",
          "2020-06-11T00:00:00",
          "2020-06-12T00:00:00",
          "2020-06-13T00:00:00",
          "2020-06-14T00:00:00",
          "2020-06-15T00:00:00",
          "2020-06-16T00:00:00",
          "2020-06-17T00:00:00",
          "2020-06-18T00:00:00",
          "2020-06-19T00:00:00",
          "2020-06-20T00:00:00",
          "2020-06-21T00:00:00",
          "2020-06-22T00:00:00",
          "2020-06-23T00:00:00",
          "2020-06-24T00:00:00",
          "2020-06-25T00:00:00",
          "2020-06-26T00:00:00",
          "2020-06-27T00:00:00",
          "2020-06-28T00:00:00",
          "2020-06-29T00:00:00",
          "2020-06-30T00:00:00",
          "2020-07-01T00:00:00",
          "2020-07-02T00:00:00",
          "2020-07-03T00:00:00",
          "2020-07-04T00:00:00",
          "2020-07-05T00:00:00",
          "2020-07-06T00:00:00",
          "2020-07-07T00:00:00",
          "2020-07-08T00:00:00",
          "2020-07-09T00:00:00",
          "2020-07-10T00:00:00",
          "2020-07-11T00:00:00",
          "2020-07-12T00:00:00",
          "2020-07-13T00:00:00",
          "2020-07-14T00:00:00",
          "2020-07-15T00:00:00",
          "2020-07-16T00:00:00",
          "2020-07-17T00:00:00",
          "2020-07-18T00:00:00",
          "2020-07-19T00:00:00",
          "2020-07-20T00:00:00",
          "2020-07-21T00:00:00",
          "2020-07-22T00:00:00",
          "2020-07-23T00:00:00",
          "2020-07-24T00:00:00",
          "2020-07-25T00:00:00",
          "2020-07-26T00:00:00",
          "2020-07-27T00:00:00",
          "2020-07-28T00:00:00",
          "2020-07-29T00:00:00",
          "2020-07-30T00:00:00",
          "2020-07-31T00:00:00",
          "2020-08-01T00:00:00",
          "2020-08-02T00:00:00",
          "2020-08-03T00:00:00",
          "2020-08-04T00:00:00",
          "2020-08-05T00:00:00",
          "2020-08-06T00:00:00",
          "2020-08-07T00:00:00",
          "2020-08-08T00:00:00",
          "2020-08-09T00:00:00",
          "2020-08-10T00:00:00",
          "2020-08-11T00:00:00",
          "2020-08-12T00:00:00",
          "2020-08-13T00:00:00",
          "2020-08-14T00:00:00",
          "2020-08-15T00:00:00",
          "2020-08-16T00:00:00",
          "2020-08-17T00:00:00",
          "2020-08-18T00:00:00",
          "2020-08-19T00:00:00",
          "2020-08-20T00:00:00",
          "2020-08-21T00:00:00",
          "2020-08-22T00:00:00",
          "2020-08-23T00:00:00",
          "2020-08-24T00:00:00",
          "2020-08-25T00:00:00",
          "2020-08-26T00:00:00",
          "2020-08-27T00:00:00",
          "2020-08-28T00:00:00",
          "2020-08-29T00:00:00",
          "2020-08-30T00:00:00",
          "2020-08-31T00:00:00",
          "2020-09-01T00:00:00",
          "2020-09-02T00:00:00",
          "2020-09-03T00:00:00",
          "2020-09-04T00:00:00",
          "2020-09-05T00:00:00",
          "2020-09-06T00:00:00",
          "2020-09-07T00:00:00",
          "2020-09-08T00:00:00",
          "2020-09-09T00:00:00",
          "2020-09-10T00:00:00",
          "2020-09-11T00:00:00",
          "2020-09-12T00:00:00",
          "2020-09-13T00:00:00",
          "2020-09-14T00:00:00",
          "2020-09-15T00:00:00",
          "2020-09-16T00:00:00",
          "2020-09-17T00:00:00",
          "2020-09-18T00:00:00",
          "2020-09-19T00:00:00",
          "2020-09-20T00:00:00",
          "2020-09-21T00:00:00",
          "2020-09-22T00:00:00",
          "2020-09-23T00:00:00",
          "2020-09-24T00:00:00",
          "2020-09-25T00:00:00",
          "2020-09-26T00:00:00",
          "2020-09-27T00:00:00",
          "2020-09-28T00:00:00",
          "2020-09-29T00:00:00",
          "2020-09-30T00:00:00",
          "2020-10-01T00:00:00",
          "2020-10-02T00:00:00",
          "2020-10-03T00:00:00",
          "2020-10-04T00:00:00",
          "2020-10-05T00:00:00",
          "2020-10-06T00:00:00",
          "2020-10-07T00:00:00",
          "2020-10-08T00:00:00",
          "2020-10-09T00:00:00",
          "2020-10-10T00:00:00",
          "2020-10-11T00:00:00",
          "2020-10-12T00:00:00",
          "2020-10-13T00:00:00",
          "2020-10-14T00:00:00",
          "2020-10-15T00:00:00",
          "2020-10-16T00:00:00",
          "2020-10-17T00:00:00",
          "2020-10-18T00:00:00",
          "2020-10-19T00:00:00",
          "2020-10-20T00:00:00",
          "2020-10-21T00:00:00",
          "2020-10-22T00:00:00",
          "2020-10-23T00:00:00",
          "2020-10-24T00:00:00",
          "2020-10-25T00:00:00",
          "2020-10-26T00:00:00",
          "2020-10-27T00:00:00",
          "2020-10-28T00:00:00",
          "2020-10-29T00:00:00",
          "2020-10-30T00:00:00",
          "2020-10-31T00:00:00",
          "2020-11-01T00:00:00",
          "2020-11-02T00:00:00",
          "2020-11-03T00:00:00",
          "2020-11-04T00:00:00",
          "2020-11-05T00:00:00",
          "2020-11-06T00:00:00",
          "2020-11-07T00:00:00",
          "2020-11-08T00:00:00",
          "2020-11-09T00:00:00",
          "2020-11-10T00:00:00",
          "2020-11-11T00:00:00",
          "2020-11-12T00:00:00",
          "2020-11-13T00:00:00",
          "2020-11-14T00:00:00",
          "2020-11-15T00:00:00",
          "2020-11-16T00:00:00",
          "2020-11-17T00:00:00",
          "2020-11-18T00:00:00",
          "2020-11-19T00:00:00",
          "2020-11-20T00:00:00",
          "2020-11-21T00:00:00",
          "2020-11-22T00:00:00",
          "2020-11-23T00:00:00",
          "2020-11-24T00:00:00",
          "2020-11-25T00:00:00",
          "2020-11-26T00:00:00",
          "2020-11-27T00:00:00",
          "2020-11-28T00:00:00",
          "2020-11-29T00:00:00",
          "2020-11-30T00:00:00",
          "2020-12-01T00:00:00",
          "2020-12-02T00:00:00",
          "2020-12-03T00:00:00",
          "2020-12-04T00:00:00",
          "2020-12-05T00:00:00",
          "2020-12-06T00:00:00",
          "2020-12-07T00:00:00",
          "2020-12-08T00:00:00",
          "2020-12-09T00:00:00",
          "2020-12-10T00:00:00",
          "2020-12-11T00:00:00",
          "2020-12-12T00:00:00",
          "2020-12-13T00:00:00",
          "2020-12-14T00:00:00",
          "2020-12-15T00:00:00",
          "2020-12-16T00:00:00",
          "2020-12-17T00:00:00",
          "2020-12-18T00:00:00",
          "2020-12-19T00:00:00",
          "2020-12-20T00:00:00",
          "2020-12-21T00:00:00",
          "2020-12-22T00:00:00",
          "2020-12-23T00:00:00",
          "2020-12-24T00:00:00",
          "2020-12-25T00:00:00",
          "2020-12-26T00:00:00",
          "2020-12-27T00:00:00",
          "2020-12-28T00:00:00",
          "2020-12-29T00:00:00",
          "2020-12-30T00:00:00",
          "2020-12-31T00:00:00",
          "2021-01-01T00:00:00",
          "2021-01-02T00:00:00",
          "2021-01-03T00:00:00",
          "2021-01-04T00:00:00",
          "2021-01-05T00:00:00",
          "2021-01-06T00:00:00",
          "2021-01-07T00:00:00",
          "2021-01-08T00:00:00",
          "2021-01-09T00:00:00",
          "2021-01-10T00:00:00",
          "2021-01-11T00:00:00",
          "2021-01-12T00:00:00",
          "2021-01-13T00:00:00",
          "2021-01-14T00:00:00",
          "2021-01-15T00:00:00",
          "2021-01-16T00:00:00",
          "2021-01-17T00:00:00",
          "2021-01-18T00:00:00",
          "2021-01-19T00:00:00",
          "2021-01-20T00:00:00",
          "2021-01-21T00:00:00",
          "2021-01-22T00:00:00",
          "2021-01-23T00:00:00",
          "2021-01-24T00:00:00",
          "2021-01-25T00:00:00",
          "2021-01-26T00:00:00",
          "2021-01-27T00:00:00",
          "2021-01-28T00:00:00",
          "2021-01-29T00:00:00",
          "2021-01-30T00:00:00",
          "2021-01-31T00:00:00",
          "2021-02-01T00:00:00",
          "2021-02-02T00:00:00",
          "2021-02-03T00:00:00",
          "2021-02-04T00:00:00",
          "2021-02-05T00:00:00",
          "2021-02-06T00:00:00",
          "2021-02-07T00:00:00",
          "2021-02-08T00:00:00",
          "2021-02-09T00:00:00",
          "2021-02-10T00:00:00",
          "2021-02-11T00:00:00",
          "2021-02-12T00:00:00",
          "2021-02-13T00:00:00",
          "2021-02-14T00:00:00",
          "2021-02-15T00:00:00",
          "2021-02-16T00:00:00",
          "2021-02-17T00:00:00",
          "2021-02-18T00:00:00",
          "2021-02-19T00:00:00",
          "2021-02-20T00:00:00",
          "2021-02-21T00:00:00",
          "2021-02-22T00:00:00",
          "2021-02-23T00:00:00",
          "2021-02-24T00:00:00",
          "2021-02-25T00:00:00",
          "2021-02-26T00:00:00",
          "2021-02-27T00:00:00",
          "2021-02-28T00:00:00",
          "2021-03-01T00:00:00",
          "2021-03-02T00:00:00",
          "2021-03-03T00:00:00",
          "2021-03-04T00:00:00",
          "2021-03-05T00:00:00",
          "2021-03-06T00:00:00",
          "2021-03-07T00:00:00",
          "2021-03-08T00:00:00",
          "2021-03-09T00:00:00",
          "2021-03-10T00:00:00",
          "2021-03-11T00:00:00",
          "2021-03-12T00:00:00",
          "2021-03-13T00:00:00",
          "2021-03-14T00:00:00",
          "2021-03-15T00:00:00",
          "2021-03-16T00:00:00",
          "2021-03-17T00:00:00",
          "2021-03-18T00:00:00",
          "2021-03-19T00:00:00",
          "2021-03-20T00:00:00",
          "2021-03-21T00:00:00",
          "2021-03-22T00:00:00",
          "2021-03-23T00:00:00",
          "2021-03-24T00:00:00",
          "2021-03-25T00:00:00",
          "2021-03-26T00:00:00",
          "2021-03-27T00:00:00",
          "2021-03-28T00:00:00",
          "2021-03-29T00:00:00",
          "2021-03-30T00:00:00",
          "2021-03-31T00:00:00",
          "2021-04-01T00:00:00",
          "2021-04-02T00:00:00",
          "2021-04-03T00:00:00",
          "2021-04-04T00:00:00",
          "2021-04-05T00:00:00",
          "2021-04-06T00:00:00",
          "2021-04-07T00:00:00",
          "2021-04-08T00:00:00",
          "2021-04-09T00:00:00",
          "2021-04-10T00:00:00",
          "2021-04-11T00:00:00",
          "2021-04-12T00:00:00",
          "2021-04-13T00:00:00",
          "2021-04-14T00:00:00",
          "2021-04-15T00:00:00",
          "2021-04-16T00:00:00",
          "2021-04-17T00:00:00",
          "2021-04-18T00:00:00",
          "2021-04-19T00:00:00",
          "2021-04-20T00:00:00",
          "2021-04-21T00:00:00",
          "2021-04-22T00:00:00",
          "2021-04-23T00:00:00",
          "2021-04-24T00:00:00",
          "2021-04-25T00:00:00",
          "2021-04-26T00:00:00",
          "2021-04-27T00:00:00",
          "2021-04-28T00:00:00",
          "2021-04-29T00:00:00",
          "2021-04-30T00:00:00",
          "2021-05-01T00:00:00",
          "2021-05-02T00:00:00",
          "2021-05-03T00:00:00",
          "2021-05-04T00:00:00",
          "2021-05-05T00:00:00",
          "2021-05-06T00:00:00",
          "2021-05-07T00:00:00",
          "2021-05-08T00:00:00",
          "2021-05-09T00:00:00",
          "2021-05-10T00:00:00",
          "2021-05-11T00:00:00",
          "2021-05-12T00:00:00",
          "2021-05-13T00:00:00",
          "2021-05-14T00:00:00",
          "2021-05-15T00:00:00",
          "2021-05-16T00:00:00",
          "2021-05-17T00:00:00",
          "2021-05-18T00:00:00",
          "2021-05-19T00:00:00",
          "2021-05-20T00:00:00",
          "2021-05-21T00:00:00",
          "2021-05-22T00:00:00",
          "2021-05-23T00:00:00",
          "2021-05-24T00:00:00",
          "2021-05-25T00:00:00",
          "2021-05-26T00:00:00",
          "2021-05-27T00:00:00",
          "2021-05-28T00:00:00",
          "2021-05-29T00:00:00",
          "2021-05-30T00:00:00",
          "2021-05-31T00:00:00",
          "2021-06-01T00:00:00",
          "2021-06-02T00:00:00",
          "2021-06-03T00:00:00",
          "2021-06-04T00:00:00",
          "2021-06-05T00:00:00",
          "2021-06-06T00:00:00",
          "2021-06-07T00:00:00",
          "2021-06-08T00:00:00",
          "2021-06-09T00:00:00",
          "2021-06-10T00:00:00",
          "2021-06-11T00:00:00",
          "2021-06-12T00:00:00",
          "2021-06-13T00:00:00",
          "2021-06-14T00:00:00",
          "2021-06-15T00:00:00",
          "2021-06-16T00:00:00",
          "2021-06-17T00:00:00",
          "2021-06-18T00:00:00",
          "2021-06-19T00:00:00",
          "2021-06-20T00:00:00",
          "2021-06-21T00:00:00",
          "2021-06-22T00:00:00",
          "2021-06-23T00:00:00",
          "2021-06-24T00:00:00",
          "2021-06-25T00:00:00",
          "2021-06-26T00:00:00",
          "2021-06-27T00:00:00",
          "2021-06-28T00:00:00",
          "2021-06-29T00:00:00",
          "2021-06-30T00:00:00",
          "2021-07-01T00:00:00",
          "2021-07-02T00:00:00",
          "2021-07-03T00:00:00",
          "2021-07-04T00:00:00",
          "2021-07-05T00:00:00",
          "2021-07-06T00:00:00",
          "2021-07-07T00:00:00",
          "2021-07-08T00:00:00",
          "2021-07-09T00:00:00",
          "2021-07-10T00:00:00",
          "2021-07-11T00:00:00",
          "2021-07-12T00:00:00",
          "2021-07-13T00:00:00",
          "2021-07-14T00:00:00",
          "2021-07-15T00:00:00",
          "2021-07-16T00:00:00",
          "2021-07-17T00:00:00",
          "2021-07-18T00:00:00",
          "2021-07-19T00:00:00",
          "2021-07-20T00:00:00",
          "2021-07-21T00:00:00",
          "2021-07-22T00:00:00",
          "2021-07-23T00:00:00",
          "2021-07-24T00:00:00",
          "2021-07-25T00:00:00",
          "2021-07-26T00:00:00",
          "2021-07-27T00:00:00",
          "2021-07-28T00:00:00",
          "2021-07-29T00:00:00",
          "2021-07-30T00:00:00",
          "2021-07-31T00:00:00",
          "2021-08-01T00:00:00",
          "2021-08-02T00:00:00",
          "2021-08-03T00:00:00",
          "2021-08-04T00:00:00",
          "2021-08-05T00:00:00",
          "2021-08-06T00:00:00",
          "2021-08-07T00:00:00",
          "2021-08-08T00:00:00",
          "2021-08-09T00:00:00",
          "2021-08-10T00:00:00",
          "2021-08-11T00:00:00",
          "2021-08-12T00:00:00",
          "2021-08-13T00:00:00",
          "2021-08-14T00:00:00",
          "2021-08-15T00:00:00",
          "2021-08-16T00:00:00",
          "2021-08-17T00:00:00",
          "2021-08-18T00:00:00",
          "2021-08-19T00:00:00",
          "2021-08-20T00:00:00",
          "2021-08-21T00:00:00",
          "2021-08-22T00:00:00",
          "2021-08-23T00:00:00",
          "2021-08-24T00:00:00",
          "2021-08-25T00:00:00",
          "2021-08-26T00:00:00",
          "2021-08-27T00:00:00",
          "2021-08-28T00:00:00",
          "2021-08-29T00:00:00",
          "2021-08-30T00:00:00",
          "2021-08-31T00:00:00",
          "2021-09-01T00:00:00",
          "2021-09-02T00:00:00",
          "2021-09-03T00:00:00",
          "2021-09-04T00:00:00",
          "2021-09-05T00:00:00",
          "2021-09-06T00:00:00",
          "2021-09-07T00:00:00",
          "2021-09-08T00:00:00",
          "2021-09-09T00:00:00",
          "2021-09-10T00:00:00",
          "2021-09-11T00:00:00",
          "2021-09-12T00:00:00",
          "2021-09-13T00:00:00",
          "2021-09-14T00:00:00",
          "2021-09-15T00:00:00",
          "2021-09-16T00:00:00",
          "2021-09-17T00:00:00",
          "2021-09-18T00:00:00",
          "2021-09-19T00:00:00",
          "2021-09-20T00:00:00",
          "2021-09-21T00:00:00",
          "2021-09-22T00:00:00",
          "2021-09-23T00:00:00",
          "2021-09-24T00:00:00",
          "2021-09-25T00:00:00",
          "2021-09-26T00:00:00",
          "2021-09-27T00:00:00",
          "2021-09-28T00:00:00",
          "2021-09-29T00:00:00",
          "2021-09-30T00:00:00",
          "2021-10-01T00:00:00",
          "2021-10-02T00:00:00",
          "2021-10-03T00:00:00",
          "2021-10-04T00:00:00",
          "2021-10-05T00:00:00",
          "2021-10-06T00:00:00",
          "2021-10-07T00:00:00",
          "2021-10-08T00:00:00",
          "2021-10-09T00:00:00",
          "2021-10-10T00:00:00",
          "2021-10-11T00:00:00",
          "2021-10-12T00:00:00",
          "2021-10-13T00:00:00",
          "2021-10-14T00:00:00",
          "2021-10-15T00:00:00",
          "2021-10-16T00:00:00",
          "2021-10-17T00:00:00",
          "2021-10-18T00:00:00",
          "2021-10-19T00:00:00",
          "2021-10-20T00:00:00",
          "2021-10-21T00:00:00",
          "2021-10-22T00:00:00",
          "2021-10-23T00:00:00",
          "2021-10-24T00:00:00",
          "2021-10-25T00:00:00",
          "2021-10-26T00:00:00",
          "2021-10-27T00:00:00",
          "2021-10-28T00:00:00",
          "2021-10-29T00:00:00",
          "2021-10-30T00:00:00",
          "2021-10-31T00:00:00",
          "2021-11-01T00:00:00",
          "2021-11-02T00:00:00",
          "2021-11-03T00:00:00",
          "2021-11-04T00:00:00",
          "2021-11-05T00:00:00",
          "2021-11-06T00:00:00",
          "2021-11-07T00:00:00",
          "2021-11-08T00:00:00",
          "2021-11-09T00:00:00",
          "2021-11-10T00:00:00",
          "2021-11-11T00:00:00",
          "2021-11-12T00:00:00",
          "2021-11-13T00:00:00",
          "2021-11-14T00:00:00",
          "2021-11-15T00:00:00",
          "2021-11-16T00:00:00",
          "2021-11-17T00:00:00",
          "2021-11-18T00:00:00",
          "2021-11-19T00:00:00",
          "2021-11-20T00:00:00",
          "2021-11-21T00:00:00",
          "2021-11-22T00:00:00",
          "2021-11-23T00:00:00",
          "2021-11-24T00:00:00",
          "2021-11-25T00:00:00",
          "2021-11-26T00:00:00",
          "2021-11-27T00:00:00",
          "2021-11-28T00:00:00",
          "2021-11-29T00:00:00",
          "2021-11-30T00:00:00",
          "2021-12-01T00:00:00",
          "2021-12-02T00:00:00",
          "2021-12-03T00:00:00",
          "2021-12-04T00:00:00",
          "2021-12-05T00:00:00",
          "2021-12-06T00:00:00",
          "2021-12-07T00:00:00",
          "2021-12-08T00:00:00",
          "2021-12-09T00:00:00",
          "2021-12-10T00:00:00",
          "2021-12-11T00:00:00",
          "2021-12-12T00:00:00",
          "2021-12-13T00:00:00",
          "2021-12-14T00:00:00",
          "2021-12-15T00:00:00",
          "2021-12-16T00:00:00",
          "2021-12-17T00:00:00",
          "2021-12-18T00:00:00",
          "2021-12-19T00:00:00",
          "2021-12-20T00:00:00",
          "2021-12-21T00:00:00",
          "2021-12-22T00:00:00",
          "2021-12-23T00:00:00",
          "2021-12-24T00:00:00",
          "2021-12-25T00:00:00",
          "2021-12-26T00:00:00",
          "2021-12-27T00:00:00",
          "2021-12-28T00:00:00",
          "2021-12-29T00:00:00",
          "2021-12-30T00:00:00",
          "2021-12-31T00:00:00",
          "2022-01-01T00:00:00",
          "2022-01-02T00:00:00",
          "2022-01-03T00:00:00",
          "2022-01-04T00:00:00",
          "2022-01-05T00:00:00",
          "2022-01-06T00:00:00",
          "2022-01-07T00:00:00",
          "2022-01-08T00:00:00",
          "2022-01-09T00:00:00",
          "2022-01-10T00:00:00",
          "2022-01-11T00:00:00",
          "2022-01-12T00:00:00",
          "2022-01-13T00:00:00",
          "2022-01-14T00:00:00",
          "2022-01-15T00:00:00",
          "2022-01-16T00:00:00",
          "2022-01-17T00:00:00",
          "2022-01-18T00:00:00",
          "2022-01-19T00:00:00",
          "2022-01-20T00:00:00",
          "2022-01-21T00:00:00",
          "2022-01-22T00:00:00",
          "2022-01-23T00:00:00",
          "2022-01-24T00:00:00",
          "2022-01-25T00:00:00",
          "2022-01-26T00:00:00",
          "2022-01-27T00:00:00",
          "2022-01-28T00:00:00",
          "2022-01-29T00:00:00",
          "2022-01-30T00:00:00",
          "2022-01-31T00:00:00",
          "2022-02-01T00:00:00",
          "2022-02-02T00:00:00",
          "2022-02-03T00:00:00",
          "2022-02-04T00:00:00",
          "2022-02-05T00:00:00",
          "2022-02-06T00:00:00",
          "2022-02-07T00:00:00",
          "2022-02-08T00:00:00",
          "2022-02-09T00:00:00",
          "2022-02-10T00:00:00",
          "2022-02-11T00:00:00",
          "2022-02-12T00:00:00",
          "2022-02-13T00:00:00",
          "2022-02-14T00:00:00",
          "2022-02-15T00:00:00",
          "2022-02-16T00:00:00",
          "2022-02-17T00:00:00",
          "2022-02-18T00:00:00",
          "2022-02-19T00:00:00",
          "2022-02-20T00:00:00",
          "2022-02-21T00:00:00",
          "2022-02-22T00:00:00",
          "2022-02-23T00:00:00",
          "2022-02-24T00:00:00",
          "2022-02-25T00:00:00",
          "2022-02-26T00:00:00",
          "2022-02-27T00:00:00",
          "2022-02-28T00:00:00",
          "2022-03-01T00:00:00",
          "2022-03-02T00:00:00",
          "2022-03-03T00:00:00",
          "2022-03-04T00:00:00",
          "2022-03-05T00:00:00",
          "2022-03-06T00:00:00",
          "2022-03-07T00:00:00",
          "2022-03-08T00:00:00",
          "2022-03-09T00:00:00",
          "2022-03-10T00:00:00",
          "2022-03-11T00:00:00",
          "2022-03-12T00:00:00",
          "2022-03-13T00:00:00",
          "2022-03-14T00:00:00",
          "2022-03-15T00:00:00",
          "2022-03-16T00:00:00",
          "2022-03-17T00:00:00",
          "2022-03-18T00:00:00",
          "2022-03-19T00:00:00",
          "2022-03-20T00:00:00",
          "2022-03-21T00:00:00",
          "2022-03-22T00:00:00",
          "2022-03-23T00:00:00",
          "2022-03-24T00:00:00",
          "2022-03-25T00:00:00",
          "2022-03-26T00:00:00",
          "2022-03-27T00:00:00",
          "2022-03-28T00:00:00",
          "2022-03-29T00:00:00",
          "2022-03-30T00:00:00",
          "2022-03-31T00:00:00",
          "2022-04-01T00:00:00",
          "2022-04-02T00:00:00",
          "2022-04-03T00:00:00",
          "2022-04-04T00:00:00",
          "2022-04-05T00:00:00",
          "2022-04-06T00:00:00",
          "2022-04-07T00:00:00",
          "2022-04-08T00:00:00",
          "2022-04-09T00:00:00",
          "2022-04-10T00:00:00",
          "2022-04-11T00:00:00",
          "2022-04-12T00:00:00",
          "2022-04-13T00:00:00",
          "2022-04-14T00:00:00",
          "2022-04-15T00:00:00",
          "2022-04-16T00:00:00",
          "2022-04-17T00:00:00",
          "2022-04-18T00:00:00",
          "2022-04-19T00:00:00",
          "2022-04-20T00:00:00",
          "2022-04-21T00:00:00",
          "2022-04-22T00:00:00",
          "2022-04-23T00:00:00",
          "2022-04-24T00:00:00",
          "2022-04-25T00:00:00",
          "2022-04-26T00:00:00",
          "2022-04-27T00:00:00",
          "2022-04-28T00:00:00",
          "2022-04-29T00:00:00",
          "2022-04-30T00:00:00",
          "2022-05-01T00:00:00",
          "2022-05-02T00:00:00",
          "2022-05-03T00:00:00",
          "2022-05-04T00:00:00",
          "2022-05-05T00:00:00",
          "2022-05-06T00:00:00",
          "2022-05-07T00:00:00",
          "2022-05-08T00:00:00",
          "2022-05-09T00:00:00",
          "2022-05-10T00:00:00",
          "2022-05-11T00:00:00",
          "2022-05-12T00:00:00",
          "2022-05-13T00:00:00",
          "2022-05-14T00:00:00",
          "2022-05-15T00:00:00",
          "2022-05-16T00:00:00",
          "2022-05-17T00:00:00",
          "2022-05-18T00:00:00",
          "2022-05-19T00:00:00",
          "2022-05-20T00:00:00",
          "2022-05-21T00:00:00",
          "2022-05-22T00:00:00",
          "2022-05-23T00:00:00",
          "2022-05-24T00:00:00",
          "2022-05-25T00:00:00",
          "2022-05-26T00:00:00",
          "2022-05-27T00:00:00",
          "2022-05-28T00:00:00",
          "2022-05-29T00:00:00",
          "2022-05-30T00:00:00",
          "2022-05-31T00:00:00",
          "2022-06-01T00:00:00",
          "2022-06-02T00:00:00",
          "2022-06-03T00:00:00",
          "2022-06-04T00:00:00",
          "2022-06-05T00:00:00",
          "2022-06-06T00:00:00",
          "2022-06-07T00:00:00",
          "2022-06-08T00:00:00",
          "2022-06-09T00:00:00",
          "2022-06-10T00:00:00",
          "2022-06-11T00:00:00",
          "2022-06-12T00:00:00",
          "2022-06-13T00:00:00",
          "2022-06-14T00:00:00",
          "2022-06-15T00:00:00",
          "2022-06-16T00:00:00",
          "2022-06-17T00:00:00",
          "2022-06-18T00:00:00",
          "2022-06-19T00:00:00",
          "2022-06-20T00:00:00",
          "2022-06-21T00:00:00",
          "2022-06-22T00:00:00",
          "2022-06-23T00:00:00",
          "2022-06-24T00:00:00",
          "2022-06-25T00:00:00",
          "2022-06-26T00:00:00",
          "2022-06-27T00:00:00",
          "2022-06-28T00:00:00",
          "2022-06-29T00:00:00",
          "2022-06-30T00:00:00",
          "2022-07-01T00:00:00",
          "2022-07-02T00:00:00",
          "2022-07-03T00:00:00",
          "2022-07-04T00:00:00",
          "2022-07-05T00:00:00",
          "2022-07-06T00:00:00",
          "2022-07-07T00:00:00",
          "2022-07-08T00:00:00",
          "2022-07-09T00:00:00",
          "2022-07-10T00:00:00",
          "2022-07-11T00:00:00",
          "2022-07-12T00:00:00",
          "2022-07-13T00:00:00",
          "2022-07-14T00:00:00",
          "2022-07-15T00:00:00",
          "2022-07-16T00:00:00",
          "2022-07-17T00:00:00",
          "2022-07-18T00:00:00",
          "2022-07-19T00:00:00",
          "2022-07-20T00:00:00",
          "2022-07-21T00:00:00",
          "2022-07-22T00:00:00",
          "2022-07-23T00:00:00",
          "2022-07-24T00:00:00",
          "2022-07-25T00:00:00",
          "2022-07-26T00:00:00",
          "2022-07-27T00:00:00",
          "2022-07-28T00:00:00",
          "2022-07-29T00:00:00",
          "2022-07-30T00:00:00",
          "2022-07-31T00:00:00",
          "2022-08-01T00:00:00",
          "2022-08-02T00:00:00",
          "2022-08-03T00:00:00",
          "2022-08-04T00:00:00",
          "2022-08-05T00:00:00",
          "2022-08-06T00:00:00",
          "2022-08-07T00:00:00",
          "2022-08-08T00:00:00",
          "2022-08-09T00:00:00",
          "2022-08-10T00:00:00",
          "2022-08-11T00:00:00",
          "2022-08-12T00:00:00",
          "2022-08-13T00:00:00",
          "2022-08-14T00:00:00",
          "2022-08-15T00:00:00",
          "2022-08-16T00:00:00",
          "2022-08-17T00:00:00",
          "2022-08-18T00:00:00",
          "2022-08-19T00:00:00",
          "2022-08-20T00:00:00",
          "2022-08-21T00:00:00",
          "2022-08-22T00:00:00",
          "2022-08-23T00:00:00",
          "2022-08-24T00:00:00",
          "2022-08-25T00:00:00",
          "2022-08-26T00:00:00",
          "2022-08-27T00:00:00",
          "2022-08-28T00:00:00",
          "2022-08-29T00:00:00",
          "2022-08-30T00:00:00",
          "2022-08-31T00:00:00",
          "2022-09-01T00:00:00",
          "2022-09-02T00:00:00",
          "2022-09-03T00:00:00",
          "2022-09-04T00:00:00",
          "2022-09-05T00:00:00",
          "2022-09-06T00:00:00",
          "2022-09-07T00:00:00",
          "2022-09-08T00:00:00",
          "2022-09-09T00:00:00",
          "2022-09-10T00:00:00",
          "2022-09-11T00:00:00",
          "2022-09-12T00:00:00",
          "2022-09-13T00:00:00",
          "2022-09-14T00:00:00",
          "2022-09-15T00:00:00",
          "2022-09-16T00:00:00",
          "2022-09-17T00:00:00",
          "2022-09-18T00:00:00",
          "2022-09-19T00:00:00",
          "2022-09-20T00:00:00",
          "2022-09-21T00:00:00",
          "2022-09-22T00:00:00",
          "2022-09-23T00:00:00",
          "2022-09-24T00:00:00",
          "2022-09-25T00:00:00",
          "2022-09-26T00:00:00",
          "2022-09-27T00:00:00",
          "2022-09-28T00:00:00",
          "2022-09-29T00:00:00",
          "2022-09-30T00:00:00",
          "2022-10-01T00:00:00",
          "2022-10-02T00:00:00",
          "2022-10-03T00:00:00",
          "2022-10-04T00:00:00",
          "2022-10-05T00:00:00",
          "2022-10-06T00:00:00",
          "2022-10-07T00:00:00",
          "2022-10-08T00:00:00",
          "2022-10-09T00:00:00",
          "2022-10-10T00:00:00",
          "2022-10-11T00:00:00",
          "2022-10-12T00:00:00",
          "2022-10-13T00:00:00",
          "2022-10-14T00:00:00",
          "2022-10-15T00:00:00",
          "2022-10-16T00:00:00",
          "2022-10-17T00:00:00",
          "2022-10-18T00:00:00",
          "2022-10-19T00:00:00",
          "2022-10-20T00:00:00",
          "2022-10-21T00:00:00",
          "2022-10-22T00:00:00",
          "2022-10-23T00:00:00",
          "2022-10-24T00:00:00",
          "2022-10-25T00:00:00",
          "2022-10-26T00:00:00",
          "2022-10-27T00:00:00",
          "2022-10-28T00:00:00",
          "2022-10-29T00:00:00",
          "2022-10-30T00:00:00",
          "2022-10-31T00:00:00",
          "2022-11-01T00:00:00",
          "2022-11-02T00:00:00",
          "2022-11-03T00:00:00",
          "2022-11-04T00:00:00",
          "2022-11-05T00:00:00",
          "2022-11-06T00:00:00",
          "2022-11-07T00:00:00",
          "2022-11-08T00:00:00",
          "2022-11-09T00:00:00",
          "2022-11-10T00:00:00",
          "2022-11-11T00:00:00",
          "2022-11-12T00:00:00",
          "2022-11-13T00:00:00",
          "2022-11-14T00:00:00",
          "2022-11-15T00:00:00",
          "2022-11-16T00:00:00",
          "2022-11-17T00:00:00",
          "2022-11-18T00:00:00",
          "2022-11-19T00:00:00",
          "2022-11-20T00:00:00",
          "2022-11-21T00:00:00",
          "2022-11-22T00:00:00",
          "2022-11-23T00:00:00",
          "2022-11-24T00:00:00",
          "2022-11-25T00:00:00",
          "2022-11-26T00:00:00",
          "2022-11-27T00:00:00",
          "2022-11-28T00:00:00",
          "2022-11-29T00:00:00",
          "2022-11-30T00:00:00",
          "2022-12-01T00:00:00",
          "2022-12-02T00:00:00",
          "2022-12-03T00:00:00",
          "2022-12-04T00:00:00",
          "2022-12-05T00:00:00",
          "2022-12-06T00:00:00",
          "2022-12-07T00:00:00",
          "2022-12-08T00:00:00",
          "2022-12-09T00:00:00",
          "2022-12-10T00:00:00",
          "2022-12-11T00:00:00",
          "2022-12-12T00:00:00",
          "2022-12-13T00:00:00",
          "2022-12-14T00:00:00",
          "2022-12-15T00:00:00",
          "2022-12-16T00:00:00",
          "2022-12-17T00:00:00",
          "2022-12-18T00:00:00",
          "2022-12-19T00:00:00",
          "2022-12-20T00:00:00",
          "2022-12-21T00:00:00",
          "2022-12-22T00:00:00",
          "2022-12-23T00:00:00",
          "2022-12-24T00:00:00",
          "2022-12-25T00:00:00",
          "2022-12-26T00:00:00",
          "2022-12-27T00:00:00",
          "2022-12-28T00:00:00"
         ],
         "xaxis": "x",
         "y": [
          320.1929931640625,
          314.2489929199219,
          315.0320129394531,
          281.0820007324219,
          264.19500732421875,
          274.4739990234375,
          286.1889953613281,
          294.3370056152344,
          283.3489990234375,
          290.4079895019531,
          274.7959899902344,
          265.6600036621094,
          267.7959899902344,
          225.86099243164065,
          178.10299682617188,
          209.843994140625,
          208.0970001220703,
          199.25999450683597,
          210.3390045166016,
          214.86099243164065,
          211.31500244140625,
          226.89700317382807,
          233.406005859375,
          232.8789978027344,
          247.8470001220703,
          253.71800231933597,
          273.4729919433594,
          263.4750061035156,
          233.9149932861328,
          233.51300048828125,
          226.4250030517578,
          217.4640045166016,
          226.9720001220703,
          238.22900390625,
          227.26800537109372,
          226.85299682617188,
          217.11099243164065,
          222.26600646972656,
          227.7539978027344,
          223.41200256347656,
          220.1100006103516,
          219.8390045166016,
          219.18499755859372,
          221.76400756835935,
          235.427001953125,
          257.3210144042969,
          234.8249969482422,
          233.84300231933597,
          243.6100006103516,
          236.3260040283203,
          240.2830047607422,
          243.7790069580078,
          244.53399658203125,
          235.9770050048828,
          238.8919982910156,
          238.7350006103516,
          237.47000122070312,
          236.42599487304688,
          253.8280029296875,
          254.26300048828125,
          260.2019958496094,
          275.6700134277344,
          281.7019958496094,
          273.0920104980469,
          276.1780090332031,
          272.7229919433594,
          276.260986328125,
          274.35400390625,
          289.60699462890625,
          291.760009765625,
          296.3789978027344,
          294.35400390625,
          285.3370056152344,
          281.885009765625,
          286.3930053710937,
          290.5929870605469,
          285.5050048828125,
          256.29901123046875,
          260.9280090332031,
          261.7489929199219,
          260.0249938964844,
          267.9599914550781,
          266.739990234375,
          245.59500122070312,
          246.19700622558597,
          248.5319976806641,
          247.0290069580078,
          252.79800415039065,
          242.71299743652344,
          247.5260009765625,
          244.2239990234375,
          247.27200317382807,
          253.0050048828125,
          254.32200622558597,
          253.69700622558597,
          260.5979919433594,
          255.49200439453125,
          253.17999267578125,
          245.02200317382807,
          243.67599487304688,
          236.07200622558597,
          236.552001953125,
          236.1529998779297,
          224.5870056152344,
          219.15899658203125,
          223.8329925537109,
          228.572998046875,
          222.8820037841797,
          223.3560028076172,
          222.6000061035156,
          224.62600708007807,
          235.2689971923828,
          234.17599487304688,
          236.4620056152344,
          231.26800537109372,
          226.38999938964844,
          219.42999267578125,
          229.28599548339844,
          225.85499572753903,
          225.80799865722656,
          236.1450042724609,
          232.07899475097656,
          234.92999267578125,
          240.3580017089844,
          239.01800537109372,
          236.1210021972656,
          229.7819976806641,
          237.33399963378903,
          243.86300659179688,
          241.83200073242188,
          240.29600524902344,
          242.1580047607422,
          241.11199951171875,
          236.3769989013672,
          236.9290008544922,
          237.60499572753903,
          236.1529998779297,
          236.802001953125,
          233.1280059814453,
          231.94700622558597,
          234.01800537109372,
          235.343994140625,
          240.34800720214844,
          238.8719940185547,
          240.9530029296875,
          237.1100006103516,
          237.11599731445312,
          237.2830047607422,
          237.4080047607422,
          237.0959930419922,
          233.34500122070312,
          230.19000244140625,
          222.92599487304688,
          225.8029937744141,
          225.87399291992188,
          224.32400512695312,
          224.95199584960935,
          225.61900329589844,
          222.8809967041016,
          228.48899841308597,
          229.04800415039065,
          228.8029937744141,
          229.7050018310547,
          229.98199462890625,
          232.4019927978516,
          233.54299926757807,
          236.822998046875,
          250.8950042724609,
          249.28399658203125,
          249.0070037841797,
          244.6060028076172,
          245.2120056152344,
          243.94400024414065,
          246.9900054931641,
          244.29600524902344,
          240.51499938964844,
          242.7989959716797,
          243.593994140625,
          250.9900054931641,
          249.0110015869141,
          257.0639953613281,
          263.0719909667969,
          258.6210021972656,
          255.41200256347656,
          256.33599853515625,
          260.885986328125,
          271.9129943847656,
          269.0299987792969,
          266.2070007324219,
          270.7850036621094,
          269.2279968261719,
          284.8940124511719,
          293.114990234375,
          310.86700439453125,
          292.0539855957031,
          287.4639892578125,
          285.8290100097656,
          278.0889892578125,
          279.47198486328125,
          274.9010009765625,
          273.614013671875,
          278.9809875488281,
          275.8330078125,
          277.22198486328125,
          276.04901123046875,
          288.27801513671875,
          288.6969909667969,
          292.6860046386719,
          293.6239929199219,
          294.427001953125,
          289.5899963378906,
          287.72198486328125,
          284.6499938964844,
          281.6010131835937,
          282.614013671875,
          281.2269897460937,
          285.2179870605469,
          281.8819885253906,
          278.5769958496094,
          279.5849914550781,
          260.9970092773437,
          265.0830078125,
          264.4700012207031,
          270.385986328125,
          266.3760070800781,
          264.0799865722656,
          265.67999267578125,
          261.5509948730469,
          258.5069885253906,
          257.9760131835937,
          211.07899475097656,
          226.6840057373047,
          235.3500061035156,
          232.56900024414065,
          230.38999938964844,
          228.16900634765625,
          210.4949951171875,
          221.60899353027344,
          225.83099365234372,
          224.7689971923828,
          231.39599609375,
          229.77999877929688,
          228.7610015869141,
          230.05599975585935,
          228.1210021972656,
          229.28399658203125,
          227.18299865722656,
          230.29800415039065,
          235.0189971923828,
          239.83999633789065,
          239.8470001220703,
          243.60699462890625,
          238.16799926757807,
          238.4770050048828,
          240.10699462890625,
          235.22900390625,
          230.51199340820312,
          230.6439971923828,
          230.3040008544922,
          229.09100341796875,
          229.80999755859372,
          232.9750061035156,
          231.4929962158203,
          231.2120056152344,
          227.0850067138672,
          230.6179962158203,
          230.2830047607422,
          234.5290069580078,
          235.1439971923828,
          234.33999633789065,
          232.7570037841797,
          239.1419982910156,
          236.6869964599609,
          236.05999755859372,
          237.5489959716797,
          237.29299926757807,
          238.72999572753903,
          238.25900268554688,
          240.38299560546875,
          246.06300354003903,
          242.968994140625,
          242.3040008544922,
          243.93099975585935,
          244.9409942626953,
          247.0500030517578,
          245.30799865722656,
          249.50799560546875,
          251.98899841308597,
          254.32000732421875,
          262.8689880371094,
          270.6400146484375,
          261.6430053710937,
          263.43701171875,
          269.4630126953125,
          266.2720031738281,
          274.02301025390625,
          276.4960021972656,
          281.65399169921875,
          283.67999267578125,
          285.29998779296875,
          293.7879943847656,
          304.6180114746094,
          313.8550109863281,
          328.0150146484375,
          314.1659851074219,
          325.4309997558594,
          361.1889953613281,
          403.4169921875,
          411.56298828125,
          386.35400390625,
          374.4700012207031,
          386.4819946289063,
          373.3680114746094,
          380.2569885253906,
          336.8190002441406,
          311.0840148925781,
          338.1520080566406,
          336.75299072265625,
          332.906005859375,
          320.1659851074219,
          330.7510070800781,
          335.093994140625,
          334.5899963378906,
          326.14898681640625,
          322.0220031738281,
          326.927001953125,
          324.5360107421875,
          323.0459899902344,
          320.0459899902344,
          328.2059936523437,
          352.6839904785156,
          358.0419921875,
          357.3810119628906,
          371.29400634765625,
          377.3210144042969,
          362.4880065917969,
          359.18701171875,
          361.0459899902344,
          363.1830139160156,
          388.9490051269531,
          388.7829895019531,
          395.5360107421875,
          415.56298828125,
          417.56298828125,
          415.47900390625,
          451.93798828125,
          434.99700927734375,
          433.7550048828125,
          444.1820068359375,
          465.3210144042969,
          454.9339904785156,
          456.0780029296875,
          463.6159973144531,
          462.3219909667969,
          442.68499755859375,
          438.6390075683594,
          436.5719909667969,
          442.4010009765625,
          454.9849853515625,
          455.6530151367188,
          417.2739868164063,
          422.822998046875,
          422.2789916992188,
          432.9830017089844,
          426.6199951171875,
          430.5669860839844,
          434.3340148925781,
          433.43798828125,
          430.010986328125,
          433.0910034179688,
          431.9599914550781,
          429.1050109863281,
          458.0480041503906,
          453.2300109863281,
          447.6109924316406,
          447.9909973144531,
          448.4280090332031,
          435.6900024414063,
          432.3710021972656,
          430.3059997558594,
          364.33099365234375,
          387.5360107421875,
          382.2990112304688,
          387.1679992675781,
          380.1489868164063,
          420.2300109863281,
          410.2619934082031,
          382.4920043945313,
          387.4909973144531,
          402.9710083007813,
          391.72601318359375,
          392.1530151367188,
          394.9719848632813,
          380.28900146484375,
          379.4739990234375,
          378.2550048828125,
          368.7669982910156,
          373.0559997558594,
          374.447998046875,
          369.9490051269531,
          389.593994140625,
          386.5490112304688,
          376.5220031738281,
          376.6199951171875,
          373.4469909667969,
          376.0289916992188,
          381.6489868164063,
          379.6539916992188,
          384.2630004882813,
          391.8599853515625,
          407.2300109863281,
          400.18499755859375,
          407.4880065917969,
          416.3219909667969,
          422.37298583984375,
          420.7850036621094,
          437.16400146484375,
          438.7980041503906,
          437.74798583984375,
          420.7359924316406,
          424.9549865722656,
          424.54400634765625,
          432.1520080566406,
          432.5190124511719,
          433.5039978027344,
          437.6969909667969,
          435.12298583984375,
          423.989013671875,
          421.6510009765625,
          410.9389953613281,
          400.5700073242188,
          407.7070007324219,
          414.3210144042969,
          413.9719848632813,
          414.8599853515625,
          417.1310119628906,
          421.6900024414063,
          411.6239929199219,
          414.0650024414063,
          416.43798828125,
          416.8299865722656,
          417.010986328125,
          420.6210021972656,
          409.5480041503906,
          410.4440002441406,
          413.7550048828125,
          413.3070068359375,
          418.0889892578125,
          418.0409851074219,
          416.3940124511719,
          417.177001953125,
          417.9450073242188,
          426.7650146484375,
          424.2309875488281,
          416.5159912109375,
          414.8160095214844,
          416.72900390625,
          417.9599914550781,
          420.87298583984375,
          420.9039916992188,
          421.4440002441406,
          424.0299987792969,
          423.4129943847656,
          422.7449951171875,
          420.3489990234375,
          419.4110107421875,
          421.5639953613281,
          422.4830017089844,
          425.1900024414063,
          423.7340087890625,
          424.2820129394531,
          429.7130126953125,
          430.5719909667969,
          427.3989868164063,
          428.5910034179688,
          435.5090026855469,
          441.3890075683594,
          449.4249877929688,
          445.7369995117188,
          450.2820129394531,
          458.5549926757813,
          461.4259948730469,
          466.0889892578125,
          444.68701171875,
          449.010986328125,
          455.0969848632813,
          448.3179931640625,
          451.875,
          444.66900634765625,
          450.3039855957031,
          446.7219848632813,
          447.97601318359375,
          459.6029968261719,
          458.5360107421875,
          458.5480041503906,
          460.4830017089844,
          450.8949890136719,
          452.7279968261719,
          454.7659912109375,
          455.6700134277344,
          455.6709899902344,
          457.5679931640625,
          454.1629943847656,
          453.7829895019531,
          454.6189880371094,
          438.7149963378906,
          442.6759948730469,
          443.18798828125,
          439.322998046875,
          444.1549987792969,
          445.9809875488281,
          449.5989990234375,
          453.3840026855469,
          473.4639892578125,
          530.0399780273438,
          526.2329711914062,
          533.864013671875,
          531.385986328125,
          536.9199829101562,
          537.9719848632812,
          569.1939697265625,
          572.7269897460938,
          574.9769897460938,
          585.5369873046875,
          576.5969848632812,
          581.64501953125,
          574.6300048828125,
          577.469970703125,
          606.7269897460938,
          672.7839965820312,
          704.3759765625,
          685.5590209960938,
          694.468994140625,
          766.3079833984375,
          748.9089965820312,
          756.2269897460938,
          763.781005859375,
          737.2260131835938,
          666.6519775390625,
          596.1160278320312,
          623.9769897460938,
          665.2990112304688,
          665.1229858398438,
          629.3670043945312,
          655.2750244140625,
          647.0009765625,
          639.8900146484375,
          673.3369750976562,
          676.2960205078125,
          703.7020263671875,
          658.6640014648438,
          683.6619873046875,
          670.6270141601562,
          677.3309936523438,
          640.56201171875,
          666.5230102539062,
          650.9600219726562,
          649.3599853515625,
          647.6589965820312,
          664.551025390625,
          654.468017578125,
          658.0780029296875,
          663.2550048828125,
          660.7670288085938,
          679.458984375,
          673.1060180664062,
          672.864013671875,
          665.6849975585938,
          665.0120239257812,
          650.6190185546875,
          655.5560302734375,
          661.2849731445312,
          654.0969848632812,
          651.7839965820312,
          654.3519897460938,
          655.0349731445312,
          656.9920043945312,
          655.0469970703125,
          624.6810302734375,
          606.27197265625,
          547.4650268554688,
          566.35498046875,
          578.2890014648438,
          575.0430297851562,
          587.7780151367188,
          592.6900024414062,
          591.0540161132812,
          587.801025390625,
          592.10302734375,
          589.1199951171875,
          587.5590209960938,
          585.5880126953125,
          570.4730224609375,
          567.239990234375,
          577.4390258789062,
          573.2160034179688,
          574.3179931640625,
          575.6300048828125,
          581.697021484375,
          581.3079833984375,
          586.7529907226562,
          583.4149780273438,
          580.1820068359375,
          577.760986328125,
          579.6510009765625,
          569.947021484375,
          573.9119873046875,
          574.1069946289062,
          577.5029907226562,
          575.4719848632812,
          572.302978515625,
          575.5369873046875,
          598.2119750976562,
          608.6339721679688,
          606.5900268554688,
          610.4359741210938,
          614.5440063476562,
          626.3159790039062,
          622.8610229492188,
          623.5089721679688,
          606.718994140625,
          608.2429809570312,
          609.2410278320312,
          610.6840209960938,
          607.155029296875,
          606.9730224609375,
          605.9840087890625,
          609.8740234375,
          609.2269897460938,
          608.31201171875,
          597.1489868164062,
          596.2979736328125,
          602.8419799804688,
          602.625,
          600.8259887695312,
          608.0430297851562,
          606.166015625,
          604.72802734375,
          605.6929931640625,
          609.7349853515625,
          613.9829711914062,
          610.8920288085938,
          612.1329956054688,
          610.2039794921875,
          612.510986328125,
          613.02099609375,
          617.1209716796875,
          619.1079711914062,
          616.7520141601562,
          618.9940185546875,
          641.072021484375,
          636.1920166015625,
          636.7860107421875,
          640.3779907226562,
          638.64599609375,
          641.6309814453125,
          639.1929931640625,
          637.9600219726562,
          630.52001953125,
          630.8569946289062,
          632.8280029296875,
          657.2940063476562,
          657.0709838867188,
          653.760986328125,
          657.5880126953125,
          678.3040161132812,
          688.31298828125,
          689.6510009765625,
          714.47900390625,
          701.864013671875,
          700.9719848632812,
          729.7930297851562,
          740.8289794921875,
          688.7000122070312,
          703.2349853515625,
          703.4180297851562,
          711.52197265625,
          703.1309814453125,
          709.8480224609375,
          723.2730102539062,
          715.5339965820312,
          716.4110107421875,
          705.0540161132812,
          702.031005859375,
          705.02099609375,
          711.6190185546875,
          744.197998046875,
          740.9769897460938,
          751.5850219726562,
          751.6160278320312,
          731.0260009765625,
          739.2479858398438,
          751.3469848632812,
          744.593994140625,
          740.2890014648438,
          741.6489868164062,
          735.3820190429688,
          732.0349731445312,
          735.81298828125,
          735.60400390625,
          745.6909790039062,
          756.7739868164062,
          777.9439697265625,
          771.155029296875,
          773.8720092773438,
          758.7000122070312,
          764.2239990234375,
          768.1320190429688,
          770.8099975585938,
          772.7940063476562,
          774.6500244140625,
          769.7310180664062,
          780.0869750976562,
          780.5560302734375,
          781.4810180664062,
          778.0880126953125,
          784.906982421875,
          790.8289794921875,
          790.530029296875,
          792.7139892578125,
          800.8759765625,
          834.281005859375,
          864.5399780273438,
          921.9840087890624,
          898.822021484375,
          896.1829833984375,
          907.6099853515624,
          933.197998046875,
          975.9210205078124,
          973.4970092773438,
          961.2379760742188,
          963.7429809570312,
          998.3250122070312,
          1021.75,
          1043.8399658203125,
          1154.72998046875,
          1013.3800048828124,
          902.2009887695312,
          908.5850219726562,
          911.198974609375,
          902.8280029296876,
          907.6790161132812,
          777.7570190429688,
          804.833984375,
          823.9840087890625,
          818.4119873046875,
          821.7979736328125,
          831.5339965820312,
          907.93798828125,
          886.6179809570312,
          899.072998046875,
          895.0260009765625,
          921.7890014648438,
          924.6729736328124,
          921.0120239257812,
          892.68701171875,
          901.5419921875,
          917.5859985351562,
          919.75,
          921.5900268554688,
          919.4959716796876,
          920.3820190429688,
          970.4030151367188,
          989.0230102539062,
          1011.7999877929688,
          1029.9100341796875,
          1042.9000244140625,
          1027.3399658203125,
          1038.1500244140625,
          1061.3499755859375,
          1063.0699462890625,
          994.3829956054688,
          988.6740112304688,
          1004.4500122070312,
          999.1810302734376,
          990.6420288085938,
          1004.5499877929688,
          1007.47998046875,
          1027.43994140625,
          1046.2099609375,
          1054.4200439453125,
          1047.8699951171875,
          1079.97998046875,
          1115.300048828125,
          1117.43994140625,
          1166.719970703125,
          1173.6800537109375,
          1143.8399658203125,
          1165.199951171875,
          1179.969970703125,
          1179.969970703125,
          1222.5,
          1251.010009765625,
          1274.989990234375,
          1255.1500244140625,
          1267.1199951171875,
          1272.8299560546875,
          1223.5400390625,
          1150,
          1188.489990234375,
          1116.719970703125,
          1175.8299560546875,
          1221.3800048828125,
          1231.9200439453125,
          1240,
          1249.6099853515625,
          1187.81005859375,
          1100.22998046875,
          973.8179931640624,
          1036.739990234375,
          1054.22998046875,
          1120.5400390625,
          1049.1400146484375,
          1038.5899658203125,
          937.52001953125,
          972.7789916992188,
          966.7249755859376,
          1045.77001953125,
          1047.1500244140625,
          1039.969970703125,
          1026.4300537109375,
          1071.7900390625,
          1080.5,
          1102.1700439453125,
          1143.81005859375,
          1133.25,
          1124.780029296875,
          1182.6800537109375,
          1176.9000244140625,
          1175.949951171875,
          1187.8699951171875,
          1187.1300048828125,
          1205.010009765625,
          1200.3699951171875,
          1169.280029296875,
          1167.5400390625,
          1172.52001953125,
          1182.93994140625,
          1193.9100341796875,
          1211.6700439453125,
          1210.2900390625,
          1229.0799560546875,
          1222.050048828125,
          1231.7099609375,
          1207.2099609375,
          1250.1500244140625,
          1265.489990234375,
          1281.0799560546875,
          1317.72998046875,
          1316.47998046875,
          1321.7900390625,
          1347.8900146484375,
          1421.5999755859375,
          1452.8199462890625,
          1490.0899658203125,
          1537.6700439453125,
          1555.449951171875,
          1578.800048828125,
          1596.7099609375,
          1723.3499755859375,
          1755.3599853515625,
          1787.1300048828125,
          1848.5699462890625,
          1724.239990234375,
          1804.9100341796875,
          1808.9100341796875,
          1738.4300537109375,
          1734.449951171875,
          1839.0899658203125,
          1888.6500244140625,
          1987.7099609375,
          2084.72998046875,
          2041.199951171875,
          2173.39990234375,
          2320.419921875,
          2443.639892578125,
          2304.97998046875,
          2202.419921875,
          2038.8699951171875,
          2155.800048828125,
          2255.610107421875,
          2175.469970703125,
          2286.409912109375,
          2407.8798828125,
          2488.550048828125,
          2515.35009765625,
          2511.81005859375,
          2686.81005859375,
          2863.199951171875,
          2732.159912109375,
          2805.6201171875,
          2823.81005859375,
          2947.7099609375,
          2958.110107421875,
          2659.6298828125,
          2717.02001953125,
          2506.3701171875,
          2464.580078125,
          2518.56005859375,
          2655.8798828125,
          2548.2900390625,
          2589.60009765625,
          2721.7900390625,
          2689.10009765625,
          2705.409912109375,
          2744.909912109375,
          2608.719970703125,
          2589.409912109375,
          2478.449951171875,
          2552.449951171875,
          2574.7900390625,
          2539.320068359375,
          2480.840087890625,
          2434.550048828125,
          2506.469970703125,
          2564.06005859375,
          2601.639892578125,
          2601.989990234375,
          2608.56005859375,
          2518.659912109375,
          2571.340087890625,
          2518.43994140625,
          2372.56005859375,
          2337.7900390625,
          2398.840087890625,
          2357.89990234375,
          2233.340087890625,
          1998.8599853515625,
          1929.8199462890625,
          2228.409912109375,
          2318.8798828125,
          2273.429931640625,
          2817.60009765625,
          2667.760009765625,
          2810.1201171875,
          2730.39990234375,
          2754.860107421875,
          2576.47998046875,
          2529.449951171875,
          2671.780029296875,
          2809.010009765625,
          2726.449951171875,
          2757.179931640625,
          2875.340087890625,
          2718.260009765625,
          2710.669921875,
          2804.72998046875,
          2895.889892578125,
          3252.909912109375,
          3213.93994140625,
          3378.93994140625,
          3419.93994140625,
          3342.469970703125,
          3381.280029296875,
          3650.6201171875,
          3884.7099609375,
          4073.260009765625,
          4325.1298828125,
          4181.93017578125,
          4376.6298828125,
          4331.68994140625,
          4160.6201171875,
          4193.7001953125,
          4087.659912109375,
          4001.739990234375,
          4100.52001953125,
          4151.52001953125,
          4334.68017578125,
          4371.60009765625,
          4352.39990234375,
          4382.8798828125,
          4382.66015625,
          4579.02001953125,
          4565.2998046875,
          4703.39013671875,
          4892.009765625,
          4578.77001953125,
          4582.9599609375,
          4236.31005859375,
          4376.52978515625,
          4597.1201171875,
          4599.8798828125,
          4228.75,
          4226.06005859375,
          4122.93994140625,
          4161.27001953125,
          4130.81005859375,
          3882.590087890625,
          3154.949951171875,
          3637.52001953125,
          3625.0400390625,
          3582.8798828125,
          4065.199951171875,
          3924.969970703125,
          3905.949951171875,
          3631.0400390625,
          3630.699951171875,
          3792.39990234375,
          3682.840087890625,
          3926.070068359375,
          3892.35009765625,
          4200.669921875,
          4174.72998046875,
          4163.06982421875,
          4338.7099609375,
          4403.740234375,
          4409.31982421875,
          4317.47998046875,
          4229.35986328125,
          4328.41015625,
          4370.81005859375,
          4426.89013671875,
          4610.47998046875,
          4772.02001953125,
          4781.990234375,
          4826.47998046875,
          5446.91015625,
          5647.2099609375,
          5831.7900390625,
          5678.18994140625,
          5725.58984375,
          5605.509765625,
          5590.68994140625,
          5708.52001953125,
          6011.4501953125,
          6031.60009765625,
          6008.419921875,
          5930.31982421875,
          5526.64013671875,
          5750.7998046875,
          5904.830078125,
          5780.89990234375,
          5753.08984375,
          6153.85009765625,
          6130.52978515625,
          6468.39990234375,
          6767.31005859375,
          7078.5,
          7207.759765625,
          7379.9501953125,
          7407.41015625,
          7022.759765625,
          7144.3798828125,
          7459.68994140625,
          7143.580078125,
          6618.14013671875,
          6357.60009765625,
          5950.06982421875,
          6559.490234375,
          6635.75,
          7315.5400390625,
          7871.68994140625,
          7708.990234375,
          7790.14990234375,
          8036.490234375,
          8200.6396484375,
          8071.259765625,
          8253.5498046875,
          8038.77001953125,
          8253.6904296875,
          8790.919921875,
          9330.5498046875,
          9818.349609375,
          10058.7998046875,
          9888.6103515625,
          10233.599609375,
          10975.599609375,
          11074.599609375,
          11323.2001953125,
          11657.2001953125,
          11916.7001953125,
          14291.5,
          17899.69921875,
          16569.400390625,
          15178.2001953125,
          15455.400390625,
          16936.80078125,
          17415.400390625,
          16408.19921875,
          16564,
          17706.900390625,
          19497.400390625,
          19140.80078125,
          19114.19921875,
          17776.69921875,
          16624.599609375,
          15802.900390625,
          13831.7998046875,
          14699.2001953125,
          13925.7998046875,
          14026.599609375,
          16099.7998046875,
          15838.5,
          14606.5,
          14656.2001953125,
          12952.2001953125,
          14156.400390625,
          13657.2001953125,
          14982.099609375,
          15201,
          15599.2001953125,
          17429.5,
          17527,
          16477.599609375,
          15170.099609375,
          14595.400390625,
          14973.2998046875,
          13405.7998046875,
          13980.599609375,
          14360.2001953125,
          13772,
          13819.7998046875,
          11490.5,
          11188.599609375,
          11474.900390625,
          11607.400390625,
          12899.2001953125,
          11600.099609375,
          10931.400390625,
          10868.400390625,
          11359.400390625,
          11259.400390625,
          11171.400390625,
          11440.7001953125,
          11786.2998046875,
          11296.400390625,
          10106.2998046875,
          10221.099609375,
          9170.5400390625,
          8830.75,
          9174.91015625,
          8277.009765625,
          6955.27001953125,
          7754,
          7621.2998046875,
          8265.58984375,
          8736.98046875,
          8621.900390625,
          8129.97021484375,
          8926.5703125,
          8598.3095703125,
          9494.6298828125,
          10166.400390625,
          10233.900390625,
          11112.7001953125,
          10551.7998046875,
          11225.2998046875,
          11403.7001953125,
          10690.400390625,
          10005,
          10301.099609375,
          9813.0703125,
          9664.73046875,
          10366.7001953125,
          10725.599609375,
          10397.900390625,
          10951,
          11086.400390625,
          11489.7001953125,
          11512.599609375,
          11573.2998046875,
          10779.900390625,
          9965.5703125,
          9395.009765625,
          9337.5498046875,
          8866,
          9578.6298828125,
          9205.1201171875,
          9194.849609375,
          8269.8095703125,
          8300.8603515625,
          8338.349609375,
          7916.8798828125,
          8223.6796875,
          8630.650390625,
          8913.4697265625,
          8929.2802734375,
          8728.4697265625,
          8879.6201171875,
          8668.1201171875,
          8495.7802734375,
          8209.400390625,
          7833.0400390625,
          7954.47998046875,
          7165.7001953125,
          6890.52001953125,
          6973.52978515625,
          6844.22998046875,
          7083.7998046875,
          7456.10986328125,
          6853.83984375,
          6811.47021484375,
          6636.31982421875,
          6911.08984375,
          7023.52001953125,
          6770.72998046875,
          6834.759765625,
          6968.31982421875,
          7889.25,
          7895.9599609375,
          7986.240234375,
          8329.1103515625,
          8058.669921875,
          7902.08984375,
          8163.419921875,
          8294.3095703125,
          8845.830078125,
          8895.580078125,
          8802.4599609375,
          8930.8798828125,
          9697.5,
          8845.740234375,
          9281.509765625,
          8987.0498046875,
          9348.48046875,
          9419.080078125,
          9240.5498046875,
          9119.009765625,
          9235.919921875,
          9743.8603515625,
          9700.759765625,
          9858.150390625,
          9654.7998046875,
          9373.009765625,
          9234.8203125,
          9325.1796875,
          9043.9404296875,
          8441.490234375,
          8504.8896484375,
          8723.9404296875,
          8716.7900390625,
          8510.3798828125,
          8368.830078125,
          8094.31982421875,
          8250.9697265625,
          8247.1796875,
          8513.25,
          8418.990234375,
          8041.77978515625,
          7557.81982421875,
          7587.33984375,
          7480.14013671875,
          7355.8798828125,
          7368.22021484375,
          7135.990234375,
          7472.58984375,
          7406.52001953125,
          7494.169921875,
          7541.4501953125,
          7643.4501953125,
          7720.25,
          7514.47021484375,
          7633.759765625,
          7653.97998046875,
          7678.240234375,
          7624.919921875,
          7531.97998046875,
          6786.02001953125,
          6906.919921875,
          6582.35986328125,
          6349.89990234375,
          6675.35009765625,
          6456.580078125,
          6550.16015625,
          6499.27001953125,
          6734.81982421875,
          6769.93994140625,
          6776.5498046875,
          6729.740234375,
          6083.68994140625,
          6162.47998046875,
          6173.22998046875,
          6249.18017578125,
          6093.669921875,
          6157.1298828125,
          5903.43994140625,
          6218.2998046875,
          6404,
          6385.81982421875,
          6614.18017578125,
          6529.58984375,
          6597.5498046875,
          6639.14013671875,
          6673.5,
          6856.93017578125,
          6773.8798828125,
          6741.75,
          6329.9501953125,
          6394.7099609375,
          6228.81005859375,
          6238.0498046875,
          6276.1201171875,
          6359.64013671875,
          6741.75,
          7321.0400390625,
          7370.77978515625,
          7466.85986328125,
          7354.1298828125,
          7419.2900390625,
          7418.490234375,
          7711.10986328125,
          8424.26953125,
          8181.39013671875,
          7951.580078125,
          8165.009765625,
          8192.150390625,
          8218.4599609375,
          8180.47998046875,
          7780.43994140625,
          7624.91015625,
          7567.14990234375,
          7434.39013671875,
          7032.85009765625,
          7068.47998046875,
          6951.7998046875,
          6753.1201171875,
          6305.7998046875,
          6568.22998046875,
          6184.7099609375,
          6295.72998046875,
          6322.68994140625,
          6297.56982421875,
          6199.7099609375,
          6308.52001953125,
          6334.72998046875,
          6580.6298828125,
          6423.759765625,
          6506.06982421875,
          6308.52978515625,
          6488.759765625,
          6376.7099609375,
          6534.8798828125,
          6719.9599609375,
          6763.18994140625,
          6707.259765625,
          6884.64013671875,
          7096.27978515625,
          7047.16015625,
          6978.22998046875,
          7037.580078125,
          7193.25,
          7272.72021484375,
          7260.06005859375,
          7361.66015625,
          6792.830078125,
          6529.169921875,
          6467.06982421875,
          6225.97998046875,
          6300.85986328125,
          6329.7001953125,
          6321.2001953125,
          6351.7998046875,
          6517.31005859375,
          6512.7099609375,
          6543.2001953125,
          6517.18017578125,
          6281.2001953125,
          6371.2998046875,
          6398.5400390625,
          6519.669921875,
          6734.9501953125,
          6721.97998046875,
          6710.6298828125,
          6595.41015625,
          6446.47021484375,
          6495,
          6676.75,
          6644.1298828125,
          6601.9599609375,
          6625.56005859375,
          6589.6201171875,
          6556.10009765625,
          6502.58984375,
          6576.68994140625,
          6622.47998046875,
          6588.31005859375,
          6602.9501953125,
          6652.22998046875,
          6642.64013671875,
          6585.52978515625,
          6256.240234375,
          6274.580078125,
          6285.990234375,
          6290.93017578125,
          6596.5400390625,
          6596.10986328125,
          6544.43017578125,
          6476.7099609375,
          6465.41015625,
          6489.18994140625,
          6482.35009765625,
          6487.16015625,
          6475.740234375,
          6495.83984375,
          6476.2900390625,
          6474.75,
          6480.3798828125,
          6486.39013671875,
          6332.6298828125,
          6334.27001953125,
          6317.60986328125,
          6377.77978515625,
          6388.43994140625,
          6361.259765625,
          6376.1298828125,
          6419.66015625,
          6461.009765625,
          6530.14013671875,
          6453.72021484375,
          6385.6201171875,
          6409.22021484375,
          6411.27001953125,
          6371.27001953125,
          6359.490234375,
          5738.35009765625,
          5648.02978515625,
          5575.5498046875,
          5554.330078125,
          5623.5400390625,
          4871.490234375,
          4451.8701171875,
          4602.169921875,
          4365.93994140625,
          4347.10986328125,
          3880.760009765625,
          4009.969970703125,
          3779.1298828125,
          3820.719970703125,
          4257.419921875,
          4278.8466796875,
          4017.2685546875,
          4214.671875,
          4139.8779296875,
          3894.130859375,
          3956.893798828125,
          3753.994873046875,
          3521.101806640625,
          3419.937255859375,
          3476.11474609375,
          3614.234375,
          3502.656005859375,
          3424.588134765625,
          3486.9501953125,
          3313.67724609375,
          3242.48486328125,
          3236.76171875,
          3252.839111328125,
          3545.86474609375,
          3696.05908203125,
          3745.95068359375,
          4134.44140625,
          3896.543701171875,
          4014.1826171875,
          3998.980224609375,
          4078.59912109375,
          3815.49072265625,
          3857.297607421875,
          3654.83349609375,
          3923.918701171875,
          3820.40869140625,
          3865.95263671875,
          3742.700439453125,
          3843.52001953125,
          3943.409423828125,
          3836.7412109375,
          3857.717529296875,
          3845.194580078125,
          4076.632568359375,
          4025.248291015625,
          4030.847900390625,
          4035.29638671875,
          3678.924560546875,
          3687.365478515625,
          3661.301025390625,
          3552.953125,
          3706.05224609375,
          3630.67529296875,
          3655.0068359375,
          3678.56396484375,
          3657.83935546875,
          3728.568359375,
          3601.013671875,
          3576.032470703125,
          3604.5771484375,
          3585.123046875,
          3600.865478515625,
          3599.765869140625,
          3602.46044921875,
          3583.9658203125,
          3470.450439453125,
          3448.116943359375,
          3486.181640625,
          3457.792724609375,
          3487.9453125,
          3521.060791015625,
          3464.013427734375,
          3459.154052734375,
          3466.357421875,
          3413.767822265625,
          3399.4716796875,
          3666.7802734375,
          3671.20361328125,
          3690.188232421875,
          3648.4306640625,
          3653.528564453125,
          3632.070556640625,
          3616.880859375,
          3620.810791015625,
          3629.78759765625,
          3673.836181640625,
          3915.71435546875,
          3947.094482421875,
          3999.820556640625,
          3954.1181640625,
          4005.526611328125,
          4142.52685546875,
          3810.427490234375,
          3882.6962890625,
          3854.35791015625,
          3851.04736328125,
          3854.785400390625,
          3859.583740234375,
          3864.4150390625,
          3847.17578125,
          3761.55712890625,
          3896.375,
          3903.942626953125,
          3911.484375,
          3901.131591796875,
          3963.313720703125,
          3951.599853515625,
          3905.227294921875,
          3909.15625,
          3906.71728515625,
          3924.369140625,
          3960.9111328125,
          4048.725830078125,
          4025.22900390625,
          4032.50732421875,
          4071.190185546875,
          4087.476318359375,
          4029.326904296875,
          4023.96826171875,
          4035.826416015625,
          4022.168212890625,
          3963.070556640625,
          3985.080810546875,
          4087.066162109375,
          4069.107177734375,
          4098.37451171875,
          4106.66015625,
          4105.404296875,
          4158.18310546875,
          4879.8779296875,
          4973.02197265625,
          4922.798828125,
          5036.68115234375,
          5059.8173828125,
          5198.89697265625,
          5289.77099609375,
          5204.95849609375,
          5324.5517578125,
          5064.48779296875,
          5089.5390625,
          5096.58642578125,
          5167.72216796875,
          5067.1083984375,
          5235.5595703125,
          5251.93798828125,
          5298.3857421875,
          5303.8125,
          5337.88623046875,
          5314.53125,
          5399.365234375,
          5572.3623046875,
          5464.86669921875,
          5210.515625,
          5279.34814453125,
          5268.291015625,
          5285.13916015625,
          5247.3525390625,
          5350.7265625,
          5402.697265625,
          5505.28369140625,
          5768.28955078125,
          5831.16748046875,
          5795.70849609375,
          5746.80712890625,
          5829.50146484375,
          5982.45751953125,
          6174.52880859375,
          6378.84912109375,
          7204.771484375,
          6972.37158203125,
          7814.9150390625,
          7994.416015625,
          8205.16796875,
          7884.9091796875,
          7343.8955078125,
          7271.2080078125,
          8197.689453125,
          7978.30908203125,
          7963.32763671875,
          7680.06640625,
          7881.8466796875,
          7987.37158203125,
          8052.5439453125,
          8673.2158203125,
          8805.7783203125,
          8719.9619140625,
          8659.4873046875,
          8319.47265625,
          8574.501953125,
          8564.0166015625,
          8742.9580078125,
          8208.9951171875,
          7707.77099609375,
          7824.2314453125,
          7822.0234375,
          8043.951171875,
          7954.1279296875,
          7688.0771484375,
          8000.32958984375,
          7927.71435546875,
          8145.857421875,
          8230.923828125,
          8693.8330078125,
          8838.375,
          8994.48828125,
          9320.3525390625,
          9081.7626953125,
          9273.521484375,
          9527.16015625,
          10144.556640625,
          10701.69140625,
          10855.37109375,
          11011.1025390625,
          11790.9169921875,
          13016.2314453125,
          11182.806640625,
          12407.33203125,
          11959.37109375,
          10817.1552734375,
          10583.134765625,
          10801.677734375,
          11961.26953125,
          11215.4375,
          10978.4599609375,
          11208.55078125,
          11450.8466796875,
          12285.9580078125,
          12573.8125,
          12156.5126953125,
          11358.662109375,
          11815.986328125,
          11392.37890625,
          10256.05859375,
          10895.08984375,
          9477.6416015625,
          9693.802734375,
          10666.482421875,
          10530.732421875,
          10767.1396484375,
          10599.10546875,
          10343.1064453125,
          9900.767578125,
          9811.92578125,
          9911.841796875,
          9870.3037109375,
          9477.677734375,
          9552.8603515625,
          9519.1455078125,
          9607.423828125,
          10085.6279296875,
          10399.6689453125,
          10518.1748046875,
          10821.7265625,
          10970.1845703125,
          11805.6533203125,
          11478.1689453125,
          11941.96875,
          11966.4072265625,
          11862.9365234375,
          11354.0244140625,
          11523.5791015625,
          11382.6162109375,
          10895.830078125,
          10051.7041015625,
          10311.5458984375,
          10374.3388671875,
          10231.744140625,
          10345.810546875,
          10916.0537109375,
          10763.232421875,
          10138.0498046875,
          10131.0556640625,
          10407.96484375,
          10159.9609375,
          10138.517578125,
          10370.8203125,
          10185.5,
          9754.4228515625,
          9510.2001953125,
          9598.173828125,
          9630.6640625,
          9757.970703125,
          10346.7607421875,
          10623.5400390625,
          10594.4931640625,
          10575.533203125,
          10353.302734375,
          10517.2548828125,
          10441.2763671875,
          10334.974609375,
          10115.9755859375,
          10178.3720703125,
          10410.126953125,
          10360.546875,
          10358.048828125,
          10347.712890625,
          10276.7939453125,
          10241.2724609375,
          10198.248046875,
          10266.4150390625,
          10181.6416015625,
          10019.716796875,
          10070.392578125,
          9729.32421875,
          8620.56640625,
          8486.9931640625,
          8118.9677734375,
          8251.845703125,
          8245.9150390625,
          8104.185546875,
          8293.8681640625,
          8343.2763671875,
          8393.0419921875,
          8259.9921875,
          8205.939453125,
          8151.50048828125,
          7988.15576171875,
          8245.623046875,
          8228.783203125,
          8595.740234375,
          8586.4736328125,
          8321.7568359375,
          8336.5556640625,
          8321.005859375,
          8374.6865234375,
          8205.369140625,
          8047.52685546875,
          8103.9111328125,
          7973.20751953125,
          7988.560546875,
          8222.078125,
          8243.720703125,
          8078.203125,
          7514.671875,
          7493.48876953125,
          8660.7001953125,
          9244.97265625,
          9551.71484375,
          9256.1484375,
          9427.6875,
          9205.7265625,
          9199.5849609375,
          9261.1044921875,
          9324.7177734375,
          9235.3544921875,
          9412.6123046875,
          9342.52734375,
          9360.8798828125,
          9267.5615234375,
          8804.880859375,
          8813.58203125,
          9055.5263671875,
          8757.7880859375,
          8815.662109375,
          8808.2626953125,
          8708.0947265625,
          8491.9921875,
          8550.7607421875,
          8577.9755859375,
          8309.2861328125,
          8206.1455078125,
          8027.26806640625,
          7642.75,
          7296.57763671875,
          7397.796875,
          7047.9169921875,
          7146.1337890625,
          7218.37109375,
          7531.66357421875,
          7463.10595703125,
          7761.24365234375,
          7569.6298828125,
          7424.29248046875,
          7321.98828125,
          7320.1455078125,
          7252.03466796875,
          7448.3076171875,
          7546.99658203125,
          7556.23779296875,
          7564.34521484375,
          7400.8994140625,
          7278.11962890625,
          7217.42724609375,
          7243.13427734375,
          7269.6845703125,
          7124.673828125,
          7152.3017578125,
          6932.48046875,
          6640.51513671875,
          7276.802734375,
          7202.84423828125,
          7218.81640625,
          7191.15869140625,
          7511.5888671875,
          7355.62841796875,
          7322.5322265625,
          7275.15576171875,
          7238.966796875,
          7290.08837890625,
          7317.990234375,
          7422.65283203125,
          7292.9951171875,
          7193.59912109375,
          7200.17431640625,
          6985.47021484375,
          7344.88427734375,
          7410.65673828125,
          7411.3173828125,
          7769.21923828125,
          8163.6923828125,
          8079.86279296875,
          7879.0712890625,
          8166.55419921875,
          8037.53759765625,
          8192.494140625,
          8144.1943359375,
          8827.7646484375,
          8807.0107421875,
          8723.7861328125,
          8929.0380859375,
          8942.80859375,
          8706.2451171875,
          8657.642578125,
          8745.89453125,
          8680.8759765625,
          8406.515625,
          8445.4345703125,
          8367.84765625,
          8596.830078125,
          8909.8193359375,
          9358.58984375,
          9316.6298828125,
          9508.9931640625,
          9350.529296875,
          9392.875,
          9344.365234375,
          9293.521484375,
          9180.962890625,
          9613.423828125,
          9729.8017578125,
          9795.943359375,
          9865.119140625,
          10116.673828125,
          9856.611328125,
          10208.236328125,
          10326.0546875,
          10214.3798828125,
          10312.1162109375,
          9889.4248046875,
          9934.43359375,
          9690.142578125,
          10141.99609375,
          9633.38671875,
          9608.4755859375,
          9686.44140625,
          9663.181640625,
          9924.515625,
          9650.1748046875,
          9341.705078125,
          8820.5224609375,
          8784.494140625,
          8672.455078125,
          8599.5087890625,
          8562.4541015625,
          8869.669921875,
          8787.7861328125,
          8755.24609375,
          9078.7626953125,
          9122.5458984375,
          8909.9541015625,
          8108.1162109375,
          7923.64453125,
          7909.7294921875,
          7911.43017578125,
          4970.7880859375,
          5563.70703125,
          5200.3662109375,
          5392.31494140625,
          5014.47998046875,
          5225.62939453125,
          5238.4384765625,
          6191.19287109375,
          6198.7783203125,
          6185.06640625,
          5830.2548828125,
          6416.31494140625,
          6734.8037109375,
          6681.06298828125,
          6716.4404296875,
          6469.79833984375,
          6242.19384765625,
          5922.04296875,
          6429.841796875,
          6438.64453125,
          6606.7763671875,
          6793.62451171875,
          6733.38720703125,
          6867.52734375,
          6791.12939453125,
          7271.78125,
          7176.41455078125,
          7334.0986328125,
          7302.08935546875,
          6865.4931640625,
          6859.0830078125,
          6971.091796875,
          6845.03759765625,
          6842.427734375,
          6642.10986328125,
          7116.80419921875,
          7096.1845703125,
          7257.6650390625,
          7189.4248046875,
          6881.95849609375,
          6880.3232421875,
          7117.20751953125,
          7429.724609375,
          7550.90087890625,
          7569.93603515625,
          7679.8671875,
          7795.60107421875,
          7807.05859375,
          8801.0380859375,
          8658.5537109375,
          8864.7666015625,
          8988.5966796875,
          8897.46875,
          8912.654296875,
          9003.0703125,
          9268.76171875,
          9951.5185546875,
          9842.666015625,
          9593.896484375,
          8756.4306640625,
          8601.7958984375,
          8804.4775390625,
          9269.9873046875,
          9733.7216796875,
          9328.197265625,
          9377.013671875,
          9670.7392578125,
          9726.5751953125,
          9729.0380859375,
          9522.9814453125,
          9081.76171875,
          9182.5771484375,
          9209.287109375,
          8790.3681640625,
          8906.9345703125,
          8835.052734375,
          9181.017578125,
          9525.7509765625,
          9439.1240234375,
          9700.4140625,
          9461.05859375,
          10167.2685546875,
          9529.8037109375,
          9656.7177734375,
          9800.63671875,
          9665.533203125,
          9653.6796875,
          9758.8525390625,
          9771.4892578125,
          9795.7001953125,
          9870.0947265625,
          9321.78125,
          9480.84375,
          9475.27734375,
          9386.7880859375,
          9450.7021484375,
          9538.0244140625,
          9480.2548828125,
          9411.8408203125,
          9288.0185546875,
          9332.3408203125,
          9303.6298828125,
          9648.7177734375,
          9629.658203125,
          9313.6103515625,
          9264.8134765625,
          9162.91796875,
          9045.390625,
          9143.58203125,
          9190.8544921875,
          9137.9931640625,
          9228.3251953125,
          9123.41015625,
          9087.3037109375,
          9132.48828125,
          9073.9423828125,
          9375.474609375,
          9252.27734375,
          9428.3330078125,
          9277.9677734375,
          9278.8076171875,
          9240.3466796875,
          9276.5,
          9243.6142578125,
          9243.2138671875,
          9192.8369140625,
          9132.2275390625,
          9151.392578125,
          9159.0400390625,
          9185.8173828125,
          9164.2314453125,
          9374.8876953125,
          9525.36328125,
          9581.072265625,
          9536.892578125,
          9677.11328125,
          9905.1669921875,
          10990.873046875,
          10912.8232421875,
          11100.4677734375,
          11111.2138671875,
          11323.466796875,
          11759.5927734375,
          11053.6142578125,
          11246.3486328125,
          11205.892578125,
          11747.0224609375,
          11779.7734375,
          11601.47265625,
          11754.0458984375,
          11675.7392578125,
          11878.111328125,
          11410.525390625,
          11584.9345703125,
          11784.1376953125,
          11768.87109375,
          11865.6982421875,
          11892.8037109375,
          12254.40234375,
          11991.2333984375,
          11758.283203125,
          11878.3720703125,
          11592.4892578125,
          11681.8251953125,
          11664.84765625,
          11774.595703125,
          11366.134765625,
          11488.36328125,
          11323.3974609375,
          11542.5,
          11506.865234375,
          11711.505859375,
          11680.8203125,
          11970.478515625,
          11414.0341796875,
          10245.296875,
          10511.8134765625,
          10169.5673828125,
          10280.3515625,
          10369.5634765625,
          10131.5166015625,
          10242.34765625,
          10363.138671875,
          10400.9150390625,
          10442.1708984375,
          10323.755859375,
          10680.837890625,
          10796.951171875,
          10974.9052734375,
          10948.990234375,
          10944.5859375,
          11094.3466796875,
          10938.271484375,
          10462.259765625,
          10538.4599609375,
          10246.1865234375,
          10760.06640625,
          10692.716796875,
          10750.7236328125,
          10775.26953125,
          10709.65234375,
          10844.640625,
          10784.4912109375,
          10619.4521484375,
          10575.974609375,
          10549.3291015625,
          10669.5830078125,
          10793.33984375,
          10604.40625,
          10668.96875,
          10915.685546875,
          11064.4580078125,
          11296.361328125,
          11384.181640625,
          11555.36328125,
          11425.8994140625,
          11429.5068359375,
          11495.349609375,
          11322.123046875,
          11358.1015625,
          11483.359375,
          11742.037109375,
          11916.3349609375,
          12823.689453125,
          12965.8916015625,
          12931.5390625,
          13108.0625,
          13031.173828125,
          13075.248046875,
          13654.21875,
          13271.28515625,
          13437.8828125,
          13546.5224609375,
          13780.9951171875,
          13737.109375,
          13550.4892578125,
          13950.30078125,
          14133.70703125,
          15579.8486328125,
          15565.880859375,
          14833.75390625,
          15479.5673828125,
          15332.3154296875,
          15290.90234375,
          15701.33984375,
          16276.34375,
          16317.80859375,
          16068.138671875,
          15955.587890625,
          16716.111328125,
          17645.40625,
          17804.005859375,
          17817.08984375,
          18621.314453125,
          18642.232421875,
          18370.001953125,
          18364.12109375,
          19107.46484375,
          18732.12109375,
          17150.623046875,
          17108.40234375,
          17717.4140625,
          18177.484375,
          19625.8359375,
          18802.998046875,
          19201.091796875,
          19445.3984375,
          18699.765625,
          19154.23046875,
          19345.12109375,
          19191.630859375,
          18321.14453125,
          18553.916015625,
          18264.9921875,
          18058.904296875,
          18803.65625,
          19142.3828125,
          19246.64453125,
          19417.076171875,
          21310.59765625,
          22805.162109375,
          23137.9609375,
          23869.83203125,
          23477.294921875,
          22803.08203125,
          23783.029296875,
          23241.345703125,
          23735.94921875,
          24664.791015625,
          26437.037109375,
          26272.294921875,
          27084.80859375,
          27362.4375,
          28840.953125,
          29001.720703125,
          29374.15234375,
          32127.267578125,
          32782.0234375,
          31971.9140625,
          33992.4296875,
          36824.36328125,
          39371.04296875,
          40797.609375,
          40254.546875,
          38356.44140625,
          35566.65625,
          33922.9609375,
          37316.359375,
          39187.328125,
          36825.3671875,
          36178.140625,
          35791.27734375,
          36630.07421875,
          36069.8046875,
          35547.75,
          30825.69921875,
          33005.76171875,
          32067.642578125,
          32289.37890625,
          32366.392578125,
          32569.849609375,
          30432.546875,
          33466.09765625,
          34316.38671875,
          34269.5234375,
          33114.359375,
          33537.17578125,
          35510.2890625,
          37472.08984375,
          36926.06640625,
          38144.30859375,
          39266.01171875,
          38903.44140625,
          46196.46484375,
          46481.10546875,
          44918.18359375,
          47909.33203125,
          47504.8515625,
          47105.515625,
          48717.2890625,
          47945.05859375,
          49199.87109375,
          52149.0078125,
          51679.796875,
          55888.1328125,
          56099.51953125,
          57539.9453125,
          54207.3203125,
          48824.42578125,
          49705.33203125,
          47093.8515625,
          46339.76171875,
          46188.453125,
          45137.76953125,
          49631.2421875,
          48378.98828125,
          50538.2421875,
          48561.16796875,
          48927.3046875,
          48912.3828125,
          51206.69140625,
          52246.5234375,
          54824.1171875,
          56008.55078125,
          57805.12109375,
          57332.08984375,
          61243.0859375,
          59302.31640625,
          55907.19921875,
          56804.90234375,
          58870.89453125,
          57858.921875,
          58346.65234375,
          58313.64453125,
          57523.421875,
          54529.14453125,
          54738.9453125,
          52774.265625,
          51704.16015625,
          55137.3125,
          55973.51171875,
          55950.74609375,
          57750.19921875,
          58917.69140625,
          58918.83203125,
          59095.80859375,
          59384.3125,
          57603.890625,
          58758.5546875,
          59057.87890625,
          58192.359375,
          56048.9375,
          58323.953125,
          58245.00390625,
          59793.234375,
          60204.96484375,
          59893.453125,
          63503.45703125,
          63109.6953125,
          63314.01171875,
          61572.7890625,
          60683.8203125,
          56216.18359375,
          55724.265625,
          56473.03125,
          53906.08984375,
          51762.2734375,
          51093.65234375,
          50050.8671875,
          49004.25390625,
          54021.75390625,
          55033.1171875,
          54824.703125,
          53555.109375,
          57750.17578125,
          57828.05078125,
          56631.078125,
          57200.29296875,
          53333.5390625,
          57424.0078125,
          56396.515625,
          57356.40234375,
          58803.77734375,
          58232.31640625,
          55859.796875,
          56704.57421875,
          49150.53515625,
          49716.19140625,
          49880.53515625,
          46760.1875,
          46456.05859375,
          43537.51171875,
          42909.40234375,
          37002.44140625,
          40782.73828125,
          37304.69140625,
          37536.6328125,
          34770.58203125,
          38705.98046875,
          38402.22265625,
          39294.19921875,
          38436.96875,
          35697.60546875,
          34616.06640625,
          35678.12890625,
          37332.85546875,
          36684.92578125,
          37575.1796875,
          39208.765625,
          36894.40625,
          35551.95703125,
          35862.37890625,
          33560.70703125,
          33472.6328125,
          37345.12109375,
          36702.59765625,
          37334.3984375,
          35552.515625,
          39097.859375,
          40218.4765625,
          40406.26953125,
          38347.0625,
          38053.50390625,
          35787.24609375,
          35615.87109375,
          35698.296875,
          31676.693359375,
          32505.66015625,
          33723.02734375,
          34662.4375,
          31637.779296875,
          32186.27734375,
          34649.64453125,
          34434.3359375,
          35867.77734375,
          35040.8359375,
          33572.1171875,
          33897.046875,
          34668.546875,
          35287.78125,
          33746.00390625,
          34235.1953125,
          33855.328125,
          32877.37109375,
          33798.01171875,
          33520.51953125,
          34240.1875,
          33155.84765625,
          32702.025390625,
          32822.34765625,
          31780.73046875,
          31421.5390625,
          31533.068359375,
          31796.810546875,
          30817.83203125,
          29807.34765625,
          32110.693359375,
          32313.10546875,
          33581.55078125,
          34292.4453125,
          35350.1875,
          37337.53515625,
          39406.94140625,
          39995.90625,
          40008.421875,
          42235.546875,
          41626.1953125,
          39974.89453125,
          39201.9453125,
          38152.98046875,
          39747.50390625,
          40869.5546875,
          42816.5,
          44555.80078125,
          43798.1171875,
          46365.40234375,
          45585.03125,
          45593.63671875,
          44428.2890625,
          47793.3203125,
          47096.9453125,
          47047.00390625,
          46004.484375,
          44695.359375,
          44801.1875,
          46717.578125,
          49339.17578125,
          48905.4921875,
          49321.65234375,
          49546.1484375,
          47706.1171875,
          48960.7890625,
          46942.21875,
          49058.66796875,
          48902.40234375,
          48829.83203125,
          47054.984375,
          47166.6875,
          48847.02734375,
          49327.72265625,
          50025.375,
          49944.625,
          51753.41015625,
          52633.53515625,
          46811.12890625,
          46091.390625,
          46391.421875,
          44883.91015625,
          45201.45703125,
          46063.26953125,
          44963.07421875,
          47092.4921875,
          48176.34765625,
          47783.359375,
          47267.51953125,
          48278.36328125,
          47260.21875,
          42843.80078125,
          40693.67578125,
          43574.5078125,
          44895.09765625,
          42839.75,
          42716.59375,
          43208.5390625,
          42235.73046875,
          41034.54296875,
          41564.36328125,
          43790.89453125,
          48116.94140625,
          47711.48828125,
          48199.953125,
          49112.90234375,
          51514.8125,
          55361.44921875,
          53805.984375,
          53967.84765625,
          54968.22265625,
          54771.578125,
          57484.7890625,
          56041.05859375,
          57401.09765625,
          57321.5234375,
          61593.94921875,
          60892.1796875,
          61553.6171875,
          62026.078125,
          64261.9921875,
          65992.8359375,
          62210.171875,
          60692.265625,
          61393.6171875,
          60930.8359375,
          63039.82421875,
          60363.79296875,
          58482.38671875,
          60622.13671875,
          62227.96484375,
          61888.83203125,
          61318.95703125,
          61004.40625,
          63226.40234375,
          62970.046875,
          61452.23046875,
          61125.67578125,
          61527.48046875,
          63326.98828125,
          67566.828125,
          66971.828125,
          64995.23046875,
          64949.9609375,
          64155.94140625,
          64469.52734375,
          65466.83984375,
          63557.87109375,
          60161.24609375,
          60368.01171875,
          56942.13671875,
          58119.578125,
          59697.1953125,
          58730.4765625,
          56289.2890625,
          57569.07421875,
          56280.42578125,
          57274.6796875,
          53569.765625,
          54815.078125,
          57248.45703125,
          57806.56640625,
          57005.42578125,
          57229.828125,
          56477.81640625,
          53598.24609375,
          49200.703125,
          49368.84765625,
          50582.625,
          50700.0859375,
          50504.796875,
          47672.12109375,
          47243.3046875,
          49362.5078125,
          50098.3359375,
          46737.48046875,
          46612.6328125,
          48896.72265625,
          47665.42578125,
          46202.14453125,
          46848.77734375,
          46707.015625,
          46880.27734375,
          48936.61328125,
          48628.51171875,
          50784.5390625,
          50822.1953125,
          50429.859375,
          50809.515625,
          50640.41796875,
          47588.85546875,
          46444.7109375,
          47178.125,
          46306.4453125,
          47686.8125,
          47345.21875,
          46458.1171875,
          45897.57421875,
          43569.00390625,
          43160.9296875,
          41557.90234375,
          41733.94140625,
          41911.6015625,
          41821.26171875,
          42735.85546875,
          43949.1015625,
          42591.5703125,
          43099.69921875,
          43177.3984375,
          43113.87890625,
          42250.55078125,
          42375.6328125,
          41744.328125,
          40680.41796875,
          36457.31640625,
          35030.25,
          36276.8046875,
          36654.328125,
          36954.00390625,
          36852.12109375,
          37138.234375,
          37784.33203125,
          38138.1796875,
          37917.6015625,
          38483.125,
          38743.2734375,
          36952.984375,
          37154.6015625,
          41500.875,
          41441.1640625,
          42412.43359375,
          43840.28515625,
          44118.4453125,
          44338.796875,
          43565.11328125,
          42407.9375,
          42244.46875,
          42197.515625,
          42586.91796875,
          44575.203125,
          43961.859375,
          40538.01171875,
          40030.9765625,
          40122.15625,
          38431.37890625,
          37075.28125,
          38286.02734375,
          37296.5703125,
          38332.609375,
          39214.21875,
          39105.1484375,
          37709.78515625,
          43193.234375,
          44354.63671875,
          43924.1171875,
          42451.7890625,
          39137.60546875,
          39400.5859375,
          38419.984375,
          38062.0390625,
          38737.26953125,
          41982.92578125,
          39437.4609375,
          38794.97265625,
          38904.01171875,
          37849.6640625,
          39666.75390625,
          39338.78515625,
          41143.9296875,
          40951.37890625,
          41801.15625,
          42190.65234375,
          41247.82421875,
          41077.99609375,
          42358.80859375,
          42892.95703125,
          43960.93359375,
          44348.73046875,
          44500.828125,
          46820.4921875,
          47128.00390625,
          47465.73046875,
          47062.6640625,
          45538.67578125,
          46281.64453125,
          45868.94921875,
          46453.56640625,
          46622.67578125,
          45555.9921875,
          43206.73828125,
          43503.84765625,
          42287.6640625,
          42782.13671875,
          42207.671875,
          39521.90234375,
          40127.18359375,
          41166.73046875,
          39935.515625,
          40553.46484375,
          40424.484375,
          39716.953125,
          40826.21484375,
          41502.75,
          41374.37890625,
          40527.36328125,
          39740.3203125,
          39486.73046875,
          39469.29296875,
          40458.30859375,
          38117.4609375,
          39241.12109375,
          39773.828125,
          38609.82421875,
          37714.875,
          38469.09375,
          38529.328125,
          37750.453125,
          39698.37109375,
          36575.140625,
          36040.921875,
          35501.953125,
          34059.265625,
          30296.953125,
          31022.90625,
          28936.35546875,
          29047.751953125,
          29283.103515625,
          30101.265625,
          31305.11328125,
          29862.91796875,
          30425.857421875,
          28720.271484375,
          30314.333984375,
          29200.740234375,
          29432.2265625,
          30323.72265625,
          29098.91015625,
          29655.5859375,
          29562.361328125,
          29267.224609375,
          28627.57421875,
          28814.900390625,
          29445.95703125,
          31726.390625,
          31792.310546875,
          29799.080078125,
          30467.48828125,
          29704.390625,
          29832.9140625,
          29906.662109375,
          31370.671875,
          31155.478515625,
          30214.35546875,
          30111.998046875,
          29083.8046875,
          28360.810546875,
          26762.6484375,
          22487.388671875,
          22206.79296875,
          22572.83984375,
          20381.650390625,
          20471.482421875,
          19017.642578125,
          20553.271484375,
          20599.537109375,
          20710.59765625,
          19987.029296875,
          21085.876953125,
          21231.65625,
          21502.337890625,
          21027.294921875,
          20735.478515625,
          20280.634765625,
          20104.0234375,
          19784.7265625,
          19269.3671875,
          19242.255859375,
          19297.076171875,
          20231.26171875,
          20190.115234375,
          20548.24609375,
          21637.587890625,
          21731.1171875,
          21592.20703125,
          20860.44921875,
          19970.556640625,
          19323.9140625,
          20212.07421875,
          20569.919921875,
          20836.328125,
          21190.31640625,
          20779.34375,
          22485.689453125,
          23389.43359375,
          23231.732421875,
          23164.62890625,
          22714.978515625,
          22465.478515625,
          22609.1640625,
          21361.701171875,
          21239.75390625,
          22930.548828125,
          23843.88671875,
          23804.6328125,
          23656.20703125,
          23336.896484375,
          23314.19921875,
          22978.1171875,
          22846.5078125,
          22630.95703125,
          23289.314453125,
          22961.279296875,
          23175.890625,
          23809.486328125,
          23164.318359375,
          23947.642578125,
          23957.529296875,
          24402.818359375,
          24424.068359375,
          24319.333984375,
          24136.97265625,
          23883.291015625,
          23335.998046875,
          23212.73828125,
          20877.552734375,
          21166.060546875,
          21534.12109375,
          21398.908203125,
          21528.087890625,
          21395.01953125,
          21600.904296875,
          20260.01953125,
          20041.73828125,
          19616.814453125,
          20297.994140625,
          19796.80859375,
          20049.763671875,
          20127.140625,
          19969.771484375,
          19832.087890625,
          19986.712890625,
          19812.37109375,
          18837.66796875,
          19290.32421875,
          19329.833984375,
          21381.15234375,
          21680.5390625,
          21769.255859375,
          22370.44921875,
          20296.70703125,
          20241.08984375,
          19701.2109375,
          19772.583984375,
          20127.576171875,
          19419.505859375,
          19544.12890625,
          18890.7890625,
          18547.400390625,
          19413.55078125,
          19297.638671875,
          18937.01171875,
          18802.09765625,
          19222.671875,
          19110.546875,
          19426.720703125,
          19573.05078125,
          19431.7890625,
          19312.095703125,
          19044.107421875,
          19623.580078125,
          20336.84375,
          20160.716796875,
          19955.443359375,
          19546.849609375,
          19416.568359375,
          19446.42578125,
          19141.484375,
          19051.41796875,
          19157.4453125,
          19382.904296875,
          19185.65625,
          19067.634765625,
          19268.09375,
          19550.7578125,
          19334.416015625,
          19139.53515625,
          19053.740234375,
          19172.46875,
          19208.189453125,
          19567.0078125,
          19345.572265625,
          20095.857421875,
          20770.44140625,
          20285.8359375,
          20595.3515625,
          20818.4765625,
          20635.603515625,
          20495.7734375,
          20485.2734375,
          20159.50390625,
          20209.98828125,
          21147.23046875,
          21282.69140625,
          20926.486328125,
          20602.81640625,
          18541.271484375,
          15880.7802734375,
          17586.771484375,
          17034.29296875,
          16799.185546875,
          16353.365234375,
          16618.19921875,
          16884.61328125,
          16669.439453125,
          16687.517578125,
          16697.77734375,
          16711.546875,
          16291.83203125,
          15787.2841796875,
          16189.76953125,
          16610.70703125,
          16604.46484375,
          16521.841796875,
          16464.28125,
          16444.626953125,
          16217.322265625,
          16444.982421875,
          17168.56640625,
          16967.1328125,
          17088.66015625,
          16908.236328125,
          17130.486328125,
          16974.826171875,
          17089.50390625,
          16848.126953125,
          17233.474609375,
          17133.15234375,
          17128.724609375,
          17104.193359375,
          17206.4375,
          17781.318359375,
          17815.650390625,
          17364.865234375,
          16647.484375,
          16795.091796875,
          16757.9765625,
          16439.6796875,
          16906.3046875,
          16817.53515625,
          16830.341796875,
          16796.953125,
          16847.755859375,
          16841.986328125,
          16919.8046875,
          16717.173828125,
          16552.572265625
         ],
         "yaxis": "y"
        }
       ],
       "layout": {
        "font": {
         "color": "black",
         "size": 15
        },
        "legend": {
         "tracegroupgap": 0
        },
        "margin": {
         "t": 60
        },
        "plot_bgcolor": "white",
        "template": {
         "data": {
          "bar": [
           {
            "error_x": {
             "color": "#2a3f5f"
            },
            "error_y": {
             "color": "#2a3f5f"
            },
            "marker": {
             "line": {
              "color": "#E5ECF6",
              "width": 0.5
             },
             "pattern": {
              "fillmode": "overlay",
              "size": 10,
              "solidity": 0.2
             }
            },
            "type": "bar"
           }
          ],
          "barpolar": [
           {
            "marker": {
             "line": {
              "color": "#E5ECF6",
              "width": 0.5
             },
             "pattern": {
              "fillmode": "overlay",
              "size": 10,
              "solidity": 0.2
             }
            },
            "type": "barpolar"
           }
          ],
          "carpet": [
           {
            "aaxis": {
             "endlinecolor": "#2a3f5f",
             "gridcolor": "white",
             "linecolor": "white",
             "minorgridcolor": "white",
             "startlinecolor": "#2a3f5f"
            },
            "baxis": {
             "endlinecolor": "#2a3f5f",
             "gridcolor": "white",
             "linecolor": "white",
             "minorgridcolor": "white",
             "startlinecolor": "#2a3f5f"
            },
            "type": "carpet"
           }
          ],
          "choropleth": [
           {
            "colorbar": {
             "outlinewidth": 0,
             "ticks": ""
            },
            "type": "choropleth"
           }
          ],
          "contour": [
           {
            "colorbar": {
             "outlinewidth": 0,
             "ticks": ""
            },
            "colorscale": [
             [
              0,
              "#0d0887"
             ],
             [
              0.1111111111111111,
              "#46039f"
             ],
             [
              0.2222222222222222,
              "#7201a8"
             ],
             [
              0.3333333333333333,
              "#9c179e"
             ],
             [
              0.4444444444444444,
              "#bd3786"
             ],
             [
              0.5555555555555556,
              "#d8576b"
             ],
             [
              0.6666666666666666,
              "#ed7953"
             ],
             [
              0.7777777777777778,
              "#fb9f3a"
             ],
             [
              0.8888888888888888,
              "#fdca26"
             ],
             [
              1,
              "#f0f921"
             ]
            ],
            "type": "contour"
           }
          ],
          "contourcarpet": [
           {
            "colorbar": {
             "outlinewidth": 0,
             "ticks": ""
            },
            "type": "contourcarpet"
           }
          ],
          "heatmap": [
           {
            "colorbar": {
             "outlinewidth": 0,
             "ticks": ""
            },
            "colorscale": [
             [
              0,
              "#0d0887"
             ],
             [
              0.1111111111111111,
              "#46039f"
             ],
             [
              0.2222222222222222,
              "#7201a8"
             ],
             [
              0.3333333333333333,
              "#9c179e"
             ],
             [
              0.4444444444444444,
              "#bd3786"
             ],
             [
              0.5555555555555556,
              "#d8576b"
             ],
             [
              0.6666666666666666,
              "#ed7953"
             ],
             [
              0.7777777777777778,
              "#fb9f3a"
             ],
             [
              0.8888888888888888,
              "#fdca26"
             ],
             [
              1,
              "#f0f921"
             ]
            ],
            "type": "heatmap"
           }
          ],
          "heatmapgl": [
           {
            "colorbar": {
             "outlinewidth": 0,
             "ticks": ""
            },
            "colorscale": [
             [
              0,
              "#0d0887"
             ],
             [
              0.1111111111111111,
              "#46039f"
             ],
             [
              0.2222222222222222,
              "#7201a8"
             ],
             [
              0.3333333333333333,
              "#9c179e"
             ],
             [
              0.4444444444444444,
              "#bd3786"
             ],
             [
              0.5555555555555556,
              "#d8576b"
             ],
             [
              0.6666666666666666,
              "#ed7953"
             ],
             [
              0.7777777777777778,
              "#fb9f3a"
             ],
             [
              0.8888888888888888,
              "#fdca26"
             ],
             [
              1,
              "#f0f921"
             ]
            ],
            "type": "heatmapgl"
           }
          ],
          "histogram": [
           {
            "marker": {
             "pattern": {
              "fillmode": "overlay",
              "size": 10,
              "solidity": 0.2
             }
            },
            "type": "histogram"
           }
          ],
          "histogram2d": [
           {
            "colorbar": {
             "outlinewidth": 0,
             "ticks": ""
            },
            "colorscale": [
             [
              0,
              "#0d0887"
             ],
             [
              0.1111111111111111,
              "#46039f"
             ],
             [
              0.2222222222222222,
              "#7201a8"
             ],
             [
              0.3333333333333333,
              "#9c179e"
             ],
             [
              0.4444444444444444,
              "#bd3786"
             ],
             [
              0.5555555555555556,
              "#d8576b"
             ],
             [
              0.6666666666666666,
              "#ed7953"
             ],
             [
              0.7777777777777778,
              "#fb9f3a"
             ],
             [
              0.8888888888888888,
              "#fdca26"
             ],
             [
              1,
              "#f0f921"
             ]
            ],
            "type": "histogram2d"
           }
          ],
          "histogram2dcontour": [
           {
            "colorbar": {
             "outlinewidth": 0,
             "ticks": ""
            },
            "colorscale": [
             [
              0,
              "#0d0887"
             ],
             [
              0.1111111111111111,
              "#46039f"
             ],
             [
              0.2222222222222222,
              "#7201a8"
             ],
             [
              0.3333333333333333,
              "#9c179e"
             ],
             [
              0.4444444444444444,
              "#bd3786"
             ],
             [
              0.5555555555555556,
              "#d8576b"
             ],
             [
              0.6666666666666666,
              "#ed7953"
             ],
             [
              0.7777777777777778,
              "#fb9f3a"
             ],
             [
              0.8888888888888888,
              "#fdca26"
             ],
             [
              1,
              "#f0f921"
             ]
            ],
            "type": "histogram2dcontour"
           }
          ],
          "mesh3d": [
           {
            "colorbar": {
             "outlinewidth": 0,
             "ticks": ""
            },
            "type": "mesh3d"
           }
          ],
          "parcoords": [
           {
            "line": {
             "colorbar": {
              "outlinewidth": 0,
              "ticks": ""
             }
            },
            "type": "parcoords"
           }
          ],
          "pie": [
           {
            "automargin": true,
            "type": "pie"
           }
          ],
          "scatter": [
           {
            "fillpattern": {
             "fillmode": "overlay",
             "size": 10,
             "solidity": 0.2
            },
            "type": "scatter"
           }
          ],
          "scatter3d": [
           {
            "line": {
             "colorbar": {
              "outlinewidth": 0,
              "ticks": ""
             }
            },
            "marker": {
             "colorbar": {
              "outlinewidth": 0,
              "ticks": ""
             }
            },
            "type": "scatter3d"
           }
          ],
          "scattercarpet": [
           {
            "marker": {
             "colorbar": {
              "outlinewidth": 0,
              "ticks": ""
             }
            },
            "type": "scattercarpet"
           }
          ],
          "scattergeo": [
           {
            "marker": {
             "colorbar": {
              "outlinewidth": 0,
              "ticks": ""
             }
            },
            "type": "scattergeo"
           }
          ],
          "scattergl": [
           {
            "marker": {
             "colorbar": {
              "outlinewidth": 0,
              "ticks": ""
             }
            },
            "type": "scattergl"
           }
          ],
          "scattermapbox": [
           {
            "marker": {
             "colorbar": {
              "outlinewidth": 0,
              "ticks": ""
             }
            },
            "type": "scattermapbox"
           }
          ],
          "scatterpolar": [
           {
            "marker": {
             "colorbar": {
              "outlinewidth": 0,
              "ticks": ""
             }
            },
            "type": "scatterpolar"
           }
          ],
          "scatterpolargl": [
           {
            "marker": {
             "colorbar": {
              "outlinewidth": 0,
              "ticks": ""
             }
            },
            "type": "scatterpolargl"
           }
          ],
          "scatterternary": [
           {
            "marker": {
             "colorbar": {
              "outlinewidth": 0,
              "ticks": ""
             }
            },
            "type": "scatterternary"
           }
          ],
          "surface": [
           {
            "colorbar": {
             "outlinewidth": 0,
             "ticks": ""
            },
            "colorscale": [
             [
              0,
              "#0d0887"
             ],
             [
              0.1111111111111111,
              "#46039f"
             ],
             [
              0.2222222222222222,
              "#7201a8"
             ],
             [
              0.3333333333333333,
              "#9c179e"
             ],
             [
              0.4444444444444444,
              "#bd3786"
             ],
             [
              0.5555555555555556,
              "#d8576b"
             ],
             [
              0.6666666666666666,
              "#ed7953"
             ],
             [
              0.7777777777777778,
              "#fb9f3a"
             ],
             [
              0.8888888888888888,
              "#fdca26"
             ],
             [
              1,
              "#f0f921"
             ]
            ],
            "type": "surface"
           }
          ],
          "table": [
           {
            "cells": {
             "fill": {
              "color": "#EBF0F8"
             },
             "line": {
              "color": "white"
             }
            },
            "header": {
             "fill": {
              "color": "#C8D4E3"
             },
             "line": {
              "color": "white"
             }
            },
            "type": "table"
           }
          ]
         },
         "layout": {
          "annotationdefaults": {
           "arrowcolor": "#2a3f5f",
           "arrowhead": 0,
           "arrowwidth": 1
          },
          "autotypenumbers": "strict",
          "coloraxis": {
           "colorbar": {
            "outlinewidth": 0,
            "ticks": ""
           }
          },
          "colorscale": {
           "diverging": [
            [
             0,
             "#8e0152"
            ],
            [
             0.1,
             "#c51b7d"
            ],
            [
             0.2,
             "#de77ae"
            ],
            [
             0.3,
             "#f1b6da"
            ],
            [
             0.4,
             "#fde0ef"
            ],
            [
             0.5,
             "#f7f7f7"
            ],
            [
             0.6,
             "#e6f5d0"
            ],
            [
             0.7,
             "#b8e186"
            ],
            [
             0.8,
             "#7fbc41"
            ],
            [
             0.9,
             "#4d9221"
            ],
            [
             1,
             "#276419"
            ]
           ],
           "sequential": [
            [
             0,
             "#0d0887"
            ],
            [
             0.1111111111111111,
             "#46039f"
            ],
            [
             0.2222222222222222,
             "#7201a8"
            ],
            [
             0.3333333333333333,
             "#9c179e"
            ],
            [
             0.4444444444444444,
             "#bd3786"
            ],
            [
             0.5555555555555556,
             "#d8576b"
            ],
            [
             0.6666666666666666,
             "#ed7953"
            ],
            [
             0.7777777777777778,
             "#fb9f3a"
            ],
            [
             0.8888888888888888,
             "#fdca26"
            ],
            [
             1,
             "#f0f921"
            ]
           ],
           "sequentialminus": [
            [
             0,
             "#0d0887"
            ],
            [
             0.1111111111111111,
             "#46039f"
            ],
            [
             0.2222222222222222,
             "#7201a8"
            ],
            [
             0.3333333333333333,
             "#9c179e"
            ],
            [
             0.4444444444444444,
             "#bd3786"
            ],
            [
             0.5555555555555556,
             "#d8576b"
            ],
            [
             0.6666666666666666,
             "#ed7953"
            ],
            [
             0.7777777777777778,
             "#fb9f3a"
            ],
            [
             0.8888888888888888,
             "#fdca26"
            ],
            [
             1,
             "#f0f921"
            ]
           ]
          },
          "colorway": [
           "#636efa",
           "#EF553B",
           "#00cc96",
           "#ab63fa",
           "#FFA15A",
           "#19d3f3",
           "#FF6692",
           "#B6E880",
           "#FF97FF",
           "#FECB52"
          ],
          "font": {
           "color": "#2a3f5f"
          },
          "geo": {
           "bgcolor": "white",
           "lakecolor": "white",
           "landcolor": "#E5ECF6",
           "showlakes": true,
           "showland": true,
           "subunitcolor": "white"
          },
          "hoverlabel": {
           "align": "left"
          },
          "hovermode": "closest",
          "mapbox": {
           "style": "light"
          },
          "paper_bgcolor": "white",
          "plot_bgcolor": "#E5ECF6",
          "polar": {
           "angularaxis": {
            "gridcolor": "white",
            "linecolor": "white",
            "ticks": ""
           },
           "bgcolor": "#E5ECF6",
           "radialaxis": {
            "gridcolor": "white",
            "linecolor": "white",
            "ticks": ""
           }
          },
          "scene": {
           "xaxis": {
            "backgroundcolor": "#E5ECF6",
            "gridcolor": "white",
            "gridwidth": 2,
            "linecolor": "white",
            "showbackground": true,
            "ticks": "",
            "zerolinecolor": "white"
           },
           "yaxis": {
            "backgroundcolor": "#E5ECF6",
            "gridcolor": "white",
            "gridwidth": 2,
            "linecolor": "white",
            "showbackground": true,
            "ticks": "",
            "zerolinecolor": "white"
           },
           "zaxis": {
            "backgroundcolor": "#E5ECF6",
            "gridcolor": "white",
            "gridwidth": 2,
            "linecolor": "white",
            "showbackground": true,
            "ticks": "",
            "zerolinecolor": "white"
           }
          },
          "shapedefaults": {
           "line": {
            "color": "#2a3f5f"
           }
          },
          "ternary": {
           "aaxis": {
            "gridcolor": "white",
            "linecolor": "white",
            "ticks": ""
           },
           "baxis": {
            "gridcolor": "white",
            "linecolor": "white",
            "ticks": ""
           },
           "bgcolor": "#E5ECF6",
           "caxis": {
            "gridcolor": "white",
            "linecolor": "white",
            "ticks": ""
           }
          },
          "title": {
           "x": 0.05
          },
          "xaxis": {
           "automargin": true,
           "gridcolor": "white",
           "linecolor": "white",
           "ticks": "",
           "title": {
            "standoff": 15
           },
           "zerolinecolor": "white",
           "zerolinewidth": 2
          },
          "yaxis": {
           "automargin": true,
           "gridcolor": "white",
           "linecolor": "white",
           "ticks": "",
           "title": {
            "standoff": 15
           },
           "zerolinecolor": "white",
           "zerolinewidth": 2
          }
         }
        },
        "title": {
         "text": "Whole period of timeframe of crypto close price"
        },
        "xaxis": {
         "anchor": "y",
         "domain": [
          0,
          1
         ],
         "showgrid": false,
         "title": {
          "text": "Date"
         }
        },
        "yaxis": {
         "anchor": "x",
         "domain": [
          0,
          1
         ],
         "showgrid": false,
         "title": {
          "text": "Close"
         }
        }
       }
      }
     },
     "metadata": {},
     "output_type": "display_data"
    }
   ],
   "source": [
    "fig = px.line(closedf, x=closedf.Date, y=closedf.Close,labels={'date':'Date','close':'Close Stock'})\n",
    "fig.update_traces(marker_line_width=2, opacity=0.8, marker_line_color='orange')\n",
    "fig.update_layout(title_text='Whole period of timeframe of crypto close price', plot_bgcolor='white', \n",
    "                  font_size=15, font_color='black')\n",
    "fig.update_xaxes(showgrid=False)\n",
    "fig.update_yaxes(showgrid=False)\n",
    "fig.show()"
   ]
  },
  {
   "cell_type": "markdown",
   "id": "be27f15e",
   "metadata": {
    "papermill": {
     "duration": 0.123474,
     "end_time": "2021-08-25T15:25:54.136965",
     "exception": false,
     "start_time": "2021-08-25T15:25:54.013491",
     "status": "completed"
    },
    "tags": []
   },
   "source": [
    "### Now we will Take data of just 1 Year"
   ]
  },
  {
   "cell_type": "code",
   "execution_count": 54,
   "id": "0c507739",
   "metadata": {
    "execution": {
     "iopub.execute_input": "2021-08-25T15:25:54.391598Z",
     "iopub.status.busy": "2021-08-25T15:25:54.390929Z",
     "iopub.status.idle": "2021-08-25T15:25:54.394786Z",
     "shell.execute_reply": "2021-08-25T15:25:54.395409Z",
     "shell.execute_reply.started": "2021-08-25T14:39:21.650448Z"
    },
    "papermill": {
     "duration": 0.134215,
     "end_time": "2021-08-25T15:25:54.395594",
     "exception": false,
     "start_time": "2021-08-25T15:25:54.261379",
     "status": "completed"
    },
    "tags": []
   },
   "outputs": [
    {
     "name": "stdout",
     "output_type": "stream",
     "text": [
      "Total data for prediction:  364\n"
     ]
    }
   ],
   "source": [
    "closedf = closedf[closedf['Date'] > '2021-12-29']\n",
    "close_stock = closedf.copy()\n",
    "print(\"Total data for prediction: \",closedf.shape[0])"
   ]
  },
  {
   "cell_type": "code",
   "execution_count": 55,
   "id": "eb50e0cf",
   "metadata": {},
   "outputs": [
    {
     "data": {
      "text/html": [
       "<div>\n",
       "<style scoped>\n",
       "    .dataframe tbody tr th:only-of-type {\n",
       "        vertical-align: middle;\n",
       "    }\n",
       "\n",
       "    .dataframe tbody tr th {\n",
       "        vertical-align: top;\n",
       "    }\n",
       "\n",
       "    .dataframe thead th {\n",
       "        text-align: right;\n",
       "    }\n",
       "</style>\n",
       "<table border=\"1\" class=\"dataframe\">\n",
       "  <thead>\n",
       "    <tr style=\"text-align: right;\">\n",
       "      <th></th>\n",
       "      <th>Date</th>\n",
       "      <th>Close</th>\n",
       "    </tr>\n",
       "  </thead>\n",
       "  <tbody>\n",
       "    <tr>\n",
       "      <th>2556</th>\n",
       "      <td>2021-12-30</td>\n",
       "      <td>47178.125000</td>\n",
       "    </tr>\n",
       "    <tr>\n",
       "      <th>2557</th>\n",
       "      <td>2021-12-31</td>\n",
       "      <td>46306.445312</td>\n",
       "    </tr>\n",
       "    <tr>\n",
       "      <th>2558</th>\n",
       "      <td>2022-01-01</td>\n",
       "      <td>47686.812500</td>\n",
       "    </tr>\n",
       "    <tr>\n",
       "      <th>2559</th>\n",
       "      <td>2022-01-02</td>\n",
       "      <td>47345.218750</td>\n",
       "    </tr>\n",
       "    <tr>\n",
       "      <th>2560</th>\n",
       "      <td>2022-01-03</td>\n",
       "      <td>46458.117188</td>\n",
       "    </tr>\n",
       "    <tr>\n",
       "      <th>...</th>\n",
       "      <td>...</td>\n",
       "      <td>...</td>\n",
       "    </tr>\n",
       "    <tr>\n",
       "      <th>2915</th>\n",
       "      <td>2022-12-24</td>\n",
       "      <td>16847.755859</td>\n",
       "    </tr>\n",
       "    <tr>\n",
       "      <th>2916</th>\n",
       "      <td>2022-12-25</td>\n",
       "      <td>16841.986328</td>\n",
       "    </tr>\n",
       "    <tr>\n",
       "      <th>2917</th>\n",
       "      <td>2022-12-26</td>\n",
       "      <td>16919.804688</td>\n",
       "    </tr>\n",
       "    <tr>\n",
       "      <th>2918</th>\n",
       "      <td>2022-12-27</td>\n",
       "      <td>16717.173828</td>\n",
       "    </tr>\n",
       "    <tr>\n",
       "      <th>2919</th>\n",
       "      <td>2022-12-28</td>\n",
       "      <td>16552.572266</td>\n",
       "    </tr>\n",
       "  </tbody>\n",
       "</table>\n",
       "<p>364 rows × 2 columns</p>\n",
       "</div>"
      ],
      "text/plain": [
       "           Date         Close\n",
       "2556 2021-12-30  47178.125000\n",
       "2557 2021-12-31  46306.445312\n",
       "2558 2022-01-01  47686.812500\n",
       "2559 2022-01-02  47345.218750\n",
       "2560 2022-01-03  46458.117188\n",
       "...         ...           ...\n",
       "2915 2022-12-24  16847.755859\n",
       "2916 2022-12-25  16841.986328\n",
       "2917 2022-12-26  16919.804688\n",
       "2918 2022-12-27  16717.173828\n",
       "2919 2022-12-28  16552.572266\n",
       "\n",
       "[364 rows x 2 columns]"
      ]
     },
     "execution_count": 55,
     "metadata": {},
     "output_type": "execute_result"
    }
   ],
   "source": [
    "closedf"
   ]
  },
  {
   "cell_type": "code",
   "execution_count": 56,
   "id": "a01da562",
   "metadata": {
    "execution": {
     "iopub.execute_input": "2021-08-25T15:25:54.674509Z",
     "iopub.status.busy": "2021-08-25T15:25:54.664210Z",
     "iopub.status.idle": "2021-08-25T15:25:54.745780Z",
     "shell.execute_reply": "2021-08-25T15:25:54.745299Z",
     "shell.execute_reply.started": "2021-08-25T14:39:21.659941Z"
    },
    "papermill": {
     "duration": 0.22526,
     "end_time": "2021-08-25T15:25:54.745915",
     "exception": false,
     "start_time": "2021-08-25T15:25:54.520655",
     "status": "completed"
    },
    "tags": []
   },
   "outputs": [
    {
     "data": {
      "application/vnd.plotly.v1+json": {
       "config": {
        "plotlyServerURL": "https://plot.ly"
       },
       "data": [
        {
         "hovertemplate": "Date=%{x}<br>Close=%{y}<extra></extra>",
         "legendgroup": "",
         "line": {
          "color": "#636efa",
          "dash": "solid"
         },
         "marker": {
          "line": {
           "color": "orange",
           "width": 2
          },
          "symbol": "circle"
         },
         "mode": "lines",
         "name": "",
         "opacity": 0.8,
         "orientation": "v",
         "showlegend": false,
         "type": "scatter",
         "x": [
          "2021-12-30T00:00:00",
          "2021-12-31T00:00:00",
          "2022-01-01T00:00:00",
          "2022-01-02T00:00:00",
          "2022-01-03T00:00:00",
          "2022-01-04T00:00:00",
          "2022-01-05T00:00:00",
          "2022-01-06T00:00:00",
          "2022-01-07T00:00:00",
          "2022-01-08T00:00:00",
          "2022-01-09T00:00:00",
          "2022-01-10T00:00:00",
          "2022-01-11T00:00:00",
          "2022-01-12T00:00:00",
          "2022-01-13T00:00:00",
          "2022-01-14T00:00:00",
          "2022-01-15T00:00:00",
          "2022-01-16T00:00:00",
          "2022-01-17T00:00:00",
          "2022-01-18T00:00:00",
          "2022-01-19T00:00:00",
          "2022-01-20T00:00:00",
          "2022-01-21T00:00:00",
          "2022-01-22T00:00:00",
          "2022-01-23T00:00:00",
          "2022-01-24T00:00:00",
          "2022-01-25T00:00:00",
          "2022-01-26T00:00:00",
          "2022-01-27T00:00:00",
          "2022-01-28T00:00:00",
          "2022-01-29T00:00:00",
          "2022-01-30T00:00:00",
          "2022-01-31T00:00:00",
          "2022-02-01T00:00:00",
          "2022-02-02T00:00:00",
          "2022-02-03T00:00:00",
          "2022-02-04T00:00:00",
          "2022-02-05T00:00:00",
          "2022-02-06T00:00:00",
          "2022-02-07T00:00:00",
          "2022-02-08T00:00:00",
          "2022-02-09T00:00:00",
          "2022-02-10T00:00:00",
          "2022-02-11T00:00:00",
          "2022-02-12T00:00:00",
          "2022-02-13T00:00:00",
          "2022-02-14T00:00:00",
          "2022-02-15T00:00:00",
          "2022-02-16T00:00:00",
          "2022-02-17T00:00:00",
          "2022-02-18T00:00:00",
          "2022-02-19T00:00:00",
          "2022-02-20T00:00:00",
          "2022-02-21T00:00:00",
          "2022-02-22T00:00:00",
          "2022-02-23T00:00:00",
          "2022-02-24T00:00:00",
          "2022-02-25T00:00:00",
          "2022-02-26T00:00:00",
          "2022-02-27T00:00:00",
          "2022-02-28T00:00:00",
          "2022-03-01T00:00:00",
          "2022-03-02T00:00:00",
          "2022-03-03T00:00:00",
          "2022-03-04T00:00:00",
          "2022-03-05T00:00:00",
          "2022-03-06T00:00:00",
          "2022-03-07T00:00:00",
          "2022-03-08T00:00:00",
          "2022-03-09T00:00:00",
          "2022-03-10T00:00:00",
          "2022-03-11T00:00:00",
          "2022-03-12T00:00:00",
          "2022-03-13T00:00:00",
          "2022-03-14T00:00:00",
          "2022-03-15T00:00:00",
          "2022-03-16T00:00:00",
          "2022-03-17T00:00:00",
          "2022-03-18T00:00:00",
          "2022-03-19T00:00:00",
          "2022-03-20T00:00:00",
          "2022-03-21T00:00:00",
          "2022-03-22T00:00:00",
          "2022-03-23T00:00:00",
          "2022-03-24T00:00:00",
          "2022-03-25T00:00:00",
          "2022-03-26T00:00:00",
          "2022-03-27T00:00:00",
          "2022-03-28T00:00:00",
          "2022-03-29T00:00:00",
          "2022-03-30T00:00:00",
          "2022-03-31T00:00:00",
          "2022-04-01T00:00:00",
          "2022-04-02T00:00:00",
          "2022-04-03T00:00:00",
          "2022-04-04T00:00:00",
          "2022-04-05T00:00:00",
          "2022-04-06T00:00:00",
          "2022-04-07T00:00:00",
          "2022-04-08T00:00:00",
          "2022-04-09T00:00:00",
          "2022-04-10T00:00:00",
          "2022-04-11T00:00:00",
          "2022-04-12T00:00:00",
          "2022-04-13T00:00:00",
          "2022-04-14T00:00:00",
          "2022-04-15T00:00:00",
          "2022-04-16T00:00:00",
          "2022-04-17T00:00:00",
          "2022-04-18T00:00:00",
          "2022-04-19T00:00:00",
          "2022-04-20T00:00:00",
          "2022-04-21T00:00:00",
          "2022-04-22T00:00:00",
          "2022-04-23T00:00:00",
          "2022-04-24T00:00:00",
          "2022-04-25T00:00:00",
          "2022-04-26T00:00:00",
          "2022-04-27T00:00:00",
          "2022-04-28T00:00:00",
          "2022-04-29T00:00:00",
          "2022-04-30T00:00:00",
          "2022-05-01T00:00:00",
          "2022-05-02T00:00:00",
          "2022-05-03T00:00:00",
          "2022-05-04T00:00:00",
          "2022-05-05T00:00:00",
          "2022-05-06T00:00:00",
          "2022-05-07T00:00:00",
          "2022-05-08T00:00:00",
          "2022-05-09T00:00:00",
          "2022-05-10T00:00:00",
          "2022-05-11T00:00:00",
          "2022-05-12T00:00:00",
          "2022-05-13T00:00:00",
          "2022-05-14T00:00:00",
          "2022-05-15T00:00:00",
          "2022-05-16T00:00:00",
          "2022-05-17T00:00:00",
          "2022-05-18T00:00:00",
          "2022-05-19T00:00:00",
          "2022-05-20T00:00:00",
          "2022-05-21T00:00:00",
          "2022-05-22T00:00:00",
          "2022-05-23T00:00:00",
          "2022-05-24T00:00:00",
          "2022-05-25T00:00:00",
          "2022-05-26T00:00:00",
          "2022-05-27T00:00:00",
          "2022-05-28T00:00:00",
          "2022-05-29T00:00:00",
          "2022-05-30T00:00:00",
          "2022-05-31T00:00:00",
          "2022-06-01T00:00:00",
          "2022-06-02T00:00:00",
          "2022-06-03T00:00:00",
          "2022-06-04T00:00:00",
          "2022-06-05T00:00:00",
          "2022-06-06T00:00:00",
          "2022-06-07T00:00:00",
          "2022-06-08T00:00:00",
          "2022-06-09T00:00:00",
          "2022-06-10T00:00:00",
          "2022-06-11T00:00:00",
          "2022-06-12T00:00:00",
          "2022-06-13T00:00:00",
          "2022-06-14T00:00:00",
          "2022-06-15T00:00:00",
          "2022-06-16T00:00:00",
          "2022-06-17T00:00:00",
          "2022-06-18T00:00:00",
          "2022-06-19T00:00:00",
          "2022-06-20T00:00:00",
          "2022-06-21T00:00:00",
          "2022-06-22T00:00:00",
          "2022-06-23T00:00:00",
          "2022-06-24T00:00:00",
          "2022-06-25T00:00:00",
          "2022-06-26T00:00:00",
          "2022-06-27T00:00:00",
          "2022-06-28T00:00:00",
          "2022-06-29T00:00:00",
          "2022-06-30T00:00:00",
          "2022-07-01T00:00:00",
          "2022-07-02T00:00:00",
          "2022-07-03T00:00:00",
          "2022-07-04T00:00:00",
          "2022-07-05T00:00:00",
          "2022-07-06T00:00:00",
          "2022-07-07T00:00:00",
          "2022-07-08T00:00:00",
          "2022-07-09T00:00:00",
          "2022-07-10T00:00:00",
          "2022-07-11T00:00:00",
          "2022-07-12T00:00:00",
          "2022-07-13T00:00:00",
          "2022-07-14T00:00:00",
          "2022-07-15T00:00:00",
          "2022-07-16T00:00:00",
          "2022-07-17T00:00:00",
          "2022-07-18T00:00:00",
          "2022-07-19T00:00:00",
          "2022-07-20T00:00:00",
          "2022-07-21T00:00:00",
          "2022-07-22T00:00:00",
          "2022-07-23T00:00:00",
          "2022-07-24T00:00:00",
          "2022-07-25T00:00:00",
          "2022-07-26T00:00:00",
          "2022-07-27T00:00:00",
          "2022-07-28T00:00:00",
          "2022-07-29T00:00:00",
          "2022-07-30T00:00:00",
          "2022-07-31T00:00:00",
          "2022-08-01T00:00:00",
          "2022-08-02T00:00:00",
          "2022-08-03T00:00:00",
          "2022-08-04T00:00:00",
          "2022-08-05T00:00:00",
          "2022-08-06T00:00:00",
          "2022-08-07T00:00:00",
          "2022-08-08T00:00:00",
          "2022-08-09T00:00:00",
          "2022-08-10T00:00:00",
          "2022-08-11T00:00:00",
          "2022-08-12T00:00:00",
          "2022-08-13T00:00:00",
          "2022-08-14T00:00:00",
          "2022-08-15T00:00:00",
          "2022-08-16T00:00:00",
          "2022-08-17T00:00:00",
          "2022-08-18T00:00:00",
          "2022-08-19T00:00:00",
          "2022-08-20T00:00:00",
          "2022-08-21T00:00:00",
          "2022-08-22T00:00:00",
          "2022-08-23T00:00:00",
          "2022-08-24T00:00:00",
          "2022-08-25T00:00:00",
          "2022-08-26T00:00:00",
          "2022-08-27T00:00:00",
          "2022-08-28T00:00:00",
          "2022-08-29T00:00:00",
          "2022-08-30T00:00:00",
          "2022-08-31T00:00:00",
          "2022-09-01T00:00:00",
          "2022-09-02T00:00:00",
          "2022-09-03T00:00:00",
          "2022-09-04T00:00:00",
          "2022-09-05T00:00:00",
          "2022-09-06T00:00:00",
          "2022-09-07T00:00:00",
          "2022-09-08T00:00:00",
          "2022-09-09T00:00:00",
          "2022-09-10T00:00:00",
          "2022-09-11T00:00:00",
          "2022-09-12T00:00:00",
          "2022-09-13T00:00:00",
          "2022-09-14T00:00:00",
          "2022-09-15T00:00:00",
          "2022-09-16T00:00:00",
          "2022-09-17T00:00:00",
          "2022-09-18T00:00:00",
          "2022-09-19T00:00:00",
          "2022-09-20T00:00:00",
          "2022-09-21T00:00:00",
          "2022-09-22T00:00:00",
          "2022-09-23T00:00:00",
          "2022-09-24T00:00:00",
          "2022-09-25T00:00:00",
          "2022-09-26T00:00:00",
          "2022-09-27T00:00:00",
          "2022-09-28T00:00:00",
          "2022-09-29T00:00:00",
          "2022-09-30T00:00:00",
          "2022-10-01T00:00:00",
          "2022-10-02T00:00:00",
          "2022-10-03T00:00:00",
          "2022-10-04T00:00:00",
          "2022-10-05T00:00:00",
          "2022-10-06T00:00:00",
          "2022-10-07T00:00:00",
          "2022-10-08T00:00:00",
          "2022-10-09T00:00:00",
          "2022-10-10T00:00:00",
          "2022-10-11T00:00:00",
          "2022-10-12T00:00:00",
          "2022-10-13T00:00:00",
          "2022-10-14T00:00:00",
          "2022-10-15T00:00:00",
          "2022-10-16T00:00:00",
          "2022-10-17T00:00:00",
          "2022-10-18T00:00:00",
          "2022-10-19T00:00:00",
          "2022-10-20T00:00:00",
          "2022-10-21T00:00:00",
          "2022-10-22T00:00:00",
          "2022-10-23T00:00:00",
          "2022-10-24T00:00:00",
          "2022-10-25T00:00:00",
          "2022-10-26T00:00:00",
          "2022-10-27T00:00:00",
          "2022-10-28T00:00:00",
          "2022-10-29T00:00:00",
          "2022-10-30T00:00:00",
          "2022-10-31T00:00:00",
          "2022-11-01T00:00:00",
          "2022-11-02T00:00:00",
          "2022-11-03T00:00:00",
          "2022-11-04T00:00:00",
          "2022-11-05T00:00:00",
          "2022-11-06T00:00:00",
          "2022-11-07T00:00:00",
          "2022-11-08T00:00:00",
          "2022-11-09T00:00:00",
          "2022-11-10T00:00:00",
          "2022-11-11T00:00:00",
          "2022-11-12T00:00:00",
          "2022-11-13T00:00:00",
          "2022-11-14T00:00:00",
          "2022-11-15T00:00:00",
          "2022-11-16T00:00:00",
          "2022-11-17T00:00:00",
          "2022-11-18T00:00:00",
          "2022-11-19T00:00:00",
          "2022-11-20T00:00:00",
          "2022-11-21T00:00:00",
          "2022-11-22T00:00:00",
          "2022-11-23T00:00:00",
          "2022-11-24T00:00:00",
          "2022-11-25T00:00:00",
          "2022-11-26T00:00:00",
          "2022-11-27T00:00:00",
          "2022-11-28T00:00:00",
          "2022-11-29T00:00:00",
          "2022-11-30T00:00:00",
          "2022-12-01T00:00:00",
          "2022-12-02T00:00:00",
          "2022-12-03T00:00:00",
          "2022-12-04T00:00:00",
          "2022-12-05T00:00:00",
          "2022-12-06T00:00:00",
          "2022-12-07T00:00:00",
          "2022-12-08T00:00:00",
          "2022-12-09T00:00:00",
          "2022-12-10T00:00:00",
          "2022-12-11T00:00:00",
          "2022-12-12T00:00:00",
          "2022-12-13T00:00:00",
          "2022-12-14T00:00:00",
          "2022-12-15T00:00:00",
          "2022-12-16T00:00:00",
          "2022-12-17T00:00:00",
          "2022-12-18T00:00:00",
          "2022-12-19T00:00:00",
          "2022-12-20T00:00:00",
          "2022-12-21T00:00:00",
          "2022-12-22T00:00:00",
          "2022-12-23T00:00:00",
          "2022-12-24T00:00:00",
          "2022-12-25T00:00:00",
          "2022-12-26T00:00:00",
          "2022-12-27T00:00:00",
          "2022-12-28T00:00:00"
         ],
         "xaxis": "x",
         "y": [
          47178.125,
          46306.4453125,
          47686.8125,
          47345.21875,
          46458.1171875,
          45897.57421875,
          43569.00390625,
          43160.9296875,
          41557.90234375,
          41733.94140625,
          41911.6015625,
          41821.26171875,
          42735.85546875,
          43949.1015625,
          42591.5703125,
          43099.69921875,
          43177.3984375,
          43113.87890625,
          42250.55078125,
          42375.6328125,
          41744.328125,
          40680.41796875,
          36457.31640625,
          35030.25,
          36276.8046875,
          36654.328125,
          36954.00390625,
          36852.12109375,
          37138.234375,
          37784.33203125,
          38138.1796875,
          37917.6015625,
          38483.125,
          38743.2734375,
          36952.984375,
          37154.6015625,
          41500.875,
          41441.1640625,
          42412.43359375,
          43840.28515625,
          44118.4453125,
          44338.796875,
          43565.11328125,
          42407.9375,
          42244.46875,
          42197.515625,
          42586.91796875,
          44575.203125,
          43961.859375,
          40538.01171875,
          40030.9765625,
          40122.15625,
          38431.37890625,
          37075.28125,
          38286.02734375,
          37296.5703125,
          38332.609375,
          39214.21875,
          39105.1484375,
          37709.78515625,
          43193.234375,
          44354.63671875,
          43924.1171875,
          42451.7890625,
          39137.60546875,
          39400.5859375,
          38419.984375,
          38062.0390625,
          38737.26953125,
          41982.92578125,
          39437.4609375,
          38794.97265625,
          38904.01171875,
          37849.6640625,
          39666.75390625,
          39338.78515625,
          41143.9296875,
          40951.37890625,
          41801.15625,
          42190.65234375,
          41247.82421875,
          41077.99609375,
          42358.80859375,
          42892.95703125,
          43960.93359375,
          44348.73046875,
          44500.828125,
          46820.4921875,
          47128.00390625,
          47465.73046875,
          47062.6640625,
          45538.67578125,
          46281.64453125,
          45868.94921875,
          46453.56640625,
          46622.67578125,
          45555.9921875,
          43206.73828125,
          43503.84765625,
          42287.6640625,
          42782.13671875,
          42207.671875,
          39521.90234375,
          40127.18359375,
          41166.73046875,
          39935.515625,
          40553.46484375,
          40424.484375,
          39716.953125,
          40826.21484375,
          41502.75,
          41374.37890625,
          40527.36328125,
          39740.3203125,
          39486.73046875,
          39469.29296875,
          40458.30859375,
          38117.4609375,
          39241.12109375,
          39773.828125,
          38609.82421875,
          37714.875,
          38469.09375,
          38529.328125,
          37750.453125,
          39698.37109375,
          36575.140625,
          36040.921875,
          35501.953125,
          34059.265625,
          30296.953125,
          31022.90625,
          28936.35546875,
          29047.751953125,
          29283.103515625,
          30101.265625,
          31305.11328125,
          29862.91796875,
          30425.857421875,
          28720.271484375,
          30314.333984375,
          29200.740234375,
          29432.2265625,
          30323.72265625,
          29098.91015625,
          29655.5859375,
          29562.361328125,
          29267.224609375,
          28627.57421875,
          28814.900390625,
          29445.95703125,
          31726.390625,
          31792.310546875,
          29799.080078125,
          30467.48828125,
          29704.390625,
          29832.9140625,
          29906.662109375,
          31370.671875,
          31155.478515625,
          30214.35546875,
          30111.998046875,
          29083.8046875,
          28360.810546875,
          26762.6484375,
          22487.388671875,
          22206.79296875,
          22572.83984375,
          20381.650390625,
          20471.482421875,
          19017.642578125,
          20553.271484375,
          20599.537109375,
          20710.59765625,
          19987.029296875,
          21085.876953125,
          21231.65625,
          21502.337890625,
          21027.294921875,
          20735.478515625,
          20280.634765625,
          20104.0234375,
          19784.7265625,
          19269.3671875,
          19242.255859375,
          19297.076171875,
          20231.26171875,
          20190.115234375,
          20548.24609375,
          21637.587890625,
          21731.1171875,
          21592.20703125,
          20860.44921875,
          19970.556640625,
          19323.9140625,
          20212.07421875,
          20569.919921875,
          20836.328125,
          21190.31640625,
          20779.34375,
          22485.689453125,
          23389.43359375,
          23231.732421875,
          23164.62890625,
          22714.978515625,
          22465.478515625,
          22609.1640625,
          21361.701171875,
          21239.75390625,
          22930.548828125,
          23843.88671875,
          23804.6328125,
          23656.20703125,
          23336.896484375,
          23314.19921875,
          22978.1171875,
          22846.5078125,
          22630.95703125,
          23289.314453125,
          22961.279296875,
          23175.890625,
          23809.486328125,
          23164.318359375,
          23947.642578125,
          23957.529296875,
          24402.818359375,
          24424.068359375,
          24319.333984375,
          24136.97265625,
          23883.291015625,
          23335.998046875,
          23212.73828125,
          20877.552734375,
          21166.060546875,
          21534.12109375,
          21398.908203125,
          21528.087890625,
          21395.01953125,
          21600.904296875,
          20260.01953125,
          20041.73828125,
          19616.814453125,
          20297.994140625,
          19796.80859375,
          20049.763671875,
          20127.140625,
          19969.771484375,
          19832.087890625,
          19986.712890625,
          19812.37109375,
          18837.66796875,
          19290.32421875,
          19329.833984375,
          21381.15234375,
          21680.5390625,
          21769.255859375,
          22370.44921875,
          20296.70703125,
          20241.08984375,
          19701.2109375,
          19772.583984375,
          20127.576171875,
          19419.505859375,
          19544.12890625,
          18890.7890625,
          18547.400390625,
          19413.55078125,
          19297.638671875,
          18937.01171875,
          18802.09765625,
          19222.671875,
          19110.546875,
          19426.720703125,
          19573.05078125,
          19431.7890625,
          19312.095703125,
          19044.107421875,
          19623.580078125,
          20336.84375,
          20160.716796875,
          19955.443359375,
          19546.849609375,
          19416.568359375,
          19446.42578125,
          19141.484375,
          19051.41796875,
          19157.4453125,
          19382.904296875,
          19185.65625,
          19067.634765625,
          19268.09375,
          19550.7578125,
          19334.416015625,
          19139.53515625,
          19053.740234375,
          19172.46875,
          19208.189453125,
          19567.0078125,
          19345.572265625,
          20095.857421875,
          20770.44140625,
          20285.8359375,
          20595.3515625,
          20818.4765625,
          20635.603515625,
          20495.7734375,
          20485.2734375,
          20159.50390625,
          20209.98828125,
          21147.23046875,
          21282.69140625,
          20926.486328125,
          20602.81640625,
          18541.271484375,
          15880.7802734375,
          17586.771484375,
          17034.29296875,
          16799.185546875,
          16353.365234375,
          16618.19921875,
          16884.61328125,
          16669.439453125,
          16687.517578125,
          16697.77734375,
          16711.546875,
          16291.83203125,
          15787.2841796875,
          16189.76953125,
          16610.70703125,
          16604.46484375,
          16521.841796875,
          16464.28125,
          16444.626953125,
          16217.322265625,
          16444.982421875,
          17168.56640625,
          16967.1328125,
          17088.66015625,
          16908.236328125,
          17130.486328125,
          16974.826171875,
          17089.50390625,
          16848.126953125,
          17233.474609375,
          17133.15234375,
          17128.724609375,
          17104.193359375,
          17206.4375,
          17781.318359375,
          17815.650390625,
          17364.865234375,
          16647.484375,
          16795.091796875,
          16757.9765625,
          16439.6796875,
          16906.3046875,
          16817.53515625,
          16830.341796875,
          16796.953125,
          16847.755859375,
          16841.986328125,
          16919.8046875,
          16717.173828125,
          16552.572265625
         ],
         "yaxis": "y"
        }
       ],
       "layout": {
        "font": {
         "color": "black",
         "size": 15
        },
        "legend": {
         "tracegroupgap": 0
        },
        "margin": {
         "t": 60
        },
        "plot_bgcolor": "white",
        "template": {
         "data": {
          "bar": [
           {
            "error_x": {
             "color": "#2a3f5f"
            },
            "error_y": {
             "color": "#2a3f5f"
            },
            "marker": {
             "line": {
              "color": "#E5ECF6",
              "width": 0.5
             },
             "pattern": {
              "fillmode": "overlay",
              "size": 10,
              "solidity": 0.2
             }
            },
            "type": "bar"
           }
          ],
          "barpolar": [
           {
            "marker": {
             "line": {
              "color": "#E5ECF6",
              "width": 0.5
             },
             "pattern": {
              "fillmode": "overlay",
              "size": 10,
              "solidity": 0.2
             }
            },
            "type": "barpolar"
           }
          ],
          "carpet": [
           {
            "aaxis": {
             "endlinecolor": "#2a3f5f",
             "gridcolor": "white",
             "linecolor": "white",
             "minorgridcolor": "white",
             "startlinecolor": "#2a3f5f"
            },
            "baxis": {
             "endlinecolor": "#2a3f5f",
             "gridcolor": "white",
             "linecolor": "white",
             "minorgridcolor": "white",
             "startlinecolor": "#2a3f5f"
            },
            "type": "carpet"
           }
          ],
          "choropleth": [
           {
            "colorbar": {
             "outlinewidth": 0,
             "ticks": ""
            },
            "type": "choropleth"
           }
          ],
          "contour": [
           {
            "colorbar": {
             "outlinewidth": 0,
             "ticks": ""
            },
            "colorscale": [
             [
              0,
              "#0d0887"
             ],
             [
              0.1111111111111111,
              "#46039f"
             ],
             [
              0.2222222222222222,
              "#7201a8"
             ],
             [
              0.3333333333333333,
              "#9c179e"
             ],
             [
              0.4444444444444444,
              "#bd3786"
             ],
             [
              0.5555555555555556,
              "#d8576b"
             ],
             [
              0.6666666666666666,
              "#ed7953"
             ],
             [
              0.7777777777777778,
              "#fb9f3a"
             ],
             [
              0.8888888888888888,
              "#fdca26"
             ],
             [
              1,
              "#f0f921"
             ]
            ],
            "type": "contour"
           }
          ],
          "contourcarpet": [
           {
            "colorbar": {
             "outlinewidth": 0,
             "ticks": ""
            },
            "type": "contourcarpet"
           }
          ],
          "heatmap": [
           {
            "colorbar": {
             "outlinewidth": 0,
             "ticks": ""
            },
            "colorscale": [
             [
              0,
              "#0d0887"
             ],
             [
              0.1111111111111111,
              "#46039f"
             ],
             [
              0.2222222222222222,
              "#7201a8"
             ],
             [
              0.3333333333333333,
              "#9c179e"
             ],
             [
              0.4444444444444444,
              "#bd3786"
             ],
             [
              0.5555555555555556,
              "#d8576b"
             ],
             [
              0.6666666666666666,
              "#ed7953"
             ],
             [
              0.7777777777777778,
              "#fb9f3a"
             ],
             [
              0.8888888888888888,
              "#fdca26"
             ],
             [
              1,
              "#f0f921"
             ]
            ],
            "type": "heatmap"
           }
          ],
          "heatmapgl": [
           {
            "colorbar": {
             "outlinewidth": 0,
             "ticks": ""
            },
            "colorscale": [
             [
              0,
              "#0d0887"
             ],
             [
              0.1111111111111111,
              "#46039f"
             ],
             [
              0.2222222222222222,
              "#7201a8"
             ],
             [
              0.3333333333333333,
              "#9c179e"
             ],
             [
              0.4444444444444444,
              "#bd3786"
             ],
             [
              0.5555555555555556,
              "#d8576b"
             ],
             [
              0.6666666666666666,
              "#ed7953"
             ],
             [
              0.7777777777777778,
              "#fb9f3a"
             ],
             [
              0.8888888888888888,
              "#fdca26"
             ],
             [
              1,
              "#f0f921"
             ]
            ],
            "type": "heatmapgl"
           }
          ],
          "histogram": [
           {
            "marker": {
             "pattern": {
              "fillmode": "overlay",
              "size": 10,
              "solidity": 0.2
             }
            },
            "type": "histogram"
           }
          ],
          "histogram2d": [
           {
            "colorbar": {
             "outlinewidth": 0,
             "ticks": ""
            },
            "colorscale": [
             [
              0,
              "#0d0887"
             ],
             [
              0.1111111111111111,
              "#46039f"
             ],
             [
              0.2222222222222222,
              "#7201a8"
             ],
             [
              0.3333333333333333,
              "#9c179e"
             ],
             [
              0.4444444444444444,
              "#bd3786"
             ],
             [
              0.5555555555555556,
              "#d8576b"
             ],
             [
              0.6666666666666666,
              "#ed7953"
             ],
             [
              0.7777777777777778,
              "#fb9f3a"
             ],
             [
              0.8888888888888888,
              "#fdca26"
             ],
             [
              1,
              "#f0f921"
             ]
            ],
            "type": "histogram2d"
           }
          ],
          "histogram2dcontour": [
           {
            "colorbar": {
             "outlinewidth": 0,
             "ticks": ""
            },
            "colorscale": [
             [
              0,
              "#0d0887"
             ],
             [
              0.1111111111111111,
              "#46039f"
             ],
             [
              0.2222222222222222,
              "#7201a8"
             ],
             [
              0.3333333333333333,
              "#9c179e"
             ],
             [
              0.4444444444444444,
              "#bd3786"
             ],
             [
              0.5555555555555556,
              "#d8576b"
             ],
             [
              0.6666666666666666,
              "#ed7953"
             ],
             [
              0.7777777777777778,
              "#fb9f3a"
             ],
             [
              0.8888888888888888,
              "#fdca26"
             ],
             [
              1,
              "#f0f921"
             ]
            ],
            "type": "histogram2dcontour"
           }
          ],
          "mesh3d": [
           {
            "colorbar": {
             "outlinewidth": 0,
             "ticks": ""
            },
            "type": "mesh3d"
           }
          ],
          "parcoords": [
           {
            "line": {
             "colorbar": {
              "outlinewidth": 0,
              "ticks": ""
             }
            },
            "type": "parcoords"
           }
          ],
          "pie": [
           {
            "automargin": true,
            "type": "pie"
           }
          ],
          "scatter": [
           {
            "fillpattern": {
             "fillmode": "overlay",
             "size": 10,
             "solidity": 0.2
            },
            "type": "scatter"
           }
          ],
          "scatter3d": [
           {
            "line": {
             "colorbar": {
              "outlinewidth": 0,
              "ticks": ""
             }
            },
            "marker": {
             "colorbar": {
              "outlinewidth": 0,
              "ticks": ""
             }
            },
            "type": "scatter3d"
           }
          ],
          "scattercarpet": [
           {
            "marker": {
             "colorbar": {
              "outlinewidth": 0,
              "ticks": ""
             }
            },
            "type": "scattercarpet"
           }
          ],
          "scattergeo": [
           {
            "marker": {
             "colorbar": {
              "outlinewidth": 0,
              "ticks": ""
             }
            },
            "type": "scattergeo"
           }
          ],
          "scattergl": [
           {
            "marker": {
             "colorbar": {
              "outlinewidth": 0,
              "ticks": ""
             }
            },
            "type": "scattergl"
           }
          ],
          "scattermapbox": [
           {
            "marker": {
             "colorbar": {
              "outlinewidth": 0,
              "ticks": ""
             }
            },
            "type": "scattermapbox"
           }
          ],
          "scatterpolar": [
           {
            "marker": {
             "colorbar": {
              "outlinewidth": 0,
              "ticks": ""
             }
            },
            "type": "scatterpolar"
           }
          ],
          "scatterpolargl": [
           {
            "marker": {
             "colorbar": {
              "outlinewidth": 0,
              "ticks": ""
             }
            },
            "type": "scatterpolargl"
           }
          ],
          "scatterternary": [
           {
            "marker": {
             "colorbar": {
              "outlinewidth": 0,
              "ticks": ""
             }
            },
            "type": "scatterternary"
           }
          ],
          "surface": [
           {
            "colorbar": {
             "outlinewidth": 0,
             "ticks": ""
            },
            "colorscale": [
             [
              0,
              "#0d0887"
             ],
             [
              0.1111111111111111,
              "#46039f"
             ],
             [
              0.2222222222222222,
              "#7201a8"
             ],
             [
              0.3333333333333333,
              "#9c179e"
             ],
             [
              0.4444444444444444,
              "#bd3786"
             ],
             [
              0.5555555555555556,
              "#d8576b"
             ],
             [
              0.6666666666666666,
              "#ed7953"
             ],
             [
              0.7777777777777778,
              "#fb9f3a"
             ],
             [
              0.8888888888888888,
              "#fdca26"
             ],
             [
              1,
              "#f0f921"
             ]
            ],
            "type": "surface"
           }
          ],
          "table": [
           {
            "cells": {
             "fill": {
              "color": "#EBF0F8"
             },
             "line": {
              "color": "white"
             }
            },
            "header": {
             "fill": {
              "color": "#C8D4E3"
             },
             "line": {
              "color": "white"
             }
            },
            "type": "table"
           }
          ]
         },
         "layout": {
          "annotationdefaults": {
           "arrowcolor": "#2a3f5f",
           "arrowhead": 0,
           "arrowwidth": 1
          },
          "autotypenumbers": "strict",
          "coloraxis": {
           "colorbar": {
            "outlinewidth": 0,
            "ticks": ""
           }
          },
          "colorscale": {
           "diverging": [
            [
             0,
             "#8e0152"
            ],
            [
             0.1,
             "#c51b7d"
            ],
            [
             0.2,
             "#de77ae"
            ],
            [
             0.3,
             "#f1b6da"
            ],
            [
             0.4,
             "#fde0ef"
            ],
            [
             0.5,
             "#f7f7f7"
            ],
            [
             0.6,
             "#e6f5d0"
            ],
            [
             0.7,
             "#b8e186"
            ],
            [
             0.8,
             "#7fbc41"
            ],
            [
             0.9,
             "#4d9221"
            ],
            [
             1,
             "#276419"
            ]
           ],
           "sequential": [
            [
             0,
             "#0d0887"
            ],
            [
             0.1111111111111111,
             "#46039f"
            ],
            [
             0.2222222222222222,
             "#7201a8"
            ],
            [
             0.3333333333333333,
             "#9c179e"
            ],
            [
             0.4444444444444444,
             "#bd3786"
            ],
            [
             0.5555555555555556,
             "#d8576b"
            ],
            [
             0.6666666666666666,
             "#ed7953"
            ],
            [
             0.7777777777777778,
             "#fb9f3a"
            ],
            [
             0.8888888888888888,
             "#fdca26"
            ],
            [
             1,
             "#f0f921"
            ]
           ],
           "sequentialminus": [
            [
             0,
             "#0d0887"
            ],
            [
             0.1111111111111111,
             "#46039f"
            ],
            [
             0.2222222222222222,
             "#7201a8"
            ],
            [
             0.3333333333333333,
             "#9c179e"
            ],
            [
             0.4444444444444444,
             "#bd3786"
            ],
            [
             0.5555555555555556,
             "#d8576b"
            ],
            [
             0.6666666666666666,
             "#ed7953"
            ],
            [
             0.7777777777777778,
             "#fb9f3a"
            ],
            [
             0.8888888888888888,
             "#fdca26"
            ],
            [
             1,
             "#f0f921"
            ]
           ]
          },
          "colorway": [
           "#636efa",
           "#EF553B",
           "#00cc96",
           "#ab63fa",
           "#FFA15A",
           "#19d3f3",
           "#FF6692",
           "#B6E880",
           "#FF97FF",
           "#FECB52"
          ],
          "font": {
           "color": "#2a3f5f"
          },
          "geo": {
           "bgcolor": "white",
           "lakecolor": "white",
           "landcolor": "#E5ECF6",
           "showlakes": true,
           "showland": true,
           "subunitcolor": "white"
          },
          "hoverlabel": {
           "align": "left"
          },
          "hovermode": "closest",
          "mapbox": {
           "style": "light"
          },
          "paper_bgcolor": "white",
          "plot_bgcolor": "#E5ECF6",
          "polar": {
           "angularaxis": {
            "gridcolor": "white",
            "linecolor": "white",
            "ticks": ""
           },
           "bgcolor": "#E5ECF6",
           "radialaxis": {
            "gridcolor": "white",
            "linecolor": "white",
            "ticks": ""
           }
          },
          "scene": {
           "xaxis": {
            "backgroundcolor": "#E5ECF6",
            "gridcolor": "white",
            "gridwidth": 2,
            "linecolor": "white",
            "showbackground": true,
            "ticks": "",
            "zerolinecolor": "white"
           },
           "yaxis": {
            "backgroundcolor": "#E5ECF6",
            "gridcolor": "white",
            "gridwidth": 2,
            "linecolor": "white",
            "showbackground": true,
            "ticks": "",
            "zerolinecolor": "white"
           },
           "zaxis": {
            "backgroundcolor": "#E5ECF6",
            "gridcolor": "white",
            "gridwidth": 2,
            "linecolor": "white",
            "showbackground": true,
            "ticks": "",
            "zerolinecolor": "white"
           }
          },
          "shapedefaults": {
           "line": {
            "color": "#2a3f5f"
           }
          },
          "ternary": {
           "aaxis": {
            "gridcolor": "white",
            "linecolor": "white",
            "ticks": ""
           },
           "baxis": {
            "gridcolor": "white",
            "linecolor": "white",
            "ticks": ""
           },
           "bgcolor": "#E5ECF6",
           "caxis": {
            "gridcolor": "white",
            "linecolor": "white",
            "ticks": ""
           }
          },
          "title": {
           "x": 0.05
          },
          "xaxis": {
           "automargin": true,
           "gridcolor": "white",
           "linecolor": "white",
           "ticks": "",
           "title": {
            "standoff": 15
           },
           "zerolinecolor": "white",
           "zerolinewidth": 2
          },
          "yaxis": {
           "automargin": true,
           "gridcolor": "white",
           "linecolor": "white",
           "ticks": "",
           "title": {
            "standoff": 15
           },
           "zerolinecolor": "white",
           "zerolinewidth": 2
          }
         }
        },
        "title": {
         "text": "Considered period to predict Bitcoin close price"
        },
        "xaxis": {
         "anchor": "y",
         "domain": [
          0,
          1
         ],
         "showgrid": false,
         "title": {
          "text": "Date"
         }
        },
        "yaxis": {
         "anchor": "x",
         "domain": [
          0,
          1
         ],
         "showgrid": false,
         "title": {
          "text": "Close"
         }
        }
       }
      }
     },
     "metadata": {},
     "output_type": "display_data"
    }
   ],
   "source": [
    "fig = px.line(closedf, x=closedf.Date, y=closedf.Close,labels={'date':'Date','close':'Close Stock'})\n",
    "fig.update_traces(marker_line_width=2, opacity=0.8, marker_line_color='orange')\n",
    "fig.update_layout(title_text='Considered period to predict Bitcoin close price', \n",
    "                  plot_bgcolor='white', font_size=15, font_color='black')\n",
    "fig.update_xaxes(showgrid=False)\n",
    "fig.update_yaxes(showgrid=False)\n",
    "fig.show()"
   ]
  },
  {
   "cell_type": "markdown",
   "id": "5042eaa2",
   "metadata": {
    "papermill": {
     "duration": 0.124648,
     "end_time": "2021-08-25T15:25:54.995966",
     "exception": false,
     "start_time": "2021-08-25T15:25:54.871318",
     "status": "completed"
    },
    "tags": []
   },
   "source": [
    "* ### Normalizing Data\n",
    "- Normalization is a technique often applied as part of data preparation for machine learning. The goal of normalization is to change the values of numeric columns in the dataset to use a common scale, without distorting differences in the ranges of values or losing information.\n",
    "- MinMaxScaler. For each value in a feature, MinMaxScaler subtracts the minimum value in the feature and then divides by the range. The range is the difference between the original maximum and original minimum. MinMaxScaler preserves the shape of the original distribution."
   ]
  },
  {
   "cell_type": "code",
   "execution_count": 57,
   "id": "69ff6d09",
   "metadata": {
    "execution": {
     "iopub.execute_input": "2021-08-25T15:25:55.251336Z",
     "iopub.status.busy": "2021-08-25T15:25:55.250719Z",
     "iopub.status.idle": "2021-08-25T15:25:55.254032Z",
     "shell.execute_reply": "2021-08-25T15:25:55.254523Z",
     "shell.execute_reply.started": "2021-08-25T14:39:21.763790Z"
    },
    "papermill": {
     "duration": 0.133222,
     "end_time": "2021-08-25T15:25:55.254687",
     "exception": false,
     "start_time": "2021-08-25T15:25:55.121465",
     "status": "completed"
    },
    "tags": []
   },
   "outputs": [
    {
     "name": "stdout",
     "output_type": "stream",
     "text": [
      "(364, 1)\n"
     ]
    }
   ],
   "source": [
    "# deleting date column and normalizing using MinMax Scaler\n",
    "\n",
    "del closedf['Date']\n",
    "scaler=MinMaxScaler(feature_range=(0,1))\n",
    "closedf=scaler.fit_transform(np.array(closedf).reshape(-1,1))\n",
    "print(closedf.shape)"
   ]
  },
  {
   "cell_type": "markdown",
   "id": "ff56e76b",
   "metadata": {
    "papermill": {
     "duration": 0.123413,
     "end_time": "2021-08-25T15:25:55.501943",
     "exception": false,
     "start_time": "2021-08-25T15:25:55.378530",
     "status": "completed"
    },
    "tags": []
   },
   "source": [
    "* ### Slicing data into Training set and Testing set"
   ]
  },
  {
   "cell_type": "code",
   "execution_count": 58,
   "id": "04e82628",
   "metadata": {
    "execution": {
     "iopub.execute_input": "2021-08-25T15:25:55.761456Z",
     "iopub.status.busy": "2021-08-25T15:25:55.760798Z",
     "iopub.status.idle": "2021-08-25T15:25:55.765880Z",
     "shell.execute_reply": "2021-08-25T15:25:55.765290Z",
     "shell.execute_reply.started": "2021-08-25T14:39:21.773467Z"
    },
    "papermill": {
     "duration": 0.138154,
     "end_time": "2021-08-25T15:25:55.766002",
     "exception": false,
     "start_time": "2021-08-25T15:25:55.627848",
     "status": "completed"
    },
    "tags": []
   },
   "outputs": [
    {
     "name": "stdout",
     "output_type": "stream",
     "text": [
      "train_data:  (291, 1)\n",
      "test_data:  (73, 1)\n"
     ]
    }
   ],
   "source": [
    "training_size=int(len(closedf)*0.80)\n",
    "test_size=len(closedf)-training_size\n",
    "train_data,test_data=closedf[0:training_size,:],closedf[training_size:len(closedf),:1]\n",
    "print(\"train_data: \", train_data.shape)\n",
    "print(\"test_data: \", test_data.shape)"
   ]
  },
  {
   "cell_type": "markdown",
   "id": "8ba2fa04",
   "metadata": {
    "papermill": {
     "duration": 0.126914,
     "end_time": "2021-08-25T15:25:56.017459",
     "exception": false,
     "start_time": "2021-08-25T15:25:55.890545",
     "status": "completed"
    },
    "tags": []
   },
   "source": [
    "* ### Now we Transform the Close price based on Time-series-analysis forecasting requirement , Here we will take 15   "
   ]
  },
  {
   "cell_type": "code",
   "execution_count": 59,
   "id": "95aea656",
   "metadata": {
    "execution": {
     "iopub.execute_input": "2021-08-25T15:25:56.279629Z",
     "iopub.status.busy": "2021-08-25T15:25:56.278921Z",
     "iopub.status.idle": "2021-08-25T15:25:56.282043Z",
     "shell.execute_reply": "2021-08-25T15:25:56.281506Z",
     "shell.execute_reply.started": "2021-08-25T14:39:21.785232Z"
    },
    "papermill": {
     "duration": 0.135448,
     "end_time": "2021-08-25T15:25:56.282192",
     "exception": false,
     "start_time": "2021-08-25T15:25:56.146744",
     "status": "completed"
    },
    "tags": []
   },
   "outputs": [],
   "source": [
    "# convert an array of values into a dataset matrix\n",
    "\n",
    "def create_dataset(dataset, time_step=1):\n",
    "    dataX, dataY = [], []\n",
    "    for i in range(len(dataset)-time_step-1):\n",
    "        a = dataset[i:(i+time_step), 0]   ###i=0, 0,1,2,3-----99   100 \n",
    "        dataX.append(a)\n",
    "        dataY.append(dataset[i + time_step, 0])\n",
    "    return np.array(dataX), np.array(dataY)"
   ]
  },
  {
   "cell_type": "code",
   "execution_count": 60,
   "id": "bfd6e71d",
   "metadata": {
    "execution": {
     "iopub.execute_input": "2021-08-25T15:25:56.540390Z",
     "iopub.status.busy": "2021-08-25T15:25:56.539774Z",
     "iopub.status.idle": "2021-08-25T15:25:56.545223Z",
     "shell.execute_reply": "2021-08-25T15:25:56.544099Z",
     "shell.execute_reply.started": "2021-08-25T14:39:21.797281Z"
    },
    "papermill": {
     "duration": 0.137552,
     "end_time": "2021-08-25T15:25:56.545463",
     "exception": false,
     "start_time": "2021-08-25T15:25:56.407911",
     "status": "completed"
    },
    "tags": []
   },
   "outputs": [
    {
     "name": "stdout",
     "output_type": "stream",
     "text": [
      "X_train:  (275, 15)\n",
      "y_train:  (275,)\n",
      "X_test:  (57, 15)\n",
      "y_test (57,)\n"
     ]
    }
   ],
   "source": [
    "time_step = 15\n",
    "X_train, y_train = create_dataset(train_data, time_step)\n",
    "X_test, y_test = create_dataset(test_data, time_step)\n",
    "\n",
    "print(\"X_train: \", X_train.shape)\n",
    "print(\"y_train: \", y_train.shape)\n",
    "print(\"X_test: \", X_test.shape)\n",
    "print(\"y_test\", y_test.shape)"
   ]
  },
  {
   "cell_type": "code",
   "execution_count": 61,
   "id": "71276d05",
   "metadata": {
    "execution": {
     "iopub.execute_input": "2021-08-25T15:25:56.807075Z",
     "iopub.status.busy": "2021-08-25T15:25:56.806438Z",
     "iopub.status.idle": "2021-08-25T15:25:56.809597Z",
     "shell.execute_reply": "2021-08-25T15:25:56.810132Z",
     "shell.execute_reply.started": "2021-08-25T14:39:21.812047Z"
    },
    "papermill": {
     "duration": 0.136453,
     "end_time": "2021-08-25T15:25:56.810292",
     "exception": false,
     "start_time": "2021-08-25T15:25:56.673839",
     "status": "completed"
    },
    "tags": []
   },
   "outputs": [
    {
     "name": "stdout",
     "output_type": "stream",
     "text": [
      "X_train:  (275, 15, 1)\n",
      "X_test:  (57, 15, 1)\n"
     ]
    }
   ],
   "source": [
    "# reshape input to be [samples, time steps, features] which is required for LSTM\n",
    "X_train =X_train.reshape(X_train.shape[0],X_train.shape[1] , 1)\n",
    "X_test = X_test.reshape(X_test.shape[0],X_test.shape[1] , 1)\n",
    "\n",
    "print(\"X_train: \", X_train.shape)\n",
    "print(\"X_test: \", X_test.shape)"
   ]
  },
  {
   "cell_type": "markdown",
   "id": "65a92293",
   "metadata": {
    "papermill": {
     "duration": 0.126662,
     "end_time": "2021-08-25T15:25:57.063190",
     "exception": false,
     "start_time": "2021-08-25T15:25:56.936528",
     "status": "completed"
    },
    "tags": []
   },
   "source": [
    "* # Actuall Model Building"
   ]
  },
  {
   "cell_type": "code",
   "execution_count": 62,
   "id": "820260b5",
   "metadata": {
    "execution": {
     "iopub.execute_input": "2021-08-25T15:25:57.327518Z",
     "iopub.status.busy": "2021-08-25T15:25:57.326780Z",
     "iopub.status.idle": "2021-08-25T15:25:57.534165Z",
     "shell.execute_reply": "2021-08-25T15:25:57.534803Z",
     "shell.execute_reply.started": "2021-08-25T14:39:21.823807Z"
    },
    "papermill": {
     "duration": 0.341937,
     "end_time": "2021-08-25T15:25:57.534983",
     "exception": false,
     "start_time": "2021-08-25T15:25:57.193046",
     "status": "completed"
    },
    "tags": []
   },
   "outputs": [],
   "source": [
    "model=Sequential()\n",
    "\n",
    "model.add(LSTM(10,input_shape=(None,1),activation=\"relu\"))\n",
    "\n",
    "model.add(Dense(1))\n",
    "\n",
    "model.compile(loss=\"mean_squared_error\",optimizer=\"adam\")"
   ]
  },
  {
   "cell_type": "code",
   "execution_count": 63,
   "id": "022be768",
   "metadata": {
    "execution": {
     "iopub.execute_input": "2021-08-25T15:25:57.792705Z",
     "iopub.status.busy": "2021-08-25T15:25:57.792091Z",
     "iopub.status.idle": "2021-08-25T15:26:21.170821Z",
     "shell.execute_reply": "2021-08-25T15:26:21.171508Z",
     "shell.execute_reply.started": "2021-08-25T14:39:22.049386Z"
    },
    "papermill": {
     "duration": 23.508827,
     "end_time": "2021-08-25T15:26:21.171744",
     "exception": false,
     "start_time": "2021-08-25T15:25:57.662917",
     "status": "completed"
    },
    "tags": []
   },
   "outputs": [
    {
     "name": "stdout",
     "output_type": "stream",
     "text": [
      "Epoch 1/200\n",
      "9/9 [==============================] - 2s 56ms/step - loss: 0.2622 - val_loss: 0.0026\n",
      "Epoch 2/200\n",
      "9/9 [==============================] - 0s 13ms/step - loss: 0.2398 - val_loss: 0.0018\n",
      "Epoch 3/200\n",
      "9/9 [==============================] - 0s 17ms/step - loss: 0.2170 - val_loss: 0.0015\n",
      "Epoch 4/200\n",
      "9/9 [==============================] - 0s 15ms/step - loss: 0.1898 - val_loss: 0.0020\n",
      "Epoch 5/200\n",
      "9/9 [==============================] - 0s 16ms/step - loss: 0.1590 - val_loss: 0.0034\n",
      "Epoch 6/200\n",
      "9/9 [==============================] - 0s 17ms/step - loss: 0.1254 - val_loss: 0.0063\n",
      "Epoch 7/200\n",
      "9/9 [==============================] - 0s 15ms/step - loss: 0.0849 - val_loss: 0.0113\n",
      "Epoch 8/200\n",
      "9/9 [==============================] - 0s 16ms/step - loss: 0.0428 - val_loss: 0.0184\n",
      "Epoch 9/200\n",
      "9/9 [==============================] - 0s 16ms/step - loss: 0.0133 - val_loss: 0.0231\n",
      "Epoch 10/200\n",
      "9/9 [==============================] - 0s 17ms/step - loss: 0.0093 - val_loss: 0.0177\n",
      "Epoch 11/200\n",
      "9/9 [==============================] - 0s 15ms/step - loss: 0.0065 - val_loss: 0.0125\n",
      "Epoch 12/200\n",
      "9/9 [==============================] - 0s 19ms/step - loss: 0.0068 - val_loss: 0.0136\n",
      "Epoch 13/200\n",
      "9/9 [==============================] - 0s 15ms/step - loss: 0.0062 - val_loss: 0.0118\n",
      "Epoch 14/200\n",
      "9/9 [==============================] - 0s 14ms/step - loss: 0.0060 - val_loss: 0.0106\n",
      "Epoch 15/200\n",
      "9/9 [==============================] - 0s 15ms/step - loss: 0.0060 - val_loss: 0.0101\n",
      "Epoch 16/200\n",
      "9/9 [==============================] - 0s 15ms/step - loss: 0.0057 - val_loss: 0.0087\n",
      "Epoch 17/200\n",
      "9/9 [==============================] - 0s 16ms/step - loss: 0.0057 - val_loss: 0.0088\n",
      "Epoch 18/200\n",
      "9/9 [==============================] - 0s 14ms/step - loss: 0.0055 - val_loss: 0.0079\n",
      "Epoch 19/200\n",
      "9/9 [==============================] - 0s 16ms/step - loss: 0.0054 - val_loss: 0.0078\n",
      "Epoch 20/200\n",
      "9/9 [==============================] - 0s 16ms/step - loss: 0.0054 - val_loss: 0.0073\n",
      "Epoch 21/200\n",
      "9/9 [==============================] - 0s 15ms/step - loss: 0.0053 - val_loss: 0.0070\n",
      "Epoch 22/200\n",
      "9/9 [==============================] - 0s 14ms/step - loss: 0.0052 - val_loss: 0.0068\n",
      "Epoch 23/200\n",
      "9/9 [==============================] - 0s 18ms/step - loss: 0.0051 - val_loss: 0.0061\n",
      "Epoch 24/200\n",
      "9/9 [==============================] - 0s 17ms/step - loss: 0.0051 - val_loss: 0.0066\n",
      "Epoch 25/200\n",
      "9/9 [==============================] - 0s 16ms/step - loss: 0.0050 - val_loss: 0.0061\n",
      "Epoch 26/200\n",
      "9/9 [==============================] - 0s 15ms/step - loss: 0.0049 - val_loss: 0.0056\n",
      "Epoch 27/200\n",
      "9/9 [==============================] - 0s 15ms/step - loss: 0.0048 - val_loss: 0.0056\n",
      "Epoch 28/200\n",
      "9/9 [==============================] - 0s 14ms/step - loss: 0.0048 - val_loss: 0.0053\n",
      "Epoch 29/200\n",
      "9/9 [==============================] - 0s 16ms/step - loss: 0.0047 - val_loss: 0.0049\n",
      "Epoch 30/200\n",
      "9/9 [==============================] - 0s 15ms/step - loss: 0.0047 - val_loss: 0.0050\n",
      "Epoch 31/200\n",
      "9/9 [==============================] - 0s 15ms/step - loss: 0.0046 - val_loss: 0.0043\n",
      "Epoch 32/200\n",
      "9/9 [==============================] - 0s 18ms/step - loss: 0.0045 - val_loss: 0.0048\n",
      "Epoch 33/200\n",
      "9/9 [==============================] - 0s 15ms/step - loss: 0.0045 - val_loss: 0.0041\n",
      "Epoch 34/200\n",
      "9/9 [==============================] - 0s 30ms/step - loss: 0.0046 - val_loss: 0.0035\n",
      "Epoch 35/200\n",
      "9/9 [==============================] - 0s 23ms/step - loss: 0.0044 - val_loss: 0.0042\n",
      "Epoch 36/200\n",
      "9/9 [==============================] - 0s 23ms/step - loss: 0.0044 - val_loss: 0.0034\n",
      "Epoch 37/200\n",
      "9/9 [==============================] - 0s 16ms/step - loss: 0.0043 - val_loss: 0.0034\n",
      "Epoch 38/200\n",
      "9/9 [==============================] - 0s 21ms/step - loss: 0.0042 - val_loss: 0.0032\n",
      "Epoch 39/200\n",
      "9/9 [==============================] - 0s 17ms/step - loss: 0.0042 - val_loss: 0.0030\n",
      "Epoch 40/200\n",
      "9/9 [==============================] - 0s 16ms/step - loss: 0.0042 - val_loss: 0.0031\n",
      "Epoch 41/200\n",
      "9/9 [==============================] - 0s 15ms/step - loss: 0.0041 - val_loss: 0.0029\n",
      "Epoch 42/200\n",
      "9/9 [==============================] - 0s 14ms/step - loss: 0.0041 - val_loss: 0.0029\n",
      "Epoch 43/200\n",
      "9/9 [==============================] - 0s 15ms/step - loss: 0.0040 - val_loss: 0.0028\n",
      "Epoch 44/200\n",
      "9/9 [==============================] - 0s 14ms/step - loss: 0.0040 - val_loss: 0.0029\n",
      "Epoch 45/200\n",
      "9/9 [==============================] - 0s 14ms/step - loss: 0.0040 - val_loss: 0.0027\n",
      "Epoch 46/200\n",
      "9/9 [==============================] - 0s 18ms/step - loss: 0.0039 - val_loss: 0.0027\n",
      "Epoch 47/200\n",
      "9/9 [==============================] - 0s 13ms/step - loss: 0.0039 - val_loss: 0.0026\n",
      "Epoch 48/200\n",
      "9/9 [==============================] - 0s 12ms/step - loss: 0.0039 - val_loss: 0.0026\n",
      "Epoch 49/200\n",
      "9/9 [==============================] - 0s 13ms/step - loss: 0.0038 - val_loss: 0.0023\n",
      "Epoch 50/200\n",
      "9/9 [==============================] - 0s 14ms/step - loss: 0.0038 - val_loss: 0.0023\n",
      "Epoch 51/200\n",
      "9/9 [==============================] - 0s 17ms/step - loss: 0.0038 - val_loss: 0.0024\n",
      "Epoch 52/200\n",
      "9/9 [==============================] - 0s 17ms/step - loss: 0.0037 - val_loss: 0.0026\n",
      "Epoch 53/200\n",
      "9/9 [==============================] - 0s 17ms/step - loss: 0.0037 - val_loss: 0.0018\n",
      "Epoch 54/200\n",
      "9/9 [==============================] - 0s 13ms/step - loss: 0.0037 - val_loss: 0.0021\n",
      "Epoch 55/200\n",
      "9/9 [==============================] - 0s 13ms/step - loss: 0.0036 - val_loss: 0.0023\n",
      "Epoch 56/200\n",
      "9/9 [==============================] - 0s 18ms/step - loss: 0.0036 - val_loss: 0.0023\n",
      "Epoch 57/200\n",
      "9/9 [==============================] - 0s 14ms/step - loss: 0.0036 - val_loss: 0.0021\n",
      "Epoch 58/200\n",
      "9/9 [==============================] - 0s 17ms/step - loss: 0.0035 - val_loss: 0.0017\n",
      "Epoch 59/200\n",
      "9/9 [==============================] - 0s 15ms/step - loss: 0.0035 - val_loss: 0.0020\n",
      "Epoch 60/200\n",
      "9/9 [==============================] - 0s 16ms/step - loss: 0.0035 - val_loss: 0.0019\n",
      "Epoch 61/200\n",
      "9/9 [==============================] - 0s 20ms/step - loss: 0.0034 - val_loss: 0.0017\n",
      "Epoch 62/200\n",
      "9/9 [==============================] - 0s 18ms/step - loss: 0.0034 - val_loss: 0.0024\n",
      "Epoch 63/200\n",
      "9/9 [==============================] - 0s 16ms/step - loss: 0.0034 - val_loss: 0.0017\n",
      "Epoch 64/200\n",
      "9/9 [==============================] - 0s 17ms/step - loss: 0.0034 - val_loss: 0.0016\n",
      "Epoch 65/200\n",
      "9/9 [==============================] - 0s 16ms/step - loss: 0.0033 - val_loss: 0.0017\n",
      "Epoch 66/200\n",
      "9/9 [==============================] - 0s 16ms/step - loss: 0.0033 - val_loss: 0.0016\n",
      "Epoch 67/200\n",
      "9/9 [==============================] - 0s 16ms/step - loss: 0.0032 - val_loss: 0.0016\n",
      "Epoch 68/200\n",
      "9/9 [==============================] - 0s 16ms/step - loss: 0.0032 - val_loss: 0.0017\n",
      "Epoch 69/200\n",
      "9/9 [==============================] - 0s 17ms/step - loss: 0.0032 - val_loss: 0.0016\n",
      "Epoch 70/200\n",
      "9/9 [==============================] - 0s 15ms/step - loss: 0.0031 - val_loss: 0.0016\n",
      "Epoch 71/200\n",
      "9/9 [==============================] - 0s 16ms/step - loss: 0.0031 - val_loss: 0.0014\n",
      "Epoch 72/200\n",
      "9/9 [==============================] - 0s 16ms/step - loss: 0.0032 - val_loss: 0.0017\n",
      "Epoch 73/200\n",
      "9/9 [==============================] - 0s 18ms/step - loss: 0.0031 - val_loss: 0.0014\n",
      "Epoch 74/200\n",
      "9/9 [==============================] - 0s 16ms/step - loss: 0.0031 - val_loss: 0.0014\n",
      "Epoch 75/200\n",
      "9/9 [==============================] - 0s 13ms/step - loss: 0.0031 - val_loss: 0.0013\n",
      "Epoch 76/200\n",
      "9/9 [==============================] - 0s 15ms/step - loss: 0.0031 - val_loss: 0.0015\n",
      "Epoch 77/200\n",
      "9/9 [==============================] - 0s 11ms/step - loss: 0.0031 - val_loss: 0.0015\n",
      "Epoch 78/200\n",
      "9/9 [==============================] - 0s 10ms/step - loss: 0.0030 - val_loss: 0.0014\n",
      "Epoch 79/200\n",
      "9/9 [==============================] - 0s 11ms/step - loss: 0.0030 - val_loss: 0.0012\n",
      "Epoch 80/200\n",
      "9/9 [==============================] - 0s 11ms/step - loss: 0.0029 - val_loss: 0.0013\n",
      "Epoch 81/200\n",
      "9/9 [==============================] - 0s 11ms/step - loss: 0.0029 - val_loss: 0.0012\n",
      "Epoch 82/200\n",
      "9/9 [==============================] - 0s 11ms/step - loss: 0.0029 - val_loss: 0.0012\n",
      "Epoch 83/200\n",
      "9/9 [==============================] - 0s 11ms/step - loss: 0.0030 - val_loss: 0.0012\n",
      "Epoch 84/200\n",
      "9/9 [==============================] - 0s 11ms/step - loss: 0.0030 - val_loss: 0.0011\n",
      "Epoch 85/200\n",
      "9/9 [==============================] - 0s 11ms/step - loss: 0.0029 - val_loss: 0.0012\n",
      "Epoch 86/200\n",
      "9/9 [==============================] - 0s 10ms/step - loss: 0.0029 - val_loss: 0.0012\n",
      "Epoch 87/200\n",
      "9/9 [==============================] - 0s 11ms/step - loss: 0.0029 - val_loss: 0.0011\n",
      "Epoch 88/200\n",
      "9/9 [==============================] - 0s 12ms/step - loss: 0.0029 - val_loss: 0.0011\n",
      "Epoch 89/200\n",
      "9/9 [==============================] - 0s 11ms/step - loss: 0.0029 - val_loss: 0.0013\n",
      "Epoch 90/200\n",
      "9/9 [==============================] - 0s 11ms/step - loss: 0.0029 - val_loss: 0.0010\n",
      "Epoch 91/200\n",
      "9/9 [==============================] - 0s 11ms/step - loss: 0.0028 - val_loss: 0.0012\n",
      "Epoch 92/200\n",
      "9/9 [==============================] - 0s 11ms/step - loss: 0.0029 - val_loss: 9.4214e-04\n",
      "Epoch 93/200\n",
      "9/9 [==============================] - 0s 10ms/step - loss: 0.0029 - val_loss: 0.0012\n",
      "Epoch 94/200\n",
      "9/9 [==============================] - 0s 14ms/step - loss: 0.0028 - val_loss: 0.0010\n",
      "Epoch 95/200\n",
      "9/9 [==============================] - 0s 10ms/step - loss: 0.0028 - val_loss: 0.0011\n",
      "Epoch 96/200\n",
      "9/9 [==============================] - 0s 11ms/step - loss: 0.0028 - val_loss: 9.9475e-04\n",
      "Epoch 97/200\n",
      "9/9 [==============================] - 0s 10ms/step - loss: 0.0028 - val_loss: 0.0011\n",
      "Epoch 98/200\n",
      "9/9 [==============================] - 0s 10ms/step - loss: 0.0028 - val_loss: 0.0012\n",
      "Epoch 99/200\n",
      "9/9 [==============================] - 0s 10ms/step - loss: 0.0027 - val_loss: 9.9951e-04\n",
      "Epoch 100/200\n",
      "9/9 [==============================] - 0s 9ms/step - loss: 0.0028 - val_loss: 0.0011\n",
      "Epoch 101/200\n",
      "9/9 [==============================] - 0s 10ms/step - loss: 0.0029 - val_loss: 9.8595e-04\n",
      "Epoch 102/200\n",
      "9/9 [==============================] - 0s 10ms/step - loss: 0.0027 - val_loss: 0.0010\n",
      "Epoch 103/200\n",
      "9/9 [==============================] - 0s 9ms/step - loss: 0.0027 - val_loss: 0.0010\n",
      "Epoch 104/200\n",
      "9/9 [==============================] - 0s 10ms/step - loss: 0.0027 - val_loss: 0.0010\n",
      "Epoch 105/200\n",
      "9/9 [==============================] - 0s 10ms/step - loss: 0.0027 - val_loss: 9.6216e-04\n",
      "Epoch 106/200\n",
      "9/9 [==============================] - 0s 10ms/step - loss: 0.0027 - val_loss: 0.0011\n",
      "Epoch 107/200\n",
      "9/9 [==============================] - 0s 11ms/step - loss: 0.0027 - val_loss: 0.0010\n",
      "Epoch 108/200\n",
      "9/9 [==============================] - 0s 10ms/step - loss: 0.0027 - val_loss: 0.0010\n",
      "Epoch 109/200\n",
      "9/9 [==============================] - 0s 9ms/step - loss: 0.0027 - val_loss: 0.0011\n",
      "Epoch 110/200\n",
      "9/9 [==============================] - 0s 9ms/step - loss: 0.0027 - val_loss: 0.0010\n",
      "Epoch 111/200\n",
      "9/9 [==============================] - 0s 9ms/step - loss: 0.0027 - val_loss: 0.0010\n",
      "Epoch 112/200\n",
      "9/9 [==============================] - 0s 10ms/step - loss: 0.0027 - val_loss: 9.3448e-04\n",
      "Epoch 113/200\n",
      "9/9 [==============================] - 0s 9ms/step - loss: 0.0026 - val_loss: 0.0011\n",
      "Epoch 114/200\n",
      "9/9 [==============================] - 0s 9ms/step - loss: 0.0026 - val_loss: 9.3141e-04\n",
      "Epoch 115/200\n",
      "9/9 [==============================] - 0s 9ms/step - loss: 0.0026 - val_loss: 0.0011\n",
      "Epoch 116/200\n",
      "9/9 [==============================] - 0s 13ms/step - loss: 0.0027 - val_loss: 0.0010\n",
      "Epoch 117/200\n",
      "9/9 [==============================] - 0s 14ms/step - loss: 0.0027 - val_loss: 0.0010\n",
      "Epoch 118/200\n",
      "9/9 [==============================] - 0s 13ms/step - loss: 0.0027 - val_loss: 0.0010\n",
      "Epoch 119/200\n",
      "9/9 [==============================] - 0s 10ms/step - loss: 0.0026 - val_loss: 0.0010\n",
      "Epoch 120/200\n",
      "9/9 [==============================] - 0s 10ms/step - loss: 0.0027 - val_loss: 0.0010\n",
      "Epoch 121/200\n",
      "9/9 [==============================] - 0s 9ms/step - loss: 0.0027 - val_loss: 9.4182e-04\n",
      "Epoch 122/200\n",
      "9/9 [==============================] - 0s 10ms/step - loss: 0.0026 - val_loss: 9.7458e-04\n",
      "Epoch 123/200\n",
      "9/9 [==============================] - 0s 9ms/step - loss: 0.0026 - val_loss: 9.7796e-04\n",
      "Epoch 124/200\n",
      "9/9 [==============================] - 0s 9ms/step - loss: 0.0026 - val_loss: 9.7865e-04\n",
      "Epoch 125/200\n",
      "9/9 [==============================] - 0s 9ms/step - loss: 0.0025 - val_loss: 9.8971e-04\n",
      "Epoch 126/200\n",
      "9/9 [==============================] - 0s 9ms/step - loss: 0.0026 - val_loss: 0.0010\n",
      "Epoch 127/200\n",
      "9/9 [==============================] - 0s 9ms/step - loss: 0.0026 - val_loss: 9.7983e-04\n",
      "Epoch 128/200\n",
      "9/9 [==============================] - 0s 9ms/step - loss: 0.0025 - val_loss: 9.7538e-04\n",
      "Epoch 129/200\n",
      "9/9 [==============================] - 0s 10ms/step - loss: 0.0025 - val_loss: 8.9183e-04\n",
      "Epoch 130/200\n",
      "9/9 [==============================] - 0s 10ms/step - loss: 0.0026 - val_loss: 9.2270e-04\n",
      "Epoch 131/200\n",
      "9/9 [==============================] - 0s 9ms/step - loss: 0.0026 - val_loss: 0.0011\n",
      "Epoch 132/200\n",
      "9/9 [==============================] - 0s 10ms/step - loss: 0.0026 - val_loss: 0.0011\n",
      "Epoch 133/200\n",
      "9/9 [==============================] - 0s 9ms/step - loss: 0.0026 - val_loss: 9.0130e-04\n",
      "Epoch 134/200\n",
      "9/9 [==============================] - 0s 9ms/step - loss: 0.0026 - val_loss: 0.0010\n",
      "Epoch 135/200\n",
      "9/9 [==============================] - 0s 9ms/step - loss: 0.0025 - val_loss: 9.6318e-04\n",
      "Epoch 136/200\n",
      "9/9 [==============================] - 0s 10ms/step - loss: 0.0025 - val_loss: 9.4973e-04\n",
      "Epoch 137/200\n",
      "9/9 [==============================] - 0s 9ms/step - loss: 0.0026 - val_loss: 9.1547e-04\n",
      "Epoch 138/200\n",
      "9/9 [==============================] - 0s 9ms/step - loss: 0.0025 - val_loss: 9.6153e-04\n",
      "Epoch 139/200\n",
      "9/9 [==============================] - 0s 9ms/step - loss: 0.0025 - val_loss: 9.1897e-04\n",
      "Epoch 140/200\n",
      "9/9 [==============================] - 0s 9ms/step - loss: 0.0025 - val_loss: 9.2016e-04\n",
      "Epoch 141/200\n",
      "9/9 [==============================] - 0s 9ms/step - loss: 0.0025 - val_loss: 9.3796e-04\n",
      "Epoch 142/200\n",
      "9/9 [==============================] - 0s 9ms/step - loss: 0.0025 - val_loss: 9.8291e-04\n",
      "Epoch 143/200\n",
      "9/9 [==============================] - 0s 18ms/step - loss: 0.0025 - val_loss: 9.2547e-04\n",
      "Epoch 144/200\n",
      "9/9 [==============================] - 0s 15ms/step - loss: 0.0025 - val_loss: 0.0011\n",
      "Epoch 145/200\n",
      "9/9 [==============================] - 0s 14ms/step - loss: 0.0025 - val_loss: 9.0629e-04\n",
      "Epoch 146/200\n",
      "9/9 [==============================] - 0s 13ms/step - loss: 0.0024 - val_loss: 8.8120e-04\n",
      "Epoch 147/200\n",
      "9/9 [==============================] - 0s 10ms/step - loss: 0.0024 - val_loss: 9.2949e-04\n",
      "Epoch 148/200\n",
      "9/9 [==============================] - 0s 13ms/step - loss: 0.0024 - val_loss: 9.0124e-04\n",
      "Epoch 149/200\n",
      "9/9 [==============================] - 0s 13ms/step - loss: 0.0025 - val_loss: 9.8071e-04\n",
      "Epoch 150/200\n",
      "9/9 [==============================] - 0s 11ms/step - loss: 0.0024 - val_loss: 9.3705e-04\n",
      "Epoch 151/200\n",
      "9/9 [==============================] - 0s 12ms/step - loss: 0.0025 - val_loss: 9.2956e-04\n",
      "Epoch 152/200\n",
      "9/9 [==============================] - 0s 15ms/step - loss: 0.0024 - val_loss: 9.5419e-04\n",
      "Epoch 153/200\n",
      "9/9 [==============================] - 0s 14ms/step - loss: 0.0024 - val_loss: 8.8852e-04\n",
      "Epoch 154/200\n",
      "9/9 [==============================] - 0s 14ms/step - loss: 0.0024 - val_loss: 8.9290e-04\n",
      "Epoch 155/200\n",
      "9/9 [==============================] - 0s 14ms/step - loss: 0.0024 - val_loss: 9.5760e-04\n",
      "Epoch 156/200\n",
      "9/9 [==============================] - 0s 15ms/step - loss: 0.0024 - val_loss: 9.5038e-04\n",
      "Epoch 157/200\n",
      "9/9 [==============================] - 0s 15ms/step - loss: 0.0024 - val_loss: 9.7547e-04\n",
      "Epoch 158/200\n",
      "9/9 [==============================] - 0s 12ms/step - loss: 0.0024 - val_loss: 8.6906e-04\n",
      "Epoch 159/200\n",
      "9/9 [==============================] - 0s 11ms/step - loss: 0.0024 - val_loss: 9.1340e-04\n",
      "Epoch 160/200\n",
      "9/9 [==============================] - 0s 14ms/step - loss: 0.0024 - val_loss: 8.7398e-04\n",
      "Epoch 161/200\n",
      "9/9 [==============================] - 0s 10ms/step - loss: 0.0024 - val_loss: 9.0775e-04\n",
      "Epoch 162/200\n",
      "9/9 [==============================] - 0s 10ms/step - loss: 0.0024 - val_loss: 9.2077e-04\n",
      "Epoch 163/200\n",
      "9/9 [==============================] - 0s 10ms/step - loss: 0.0023 - val_loss: 0.0010\n",
      "Epoch 164/200\n",
      "9/9 [==============================] - 0s 9ms/step - loss: 0.0023 - val_loss: 9.1219e-04\n",
      "Epoch 165/200\n",
      "9/9 [==============================] - 0s 9ms/step - loss: 0.0023 - val_loss: 8.7411e-04\n",
      "Epoch 166/200\n",
      "9/9 [==============================] - 0s 10ms/step - loss: 0.0024 - val_loss: 8.3575e-04\n",
      "Epoch 167/200\n",
      "9/9 [==============================] - 0s 9ms/step - loss: 0.0023 - val_loss: 9.3376e-04\n",
      "Epoch 168/200\n",
      "9/9 [==============================] - 0s 9ms/step - loss: 0.0024 - val_loss: 8.9687e-04\n",
      "Epoch 169/200\n",
      "9/9 [==============================] - 0s 10ms/step - loss: 0.0023 - val_loss: 9.1198e-04\n",
      "Epoch 170/200\n",
      "9/9 [==============================] - 0s 9ms/step - loss: 0.0023 - val_loss: 9.0086e-04\n",
      "Epoch 171/200\n",
      "9/9 [==============================] - 0s 9ms/step - loss: 0.0023 - val_loss: 8.6580e-04\n",
      "Epoch 172/200\n",
      "9/9 [==============================] - 0s 10ms/step - loss: 0.0023 - val_loss: 9.0335e-04\n",
      "Epoch 173/200\n",
      "9/9 [==============================] - 0s 9ms/step - loss: 0.0023 - val_loss: 8.8807e-04\n",
      "Epoch 174/200\n",
      "9/9 [==============================] - 0s 9ms/step - loss: 0.0023 - val_loss: 0.0011\n",
      "Epoch 175/200\n",
      "9/9 [==============================] - 0s 10ms/step - loss: 0.0023 - val_loss: 8.8944e-04\n",
      "Epoch 176/200\n",
      "9/9 [==============================] - 0s 9ms/step - loss: 0.0023 - val_loss: 9.6507e-04\n",
      "Epoch 177/200\n",
      "9/9 [==============================] - 0s 10ms/step - loss: 0.0023 - val_loss: 8.2013e-04\n",
      "Epoch 178/200\n",
      "9/9 [==============================] - 0s 9ms/step - loss: 0.0023 - val_loss: 0.0010\n",
      "Epoch 179/200\n",
      "9/9 [==============================] - 0s 10ms/step - loss: 0.0023 - val_loss: 7.9565e-04\n",
      "Epoch 180/200\n",
      "9/9 [==============================] - 0s 9ms/step - loss: 0.0024 - val_loss: 9.4420e-04\n",
      "Epoch 181/200\n",
      "9/9 [==============================] - 0s 10ms/step - loss: 0.0022 - val_loss: 8.2499e-04\n",
      "Epoch 182/200\n",
      "9/9 [==============================] - 0s 10ms/step - loss: 0.0023 - val_loss: 9.3693e-04\n",
      "Epoch 183/200\n",
      "9/9 [==============================] - 0s 9ms/step - loss: 0.0022 - val_loss: 9.6431e-04\n",
      "Epoch 184/200\n",
      "9/9 [==============================] - 0s 9ms/step - loss: 0.0023 - val_loss: 9.7191e-04\n",
      "Epoch 185/200\n",
      "9/9 [==============================] - 0s 14ms/step - loss: 0.0022 - val_loss: 9.5260e-04\n",
      "Epoch 186/200\n",
      "9/9 [==============================] - 0s 9ms/step - loss: 0.0022 - val_loss: 8.1570e-04\n",
      "Epoch 187/200\n",
      "9/9 [==============================] - 0s 10ms/step - loss: 0.0022 - val_loss: 9.2443e-04\n",
      "Epoch 188/200\n",
      "9/9 [==============================] - 0s 9ms/step - loss: 0.0023 - val_loss: 8.7710e-04\n",
      "Epoch 189/200\n",
      "9/9 [==============================] - 0s 9ms/step - loss: 0.0022 - val_loss: 8.9806e-04\n",
      "Epoch 190/200\n",
      "9/9 [==============================] - 0s 9ms/step - loss: 0.0022 - val_loss: 8.3696e-04\n",
      "Epoch 191/200\n",
      "9/9 [==============================] - 0s 9ms/step - loss: 0.0022 - val_loss: 8.8679e-04\n",
      "Epoch 192/200\n",
      "9/9 [==============================] - 0s 9ms/step - loss: 0.0022 - val_loss: 9.3006e-04\n",
      "Epoch 193/200\n",
      "9/9 [==============================] - 0s 10ms/step - loss: 0.0022 - val_loss: 8.7778e-04\n",
      "Epoch 194/200\n",
      "9/9 [==============================] - 0s 9ms/step - loss: 0.0022 - val_loss: 9.6534e-04\n",
      "Epoch 195/200\n",
      "9/9 [==============================] - 0s 9ms/step - loss: 0.0022 - val_loss: 7.8264e-04\n",
      "Epoch 196/200\n",
      "9/9 [==============================] - 0s 10ms/step - loss: 0.0022 - val_loss: 9.1077e-04\n",
      "Epoch 197/200\n",
      "9/9 [==============================] - 0s 9ms/step - loss: 0.0022 - val_loss: 9.3343e-04\n",
      "Epoch 198/200\n",
      "9/9 [==============================] - 0s 10ms/step - loss: 0.0022 - val_loss: 9.2146e-04\n",
      "Epoch 199/200\n",
      "9/9 [==============================] - 0s 10ms/step - loss: 0.0023 - val_loss: 8.6627e-04\n",
      "Epoch 200/200\n",
      "9/9 [==============================] - 0s 15ms/step - loss: 0.0023 - val_loss: 9.0834e-04\n"
     ]
    }
   ],
   "source": [
    "history = model.fit(X_train,y_train,validation_data=(X_test,y_test),epochs=200,batch_size=32,verbose=1)"
   ]
  },
  {
   "cell_type": "code",
   "execution_count": 64,
   "id": "d55a3113",
   "metadata": {
    "execution": {
     "iopub.execute_input": "2021-08-25T15:26:22.944446Z",
     "iopub.status.busy": "2021-08-25T15:26:22.943770Z",
     "iopub.status.idle": "2021-08-25T15:26:23.204877Z",
     "shell.execute_reply": "2021-08-25T15:26:23.204339Z",
     "shell.execute_reply.started": "2021-08-25T14:39:47.455322Z"
    },
    "papermill": {
     "duration": 0.52587,
     "end_time": "2021-08-25T15:26:23.205024",
     "exception": false,
     "start_time": "2021-08-25T15:26:22.679154",
     "status": "completed"
    },
    "tags": []
   },
   "outputs": [
    {
     "name": "stdout",
     "output_type": "stream",
     "text": [
      "9/9 [==============================] - 0s 3ms/step\n",
      "2/2 [==============================] - 0s 8ms/step\n"
     ]
    },
    {
     "data": {
      "text/plain": [
       "((275, 1), (57, 1))"
      ]
     },
     "execution_count": 64,
     "metadata": {},
     "output_type": "execute_result"
    }
   ],
   "source": [
    "### Lets Do the prediction and check performance metrics\n",
    "train_predict=model.predict(X_train)\n",
    "test_predict=model.predict(X_test)\n",
    "train_predict.shape, test_predict.shape"
   ]
  },
  {
   "cell_type": "markdown",
   "id": "4b792151",
   "metadata": {
    "papermill": {
     "duration": 0.260401,
     "end_time": "2021-08-25T15:26:23.726232",
     "exception": false,
     "start_time": "2021-08-25T15:26:23.465831",
     "status": "completed"
    },
    "tags": []
   },
   "source": [
    "- # Model Evaluation"
   ]
  },
  {
   "cell_type": "code",
   "execution_count": 65,
   "id": "07c75758",
   "metadata": {
    "execution": {
     "iopub.execute_input": "2021-08-25T15:26:24.283032Z",
     "iopub.status.busy": "2021-08-25T15:26:24.282389Z",
     "iopub.status.idle": "2021-08-25T15:26:24.284903Z",
     "shell.execute_reply": "2021-08-25T15:26:24.285418Z",
     "shell.execute_reply.started": "2021-08-25T14:39:47.736833Z"
    },
    "papermill": {
     "duration": 0.2992,
     "end_time": "2021-08-25T15:26:24.285570",
     "exception": false,
     "start_time": "2021-08-25T15:26:23.986370",
     "status": "completed"
    },
    "tags": []
   },
   "outputs": [],
   "source": [
    "# Transform back to original form\n",
    "\n",
    "train_predict = scaler.inverse_transform(train_predict)\n",
    "test_predict = scaler.inverse_transform(test_predict)\n",
    "original_ytrain = scaler.inverse_transform(y_train.reshape(-1,1)) \n",
    "original_ytest = scaler.inverse_transform(y_test.reshape(-1,1)) "
   ]
  },
  {
   "cell_type": "markdown",
   "id": "2dba8fa8",
   "metadata": {
    "papermill": {
     "duration": 0.262784,
     "end_time": "2021-08-25T15:26:29.070108",
     "exception": false,
     "start_time": "2021-08-25T15:26:28.807324",
     "status": "completed"
    },
    "tags": []
   },
   "source": [
    "- # Comparision of original Bitcoin close price and predicted close price"
   ]
  },
  {
   "cell_type": "code",
   "execution_count": 66,
   "id": "a3477c71",
   "metadata": {
    "execution": {
     "iopub.execute_input": "2021-08-25T15:26:29.594683Z",
     "iopub.status.busy": "2021-08-25T15:26:29.594111Z",
     "iopub.status.idle": "2021-08-25T15:26:29.736142Z",
     "shell.execute_reply": "2021-08-25T15:26:29.735622Z",
     "shell.execute_reply.started": "2021-08-25T14:39:47.801835Z"
    },
    "papermill": {
     "duration": 0.406341,
     "end_time": "2021-08-25T15:26:29.736282",
     "exception": false,
     "start_time": "2021-08-25T15:26:29.329941",
     "status": "completed"
    },
    "tags": []
   },
   "outputs": [
    {
     "name": "stdout",
     "output_type": "stream",
     "text": [
      "Train predicted data:  (364, 1)\n",
      "Test predicted data:  (364, 1)\n"
     ]
    },
    {
     "data": {
      "application/vnd.plotly.v1+json": {
       "config": {
        "plotlyServerURL": "https://plot.ly"
       },
       "data": [
        {
         "hovertemplate": "variable=original_close<br>Date=%{x}<br>Price=%{y}<extra></extra>",
         "legendgroup": "original_close",
         "line": {
          "color": "#636efa",
          "dash": "solid"
         },
         "marker": {
          "symbol": "circle"
         },
         "mode": "lines",
         "name": "Original close price",
         "showlegend": true,
         "type": "scattergl",
         "x": [
          "2021-12-30T00:00:00",
          "2021-12-31T00:00:00",
          "2022-01-01T00:00:00",
          "2022-01-02T00:00:00",
          "2022-01-03T00:00:00",
          "2022-01-04T00:00:00",
          "2022-01-05T00:00:00",
          "2022-01-06T00:00:00",
          "2022-01-07T00:00:00",
          "2022-01-08T00:00:00",
          "2022-01-09T00:00:00",
          "2022-01-10T00:00:00",
          "2022-01-11T00:00:00",
          "2022-01-12T00:00:00",
          "2022-01-13T00:00:00",
          "2022-01-14T00:00:00",
          "2022-01-15T00:00:00",
          "2022-01-16T00:00:00",
          "2022-01-17T00:00:00",
          "2022-01-18T00:00:00",
          "2022-01-19T00:00:00",
          "2022-01-20T00:00:00",
          "2022-01-21T00:00:00",
          "2022-01-22T00:00:00",
          "2022-01-23T00:00:00",
          "2022-01-24T00:00:00",
          "2022-01-25T00:00:00",
          "2022-01-26T00:00:00",
          "2022-01-27T00:00:00",
          "2022-01-28T00:00:00",
          "2022-01-29T00:00:00",
          "2022-01-30T00:00:00",
          "2022-01-31T00:00:00",
          "2022-02-01T00:00:00",
          "2022-02-02T00:00:00",
          "2022-02-03T00:00:00",
          "2022-02-04T00:00:00",
          "2022-02-05T00:00:00",
          "2022-02-06T00:00:00",
          "2022-02-07T00:00:00",
          "2022-02-08T00:00:00",
          "2022-02-09T00:00:00",
          "2022-02-10T00:00:00",
          "2022-02-11T00:00:00",
          "2022-02-12T00:00:00",
          "2022-02-13T00:00:00",
          "2022-02-14T00:00:00",
          "2022-02-15T00:00:00",
          "2022-02-16T00:00:00",
          "2022-02-17T00:00:00",
          "2022-02-18T00:00:00",
          "2022-02-19T00:00:00",
          "2022-02-20T00:00:00",
          "2022-02-21T00:00:00",
          "2022-02-22T00:00:00",
          "2022-02-23T00:00:00",
          "2022-02-24T00:00:00",
          "2022-02-25T00:00:00",
          "2022-02-26T00:00:00",
          "2022-02-27T00:00:00",
          "2022-02-28T00:00:00",
          "2022-03-01T00:00:00",
          "2022-03-02T00:00:00",
          "2022-03-03T00:00:00",
          "2022-03-04T00:00:00",
          "2022-03-05T00:00:00",
          "2022-03-06T00:00:00",
          "2022-03-07T00:00:00",
          "2022-03-08T00:00:00",
          "2022-03-09T00:00:00",
          "2022-03-10T00:00:00",
          "2022-03-11T00:00:00",
          "2022-03-12T00:00:00",
          "2022-03-13T00:00:00",
          "2022-03-14T00:00:00",
          "2022-03-15T00:00:00",
          "2022-03-16T00:00:00",
          "2022-03-17T00:00:00",
          "2022-03-18T00:00:00",
          "2022-03-19T00:00:00",
          "2022-03-20T00:00:00",
          "2022-03-21T00:00:00",
          "2022-03-22T00:00:00",
          "2022-03-23T00:00:00",
          "2022-03-24T00:00:00",
          "2022-03-25T00:00:00",
          "2022-03-26T00:00:00",
          "2022-03-27T00:00:00",
          "2022-03-28T00:00:00",
          "2022-03-29T00:00:00",
          "2022-03-30T00:00:00",
          "2022-03-31T00:00:00",
          "2022-04-01T00:00:00",
          "2022-04-02T00:00:00",
          "2022-04-03T00:00:00",
          "2022-04-04T00:00:00",
          "2022-04-05T00:00:00",
          "2022-04-06T00:00:00",
          "2022-04-07T00:00:00",
          "2022-04-08T00:00:00",
          "2022-04-09T00:00:00",
          "2022-04-10T00:00:00",
          "2022-04-11T00:00:00",
          "2022-04-12T00:00:00",
          "2022-04-13T00:00:00",
          "2022-04-14T00:00:00",
          "2022-04-15T00:00:00",
          "2022-04-16T00:00:00",
          "2022-04-17T00:00:00",
          "2022-04-18T00:00:00",
          "2022-04-19T00:00:00",
          "2022-04-20T00:00:00",
          "2022-04-21T00:00:00",
          "2022-04-22T00:00:00",
          "2022-04-23T00:00:00",
          "2022-04-24T00:00:00",
          "2022-04-25T00:00:00",
          "2022-04-26T00:00:00",
          "2022-04-27T00:00:00",
          "2022-04-28T00:00:00",
          "2022-04-29T00:00:00",
          "2022-04-30T00:00:00",
          "2022-05-01T00:00:00",
          "2022-05-02T00:00:00",
          "2022-05-03T00:00:00",
          "2022-05-04T00:00:00",
          "2022-05-05T00:00:00",
          "2022-05-06T00:00:00",
          "2022-05-07T00:00:00",
          "2022-05-08T00:00:00",
          "2022-05-09T00:00:00",
          "2022-05-10T00:00:00",
          "2022-05-11T00:00:00",
          "2022-05-12T00:00:00",
          "2022-05-13T00:00:00",
          "2022-05-14T00:00:00",
          "2022-05-15T00:00:00",
          "2022-05-16T00:00:00",
          "2022-05-17T00:00:00",
          "2022-05-18T00:00:00",
          "2022-05-19T00:00:00",
          "2022-05-20T00:00:00",
          "2022-05-21T00:00:00",
          "2022-05-22T00:00:00",
          "2022-05-23T00:00:00",
          "2022-05-24T00:00:00",
          "2022-05-25T00:00:00",
          "2022-05-26T00:00:00",
          "2022-05-27T00:00:00",
          "2022-05-28T00:00:00",
          "2022-05-29T00:00:00",
          "2022-05-30T00:00:00",
          "2022-05-31T00:00:00",
          "2022-06-01T00:00:00",
          "2022-06-02T00:00:00",
          "2022-06-03T00:00:00",
          "2022-06-04T00:00:00",
          "2022-06-05T00:00:00",
          "2022-06-06T00:00:00",
          "2022-06-07T00:00:00",
          "2022-06-08T00:00:00",
          "2022-06-09T00:00:00",
          "2022-06-10T00:00:00",
          "2022-06-11T00:00:00",
          "2022-06-12T00:00:00",
          "2022-06-13T00:00:00",
          "2022-06-14T00:00:00",
          "2022-06-15T00:00:00",
          "2022-06-16T00:00:00",
          "2022-06-17T00:00:00",
          "2022-06-18T00:00:00",
          "2022-06-19T00:00:00",
          "2022-06-20T00:00:00",
          "2022-06-21T00:00:00",
          "2022-06-22T00:00:00",
          "2022-06-23T00:00:00",
          "2022-06-24T00:00:00",
          "2022-06-25T00:00:00",
          "2022-06-26T00:00:00",
          "2022-06-27T00:00:00",
          "2022-06-28T00:00:00",
          "2022-06-29T00:00:00",
          "2022-06-30T00:00:00",
          "2022-07-01T00:00:00",
          "2022-07-02T00:00:00",
          "2022-07-03T00:00:00",
          "2022-07-04T00:00:00",
          "2022-07-05T00:00:00",
          "2022-07-06T00:00:00",
          "2022-07-07T00:00:00",
          "2022-07-08T00:00:00",
          "2022-07-09T00:00:00",
          "2022-07-10T00:00:00",
          "2022-07-11T00:00:00",
          "2022-07-12T00:00:00",
          "2022-07-13T00:00:00",
          "2022-07-14T00:00:00",
          "2022-07-15T00:00:00",
          "2022-07-16T00:00:00",
          "2022-07-17T00:00:00",
          "2022-07-18T00:00:00",
          "2022-07-19T00:00:00",
          "2022-07-20T00:00:00",
          "2022-07-21T00:00:00",
          "2022-07-22T00:00:00",
          "2022-07-23T00:00:00",
          "2022-07-24T00:00:00",
          "2022-07-25T00:00:00",
          "2022-07-26T00:00:00",
          "2022-07-27T00:00:00",
          "2022-07-28T00:00:00",
          "2022-07-29T00:00:00",
          "2022-07-30T00:00:00",
          "2022-07-31T00:00:00",
          "2022-08-01T00:00:00",
          "2022-08-02T00:00:00",
          "2022-08-03T00:00:00",
          "2022-08-04T00:00:00",
          "2022-08-05T00:00:00",
          "2022-08-06T00:00:00",
          "2022-08-07T00:00:00",
          "2022-08-08T00:00:00",
          "2022-08-09T00:00:00",
          "2022-08-10T00:00:00",
          "2022-08-11T00:00:00",
          "2022-08-12T00:00:00",
          "2022-08-13T00:00:00",
          "2022-08-14T00:00:00",
          "2022-08-15T00:00:00",
          "2022-08-16T00:00:00",
          "2022-08-17T00:00:00",
          "2022-08-18T00:00:00",
          "2022-08-19T00:00:00",
          "2022-08-20T00:00:00",
          "2022-08-21T00:00:00",
          "2022-08-22T00:00:00",
          "2022-08-23T00:00:00",
          "2022-08-24T00:00:00",
          "2022-08-25T00:00:00",
          "2022-08-26T00:00:00",
          "2022-08-27T00:00:00",
          "2022-08-28T00:00:00",
          "2022-08-29T00:00:00",
          "2022-08-30T00:00:00",
          "2022-08-31T00:00:00",
          "2022-09-01T00:00:00",
          "2022-09-02T00:00:00",
          "2022-09-03T00:00:00",
          "2022-09-04T00:00:00",
          "2022-09-05T00:00:00",
          "2022-09-06T00:00:00",
          "2022-09-07T00:00:00",
          "2022-09-08T00:00:00",
          "2022-09-09T00:00:00",
          "2022-09-10T00:00:00",
          "2022-09-11T00:00:00",
          "2022-09-12T00:00:00",
          "2022-09-13T00:00:00",
          "2022-09-14T00:00:00",
          "2022-09-15T00:00:00",
          "2022-09-16T00:00:00",
          "2022-09-17T00:00:00",
          "2022-09-18T00:00:00",
          "2022-09-19T00:00:00",
          "2022-09-20T00:00:00",
          "2022-09-21T00:00:00",
          "2022-09-22T00:00:00",
          "2022-09-23T00:00:00",
          "2022-09-24T00:00:00",
          "2022-09-25T00:00:00",
          "2022-09-26T00:00:00",
          "2022-09-27T00:00:00",
          "2022-09-28T00:00:00",
          "2022-09-29T00:00:00",
          "2022-09-30T00:00:00",
          "2022-10-01T00:00:00",
          "2022-10-02T00:00:00",
          "2022-10-03T00:00:00",
          "2022-10-04T00:00:00",
          "2022-10-05T00:00:00",
          "2022-10-06T00:00:00",
          "2022-10-07T00:00:00",
          "2022-10-08T00:00:00",
          "2022-10-09T00:00:00",
          "2022-10-10T00:00:00",
          "2022-10-11T00:00:00",
          "2022-10-12T00:00:00",
          "2022-10-13T00:00:00",
          "2022-10-14T00:00:00",
          "2022-10-15T00:00:00",
          "2022-10-16T00:00:00",
          "2022-10-17T00:00:00",
          "2022-10-18T00:00:00",
          "2022-10-19T00:00:00",
          "2022-10-20T00:00:00",
          "2022-10-21T00:00:00",
          "2022-10-22T00:00:00",
          "2022-10-23T00:00:00",
          "2022-10-24T00:00:00",
          "2022-10-25T00:00:00",
          "2022-10-26T00:00:00",
          "2022-10-27T00:00:00",
          "2022-10-28T00:00:00",
          "2022-10-29T00:00:00",
          "2022-10-30T00:00:00",
          "2022-10-31T00:00:00",
          "2022-11-01T00:00:00",
          "2022-11-02T00:00:00",
          "2022-11-03T00:00:00",
          "2022-11-04T00:00:00",
          "2022-11-05T00:00:00",
          "2022-11-06T00:00:00",
          "2022-11-07T00:00:00",
          "2022-11-08T00:00:00",
          "2022-11-09T00:00:00",
          "2022-11-10T00:00:00",
          "2022-11-11T00:00:00",
          "2022-11-12T00:00:00",
          "2022-11-13T00:00:00",
          "2022-11-14T00:00:00",
          "2022-11-15T00:00:00",
          "2022-11-16T00:00:00",
          "2022-11-17T00:00:00",
          "2022-11-18T00:00:00",
          "2022-11-19T00:00:00",
          "2022-11-20T00:00:00",
          "2022-11-21T00:00:00",
          "2022-11-22T00:00:00",
          "2022-11-23T00:00:00",
          "2022-11-24T00:00:00",
          "2022-11-25T00:00:00",
          "2022-11-26T00:00:00",
          "2022-11-27T00:00:00",
          "2022-11-28T00:00:00",
          "2022-11-29T00:00:00",
          "2022-11-30T00:00:00",
          "2022-12-01T00:00:00",
          "2022-12-02T00:00:00",
          "2022-12-03T00:00:00",
          "2022-12-04T00:00:00",
          "2022-12-05T00:00:00",
          "2022-12-06T00:00:00",
          "2022-12-07T00:00:00",
          "2022-12-08T00:00:00",
          "2022-12-09T00:00:00",
          "2022-12-10T00:00:00",
          "2022-12-11T00:00:00",
          "2022-12-12T00:00:00",
          "2022-12-13T00:00:00",
          "2022-12-14T00:00:00",
          "2022-12-15T00:00:00",
          "2022-12-16T00:00:00",
          "2022-12-17T00:00:00",
          "2022-12-18T00:00:00",
          "2022-12-19T00:00:00",
          "2022-12-20T00:00:00",
          "2022-12-21T00:00:00",
          "2022-12-22T00:00:00",
          "2022-12-23T00:00:00",
          "2022-12-24T00:00:00",
          "2022-12-25T00:00:00",
          "2022-12-26T00:00:00",
          "2022-12-27T00:00:00",
          "2022-12-28T00:00:00"
         ],
         "xaxis": "x",
         "y": [
          47178.125,
          46306.4453125,
          47686.8125,
          47345.21875,
          46458.1171875,
          45897.57421875,
          43569.00390625,
          43160.9296875,
          41557.90234375,
          41733.94140625,
          41911.6015625,
          41821.26171875,
          42735.85546875,
          43949.1015625,
          42591.5703125,
          43099.69921875,
          43177.3984375,
          43113.87890625,
          42250.55078125,
          42375.6328125,
          41744.328125,
          40680.41796875,
          36457.31640625,
          35030.25,
          36276.8046875,
          36654.328125,
          36954.00390625,
          36852.12109375,
          37138.234375,
          37784.33203125,
          38138.1796875,
          37917.6015625,
          38483.125,
          38743.2734375,
          36952.984375,
          37154.6015625,
          41500.875,
          41441.1640625,
          42412.43359375,
          43840.28515625,
          44118.4453125,
          44338.796875,
          43565.11328125,
          42407.9375,
          42244.46875,
          42197.515625,
          42586.91796875,
          44575.203125,
          43961.859375,
          40538.01171875,
          40030.9765625,
          40122.15625,
          38431.37890625,
          37075.28125,
          38286.02734375,
          37296.5703125,
          38332.609375,
          39214.21875,
          39105.1484375,
          37709.78515625,
          43193.234375,
          44354.63671875,
          43924.1171875,
          42451.7890625,
          39137.60546875,
          39400.5859375,
          38419.984375,
          38062.0390625,
          38737.26953125,
          41982.92578125,
          39437.4609375,
          38794.97265625,
          38904.01171875,
          37849.6640625,
          39666.75390625,
          39338.78515625,
          41143.9296875,
          40951.37890625,
          41801.15625,
          42190.65234375,
          41247.82421875,
          41077.99609375,
          42358.80859375,
          42892.95703125,
          43960.93359375,
          44348.73046875,
          44500.828125,
          46820.4921875,
          47128.00390625,
          47465.73046875,
          47062.6640625,
          45538.67578125,
          46281.64453125,
          45868.94921875,
          46453.56640625,
          46622.67578125,
          45555.9921875,
          43206.73828125,
          43503.84765625,
          42287.6640625,
          42782.13671875,
          42207.671875,
          39521.90234375,
          40127.18359375,
          41166.73046875,
          39935.515625,
          40553.46484375,
          40424.484375,
          39716.953125,
          40826.21484375,
          41502.75,
          41374.37890625,
          40527.36328125,
          39740.3203125,
          39486.73046875,
          39469.29296875,
          40458.30859375,
          38117.4609375,
          39241.12109375,
          39773.828125,
          38609.82421875,
          37714.875,
          38469.09375,
          38529.328125,
          37750.453125,
          39698.37109375,
          36575.140625,
          36040.921875,
          35501.953125,
          34059.265625,
          30296.953125,
          31022.90625,
          28936.35546875,
          29047.751953125,
          29283.103515625,
          30101.265625,
          31305.11328125,
          29862.91796875,
          30425.857421875,
          28720.271484375,
          30314.333984375,
          29200.740234375,
          29432.2265625,
          30323.72265625,
          29098.91015625,
          29655.5859375,
          29562.361328125,
          29267.224609375,
          28627.57421875,
          28814.900390625,
          29445.95703125,
          31726.390625,
          31792.310546875,
          29799.080078125,
          30467.48828125,
          29704.390625,
          29832.9140625,
          29906.662109375,
          31370.671875,
          31155.478515625,
          30214.35546875,
          30111.998046875,
          29083.8046875,
          28360.810546875,
          26762.6484375,
          22487.388671875,
          22206.79296875,
          22572.83984375,
          20381.650390625,
          20471.482421875,
          19017.642578125,
          20553.271484375,
          20599.537109375,
          20710.59765625,
          19987.029296875,
          21085.876953125,
          21231.65625,
          21502.337890625,
          21027.294921875,
          20735.478515625,
          20280.634765625,
          20104.0234375,
          19784.7265625,
          19269.3671875,
          19242.255859375,
          19297.076171875,
          20231.26171875,
          20190.115234375,
          20548.24609375,
          21637.587890625,
          21731.1171875,
          21592.20703125,
          20860.44921875,
          19970.556640625,
          19323.9140625,
          20212.07421875,
          20569.919921875,
          20836.328125,
          21190.31640625,
          20779.34375,
          22485.689453125,
          23389.43359375,
          23231.732421875,
          23164.62890625,
          22714.978515625,
          22465.478515625,
          22609.1640625,
          21361.701171875,
          21239.75390625,
          22930.548828125,
          23843.88671875,
          23804.6328125,
          23656.20703125,
          23336.896484375,
          23314.19921875,
          22978.1171875,
          22846.5078125,
          22630.95703125,
          23289.314453125,
          22961.279296875,
          23175.890625,
          23809.486328125,
          23164.318359375,
          23947.642578125,
          23957.529296875,
          24402.818359375,
          24424.068359375,
          24319.333984375,
          24136.97265625,
          23883.291015625,
          23335.998046875,
          23212.73828125,
          20877.552734375,
          21166.060546875,
          21534.12109375,
          21398.908203125,
          21528.087890625,
          21395.01953125,
          21600.904296875,
          20260.01953125,
          20041.73828125,
          19616.814453125,
          20297.994140625,
          19796.80859375,
          20049.763671875,
          20127.140625,
          19969.771484375,
          19832.087890625,
          19986.712890625,
          19812.37109375,
          18837.66796875,
          19290.32421875,
          19329.833984375,
          21381.15234375,
          21680.5390625,
          21769.255859375,
          22370.44921875,
          20296.70703125,
          20241.08984375,
          19701.2109375,
          19772.583984375,
          20127.576171875,
          19419.505859375,
          19544.12890625,
          18890.7890625,
          18547.400390625,
          19413.55078125,
          19297.638671875,
          18937.01171875,
          18802.09765625,
          19222.671875,
          19110.546875,
          19426.720703125,
          19573.05078125,
          19431.7890625,
          19312.095703125,
          19044.107421875,
          19623.580078125,
          20336.84375,
          20160.716796875,
          19955.443359375,
          19546.849609375,
          19416.568359375,
          19446.42578125,
          19141.484375,
          19051.41796875,
          19157.4453125,
          19382.904296875,
          19185.65625,
          19067.634765625,
          19268.09375,
          19550.7578125,
          19334.416015625,
          19139.53515625,
          19053.740234375,
          19172.46875,
          19208.189453125,
          19567.0078125,
          19345.572265625,
          20095.857421875,
          20770.44140625,
          20285.8359375,
          20595.3515625,
          20818.4765625,
          20635.603515625,
          20495.7734375,
          20485.2734375,
          20159.50390625,
          20209.98828125,
          21147.23046875,
          21282.69140625,
          20926.486328125,
          20602.81640625,
          18541.271484375,
          15880.7802734375,
          17586.771484375,
          17034.29296875,
          16799.185546875,
          16353.365234375,
          16618.19921875,
          16884.61328125,
          16669.439453125,
          16687.517578125,
          16697.77734375,
          16711.546875,
          16291.83203125,
          15787.2841796875,
          16189.76953125,
          16610.70703125,
          16604.46484375,
          16521.841796875,
          16464.28125,
          16444.626953125,
          16217.322265625,
          16444.982421875,
          17168.56640625,
          16967.1328125,
          17088.66015625,
          16908.236328125,
          17130.486328125,
          16974.826171875,
          17089.50390625,
          16848.126953125,
          17233.474609375,
          17133.15234375,
          17128.724609375,
          17104.193359375,
          17206.4375,
          17781.318359375,
          17815.650390625,
          17364.865234375,
          16647.484375,
          16795.091796875,
          16757.9765625,
          16439.6796875,
          16906.3046875,
          16817.53515625,
          16830.341796875,
          16796.953125,
          16847.755859375,
          16841.986328125,
          16919.8046875,
          16717.173828125,
          16552.572265625
         ],
         "yaxis": "y"
        },
        {
         "hovertemplate": "variable=train_predicted_close<br>Date=%{x}<br>Price=%{y}<extra></extra>",
         "legendgroup": "train_predicted_close",
         "line": {
          "color": "#EF553B",
          "dash": "solid"
         },
         "marker": {
          "symbol": "circle"
         },
         "mode": "lines",
         "name": "Train predicted close price",
         "showlegend": true,
         "type": "scattergl",
         "x": [
          "2021-12-30T00:00:00",
          "2021-12-31T00:00:00",
          "2022-01-01T00:00:00",
          "2022-01-02T00:00:00",
          "2022-01-03T00:00:00",
          "2022-01-04T00:00:00",
          "2022-01-05T00:00:00",
          "2022-01-06T00:00:00",
          "2022-01-07T00:00:00",
          "2022-01-08T00:00:00",
          "2022-01-09T00:00:00",
          "2022-01-10T00:00:00",
          "2022-01-11T00:00:00",
          "2022-01-12T00:00:00",
          "2022-01-13T00:00:00",
          "2022-01-14T00:00:00",
          "2022-01-15T00:00:00",
          "2022-01-16T00:00:00",
          "2022-01-17T00:00:00",
          "2022-01-18T00:00:00",
          "2022-01-19T00:00:00",
          "2022-01-20T00:00:00",
          "2022-01-21T00:00:00",
          "2022-01-22T00:00:00",
          "2022-01-23T00:00:00",
          "2022-01-24T00:00:00",
          "2022-01-25T00:00:00",
          "2022-01-26T00:00:00",
          "2022-01-27T00:00:00",
          "2022-01-28T00:00:00",
          "2022-01-29T00:00:00",
          "2022-01-30T00:00:00",
          "2022-01-31T00:00:00",
          "2022-02-01T00:00:00",
          "2022-02-02T00:00:00",
          "2022-02-03T00:00:00",
          "2022-02-04T00:00:00",
          "2022-02-05T00:00:00",
          "2022-02-06T00:00:00",
          "2022-02-07T00:00:00",
          "2022-02-08T00:00:00",
          "2022-02-09T00:00:00",
          "2022-02-10T00:00:00",
          "2022-02-11T00:00:00",
          "2022-02-12T00:00:00",
          "2022-02-13T00:00:00",
          "2022-02-14T00:00:00",
          "2022-02-15T00:00:00",
          "2022-02-16T00:00:00",
          "2022-02-17T00:00:00",
          "2022-02-18T00:00:00",
          "2022-02-19T00:00:00",
          "2022-02-20T00:00:00",
          "2022-02-21T00:00:00",
          "2022-02-22T00:00:00",
          "2022-02-23T00:00:00",
          "2022-02-24T00:00:00",
          "2022-02-25T00:00:00",
          "2022-02-26T00:00:00",
          "2022-02-27T00:00:00",
          "2022-02-28T00:00:00",
          "2022-03-01T00:00:00",
          "2022-03-02T00:00:00",
          "2022-03-03T00:00:00",
          "2022-03-04T00:00:00",
          "2022-03-05T00:00:00",
          "2022-03-06T00:00:00",
          "2022-03-07T00:00:00",
          "2022-03-08T00:00:00",
          "2022-03-09T00:00:00",
          "2022-03-10T00:00:00",
          "2022-03-11T00:00:00",
          "2022-03-12T00:00:00",
          "2022-03-13T00:00:00",
          "2022-03-14T00:00:00",
          "2022-03-15T00:00:00",
          "2022-03-16T00:00:00",
          "2022-03-17T00:00:00",
          "2022-03-18T00:00:00",
          "2022-03-19T00:00:00",
          "2022-03-20T00:00:00",
          "2022-03-21T00:00:00",
          "2022-03-22T00:00:00",
          "2022-03-23T00:00:00",
          "2022-03-24T00:00:00",
          "2022-03-25T00:00:00",
          "2022-03-26T00:00:00",
          "2022-03-27T00:00:00",
          "2022-03-28T00:00:00",
          "2022-03-29T00:00:00",
          "2022-03-30T00:00:00",
          "2022-03-31T00:00:00",
          "2022-04-01T00:00:00",
          "2022-04-02T00:00:00",
          "2022-04-03T00:00:00",
          "2022-04-04T00:00:00",
          "2022-04-05T00:00:00",
          "2022-04-06T00:00:00",
          "2022-04-07T00:00:00",
          "2022-04-08T00:00:00",
          "2022-04-09T00:00:00",
          "2022-04-10T00:00:00",
          "2022-04-11T00:00:00",
          "2022-04-12T00:00:00",
          "2022-04-13T00:00:00",
          "2022-04-14T00:00:00",
          "2022-04-15T00:00:00",
          "2022-04-16T00:00:00",
          "2022-04-17T00:00:00",
          "2022-04-18T00:00:00",
          "2022-04-19T00:00:00",
          "2022-04-20T00:00:00",
          "2022-04-21T00:00:00",
          "2022-04-22T00:00:00",
          "2022-04-23T00:00:00",
          "2022-04-24T00:00:00",
          "2022-04-25T00:00:00",
          "2022-04-26T00:00:00",
          "2022-04-27T00:00:00",
          "2022-04-28T00:00:00",
          "2022-04-29T00:00:00",
          "2022-04-30T00:00:00",
          "2022-05-01T00:00:00",
          "2022-05-02T00:00:00",
          "2022-05-03T00:00:00",
          "2022-05-04T00:00:00",
          "2022-05-05T00:00:00",
          "2022-05-06T00:00:00",
          "2022-05-07T00:00:00",
          "2022-05-08T00:00:00",
          "2022-05-09T00:00:00",
          "2022-05-10T00:00:00",
          "2022-05-11T00:00:00",
          "2022-05-12T00:00:00",
          "2022-05-13T00:00:00",
          "2022-05-14T00:00:00",
          "2022-05-15T00:00:00",
          "2022-05-16T00:00:00",
          "2022-05-17T00:00:00",
          "2022-05-18T00:00:00",
          "2022-05-19T00:00:00",
          "2022-05-20T00:00:00",
          "2022-05-21T00:00:00",
          "2022-05-22T00:00:00",
          "2022-05-23T00:00:00",
          "2022-05-24T00:00:00",
          "2022-05-25T00:00:00",
          "2022-05-26T00:00:00",
          "2022-05-27T00:00:00",
          "2022-05-28T00:00:00",
          "2022-05-29T00:00:00",
          "2022-05-30T00:00:00",
          "2022-05-31T00:00:00",
          "2022-06-01T00:00:00",
          "2022-06-02T00:00:00",
          "2022-06-03T00:00:00",
          "2022-06-04T00:00:00",
          "2022-06-05T00:00:00",
          "2022-06-06T00:00:00",
          "2022-06-07T00:00:00",
          "2022-06-08T00:00:00",
          "2022-06-09T00:00:00",
          "2022-06-10T00:00:00",
          "2022-06-11T00:00:00",
          "2022-06-12T00:00:00",
          "2022-06-13T00:00:00",
          "2022-06-14T00:00:00",
          "2022-06-15T00:00:00",
          "2022-06-16T00:00:00",
          "2022-06-17T00:00:00",
          "2022-06-18T00:00:00",
          "2022-06-19T00:00:00",
          "2022-06-20T00:00:00",
          "2022-06-21T00:00:00",
          "2022-06-22T00:00:00",
          "2022-06-23T00:00:00",
          "2022-06-24T00:00:00",
          "2022-06-25T00:00:00",
          "2022-06-26T00:00:00",
          "2022-06-27T00:00:00",
          "2022-06-28T00:00:00",
          "2022-06-29T00:00:00",
          "2022-06-30T00:00:00",
          "2022-07-01T00:00:00",
          "2022-07-02T00:00:00",
          "2022-07-03T00:00:00",
          "2022-07-04T00:00:00",
          "2022-07-05T00:00:00",
          "2022-07-06T00:00:00",
          "2022-07-07T00:00:00",
          "2022-07-08T00:00:00",
          "2022-07-09T00:00:00",
          "2022-07-10T00:00:00",
          "2022-07-11T00:00:00",
          "2022-07-12T00:00:00",
          "2022-07-13T00:00:00",
          "2022-07-14T00:00:00",
          "2022-07-15T00:00:00",
          "2022-07-16T00:00:00",
          "2022-07-17T00:00:00",
          "2022-07-18T00:00:00",
          "2022-07-19T00:00:00",
          "2022-07-20T00:00:00",
          "2022-07-21T00:00:00",
          "2022-07-22T00:00:00",
          "2022-07-23T00:00:00",
          "2022-07-24T00:00:00",
          "2022-07-25T00:00:00",
          "2022-07-26T00:00:00",
          "2022-07-27T00:00:00",
          "2022-07-28T00:00:00",
          "2022-07-29T00:00:00",
          "2022-07-30T00:00:00",
          "2022-07-31T00:00:00",
          "2022-08-01T00:00:00",
          "2022-08-02T00:00:00",
          "2022-08-03T00:00:00",
          "2022-08-04T00:00:00",
          "2022-08-05T00:00:00",
          "2022-08-06T00:00:00",
          "2022-08-07T00:00:00",
          "2022-08-08T00:00:00",
          "2022-08-09T00:00:00",
          "2022-08-10T00:00:00",
          "2022-08-11T00:00:00",
          "2022-08-12T00:00:00",
          "2022-08-13T00:00:00",
          "2022-08-14T00:00:00",
          "2022-08-15T00:00:00",
          "2022-08-16T00:00:00",
          "2022-08-17T00:00:00",
          "2022-08-18T00:00:00",
          "2022-08-19T00:00:00",
          "2022-08-20T00:00:00",
          "2022-08-21T00:00:00",
          "2022-08-22T00:00:00",
          "2022-08-23T00:00:00",
          "2022-08-24T00:00:00",
          "2022-08-25T00:00:00",
          "2022-08-26T00:00:00",
          "2022-08-27T00:00:00",
          "2022-08-28T00:00:00",
          "2022-08-29T00:00:00",
          "2022-08-30T00:00:00",
          "2022-08-31T00:00:00",
          "2022-09-01T00:00:00",
          "2022-09-02T00:00:00",
          "2022-09-03T00:00:00",
          "2022-09-04T00:00:00",
          "2022-09-05T00:00:00",
          "2022-09-06T00:00:00",
          "2022-09-07T00:00:00",
          "2022-09-08T00:00:00",
          "2022-09-09T00:00:00",
          "2022-09-10T00:00:00",
          "2022-09-11T00:00:00",
          "2022-09-12T00:00:00",
          "2022-09-13T00:00:00",
          "2022-09-14T00:00:00",
          "2022-09-15T00:00:00",
          "2022-09-16T00:00:00",
          "2022-09-17T00:00:00",
          "2022-09-18T00:00:00",
          "2022-09-19T00:00:00",
          "2022-09-20T00:00:00",
          "2022-09-21T00:00:00",
          "2022-09-22T00:00:00",
          "2022-09-23T00:00:00",
          "2022-09-24T00:00:00",
          "2022-09-25T00:00:00",
          "2022-09-26T00:00:00",
          "2022-09-27T00:00:00",
          "2022-09-28T00:00:00",
          "2022-09-29T00:00:00",
          "2022-09-30T00:00:00",
          "2022-10-01T00:00:00",
          "2022-10-02T00:00:00",
          "2022-10-03T00:00:00",
          "2022-10-04T00:00:00",
          "2022-10-05T00:00:00",
          "2022-10-06T00:00:00",
          "2022-10-07T00:00:00",
          "2022-10-08T00:00:00",
          "2022-10-09T00:00:00",
          "2022-10-10T00:00:00",
          "2022-10-11T00:00:00",
          "2022-10-12T00:00:00",
          "2022-10-13T00:00:00",
          "2022-10-14T00:00:00",
          "2022-10-15T00:00:00",
          "2022-10-16T00:00:00",
          "2022-10-17T00:00:00",
          "2022-10-18T00:00:00",
          "2022-10-19T00:00:00",
          "2022-10-20T00:00:00",
          "2022-10-21T00:00:00",
          "2022-10-22T00:00:00",
          "2022-10-23T00:00:00",
          "2022-10-24T00:00:00",
          "2022-10-25T00:00:00",
          "2022-10-26T00:00:00",
          "2022-10-27T00:00:00",
          "2022-10-28T00:00:00",
          "2022-10-29T00:00:00",
          "2022-10-30T00:00:00",
          "2022-10-31T00:00:00",
          "2022-11-01T00:00:00",
          "2022-11-02T00:00:00",
          "2022-11-03T00:00:00",
          "2022-11-04T00:00:00",
          "2022-11-05T00:00:00",
          "2022-11-06T00:00:00",
          "2022-11-07T00:00:00",
          "2022-11-08T00:00:00",
          "2022-11-09T00:00:00",
          "2022-11-10T00:00:00",
          "2022-11-11T00:00:00",
          "2022-11-12T00:00:00",
          "2022-11-13T00:00:00",
          "2022-11-14T00:00:00",
          "2022-11-15T00:00:00",
          "2022-11-16T00:00:00",
          "2022-11-17T00:00:00",
          "2022-11-18T00:00:00",
          "2022-11-19T00:00:00",
          "2022-11-20T00:00:00",
          "2022-11-21T00:00:00",
          "2022-11-22T00:00:00",
          "2022-11-23T00:00:00",
          "2022-11-24T00:00:00",
          "2022-11-25T00:00:00",
          "2022-11-26T00:00:00",
          "2022-11-27T00:00:00",
          "2022-11-28T00:00:00",
          "2022-11-29T00:00:00",
          "2022-11-30T00:00:00",
          "2022-12-01T00:00:00",
          "2022-12-02T00:00:00",
          "2022-12-03T00:00:00",
          "2022-12-04T00:00:00",
          "2022-12-05T00:00:00",
          "2022-12-06T00:00:00",
          "2022-12-07T00:00:00",
          "2022-12-08T00:00:00",
          "2022-12-09T00:00:00",
          "2022-12-10T00:00:00",
          "2022-12-11T00:00:00",
          "2022-12-12T00:00:00",
          "2022-12-13T00:00:00",
          "2022-12-14T00:00:00",
          "2022-12-15T00:00:00",
          "2022-12-16T00:00:00",
          "2022-12-17T00:00:00",
          "2022-12-18T00:00:00",
          "2022-12-19T00:00:00",
          "2022-12-20T00:00:00",
          "2022-12-21T00:00:00",
          "2022-12-22T00:00:00",
          "2022-12-23T00:00:00",
          "2022-12-24T00:00:00",
          "2022-12-25T00:00:00",
          "2022-12-26T00:00:00",
          "2022-12-27T00:00:00",
          "2022-12-28T00:00:00"
         ],
         "xaxis": "x",
         "y": [
          null,
          null,
          null,
          null,
          null,
          null,
          null,
          null,
          null,
          null,
          null,
          null,
          null,
          null,
          null,
          42354.48046875,
          42979.2109375,
          43165.50390625,
          43055.38671875,
          42892.82421875,
          42700.6640625,
          42229.2109375,
          41452.828125,
          39222.8125,
          37071.66796875,
          35978.64453125,
          35268.015625,
          34831.2578125,
          34953.4921875,
          35662.8046875,
          36655.8125,
          37239.36328125,
          37545.4375,
          37937.5859375,
          38106.703125,
          37612.609375,
          37299.890625,
          38587.30859375,
          39476,
          40573.23046875,
          41601.328125,
          42232.6953125,
          42847.4375,
          43040.5859375,
          42703.3203125,
          42551.51953125,
          42342.05859375,
          42501.0078125,
          43479.72265625,
          43824.8203125,
          42702.2734375,
          41396.953125,
          40434.95703125,
          38899.45703125,
          37688.21484375,
          37549.8671875,
          36946.47265625,
          36948.37890625,
          37553.515625,
          38165.1015625,
          37993.7734375,
          40214.25,
          41721.94921875,
          42196.66015625,
          42063.2578125,
          40666.58984375,
          40057.59765625,
          39026.76171875,
          38355.36328125,
          38368.3671875,
          39522.8046875,
          39325.81640625,
          39328.95703125,
          39028.8984375,
          38262.4296875,
          38651.125,
          38804.13671875,
          39682.07421875,
          40316.98828125,
          40972.8203125,
          41426.2890625,
          41312.05859375,
          41145.01953125,
          41552.6953125,
          42133.6015625,
          43074.015625,
          43695.61328125,
          44077.18359375,
          45361.25390625,
          46416.234375,
          46945.78125,
          47184.81640625,
          46632.125,
          46659.79296875,
          46301.453125,
          46628.12890625,
          46820.19140625,
          46338.078125,
          45002.09375,
          44084.8125,
          42620.53125,
          42030.78515625,
          41426.0234375,
          40228.84375,
          39695.87890625,
          39904.98046875,
          39292.44921875,
          39317.8671875,
          39819.29296875,
          39680.953125,
          40117.2578125,
          40623.4453125,
          40928.140625,
          40997.33984375,
          40403.1328125,
          39884.5390625,
          39570.0703125,
          39749.94921875,
          39002.68359375,
          39089.08984375,
          39199.31640625,
          38664.171875,
          38360.0625,
          38328.57421875,
          38074.33203125,
          37805.5078125,
          38581.04296875,
          37686.1015625,
          36995.65625,
          36129.3515625,
          34881.35546875,
          32883.95703125,
          31889.775390625,
          30252.67578125,
          29175.43359375,
          28526.4765625,
          28321.79296875,
          28732.93359375,
          28878.791015625,
          29250.318359375,
          29177.79296875,
          29743.224609375,
          29376.849609375,
          29351.955078125,
          29490.5859375,
          29323.4296875,
          29378.259765625,
          29402.484375,
          29333.283203125,
          28994.734375,
          28898.07421875,
          28978.263671875,
          29656.734375,
          30201.201171875,
          30133.916015625,
          30328.626953125,
          30005.78515625,
          29813.630859375,
          29750.982421875,
          30182.234375,
          30349.73828125,
          30340.416015625,
          30329.294921875,
          29868.40234375,
          29276.517578125,
          28381.83203125,
          26542.587890625,
          25148.6484375,
          24099.15625,
          22700.3515625,
          21738.49609375,
          20640.029296875,
          20249.646484375,
          19971.158203125,
          19881.91796875,
          19775.923828125,
          20018.72265625,
          20284.91015625,
          20573.0078125,
          20706.41015625,
          20800.912109375,
          20763.22265625,
          20690.43359375,
          20565.490234375,
          20324.798828125,
          20104.580078125,
          19899.513671875,
          19938.6015625,
          19927.533203125,
          20000.79296875,
          20293.60546875,
          20572.25,
          20810.08984375,
          20891.23828125,
          20790.673828125,
          20578.552734375,
          20571.11328125,
          20598.4609375,
          20654.3203125,
          20753.26171875,
          20737.1796875,
          21068.28515625,
          21510.7890625,
          21866.615234375,
          22202.501953125,
          22424.271484375,
          22581.2265625,
          22737.65234375,
          22560.767578125,
          22359.751953125,
          22515.111328125,
          22737.1875,
          22895,
          23023.734375,
          23089.734375,
          23166.98828125,
          23185.21875,
          23177.62109375,
          23126.888671875,
          23250.373046875,
          23159.017578125,
          23118.0390625,
          23233.505859375,
          23176.859375,
          23339.525390625,
          23475.783203125,
          23729.482421875,
          23945.216796875,
          24106.748046875,
          24183.03515625,
          24195.66015625,
          24026.392578125,
          23893.681640625,
          23180.3515625,
          22698.091796875,
          22329.763671875,
          21980.869140625,
          21736.201171875,
          21510.673828125,
          21409.826171875,
          21069.0859375,
          20803.927734375,
          20504.693359375,
          20437.611328125,
          20289.986328125,
          20247.78125,
          20198.27734375,
          20131.068359375,
          20028.9296875,
          19994.11328125,
          19933.193359375,
          19713.10546875,
          19662.21484375,
          19609.162109375,
          19974.587890625,
          20292.1328125,
          20592.798828125,
          20987.822265625,
          20901.06640625,
          20861.677734375,
          20703.177734375,
          20579.3203125,
          20519.302734375,
          20302.478515625,
          20162.48828125,
          19881.87109375,
          19547.958984375,
          19428.708984375,
          19308.896484375,
          19205.875,
          19135.828125,
          19168.3359375,
          19178.853515625,
          19239.572265625,
          19315.919921875,
          19348.4453125,
          19373.3203125,
          19349.1171875,
          19440.017578125,
          19644.498046875,
          19762.990234375,
          19825.908203125,
          19817.015625,
          19788.5390625,
          19758.873046875,
          19660.322265625,
          19562.22265625,
          19491.353515625,
          19475.310546875,
          19421.513671875,
          null,
          null,
          null,
          null,
          null,
          null,
          null,
          null,
          null,
          null,
          null,
          null,
          null,
          null,
          null,
          null,
          null,
          null,
          null,
          null,
          null,
          null,
          null,
          null,
          null,
          null,
          null,
          null,
          null,
          null,
          null,
          null,
          null,
          null,
          null,
          null,
          null,
          null,
          null,
          null,
          null,
          null,
          null,
          null,
          null,
          null,
          null,
          null,
          null,
          null,
          null,
          null,
          null,
          null,
          null,
          null,
          null,
          null,
          null,
          null,
          null,
          null,
          null,
          null,
          null,
          null,
          null,
          null,
          null,
          null,
          null,
          null,
          null,
          null
         ],
         "yaxis": "y"
        },
        {
         "hovertemplate": "variable=test_predicted_close<br>Date=%{x}<br>Price=%{y}<extra></extra>",
         "legendgroup": "test_predicted_close",
         "line": {
          "color": "#00cc96",
          "dash": "solid"
         },
         "marker": {
          "symbol": "circle"
         },
         "mode": "lines",
         "name": "Test predicted close price",
         "showlegend": true,
         "type": "scattergl",
         "x": [
          "2021-12-30T00:00:00",
          "2021-12-31T00:00:00",
          "2022-01-01T00:00:00",
          "2022-01-02T00:00:00",
          "2022-01-03T00:00:00",
          "2022-01-04T00:00:00",
          "2022-01-05T00:00:00",
          "2022-01-06T00:00:00",
          "2022-01-07T00:00:00",
          "2022-01-08T00:00:00",
          "2022-01-09T00:00:00",
          "2022-01-10T00:00:00",
          "2022-01-11T00:00:00",
          "2022-01-12T00:00:00",
          "2022-01-13T00:00:00",
          "2022-01-14T00:00:00",
          "2022-01-15T00:00:00",
          "2022-01-16T00:00:00",
          "2022-01-17T00:00:00",
          "2022-01-18T00:00:00",
          "2022-01-19T00:00:00",
          "2022-01-20T00:00:00",
          "2022-01-21T00:00:00",
          "2022-01-22T00:00:00",
          "2022-01-23T00:00:00",
          "2022-01-24T00:00:00",
          "2022-01-25T00:00:00",
          "2022-01-26T00:00:00",
          "2022-01-27T00:00:00",
          "2022-01-28T00:00:00",
          "2022-01-29T00:00:00",
          "2022-01-30T00:00:00",
          "2022-01-31T00:00:00",
          "2022-02-01T00:00:00",
          "2022-02-02T00:00:00",
          "2022-02-03T00:00:00",
          "2022-02-04T00:00:00",
          "2022-02-05T00:00:00",
          "2022-02-06T00:00:00",
          "2022-02-07T00:00:00",
          "2022-02-08T00:00:00",
          "2022-02-09T00:00:00",
          "2022-02-10T00:00:00",
          "2022-02-11T00:00:00",
          "2022-02-12T00:00:00",
          "2022-02-13T00:00:00",
          "2022-02-14T00:00:00",
          "2022-02-15T00:00:00",
          "2022-02-16T00:00:00",
          "2022-02-17T00:00:00",
          "2022-02-18T00:00:00",
          "2022-02-19T00:00:00",
          "2022-02-20T00:00:00",
          "2022-02-21T00:00:00",
          "2022-02-22T00:00:00",
          "2022-02-23T00:00:00",
          "2022-02-24T00:00:00",
          "2022-02-25T00:00:00",
          "2022-02-26T00:00:00",
          "2022-02-27T00:00:00",
          "2022-02-28T00:00:00",
          "2022-03-01T00:00:00",
          "2022-03-02T00:00:00",
          "2022-03-03T00:00:00",
          "2022-03-04T00:00:00",
          "2022-03-05T00:00:00",
          "2022-03-06T00:00:00",
          "2022-03-07T00:00:00",
          "2022-03-08T00:00:00",
          "2022-03-09T00:00:00",
          "2022-03-10T00:00:00",
          "2022-03-11T00:00:00",
          "2022-03-12T00:00:00",
          "2022-03-13T00:00:00",
          "2022-03-14T00:00:00",
          "2022-03-15T00:00:00",
          "2022-03-16T00:00:00",
          "2022-03-17T00:00:00",
          "2022-03-18T00:00:00",
          "2022-03-19T00:00:00",
          "2022-03-20T00:00:00",
          "2022-03-21T00:00:00",
          "2022-03-22T00:00:00",
          "2022-03-23T00:00:00",
          "2022-03-24T00:00:00",
          "2022-03-25T00:00:00",
          "2022-03-26T00:00:00",
          "2022-03-27T00:00:00",
          "2022-03-28T00:00:00",
          "2022-03-29T00:00:00",
          "2022-03-30T00:00:00",
          "2022-03-31T00:00:00",
          "2022-04-01T00:00:00",
          "2022-04-02T00:00:00",
          "2022-04-03T00:00:00",
          "2022-04-04T00:00:00",
          "2022-04-05T00:00:00",
          "2022-04-06T00:00:00",
          "2022-04-07T00:00:00",
          "2022-04-08T00:00:00",
          "2022-04-09T00:00:00",
          "2022-04-10T00:00:00",
          "2022-04-11T00:00:00",
          "2022-04-12T00:00:00",
          "2022-04-13T00:00:00",
          "2022-04-14T00:00:00",
          "2022-04-15T00:00:00",
          "2022-04-16T00:00:00",
          "2022-04-17T00:00:00",
          "2022-04-18T00:00:00",
          "2022-04-19T00:00:00",
          "2022-04-20T00:00:00",
          "2022-04-21T00:00:00",
          "2022-04-22T00:00:00",
          "2022-04-23T00:00:00",
          "2022-04-24T00:00:00",
          "2022-04-25T00:00:00",
          "2022-04-26T00:00:00",
          "2022-04-27T00:00:00",
          "2022-04-28T00:00:00",
          "2022-04-29T00:00:00",
          "2022-04-30T00:00:00",
          "2022-05-01T00:00:00",
          "2022-05-02T00:00:00",
          "2022-05-03T00:00:00",
          "2022-05-04T00:00:00",
          "2022-05-05T00:00:00",
          "2022-05-06T00:00:00",
          "2022-05-07T00:00:00",
          "2022-05-08T00:00:00",
          "2022-05-09T00:00:00",
          "2022-05-10T00:00:00",
          "2022-05-11T00:00:00",
          "2022-05-12T00:00:00",
          "2022-05-13T00:00:00",
          "2022-05-14T00:00:00",
          "2022-05-15T00:00:00",
          "2022-05-16T00:00:00",
          "2022-05-17T00:00:00",
          "2022-05-18T00:00:00",
          "2022-05-19T00:00:00",
          "2022-05-20T00:00:00",
          "2022-05-21T00:00:00",
          "2022-05-22T00:00:00",
          "2022-05-23T00:00:00",
          "2022-05-24T00:00:00",
          "2022-05-25T00:00:00",
          "2022-05-26T00:00:00",
          "2022-05-27T00:00:00",
          "2022-05-28T00:00:00",
          "2022-05-29T00:00:00",
          "2022-05-30T00:00:00",
          "2022-05-31T00:00:00",
          "2022-06-01T00:00:00",
          "2022-06-02T00:00:00",
          "2022-06-03T00:00:00",
          "2022-06-04T00:00:00",
          "2022-06-05T00:00:00",
          "2022-06-06T00:00:00",
          "2022-06-07T00:00:00",
          "2022-06-08T00:00:00",
          "2022-06-09T00:00:00",
          "2022-06-10T00:00:00",
          "2022-06-11T00:00:00",
          "2022-06-12T00:00:00",
          "2022-06-13T00:00:00",
          "2022-06-14T00:00:00",
          "2022-06-15T00:00:00",
          "2022-06-16T00:00:00",
          "2022-06-17T00:00:00",
          "2022-06-18T00:00:00",
          "2022-06-19T00:00:00",
          "2022-06-20T00:00:00",
          "2022-06-21T00:00:00",
          "2022-06-22T00:00:00",
          "2022-06-23T00:00:00",
          "2022-06-24T00:00:00",
          "2022-06-25T00:00:00",
          "2022-06-26T00:00:00",
          "2022-06-27T00:00:00",
          "2022-06-28T00:00:00",
          "2022-06-29T00:00:00",
          "2022-06-30T00:00:00",
          "2022-07-01T00:00:00",
          "2022-07-02T00:00:00",
          "2022-07-03T00:00:00",
          "2022-07-04T00:00:00",
          "2022-07-05T00:00:00",
          "2022-07-06T00:00:00",
          "2022-07-07T00:00:00",
          "2022-07-08T00:00:00",
          "2022-07-09T00:00:00",
          "2022-07-10T00:00:00",
          "2022-07-11T00:00:00",
          "2022-07-12T00:00:00",
          "2022-07-13T00:00:00",
          "2022-07-14T00:00:00",
          "2022-07-15T00:00:00",
          "2022-07-16T00:00:00",
          "2022-07-17T00:00:00",
          "2022-07-18T00:00:00",
          "2022-07-19T00:00:00",
          "2022-07-20T00:00:00",
          "2022-07-21T00:00:00",
          "2022-07-22T00:00:00",
          "2022-07-23T00:00:00",
          "2022-07-24T00:00:00",
          "2022-07-25T00:00:00",
          "2022-07-26T00:00:00",
          "2022-07-27T00:00:00",
          "2022-07-28T00:00:00",
          "2022-07-29T00:00:00",
          "2022-07-30T00:00:00",
          "2022-07-31T00:00:00",
          "2022-08-01T00:00:00",
          "2022-08-02T00:00:00",
          "2022-08-03T00:00:00",
          "2022-08-04T00:00:00",
          "2022-08-05T00:00:00",
          "2022-08-06T00:00:00",
          "2022-08-07T00:00:00",
          "2022-08-08T00:00:00",
          "2022-08-09T00:00:00",
          "2022-08-10T00:00:00",
          "2022-08-11T00:00:00",
          "2022-08-12T00:00:00",
          "2022-08-13T00:00:00",
          "2022-08-14T00:00:00",
          "2022-08-15T00:00:00",
          "2022-08-16T00:00:00",
          "2022-08-17T00:00:00",
          "2022-08-18T00:00:00",
          "2022-08-19T00:00:00",
          "2022-08-20T00:00:00",
          "2022-08-21T00:00:00",
          "2022-08-22T00:00:00",
          "2022-08-23T00:00:00",
          "2022-08-24T00:00:00",
          "2022-08-25T00:00:00",
          "2022-08-26T00:00:00",
          "2022-08-27T00:00:00",
          "2022-08-28T00:00:00",
          "2022-08-29T00:00:00",
          "2022-08-30T00:00:00",
          "2022-08-31T00:00:00",
          "2022-09-01T00:00:00",
          "2022-09-02T00:00:00",
          "2022-09-03T00:00:00",
          "2022-09-04T00:00:00",
          "2022-09-05T00:00:00",
          "2022-09-06T00:00:00",
          "2022-09-07T00:00:00",
          "2022-09-08T00:00:00",
          "2022-09-09T00:00:00",
          "2022-09-10T00:00:00",
          "2022-09-11T00:00:00",
          "2022-09-12T00:00:00",
          "2022-09-13T00:00:00",
          "2022-09-14T00:00:00",
          "2022-09-15T00:00:00",
          "2022-09-16T00:00:00",
          "2022-09-17T00:00:00",
          "2022-09-18T00:00:00",
          "2022-09-19T00:00:00",
          "2022-09-20T00:00:00",
          "2022-09-21T00:00:00",
          "2022-09-22T00:00:00",
          "2022-09-23T00:00:00",
          "2022-09-24T00:00:00",
          "2022-09-25T00:00:00",
          "2022-09-26T00:00:00",
          "2022-09-27T00:00:00",
          "2022-09-28T00:00:00",
          "2022-09-29T00:00:00",
          "2022-09-30T00:00:00",
          "2022-10-01T00:00:00",
          "2022-10-02T00:00:00",
          "2022-10-03T00:00:00",
          "2022-10-04T00:00:00",
          "2022-10-05T00:00:00",
          "2022-10-06T00:00:00",
          "2022-10-07T00:00:00",
          "2022-10-08T00:00:00",
          "2022-10-09T00:00:00",
          "2022-10-10T00:00:00",
          "2022-10-11T00:00:00",
          "2022-10-12T00:00:00",
          "2022-10-13T00:00:00",
          "2022-10-14T00:00:00",
          "2022-10-15T00:00:00",
          "2022-10-16T00:00:00",
          "2022-10-17T00:00:00",
          "2022-10-18T00:00:00",
          "2022-10-19T00:00:00",
          "2022-10-20T00:00:00",
          "2022-10-21T00:00:00",
          "2022-10-22T00:00:00",
          "2022-10-23T00:00:00",
          "2022-10-24T00:00:00",
          "2022-10-25T00:00:00",
          "2022-10-26T00:00:00",
          "2022-10-27T00:00:00",
          "2022-10-28T00:00:00",
          "2022-10-29T00:00:00",
          "2022-10-30T00:00:00",
          "2022-10-31T00:00:00",
          "2022-11-01T00:00:00",
          "2022-11-02T00:00:00",
          "2022-11-03T00:00:00",
          "2022-11-04T00:00:00",
          "2022-11-05T00:00:00",
          "2022-11-06T00:00:00",
          "2022-11-07T00:00:00",
          "2022-11-08T00:00:00",
          "2022-11-09T00:00:00",
          "2022-11-10T00:00:00",
          "2022-11-11T00:00:00",
          "2022-11-12T00:00:00",
          "2022-11-13T00:00:00",
          "2022-11-14T00:00:00",
          "2022-11-15T00:00:00",
          "2022-11-16T00:00:00",
          "2022-11-17T00:00:00",
          "2022-11-18T00:00:00",
          "2022-11-19T00:00:00",
          "2022-11-20T00:00:00",
          "2022-11-21T00:00:00",
          "2022-11-22T00:00:00",
          "2022-11-23T00:00:00",
          "2022-11-24T00:00:00",
          "2022-11-25T00:00:00",
          "2022-11-26T00:00:00",
          "2022-11-27T00:00:00",
          "2022-11-28T00:00:00",
          "2022-11-29T00:00:00",
          "2022-11-30T00:00:00",
          "2022-12-01T00:00:00",
          "2022-12-02T00:00:00",
          "2022-12-03T00:00:00",
          "2022-12-04T00:00:00",
          "2022-12-05T00:00:00",
          "2022-12-06T00:00:00",
          "2022-12-07T00:00:00",
          "2022-12-08T00:00:00",
          "2022-12-09T00:00:00",
          "2022-12-10T00:00:00",
          "2022-12-11T00:00:00",
          "2022-12-12T00:00:00",
          "2022-12-13T00:00:00",
          "2022-12-14T00:00:00",
          "2022-12-15T00:00:00",
          "2022-12-16T00:00:00",
          "2022-12-17T00:00:00",
          "2022-12-18T00:00:00",
          "2022-12-19T00:00:00",
          "2022-12-20T00:00:00",
          "2022-12-21T00:00:00",
          "2022-12-22T00:00:00",
          "2022-12-23T00:00:00",
          "2022-12-24T00:00:00",
          "2022-12-25T00:00:00",
          "2022-12-26T00:00:00",
          "2022-12-27T00:00:00",
          "2022-12-28T00:00:00"
         ],
         "xaxis": "x",
         "y": [
          null,
          null,
          null,
          null,
          null,
          null,
          null,
          null,
          null,
          null,
          null,
          null,
          null,
          null,
          null,
          null,
          null,
          null,
          null,
          null,
          null,
          null,
          null,
          null,
          null,
          null,
          null,
          null,
          null,
          null,
          null,
          null,
          null,
          null,
          null,
          null,
          null,
          null,
          null,
          null,
          null,
          null,
          null,
          null,
          null,
          null,
          null,
          null,
          null,
          null,
          null,
          null,
          null,
          null,
          null,
          null,
          null,
          null,
          null,
          null,
          null,
          null,
          null,
          null,
          null,
          null,
          null,
          null,
          null,
          null,
          null,
          null,
          null,
          null,
          null,
          null,
          null,
          null,
          null,
          null,
          null,
          null,
          null,
          null,
          null,
          null,
          null,
          null,
          null,
          null,
          null,
          null,
          null,
          null,
          null,
          null,
          null,
          null,
          null,
          null,
          null,
          null,
          null,
          null,
          null,
          null,
          null,
          null,
          null,
          null,
          null,
          null,
          null,
          null,
          null,
          null,
          null,
          null,
          null,
          null,
          null,
          null,
          null,
          null,
          null,
          null,
          null,
          null,
          null,
          null,
          null,
          null,
          null,
          null,
          null,
          null,
          null,
          null,
          null,
          null,
          null,
          null,
          null,
          null,
          null,
          null,
          null,
          null,
          null,
          null,
          null,
          null,
          null,
          null,
          null,
          null,
          null,
          null,
          null,
          null,
          null,
          null,
          null,
          null,
          null,
          null,
          null,
          null,
          null,
          null,
          null,
          null,
          null,
          null,
          null,
          null,
          null,
          null,
          null,
          null,
          null,
          null,
          null,
          null,
          null,
          null,
          null,
          null,
          null,
          null,
          null,
          null,
          null,
          null,
          null,
          null,
          null,
          null,
          null,
          null,
          null,
          null,
          null,
          null,
          null,
          null,
          null,
          null,
          null,
          null,
          null,
          null,
          null,
          null,
          null,
          null,
          null,
          null,
          null,
          null,
          null,
          null,
          null,
          null,
          null,
          null,
          null,
          null,
          null,
          null,
          null,
          null,
          null,
          null,
          null,
          null,
          null,
          null,
          null,
          null,
          null,
          null,
          null,
          null,
          null,
          null,
          null,
          null,
          null,
          null,
          null,
          null,
          null,
          null,
          null,
          null,
          null,
          null,
          null,
          null,
          null,
          null,
          null,
          null,
          null,
          null,
          null,
          null,
          null,
          null,
          null,
          null,
          null,
          null,
          null,
          null,
          null,
          null,
          null,
          null,
          null,
          null,
          null,
          null,
          null,
          null,
          null,
          null,
          null,
          null,
          null,
          null,
          null,
          null,
          null,
          null,
          null,
          null,
          null,
          null,
          null,
          null,
          null,
          null,
          null,
          null,
          20479.044921875,
          20544.107421875,
          20520.94140625,
          20505.349609375,
          20665.55859375,
          20796.287109375,
          20836.80859375,
          20794.791015625,
          20352.1953125,
          19484.21875,
          19158.25,
          18695.892578125,
          18282.3125,
          17861.81640625,
          17584.572265625,
          17402.974609375,
          17206.07421875,
          17078.0390625,
          16999.109375,
          16970.5546875,
          16902.146484375,
          16789.509765625,
          16788.447265625,
          16836.013671875,
          16848.498046875,
          16856.94140625,
          16852.27734375,
          16846.013671875,
          16798.498046875,
          16804.55078125,
          16934.828125,
          17002.08984375,
          17086.40234375,
          17126.5234375,
          17200.0703125,
          17231.515625,
          17274.26953125,
          17266.1796875,
          17328.73046875,
          17355.7421875,
          17377.67578125,
          17388.900390625,
          17413.310546875,
          17527.673828125,
          17623.85546875,
          17635.578125,
          17525.345703125,
          17465.845703125,
          17394.84375,
          17274.943359375,
          17260.447265625,
          17221.939453125,
          17192.130859375,
          17163.859375,
          17150.701171875,
          17142.1796875,
          17152.00390625,
          null
         ],
         "yaxis": "y"
        }
       ],
       "layout": {
        "font": {
         "color": "black",
         "size": 15
        },
        "legend": {
         "title": {
          "text": "Close Price"
         },
         "tracegroupgap": 0
        },
        "margin": {
         "t": 60
        },
        "plot_bgcolor": "white",
        "template": {
         "data": {
          "bar": [
           {
            "error_x": {
             "color": "#2a3f5f"
            },
            "error_y": {
             "color": "#2a3f5f"
            },
            "marker": {
             "line": {
              "color": "#E5ECF6",
              "width": 0.5
             },
             "pattern": {
              "fillmode": "overlay",
              "size": 10,
              "solidity": 0.2
             }
            },
            "type": "bar"
           }
          ],
          "barpolar": [
           {
            "marker": {
             "line": {
              "color": "#E5ECF6",
              "width": 0.5
             },
             "pattern": {
              "fillmode": "overlay",
              "size": 10,
              "solidity": 0.2
             }
            },
            "type": "barpolar"
           }
          ],
          "carpet": [
           {
            "aaxis": {
             "endlinecolor": "#2a3f5f",
             "gridcolor": "white",
             "linecolor": "white",
             "minorgridcolor": "white",
             "startlinecolor": "#2a3f5f"
            },
            "baxis": {
             "endlinecolor": "#2a3f5f",
             "gridcolor": "white",
             "linecolor": "white",
             "minorgridcolor": "white",
             "startlinecolor": "#2a3f5f"
            },
            "type": "carpet"
           }
          ],
          "choropleth": [
           {
            "colorbar": {
             "outlinewidth": 0,
             "ticks": ""
            },
            "type": "choropleth"
           }
          ],
          "contour": [
           {
            "colorbar": {
             "outlinewidth": 0,
             "ticks": ""
            },
            "colorscale": [
             [
              0,
              "#0d0887"
             ],
             [
              0.1111111111111111,
              "#46039f"
             ],
             [
              0.2222222222222222,
              "#7201a8"
             ],
             [
              0.3333333333333333,
              "#9c179e"
             ],
             [
              0.4444444444444444,
              "#bd3786"
             ],
             [
              0.5555555555555556,
              "#d8576b"
             ],
             [
              0.6666666666666666,
              "#ed7953"
             ],
             [
              0.7777777777777778,
              "#fb9f3a"
             ],
             [
              0.8888888888888888,
              "#fdca26"
             ],
             [
              1,
              "#f0f921"
             ]
            ],
            "type": "contour"
           }
          ],
          "contourcarpet": [
           {
            "colorbar": {
             "outlinewidth": 0,
             "ticks": ""
            },
            "type": "contourcarpet"
           }
          ],
          "heatmap": [
           {
            "colorbar": {
             "outlinewidth": 0,
             "ticks": ""
            },
            "colorscale": [
             [
              0,
              "#0d0887"
             ],
             [
              0.1111111111111111,
              "#46039f"
             ],
             [
              0.2222222222222222,
              "#7201a8"
             ],
             [
              0.3333333333333333,
              "#9c179e"
             ],
             [
              0.4444444444444444,
              "#bd3786"
             ],
             [
              0.5555555555555556,
              "#d8576b"
             ],
             [
              0.6666666666666666,
              "#ed7953"
             ],
             [
              0.7777777777777778,
              "#fb9f3a"
             ],
             [
              0.8888888888888888,
              "#fdca26"
             ],
             [
              1,
              "#f0f921"
             ]
            ],
            "type": "heatmap"
           }
          ],
          "heatmapgl": [
           {
            "colorbar": {
             "outlinewidth": 0,
             "ticks": ""
            },
            "colorscale": [
             [
              0,
              "#0d0887"
             ],
             [
              0.1111111111111111,
              "#46039f"
             ],
             [
              0.2222222222222222,
              "#7201a8"
             ],
             [
              0.3333333333333333,
              "#9c179e"
             ],
             [
              0.4444444444444444,
              "#bd3786"
             ],
             [
              0.5555555555555556,
              "#d8576b"
             ],
             [
              0.6666666666666666,
              "#ed7953"
             ],
             [
              0.7777777777777778,
              "#fb9f3a"
             ],
             [
              0.8888888888888888,
              "#fdca26"
             ],
             [
              1,
              "#f0f921"
             ]
            ],
            "type": "heatmapgl"
           }
          ],
          "histogram": [
           {
            "marker": {
             "pattern": {
              "fillmode": "overlay",
              "size": 10,
              "solidity": 0.2
             }
            },
            "type": "histogram"
           }
          ],
          "histogram2d": [
           {
            "colorbar": {
             "outlinewidth": 0,
             "ticks": ""
            },
            "colorscale": [
             [
              0,
              "#0d0887"
             ],
             [
              0.1111111111111111,
              "#46039f"
             ],
             [
              0.2222222222222222,
              "#7201a8"
             ],
             [
              0.3333333333333333,
              "#9c179e"
             ],
             [
              0.4444444444444444,
              "#bd3786"
             ],
             [
              0.5555555555555556,
              "#d8576b"
             ],
             [
              0.6666666666666666,
              "#ed7953"
             ],
             [
              0.7777777777777778,
              "#fb9f3a"
             ],
             [
              0.8888888888888888,
              "#fdca26"
             ],
             [
              1,
              "#f0f921"
             ]
            ],
            "type": "histogram2d"
           }
          ],
          "histogram2dcontour": [
           {
            "colorbar": {
             "outlinewidth": 0,
             "ticks": ""
            },
            "colorscale": [
             [
              0,
              "#0d0887"
             ],
             [
              0.1111111111111111,
              "#46039f"
             ],
             [
              0.2222222222222222,
              "#7201a8"
             ],
             [
              0.3333333333333333,
              "#9c179e"
             ],
             [
              0.4444444444444444,
              "#bd3786"
             ],
             [
              0.5555555555555556,
              "#d8576b"
             ],
             [
              0.6666666666666666,
              "#ed7953"
             ],
             [
              0.7777777777777778,
              "#fb9f3a"
             ],
             [
              0.8888888888888888,
              "#fdca26"
             ],
             [
              1,
              "#f0f921"
             ]
            ],
            "type": "histogram2dcontour"
           }
          ],
          "mesh3d": [
           {
            "colorbar": {
             "outlinewidth": 0,
             "ticks": ""
            },
            "type": "mesh3d"
           }
          ],
          "parcoords": [
           {
            "line": {
             "colorbar": {
              "outlinewidth": 0,
              "ticks": ""
             }
            },
            "type": "parcoords"
           }
          ],
          "pie": [
           {
            "automargin": true,
            "type": "pie"
           }
          ],
          "scatter": [
           {
            "fillpattern": {
             "fillmode": "overlay",
             "size": 10,
             "solidity": 0.2
            },
            "type": "scatter"
           }
          ],
          "scatter3d": [
           {
            "line": {
             "colorbar": {
              "outlinewidth": 0,
              "ticks": ""
             }
            },
            "marker": {
             "colorbar": {
              "outlinewidth": 0,
              "ticks": ""
             }
            },
            "type": "scatter3d"
           }
          ],
          "scattercarpet": [
           {
            "marker": {
             "colorbar": {
              "outlinewidth": 0,
              "ticks": ""
             }
            },
            "type": "scattercarpet"
           }
          ],
          "scattergeo": [
           {
            "marker": {
             "colorbar": {
              "outlinewidth": 0,
              "ticks": ""
             }
            },
            "type": "scattergeo"
           }
          ],
          "scattergl": [
           {
            "marker": {
             "colorbar": {
              "outlinewidth": 0,
              "ticks": ""
             }
            },
            "type": "scattergl"
           }
          ],
          "scattermapbox": [
           {
            "marker": {
             "colorbar": {
              "outlinewidth": 0,
              "ticks": ""
             }
            },
            "type": "scattermapbox"
           }
          ],
          "scatterpolar": [
           {
            "marker": {
             "colorbar": {
              "outlinewidth": 0,
              "ticks": ""
             }
            },
            "type": "scatterpolar"
           }
          ],
          "scatterpolargl": [
           {
            "marker": {
             "colorbar": {
              "outlinewidth": 0,
              "ticks": ""
             }
            },
            "type": "scatterpolargl"
           }
          ],
          "scatterternary": [
           {
            "marker": {
             "colorbar": {
              "outlinewidth": 0,
              "ticks": ""
             }
            },
            "type": "scatterternary"
           }
          ],
          "surface": [
           {
            "colorbar": {
             "outlinewidth": 0,
             "ticks": ""
            },
            "colorscale": [
             [
              0,
              "#0d0887"
             ],
             [
              0.1111111111111111,
              "#46039f"
             ],
             [
              0.2222222222222222,
              "#7201a8"
             ],
             [
              0.3333333333333333,
              "#9c179e"
             ],
             [
              0.4444444444444444,
              "#bd3786"
             ],
             [
              0.5555555555555556,
              "#d8576b"
             ],
             [
              0.6666666666666666,
              "#ed7953"
             ],
             [
              0.7777777777777778,
              "#fb9f3a"
             ],
             [
              0.8888888888888888,
              "#fdca26"
             ],
             [
              1,
              "#f0f921"
             ]
            ],
            "type": "surface"
           }
          ],
          "table": [
           {
            "cells": {
             "fill": {
              "color": "#EBF0F8"
             },
             "line": {
              "color": "white"
             }
            },
            "header": {
             "fill": {
              "color": "#C8D4E3"
             },
             "line": {
              "color": "white"
             }
            },
            "type": "table"
           }
          ]
         },
         "layout": {
          "annotationdefaults": {
           "arrowcolor": "#2a3f5f",
           "arrowhead": 0,
           "arrowwidth": 1
          },
          "autotypenumbers": "strict",
          "coloraxis": {
           "colorbar": {
            "outlinewidth": 0,
            "ticks": ""
           }
          },
          "colorscale": {
           "diverging": [
            [
             0,
             "#8e0152"
            ],
            [
             0.1,
             "#c51b7d"
            ],
            [
             0.2,
             "#de77ae"
            ],
            [
             0.3,
             "#f1b6da"
            ],
            [
             0.4,
             "#fde0ef"
            ],
            [
             0.5,
             "#f7f7f7"
            ],
            [
             0.6,
             "#e6f5d0"
            ],
            [
             0.7,
             "#b8e186"
            ],
            [
             0.8,
             "#7fbc41"
            ],
            [
             0.9,
             "#4d9221"
            ],
            [
             1,
             "#276419"
            ]
           ],
           "sequential": [
            [
             0,
             "#0d0887"
            ],
            [
             0.1111111111111111,
             "#46039f"
            ],
            [
             0.2222222222222222,
             "#7201a8"
            ],
            [
             0.3333333333333333,
             "#9c179e"
            ],
            [
             0.4444444444444444,
             "#bd3786"
            ],
            [
             0.5555555555555556,
             "#d8576b"
            ],
            [
             0.6666666666666666,
             "#ed7953"
            ],
            [
             0.7777777777777778,
             "#fb9f3a"
            ],
            [
             0.8888888888888888,
             "#fdca26"
            ],
            [
             1,
             "#f0f921"
            ]
           ],
           "sequentialminus": [
            [
             0,
             "#0d0887"
            ],
            [
             0.1111111111111111,
             "#46039f"
            ],
            [
             0.2222222222222222,
             "#7201a8"
            ],
            [
             0.3333333333333333,
             "#9c179e"
            ],
            [
             0.4444444444444444,
             "#bd3786"
            ],
            [
             0.5555555555555556,
             "#d8576b"
            ],
            [
             0.6666666666666666,
             "#ed7953"
            ],
            [
             0.7777777777777778,
             "#fb9f3a"
            ],
            [
             0.8888888888888888,
             "#fdca26"
            ],
            [
             1,
             "#f0f921"
            ]
           ]
          },
          "colorway": [
           "#636efa",
           "#EF553B",
           "#00cc96",
           "#ab63fa",
           "#FFA15A",
           "#19d3f3",
           "#FF6692",
           "#B6E880",
           "#FF97FF",
           "#FECB52"
          ],
          "font": {
           "color": "#2a3f5f"
          },
          "geo": {
           "bgcolor": "white",
           "lakecolor": "white",
           "landcolor": "#E5ECF6",
           "showlakes": true,
           "showland": true,
           "subunitcolor": "white"
          },
          "hoverlabel": {
           "align": "left"
          },
          "hovermode": "closest",
          "mapbox": {
           "style": "light"
          },
          "paper_bgcolor": "white",
          "plot_bgcolor": "#E5ECF6",
          "polar": {
           "angularaxis": {
            "gridcolor": "white",
            "linecolor": "white",
            "ticks": ""
           },
           "bgcolor": "#E5ECF6",
           "radialaxis": {
            "gridcolor": "white",
            "linecolor": "white",
            "ticks": ""
           }
          },
          "scene": {
           "xaxis": {
            "backgroundcolor": "#E5ECF6",
            "gridcolor": "white",
            "gridwidth": 2,
            "linecolor": "white",
            "showbackground": true,
            "ticks": "",
            "zerolinecolor": "white"
           },
           "yaxis": {
            "backgroundcolor": "#E5ECF6",
            "gridcolor": "white",
            "gridwidth": 2,
            "linecolor": "white",
            "showbackground": true,
            "ticks": "",
            "zerolinecolor": "white"
           },
           "zaxis": {
            "backgroundcolor": "#E5ECF6",
            "gridcolor": "white",
            "gridwidth": 2,
            "linecolor": "white",
            "showbackground": true,
            "ticks": "",
            "zerolinecolor": "white"
           }
          },
          "shapedefaults": {
           "line": {
            "color": "#2a3f5f"
           }
          },
          "ternary": {
           "aaxis": {
            "gridcolor": "white",
            "linecolor": "white",
            "ticks": ""
           },
           "baxis": {
            "gridcolor": "white",
            "linecolor": "white",
            "ticks": ""
           },
           "bgcolor": "#E5ECF6",
           "caxis": {
            "gridcolor": "white",
            "linecolor": "white",
            "ticks": ""
           }
          },
          "title": {
           "x": 0.05
          },
          "xaxis": {
           "automargin": true,
           "gridcolor": "white",
           "linecolor": "white",
           "ticks": "",
           "title": {
            "standoff": 15
           },
           "zerolinecolor": "white",
           "zerolinewidth": 2
          },
          "yaxis": {
           "automargin": true,
           "gridcolor": "white",
           "linecolor": "white",
           "ticks": "",
           "title": {
            "standoff": 15
           },
           "zerolinecolor": "white",
           "zerolinewidth": 2
          }
         }
        },
        "title": {
         "text": "Comparision between original close price vs predicted close price"
        },
        "xaxis": {
         "anchor": "y",
         "domain": [
          0,
          1
         ],
         "showgrid": false,
         "title": {
          "text": "Date"
         }
        },
        "yaxis": {
         "anchor": "x",
         "domain": [
          0,
          1
         ],
         "showgrid": false,
         "title": {
          "text": "Price"
         }
        }
       }
      }
     },
     "metadata": {},
     "output_type": "display_data"
    }
   ],
   "source": [
    "# shift train predictions for plotting\n",
    "\n",
    "look_back=time_step\n",
    "trainPredictPlot = np.empty_like(closedf)\n",
    "trainPredictPlot[:, :] = np.nan\n",
    "trainPredictPlot[look_back:len(train_predict)+look_back, :] = train_predict\n",
    "print(\"Train predicted data: \", trainPredictPlot.shape)\n",
    "\n",
    "# shift test predictions for plotting\n",
    "testPredictPlot = np.empty_like(closedf)\n",
    "testPredictPlot[:, :] = np.nan\n",
    "testPredictPlot[len(train_predict)+(look_back*2)+1:len(closedf)-1, :] = test_predict\n",
    "print(\"Test predicted data: \", testPredictPlot.shape)\n",
    "\n",
    "names = cycle(['Original close price','Train predicted close price','Test predicted close price'])\n",
    "\n",
    "\n",
    "plotdf = pd.DataFrame({'date': close_stock['Date'],\n",
    "                       'original_close': close_stock['Close'],\n",
    "                      'train_predicted_close': trainPredictPlot.reshape(1,-1)[0].tolist(),\n",
    "                      'test_predicted_close': testPredictPlot.reshape(1,-1)[0].tolist()})\n",
    "\n",
    "fig = px.line(plotdf,x=plotdf['date'], y=[plotdf['original_close'],plotdf['train_predicted_close'],\n",
    "                                          plotdf['test_predicted_close']],\n",
    "              labels={'value':'Price','date': 'Date'})\n",
    "fig.update_layout(title_text='Comparision between original close price vs predicted close price',\n",
    "                  plot_bgcolor='white', font_size=15, font_color='black', legend_title_text='Close Price')\n",
    "fig.for_each_trace(lambda t:  t.update(name = next(names)))\n",
    "\n",
    "fig.update_xaxes(showgrid=False)\n",
    "fig.update_yaxes(showgrid=False)\n",
    "fig.show()"
   ]
  },
  {
   "cell_type": "markdown",
   "id": "5a76afb6",
   "metadata": {
    "papermill": {
     "duration": 0.262192,
     "end_time": "2021-08-25T15:26:30.261950",
     "exception": false,
     "start_time": "2021-08-25T15:26:29.999758",
     "status": "completed"
    },
    "tags": []
   },
   "source": [
    "- # Predicting next 30 days"
   ]
  },
  {
   "cell_type": "code",
   "execution_count": 67,
   "id": "beb49f38",
   "metadata": {
    "execution": {
     "iopub.execute_input": "2021-08-25T15:26:30.798401Z",
     "iopub.status.busy": "2021-08-25T15:26:30.797744Z",
     "iopub.status.idle": "2021-08-25T15:26:31.897580Z",
     "shell.execute_reply": "2021-08-25T15:26:31.897011Z",
     "shell.execute_reply.started": "2021-08-25T14:39:47.958774Z"
    },
    "papermill": {
     "duration": 1.372971,
     "end_time": "2021-08-25T15:26:31.897712",
     "exception": false,
     "start_time": "2021-08-25T15:26:30.524741",
     "status": "completed"
    },
    "tags": []
   },
   "outputs": [
    {
     "name": "stdout",
     "output_type": "stream",
     "text": [
      "Output of predicted next days:  30\n"
     ]
    }
   ],
   "source": [
    "x_input=test_data[len(test_data)-time_step:].reshape(1,-1)\n",
    "temp_input=list(x_input)\n",
    "temp_input=temp_input[0].tolist()\n",
    "\n",
    "from numpy import array\n",
    "\n",
    "lst_output=[]\n",
    "n_steps=time_step\n",
    "i=0\n",
    "pred_days = 30\n",
    "while(i<pred_days):\n",
    "    \n",
    "    if(len(temp_input)>time_step):\n",
    "        \n",
    "        x_input=np.array(temp_input[1:])\n",
    "        #print(\"{} day input {}\".format(i,x_input))\n",
    "        x_input = x_input.reshape(1,-1)\n",
    "        x_input = x_input.reshape((1, n_steps, 1))\n",
    "        \n",
    "        yhat = model.predict(x_input, verbose=0)\n",
    "        #print(\"{} day output {}\".format(i,yhat))\n",
    "        temp_input.extend(yhat[0].tolist())\n",
    "        temp_input=temp_input[1:]\n",
    "        #print(temp_input)\n",
    "       \n",
    "        lst_output.extend(yhat.tolist())\n",
    "        i=i+1\n",
    "        \n",
    "    else:\n",
    "        \n",
    "        x_input = x_input.reshape((1, n_steps,1))\n",
    "        yhat = model.predict(x_input, verbose=0)\n",
    "        temp_input.extend(yhat[0].tolist())\n",
    "        \n",
    "        lst_output.extend(yhat.tolist())\n",
    "        i=i+1\n",
    "               \n",
    "print(\"Output of predicted next days: \", len(lst_output))"
   ]
  },
  {
   "cell_type": "markdown",
   "id": "26860945",
   "metadata": {
    "papermill": {
     "duration": 0.270338,
     "end_time": "2021-08-25T15:26:32.433546",
     "exception": false,
     "start_time": "2021-08-25T15:26:32.163208",
     "status": "completed"
    },
    "tags": []
   },
   "source": [
    "- # Plotting last 15 days of dataset and next predicted 30 days"
   ]
  },
  {
   "cell_type": "code",
   "execution_count": 68,
   "id": "64fa43b6",
   "metadata": {
    "execution": {
     "iopub.execute_input": "2021-08-25T15:26:32.971099Z",
     "iopub.status.busy": "2021-08-25T15:26:32.970125Z",
     "iopub.status.idle": "2021-08-25T15:26:32.973799Z",
     "shell.execute_reply": "2021-08-25T15:26:32.974493Z",
     "shell.execute_reply.started": "2021-08-25T14:39:49.134916Z"
    },
    "papermill": {
     "duration": 0.277919,
     "end_time": "2021-08-25T15:26:32.974715",
     "exception": false,
     "start_time": "2021-08-25T15:26:32.696796",
     "status": "completed"
    },
    "tags": []
   },
   "outputs": [
    {
     "name": "stdout",
     "output_type": "stream",
     "text": [
      "[ 1  2  3  4  5  6  7  8  9 10 11 12 13 14 15]\n",
      "[16 17 18 19 20 21 22 23 24 25 26 27 28 29 30 31 32 33 34 35 36 37 38 39\n",
      " 40 41 42 43 44 45]\n"
     ]
    }
   ],
   "source": [
    "last_days=np.arange(1,time_step+1)\n",
    "day_pred=np.arange(time_step+1,time_step+pred_days+1)\n",
    "print(last_days)\n",
    "print(day_pred)"
   ]
  },
  {
   "cell_type": "code",
   "execution_count": 69,
   "id": "e398443a",
   "metadata": {
    "execution": {
     "iopub.execute_input": "2021-08-25T15:26:33.522339Z",
     "iopub.status.busy": "2021-08-25T15:26:33.518904Z",
     "iopub.status.idle": "2021-08-25T15:26:33.599954Z",
     "shell.execute_reply": "2021-08-25T15:26:33.600419Z",
     "shell.execute_reply.started": "2021-08-25T14:39:49.142322Z"
    },
    "papermill": {
     "duration": 0.361255,
     "end_time": "2021-08-25T15:26:33.600604",
     "exception": false,
     "start_time": "2021-08-25T15:26:33.239349",
     "status": "completed"
    },
    "tags": []
   },
   "outputs": [
    {
     "data": {
      "application/vnd.plotly.v1+json": {
       "config": {
        "plotlyServerURL": "https://plot.ly"
       },
       "data": [
        {
         "hovertemplate": "variable=last_original_days_value<br>Timestamp=%{x}<br>Price=%{y}<extra></extra>",
         "legendgroup": "last_original_days_value",
         "line": {
          "color": "#636efa",
          "dash": "solid"
         },
         "marker": {
          "symbol": "circle"
         },
         "mode": "lines",
         "name": "Last 15 days close price",
         "orientation": "v",
         "showlegend": true,
         "type": "scatter",
         "x": [
          0,
          1,
          2,
          3,
          4,
          5,
          6,
          7,
          8,
          9,
          10,
          11,
          12,
          13,
          14,
          15,
          16,
          17,
          18,
          19,
          20,
          21,
          22,
          23,
          24,
          25,
          26,
          27,
          28,
          29,
          30,
          31,
          32,
          33,
          34,
          35,
          36,
          37,
          38,
          39,
          40,
          41,
          42,
          43,
          44,
          45
         ],
         "xaxis": "x",
         "y": [
          17815.650390625,
          17364.865234375,
          16647.484375,
          16795.091796875,
          16757.9765625,
          16439.6796875,
          16906.3046875,
          16817.53515625,
          16830.341796875,
          16796.953125,
          16847.755859375,
          16841.986328125,
          16919.8046875,
          16717.173828125,
          16552.572265625,
          null,
          17090.653424877943,
          17158.14410135596,
          17216.30171433874,
          17271.83996617708,
          17329.793658294067,
          17390.515730649728,
          17449.501148266034,
          17512.18756322752,
          17574.473504227622,
          17636.374895156798,
          17697.061317011445,
          17756.77186581836,
          17814.815397197897,
          17871.6225692023,
          17924.713295311085,
          17973.724178083925,
          18024.569397968895,
          18074.505767748036,
          18123.379752596986,
          18171.153325314663,
          18217.845499501607,
          18263.500719449083,
          18308.13277001748,
          18351.8155665789,
          18394.595930124677,
          18436.52709873632,
          18477.651140005022,
          18518.00822016193,
          18557.638980778196,
          18596.57360594468
         ],
         "yaxis": "y"
        },
        {
         "hovertemplate": "variable=next_predicted_days_value<br>Timestamp=%{x}<br>Price=%{y}<extra></extra>",
         "legendgroup": "next_predicted_days_value",
         "line": {
          "color": "#EF553B",
          "dash": "solid"
         },
         "marker": {
          "symbol": "circle"
         },
         "mode": "lines",
         "name": "Predicted next 30 days close price",
         "orientation": "v",
         "showlegend": true,
         "type": "scatter",
         "x": [
          0,
          1,
          2,
          3,
          4,
          5,
          6,
          7,
          8,
          9,
          10,
          11,
          12,
          13,
          14,
          15,
          16,
          17,
          18,
          19,
          20,
          21,
          22,
          23,
          24,
          25,
          26,
          27,
          28,
          29,
          30,
          31,
          32,
          33,
          34,
          35,
          36,
          37,
          38,
          39,
          40,
          41,
          42,
          43,
          44,
          45
         ],
         "xaxis": "x",
         "y": [
          17815.650390625,
          17364.865234375,
          16647.484375,
          16795.091796875,
          16757.9765625,
          16439.6796875,
          16906.3046875,
          16817.53515625,
          16830.341796875,
          16796.953125,
          16847.755859375,
          16841.986328125,
          16919.8046875,
          16717.173828125,
          16552.572265625,
          null,
          17090.653424877943,
          17158.14410135596,
          17216.30171433874,
          17271.83996617708,
          17329.793658294067,
          17390.515730649728,
          17449.501148266034,
          17512.18756322752,
          17574.473504227622,
          17636.374895156798,
          17697.061317011445,
          17756.77186581836,
          17814.815397197897,
          17871.6225692023,
          17924.713295311085,
          17973.724178083925,
          18024.569397968895,
          18074.505767748036,
          18123.379752596986,
          18171.153325314663,
          18217.845499501607,
          18263.500719449083,
          18308.13277001748,
          18351.8155665789,
          18394.595930124677,
          18436.52709873632,
          18477.651140005022,
          18518.00822016193,
          18557.638980778196,
          18596.57360594468
         ],
         "yaxis": "y"
        }
       ],
       "layout": {
        "font": {
         "color": "black",
         "size": 15
        },
        "legend": {
         "title": {
          "text": "Close Price"
         },
         "tracegroupgap": 0
        },
        "margin": {
         "t": 60
        },
        "plot_bgcolor": "white",
        "template": {
         "data": {
          "bar": [
           {
            "error_x": {
             "color": "#2a3f5f"
            },
            "error_y": {
             "color": "#2a3f5f"
            },
            "marker": {
             "line": {
              "color": "#E5ECF6",
              "width": 0.5
             },
             "pattern": {
              "fillmode": "overlay",
              "size": 10,
              "solidity": 0.2
             }
            },
            "type": "bar"
           }
          ],
          "barpolar": [
           {
            "marker": {
             "line": {
              "color": "#E5ECF6",
              "width": 0.5
             },
             "pattern": {
              "fillmode": "overlay",
              "size": 10,
              "solidity": 0.2
             }
            },
            "type": "barpolar"
           }
          ],
          "carpet": [
           {
            "aaxis": {
             "endlinecolor": "#2a3f5f",
             "gridcolor": "white",
             "linecolor": "white",
             "minorgridcolor": "white",
             "startlinecolor": "#2a3f5f"
            },
            "baxis": {
             "endlinecolor": "#2a3f5f",
             "gridcolor": "white",
             "linecolor": "white",
             "minorgridcolor": "white",
             "startlinecolor": "#2a3f5f"
            },
            "type": "carpet"
           }
          ],
          "choropleth": [
           {
            "colorbar": {
             "outlinewidth": 0,
             "ticks": ""
            },
            "type": "choropleth"
           }
          ],
          "contour": [
           {
            "colorbar": {
             "outlinewidth": 0,
             "ticks": ""
            },
            "colorscale": [
             [
              0,
              "#0d0887"
             ],
             [
              0.1111111111111111,
              "#46039f"
             ],
             [
              0.2222222222222222,
              "#7201a8"
             ],
             [
              0.3333333333333333,
              "#9c179e"
             ],
             [
              0.4444444444444444,
              "#bd3786"
             ],
             [
              0.5555555555555556,
              "#d8576b"
             ],
             [
              0.6666666666666666,
              "#ed7953"
             ],
             [
              0.7777777777777778,
              "#fb9f3a"
             ],
             [
              0.8888888888888888,
              "#fdca26"
             ],
             [
              1,
              "#f0f921"
             ]
            ],
            "type": "contour"
           }
          ],
          "contourcarpet": [
           {
            "colorbar": {
             "outlinewidth": 0,
             "ticks": ""
            },
            "type": "contourcarpet"
           }
          ],
          "heatmap": [
           {
            "colorbar": {
             "outlinewidth": 0,
             "ticks": ""
            },
            "colorscale": [
             [
              0,
              "#0d0887"
             ],
             [
              0.1111111111111111,
              "#46039f"
             ],
             [
              0.2222222222222222,
              "#7201a8"
             ],
             [
              0.3333333333333333,
              "#9c179e"
             ],
             [
              0.4444444444444444,
              "#bd3786"
             ],
             [
              0.5555555555555556,
              "#d8576b"
             ],
             [
              0.6666666666666666,
              "#ed7953"
             ],
             [
              0.7777777777777778,
              "#fb9f3a"
             ],
             [
              0.8888888888888888,
              "#fdca26"
             ],
             [
              1,
              "#f0f921"
             ]
            ],
            "type": "heatmap"
           }
          ],
          "heatmapgl": [
           {
            "colorbar": {
             "outlinewidth": 0,
             "ticks": ""
            },
            "colorscale": [
             [
              0,
              "#0d0887"
             ],
             [
              0.1111111111111111,
              "#46039f"
             ],
             [
              0.2222222222222222,
              "#7201a8"
             ],
             [
              0.3333333333333333,
              "#9c179e"
             ],
             [
              0.4444444444444444,
              "#bd3786"
             ],
             [
              0.5555555555555556,
              "#d8576b"
             ],
             [
              0.6666666666666666,
              "#ed7953"
             ],
             [
              0.7777777777777778,
              "#fb9f3a"
             ],
             [
              0.8888888888888888,
              "#fdca26"
             ],
             [
              1,
              "#f0f921"
             ]
            ],
            "type": "heatmapgl"
           }
          ],
          "histogram": [
           {
            "marker": {
             "pattern": {
              "fillmode": "overlay",
              "size": 10,
              "solidity": 0.2
             }
            },
            "type": "histogram"
           }
          ],
          "histogram2d": [
           {
            "colorbar": {
             "outlinewidth": 0,
             "ticks": ""
            },
            "colorscale": [
             [
              0,
              "#0d0887"
             ],
             [
              0.1111111111111111,
              "#46039f"
             ],
             [
              0.2222222222222222,
              "#7201a8"
             ],
             [
              0.3333333333333333,
              "#9c179e"
             ],
             [
              0.4444444444444444,
              "#bd3786"
             ],
             [
              0.5555555555555556,
              "#d8576b"
             ],
             [
              0.6666666666666666,
              "#ed7953"
             ],
             [
              0.7777777777777778,
              "#fb9f3a"
             ],
             [
              0.8888888888888888,
              "#fdca26"
             ],
             [
              1,
              "#f0f921"
             ]
            ],
            "type": "histogram2d"
           }
          ],
          "histogram2dcontour": [
           {
            "colorbar": {
             "outlinewidth": 0,
             "ticks": ""
            },
            "colorscale": [
             [
              0,
              "#0d0887"
             ],
             [
              0.1111111111111111,
              "#46039f"
             ],
             [
              0.2222222222222222,
              "#7201a8"
             ],
             [
              0.3333333333333333,
              "#9c179e"
             ],
             [
              0.4444444444444444,
              "#bd3786"
             ],
             [
              0.5555555555555556,
              "#d8576b"
             ],
             [
              0.6666666666666666,
              "#ed7953"
             ],
             [
              0.7777777777777778,
              "#fb9f3a"
             ],
             [
              0.8888888888888888,
              "#fdca26"
             ],
             [
              1,
              "#f0f921"
             ]
            ],
            "type": "histogram2dcontour"
           }
          ],
          "mesh3d": [
           {
            "colorbar": {
             "outlinewidth": 0,
             "ticks": ""
            },
            "type": "mesh3d"
           }
          ],
          "parcoords": [
           {
            "line": {
             "colorbar": {
              "outlinewidth": 0,
              "ticks": ""
             }
            },
            "type": "parcoords"
           }
          ],
          "pie": [
           {
            "automargin": true,
            "type": "pie"
           }
          ],
          "scatter": [
           {
            "fillpattern": {
             "fillmode": "overlay",
             "size": 10,
             "solidity": 0.2
            },
            "type": "scatter"
           }
          ],
          "scatter3d": [
           {
            "line": {
             "colorbar": {
              "outlinewidth": 0,
              "ticks": ""
             }
            },
            "marker": {
             "colorbar": {
              "outlinewidth": 0,
              "ticks": ""
             }
            },
            "type": "scatter3d"
           }
          ],
          "scattercarpet": [
           {
            "marker": {
             "colorbar": {
              "outlinewidth": 0,
              "ticks": ""
             }
            },
            "type": "scattercarpet"
           }
          ],
          "scattergeo": [
           {
            "marker": {
             "colorbar": {
              "outlinewidth": 0,
              "ticks": ""
             }
            },
            "type": "scattergeo"
           }
          ],
          "scattergl": [
           {
            "marker": {
             "colorbar": {
              "outlinewidth": 0,
              "ticks": ""
             }
            },
            "type": "scattergl"
           }
          ],
          "scattermapbox": [
           {
            "marker": {
             "colorbar": {
              "outlinewidth": 0,
              "ticks": ""
             }
            },
            "type": "scattermapbox"
           }
          ],
          "scatterpolar": [
           {
            "marker": {
             "colorbar": {
              "outlinewidth": 0,
              "ticks": ""
             }
            },
            "type": "scatterpolar"
           }
          ],
          "scatterpolargl": [
           {
            "marker": {
             "colorbar": {
              "outlinewidth": 0,
              "ticks": ""
             }
            },
            "type": "scatterpolargl"
           }
          ],
          "scatterternary": [
           {
            "marker": {
             "colorbar": {
              "outlinewidth": 0,
              "ticks": ""
             }
            },
            "type": "scatterternary"
           }
          ],
          "surface": [
           {
            "colorbar": {
             "outlinewidth": 0,
             "ticks": ""
            },
            "colorscale": [
             [
              0,
              "#0d0887"
             ],
             [
              0.1111111111111111,
              "#46039f"
             ],
             [
              0.2222222222222222,
              "#7201a8"
             ],
             [
              0.3333333333333333,
              "#9c179e"
             ],
             [
              0.4444444444444444,
              "#bd3786"
             ],
             [
              0.5555555555555556,
              "#d8576b"
             ],
             [
              0.6666666666666666,
              "#ed7953"
             ],
             [
              0.7777777777777778,
              "#fb9f3a"
             ],
             [
              0.8888888888888888,
              "#fdca26"
             ],
             [
              1,
              "#f0f921"
             ]
            ],
            "type": "surface"
           }
          ],
          "table": [
           {
            "cells": {
             "fill": {
              "color": "#EBF0F8"
             },
             "line": {
              "color": "white"
             }
            },
            "header": {
             "fill": {
              "color": "#C8D4E3"
             },
             "line": {
              "color": "white"
             }
            },
            "type": "table"
           }
          ]
         },
         "layout": {
          "annotationdefaults": {
           "arrowcolor": "#2a3f5f",
           "arrowhead": 0,
           "arrowwidth": 1
          },
          "autotypenumbers": "strict",
          "coloraxis": {
           "colorbar": {
            "outlinewidth": 0,
            "ticks": ""
           }
          },
          "colorscale": {
           "diverging": [
            [
             0,
             "#8e0152"
            ],
            [
             0.1,
             "#c51b7d"
            ],
            [
             0.2,
             "#de77ae"
            ],
            [
             0.3,
             "#f1b6da"
            ],
            [
             0.4,
             "#fde0ef"
            ],
            [
             0.5,
             "#f7f7f7"
            ],
            [
             0.6,
             "#e6f5d0"
            ],
            [
             0.7,
             "#b8e186"
            ],
            [
             0.8,
             "#7fbc41"
            ],
            [
             0.9,
             "#4d9221"
            ],
            [
             1,
             "#276419"
            ]
           ],
           "sequential": [
            [
             0,
             "#0d0887"
            ],
            [
             0.1111111111111111,
             "#46039f"
            ],
            [
             0.2222222222222222,
             "#7201a8"
            ],
            [
             0.3333333333333333,
             "#9c179e"
            ],
            [
             0.4444444444444444,
             "#bd3786"
            ],
            [
             0.5555555555555556,
             "#d8576b"
            ],
            [
             0.6666666666666666,
             "#ed7953"
            ],
            [
             0.7777777777777778,
             "#fb9f3a"
            ],
            [
             0.8888888888888888,
             "#fdca26"
            ],
            [
             1,
             "#f0f921"
            ]
           ],
           "sequentialminus": [
            [
             0,
             "#0d0887"
            ],
            [
             0.1111111111111111,
             "#46039f"
            ],
            [
             0.2222222222222222,
             "#7201a8"
            ],
            [
             0.3333333333333333,
             "#9c179e"
            ],
            [
             0.4444444444444444,
             "#bd3786"
            ],
            [
             0.5555555555555556,
             "#d8576b"
            ],
            [
             0.6666666666666666,
             "#ed7953"
            ],
            [
             0.7777777777777778,
             "#fb9f3a"
            ],
            [
             0.8888888888888888,
             "#fdca26"
            ],
            [
             1,
             "#f0f921"
            ]
           ]
          },
          "colorway": [
           "#636efa",
           "#EF553B",
           "#00cc96",
           "#ab63fa",
           "#FFA15A",
           "#19d3f3",
           "#FF6692",
           "#B6E880",
           "#FF97FF",
           "#FECB52"
          ],
          "font": {
           "color": "#2a3f5f"
          },
          "geo": {
           "bgcolor": "white",
           "lakecolor": "white",
           "landcolor": "#E5ECF6",
           "showlakes": true,
           "showland": true,
           "subunitcolor": "white"
          },
          "hoverlabel": {
           "align": "left"
          },
          "hovermode": "closest",
          "mapbox": {
           "style": "light"
          },
          "paper_bgcolor": "white",
          "plot_bgcolor": "#E5ECF6",
          "polar": {
           "angularaxis": {
            "gridcolor": "white",
            "linecolor": "white",
            "ticks": ""
           },
           "bgcolor": "#E5ECF6",
           "radialaxis": {
            "gridcolor": "white",
            "linecolor": "white",
            "ticks": ""
           }
          },
          "scene": {
           "xaxis": {
            "backgroundcolor": "#E5ECF6",
            "gridcolor": "white",
            "gridwidth": 2,
            "linecolor": "white",
            "showbackground": true,
            "ticks": "",
            "zerolinecolor": "white"
           },
           "yaxis": {
            "backgroundcolor": "#E5ECF6",
            "gridcolor": "white",
            "gridwidth": 2,
            "linecolor": "white",
            "showbackground": true,
            "ticks": "",
            "zerolinecolor": "white"
           },
           "zaxis": {
            "backgroundcolor": "#E5ECF6",
            "gridcolor": "white",
            "gridwidth": 2,
            "linecolor": "white",
            "showbackground": true,
            "ticks": "",
            "zerolinecolor": "white"
           }
          },
          "shapedefaults": {
           "line": {
            "color": "#2a3f5f"
           }
          },
          "ternary": {
           "aaxis": {
            "gridcolor": "white",
            "linecolor": "white",
            "ticks": ""
           },
           "baxis": {
            "gridcolor": "white",
            "linecolor": "white",
            "ticks": ""
           },
           "bgcolor": "#E5ECF6",
           "caxis": {
            "gridcolor": "white",
            "linecolor": "white",
            "ticks": ""
           }
          },
          "title": {
           "x": 0.05
          },
          "xaxis": {
           "automargin": true,
           "gridcolor": "white",
           "linecolor": "white",
           "ticks": "",
           "title": {
            "standoff": 15
           },
           "zerolinecolor": "white",
           "zerolinewidth": 2
          },
          "yaxis": {
           "automargin": true,
           "gridcolor": "white",
           "linecolor": "white",
           "ticks": "",
           "title": {
            "standoff": 15
           },
           "zerolinecolor": "white",
           "zerolinewidth": 2
          }
         }
        },
        "title": {
         "text": "Compare last 15 days vs next 30 days"
        },
        "xaxis": {
         "anchor": "y",
         "domain": [
          0,
          1
         ],
         "showgrid": false,
         "title": {
          "text": "Timestamp"
         }
        },
        "yaxis": {
         "anchor": "x",
         "domain": [
          0,
          1
         ],
         "showgrid": false,
         "title": {
          "text": "Price"
         }
        }
       }
      }
     },
     "metadata": {},
     "output_type": "display_data"
    }
   ],
   "source": [
    "temp_mat = np.empty((len(last_days)+pred_days+1,1))\n",
    "temp_mat[:] = np.nan\n",
    "temp_mat = temp_mat.reshape(1,-1).tolist()[0]\n",
    "\n",
    "last_original_days_value = temp_mat\n",
    "next_predicted_days_value = temp_mat\n",
    "\n",
    "last_original_days_value[0:time_step+1] = scaler.inverse_transform(closedf[len(closedf)-time_step:]).reshape(1,-1).tolist()[0]\n",
    "next_predicted_days_value[time_step+1:] = scaler.inverse_transform(np.array(lst_output).reshape(-1,1)).reshape(1,-1).tolist()[0]\n",
    "\n",
    "new_pred_plot = pd.DataFrame({\n",
    "    'last_original_days_value':last_original_days_value,\n",
    "    'next_predicted_days_value':next_predicted_days_value\n",
    "})\n",
    "\n",
    "names = cycle(['Last 15 days close price','Predicted next 30 days close price'])\n",
    "\n",
    "fig = px.line(new_pred_plot,x=new_pred_plot.index, y=[new_pred_plot['last_original_days_value'],\n",
    "                                                      new_pred_plot['next_predicted_days_value']],\n",
    "              labels={'value': 'Price','index': 'Timestamp'})\n",
    "fig.update_layout(title_text='Compare last 15 days vs next 30 days',\n",
    "                  plot_bgcolor='white', font_size=15, font_color='black',legend_title_text='Close Price')\n",
    "\n",
    "fig.for_each_trace(lambda t:  t.update(name = next(names)))\n",
    "fig.update_xaxes(showgrid=False)\n",
    "fig.update_yaxes(showgrid=False)\n",
    "fig.show()\n",
    "\n"
   ]
  },
  {
   "cell_type": "markdown",
   "id": "26c00a96",
   "metadata": {
    "papermill": {
     "duration": 0.269051,
     "end_time": "2021-08-25T15:26:34.140809",
     "exception": false,
     "start_time": "2021-08-25T15:26:33.871758",
     "status": "completed"
    },
    "tags": []
   },
   "source": [
    "- # Plotting entire Closing Stock Price with next 30 days period of prediction"
   ]
  },
  {
   "cell_type": "code",
   "execution_count": 70,
   "id": "13895bd3",
   "metadata": {},
   "outputs": [
    {
     "data": {
      "text/plain": [
       "[17815.650390625,\n",
       " 17364.865234375,\n",
       " 16647.484375,\n",
       " 16795.091796875,\n",
       " 16757.9765625,\n",
       " 16439.6796875,\n",
       " 16906.3046875,\n",
       " 16817.53515625,\n",
       " 16830.341796875,\n",
       " 16796.953125,\n",
       " 16847.755859375,\n",
       " 16841.986328125,\n",
       " 16919.8046875,\n",
       " 16717.173828125,\n",
       " 16552.572265625,\n",
       " nan,\n",
       " 17090.653424877943,\n",
       " 17158.14410135596,\n",
       " 17216.30171433874,\n",
       " 17271.83996617708,\n",
       " 17329.793658294067,\n",
       " 17390.515730649728,\n",
       " 17449.501148266034,\n",
       " 17512.18756322752,\n",
       " 17574.473504227622,\n",
       " 17636.374895156798,\n",
       " 17697.061317011445,\n",
       " 17756.77186581836,\n",
       " 17814.815397197897,\n",
       " 17871.6225692023,\n",
       " 17924.713295311085,\n",
       " 17973.724178083925,\n",
       " 18024.569397968895,\n",
       " 18074.505767748036,\n",
       " 18123.379752596986,\n",
       " 18171.153325314663,\n",
       " 18217.845499501607,\n",
       " 18263.500719449083,\n",
       " 18308.13277001748,\n",
       " 18351.8155665789,\n",
       " 18394.595930124677,\n",
       " 18436.52709873632,\n",
       " 18477.651140005022,\n",
       " 18518.00822016193,\n",
       " 18557.638980778196,\n",
       " 18596.57360594468]"
      ]
     },
     "execution_count": 70,
     "metadata": {},
     "output_type": "execute_result"
    }
   ],
   "source": [
    "next_predicted_days_value"
   ]
  }
 ],
 "metadata": {
  "kernelspec": {
   "display_name": "Python 3.10.6 64-bit",
   "language": "python",
   "name": "python3"
  },
  "language_info": {
   "codemirror_mode": {
    "name": "ipython",
    "version": 3
   },
   "file_extension": ".py",
   "mimetype": "text/x-python",
   "name": "python",
   "nbconvert_exporter": "python",
   "pygments_lexer": "ipython3",
   "version": "3.10.6"
  },
  "papermill": {
   "default_parameters": {},
   "duration": 78.989472,
   "end_time": "2021-08-25T15:26:37.833221",
   "environment_variables": {},
   "exception": null,
   "input_path": "__notebook__.ipynb",
   "output_path": "__notebook__.ipynb",
   "parameters": {},
   "start_time": "2021-08-25T15:25:18.843749",
   "version": "2.3.3"
  },
  "vscode": {
   "interpreter": {
    "hash": "2fb601f98628d10ac934d3ad0c7e38fe440f8fa5bc06c5a0f74051b06bc205b5"
   }
  }
 },
 "nbformat": 4,
 "nbformat_minor": 5
}
